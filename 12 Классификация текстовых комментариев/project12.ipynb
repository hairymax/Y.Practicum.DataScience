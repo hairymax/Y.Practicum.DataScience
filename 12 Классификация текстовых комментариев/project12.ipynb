{
 "cells": [
  {
   "cell_type": "markdown",
   "metadata": {
    "toc": true
   },
   "source": [
    "<h1>Содержание<span class=\"tocSkip\"></span></h1>\n",
    "<div class=\"toc\"><ul class=\"toc-item\"><li><span><a href=\"#Подготовка\" data-toc-modified-id=\"Подготовка-1\"><span class=\"toc-item-num\">1&nbsp;&nbsp;</span>Подготовка</a></span></li><li><span><a href=\"#Кросс-валидация\" data-toc-modified-id=\"Кросс-валидация-2\"><span class=\"toc-item-num\">2&nbsp;&nbsp;</span>Кросс-валидация</a></span><ul class=\"toc-item\"><li><span><a href=\"#Логистическая-регрессия\" data-toc-modified-id=\"Логистическая-регрессия-2.1\"><span class=\"toc-item-num\">2.1&nbsp;&nbsp;</span>Логистическая регрессия</a></span></li><li><span><a href=\"#Случайный-лес-с-градиентным-бустингом\" data-toc-modified-id=\"Случайный-лес-с-градиентным-бустингом-2.2\"><span class=\"toc-item-num\">2.2&nbsp;&nbsp;</span>Случайный лес с градиентным бустингом</a></span></li></ul></li><li><span><a href=\"#Обучение\" data-toc-modified-id=\"Обучение-3\"><span class=\"toc-item-num\">3&nbsp;&nbsp;</span>Обучение</a></span></li><li><span><a href=\"#Выводы\" data-toc-modified-id=\"Выводы-4\"><span class=\"toc-item-num\">4&nbsp;&nbsp;</span>Выводы</a></span></li></ul></div>"
   ]
  },
  {
   "cell_type": "markdown",
   "metadata": {},
   "source": [
    "# Проект для «Викишоп»"
   ]
  },
  {
   "cell_type": "markdown",
   "metadata": {},
   "source": [
    "Интернет-магазин «Викишоп» запускает новый сервис. Теперь пользователи могут редактировать и дополнять описания товаров, как в вики-сообществах. То есть клиенты предлагают свои правки и комментируют изменения других. Магазину нужен инструмент, который будет искать токсичные комментарии и отправлять их на модерацию. \n",
    "\n",
    "Обучите модель классифицировать комментарии на позитивные и негативные. В вашем распоряжении набор данных с разметкой о токсичности правок.\n",
    "\n",
    "Постройте модель со значением метрики качества *F1* не меньше 0.75. \n",
    "\n",
    "**Инструкция по выполнению проекта**\n",
    "\n",
    "1. Загрузите и подготовьте данные.\n",
    "2. Обучите разные модели. \n",
    "3. Сделайте выводы.\n",
    "\n",
    "Для выполнения проекта применять *BERT* необязательно, но вы можете попробовать.\n",
    "\n",
    "**Описание данных**\n",
    "\n",
    "Данные находятся в файле _toxic_comments.csv_. \n",
    "- `text` — текст комментария,\n",
    "- `toxic` — целевой признак."
   ]
  },
  {
   "cell_type": "markdown",
   "metadata": {},
   "source": [
    "## Подготовка"
   ]
  },
  {
   "cell_type": "code",
   "execution_count": 1,
   "metadata": {},
   "outputs": [
    {
     "name": "stderr",
     "output_type": "stream",
     "text": [
      "[nltk_data] Downloading package stopwords to\n",
      "[nltk_data]     C:\\Users\\hm\\AppData\\Roaming\\nltk_data...\n",
      "[nltk_data]   Package stopwords is already up-to-date!\n",
      "[nltk_data] Downloading package wordnet to\n",
      "[nltk_data]     C:\\Users\\hm\\AppData\\Roaming\\nltk_data...\n",
      "[nltk_data]   Package wordnet is already up-to-date!\n",
      "[nltk_data] Downloading package omw-1.4 to\n",
      "[nltk_data]     C:\\Users\\hm\\AppData\\Roaming\\nltk_data...\n",
      "[nltk_data]   Package omw-1.4 is already up-to-date!\n",
      "[nltk_data] Downloading package punkt to\n",
      "[nltk_data]     C:\\Users\\hm\\AppData\\Roaming\\nltk_data...\n",
      "[nltk_data]   Package punkt is already up-to-date!\n"
     ]
    }
   ],
   "source": [
    "# Библиотеки\n",
    "import time\n",
    "from tqdm.notebook import tqdm_notebook as tqdm\n",
    "\n",
    "import pandas as pd\n",
    "import seaborn as sns\n",
    "from matplotlib import pyplot as plt\n",
    "\n",
    "import nltk\n",
    "from nltk.corpus import stopwords\n",
    "from nltk.stem import WordNetLemmatizer, SnowballStemmer\n",
    "import re\n",
    "from sklearn.feature_extraction.text import CountVectorizer, TfidfVectorizer\n",
    "from sklearn.linear_model import LogisticRegression\n",
    "from sklearn.model_selection import train_test_split, GridSearchCV\n",
    "from sklearn.metrics import f1_score, auc, roc_curve\n",
    "from sklearn.pipeline import Pipeline\n",
    "from lightgbm import LGBMClassifier\n",
    "\n",
    "nltk.download('stopwords')\n",
    "nltk.download('wordnet')\n",
    "nltk.download('omw-1.4')\n",
    "nltk.download('punkt')\n",
    "stop_words = set(stopwords.words('english'))\n",
    "pd.set_option('display.max_colwidth', 280)\n",
    "\n",
    "RANDOM_STATE = 123"
   ]
  },
  {
   "cell_type": "markdown",
   "metadata": {},
   "source": [
    "Некоторые функции"
   ]
  },
  {
   "cell_type": "code",
   "execution_count": 2,
   "metadata": {},
   "outputs": [],
   "source": [
    "class hm:\n",
    "    def plot_value_counts(series, n_values=25, fillna='NONE', figwidth=10):\n",
    "        ''' Визуализация количества встречающихся значений в pd.Series\n",
    "\n",
    "        Параметры\n",
    "        ---\n",
    "        `series` : pd.Series - датафрейм\n",
    "        `column` : str - название столбца\n",
    "        `n_values` : int - максимальное количество значений для отображения на диаграмме\n",
    "        `fillna` : Any - значение, которым необходимо заполнить пропуски\n",
    "        '''\n",
    "        val_counts = series.fillna(fillna).value_counts()\n",
    "        bar_values = val_counts.values[:n_values]\n",
    "        bar_labels = val_counts.index[:n_values].astype('str')\n",
    "        plt.figure(figsize=(figwidth, 0.5*min(len(val_counts), n_values)))\n",
    "        ax = sns.barplot(x=bar_values, y=bar_labels)\n",
    "        ax.set(title='\"{}\" value counts ({} / {})'\n",
    "            .format(series.name, len(bar_labels), val_counts.shape[0]),\n",
    "            xlim=[0, 1.075*bar_values.max()]\n",
    "            )\n",
    "        plt.bar_label(ax.containers[0])\n",
    "        for i in range(len(bar_labels)):\n",
    "            if bar_labels[i] == fillna:\n",
    "                ax.patches[i].set_color('black')\n",
    "        plt.show()\n",
    "\n",
    "    def best_cv_models(grid, count):\n",
    "        ''' Выводит таблицу с показателями моделей, показавших наилучшие значения метрики на кроссвалидации.\n",
    "\n",
    "        Принимает  \n",
    "            : `grid` - результат GridSearchCV после fit(), \n",
    "            : `count` - количество лучших моделей для вывода\n",
    "        Возвращает : pd.DataFrame c параметрами моделей\n",
    "        '''\n",
    "\n",
    "        print('Estimator: {}'.format(grid.estimator))\n",
    "        print('Tested {} models. Splits: {}'.format(\n",
    "            len(grid.cv_results_['params']), grid.cv))\n",
    "        print('Best score = {}\\n'.format(grid.best_score_))\n",
    "        best_idx = grid.cv_results_['rank_test_score'].argsort()[:count]\n",
    "\n",
    "        results = {}\n",
    "        results['test score'] = grid.cv_results_['mean_test_score'][best_idx]\n",
    "        if 'mean_train_score' in grid.cv_results_.keys():\n",
    "            results['train score'] = grid.cv_results_['mean_train_score'][best_idx]\n",
    "        results['fit time, s'] = grid.cv_results_['mean_fit_time'][best_idx]\n",
    "        results['score time, s'] = grid.cv_results_['mean_score_time'][best_idx]\n",
    "\n",
    "        return pd.DataFrame(results).join(\n",
    "               pd.DataFrame([grid.cv_results_['params'][i] for i in best_idx]))\n",
    "\n",
    "    def roc_curve_plot(models, X_test, y_test, title='ROC Curve', labels=None, figsize=(10,8)):\n",
    "        ''' Функция построения ROC кривой для моделей из переданнойго словаря\n",
    "\n",
    "        Принимает:\n",
    "        '''\n",
    "\n",
    "        plt.figure(figsize=figsize)\n",
    "        for name, model in models.items():\n",
    "            pred = model.predict_proba(X_test)[:, 1]\n",
    "            fpr, tpr, thresholds = roc_curve(y_test, pred)\n",
    "            roc_auc = auc(fpr, tpr)\n",
    "            plt.title(title)\n",
    "            plt.plot(fpr, tpr, label='AUC = %0.4f (%s)' % (roc_auc, name))\n",
    "        plt.legend(loc='lower right')\n",
    "        plt.plot([0, 1], [0, 1], 'r--')\n",
    "        plt.grid()\n",
    "        plt.xlim([0, 1]), plt.ylim([0, 1])\n",
    "        plt.ylabel('True Positive Rate')\n",
    "        plt.xlabel('False Positive Rate')\n",
    "        plt.show()\n",
    "    \n",
    "    def test_model(model, X_train, X_test, y_train, y_test, score_func=None):\n",
    "        ''' \n",
    "        - Обучение модели `model` на выборках `X_train`, `y_train`\n",
    "        - Предсказание обученной модели на наборе `X_test`\n",
    "        - Вычисление метрики `score_func` на полученных предсказаниях и наборе `y_test`\n",
    "        \n",
    "        `score_func` : sklearn.metrics  \n",
    "\n",
    "        Возвращает score, время обучения, время пердсказаний и сами предсказания в виде словаря\n",
    "        '''\n",
    "        # обучение\n",
    "        t_beg = time.time()\n",
    "        model.fit(X_train, y_train)\n",
    "        time_fit = time.time() - t_beg\n",
    "        # предсказания\n",
    "        t_beg = time.time()\n",
    "        y_pred = model.predict(X_test)\n",
    "        time_predict = time.time() - t_beg\n",
    "        # метрика\n",
    "        score = score_func(y_test, y_pred)\n",
    "\n",
    "        return {'score test': score,\n",
    "                'fit time': time_fit,\n",
    "                'predict time': time_predict\n",
    "                }"
   ]
  },
  {
   "cell_type": "code",
   "execution_count": 3,
   "metadata": {},
   "outputs": [
    {
     "name": "stdout",
     "output_type": "stream",
     "text": [
      "<class 'pandas.core.frame.DataFrame'>\n",
      "RangeIndex: 159571 entries, 0 to 159570\n",
      "Data columns (total 2 columns):\n",
      " #   Column  Non-Null Count   Dtype \n",
      "---  ------  --------------   ----- \n",
      " 0   text    159571 non-null  object\n",
      " 1   toxic   159571 non-null  int64 \n",
      "dtypes: int64(1), object(1)\n",
      "memory usage: 2.4+ MB\n",
      "Duplicates count: 0\n"
     ]
    },
    {
     "data": {
      "image/png": "[encoded data removed]",
      "text/plain": [
       "<Figure size 720x72 with 1 Axes>"
      ]
     },
     "metadata": {
      "needs_background": "light"
     },
     "output_type": "display_data"
    }
   ],
   "source": [
    "df = pd.read_csv('../datasets/toxic_comments.csv')\n",
    "df.info()\n",
    "print('Duplicates count:', df['text'].duplicated().sum())\n",
    "hm.plot_value_counts(df['toxic'])"
   ]
  },
  {
   "cell_type": "markdown",
   "metadata": {},
   "source": [
    "Классы несбалансированы, поэтому для некоторых моделей необходимо будет их сбалансировать"
   ]
  },
  {
   "cell_type": "code",
   "execution_count": 4,
   "metadata": {},
   "outputs": [
    {
     "data": {
      "text/html": [
       "<div>\n",
       "<style scoped>\n",
       "    .dataframe tbody tr th:only-of-type {\n",
       "        vertical-align: middle;\n",
       "    }\n",
       "\n",
       "    .dataframe tbody tr th {\n",
       "        vertical-align: top;\n",
       "    }\n",
       "\n",
       "    .dataframe thead th {\n",
       "        text-align: right;\n",
       "    }\n",
       "</style>\n",
       "<table border=\"1\" class=\"dataframe\">\n",
       "  <thead>\n",
       "    <tr style=\"text-align: right;\">\n",
       "      <th></th>\n",
       "      <th>text</th>\n",
       "      <th>toxic</th>\n",
       "    </tr>\n",
       "  </thead>\n",
       "  <tbody>\n",
       "    <tr>\n",
       "      <th>132400</th>\n",
       "      <td>NATO names in bold. \\n\\nHi, regarding your valid correction to my edit on Tupolev Tu-160 regarding NATO names and  WP:AIR consensus. Please forgive my confusion, since Tupolev Tu-142, Tupolev Tu-16, Tupolev Tu-22, Tupolev Tu-85, Tupolev Tu-95 and Tupolev Tu-98 all use bold NA...</td>\n",
       "      <td>0</td>\n",
       "    </tr>\n",
       "    <tr>\n",
       "      <th>156797</th>\n",
       "      <td>In most cases the clips are adfunded. The application is only free for the end-user, not for companies which integrate the Clipgenerator as a subsystem on their websites for instance. So, the creation of clips is for free but not the commercial utilisation of the tool itself....</td>\n",
       "      <td>0</td>\n",
       "    </tr>\n",
       "    <tr>\n",
       "      <th>12196</th>\n",
       "      <td>\"== Expand ==\\nCould somebody with adequate knowledge on this subject please expand it? I'd also need clarification on the following facts:\\n Is this missile actually in development or is it something made uo by the press?\\n Was there any mention of the signing of agreement b...</td>\n",
       "      <td>0</td>\n",
       "    </tr>\n",
       "    <tr>\n",
       "      <th>102611</th>\n",
       "      <td>It has nothing to do with whether or not the edit is anonymous, or whether you take the edit seriously.  It's based on Wikipedia's definition of vandalism, which pretty blatantly states that any good faith effort to edit is not vandalism.  I fully agree the edit wasn't encycl...</td>\n",
       "      <td>0</td>\n",
       "    </tr>\n",
       "    <tr>\n",
       "      <th>149947</th>\n",
       "      <td>\"\\n\\n I'm too tired! \\n\\nI am way too tired to debate with Everyme right now and I am getting extremely tired of that user's high handed debating style.  (I.E. I know the rules way better then you so shut up and stay in your corner!)  So I am going to be quiet before I say so...</td>\n",
       "      <td>0</td>\n",
       "    </tr>\n",
       "    <tr>\n",
       "      <th>53218</th>\n",
       "      <td>Is it even one of the few instances, or just the one? If there were others, they should go in the See Also. See Alsos on recent events make me uncomfortable with their stretching for relevance.  (talk) 01:16, August 27, 2015 (UTC)</td>\n",
       "      <td>0</td>\n",
       "    </tr>\n",
       "    <tr>\n",
       "      <th>29874</th>\n",
       "      <td>for an idiot such as yourself</td>\n",
       "      <td>1</td>\n",
       "    </tr>\n",
       "    <tr>\n",
       "      <th>59517</th>\n",
       "      <td>Category:Phillip K. Dick \\n\\nhi there... you appeared to list this in Wikipedia:Categories for deletion, but there's no category to delete, it's a red link. If you did intentionally list this category, you need also to reformat so it appears as a title in the TOC, and sign it.</td>\n",
       "      <td>0</td>\n",
       "    </tr>\n",
       "  </tbody>\n",
       "</table>\n",
       "</div>"
      ],
      "text/plain": [
       "                                                                                                                                                                                                                                                                                           text  \\\n",
       "132400  NATO names in bold. \\n\\nHi, regarding your valid correction to my edit on Tupolev Tu-160 regarding NATO names and  WP:AIR consensus. Please forgive my confusion, since Tupolev Tu-142, Tupolev Tu-16, Tupolev Tu-22, Tupolev Tu-85, Tupolev Tu-95 and Tupolev Tu-98 all use bold NA...   \n",
       "156797  In most cases the clips are adfunded. The application is only free for the end-user, not for companies which integrate the Clipgenerator as a subsystem on their websites for instance. So, the creation of clips is for free but not the commercial utilisation of the tool itself....   \n",
       "12196   \"== Expand ==\\nCould somebody with adequate knowledge on this subject please expand it? I'd also need clarification on the following facts:\\n Is this missile actually in development or is it something made uo by the press?\\n Was there any mention of the signing of agreement b...   \n",
       "102611  It has nothing to do with whether or not the edit is anonymous, or whether you take the edit seriously.  It's based on Wikipedia's definition of vandalism, which pretty blatantly states that any good faith effort to edit is not vandalism.  I fully agree the edit wasn't encycl...   \n",
       "149947  \"\\n\\n I'm too tired! \\n\\nI am way too tired to debate with Everyme right now and I am getting extremely tired of that user's high handed debating style.  (I.E. I know the rules way better then you so shut up and stay in your corner!)  So I am going to be quiet before I say so...   \n",
       "53218                                                    Is it even one of the few instances, or just the one? If there were others, they should go in the See Also. See Alsos on recent events make me uncomfortable with their stretching for relevance.  (talk) 01:16, August 27, 2015 (UTC)   \n",
       "29874                                                                                                                                                                                                                                                             for an idiot such as yourself   \n",
       "59517     Category:Phillip K. Dick \\n\\nhi there... you appeared to list this in Wikipedia:Categories for deletion, but there's no category to delete, it's a red link. If you did intentionally list this category, you need also to reformat so it appears as a title in the TOC, and sign it.   \n",
       "\n",
       "        toxic  \n",
       "132400      0  \n",
       "156797      0  \n",
       "12196       0  \n",
       "102611      0  \n",
       "149947      0  \n",
       "53218       0  \n",
       "29874       1  \n",
       "59517       0  "
      ]
     },
     "execution_count": 4,
     "metadata": {},
     "output_type": "execute_result"
    }
   ],
   "source": [
    "df.sample(8)"
   ]
  },
  {
   "cell_type": "markdown",
   "metadata": {},
   "source": [
    "Реализуем функцию для предобработки текстовых комментариев:\n",
    "1. Приведём все комментарии к нижнему регистру\n",
    "2. Удалим знаки пунктуации, оставив только латинские буквы\n",
    "3. Разобъём каждый комментарий на отдельные слова\n",
    "    - Удалим стоп-слова\n",
    "    - Произведём лемматизацию слов\n",
    "4. Соберём слова обратно в предложение, разделив пробелами"
   ]
  },
  {
   "cell_type": "code",
   "execution_count": 5,
   "metadata": {},
   "outputs": [],
   "source": [
    "def text_preprocesing(text, stop_words=None, lemmatize=True, stemming=False):\n",
    "    words = re.sub(r'[^a-z]', ' ', text.lower()).split()\n",
    "    if stop_words:\n",
    "        words = [w for w in words if not w in stop_words]\n",
    "    if lemmatize:\n",
    "        wnl = WordNetLemmatizer()\n",
    "        words = [wnl.lemmatize(w) for w in words]\n",
    "    if stemming:\n",
    "        stm = SnowballStemmer('english')\n",
    "        words = [stm.stem(w) for w in words]\n",
    "    return ' '.join(words)"
   ]
  },
  {
   "cell_type": "markdown",
   "metadata": {},
   "source": [
    "Произведём предобработку и разделим данные на обучающую и тестовую выборки"
   ]
  },
  {
   "cell_type": "code",
   "execution_count": 6,
   "metadata": {},
   "outputs": [
    {
     "name": "stdout",
     "output_type": "stream",
     "text": [
      "CPU times: total: 25 s\n",
      "Wall time: 25.4 s\n"
     ]
    }
   ],
   "source": [
    "%%time\n",
    "corpus = df['text'].apply(text_preprocesing, stop_words=stop_words)\n",
    "\n",
    "X_train, X_test, y_train, y_test = (\n",
    "    train_test_split(corpus, df['toxic'], test_size=0.25, random_state=RANDOM_STATE))\n",
    "\n",
    "del corpus"
   ]
  },
  {
   "cell_type": "markdown",
   "metadata": {},
   "source": [
    "Посмотрим на размер признакового пространсва после векторизации:"
   ]
  },
  {
   "cell_type": "code",
   "execution_count": 7,
   "metadata": {},
   "outputs": [
    {
     "name": "stdout",
     "output_type": "stream",
     "text": [
      "n-gram range (1, 1) : features count = 133505\n",
      "n-gram range (2, 2) : features count = 2006158\n",
      "n-gram range (1, 2) : features count = 2139663\n"
     ]
    }
   ],
   "source": [
    "for r in [(1, 1), (2, 2), (1, 2)]:\n",
    "    print('n-gram range {} : features count = {}'\n",
    "          .format(r, TfidfVectorizer(ngram_range=r).fit_transform(X_train).shape[1]))"
   ]
  },
  {
   "cell_type": "markdown",
   "metadata": {},
   "source": [
    "При обучении на валидационной выборке ограничимся векторизацией отдельных слов, чтобы ускорить процесс обучения моделей и снизить объём используемой памяти.\n",
    "\n",
    "Также, ограничим порог значимости признака `min_df = 1e-5`"
   ]
  },
  {
   "cell_type": "markdown",
   "metadata": {},
   "source": [
    "## Кросс-валидация\n",
    "\n",
    "Зададим общие параметры для кроссвалидации моделей\n",
    "- метрика = `f1`\n",
    "- количество разбиений = 3\n",
    "\n",
    "Чтобы обеспечить \"честное\" тестирование и запускать векторизацию только на обучающей выборке, построим для каждой модели пайплайн. Иначе в модели будут учтены частоты слов из тестовой выборки."
   ]
  },
  {
   "cell_type": "code",
   "execution_count": 8,
   "metadata": {},
   "outputs": [],
   "source": [
    "cv_params = {'scoring': 'f1',\n",
    "             'return_train_score': True,\n",
    "             'cv': 3}"
   ]
  },
  {
   "cell_type": "markdown",
   "metadata": {},
   "source": [
    "### Логистическая регрессия"
   ]
  },
  {
   "cell_type": "code",
   "execution_count": 9,
   "metadata": {},
   "outputs": [
    {
     "name": "stdout",
     "output_type": "stream",
     "text": [
      "Estimator: Pipeline(steps=[('vct', TfidfVectorizer(min_df=1e-05)),\n",
      "                ('clf',\n",
      "                 LogisticRegression(class_weight='balanced', max_iter=500,\n",
      "                                    random_state=123))])\n",
      "Tested 6 models. Splits: 3\n",
      "Best score = 0.7650858659720873\n",
      "\n",
      "CPU times: total: 30.3 s\n",
      "Wall time: 30.8 s\n"
     ]
    },
    {
     "data": {
      "text/html": [
       "<div>\n",
       "<style scoped>\n",
       "    .dataframe tbody tr th:only-of-type {\n",
       "        vertical-align: middle;\n",
       "    }\n",
       "\n",
       "    .dataframe tbody tr th {\n",
       "        vertical-align: top;\n",
       "    }\n",
       "\n",
       "    .dataframe thead th {\n",
       "        text-align: right;\n",
       "    }\n",
       "</style>\n",
       "<table border=\"1\" class=\"dataframe\">\n",
       "  <thead>\n",
       "    <tr style=\"text-align: right;\">\n",
       "      <th></th>\n",
       "      <th>test score</th>\n",
       "      <th>train score</th>\n",
       "      <th>fit time, s</th>\n",
       "      <th>score time, s</th>\n",
       "      <th>clf__C</th>\n",
       "      <th>clf__solver</th>\n",
       "    </tr>\n",
       "  </thead>\n",
       "  <tbody>\n",
       "    <tr>\n",
       "      <th>0</th>\n",
       "      <td>0.765086</td>\n",
       "      <td>0.929914</td>\n",
       "      <td>12.493668</td>\n",
       "      <td>1.695969</td>\n",
       "      <td>10.0</td>\n",
       "      <td>lbfgs</td>\n",
       "    </tr>\n",
       "    <tr>\n",
       "      <th>1</th>\n",
       "      <td>0.765068</td>\n",
       "      <td>0.929879</td>\n",
       "      <td>5.972629</td>\n",
       "      <td>1.449563</td>\n",
       "      <td>10.0</td>\n",
       "      <td>liblinear</td>\n",
       "    </tr>\n",
       "    <tr>\n",
       "      <th>2</th>\n",
       "      <td>0.747829</td>\n",
       "      <td>0.847238</td>\n",
       "      <td>7.063677</td>\n",
       "      <td>2.564332</td>\n",
       "      <td>1.0</td>\n",
       "      <td>liblinear</td>\n",
       "    </tr>\n",
       "    <tr>\n",
       "      <th>3</th>\n",
       "      <td>0.747811</td>\n",
       "      <td>0.847203</td>\n",
       "      <td>8.938337</td>\n",
       "      <td>2.457663</td>\n",
       "      <td>1.0</td>\n",
       "      <td>lbfgs</td>\n",
       "    </tr>\n",
       "    <tr>\n",
       "      <th>4</th>\n",
       "      <td>0.708487</td>\n",
       "      <td>0.746844</td>\n",
       "      <td>6.307671</td>\n",
       "      <td>2.611998</td>\n",
       "      <td>0.1</td>\n",
       "      <td>lbfgs</td>\n",
       "    </tr>\n",
       "    <tr>\n",
       "      <th>5</th>\n",
       "      <td>0.708315</td>\n",
       "      <td>0.746723</td>\n",
       "      <td>5.758669</td>\n",
       "      <td>2.803336</td>\n",
       "      <td>0.1</td>\n",
       "      <td>liblinear</td>\n",
       "    </tr>\n",
       "  </tbody>\n",
       "</table>\n",
       "</div>"
      ],
      "text/plain": [
       "   test score  train score  fit time, s  score time, s  clf__C clf__solver\n",
       "0    0.765086     0.929914    12.493668       1.695969    10.0       lbfgs\n",
       "1    0.765068     0.929879     5.972629       1.449563    10.0   liblinear\n",
       "2    0.747829     0.847238     7.063677       2.564332     1.0   liblinear\n",
       "3    0.747811     0.847203     8.938337       2.457663     1.0       lbfgs\n",
       "4    0.708487     0.746844     6.307671       2.611998     0.1       lbfgs\n",
       "5    0.708315     0.746723     5.758669       2.803336     0.1   liblinear"
      ]
     },
     "execution_count": 9,
     "metadata": {},
     "output_type": "execute_result"
    }
   ],
   "source": [
    "%%time\n",
    "pipe = Pipeline([('vct', TfidfVectorizer(min_df=1e-5)),\n",
    "                 ('clf', LogisticRegression(class_weight='balanced', \n",
    "                                            random_state=RANDOM_STATE, \n",
    "                                            max_iter=500))\n",
    "                ])\n",
    "params = {'clf__solver': ['lbfgs', 'liblinear'],\n",
    "          'clf__C': [0.1, 1, 10]\n",
    "         } \n",
    "grid_lr = GridSearchCV(pipe, params, **cv_params, n_jobs=-1)\n",
    "grid_lr.fit(X_train, y_train)\n",
    "hm.best_cv_models(grid_lr, 10)"
   ]
  },
  {
   "cell_type": "markdown",
   "metadata": {},
   "source": [
    "- решатель `liblinear` предпочтительнее, поскольку работает быстрее, выдавая практически такой же скор\n",
    "- C большими значениями параметра регуляризации `C` модель склонна к переобучению"
   ]
  },
  {
   "cell_type": "code",
   "execution_count": 10,
   "metadata": {},
   "outputs": [
    {
     "name": "stdout",
     "output_type": "stream",
     "text": [
      "Estimator: Pipeline(steps=[('vct', TfidfVectorizer(min_df=1e-05)),\n",
      "                ('clf',\n",
      "                 LogisticRegression(class_weight='balanced', max_iter=500,\n",
      "                                    random_state=123, solver='liblinear'))])\n",
      "Tested 4 models. Splits: 3\n",
      "Best score = 0.7811041402627422\n",
      "\n",
      "CPU times: total: 35.9 s\n",
      "Wall time: 51 s\n"
     ]
    },
    {
     "data": {
      "text/html": [
       "<div>\n",
       "<style scoped>\n",
       "    .dataframe tbody tr th:only-of-type {\n",
       "        vertical-align: middle;\n",
       "    }\n",
       "\n",
       "    .dataframe tbody tr th {\n",
       "        vertical-align: top;\n",
       "    }\n",
       "\n",
       "    .dataframe thead th {\n",
       "        text-align: right;\n",
       "    }\n",
       "</style>\n",
       "<table border=\"1\" class=\"dataframe\">\n",
       "  <thead>\n",
       "    <tr style=\"text-align: right;\">\n",
       "      <th></th>\n",
       "      <th>test score</th>\n",
       "      <th>train score</th>\n",
       "      <th>fit time, s</th>\n",
       "      <th>score time, s</th>\n",
       "      <th>clf__C</th>\n",
       "      <th>vct__ngram_range</th>\n",
       "    </tr>\n",
       "  </thead>\n",
       "  <tbody>\n",
       "    <tr>\n",
       "      <th>0</th>\n",
       "      <td>0.781104</td>\n",
       "      <td>0.988857</td>\n",
       "      <td>27.104000</td>\n",
       "      <td>3.110334</td>\n",
       "      <td>10</td>\n",
       "      <td>(1, 2)</td>\n",
       "    </tr>\n",
       "    <tr>\n",
       "      <th>1</th>\n",
       "      <td>0.765068</td>\n",
       "      <td>0.929879</td>\n",
       "      <td>5.892669</td>\n",
       "      <td>1.821665</td>\n",
       "      <td>10</td>\n",
       "      <td>(1, 1)</td>\n",
       "    </tr>\n",
       "    <tr>\n",
       "      <th>2</th>\n",
       "      <td>0.747829</td>\n",
       "      <td>0.847238</td>\n",
       "      <td>4.699003</td>\n",
       "      <td>1.938996</td>\n",
       "      <td>1</td>\n",
       "      <td>(1, 1)</td>\n",
       "    </tr>\n",
       "    <tr>\n",
       "      <th>3</th>\n",
       "      <td>0.746663</td>\n",
       "      <td>0.915041</td>\n",
       "      <td>23.613332</td>\n",
       "      <td>3.966669</td>\n",
       "      <td>1</td>\n",
       "      <td>(1, 2)</td>\n",
       "    </tr>\n",
       "  </tbody>\n",
       "</table>\n",
       "</div>"
      ],
      "text/plain": [
       "   test score  train score  fit time, s  score time, s  clf__C  \\\n",
       "0    0.781104     0.988857    27.104000       3.110334      10   \n",
       "1    0.765068     0.929879     5.892669       1.821665      10   \n",
       "2    0.747829     0.847238     4.699003       1.938996       1   \n",
       "3    0.746663     0.915041    23.613332       3.966669       1   \n",
       "\n",
       "  vct__ngram_range  \n",
       "0           (1, 2)  \n",
       "1           (1, 1)  \n",
       "2           (1, 1)  \n",
       "3           (1, 2)  "
      ]
     },
     "execution_count": 10,
     "metadata": {},
     "output_type": "execute_result"
    }
   ],
   "source": [
    "%%time\n",
    "pipe = Pipeline([('vct', TfidfVectorizer(min_df=1e-5)),\n",
    "                 ('clf', LogisticRegression(class_weight='balanced',\n",
    "                                            random_state=RANDOM_STATE,\n",
    "                                            solver='liblinear',\n",
    "                                            max_iter=500))\n",
    "                ])\n",
    "params = {'vct__ngram_range': [(1, 1), (1, 2)], \n",
    "          'clf__C': [1, 10]\n",
    "          }\n",
    "grid_lr = GridSearchCV(pipe, params, **cv_params, n_jobs=-1)\n",
    "grid_lr.fit(X_train, y_train)\n",
    "hm.best_cv_models(grid_lr, 10)"
   ]
  },
  {
   "cell_type": "markdown",
   "metadata": {},
   "source": [
    "Использование векторизации на N-граммах позволяет поднять скор. Однако переобучение на таком большом количестве признаков ещё сильнее\n"
   ]
  },
  {
   "cell_type": "markdown",
   "metadata": {},
   "source": [
    "### Случайный лес с градиентным бустингом\n",
    "\n",
    "Воспользуемся классификатором LightGBM"
   ]
  },
  {
   "cell_type": "code",
   "execution_count": 11,
   "metadata": {},
   "outputs": [
    {
     "name": "stdout",
     "output_type": "stream",
     "text": [
      "Estimator: Pipeline(steps=[('vct', TfidfVectorizer(min_df=1e-05)),\n",
      "                ('clf', LGBMClassifier(random_state=123))])\n",
      "Tested 36 models. Splits: 3\n",
      "Best score = 0.7751680504275065\n",
      "\n",
      "CPU times: total: 5h 59min 26s\n",
      "Wall time: 36min 59s\n"
     ]
    },
    {
     "data": {
      "text/html": [
       "<div>\n",
       "<style scoped>\n",
       "    .dataframe tbody tr th:only-of-type {\n",
       "        vertical-align: middle;\n",
       "    }\n",
       "\n",
       "    .dataframe tbody tr th {\n",
       "        vertical-align: top;\n",
       "    }\n",
       "\n",
       "    .dataframe thead th {\n",
       "        text-align: right;\n",
       "    }\n",
       "</style>\n",
       "<table border=\"1\" class=\"dataframe\">\n",
       "  <thead>\n",
       "    <tr style=\"text-align: right;\">\n",
       "      <th></th>\n",
       "      <th>test score</th>\n",
       "      <th>train score</th>\n",
       "      <th>fit time, s</th>\n",
       "      <th>score time, s</th>\n",
       "      <th>clf__learning_rate</th>\n",
       "      <th>clf__max_depth</th>\n",
       "      <th>clf__n_estimators</th>\n",
       "      <th>clf__num_leaves</th>\n",
       "    </tr>\n",
       "  </thead>\n",
       "  <tbody>\n",
       "    <tr>\n",
       "      <th>0</th>\n",
       "      <td>0.775168</td>\n",
       "      <td>0.909754</td>\n",
       "      <td>13.558183</td>\n",
       "      <td>1.265667</td>\n",
       "      <td>0.2</td>\n",
       "      <td>50</td>\n",
       "      <td>100</td>\n",
       "      <td>60</td>\n",
       "    </tr>\n",
       "    <tr>\n",
       "      <th>1</th>\n",
       "      <td>0.774716</td>\n",
       "      <td>0.950628</td>\n",
       "      <td>19.740758</td>\n",
       "      <td>1.398691</td>\n",
       "      <td>0.2</td>\n",
       "      <td>60</td>\n",
       "      <td>200</td>\n",
       "      <td>50</td>\n",
       "    </tr>\n",
       "    <tr>\n",
       "      <th>2</th>\n",
       "      <td>0.774716</td>\n",
       "      <td>0.950628</td>\n",
       "      <td>19.196881</td>\n",
       "      <td>1.421511</td>\n",
       "      <td>0.2</td>\n",
       "      <td>50</td>\n",
       "      <td>200</td>\n",
       "      <td>50</td>\n",
       "    </tr>\n",
       "    <tr>\n",
       "      <th>3</th>\n",
       "      <td>0.774603</td>\n",
       "      <td>0.930613</td>\n",
       "      <td>16.846298</td>\n",
       "      <td>1.379182</td>\n",
       "      <td>0.2</td>\n",
       "      <td>40</td>\n",
       "      <td>200</td>\n",
       "      <td>40</td>\n",
       "    </tr>\n",
       "    <tr>\n",
       "      <th>4</th>\n",
       "      <td>0.774603</td>\n",
       "      <td>0.930613</td>\n",
       "      <td>17.572667</td>\n",
       "      <td>1.378641</td>\n",
       "      <td>0.2</td>\n",
       "      <td>60</td>\n",
       "      <td>200</td>\n",
       "      <td>40</td>\n",
       "    </tr>\n",
       "    <tr>\n",
       "      <th>5</th>\n",
       "      <td>0.774603</td>\n",
       "      <td>0.930613</td>\n",
       "      <td>16.805258</td>\n",
       "      <td>1.356840</td>\n",
       "      <td>0.2</td>\n",
       "      <td>50</td>\n",
       "      <td>200</td>\n",
       "      <td>40</td>\n",
       "    </tr>\n",
       "    <tr>\n",
       "      <th>6</th>\n",
       "      <td>0.774204</td>\n",
       "      <td>0.950457</td>\n",
       "      <td>18.807334</td>\n",
       "      <td>1.383840</td>\n",
       "      <td>0.2</td>\n",
       "      <td>40</td>\n",
       "      <td>200</td>\n",
       "      <td>50</td>\n",
       "    </tr>\n",
       "    <tr>\n",
       "      <th>7</th>\n",
       "      <td>0.774089</td>\n",
       "      <td>0.963418</td>\n",
       "      <td>22.524400</td>\n",
       "      <td>1.475997</td>\n",
       "      <td>0.2</td>\n",
       "      <td>50</td>\n",
       "      <td>200</td>\n",
       "      <td>60</td>\n",
       "    </tr>\n",
       "    <tr>\n",
       "      <th>8</th>\n",
       "      <td>0.773862</td>\n",
       "      <td>0.963660</td>\n",
       "      <td>22.283341</td>\n",
       "      <td>1.500012</td>\n",
       "      <td>0.2</td>\n",
       "      <td>60</td>\n",
       "      <td>200</td>\n",
       "      <td>60</td>\n",
       "    </tr>\n",
       "    <tr>\n",
       "      <th>9</th>\n",
       "      <td>0.773092</td>\n",
       "      <td>0.889857</td>\n",
       "      <td>12.054666</td>\n",
       "      <td>1.254758</td>\n",
       "      <td>0.2</td>\n",
       "      <td>50</td>\n",
       "      <td>100</td>\n",
       "      <td>50</td>\n",
       "    </tr>\n",
       "  </tbody>\n",
       "</table>\n",
       "</div>"
      ],
      "text/plain": [
       "   test score  train score  fit time, s  score time, s  clf__learning_rate  \\\n",
       "0    0.775168     0.909754    13.558183       1.265667                 0.2   \n",
       "1    0.774716     0.950628    19.740758       1.398691                 0.2   \n",
       "2    0.774716     0.950628    19.196881       1.421511                 0.2   \n",
       "3    0.774603     0.930613    16.846298       1.379182                 0.2   \n",
       "4    0.774603     0.930613    17.572667       1.378641                 0.2   \n",
       "5    0.774603     0.930613    16.805258       1.356840                 0.2   \n",
       "6    0.774204     0.950457    18.807334       1.383840                 0.2   \n",
       "7    0.774089     0.963418    22.524400       1.475997                 0.2   \n",
       "8    0.773862     0.963660    22.283341       1.500012                 0.2   \n",
       "9    0.773092     0.889857    12.054666       1.254758                 0.2   \n",
       "\n",
       "   clf__max_depth  clf__n_estimators  clf__num_leaves  \n",
       "0              50                100               60  \n",
       "1              60                200               50  \n",
       "2              50                200               50  \n",
       "3              40                200               40  \n",
       "4              60                200               40  \n",
       "5              50                200               40  \n",
       "6              40                200               50  \n",
       "7              50                200               60  \n",
       "8              60                200               60  \n",
       "9              50                100               50  "
      ]
     },
     "execution_count": 11,
     "metadata": {},
     "output_type": "execute_result"
    }
   ],
   "source": [
    "%%time\n",
    "pipe = Pipeline([('vct', TfidfVectorizer(min_df=1e-5)),\n",
    "                 ('clf', LGBMClassifier(random_state=RANDOM_STATE))])\n",
    "\n",
    "params = {'clf__max_depth': [40, 50, 60],\n",
    "          'clf__learning_rate': [0.1, 0.2],\n",
    "          'clf__num_leaves': [40, 50, 60],\n",
    "          'clf__n_estimators': [100, 200]\n",
    "         }\n",
    "grid_lgbm = GridSearchCV(pipe, params, **cv_params)\n",
    "grid_lgbm.fit(X_train, y_train)\n",
    "hm.best_cv_models(grid_lgbm, 10)"
   ]
  },
  {
   "cell_type": "markdown",
   "metadata": {},
   "source": [
    "На признаках векторизированных по отдельным словам лес LightGBM обучается дольше. Однако менее склонен к  переобучению\n"
   ]
  },
  {
   "cell_type": "markdown",
   "metadata": {},
   "source": [
    "## Обучение"
   ]
  },
  {
   "cell_type": "markdown",
   "metadata": {},
   "source": [
    "Обучим подобранные модели на тренировочном датасете. \n",
    "\n",
    "Лес также обучим на датасете, векторизированном на биграммах"
   ]
  },
  {
   "cell_type": "code",
   "execution_count": 21,
   "metadata": {},
   "outputs": [],
   "source": [
    "best_lr = grid_lr.best_estimator_\n",
    "lgbm_unigram = grid_lgbm.best_estimator_\n",
    "lgbm_bigram = Pipeline([('vct', TfidfVectorizer(min_df=1e-5, ngram_range=(1,2))),\n",
    "                        ('clf', LGBMClassifier(random_state=RANDOM_STATE,\n",
    "                                               max_depth=50, learning_rate=0.2,\n",
    "                                               num_leaves=60, n_estimators=100))\n",
    "                        ])\n",
    "models = {'LogisticRegression': best_lr,\n",
    "          'LightGBM unigram': lgbm_unigram, 'LightGBM bigram': lgbm_bigram}"
   ]
  },
  {
   "cell_type": "code",
   "execution_count": 22,
   "metadata": {},
   "outputs": [
    {
     "data": {
      "application/vnd.jupyter.widget-view+json": {
       "model_id": "f013fd89503e446585e68b7287278da3",
       "version_major": 2,
       "version_minor": 0
      },
      "text/plain": [
       "  0%|          | 0/3 [00:00<?, ?it/s]"
      ]
     },
     "metadata": {},
     "output_type": "display_data"
    },
    {
     "data": {
      "image/png": "[encoded data removed]",
      "text/plain": [
       "<Figure size 720x576 with 1 Axes>"
      ]
     },
     "metadata": {
      "needs_background": "light"
     },
     "output_type": "display_data"
    },
    {
     "data": {
      "text/html": [
       "<div>\n",
       "<style scoped>\n",
       "    .dataframe tbody tr th:only-of-type {\n",
       "        vertical-align: middle;\n",
       "    }\n",
       "\n",
       "    .dataframe tbody tr th {\n",
       "        vertical-align: top;\n",
       "    }\n",
       "\n",
       "    .dataframe thead th {\n",
       "        text-align: right;\n",
       "    }\n",
       "</style>\n",
       "<table border=\"1\" class=\"dataframe\">\n",
       "  <thead>\n",
       "    <tr style=\"text-align: right;\">\n",
       "      <th></th>\n",
       "      <th>LogisticRegression</th>\n",
       "      <th>LightGBM unigram</th>\n",
       "      <th>LightGBM bigram</th>\n",
       "    </tr>\n",
       "  </thead>\n",
       "  <tbody>\n",
       "    <tr>\n",
       "      <th>score test</th>\n",
       "      <td>0.785697</td>\n",
       "      <td>0.785835</td>\n",
       "      <td>0.791620</td>\n",
       "    </tr>\n",
       "    <tr>\n",
       "      <th>fit time</th>\n",
       "      <td>13.086999</td>\n",
       "      <td>17.755000</td>\n",
       "      <td>34.861000</td>\n",
       "    </tr>\n",
       "    <tr>\n",
       "      <th>predict time</th>\n",
       "      <td>2.285003</td>\n",
       "      <td>1.183000</td>\n",
       "      <td>2.601999</td>\n",
       "    </tr>\n",
       "  </tbody>\n",
       "</table>\n",
       "</div>"
      ],
      "text/plain": [
       "              LogisticRegression  LightGBM unigram  LightGBM bigram\n",
       "score test              0.785697          0.785835         0.791620\n",
       "fit time               13.086999         17.755000        34.861000\n",
       "predict time            2.285003          1.183000         2.601999"
      ]
     },
     "execution_count": 22,
     "metadata": {},
     "output_type": "execute_result"
    }
   ],
   "source": [
    "scores_table = {}\n",
    "for name, model in tqdm(models.items()):\n",
    "    scores_table[name] = hm.test_model(\n",
    "        model, X_train, X_test, y_train, y_test, f1_score)\n",
    "\n",
    "hm.roc_curve_plot(models, X_test, y_test)\n",
    "pd.DataFrame(scores_table)"
   ]
  },
  {
   "cell_type": "markdown",
   "metadata": {},
   "source": [
    "## Выводы"
   ]
  },
  {
   "cell_type": "markdown",
   "metadata": {},
   "source": [
    "Текстовые данные подготовлены очисткой от знаков пунктуации, приведением к нижнему регистру, лемматизацией слов\n",
    "\n",
    "На всех рассмотренных моделях получено требуемое значение `f1`-метрики.\n",
    "\n",
    "Лучше всего показывают себя модели, обученные на датасете с N-граммами (в нашем случае были рассмотрены пары слов)\n",
    "\n",
    "Наибольшая площадь под ROC-кривой у модели логистической регрессии, обученной на данных векторизированных на униграммах и биграммах\n",
    "\n",
    "Наивысшее значение метрики у классификатора LightGBM, обученного на данных векторизированных на униграммах и биграммах. Однако обучается такая модель в 2 раза дольше, чем на данных векторизированных только на униграммах"
   ]
  }
 ],
 "metadata": {
  "interpreter": {
   "hash": "58656f4d27507c1cf066d160953941131aeedc5e8ddd25f7cf3d9165a5f5fe3d"
  },
  "kernelspec": {
   "display_name": "Python 3 (ipykernel)",
   "language": "python",
   "name": "python3"
  },
  "language_info": {
   "codemirror_mode": {
    "name": "ipython",
    "version": 3
   },
   "file_extension": ".py",
   "mimetype": "text/x-python",
   "name": "python",
   "nbconvert_exporter": "python",
   "pygments_lexer": "ipython3",
   "version": "3.9.10"
  },
  "toc": {
   "base_numbering": 1,
   "nav_menu": {},
   "number_sections": true,
   "sideBar": true,
   "skip_h1_title": true,
   "title_cell": "Содержание",
   "title_sidebar": "Contents",
   "toc_cell": true,
   "toc_position": {
    "height": "calc(100% - 180px)",
    "left": "10px",
    "top": "150px",
    "width": "302.391px"
   },
   "toc_section_display": true,
   "toc_window_display": false
  }
 },
 "nbformat": 4,
 "nbformat_minor": 2
}
