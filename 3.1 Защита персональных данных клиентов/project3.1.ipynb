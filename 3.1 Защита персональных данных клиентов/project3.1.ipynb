{
 "cells": [
  {
   "cell_type": "markdown",
   "metadata": {},
   "source": [
    "# Защита персональных данных клиентов"
   ]
  },
  {
   "cell_type": "markdown",
   "metadata": {},
   "source": [
    "Вам нужно защитить данные клиентов страховой компании «Хоть потоп». Разработайте такой метод преобразования данных, чтобы по ним было сложно восстановить персональную информацию. Обоснуйте корректность его работы.\n",
    "\n",
    "Нужно защитить данные, чтобы при преобразовании качество моделей машинного обучения не ухудшилось. Подбирать наилучшую модель не требуется."
   ]
  },
  {
   "cell_type": "markdown",
   "metadata": {
    "toc": true
   },
   "source": [
    "<h1>Содержание<span class=\"tocSkip\"></span></h1>\n",
    "<div class=\"toc\"><ul class=\"toc-item\"><li><span><a href=\"#Описание-данных\" data-toc-modified-id=\"Описание-данных-1\"><span class=\"toc-item-num\">1&nbsp;&nbsp;</span>Описание данных</a></span></li><li><span><a href=\"#Загрузка-данных\" data-toc-modified-id=\"Загрузка-данных-2\"><span class=\"toc-item-num\">2&nbsp;&nbsp;</span>Загрузка данных</a></span></li><li><span><a href=\"#Умножение-матриц\" data-toc-modified-id=\"Умножение-матриц-3\"><span class=\"toc-item-num\">3&nbsp;&nbsp;</span>Умножение матриц</a></span></li><li><span><a href=\"#Алгоритм-преобразования\" data-toc-modified-id=\"Алгоритм-преобразования-4\"><span class=\"toc-item-num\">4&nbsp;&nbsp;</span>Алгоритм преобразования</a></span></li><li><span><a href=\"#Проверка-алгоритма\" data-toc-modified-id=\"Проверка-алгоритма-5\"><span class=\"toc-item-num\">5&nbsp;&nbsp;</span>Проверка алгоритма</a></span></li><li><span><a href=\"#Вывод\" data-toc-modified-id=\"Вывод-6\"><span class=\"toc-item-num\">6&nbsp;&nbsp;</span>Вывод</a></span></li><li><span><a href=\"#Чек-лист-проверки\" data-toc-modified-id=\"Чек-лист-проверки-7\"><span class=\"toc-item-num\">7&nbsp;&nbsp;</span>Чек-лист проверки</a></span></li></ul></div>"
   ]
  },
  {
   "cell_type": "markdown",
   "metadata": {},
   "source": [
    "## Описание данных\n",
    "\n",
    "- **Признаки**: пол, возраст и зарплата застрахованного, количество членов его семьи.\n",
    "- **Целевой признак**: количество страховых выплат клиенту за последние 5 лет."
   ]
  },
  {
   "cell_type": "code",
   "execution_count": 1,
   "metadata": {},
   "outputs": [],
   "source": [
    "import pandas as pd\n",
    "import numpy as np\n",
    "\n",
    "from sklearn.model_selection import train_test_split\n",
    "from sklearn.linear_model import LinearRegression\n",
    "\n",
    "RANDOM_STATE = 123"
   ]
  },
  {
   "cell_type": "markdown",
   "metadata": {},
   "source": [
    "## Загрузка данных"
   ]
  },
  {
   "cell_type": "code",
   "execution_count": 2,
   "metadata": {},
   "outputs": [
    {
     "name": "stdout",
     "output_type": "stream",
     "text": [
      "<class 'pandas.core.frame.DataFrame'>\n",
      "RangeIndex: 5000 entries, 0 to 4999\n",
      "Data columns (total 5 columns):\n",
      " #   Column             Non-Null Count  Dtype  \n",
      "---  ------             --------------  -----  \n",
      " 0   Пол                5000 non-null   int64  \n",
      " 1   Возраст            5000 non-null   float64\n",
      " 2   Зарплата           5000 non-null   float64\n",
      " 3   Члены семьи        5000 non-null   int64  \n",
      " 4   Страховые выплаты  5000 non-null   int64  \n",
      "dtypes: float64(2), int64(3)\n",
      "memory usage: 195.4 KB\n",
      "\n",
      "Количество дублей 153\n"
     ]
    },
    {
     "data": {
      "text/html": [
       "<div>\n",
       "<style scoped>\n",
       "    .dataframe tbody tr th:only-of-type {\n",
       "        vertical-align: middle;\n",
       "    }\n",
       "\n",
       "    .dataframe tbody tr th {\n",
       "        vertical-align: top;\n",
       "    }\n",
       "\n",
       "    .dataframe thead th {\n",
       "        text-align: right;\n",
       "    }\n",
       "</style>\n",
       "<table border=\"1\" class=\"dataframe\">\n",
       "  <thead>\n",
       "    <tr style=\"text-align: right;\">\n",
       "      <th></th>\n",
       "      <th>Пол</th>\n",
       "      <th>Возраст</th>\n",
       "      <th>Зарплата</th>\n",
       "      <th>Члены семьи</th>\n",
       "      <th>Страховые выплаты</th>\n",
       "    </tr>\n",
       "  </thead>\n",
       "  <tbody>\n",
       "    <tr>\n",
       "      <th>2648</th>\n",
       "      <td>1</td>\n",
       "      <td>29.0</td>\n",
       "      <td>39300.0</td>\n",
       "      <td>0</td>\n",
       "      <td>0</td>\n",
       "    </tr>\n",
       "    <tr>\n",
       "      <th>2456</th>\n",
       "      <td>1</td>\n",
       "      <td>32.0</td>\n",
       "      <td>37800.0</td>\n",
       "      <td>1</td>\n",
       "      <td>0</td>\n",
       "    </tr>\n",
       "    <tr>\n",
       "      <th>4557</th>\n",
       "      <td>1</td>\n",
       "      <td>41.0</td>\n",
       "      <td>54000.0</td>\n",
       "      <td>4</td>\n",
       "      <td>0</td>\n",
       "    </tr>\n",
       "    <tr>\n",
       "      <th>4884</th>\n",
       "      <td>0</td>\n",
       "      <td>34.0</td>\n",
       "      <td>40200.0</td>\n",
       "      <td>0</td>\n",
       "      <td>0</td>\n",
       "    </tr>\n",
       "    <tr>\n",
       "      <th>92</th>\n",
       "      <td>1</td>\n",
       "      <td>25.0</td>\n",
       "      <td>26700.0</td>\n",
       "      <td>1</td>\n",
       "      <td>0</td>\n",
       "    </tr>\n",
       "  </tbody>\n",
       "</table>\n",
       "</div>"
      ],
      "text/plain": [
       "      Пол  Возраст  Зарплата  Члены семьи  Страховые выплаты\n",
       "2648    1     29.0   39300.0            0                  0\n",
       "2456    1     32.0   37800.0            1                  0\n",
       "4557    1     41.0   54000.0            4                  0\n",
       "4884    0     34.0   40200.0            0                  0\n",
       "92      1     25.0   26700.0            1                  0"
      ]
     },
     "execution_count": 2,
     "metadata": {},
     "output_type": "execute_result"
    }
   ],
   "source": [
    "df = pd.read_csv('../datasets/insurance.csv')\n",
    "df.info()\n",
    "print('\\nКоличество дублей', df.duplicated().sum())\n",
    "df.sample(5, random_state=RANDOM_STATE)"
   ]
  },
  {
   "cell_type": "markdown",
   "metadata": {},
   "source": [
    "Переименуем столбцы"
   ]
  },
  {
   "cell_type": "code",
   "execution_count": 3,
   "metadata": {},
   "outputs": [
    {
     "data": {
      "text/html": [
       "<div>\n",
       "<style scoped>\n",
       "    .dataframe tbody tr th:only-of-type {\n",
       "        vertical-align: middle;\n",
       "    }\n",
       "\n",
       "    .dataframe tbody tr th {\n",
       "        vertical-align: top;\n",
       "    }\n",
       "\n",
       "    .dataframe thead th {\n",
       "        text-align: right;\n",
       "    }\n",
       "</style>\n",
       "<table border=\"1\" class=\"dataframe\">\n",
       "  <thead>\n",
       "    <tr style=\"text-align: right;\">\n",
       "      <th></th>\n",
       "      <th>gender</th>\n",
       "      <th>age</th>\n",
       "      <th>salary</th>\n",
       "      <th>relatives</th>\n",
       "      <th>insurance</th>\n",
       "    </tr>\n",
       "  </thead>\n",
       "  <tbody>\n",
       "    <tr>\n",
       "      <th>0</th>\n",
       "      <td>1</td>\n",
       "      <td>41.0</td>\n",
       "      <td>49600.0</td>\n",
       "      <td>1</td>\n",
       "      <td>0</td>\n",
       "    </tr>\n",
       "    <tr>\n",
       "      <th>1</th>\n",
       "      <td>0</td>\n",
       "      <td>46.0</td>\n",
       "      <td>38000.0</td>\n",
       "      <td>1</td>\n",
       "      <td>1</td>\n",
       "    </tr>\n",
       "    <tr>\n",
       "      <th>2</th>\n",
       "      <td>0</td>\n",
       "      <td>29.0</td>\n",
       "      <td>21000.0</td>\n",
       "      <td>0</td>\n",
       "      <td>0</td>\n",
       "    </tr>\n",
       "  </tbody>\n",
       "</table>\n",
       "</div>"
      ],
      "text/plain": [
       "   gender   age   salary  relatives  insurance\n",
       "0       1  41.0  49600.0          1          0\n",
       "1       0  46.0  38000.0          1          1\n",
       "2       0  29.0  21000.0          0          0"
      ]
     },
     "execution_count": 3,
     "metadata": {},
     "output_type": "execute_result"
    }
   ],
   "source": [
    "df.columns = ['gender', 'age', 'salary', 'relatives', 'insurance']\n",
    "df.head(3)"
   ]
  },
  {
   "cell_type": "markdown",
   "metadata": {},
   "source": [
    "Дубли удалим, вряд ли все значения сразу совпали случайно. Тип данных всех полей можно поменять на целочисленный"
   ]
  },
  {
   "cell_type": "code",
   "execution_count": 4,
   "metadata": {},
   "outputs": [
    {
     "name": "stdout",
     "output_type": "stream",
     "text": [
      "<class 'pandas.core.frame.DataFrame'>\n",
      "RangeIndex: 4847 entries, 0 to 4846\n",
      "Data columns (total 5 columns):\n",
      " #   Column     Non-Null Count  Dtype\n",
      "---  ------     --------------  -----\n",
      " 0   gender     4847 non-null   int32\n",
      " 1   age        4847 non-null   int32\n",
      " 2   salary     4847 non-null   int32\n",
      " 3   relatives  4847 non-null   int32\n",
      " 4   insurance  4847 non-null   int32\n",
      "dtypes: int32(5)\n",
      "memory usage: 94.8 KB\n"
     ]
    }
   ],
   "source": [
    "df = df.drop_duplicates().reset_index(drop=True)\n",
    "df = df.astype('int')\n",
    "df.info()"
   ]
  },
  {
   "cell_type": "markdown",
   "metadata": {},
   "source": [
    "Уникальные значения полей"
   ]
  },
  {
   "cell_type": "code",
   "execution_count": 5,
   "metadata": {},
   "outputs": [
    {
     "name": "stdout",
     "output_type": "stream",
     "text": [
      "Уникальные значения\n",
      "    gender : [0 1]\n",
      " relatives : [0 1 2 3 4 5 6]\n",
      " insurance : [0 1 2 3 4 5]\n",
      "       age : [18 19 20 21 22 23 24 25 26 27 28 29 30 31 32 33 34 35 36 37 38 39 40 41\n",
      " 42 43 44 45 46 47 48 49 50 51 52 53 54 55 56 57 58 59 60 61 62 65]\n"
     ]
    }
   ],
   "source": [
    "print('Уникальные значения')\n",
    "for col in ['gender', 'relatives', 'insurance', 'age']:\n",
    "    print(col.rjust(10), ':', np.sort(df[col].unique()))"
   ]
  },
  {
   "cell_type": "markdown",
   "metadata": {},
   "source": [
    "В данных не обнаружено аномалий, пропусков."
   ]
  },
  {
   "cell_type": "markdown",
   "metadata": {},
   "source": [
    "## Умножение матриц\n",
    "\n",
    "Признаки умножают на обратимую матрицу. Изменится ли качество линейной регрессии?\n",
    "\n",
    "**Ответ:** не изменится"
   ]
  },
  {
   "cell_type": "markdown",
   "metadata": {},
   "source": [
    "**Обоснование:** \n",
    "\n",
    "Для ответа на вопрос получим выражения для весов линейной регрессии и ответов на ней после проеобразования признаков. Чтобы качество модели не изменилось, необходимо, что бы \"новые\" ответы совпадали со \"старыми\"  \n",
    "\n",
    "Рассмотрим в векторном виде задачу линейной регрессии. \n",
    "\n",
    "Выражение для предсказаний $a$ имеет вид:\n",
    "$$ a = X\\omega $$ \n",
    "где:\n",
    "- $X$ — матрица признаков (нулевой столбец состоит из единиц)\n",
    "- $w$ — вектор весов линейной регрессии (нулевой элемент равен сдвигу)\n",
    "\n",
    "В основе регрессионного анализа лежит метод наименьших квадратов, а именно минимизация с его помощью квадратов ошибки между аппроксимационной зависимостью и ответами $y$ (вектором целевого признака). То есть: \n",
    "$$(X\\omega-y)^T(X\\omega-y) \\rightarrow \\min_{\\omega}$$\n",
    "Или через квадратичную функцию потерь:\n",
    "$$ w = \\arg\\min_w MSE(X\\omega, y) $$\n",
    "Продифференцировав предыдущее выражение по параметру $\\omega$ и приравняв производные к нулю получим решение для задачи минимизации. \n",
    "Тогда формула обучения:\n",
    "$$ w = (X^T X)^{-1} X^T y $$\n",
    "\n",
    "\n",
    "Рассмотрим теперь матрицу преобразованных признаков $X'$, которая получается умножением на обратимую матрицу\n",
    "$$X' = XP$$\n",
    "где $P$ — матрица, на которую умножаются признаки\n",
    "\n",
    "Вектор предсказаний для преобразованных признаков\n",
    "$$ a' = X'\\omega' $$ \n",
    "Вектор весов:\n",
    "$$\\omega' = (X'^T X')^{-1} X'^T y$$\n",
    "Подставим в это выражение $X'$. Пользуясь свойствами умножения матриц, обратных матриц и транспонирования, получим:\n",
    "$$\\omega'  = ((XP)^T XP)^{-1} (XP)^T y = ((P^T (X^T X) P)^{-1} P^T X^T y \\\\ \n",
    "           = P^{-1} (X^T X)^{-1} (P^T)^{-1}  P^T X^T y = P^{-1} (X^T X)^{-1} X^T y = P^{-1} \\omega$$\n",
    "Таким образом, \"новый\" вектор весов отличается от \"старого\" умножением на обратную матрицу слева. Выразим теперь $a'$ через признаки и веса до преобразования\n",
    "$$ a' = X'\\omega' = X P P^{-1} \\omega = X \\omega = a$$ \n",
    "Что и требовалось доказать"
   ]
  },
  {
   "cell_type": "markdown",
   "metadata": {},
   "source": [
    "## Алгоритм преобразования\n",
    "\n",
    "Для преобразования входных данных с целью защиты личных данных пользователей применим умножение на обратимую матрицу, значения для которой сгенерируем случайным образом."
   ]
  },
  {
   "cell_type": "markdown",
   "metadata": {},
   "source": [
    "**Алгоритм**\n",
    "\n",
    "0. Вводим матрицу признаков $X$\n",
    "1. Генерация кватратной матрицы $P$ со случайными значениями, размерность матрицы - по количеству признаков.\n",
    "2. Проверка матрицы $P$ на обратимость.\n",
    "3. Получение матрицы преобразованных признаков $X'=XP$\n",
    "\n",
    "Реализуем описанный алгоритм в виде функции\n",
    "\n",
    "- Также возможно преобразование данных умножением матрицы на постоянный множитель, добавление постоянного числа"
   ]
  },
  {
   "cell_type": "markdown",
   "metadata": {},
   "source": [
    "**Обоснование**\n",
    "\n",
    "Матрица преобразования должна быть обратимой, следовательно она должна быть квадратной и невырожденной (её детерминант должен быть отличен от нуля)\n",
    "\n",
    "Если, количество признаков $= n$, а количество объектов $= m$, то размер матрицы преобразования должен быть $n \\times n$. Для обратимости матрица должна быть квадратной.\n",
    "\n",
    "В таком случае при умножении исходной матрицы признаков размером $m \\times n$ на матрицу преобразования $n \\times n$ получим новую матрицу признаков но исходного размера $m \\times n$. $$X_{m \\times n} \\cdot P_{n \\times n} = X'_{m \\times n}$$\n",
    "\n",
    "При этом очевидно, что такое проеобразование не \"перемешивает\" объекты в выборке. Индексация объектов сохранится, поскольку признаки одного объекта умножаются на каждый столбец матрицы преобразования, формируя объект с новыми признаками. По этой причине преобразование можно применять не ко всей выборке сразу, а по частям: преобразованные признаки в обоих случаях останутся одинаковыми (при условии одинакового набора признаков) \n",
    "\n",
    "Покажем, что умножение на число не меняет вектор предсказаний\n",
    "$$\\omega'  = ((b\\cdot X)^T (b\\cdot X))^{-1} (b\\cdot X)^T y = (b^2\\cdot X^T X)^{-1} b\\cdot X^T y \\\\ \n",
    "           = \\frac{1}{b^2}\\cdot b \\cdot(X^T X)^{-1} X^T y = \\frac{1}{b}\\cdot (X^T X)^{-1} X^T y = \\frac{1}{b}\\cdot \\omega$$\n",
    "$$ a' = X'\\omega' = b\\cdot X \\cdot\\frac{1}{b} \\cdot \\omega = X \\omega = a$$ \n",
    "\n",
    "Смещение же всех признаков на постоянное число вовсе не поменяет коэффициентов линейной регрессии"
   ]
  },
  {
   "cell_type": "code",
   "execution_count": 6,
   "metadata": {},
   "outputs": [],
   "source": [
    "def transform_features(features, transformation_matrix=None, random_state=None):\n",
    "    ''' Преобразование матрицы признаков features умножением на обратимую матрицу. \n",
    "    Обратимая матрица может быть сгененирована фунцией или передана пользователем. \n",
    "    Возвращает преобразованную матрицу исходной рамерности\n",
    "    \n",
    "    Параметры :\n",
    "    ----\n",
    "    `features` : np.array / pd.DataFrame - массив признаков\n",
    "    `transformation_matrix` : np.array - матрица преобразования, обе размерности должны совпадать с количеством признаков в features\n",
    "    `random_state` : int - случайное состояние numpy\n",
    "\n",
    "    Возвращает :\n",
    "    ----\n",
    "    Для случая `transformation_matrix = None` :\n",
    "        `tuple` : `(np.array, np.array)` - (признаки, матрица преобразования)\n",
    "    Для остальных случаев :\n",
    "        : `np.array` признаков\n",
    "    '''\n",
    "       \n",
    "    n = features.shape[1]\n",
    "\n",
    "    if transformation_matrix is None:\n",
    "        np.random.seed(random_state)\n",
    "        det = 0\n",
    "        while det == 0:\n",
    "            transformation_matrix = np.random.normal(size=(n,n))\n",
    "            det = np.linalg.det(transformation_matrix)\n",
    "        return (features @ transformation_matrix, transformation_matrix) \n",
    "\n",
    "    else:\n",
    "        if (transformation_matrix.shape[0] != n or \n",
    "            transformation_matrix.shape[1] != n):\n",
    "            print('Размерность матрицы преобразования {} не соответсвует размерности признаков ({})'\n",
    "                  .format(transformation_matrix.shape, n))\n",
    "            return None\n",
    "        if np.linalg.det(transformation_matrix) == 0:\n",
    "            print('Матрицы преобразования необратима! (det = 0)')\n",
    "            return None\n",
    "        return features @ transformation_matrix"
   ]
  },
  {
   "cell_type": "markdown",
   "metadata": {},
   "source": [
    "Посмотрим, как изменятся признаки в исходном датасете"
   ]
  },
  {
   "cell_type": "code",
   "execution_count": 7,
   "metadata": {},
   "outputs": [
    {
     "data": {
      "text/html": [
       "<div>\n",
       "<style scoped>\n",
       "    .dataframe tbody tr th:only-of-type {\n",
       "        vertical-align: middle;\n",
       "    }\n",
       "\n",
       "    .dataframe tbody tr th {\n",
       "        vertical-align: top;\n",
       "    }\n",
       "\n",
       "    .dataframe thead th {\n",
       "        text-align: right;\n",
       "    }\n",
       "</style>\n",
       "<table border=\"1\" class=\"dataframe\">\n",
       "  <thead>\n",
       "    <tr style=\"text-align: right;\">\n",
       "      <th></th>\n",
       "      <th>0</th>\n",
       "      <th>1</th>\n",
       "      <th>2</th>\n",
       "      <th>3</th>\n",
       "    </tr>\n",
       "  </thead>\n",
       "  <tbody>\n",
       "    <tr>\n",
       "      <th>1785</th>\n",
       "      <td>118380.986564</td>\n",
       "      <td>-11269.642477</td>\n",
       "      <td>28088.639189</td>\n",
       "      <td>80067.623337</td>\n",
       "    </tr>\n",
       "    <tr>\n",
       "      <th>193</th>\n",
       "      <td>111957.619491</td>\n",
       "      <td>-10656.630332</td>\n",
       "      <td>26565.265523</td>\n",
       "      <td>75725.044739</td>\n",
       "    </tr>\n",
       "    <tr>\n",
       "      <th>4358</th>\n",
       "      <td>110144.218085</td>\n",
       "      <td>-10471.453349</td>\n",
       "      <td>26144.868311</td>\n",
       "      <td>74509.828760</td>\n",
       "    </tr>\n",
       "    <tr>\n",
       "      <th>549</th>\n",
       "      <td>122743.408716</td>\n",
       "      <td>-11682.384135</td>\n",
       "      <td>29126.118667</td>\n",
       "      <td>83019.293588</td>\n",
       "    </tr>\n",
       "    <tr>\n",
       "      <th>2959</th>\n",
       "      <td>79582.603237</td>\n",
       "      <td>-7559.418567</td>\n",
       "      <td>18895.375553</td>\n",
       "      <td>53841.993868</td>\n",
       "    </tr>\n",
       "  </tbody>\n",
       "</table>\n",
       "</div>"
      ],
      "text/plain": [
       "                  0             1             2             3\n",
       "1785  118380.986564 -11269.642477  28088.639189  80067.623337\n",
       "193   111957.619491 -10656.630332  26565.265523  75725.044739\n",
       "4358  110144.218085 -10471.453349  26144.868311  74509.828760\n",
       "549   122743.408716 -11682.384135  29126.118667  83019.293588\n",
       "2959   79582.603237  -7559.418567  18895.375553  53841.993868"
      ]
     },
     "execution_count": 7,
     "metadata": {},
     "output_type": "execute_result"
    }
   ],
   "source": [
    "transform_features(df[df.columns[:-1]])[0].sample(5, random_state=RANDOM_STATE)"
   ]
  },
  {
   "cell_type": "markdown",
   "metadata": {},
   "source": [
    "Признаки преобразованы"
   ]
  },
  {
   "cell_type": "markdown",
   "metadata": {},
   "source": [
    "## Проверка алгоритма"
   ]
  },
  {
   "cell_type": "markdown",
   "metadata": {},
   "source": [
    "Подготовим признаки. \n",
    "- Разделим выборку на обучающую и тестовую\n",
    "- Сформируем преобразованные обучающую и тестовую выборки"
   ]
  },
  {
   "cell_type": "code",
   "execution_count": 8,
   "metadata": {},
   "outputs": [
    {
     "name": "stdout",
     "output_type": "stream",
     "text": [
      "Матрица преобразования:\n",
      "[[-1.0856306   0.99734545  0.2829785  -1.50629471]\n",
      " [-0.57860025  1.65143654 -2.42667924 -0.42891263]\n",
      " [ 1.26593626 -0.8667404  -0.67888615 -0.09470897]\n",
      " [ 1.49138963 -0.638902   -0.44398196 -0.43435128]]\n"
     ]
    }
   ],
   "source": [
    "X_train, X_test, y_train, y_test = train_test_split(\n",
    "    df[df.columns[:-1]].values, df[df.columns[-1]].values, \n",
    "    test_size=0.25, random_state=RANDOM_STATE)\n",
    "\n",
    "X_train_new, transformation_matrix = transform_features(X_train, random_state=RANDOM_STATE)\n",
    "X_test_new = transform_features(X_test, transformation_matrix=transformation_matrix, random_state=RANDOM_STATE)\n",
    "\n",
    "print('Матрица преобразования:'),\n",
    "print(transformation_matrix)"
   ]
  },
  {
   "cell_type": "markdown",
   "metadata": {},
   "source": [
    "Проверим, как изменется R2 метрика и значения весов линейной регрессии при преобразовании признаков. Рассмотрим отдельно разные случаи"
   ]
  },
  {
   "cell_type": "code",
   "execution_count": 9,
   "metadata": {},
   "outputs": [],
   "source": [
    "def check_lr_model(X_train, X_test, y_train, y_test):\n",
    "    model = LinearRegression()\n",
    "    model.fit(X_train, y_train)\n",
    "    r2 = model.score(X_test, y_test)\n",
    "    print('w  = {} \\nR2 = {:.12f}'.format(model.coef_, r2))\n",
    "    return (r2, model.coef_)"
   ]
  },
  {
   "cell_type": "markdown",
   "metadata": {},
   "source": [
    "**Без преобразования**"
   ]
  },
  {
   "cell_type": "code",
   "execution_count": 10,
   "metadata": {},
   "outputs": [
    {
     "name": "stdout",
     "output_type": "stream",
     "text": [
      "w  = [ 1.19844319e-02  3.67531733e-02 -1.94830996e-08 -1.50310819e-02] \n",
      "R2 = 0.409789581465\n"
     ]
    }
   ],
   "source": [
    "_, w = check_lr_model(X_train, X_test, y_train, y_test);"
   ]
  },
  {
   "cell_type": "markdown",
   "metadata": {},
   "source": [
    "**Умножение на число и смещение**"
   ]
  },
  {
   "cell_type": "code",
   "execution_count": 11,
   "metadata": {},
   "outputs": [
    {
     "name": "stdout",
     "output_type": "stream",
     "text": [
      "Смещение значений всех признаков на 2186.7860889737867\n",
      "w  = [ 1.19844319e-02  3.67531733e-02 -1.94830996e-08 -1.50310819e-02] \n",
      "R2 = 0.409789581465\n",
      "\n",
      "Умножение всех признаков на 220.5930 и смещение на 2186.7861\n",
      "w  = [ 5.43282493e-05  1.66610781e-04 -8.83214736e-11 -6.81394303e-05] \n",
      "R2 = 0.409789581465\n",
      "\n",
      "Отношения весов: [220.59300827 220.59300827 220.59300839 220.59300827]\n"
     ]
    }
   ],
   "source": [
    "mult = np.random.normal(scale=100)\n",
    "shift = np.random.normal(scale=1000)\n",
    "\n",
    "print('Смещение значений всех признаков на', shift)\n",
    "_, w_s = check_lr_model(X_train+shift, X_test+shift, y_train, y_test)\n",
    "print('\\nУмножение всех признаков на {:.4f} и смещение на {:.4f}'.format(mult, shift))\n",
    "_, w_ms = check_lr_model(X_train*mult+shift, X_test*mult+shift, y_train, y_test)\n",
    "\n",
    "print('\\nОтношения весов:', w_s / w_ms)"
   ]
  },
  {
   "cell_type": "markdown",
   "metadata": {},
   "source": [
    "R2 мера не поменялась.\n",
    "\n",
    "В случае, когда мы сместили значения всех признаков на одинаковую величину веса также не изменились.\n",
    "\n",
    "При умножении веса изменились в `mult` раз"
   ]
  },
  {
   "cell_type": "markdown",
   "metadata": {},
   "source": [
    "**Умножение на обратимую матрицу**"
   ]
  },
  {
   "cell_type": "code",
   "execution_count": 12,
   "metadata": {},
   "outputs": [
    {
     "name": "stdout",
     "output_type": "stream",
     "text": [
      "w  = [-0.0291558  -0.02372427 -0.02310321 -0.00699133] \n",
      "R2 = 0.409789581465\n"
     ]
    }
   ],
   "source": [
    "check_lr_model(X_train_new, X_test_new, y_train, y_test);"
   ]
  },
  {
   "cell_type": "code",
   "execution_count": 13,
   "metadata": {},
   "outputs": [
    {
     "name": "stdout",
     "output_type": "stream",
     "text": [
      "Умножение уже преобразованных признаков на 100.4054 и смещение на 386.1864\n",
      "w  = [-2.90380857e-04 -2.36284795e-04 -2.30099262e-04 -6.96310004e-05] \n",
      "R2 = 0.409789581465\n"
     ]
    }
   ],
   "source": [
    "mult = np.random.normal(scale=100)\n",
    "shift = np.random.normal(scale=1000)\n",
    "print('Умножение уже преобразованных признаков на {:.4f} и смещение на {:.4f}'.format(mult, shift))\n",
    "check_lr_model(X_train_new*mult+shift, X_test_new*mult+shift, y_train, y_test);"
   ]
  },
  {
   "cell_type": "markdown",
   "metadata": {},
   "source": [
    "Качество не поменялось"
   ]
  },
  {
   "cell_type": "markdown",
   "metadata": {},
   "source": [
    "## Вывод\n",
    "\n",
    "Исследовано влияние преобразования данных путём умножения признаков на обратимую матрицу, на число, смещение признаков.  Проверено качество обучения линейной регрессии (на метрике R2) для исходных данных и преобразованых.\n",
    "Во всех случаях качество обучения осталось одинаковым. Заметим, что разница занчений `R2` в 12 и далее знаках после запятой обусловлена округлениями вещественных чисел в numpy и python в процессе вычислений."
   ]
  }
 ],
 "metadata": {
  "ExecuteTimeLog": [
   {
    "duration": 1143,
    "start_time": "2022-04-10T19:30:07.447Z"
   },
   {
    "duration": 83,
    "start_time": "2022-04-10T19:30:13.652Z"
   },
   {
    "duration": 9,
    "start_time": "2022-04-10T19:30:14.547Z"
   },
   {
    "duration": 14,
    "start_time": "2022-04-10T19:30:14.987Z"
   },
   {
    "duration": 7,
    "start_time": "2022-04-10T19:30:15.550Z"
   },
   {
    "duration": 7,
    "start_time": "2022-04-10T19:31:45.012Z"
   },
   {
    "duration": 12,
    "start_time": "2022-04-10T19:31:46.518Z"
   },
   {
    "duration": 7,
    "start_time": "2022-04-10T19:31:47.491Z"
   },
   {
    "duration": 3,
    "start_time": "2022-04-10T19:31:47.800Z"
   },
   {
    "duration": 6,
    "start_time": "2022-04-10T19:31:48.108Z"
   },
   {
    "duration": 11,
    "start_time": "2022-04-10T19:31:48.852Z"
   },
   {
    "duration": 5,
    "start_time": "2022-04-10T19:31:48.931Z"
   },
   {
    "duration": 7,
    "start_time": "2022-04-10T19:31:49.101Z"
   },
   {
    "duration": 1975,
    "start_time": "2022-04-11T06:29:18.540Z"
   },
   {
    "duration": 49,
    "start_time": "2022-04-11T06:29:22.043Z"
   },
   {
    "duration": 1593,
    "start_time": "2022-04-11T06:34:22.227Z"
   },
   {
    "duration": 52,
    "start_time": "2022-04-11T06:34:23.823Z"
   },
   {
    "duration": 22,
    "start_time": "2022-04-11T06:34:23.878Z"
   },
   {
    "duration": 26,
    "start_time": "2022-04-11T06:34:23.905Z"
   },
   {
    "duration": 10,
    "start_time": "2022-04-11T06:34:23.934Z"
   },
   {
    "duration": 45,
    "start_time": "2022-04-11T06:34:23.947Z"
   },
   {
    "duration": 37,
    "start_time": "2022-04-11T06:34:23.995Z"
   },
   {
    "duration": 13,
    "start_time": "2022-04-11T06:34:24.035Z"
   },
   {
    "duration": 7,
    "start_time": "2022-04-11T06:34:24.051Z"
   },
   {
    "duration": 33,
    "start_time": "2022-04-11T06:34:24.061Z"
   },
   {
    "duration": 16,
    "start_time": "2022-04-11T06:34:24.097Z"
   },
   {
    "duration": 7,
    "start_time": "2022-04-11T06:34:24.116Z"
   },
   {
    "duration": 12,
    "start_time": "2022-04-11T06:34:24.125Z"
   }
  ],
  "kernelspec": {
   "display_name": "Python 3 (ipykernel)",
   "language": "python",
   "name": "python3"
  },
  "language_info": {
   "codemirror_mode": {
    "name": "ipython",
    "version": 3
   },
   "file_extension": ".py",
   "mimetype": "text/x-python",
   "name": "python",
   "nbconvert_exporter": "python",
   "pygments_lexer": "ipython3",
   "version": "3.10.0"
  },
  "toc": {
   "base_numbering": 1,
   "nav_menu": {},
   "number_sections": true,
   "sideBar": true,
   "skip_h1_title": true,
   "title_cell": "Содержание",
   "title_sidebar": "Contents",
   "toc_cell": true,
   "toc_position": {},
   "toc_section_display": true,
   "toc_window_display": true
  }
 },
 "nbformat": 4,
 "nbformat_minor": 2
}
