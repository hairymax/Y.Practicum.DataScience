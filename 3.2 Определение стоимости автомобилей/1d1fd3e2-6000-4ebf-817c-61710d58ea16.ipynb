{
 "cells": [
  {
   "cell_type": "markdown",
   "metadata": {},
   "source": [
    "# Определение стоимости автомобилей"
   ]
  },
  {
   "cell_type": "markdown",
   "metadata": {},
   "source": [
    "Сервис по продаже автомобилей с пробегом «Не бит, не крашен» разрабатывает приложение для привлечения новых клиентов. В нём можно быстро узнать рыночную стоимость своего автомобиля. В вашем распоряжении исторические данные: технические характеристики, комплектации и цены автомобилей. Вам нужно построить модель для определения стоимости. \n",
    "\n",
    "Заказчику важны:\n",
    "\n",
    "- качество предсказания;\n",
    "- скорость предсказания;\n",
    "- время обучения."
   ]
  },
  {
   "cell_type": "markdown",
   "metadata": {
    "toc": true
   },
   "source": [
    "<h1>Содержание<span class=\"tocSkip\"></span></h1>\n",
    "<div class=\"toc\"><ul class=\"toc-item\"><li><span><a href=\"#Описание-данных\" data-toc-modified-id=\"Описание-данных-1\"><span class=\"toc-item-num\">1&nbsp;&nbsp;</span>Описание данных</a></span></li><li><span><a href=\"#Подготовка-данных\" data-toc-modified-id=\"Подготовка-данных-2\"><span class=\"toc-item-num\">2&nbsp;&nbsp;</span>Подготовка данных</a></span><ul class=\"toc-item\"><li><span><a href=\"#Выбросы\" data-toc-modified-id=\"Выбросы-2.1\"><span class=\"toc-item-num\">2.1&nbsp;&nbsp;</span>Выбросы</a></span><ul class=\"toc-item\"><li><span><a href=\"#Год-регистрации-RegistrationYear\" data-toc-modified-id=\"Год-регистрации-RegistrationYear-2.1.1\"><span class=\"toc-item-num\">2.1.1&nbsp;&nbsp;</span>Год регистрации <code>RegistrationYear</code></a></span></li><li><span><a href=\"#Мощность-Power\" data-toc-modified-id=\"Мощность-Power-2.1.2\"><span class=\"toc-item-num\">2.1.2&nbsp;&nbsp;</span>Мощность <code>Power</code></a></span></li><li><span><a href=\"#Цена-Price\" data-toc-modified-id=\"Цена-Price-2.1.3\"><span class=\"toc-item-num\">2.1.3&nbsp;&nbsp;</span>Цена <code>Price</code></a></span></li><li><span><a href=\"#Месяц-регистрации-RegistrationMonth\" data-toc-modified-id=\"Месяц-регистрации-RegistrationMonth-2.1.4\"><span class=\"toc-item-num\">2.1.4&nbsp;&nbsp;</span>Месяц регистрации <code>RegistrationMonth</code></a></span></li></ul></li><li><span><a href=\"#Пропуски\" data-toc-modified-id=\"Пропуски-2.2\"><span class=\"toc-item-num\">2.2&nbsp;&nbsp;</span>Пропуски</a></span></li><li><span><a href=\"#Приведение-типов-данных\" data-toc-modified-id=\"Приведение-типов-данных-2.3\"><span class=\"toc-item-num\">2.3&nbsp;&nbsp;</span>Приведение типов данных</a></span></li></ul></li><li><span><a href=\"#Обучение-моделей\" data-toc-modified-id=\"Обучение-моделей-3\"><span class=\"toc-item-num\">3&nbsp;&nbsp;</span>Обучение моделей</a></span><ul class=\"toc-item\"><li><span><a href=\"#Подготовка-признаков\" data-toc-modified-id=\"Подготовка-признаков-3.1\"><span class=\"toc-item-num\">3.1&nbsp;&nbsp;</span>Подготовка признаков</a></span></li><li><span><a href=\"#LinearRegression\" data-toc-modified-id=\"LinearRegression-3.2\"><span class=\"toc-item-num\">3.2&nbsp;&nbsp;</span>LinearRegression</a></span></li><li><span><a href=\"#DecisionTreeRegressor\" data-toc-modified-id=\"DecisionTreeRegressor-3.3\"><span class=\"toc-item-num\">3.3&nbsp;&nbsp;</span>DecisionTreeRegressor</a></span></li><li><span><a href=\"#CatBoostRegressor\" data-toc-modified-id=\"CatBoostRegressor-3.4\"><span class=\"toc-item-num\">3.4&nbsp;&nbsp;</span>CatBoostRegressor</a></span></li><li><span><a href=\"#LGBMRegressor\" data-toc-modified-id=\"LGBMRegressor-3.5\"><span class=\"toc-item-num\">3.5&nbsp;&nbsp;</span>LGBMRegressor</a></span></li></ul></li><li><span><a href=\"#Анализ-моделей\" data-toc-modified-id=\"Анализ-моделей-4\"><span class=\"toc-item-num\">4&nbsp;&nbsp;</span>Анализ моделей</a></span></li></ul></div>"
   ]
  },
  {
   "cell_type": "markdown",
   "metadata": {},
   "source": [
    "<div style=\"background: #88aaff; padding: 5px; border: 1px solid blue; border-radius: 5px;\">\n",
    "<b>КОММЕНТАРИЙ СТУДЕНТА 0:</b>\n",
    "\n",
    "Приветствую! Хотел бы до ревью задать небольшой вопрос)\n",
    "\n",
    "Я читал, что `CatBoost` часто показывает лучшие результаты метрик и времени предсказаний, чем `LightGBM` или `XGBoost`. Даже на заглавной страничке библиотеки красуется табличка об этом)\n",
    "Но у меня почему-то он обучался ну ооочень долго по сравнению с `LightGBM`. У меня есть предположение, что это потому, что я работал под Windows, ну или может я пребтирал не те параметры. Хотел попробовать запустить его под Linux на работе или в WSL на своём, но пока не успел. Хотел бы у опытного специалиста поинтресоваться, может ли быть дело в ОС? потому как с одной библиотекой на такое уже натыкался.\n",
    "\n",
    "Также хотел предупредить, что я использовал `pandas_profiling` для анализа данных, но вывод его убрал из тетрадки."
   ]
  },
  {
   "cell_type": "markdown",
   "metadata": {},
   "source": [
    "## Описание данных\n",
    "\n",
    "**Признаки**\n",
    "- `DateCrawled` — дата скачивания анкеты из базы\n",
    "- `VehicleType` — тип автомобильного кузова\n",
    "- `RegistrationYear` — год регистрации автомобиля\n",
    "- `Gearbox` — тип коробки передач\n",
    "- `Power` — мощность (л. с.)\n",
    "- `Model` — модель автомобиля\n",
    "- `Kilometer` — пробег (км)\n",
    "- `RegistrationMonth` — месяц регистрации автомобиля\n",
    "- `FuelType` — тип топлива\n",
    "- `Brand` — марка автомобиля\n",
    "- `NotRepaired` — была машина в ремонте или нет\n",
    "- `DateCreated` — дата создания анкеты\n",
    "- `NumberOfPictures` — количество фотографий автомобиля\n",
    "- `PostalCode` — почтовый индекс владельца анкеты (пользователя)\n",
    "- `LastSeen` — дата последней активности пользователя\n",
    "\n",
    "**Целевой признак**\n",
    "- `Price` — цена (евро)"
   ]
  },
  {
   "cell_type": "code",
   "execution_count": 1,
   "metadata": {},
   "outputs": [],
   "source": [
    "# Библиотеки\n",
    "# для вывода\n",
    "from IPython.display import Markdown, display\n",
    "from tqdm.notebook import tqdm_notebook as tqdm\n",
    "import warnings\n",
    "import time\n",
    "# для работы с данными\n",
    "import pandas as pd\n",
    "from pandas_profiling import ProfileReport\n",
    "from matplotlib import pyplot as plt\n",
    "import seaborn as sns\n",
    "# для обучения\n",
    "from sklearn.model_selection import train_test_split, cross_val_score, GridSearchCV\n",
    "from sklearn.metrics import mean_squared_error\n",
    "from sklearn.preprocessing import StandardScaler, MinMaxScaler, OrdinalEncoder\n",
    "from sklearn.pipeline import Pipeline\n",
    "from sklearn.linear_model import LinearRegression, Lasso, SGDRegressor\n",
    "from sklearn.tree import DecisionTreeRegressor \n",
    "from lightgbm import LGBMRegressor\n",
    "from catboost import CatBoostRegressor\n",
    "# константы\n",
    "RANDOM_STATE = 123"
   ]
  },
  {
   "cell_type": "code",
   "execution_count": 2,
   "metadata": {},
   "outputs": [],
   "source": [
    "def dataframe_info(df):\n",
    "    ''' Вывод информации о датафрейме `df`. Функционал схож с методом `pd.DataFrame.info()`\n",
    "\n",
    "    Дополнительно: вывод процента заполненных (non-null) значений, количестве пропусков\n",
    "    '''\n",
    "    info = (pd.DataFrame({\n",
    "                'notNA': df.count(), 'notNA, %': df.count()/df.shape[0]*100,\n",
    "                'dtype': df.dtypes})\n",
    "            .style.bar(subset='notNA, %', vmin=0, color='lightblue')\n",
    "            .format(\"{:.2f}\", subset=['notNA, %'])\n",
    "    )\n",
    "    print('DataFrame shape  : {} rows, {} columns'.format(df.shape[0], df.shape[1]))\n",
    "    print('Memory usage     : {:.2f} MB'.format(df.memory_usage().sum()/1024/1024))\n",
    "    print('Duplicates count :', df.duplicated().sum())\n",
    "    return info\n",
    "\n",
    "def show_hist(df, col, bins=100, xlim=None, ylim=None, figsize=None,\n",
    "              title='Распределение значений',\n",
    "              xlabel=None, ylabel='Количество значений'):\n",
    "    '''\n",
    "    Функция построения гистограмм и диаграмм размаха для столбца col датафрейма df\n",
    "    \n",
    "    Параметры \n",
    "    ---\n",
    "    `bins` : int - задаёт число корзин для гистограммы, по умолчанию 100\n",
    "    `title` : string - задаёт название графика\n",
    "    `xlabel, ylabel` : string - подписи к осям\n",
    "    `xlim, ylim, figsize` : параметры matplotlib \n",
    "    '''\n",
    "    # создаём 3 сабплота, указываем для них соотношение занимаемой высоты\n",
    "    _, (ax_box, ax_hist) = plt.subplots(2, sharex=True,\n",
    "        gridspec_kw={\"height_ratios\": (.15, .85)}, figsize=figsize)\n",
    "\n",
    "    if col in df.columns:\n",
    "        # диаграмма размаха, гистограмма с функцией распределения\n",
    "        sns.boxplot(x=df[col], ax=ax_box)\n",
    "        sns.histplot(df[col], ax=ax_hist, bins=bins, kde=True)\n",
    "        if xlabel is None: \n",
    "            xlabel = col\n",
    "        ax_box.set(xlabel='')  # чтобы не дублировалась\n",
    "        ax_hist.set(xlabel=xlabel, ylabel=ylabel, xlim=xlim, ylim=ylim)\n",
    "        ax_hist.grid(visible=True)\n",
    "        plt.suptitle(title, y=0.92, fontsize=14)\n",
    "    else:\n",
    "        print('Столбец', col, 'отсутсвует в датафрейме')\n",
    "\n",
    "def visualize_value_counts(df, column, n_values=25, fillna='NONE'):\n",
    "    ''' Визуализация количества встречающихся значений столбца датафрейма\n",
    "\n",
    "    `df` : pd.DataFrame - датафрейм\n",
    "    `column` : string - название столбца\n",
    "    `n_values` : int - максимальное количество значений для отображения на диаграмме\n",
    "    `fillna` : any - значение, которым необходимо заполнить пропуски\n",
    "    '''\n",
    "    val_counts = df[column].fillna(fillna).value_counts()\n",
    "    bar_values = val_counts.values[:n_values]\n",
    "    bar_labels = val_counts.index[:n_values]\n",
    "    plt.figure(figsize=(8, 0.35*min(len(val_counts), n_values)))\n",
    "    ax = sns.barplot(x=bar_values, y=bar_labels)\n",
    "    ax.set(title='\"{}\" value counts ({} / {})'\n",
    "           .format(column, len(bar_labels), val_counts.shape[0]),\n",
    "           xlim=[0, 1.1*bar_values.max()])\n",
    "    plt.bar_label(ax.containers[0])\n",
    "    for i in range(len(bar_labels)):\n",
    "        if bar_labels[i] == fillna:\n",
    "            ax.patches[i].set_color('black')\n",
    "    plt.show()"
   ]
  },
  {
   "cell_type": "markdown",
   "metadata": {},
   "source": [
    "## Подготовка данных"
   ]
  },
  {
   "cell_type": "markdown",
   "metadata": {},
   "source": [
    "Загрузим данные, изучим их"
   ]
  },
  {
   "cell_type": "code",
   "execution_count": 3,
   "metadata": {},
   "outputs": [
    {
     "data": {
      "text/html": [
       "<div>\n",
       "<style scoped>\n",
       "    .dataframe tbody tr th:only-of-type {\n",
       "        vertical-align: middle;\n",
       "    }\n",
       "\n",
       "    .dataframe tbody tr th {\n",
       "        vertical-align: top;\n",
       "    }\n",
       "\n",
       "    .dataframe thead th {\n",
       "        text-align: right;\n",
       "    }\n",
       "</style>\n",
       "<table border=\"1\" class=\"dataframe\">\n",
       "  <thead>\n",
       "    <tr style=\"text-align: right;\">\n",
       "      <th></th>\n",
       "      <th>DateCrawled</th>\n",
       "      <th>Price</th>\n",
       "      <th>VehicleType</th>\n",
       "      <th>RegistrationYear</th>\n",
       "      <th>Gearbox</th>\n",
       "      <th>Power</th>\n",
       "      <th>Model</th>\n",
       "      <th>Kilometer</th>\n",
       "      <th>RegistrationMonth</th>\n",
       "      <th>FuelType</th>\n",
       "      <th>Brand</th>\n",
       "      <th>NotRepaired</th>\n",
       "      <th>DateCreated</th>\n",
       "      <th>NumberOfPictures</th>\n",
       "      <th>PostalCode</th>\n",
       "      <th>LastSeen</th>\n",
       "    </tr>\n",
       "  </thead>\n",
       "  <tbody>\n",
       "    <tr>\n",
       "      <th>297233</th>\n",
       "      <td>2016-03-14 20:47:30</td>\n",
       "      <td>999</td>\n",
       "      <td>NaN</td>\n",
       "      <td>2018</td>\n",
       "      <td>auto</td>\n",
       "      <td>124</td>\n",
       "      <td>golf</td>\n",
       "      <td>150000</td>\n",
       "      <td>0</td>\n",
       "      <td>petrol</td>\n",
       "      <td>volkswagen</td>\n",
       "      <td>no</td>\n",
       "      <td>2016-03-14 00:00:00</td>\n",
       "      <td>0</td>\n",
       "      <td>73433</td>\n",
       "      <td>2016-03-17 11:16:44</td>\n",
       "    </tr>\n",
       "    <tr>\n",
       "      <th>44703</th>\n",
       "      <td>2016-03-17 12:45:05</td>\n",
       "      <td>600</td>\n",
       "      <td>sedan</td>\n",
       "      <td>1997</td>\n",
       "      <td>manual</td>\n",
       "      <td>115</td>\n",
       "      <td>vectra</td>\n",
       "      <td>150000</td>\n",
       "      <td>10</td>\n",
       "      <td>petrol</td>\n",
       "      <td>opel</td>\n",
       "      <td>NaN</td>\n",
       "      <td>2016-03-17 00:00:00</td>\n",
       "      <td>0</td>\n",
       "      <td>18311</td>\n",
       "      <td>2016-03-20 13:18:53</td>\n",
       "    </tr>\n",
       "    <tr>\n",
       "      <th>40616</th>\n",
       "      <td>2016-03-31 17:54:35</td>\n",
       "      <td>2590</td>\n",
       "      <td>NaN</td>\n",
       "      <td>2005</td>\n",
       "      <td>auto</td>\n",
       "      <td>131</td>\n",
       "      <td>passat</td>\n",
       "      <td>150000</td>\n",
       "      <td>0</td>\n",
       "      <td>gasoline</td>\n",
       "      <td>volkswagen</td>\n",
       "      <td>NaN</td>\n",
       "      <td>2016-03-31 00:00:00</td>\n",
       "      <td>0</td>\n",
       "      <td>66809</td>\n",
       "      <td>2016-04-06 11:44:32</td>\n",
       "    </tr>\n",
       "    <tr>\n",
       "      <th>329979</th>\n",
       "      <td>2016-03-18 00:51:09</td>\n",
       "      <td>950</td>\n",
       "      <td>small</td>\n",
       "      <td>1997</td>\n",
       "      <td>manual</td>\n",
       "      <td>75</td>\n",
       "      <td>polo</td>\n",
       "      <td>150000</td>\n",
       "      <td>10</td>\n",
       "      <td>petrol</td>\n",
       "      <td>volkswagen</td>\n",
       "      <td>yes</td>\n",
       "      <td>2016-03-17 00:00:00</td>\n",
       "      <td>0</td>\n",
       "      <td>52353</td>\n",
       "      <td>2016-04-05 21:47:48</td>\n",
       "    </tr>\n",
       "    <tr>\n",
       "      <th>125102</th>\n",
       "      <td>2016-03-22 09:54:49</td>\n",
       "      <td>0</td>\n",
       "      <td>wagon</td>\n",
       "      <td>1998</td>\n",
       "      <td>manual</td>\n",
       "      <td>101</td>\n",
       "      <td>vectra</td>\n",
       "      <td>150000</td>\n",
       "      <td>0</td>\n",
       "      <td>petrol</td>\n",
       "      <td>opel</td>\n",
       "      <td>yes</td>\n",
       "      <td>2016-03-22 00:00:00</td>\n",
       "      <td>0</td>\n",
       "      <td>6772</td>\n",
       "      <td>2016-04-05 21:15:48</td>\n",
       "    </tr>\n",
       "  </tbody>\n",
       "</table>\n",
       "</div>"
      ],
      "text/plain": [
       "                DateCrawled  Price VehicleType  RegistrationYear Gearbox  \\\n",
       "297233  2016-03-14 20:47:30    999         NaN              2018    auto   \n",
       "44703   2016-03-17 12:45:05    600       sedan              1997  manual   \n",
       "40616   2016-03-31 17:54:35   2590         NaN              2005    auto   \n",
       "329979  2016-03-18 00:51:09    950       small              1997  manual   \n",
       "125102  2016-03-22 09:54:49      0       wagon              1998  manual   \n",
       "\n",
       "        Power   Model  Kilometer  RegistrationMonth  FuelType       Brand  \\\n",
       "297233    124    golf     150000                  0    petrol  volkswagen   \n",
       "44703     115  vectra     150000                 10    petrol        opel   \n",
       "40616     131  passat     150000                  0  gasoline  volkswagen   \n",
       "329979     75    polo     150000                 10    petrol  volkswagen   \n",
       "125102    101  vectra     150000                  0    petrol        opel   \n",
       "\n",
       "       NotRepaired          DateCreated  NumberOfPictures  PostalCode  \\\n",
       "297233          no  2016-03-14 00:00:00                 0       73433   \n",
       "44703          NaN  2016-03-17 00:00:00                 0       18311   \n",
       "40616          NaN  2016-03-31 00:00:00                 0       66809   \n",
       "329979         yes  2016-03-17 00:00:00                 0       52353   \n",
       "125102         yes  2016-03-22 00:00:00                 0        6772   \n",
       "\n",
       "                   LastSeen  \n",
       "297233  2016-03-17 11:16:44  \n",
       "44703   2016-03-20 13:18:53  \n",
       "40616   2016-04-06 11:44:32  \n",
       "329979  2016-04-05 21:47:48  \n",
       "125102  2016-04-05 21:15:48  "
      ]
     },
     "metadata": {},
     "output_type": "display_data"
    },
    {
     "name": "stdout",
     "output_type": "stream",
     "text": [
      "DataFrame shape  : 354369 rows, 16 columns\n",
      "Memory usage     : 43.26 MB\n",
      "Duplicates count : 4\n"
     ]
    },
    {
     "data": {
      "text/html": [
       "<style  type=\"text/css\" >\n",
       "#T_9f470_row0_col1,#T_9f470_row1_col1,#T_9f470_row3_col1,#T_9f470_row5_col1,#T_9f470_row7_col1,#T_9f470_row8_col1,#T_9f470_row10_col1,#T_9f470_row12_col1,#T_9f470_row13_col1,#T_9f470_row14_col1,#T_9f470_row15_col1{\n",
       "            width:  10em;\n",
       "             height:  80%;\n",
       "            background:  linear-gradient(90deg,lightblue 100.0%, transparent 100.0%);\n",
       "        }#T_9f470_row2_col1{\n",
       "            width:  10em;\n",
       "             height:  80%;\n",
       "            background:  linear-gradient(90deg,lightblue 89.4%, transparent 89.4%);\n",
       "        }#T_9f470_row4_col1,#T_9f470_row6_col1{\n",
       "            width:  10em;\n",
       "             height:  80%;\n",
       "            background:  linear-gradient(90deg,lightblue 94.4%, transparent 94.4%);\n",
       "        }#T_9f470_row9_col1{\n",
       "            width:  10em;\n",
       "             height:  80%;\n",
       "            background:  linear-gradient(90deg,lightblue 90.7%, transparent 90.7%);\n",
       "        }#T_9f470_row11_col1{\n",
       "            width:  10em;\n",
       "             height:  80%;\n",
       "            background:  linear-gradient(90deg,lightblue 79.9%, transparent 79.9%);\n",
       "        }</style><table id=\"T_9f470_\" ><thead>    <tr>        <th class=\"blank level0\" ></th>        <th class=\"col_heading level0 col0\" >notNA</th>        <th class=\"col_heading level0 col1\" >notNA, %</th>        <th class=\"col_heading level0 col2\" >dtype</th>    </tr></thead><tbody>\n",
       "                <tr>\n",
       "                        <th id=\"T_9f470_level0_row0\" class=\"row_heading level0 row0\" >DateCrawled</th>\n",
       "                        <td id=\"T_9f470_row0_col0\" class=\"data row0 col0\" >354369</td>\n",
       "                        <td id=\"T_9f470_row0_col1\" class=\"data row0 col1\" >100.00</td>\n",
       "                        <td id=\"T_9f470_row0_col2\" class=\"data row0 col2\" >object</td>\n",
       "            </tr>\n",
       "            <tr>\n",
       "                        <th id=\"T_9f470_level0_row1\" class=\"row_heading level0 row1\" >Price</th>\n",
       "                        <td id=\"T_9f470_row1_col0\" class=\"data row1 col0\" >354369</td>\n",
       "                        <td id=\"T_9f470_row1_col1\" class=\"data row1 col1\" >100.00</td>\n",
       "                        <td id=\"T_9f470_row1_col2\" class=\"data row1 col2\" >int64</td>\n",
       "            </tr>\n",
       "            <tr>\n",
       "                        <th id=\"T_9f470_level0_row2\" class=\"row_heading level0 row2\" >VehicleType</th>\n",
       "                        <td id=\"T_9f470_row2_col0\" class=\"data row2 col0\" >316879</td>\n",
       "                        <td id=\"T_9f470_row2_col1\" class=\"data row2 col1\" >89.42</td>\n",
       "                        <td id=\"T_9f470_row2_col2\" class=\"data row2 col2\" >object</td>\n",
       "            </tr>\n",
       "            <tr>\n",
       "                        <th id=\"T_9f470_level0_row3\" class=\"row_heading level0 row3\" >RegistrationYear</th>\n",
       "                        <td id=\"T_9f470_row3_col0\" class=\"data row3 col0\" >354369</td>\n",
       "                        <td id=\"T_9f470_row3_col1\" class=\"data row3 col1\" >100.00</td>\n",
       "                        <td id=\"T_9f470_row3_col2\" class=\"data row3 col2\" >int64</td>\n",
       "            </tr>\n",
       "            <tr>\n",
       "                        <th id=\"T_9f470_level0_row4\" class=\"row_heading level0 row4\" >Gearbox</th>\n",
       "                        <td id=\"T_9f470_row4_col0\" class=\"data row4 col0\" >334536</td>\n",
       "                        <td id=\"T_9f470_row4_col1\" class=\"data row4 col1\" >94.40</td>\n",
       "                        <td id=\"T_9f470_row4_col2\" class=\"data row4 col2\" >object</td>\n",
       "            </tr>\n",
       "            <tr>\n",
       "                        <th id=\"T_9f470_level0_row5\" class=\"row_heading level0 row5\" >Power</th>\n",
       "                        <td id=\"T_9f470_row5_col0\" class=\"data row5 col0\" >354369</td>\n",
       "                        <td id=\"T_9f470_row5_col1\" class=\"data row5 col1\" >100.00</td>\n",
       "                        <td id=\"T_9f470_row5_col2\" class=\"data row5 col2\" >int64</td>\n",
       "            </tr>\n",
       "            <tr>\n",
       "                        <th id=\"T_9f470_level0_row6\" class=\"row_heading level0 row6\" >Model</th>\n",
       "                        <td id=\"T_9f470_row6_col0\" class=\"data row6 col0\" >334664</td>\n",
       "                        <td id=\"T_9f470_row6_col1\" class=\"data row6 col1\" >94.44</td>\n",
       "                        <td id=\"T_9f470_row6_col2\" class=\"data row6 col2\" >object</td>\n",
       "            </tr>\n",
       "            <tr>\n",
       "                        <th id=\"T_9f470_level0_row7\" class=\"row_heading level0 row7\" >Kilometer</th>\n",
       "                        <td id=\"T_9f470_row7_col0\" class=\"data row7 col0\" >354369</td>\n",
       "                        <td id=\"T_9f470_row7_col1\" class=\"data row7 col1\" >100.00</td>\n",
       "                        <td id=\"T_9f470_row7_col2\" class=\"data row7 col2\" >int64</td>\n",
       "            </tr>\n",
       "            <tr>\n",
       "                        <th id=\"T_9f470_level0_row8\" class=\"row_heading level0 row8\" >RegistrationMonth</th>\n",
       "                        <td id=\"T_9f470_row8_col0\" class=\"data row8 col0\" >354369</td>\n",
       "                        <td id=\"T_9f470_row8_col1\" class=\"data row8 col1\" >100.00</td>\n",
       "                        <td id=\"T_9f470_row8_col2\" class=\"data row8 col2\" >int64</td>\n",
       "            </tr>\n",
       "            <tr>\n",
       "                        <th id=\"T_9f470_level0_row9\" class=\"row_heading level0 row9\" >FuelType</th>\n",
       "                        <td id=\"T_9f470_row9_col0\" class=\"data row9 col0\" >321474</td>\n",
       "                        <td id=\"T_9f470_row9_col1\" class=\"data row9 col1\" >90.72</td>\n",
       "                        <td id=\"T_9f470_row9_col2\" class=\"data row9 col2\" >object</td>\n",
       "            </tr>\n",
       "            <tr>\n",
       "                        <th id=\"T_9f470_level0_row10\" class=\"row_heading level0 row10\" >Brand</th>\n",
       "                        <td id=\"T_9f470_row10_col0\" class=\"data row10 col0\" >354369</td>\n",
       "                        <td id=\"T_9f470_row10_col1\" class=\"data row10 col1\" >100.00</td>\n",
       "                        <td id=\"T_9f470_row10_col2\" class=\"data row10 col2\" >object</td>\n",
       "            </tr>\n",
       "            <tr>\n",
       "                        <th id=\"T_9f470_level0_row11\" class=\"row_heading level0 row11\" >NotRepaired</th>\n",
       "                        <td id=\"T_9f470_row11_col0\" class=\"data row11 col0\" >283215</td>\n",
       "                        <td id=\"T_9f470_row11_col1\" class=\"data row11 col1\" >79.92</td>\n",
       "                        <td id=\"T_9f470_row11_col2\" class=\"data row11 col2\" >object</td>\n",
       "            </tr>\n",
       "            <tr>\n",
       "                        <th id=\"T_9f470_level0_row12\" class=\"row_heading level0 row12\" >DateCreated</th>\n",
       "                        <td id=\"T_9f470_row12_col0\" class=\"data row12 col0\" >354369</td>\n",
       "                        <td id=\"T_9f470_row12_col1\" class=\"data row12 col1\" >100.00</td>\n",
       "                        <td id=\"T_9f470_row12_col2\" class=\"data row12 col2\" >object</td>\n",
       "            </tr>\n",
       "            <tr>\n",
       "                        <th id=\"T_9f470_level0_row13\" class=\"row_heading level0 row13\" >NumberOfPictures</th>\n",
       "                        <td id=\"T_9f470_row13_col0\" class=\"data row13 col0\" >354369</td>\n",
       "                        <td id=\"T_9f470_row13_col1\" class=\"data row13 col1\" >100.00</td>\n",
       "                        <td id=\"T_9f470_row13_col2\" class=\"data row13 col2\" >int64</td>\n",
       "            </tr>\n",
       "            <tr>\n",
       "                        <th id=\"T_9f470_level0_row14\" class=\"row_heading level0 row14\" >PostalCode</th>\n",
       "                        <td id=\"T_9f470_row14_col0\" class=\"data row14 col0\" >354369</td>\n",
       "                        <td id=\"T_9f470_row14_col1\" class=\"data row14 col1\" >100.00</td>\n",
       "                        <td id=\"T_9f470_row14_col2\" class=\"data row14 col2\" >int64</td>\n",
       "            </tr>\n",
       "            <tr>\n",
       "                        <th id=\"T_9f470_level0_row15\" class=\"row_heading level0 row15\" >LastSeen</th>\n",
       "                        <td id=\"T_9f470_row15_col0\" class=\"data row15 col0\" >354369</td>\n",
       "                        <td id=\"T_9f470_row15_col1\" class=\"data row15 col1\" >100.00</td>\n",
       "                        <td id=\"T_9f470_row15_col2\" class=\"data row15 col2\" >object</td>\n",
       "            </tr>\n",
       "    </tbody></table>"
      ],
      "text/plain": [
       "<pandas.io.formats.style.Styler at 0x22c1c50a1f0>"
      ]
     },
     "metadata": {},
     "output_type": "display_data"
    },
    {
     "data": {
      "text/html": [
       "<div>\n",
       "<style scoped>\n",
       "    .dataframe tbody tr th:only-of-type {\n",
       "        vertical-align: middle;\n",
       "    }\n",
       "\n",
       "    .dataframe tbody tr th {\n",
       "        vertical-align: top;\n",
       "    }\n",
       "\n",
       "    .dataframe thead th {\n",
       "        text-align: right;\n",
       "    }\n",
       "</style>\n",
       "<table border=\"1\" class=\"dataframe\">\n",
       "  <thead>\n",
       "    <tr style=\"text-align: right;\">\n",
       "      <th></th>\n",
       "      <th>Price</th>\n",
       "      <th>RegistrationYear</th>\n",
       "      <th>Power</th>\n",
       "      <th>Kilometer</th>\n",
       "      <th>RegistrationMonth</th>\n",
       "      <th>NumberOfPictures</th>\n",
       "      <th>PostalCode</th>\n",
       "    </tr>\n",
       "  </thead>\n",
       "  <tbody>\n",
       "    <tr>\n",
       "      <th>count</th>\n",
       "      <td>354369.000000</td>\n",
       "      <td>354369.000000</td>\n",
       "      <td>354369.000000</td>\n",
       "      <td>354369.000000</td>\n",
       "      <td>354369.000000</td>\n",
       "      <td>354369.0</td>\n",
       "      <td>354369.000000</td>\n",
       "    </tr>\n",
       "    <tr>\n",
       "      <th>mean</th>\n",
       "      <td>4416.656776</td>\n",
       "      <td>2004.234448</td>\n",
       "      <td>110.094337</td>\n",
       "      <td>128211.172535</td>\n",
       "      <td>5.714645</td>\n",
       "      <td>0.0</td>\n",
       "      <td>50508.689087</td>\n",
       "    </tr>\n",
       "    <tr>\n",
       "      <th>std</th>\n",
       "      <td>4514.158514</td>\n",
       "      <td>90.227958</td>\n",
       "      <td>189.850405</td>\n",
       "      <td>37905.341530</td>\n",
       "      <td>3.726421</td>\n",
       "      <td>0.0</td>\n",
       "      <td>25783.096248</td>\n",
       "    </tr>\n",
       "    <tr>\n",
       "      <th>min</th>\n",
       "      <td>0.000000</td>\n",
       "      <td>1000.000000</td>\n",
       "      <td>0.000000</td>\n",
       "      <td>5000.000000</td>\n",
       "      <td>0.000000</td>\n",
       "      <td>0.0</td>\n",
       "      <td>1067.000000</td>\n",
       "    </tr>\n",
       "    <tr>\n",
       "      <th>25%</th>\n",
       "      <td>1050.000000</td>\n",
       "      <td>1999.000000</td>\n",
       "      <td>69.000000</td>\n",
       "      <td>125000.000000</td>\n",
       "      <td>3.000000</td>\n",
       "      <td>0.0</td>\n",
       "      <td>30165.000000</td>\n",
       "    </tr>\n",
       "    <tr>\n",
       "      <th>50%</th>\n",
       "      <td>2700.000000</td>\n",
       "      <td>2003.000000</td>\n",
       "      <td>105.000000</td>\n",
       "      <td>150000.000000</td>\n",
       "      <td>6.000000</td>\n",
       "      <td>0.0</td>\n",
       "      <td>49413.000000</td>\n",
       "    </tr>\n",
       "    <tr>\n",
       "      <th>75%</th>\n",
       "      <td>6400.000000</td>\n",
       "      <td>2008.000000</td>\n",
       "      <td>143.000000</td>\n",
       "      <td>150000.000000</td>\n",
       "      <td>9.000000</td>\n",
       "      <td>0.0</td>\n",
       "      <td>71083.000000</td>\n",
       "    </tr>\n",
       "    <tr>\n",
       "      <th>max</th>\n",
       "      <td>20000.000000</td>\n",
       "      <td>9999.000000</td>\n",
       "      <td>20000.000000</td>\n",
       "      <td>150000.000000</td>\n",
       "      <td>12.000000</td>\n",
       "      <td>0.0</td>\n",
       "      <td>99998.000000</td>\n",
       "    </tr>\n",
       "  </tbody>\n",
       "</table>\n",
       "</div>"
      ],
      "text/plain": [
       "               Price  RegistrationYear          Power      Kilometer  \\\n",
       "count  354369.000000     354369.000000  354369.000000  354369.000000   \n",
       "mean     4416.656776       2004.234448     110.094337  128211.172535   \n",
       "std      4514.158514         90.227958     189.850405   37905.341530   \n",
       "min         0.000000       1000.000000       0.000000    5000.000000   \n",
       "25%      1050.000000       1999.000000      69.000000  125000.000000   \n",
       "50%      2700.000000       2003.000000     105.000000  150000.000000   \n",
       "75%      6400.000000       2008.000000     143.000000  150000.000000   \n",
       "max     20000.000000       9999.000000   20000.000000  150000.000000   \n",
       "\n",
       "       RegistrationMonth  NumberOfPictures     PostalCode  \n",
       "count      354369.000000          354369.0  354369.000000  \n",
       "mean            5.714645               0.0   50508.689087  \n",
       "std             3.726421               0.0   25783.096248  \n",
       "min             0.000000               0.0    1067.000000  \n",
       "25%             3.000000               0.0   30165.000000  \n",
       "50%             6.000000               0.0   49413.000000  \n",
       "75%             9.000000               0.0   71083.000000  \n",
       "max            12.000000               0.0   99998.000000  "
      ]
     },
     "metadata": {},
     "output_type": "display_data"
    }
   ],
   "source": [
    "try:\n",
    "    df = pd.read_csv('../datasets/autos.csv')\n",
    "except:\n",
    "    df = pd.read_csv('/datasets/autos.csv')\n",
    "\n",
    "display(df.sample(5))\n",
    "display(dataframe_info(df))\n",
    "display(df.describe())"
   ]
  },
  {
   "cell_type": "markdown",
   "metadata": {},
   "source": [
    "Есть 4 дубля. \n",
    "\n",
    "В строковых столбцах имеются пропуски. Это категориальные признаки. Особенно часто не заполняют информацию о том, ремонтировался ли автомобиль. \n",
    "\n",
    "В столбцах замечаем следующие проблемы:\n",
    "- `RegistrationYear` - слишком маленькие и слишком большие значения\n",
    "- `RegistrationMonth` - имеются значения от 0 до 12 включительно, вероятнее всего 0 быть не должно\n",
    "- `Power` - есть нулевые значения и слишком большие (тысячи л.с.)\n",
    "- `NumberOfPictures` - нет ничего, кроме нулей. Этот столбец можно удалить.\n",
    "- `PostalCode` - числовой целочисленный, однако индекс некорректно считать числовым признаком, он характеризует географическое положение\n",
    "- `Price` - нулевые значения\n",
    "\n",
    "Столбцы `DateCrawled`, `DateCreated` и `LastSeen` - даты активности пользователя и выгрузки анкеты. Для предсказания строимости автомобиля они бесполезны, поскольку не влияют на неё."
   ]
  },
  {
   "cell_type": "markdown",
   "metadata": {},
   "source": [
    "Определим крайнюю дату выгрузки объявлений из системы: позднее неё автомобили не могли быть зарегистрированы."
   ]
  },
  {
   "cell_type": "code",
   "execution_count": 4,
   "metadata": {},
   "outputs": [
    {
     "name": "stdout",
     "output_type": "stream",
     "text": [
      "Крайняя дата выгрузки: 2016-04-07 14:36:58\n"
     ]
    }
   ],
   "source": [
    "print('Крайняя дата выгрузки:', df['DateCrawled'].max())"
   ]
  },
  {
   "cell_type": "markdown",
   "metadata": {},
   "source": [
    "- Удалим столбцы, значения в которых бесполезны для обучения моделей - столбцы с датами. \n",
    "- От почтового индекса также избавимся, однако вместо него создадим новый новый столбец, в котором будем хранить первую цифру индекса в виде строки. Обычно первая цифра индекса указывает на укрупнённый регион."
   ]
  },
  {
   "cell_type": "code",
   "execution_count": 5,
   "metadata": {},
   "outputs": [
    {
     "name": "stdout",
     "output_type": "stream",
     "text": [
      "Количество дублей 23819\n"
     ]
    }
   ],
   "source": [
    "for f in ['NumberOfPictures', 'DateCrawled', 'DateCreated', 'LastSeen']:\n",
    "    if f in df.columns:\n",
    "        df.drop(f, axis=1, inplace=True)\n",
    "\n",
    "if 'PostalCode' in df.columns:\n",
    "    df['Region'] = (df['PostalCode'] / 10000).astype('int').astype('str')\n",
    "    df.drop('PostalCode', axis=1, inplace=True)\n",
    "\n",
    "print('Количество дублей', df.duplicated().sum())"
   ]
  },
  {
   "cell_type": "markdown",
   "metadata": {},
   "source": [
    "Теперь количество дублей более 20000. Возможно это связано с тем, что некоторые объявления были выгружены из системы или опубликованы пользователями повторно. Вероятность совпадения сразу всех параметров мала - избавимся от них.\n",
    "\n",
    "_Примечание:_ часть дублей появилось из-за укрупнения групп индексов, однако их количество - около 1 %.  "
   ]
  },
  {
   "cell_type": "code",
   "execution_count": 6,
   "metadata": {},
   "outputs": [
    {
     "data": {
      "text/plain": [
       "(330550, 12)"
      ]
     },
     "execution_count": 6,
     "metadata": {},
     "output_type": "execute_result"
    }
   ],
   "source": [
    "df = df.drop_duplicates(ignore_index=True)\n",
    "df.shape"
   ]
  },
  {
   "cell_type": "markdown",
   "metadata": {},
   "source": [
    "Изучим распределения величин"
   ]
  },
  {
   "cell_type": "code",
   "execution_count": 7,
   "metadata": {},
   "outputs": [
    {
     "name": "stderr",
     "output_type": "stream",
     "text": [
      "Summarize dataset: 100%|██████████| 26/26 [00:14<00:00,  1.76it/s, Completed]                         \n",
      "Generate report structure: 100%|██████████| 1/1 [00:03<00:00,  3.06s/it]\n",
      "Render HTML: 100%|██████████| 1/1 [00:01<00:00,  1.26s/it]\n",
      "Export report to file: 100%|██████████| 1/1 [00:00<00:00, 111.13it/s]\n"
     ]
    }
   ],
   "source": [
    "with warnings.catch_warnings():\n",
    "    warnings.simplefilter('ignore')\n",
    "    profile = ProfileReport(df)\n",
    "    # profile.to_widgets()\n",
    "    profile.to_file(\"autos_profiling.html\")\n",
    "    del profile"
   ]
  },
  {
   "cell_type": "markdown",
   "metadata": {},
   "source": [
    "- Аномальные значения отсутсвуют только у пробега. Однако значения у него _дискретны_. \n",
    "- Очень большой разброс значений года регистрации\n",
    "- Присутсвуют возможно слишком высокие и слишком низкие значения цены\n",
    "- Очень часто встречается нулевое значение месяца регистрации - 10 % случаев.\n",
    "- Много нулей в столбце мощности - 11 %. Большой разброс значений.\n",
    "\n",
    "Произведём анализ выбросов по столбцам"
   ]
  },
  {
   "cell_type": "markdown",
   "metadata": {},
   "source": [
    "### Выбросы"
   ]
  },
  {
   "cell_type": "markdown",
   "metadata": {},
   "source": [
    "#### Год регистрации `RegistrationYear`\n",
    "\n",
    "Выведем значения года < 1950 и > 2016"
   ]
  },
  {
   "cell_type": "code",
   "execution_count": 8,
   "metadata": {},
   "outputs": [
    {
     "name": "stdout",
     "output_type": "stream",
     "text": [
      "Аномальные значения :\n",
      " [1000 1001 1039 1111 1200 1234 1253 1255 1300 1400 1500 1600 1602 1688\n",
      " 1800 1910 1915 1919 1920 1923 1925 1927 1928 1929 1930 1931 1932 1933\n",
      " 1934 1935 1936 1937 1938 1940 1941 1942 1943 1944 1945 1946 1947 1948\n",
      " 1949 2017 2018 2019 2066 2200 2222 2290 2500 2800 2900 3000 3200 3500\n",
      " 3700 3800 4000 4100 4500 4800 5000 5300 5555 5600 5900 5911 6000 6500\n",
      " 7000 7100 7500 7800 8000 8200 8455 8500 8888 9000 9229 9450 9996 9999]\n"
     ]
    }
   ],
   "source": [
    "print('Аномальные значения :\\n',\n",
    "      df.query('RegistrationYear > 2016 or RegistrationYear < 1950')['RegistrationYear']\n",
    "      .sort_values().unique())"
   ]
  },
  {
   "cell_type": "markdown",
   "metadata": {},
   "source": [
    "Посмотрим, как много объявлений с годом < 1970 и > 2016. Вряд ли ещё есть автомобили на ходу ранее этого года. Даже если такие и продаются, то это скорее коллекционные экземляры, для обучения моделей их примеров будет слишком мало."
   ]
  },
  {
   "cell_type": "code",
   "execution_count": 9,
   "metadata": {},
   "outputs": [
    {
     "name": "stdout",
     "output_type": "stream",
     "text": [
      "RegistrationYear < 1970 : 1299\n",
      "RegistrationYear > 2016 : 13881\n"
     ]
    },
    {
     "data": {
      "image/png": "[encoded data removed]",
      "text/plain": [
       "<Figure size 720x504 with 2 Axes>"
      ]
     },
     "metadata": {
      "needs_background": "light"
     },
     "output_type": "display_data"
    }
   ],
   "source": [
    "f = 'RegistrationYear'\n",
    "print(f+' < 1970 :', (df[f] < 1970).sum())\n",
    "print(f+' > 2016 :', (df[f] > 2016).sum())\n",
    "\n",
    "show_hist(df[(df[f] > df[f].quantile(.005)) & (df[f] < df[f].quantile(.995))],\n",
    "          f, bins=40,  figsize=(10, 7), title='Распределение '+f)"
   ]
  },
  {
   "cell_type": "markdown",
   "metadata": {},
   "source": [
    "Объявления с указанным годом и месяцем регистрации автомобиля позднее апреля 2016 отфильтруем. После фильтрации потеряем около 5 процентов объектов. "
   ]
  },
  {
   "cell_type": "code",
   "execution_count": 10,
   "metadata": {},
   "outputs": [
    {
     "data": {
      "text/plain": [
       "(310827, 12)"
      ]
     },
     "execution_count": 10,
     "metadata": {},
     "output_type": "execute_result"
    },
    {
     "data": {
      "image/png": "[encoded data removed]",
      "text/plain": [
       "<Figure size 720x504 with 2 Axes>"
      ]
     },
     "metadata": {
      "needs_background": "light"
     },
     "output_type": "display_data"
    }
   ],
   "source": [
    "df = df.query('1970 <= RegistrationYear <= 2016')\n",
    "df = df.query('not (RegistrationYear == 2016 and RegistrationMonth > 4)')\n",
    "show_hist(df, f, bins=45,  figsize=(10, 7), \n",
    "          title='Распределение '+f+' после фильтрации')\n",
    "df.shape "
   ]
  },
  {
   "cell_type": "markdown",
   "metadata": {},
   "source": [
    "#### Мощность `Power`"
   ]
  },
  {
   "cell_type": "code",
   "execution_count": 11,
   "metadata": {},
   "outputs": [
    {
     "data": {
      "image/png": "[encoded data removed]",
      "text/plain": [
       "<Figure size 720x504 with 2 Axes>"
      ]
     },
     "metadata": {
      "needs_background": "light"
     },
     "output_type": "display_data"
    }
   ],
   "source": [
    "f = 'Power'\n",
    "show_hist(df[df[f] < df[f].quantile(.99)],\n",
    "          f, bins=50,  figsize=(10, 7), title='Распределение '+f)"
   ]
  },
  {
   "cell_type": "code",
   "execution_count": 12,
   "metadata": {},
   "outputs": [
    {
     "name": "stdout",
     "output_type": "stream",
     "text": [
      "Power =   0 : 32918\n",
      "Power > 500 : 396\n"
     ]
    }
   ],
   "source": [
    "print(f+' =   0 :', (df[f] == 0).sum())\n",
    "print(f+' > 500 :', (df[f] > 500).sum())"
   ]
  },
  {
   "cell_type": "markdown",
   "metadata": {},
   "source": [
    "Слишком много нулевых значений мощности, однако их восстановить не получится, отфильтруем. Верхний предел установим равным 500, Автомобили с большей мощностью - редкость"
   ]
  },
  {
   "cell_type": "code",
   "execution_count": 13,
   "metadata": {},
   "outputs": [
    {
     "data": {
      "text/plain": [
       "count    277315.000000\n",
       "mean        120.497128\n",
       "std          53.377474\n",
       "min          10.000000\n",
       "25%          75.000000\n",
       "50%         111.000000\n",
       "75%         150.000000\n",
       "max         500.000000\n",
       "Name: Power, dtype: float64"
      ]
     },
     "execution_count": 13,
     "metadata": {},
     "output_type": "execute_result"
    },
    {
     "data": {
      "image/png": "[encoded data removed]",
      "text/plain": [
       "<Figure size 720x504 with 2 Axes>"
      ]
     },
     "metadata": {
      "needs_background": "light"
     },
     "output_type": "display_data"
    }
   ],
   "source": [
    "df = df.query('10 <= Power <= 500')\n",
    "show_hist(df, f, bins=65,  figsize=(10, 7), title='Распределение '+f+' после фильтрации')\n",
    "df[f].describe()"
   ]
  },
  {
   "cell_type": "markdown",
   "metadata": {},
   "source": [
    "#### Цена `Price`"
   ]
  },
  {
   "cell_type": "code",
   "execution_count": 14,
   "metadata": {},
   "outputs": [
    {
     "data": {
      "text/plain": [
       "14999.0"
      ]
     },
     "execution_count": 14,
     "metadata": {},
     "output_type": "execute_result"
    },
    {
     "data": {
      "image/png": "[encoded data removed]",
      "text/plain": [
       "<Figure size 720x504 with 2 Axes>"
      ]
     },
     "metadata": {
      "needs_background": "light"
     },
     "output_type": "display_data"
    }
   ],
   "source": [
    "f = 'Price'\n",
    "show_hist(df, f, bins=100,  figsize=(10, 7), title='Распределение '+f)\n",
    "df[f].quantile(0.95)"
   ]
  },
  {
   "cell_type": "code",
   "execution_count": 15,
   "metadata": {},
   "outputs": [
    {
     "name": "stdout",
     "output_type": "stream",
     "text": [
      "Price <    100 : 6697\n",
      "Price >= 15000 : 13562\n"
     ]
    }
   ],
   "source": [
    "print(f+' <    100 :', (df[f] < 100).sum())\n",
    "print(f+' >= 15000 :', (df[f] >= 15000).sum())"
   ]
  },
  {
   "cell_type": "markdown",
   "metadata": {},
   "source": [
    "Распределение похоже на реальное. Пики обусловлены округлением цен до 500 евро или до сотен евро. 20000 евро - вполне возможная цена, однако из-за слишком длинного хвоста в распределении мы имеем высокое стандартное отклонение, как следствие не сможем добиться хорошего качества предсказангия моделей. Цена ниже 100 евро подозрительна. Отбросим такие значения."
   ]
  },
  {
   "cell_type": "code",
   "execution_count": 16,
   "metadata": {},
   "outputs": [
    {
     "data": {
      "text/plain": [
       "count    257056.000000\n",
       "mean       4191.082717\n",
       "std        3677.077298\n",
       "min         100.000000\n",
       "25%        1290.000000\n",
       "50%        2950.000000\n",
       "75%        6200.000000\n",
       "max       14999.000000\n",
       "Name: Price, dtype: float64"
      ]
     },
     "execution_count": 16,
     "metadata": {},
     "output_type": "execute_result"
    },
    {
     "data": {
      "image/png": "[encoded data removed]",
      "text/plain": [
       "<Figure size 720x504 with 2 Axes>"
      ]
     },
     "metadata": {
      "needs_background": "light"
     },
     "output_type": "display_data"
    }
   ],
   "source": [
    "df = df.query('100 <= Price < 15000')\n",
    "show_hist(df, f, bins=100, figsize=(10, 7), title='Распределение '+f+' после фильтрации')\n",
    "df[f].describe()"
   ]
  },
  {
   "cell_type": "markdown",
   "metadata": {},
   "source": [
    "Разброс значений всё ещё большой"
   ]
  },
  {
   "cell_type": "markdown",
   "metadata": {},
   "source": [
    "#### Месяц регистрации `RegistrationMonth`\n",
    "\n",
    "Как уже было замечено, встречается нулевое значение месяца. Вероятнее всего в таких объявлениях он не был указан. \n",
    "\n",
    "Встречаемость разных значений месяца"
   ]
  },
  {
   "cell_type": "code",
   "execution_count": 17,
   "metadata": {},
   "outputs": [
    {
     "data": {
      "image/png": "[encoded data removed]",
      "text/plain": [
       "<Figure size 432x288 with 1 Axes>"
      ]
     },
     "metadata": {
      "needs_background": "light"
     },
     "output_type": "display_data"
    }
   ],
   "source": [
    "df_month_counts = df['RegistrationMonth'].value_counts().sort_index()\n",
    "ax = sns.barplot(y=df_month_counts.values, x=df_month_counts.index)\n",
    "ax.set(title='Количество значений RegistrationMonth',\n",
    "       xlabel='Месяц', ylabel='Количество значений')\n",
    "\n",
    "del df_month_counts"
   ]
  },
  {
   "cell_type": "markdown",
   "metadata": {},
   "source": [
    "Заменим нули значениями, выбранными случайно из заполненных значений столбца."
   ]
  },
  {
   "cell_type": "code",
   "execution_count": 18,
   "metadata": {},
   "outputs": [
    {
     "data": {
      "text/plain": [
       "count    257056.000000\n",
       "mean          6.351997\n",
       "std           3.349852\n",
       "min           1.000000\n",
       "25%           3.000000\n",
       "50%           6.000000\n",
       "75%           9.000000\n",
       "max          12.000000\n",
       "Name: RegistrationMonth, dtype: float64"
      ]
     },
     "execution_count": 18,
     "metadata": {},
     "output_type": "execute_result"
    }
   ],
   "source": [
    "df.loc[df['RegistrationMonth'] == 0, 'RegistrationMonth'] = pd.Series(\n",
    "    index= df[df['RegistrationMonth']==0].index,\n",
    "    data=df[df['RegistrationMonth'] != 0]['RegistrationMonth'].sample(\n",
    "        (df['RegistrationMonth'] == 0).sum()).values\n",
    ")\n",
    "df['RegistrationMonth'].describe()"
   ]
  },
  {
   "cell_type": "code",
   "execution_count": 19,
   "metadata": {},
   "outputs": [
    {
     "data": {
      "image/png": "[encoded data removed]",
      "text/plain": [
       "<Figure size 432x288 with 2 Axes>"
      ]
     },
     "metadata": {
      "needs_background": "light"
     },
     "output_type": "display_data"
    },
    {
     "name": "stdout",
     "output_type": "stream",
     "text": [
      "DataFrame shape  : 257056 rows, 12 columns\n",
      "Memory usage     : 23.53 MB\n",
      "Duplicates count : 48\n"
     ]
    },
    {
     "data": {
      "text/html": [
       "<style  type=\"text/css\" >\n",
       "#T_e5c0e_row0_col1,#T_e5c0e_row2_col1,#T_e5c0e_row4_col1,#T_e5c0e_row6_col1,#T_e5c0e_row7_col1,#T_e5c0e_row9_col1,#T_e5c0e_row11_col1{\n",
       "            width:  10em;\n",
       "             height:  80%;\n",
       "            background:  linear-gradient(90deg,lightblue 100.0%, transparent 100.0%);\n",
       "        }#T_e5c0e_row1_col1{\n",
       "            width:  10em;\n",
       "             height:  80%;\n",
       "            background:  linear-gradient(90deg,lightblue 97.2%, transparent 97.2%);\n",
       "        }#T_e5c0e_row3_col1{\n",
       "            width:  10em;\n",
       "             height:  80%;\n",
       "            background:  linear-gradient(90deg,lightblue 98.1%, transparent 98.1%);\n",
       "        }#T_e5c0e_row5_col1{\n",
       "            width:  10em;\n",
       "             height:  80%;\n",
       "            background:  linear-gradient(90deg,lightblue 96.3%, transparent 96.3%);\n",
       "        }#T_e5c0e_row8_col1{\n",
       "            width:  10em;\n",
       "             height:  80%;\n",
       "            background:  linear-gradient(90deg,lightblue 94.8%, transparent 94.8%);\n",
       "        }#T_e5c0e_row10_col1{\n",
       "            width:  10em;\n",
       "             height:  80%;\n",
       "            background:  linear-gradient(90deg,lightblue 85.1%, transparent 85.1%);\n",
       "        }</style><table id=\"T_e5c0e_\" ><thead>    <tr>        <th class=\"blank level0\" ></th>        <th class=\"col_heading level0 col0\" >notNA</th>        <th class=\"col_heading level0 col1\" >notNA, %</th>        <th class=\"col_heading level0 col2\" >dtype</th>    </tr></thead><tbody>\n",
       "                <tr>\n",
       "                        <th id=\"T_e5c0e_level0_row0\" class=\"row_heading level0 row0\" >Price</th>\n",
       "                        <td id=\"T_e5c0e_row0_col0\" class=\"data row0 col0\" >257056</td>\n",
       "                        <td id=\"T_e5c0e_row0_col1\" class=\"data row0 col1\" >100.00</td>\n",
       "                        <td id=\"T_e5c0e_row0_col2\" class=\"data row0 col2\" >int64</td>\n",
       "            </tr>\n",
       "            <tr>\n",
       "                        <th id=\"T_e5c0e_level0_row1\" class=\"row_heading level0 row1\" >VehicleType</th>\n",
       "                        <td id=\"T_e5c0e_row1_col0\" class=\"data row1 col0\" >249897</td>\n",
       "                        <td id=\"T_e5c0e_row1_col1\" class=\"data row1 col1\" >97.22</td>\n",
       "                        <td id=\"T_e5c0e_row1_col2\" class=\"data row1 col2\" >object</td>\n",
       "            </tr>\n",
       "            <tr>\n",
       "                        <th id=\"T_e5c0e_level0_row2\" class=\"row_heading level0 row2\" >RegistrationYear</th>\n",
       "                        <td id=\"T_e5c0e_row2_col0\" class=\"data row2 col0\" >257056</td>\n",
       "                        <td id=\"T_e5c0e_row2_col1\" class=\"data row2 col1\" >100.00</td>\n",
       "                        <td id=\"T_e5c0e_row2_col2\" class=\"data row2 col2\" >int64</td>\n",
       "            </tr>\n",
       "            <tr>\n",
       "                        <th id=\"T_e5c0e_level0_row3\" class=\"row_heading level0 row3\" >Gearbox</th>\n",
       "                        <td id=\"T_e5c0e_row3_col0\" class=\"data row3 col0\" >252212</td>\n",
       "                        <td id=\"T_e5c0e_row3_col1\" class=\"data row3 col1\" >98.12</td>\n",
       "                        <td id=\"T_e5c0e_row3_col2\" class=\"data row3 col2\" >object</td>\n",
       "            </tr>\n",
       "            <tr>\n",
       "                        <th id=\"T_e5c0e_level0_row4\" class=\"row_heading level0 row4\" >Power</th>\n",
       "                        <td id=\"T_e5c0e_row4_col0\" class=\"data row4 col0\" >257056</td>\n",
       "                        <td id=\"T_e5c0e_row4_col1\" class=\"data row4 col1\" >100.00</td>\n",
       "                        <td id=\"T_e5c0e_row4_col2\" class=\"data row4 col2\" >int64</td>\n",
       "            </tr>\n",
       "            <tr>\n",
       "                        <th id=\"T_e5c0e_level0_row5\" class=\"row_heading level0 row5\" >Model</th>\n",
       "                        <td id=\"T_e5c0e_row5_col0\" class=\"data row5 col0\" >247448</td>\n",
       "                        <td id=\"T_e5c0e_row5_col1\" class=\"data row5 col1\" >96.26</td>\n",
       "                        <td id=\"T_e5c0e_row5_col2\" class=\"data row5 col2\" >object</td>\n",
       "            </tr>\n",
       "            <tr>\n",
       "                        <th id=\"T_e5c0e_level0_row6\" class=\"row_heading level0 row6\" >Kilometer</th>\n",
       "                        <td id=\"T_e5c0e_row6_col0\" class=\"data row6 col0\" >257056</td>\n",
       "                        <td id=\"T_e5c0e_row6_col1\" class=\"data row6 col1\" >100.00</td>\n",
       "                        <td id=\"T_e5c0e_row6_col2\" class=\"data row6 col2\" >int64</td>\n",
       "            </tr>\n",
       "            <tr>\n",
       "                        <th id=\"T_e5c0e_level0_row7\" class=\"row_heading level0 row7\" >RegistrationMonth</th>\n",
       "                        <td id=\"T_e5c0e_row7_col0\" class=\"data row7 col0\" >257056</td>\n",
       "                        <td id=\"T_e5c0e_row7_col1\" class=\"data row7 col1\" >100.00</td>\n",
       "                        <td id=\"T_e5c0e_row7_col2\" class=\"data row7 col2\" >int64</td>\n",
       "            </tr>\n",
       "            <tr>\n",
       "                        <th id=\"T_e5c0e_level0_row8\" class=\"row_heading level0 row8\" >FuelType</th>\n",
       "                        <td id=\"T_e5c0e_row8_col0\" class=\"data row8 col0\" >243795</td>\n",
       "                        <td id=\"T_e5c0e_row8_col1\" class=\"data row8 col1\" >94.84</td>\n",
       "                        <td id=\"T_e5c0e_row8_col2\" class=\"data row8 col2\" >object</td>\n",
       "            </tr>\n",
       "            <tr>\n",
       "                        <th id=\"T_e5c0e_level0_row9\" class=\"row_heading level0 row9\" >Brand</th>\n",
       "                        <td id=\"T_e5c0e_row9_col0\" class=\"data row9 col0\" >257056</td>\n",
       "                        <td id=\"T_e5c0e_row9_col1\" class=\"data row9 col1\" >100.00</td>\n",
       "                        <td id=\"T_e5c0e_row9_col2\" class=\"data row9 col2\" >object</td>\n",
       "            </tr>\n",
       "            <tr>\n",
       "                        <th id=\"T_e5c0e_level0_row10\" class=\"row_heading level0 row10\" >NotRepaired</th>\n",
       "                        <td id=\"T_e5c0e_row10_col0\" class=\"data row10 col0\" >218695</td>\n",
       "                        <td id=\"T_e5c0e_row10_col1\" class=\"data row10 col1\" >85.08</td>\n",
       "                        <td id=\"T_e5c0e_row10_col2\" class=\"data row10 col2\" >object</td>\n",
       "            </tr>\n",
       "            <tr>\n",
       "                        <th id=\"T_e5c0e_level0_row11\" class=\"row_heading level0 row11\" >Region</th>\n",
       "                        <td id=\"T_e5c0e_row11_col0\" class=\"data row11 col0\" >257056</td>\n",
       "                        <td id=\"T_e5c0e_row11_col1\" class=\"data row11 col1\" >100.00</td>\n",
       "                        <td id=\"T_e5c0e_row11_col2\" class=\"data row11 col2\" >object</td>\n",
       "            </tr>\n",
       "    </tbody></table>"
      ],
      "text/plain": [
       "<pandas.io.formats.style.Styler at 0x22c1c50a850>"
      ]
     },
     "execution_count": 19,
     "metadata": {},
     "output_type": "execute_result"
    }
   ],
   "source": [
    "df = df.reset_index(drop=True)\n",
    "sns.heatmap(df.corr(), annot=True, cmap='coolwarm', vmin=-1, vmax=1)\n",
    "plt.title('Correlation Matrix')\n",
    "plt.show()\n",
    "dataframe_info(df)"
   ]
  },
  {
   "cell_type": "markdown",
   "metadata": {},
   "source": [
    "Мультиколлинеарности численных признаков не наблюдаем\n",
    "\n",
    "Вновь возникли дубли из-за совпадения значений месяца.\n",
    "\n",
    "Потеряли около 28 % изначального объёма данных."
   ]
  },
  {
   "cell_type": "markdown",
   "metadata": {},
   "source": [
    "### Пропуски\n",
    "\n",
    "Выделим категориальные признаки в список. Посмотрим распределения значений. Далее заполним пропуски в них"
   ]
  },
  {
   "cell_type": "code",
   "execution_count": 20,
   "metadata": {
    "scrolled": false
   },
   "outputs": [
    {
     "name": "stdout",
     "output_type": "stream",
     "text": [
      "`VehicleType`, unique values: 8\n",
      "['bus', 'convertible', 'coupe', 'other', 'sedan', 'small', 'suv', 'wagon']\n",
      "\n"
     ]
    },
    {
     "data": {
      "image/png": "[encoded data removed]",
      "text/plain": [
       "<Figure size 576x226.8 with 1 Axes>"
      ]
     },
     "metadata": {
      "needs_background": "light"
     },
     "output_type": "display_data"
    },
    {
     "name": "stdout",
     "output_type": "stream",
     "text": [
      "`Gearbox`, unique values: 2\n",
      "['auto', 'manual']\n",
      "\n"
     ]
    },
    {
     "data": {
      "image/png": "[encoded data removed]",
      "text/plain": [
       "<Figure size 576x75.6 with 1 Axes>"
      ]
     },
     "metadata": {
      "needs_background": "light"
     },
     "output_type": "display_data"
    },
    {
     "name": "stdout",
     "output_type": "stream",
     "text": [
      "`Model`, unique values: 249\n",
      "['100', '145', '147', '156', '159', '1_reihe', '1er', '200', '2_reihe', '300c', '3_reihe', '3er', '4_reihe', '500', '5_reihe', '5er', '601', '6_reihe', '6er', '7er', '80', '850', '90', '900', '9000', '911', 'a1', 'a2', 'a3', 'a4', 'a5', 'a6', 'a8', 'a_klasse', 'accord', 'agila', 'alhambra', 'almera', 'altea', 'amarok', 'antara', 'arosa', 'astra', 'auris', 'avensis', 'aveo', 'aygo', 'b_klasse', 'b_max', 'beetle', 'berlingo', 'bora', 'boxster', 'bravo', 'c1', 'c2', 'c3', 'c4', 'c5', 'c_klasse', 'c_max', 'c_reihe', 'caddy', 'calibra', 'captiva', 'carisma', 'carnival', 'cayenne', 'cc', 'ceed', 'charade', 'cherokee', 'citigo', 'civic', 'cl', 'clio', 'clk', 'clubman', 'colt', 'combo', 'cooper', 'cordoba', 'corolla', 'corsa', 'cr_reihe', 'croma', 'crossfire', 'cuore', 'cx_reihe', 'defender', 'delta', 'discovery', 'doblo', 'ducato', 'duster', 'e_klasse', 'elefantino', 'eos', 'escort', 'espace', 'exeo', 'fabia', 'fiesta', 'focus', 'forester', 'forfour', 'fortwo', 'fox', 'freelander', 'fusion', 'g_klasse', 'galant', 'galaxy', 'getz', 'gl', 'glk', 'golf', 'grand', 'i3', 'i_reihe', 'ibiza', 'impreza', 'insignia', 'jazz', 'jetta', 'jimny', 'juke', 'justy', 'ka', 'kadett', 'kaefer', 'kalina', 'kalos', 'kangoo', 'kappa', 'kuga', 'laguna', 'lancer', 'lanos', 'legacy', 'leon', 'lodgy', 'logan', 'lupo', 'lybra', 'm_klasse', 'm_reihe', 'materia', 'matiz', 'megane', 'meriva', 'micra', 'mii', 'modus', 'mondeo', 'move', 'musa', 'mustang', 'mx_reihe', 'navara', 'niva', 'note', 'nubira', 'octavia', 'omega', 'one', 'other', 'outlander', 'pajero', 'panda', 'passat', 'phaeton', 'picanto', 'polo', 'primera', 'ptcruiser', 'punto', 'q3', 'q5', 'q7', 'qashqai', 'r19', 'range_rover', 'range_rover_evoque', 'range_rover_sport', 'rangerover', 'rav', 'rio', 'roadster', 'roomster', 'rx_reihe', 's60', 's_klasse', 's_max', 's_type', 'samara', 'sandero', 'santa', 'scenic', 'scirocco', 'seicento', 'serie_2', 'serie_3', 'sharan', 'signum', 'sirion', 'sl', 'slk', 'sorento', 'spark', 'spider', 'sportage', 'sprinter', 'stilo', 'superb', 'swift', 'terios', 'tigra', 'tiguan', 'toledo', 'touareg', 'touran', 'transit', 'transporter', 'tt', 'tucson', 'twingo', 'up', 'v40', 'v50', 'v60', 'v70', 'v_klasse', 'vectra', 'verso', 'viano', 'vito', 'vivaro', 'voyager', 'wrangler', 'x_reihe', 'x_trail', 'x_type', 'xc_reihe', 'yaris', 'yeti', 'ypsilon', 'z_reihe', 'zafira']\n",
      "\n"
     ]
    },
    {
     "data": {
      "image/png": "[encoded data removed]",
      "text/plain": [
       "<Figure size 576x630 with 1 Axes>"
      ]
     },
     "metadata": {
      "needs_background": "light"
     },
     "output_type": "display_data"
    },
    {
     "name": "stdout",
     "output_type": "stream",
     "text": [
      "`FuelType`, unique values: 7\n",
      "['cng', 'electric', 'gasoline', 'hybrid', 'lpg', 'other', 'petrol']\n",
      "\n"
     ]
    },
    {
     "data": {
      "image/png": "[encoded data removed]",
      "text/plain": [
       "<Figure size 576x201.6 with 1 Axes>"
      ]
     },
     "metadata": {
      "needs_background": "light"
     },
     "output_type": "display_data"
    },
    {
     "name": "stdout",
     "output_type": "stream",
     "text": [
      "`Brand`, unique values: 40\n",
      "['alfa_romeo', 'audi', 'bmw', 'chevrolet', 'chrysler', 'citroen', 'dacia', 'daewoo', 'daihatsu', 'fiat', 'ford', 'honda', 'hyundai', 'jaguar', 'jeep', 'kia', 'lada', 'lancia', 'land_rover', 'mazda', 'mercedes_benz', 'mini', 'mitsubishi', 'nissan', 'opel', 'peugeot', 'porsche', 'renault', 'rover', 'saab', 'seat', 'skoda', 'smart', 'sonstige_autos', 'subaru', 'suzuki', 'toyota', 'trabant', 'volkswagen', 'volvo']\n",
      "\n"
     ]
    },
    {
     "data": {
      "image/png": "[encoded data removed]",
      "text/plain": [
       "<Figure size 576x630 with 1 Axes>"
      ]
     },
     "metadata": {
      "needs_background": "light"
     },
     "output_type": "display_data"
    },
    {
     "name": "stdout",
     "output_type": "stream",
     "text": [
      "`NotRepaired`, unique values: 2\n",
      "['no', 'yes']\n",
      "\n"
     ]
    },
    {
     "data": {
      "image/png": "[encoded data removed]",
      "text/plain": [
       "<Figure size 576x75.6 with 1 Axes>"
      ]
     },
     "metadata": {
      "needs_background": "light"
     },
     "output_type": "display_data"
    },
    {
     "name": "stdout",
     "output_type": "stream",
     "text": [
      "`Region`, unique values: 10\n",
      "['0', '1', '2', '3', '4', '5', '6', '7', '8', '9']\n",
      "\n"
     ]
    },
    {
     "data": {
      "image/png": "[encoded data removed]",
      "text/plain": [
       "<Figure size 576x252 with 1 Axes>"
      ]
     },
     "metadata": {
      "needs_background": "light"
     },
     "output_type": "display_data"
    }
   ],
   "source": [
    "int_features = list(df.select_dtypes('integer').columns)\n",
    "cat_features = list(df.select_dtypes('object').columns)\n",
    "for f in cat_features:\n",
    "    _ = df[f].dropna().unique()\n",
    "    print('`{}`, unique values: {}\\n{}\\n'\n",
    "          .format(f, len(_), sorted(_)))\n",
    "    visualize_value_counts(df, f)"
   ]
  },
  {
   "cell_type": "markdown",
   "metadata": {},
   "source": [
    "1. Заполним пропуски в столбце типа авто значениями из указанного типа в таких же моделях, поскольку от поколения к поколению у одной и той же модели тип кузова может меняться, то возьмём чаще всего встречающийся тип у одной и той же модели.\n",
    "Поскольку в моделях пока тоже есть пропуски, то оставшиеся пропущенные значения заполним аналогичным образом, но группируя уже по бренду.\n",
    "2. Точно также поступим с типом коробки передач и топлива.\n",
    "3. Пропуски в моделях авто и в информации о том, был ли автомобиль в ремонте, заполним значением `'unknown'`\n"
   ]
  },
  {
   "cell_type": "code",
   "execution_count": 21,
   "metadata": {},
   "outputs": [],
   "source": [
    "def fillna_with_mode(df, target_col, group_col):\n",
    "   before = df[target_col].isna().sum()\n",
    "   df.loc[df[target_col].isna(), target_col] = (\n",
    "       df.loc[df[target_col].isna(), group_col].map(\n",
    "           df.groupby(group_col)[target_col].agg(lambda x: pd.Series.mode(x)[0]))\n",
    "   )\n",
    "   print('{} out of {} values are filled with the most occurring \"{}\" among \"{}\"'\n",
    "         .format(before-df[target_col].isna().sum(), before, target_col, group_col))"
   ]
  },
  {
   "cell_type": "code",
   "execution_count": 22,
   "metadata": {},
   "outputs": [
    {
     "name": "stdout",
     "output_type": "stream",
     "text": [
      "\"VehicleType\" :\n",
      "6056 out of 7159 values are filled with the most occurring \"VehicleType\" among \"Model\"\n",
      "1103 out of 1103 values are filled with the most occurring \"VehicleType\" among \"Brand\"\n",
      "\n",
      "\"Gearbox\" :\n",
      "4238 out of 4844 values are filled with the most occurring \"Gearbox\" among \"Model\"\n",
      "606 out of 606 values are filled with the most occurring \"Gearbox\" among \"Brand\"\n",
      "\n",
      "\"FuelType\" :\n",
      "11000 out of 13261 values are filled with the most occurring \"FuelType\" among \"Model\"\n",
      "2261 out of 2261 values are filled with the most occurring \"FuelType\" among \"Brand\"\n",
      "\n",
      "DataFrame shape  : 257056 rows, 12 columns\n",
      "Memory usage     : 23.53 MB\n",
      "Duplicates count : 751\n"
     ]
    },
    {
     "data": {
      "text/html": [
       "<style  type=\"text/css\" >\n",
       "#T_1ad01_row0_col1,#T_1ad01_row1_col1,#T_1ad01_row2_col1,#T_1ad01_row3_col1,#T_1ad01_row4_col1,#T_1ad01_row5_col1,#T_1ad01_row6_col1,#T_1ad01_row7_col1,#T_1ad01_row8_col1,#T_1ad01_row9_col1,#T_1ad01_row10_col1,#T_1ad01_row11_col1{\n",
       "            width:  10em;\n",
       "             height:  80%;\n",
       "            background:  linear-gradient(90deg,lightblue 100.0%, transparent 100.0%);\n",
       "        }</style><table id=\"T_1ad01_\" ><thead>    <tr>        <th class=\"blank level0\" ></th>        <th class=\"col_heading level0 col0\" >notNA</th>        <th class=\"col_heading level0 col1\" >notNA, %</th>        <th class=\"col_heading level0 col2\" >dtype</th>    </tr></thead><tbody>\n",
       "                <tr>\n",
       "                        <th id=\"T_1ad01_level0_row0\" class=\"row_heading level0 row0\" >Price</th>\n",
       "                        <td id=\"T_1ad01_row0_col0\" class=\"data row0 col0\" >257056</td>\n",
       "                        <td id=\"T_1ad01_row0_col1\" class=\"data row0 col1\" >100.00</td>\n",
       "                        <td id=\"T_1ad01_row0_col2\" class=\"data row0 col2\" >int64</td>\n",
       "            </tr>\n",
       "            <tr>\n",
       "                        <th id=\"T_1ad01_level0_row1\" class=\"row_heading level0 row1\" >VehicleType</th>\n",
       "                        <td id=\"T_1ad01_row1_col0\" class=\"data row1 col0\" >257056</td>\n",
       "                        <td id=\"T_1ad01_row1_col1\" class=\"data row1 col1\" >100.00</td>\n",
       "                        <td id=\"T_1ad01_row1_col2\" class=\"data row1 col2\" >object</td>\n",
       "            </tr>\n",
       "            <tr>\n",
       "                        <th id=\"T_1ad01_level0_row2\" class=\"row_heading level0 row2\" >RegistrationYear</th>\n",
       "                        <td id=\"T_1ad01_row2_col0\" class=\"data row2 col0\" >257056</td>\n",
       "                        <td id=\"T_1ad01_row2_col1\" class=\"data row2 col1\" >100.00</td>\n",
       "                        <td id=\"T_1ad01_row2_col2\" class=\"data row2 col2\" >int64</td>\n",
       "            </tr>\n",
       "            <tr>\n",
       "                        <th id=\"T_1ad01_level0_row3\" class=\"row_heading level0 row3\" >Gearbox</th>\n",
       "                        <td id=\"T_1ad01_row3_col0\" class=\"data row3 col0\" >257056</td>\n",
       "                        <td id=\"T_1ad01_row3_col1\" class=\"data row3 col1\" >100.00</td>\n",
       "                        <td id=\"T_1ad01_row3_col2\" class=\"data row3 col2\" >object</td>\n",
       "            </tr>\n",
       "            <tr>\n",
       "                        <th id=\"T_1ad01_level0_row4\" class=\"row_heading level0 row4\" >Power</th>\n",
       "                        <td id=\"T_1ad01_row4_col0\" class=\"data row4 col0\" >257056</td>\n",
       "                        <td id=\"T_1ad01_row4_col1\" class=\"data row4 col1\" >100.00</td>\n",
       "                        <td id=\"T_1ad01_row4_col2\" class=\"data row4 col2\" >int64</td>\n",
       "            </tr>\n",
       "            <tr>\n",
       "                        <th id=\"T_1ad01_level0_row5\" class=\"row_heading level0 row5\" >Model</th>\n",
       "                        <td id=\"T_1ad01_row5_col0\" class=\"data row5 col0\" >257056</td>\n",
       "                        <td id=\"T_1ad01_row5_col1\" class=\"data row5 col1\" >100.00</td>\n",
       "                        <td id=\"T_1ad01_row5_col2\" class=\"data row5 col2\" >object</td>\n",
       "            </tr>\n",
       "            <tr>\n",
       "                        <th id=\"T_1ad01_level0_row6\" class=\"row_heading level0 row6\" >Kilometer</th>\n",
       "                        <td id=\"T_1ad01_row6_col0\" class=\"data row6 col0\" >257056</td>\n",
       "                        <td id=\"T_1ad01_row6_col1\" class=\"data row6 col1\" >100.00</td>\n",
       "                        <td id=\"T_1ad01_row6_col2\" class=\"data row6 col2\" >int64</td>\n",
       "            </tr>\n",
       "            <tr>\n",
       "                        <th id=\"T_1ad01_level0_row7\" class=\"row_heading level0 row7\" >RegistrationMonth</th>\n",
       "                        <td id=\"T_1ad01_row7_col0\" class=\"data row7 col0\" >257056</td>\n",
       "                        <td id=\"T_1ad01_row7_col1\" class=\"data row7 col1\" >100.00</td>\n",
       "                        <td id=\"T_1ad01_row7_col2\" class=\"data row7 col2\" >int64</td>\n",
       "            </tr>\n",
       "            <tr>\n",
       "                        <th id=\"T_1ad01_level0_row8\" class=\"row_heading level0 row8\" >FuelType</th>\n",
       "                        <td id=\"T_1ad01_row8_col0\" class=\"data row8 col0\" >257056</td>\n",
       "                        <td id=\"T_1ad01_row8_col1\" class=\"data row8 col1\" >100.00</td>\n",
       "                        <td id=\"T_1ad01_row8_col2\" class=\"data row8 col2\" >object</td>\n",
       "            </tr>\n",
       "            <tr>\n",
       "                        <th id=\"T_1ad01_level0_row9\" class=\"row_heading level0 row9\" >Brand</th>\n",
       "                        <td id=\"T_1ad01_row9_col0\" class=\"data row9 col0\" >257056</td>\n",
       "                        <td id=\"T_1ad01_row9_col1\" class=\"data row9 col1\" >100.00</td>\n",
       "                        <td id=\"T_1ad01_row9_col2\" class=\"data row9 col2\" >object</td>\n",
       "            </tr>\n",
       "            <tr>\n",
       "                        <th id=\"T_1ad01_level0_row10\" class=\"row_heading level0 row10\" >NotRepaired</th>\n",
       "                        <td id=\"T_1ad01_row10_col0\" class=\"data row10 col0\" >257056</td>\n",
       "                        <td id=\"T_1ad01_row10_col1\" class=\"data row10 col1\" >100.00</td>\n",
       "                        <td id=\"T_1ad01_row10_col2\" class=\"data row10 col2\" >object</td>\n",
       "            </tr>\n",
       "            <tr>\n",
       "                        <th id=\"T_1ad01_level0_row11\" class=\"row_heading level0 row11\" >Region</th>\n",
       "                        <td id=\"T_1ad01_row11_col0\" class=\"data row11 col0\" >257056</td>\n",
       "                        <td id=\"T_1ad01_row11_col1\" class=\"data row11 col1\" >100.00</td>\n",
       "                        <td id=\"T_1ad01_row11_col2\" class=\"data row11 col2\" >object</td>\n",
       "            </tr>\n",
       "    </tbody></table>"
      ],
      "text/plain": [
       "<pandas.io.formats.style.Styler at 0x22c23a744c0>"
      ]
     },
     "execution_count": 22,
     "metadata": {},
     "output_type": "execute_result"
    }
   ],
   "source": [
    "for f in ['VehicleType', 'Gearbox', 'FuelType']:\n",
    "    print('\"{}\" :'.format(f))\n",
    "    fillna_with_mode(df, f, 'Model')\n",
    "    fillna_with_mode(df, f, 'Brand')\n",
    "    print()\n",
    "df['Model'].fillna('_unknown', inplace=True)\n",
    "df['NotRepaired'].fillna('_unknown', inplace=True)\n",
    "dataframe_info(df)"
   ]
  },
  {
   "cell_type": "markdown",
   "metadata": {},
   "source": [
    "### Приведение типов данных"
   ]
  },
  {
   "cell_type": "markdown",
   "metadata": {},
   "source": [
    "Произведём приведение типов данных. Для численных произведём понижение типа к диапазону, в ктороый вмещаюся все возможные значения в столбце. Для строковых произведём преобразование к категориальному типу. Это позволит уменьшить количество памяти, занимаемой данными. Кроме того LGBM работает с категориальными признаками pandas"
   ]
  },
  {
   "cell_type": "code",
   "execution_count": 23,
   "metadata": {},
   "outputs": [
    {
     "name": "stdout",
     "output_type": "stream",
     "text": [
      "DataFrame shape  : 257056 rows, 12 columns\n",
      "Memory usage     : 4.67 MB\n",
      "Duplicates count : 751\n"
     ]
    },
    {
     "data": {
      "text/html": [
       "<style  type=\"text/css\" >\n",
       "#T_32663_row0_col1,#T_32663_row1_col1,#T_32663_row2_col1,#T_32663_row3_col1,#T_32663_row4_col1,#T_32663_row5_col1,#T_32663_row6_col1,#T_32663_row7_col1,#T_32663_row8_col1,#T_32663_row9_col1,#T_32663_row10_col1,#T_32663_row11_col1{\n",
       "            width:  10em;\n",
       "             height:  80%;\n",
       "            background:  linear-gradient(90deg,lightblue 100.0%, transparent 100.0%);\n",
       "        }</style><table id=\"T_32663_\" ><thead>    <tr>        <th class=\"blank level0\" ></th>        <th class=\"col_heading level0 col0\" >notNA</th>        <th class=\"col_heading level0 col1\" >notNA, %</th>        <th class=\"col_heading level0 col2\" >dtype</th>    </tr></thead><tbody>\n",
       "                <tr>\n",
       "                        <th id=\"T_32663_level0_row0\" class=\"row_heading level0 row0\" >Price</th>\n",
       "                        <td id=\"T_32663_row0_col0\" class=\"data row0 col0\" >257056</td>\n",
       "                        <td id=\"T_32663_row0_col1\" class=\"data row0 col1\" >100.00</td>\n",
       "                        <td id=\"T_32663_row0_col2\" class=\"data row0 col2\" >int16</td>\n",
       "            </tr>\n",
       "            <tr>\n",
       "                        <th id=\"T_32663_level0_row1\" class=\"row_heading level0 row1\" >VehicleType</th>\n",
       "                        <td id=\"T_32663_row1_col0\" class=\"data row1 col0\" >257056</td>\n",
       "                        <td id=\"T_32663_row1_col1\" class=\"data row1 col1\" >100.00</td>\n",
       "                        <td id=\"T_32663_row1_col2\" class=\"data row1 col2\" >category</td>\n",
       "            </tr>\n",
       "            <tr>\n",
       "                        <th id=\"T_32663_level0_row2\" class=\"row_heading level0 row2\" >RegistrationYear</th>\n",
       "                        <td id=\"T_32663_row2_col0\" class=\"data row2 col0\" >257056</td>\n",
       "                        <td id=\"T_32663_row2_col1\" class=\"data row2 col1\" >100.00</td>\n",
       "                        <td id=\"T_32663_row2_col2\" class=\"data row2 col2\" >int16</td>\n",
       "            </tr>\n",
       "            <tr>\n",
       "                        <th id=\"T_32663_level0_row3\" class=\"row_heading level0 row3\" >Gearbox</th>\n",
       "                        <td id=\"T_32663_row3_col0\" class=\"data row3 col0\" >257056</td>\n",
       "                        <td id=\"T_32663_row3_col1\" class=\"data row3 col1\" >100.00</td>\n",
       "                        <td id=\"T_32663_row3_col2\" class=\"data row3 col2\" >category</td>\n",
       "            </tr>\n",
       "            <tr>\n",
       "                        <th id=\"T_32663_level0_row4\" class=\"row_heading level0 row4\" >Power</th>\n",
       "                        <td id=\"T_32663_row4_col0\" class=\"data row4 col0\" >257056</td>\n",
       "                        <td id=\"T_32663_row4_col1\" class=\"data row4 col1\" >100.00</td>\n",
       "                        <td id=\"T_32663_row4_col2\" class=\"data row4 col2\" >int16</td>\n",
       "            </tr>\n",
       "            <tr>\n",
       "                        <th id=\"T_32663_level0_row5\" class=\"row_heading level0 row5\" >Model</th>\n",
       "                        <td id=\"T_32663_row5_col0\" class=\"data row5 col0\" >257056</td>\n",
       "                        <td id=\"T_32663_row5_col1\" class=\"data row5 col1\" >100.00</td>\n",
       "                        <td id=\"T_32663_row5_col2\" class=\"data row5 col2\" >category</td>\n",
       "            </tr>\n",
       "            <tr>\n",
       "                        <th id=\"T_32663_level0_row6\" class=\"row_heading level0 row6\" >Kilometer</th>\n",
       "                        <td id=\"T_32663_row6_col0\" class=\"data row6 col0\" >257056</td>\n",
       "                        <td id=\"T_32663_row6_col1\" class=\"data row6 col1\" >100.00</td>\n",
       "                        <td id=\"T_32663_row6_col2\" class=\"data row6 col2\" >int32</td>\n",
       "            </tr>\n",
       "            <tr>\n",
       "                        <th id=\"T_32663_level0_row7\" class=\"row_heading level0 row7\" >RegistrationMonth</th>\n",
       "                        <td id=\"T_32663_row7_col0\" class=\"data row7 col0\" >257056</td>\n",
       "                        <td id=\"T_32663_row7_col1\" class=\"data row7 col1\" >100.00</td>\n",
       "                        <td id=\"T_32663_row7_col2\" class=\"data row7 col2\" >int8</td>\n",
       "            </tr>\n",
       "            <tr>\n",
       "                        <th id=\"T_32663_level0_row8\" class=\"row_heading level0 row8\" >FuelType</th>\n",
       "                        <td id=\"T_32663_row8_col0\" class=\"data row8 col0\" >257056</td>\n",
       "                        <td id=\"T_32663_row8_col1\" class=\"data row8 col1\" >100.00</td>\n",
       "                        <td id=\"T_32663_row8_col2\" class=\"data row8 col2\" >category</td>\n",
       "            </tr>\n",
       "            <tr>\n",
       "                        <th id=\"T_32663_level0_row9\" class=\"row_heading level0 row9\" >Brand</th>\n",
       "                        <td id=\"T_32663_row9_col0\" class=\"data row9 col0\" >257056</td>\n",
       "                        <td id=\"T_32663_row9_col1\" class=\"data row9 col1\" >100.00</td>\n",
       "                        <td id=\"T_32663_row9_col2\" class=\"data row9 col2\" >category</td>\n",
       "            </tr>\n",
       "            <tr>\n",
       "                        <th id=\"T_32663_level0_row10\" class=\"row_heading level0 row10\" >NotRepaired</th>\n",
       "                        <td id=\"T_32663_row10_col0\" class=\"data row10 col0\" >257056</td>\n",
       "                        <td id=\"T_32663_row10_col1\" class=\"data row10 col1\" >100.00</td>\n",
       "                        <td id=\"T_32663_row10_col2\" class=\"data row10 col2\" >category</td>\n",
       "            </tr>\n",
       "            <tr>\n",
       "                        <th id=\"T_32663_level0_row11\" class=\"row_heading level0 row11\" >Region</th>\n",
       "                        <td id=\"T_32663_row11_col0\" class=\"data row11 col0\" >257056</td>\n",
       "                        <td id=\"T_32663_row11_col1\" class=\"data row11 col1\" >100.00</td>\n",
       "                        <td id=\"T_32663_row11_col2\" class=\"data row11 col2\" >category</td>\n",
       "            </tr>\n",
       "    </tbody></table>"
      ],
      "text/plain": [
       "<pandas.io.formats.style.Styler at 0x22c25192280>"
      ]
     },
     "execution_count": 23,
     "metadata": {},
     "output_type": "execute_result"
    }
   ],
   "source": [
    "df[int_features] = df[int_features].apply(pd.to_numeric, downcast='integer')\n",
    "df[cat_features] = df[cat_features].astype('category')\n",
    "\n",
    "dataframe_info(df)"
   ]
  },
  {
   "cell_type": "markdown",
   "metadata": {},
   "source": [
    "## Обучение моделей"
   ]
  },
  {
   "cell_type": "markdown",
   "metadata": {},
   "source": [
    "### Подготовка признаков\n",
    "\n",
    "1. Отделим целевой признак\n",
    "2. Помимо исходного набора признаков подготовим признаки, закодированные методами \n",
    "    - One-Hot Encoding\n",
    "    - Ordinal Encoding"
   ]
  },
  {
   "cell_type": "code",
   "execution_count": 24,
   "metadata": {},
   "outputs": [
    {
     "name": "stdout",
     "output_type": "stream",
     "text": [
      "Train/test features shape  = [(205644, 11), (51412, 11)]\n",
      "Ordinal encoded features shape = [(205644, 11), (51412, 11)]\n",
      "OHE encoded features shape = [(205644, 317), (51412, 317)]\n"
     ]
    }
   ],
   "source": [
    "X_train, X_test, y_train, y_test = train_test_split(\n",
    "    df.drop('Price', axis=1), df['Price'], test_size=0.2,\n",
    "    random_state=RANDOM_STATE\n",
    ")\n",
    "print('Train/test features shape  =', [X_train.shape, X_test.shape])\n",
    "\n",
    "X_oe = df.drop('Price', axis=1).copy()\n",
    "X_oe[cat_features] = pd.DataFrame(\n",
    "    OrdinalEncoder().fit_transform(X_oe[cat_features]),\n",
    "    columns=cat_features\n",
    ").apply(pd.to_numeric, downcast='integer')\n",
    "X_oe_train, X_oe_test = X_oe.loc[X_train.index], X_oe.loc[X_test.index]\n",
    "del X_oe\n",
    "print(\"Ordinal encoded features shape =\", [X_oe_train.shape, X_oe_test.shape])\n",
    "\n",
    "X_ohe = pd.get_dummies(df.drop('Price', axis=1), drop_first=True)\n",
    "X_ohe_train, X_ohe_test = X_ohe.loc[X_train.index], X_ohe.loc[X_test.index]\n",
    "del X_ohe\n",
    "print(\"OHE encoded features shape =\", [X_ohe_train.shape, X_ohe_test.shape])"
   ]
  },
  {
   "cell_type": "markdown",
   "metadata": {},
   "source": [
    "Создадим словари для разных наборов признаков и для моделей, чтобы иметь возможность обращаться к ним по ключу. \n",
    "\n",
    "Словарь с признаками `X` не займёт дополнительного места в оперативной памяти.\n",
    "\n",
    "В словарь `models` будем сохранять модели, показывающие наилучшию метрику качества на кроссвалидации"
   ]
  },
  {
   "cell_type": "code",
   "execution_count": 25,
   "metadata": {},
   "outputs": [],
   "source": [
    "X = {}\n",
    "X['raw'] = (X_train, X_test)\n",
    "X['OE']  = (X_oe_train, X_oe_test)\n",
    "X['OHE'] = (X_ohe_train, X_ohe_test)\n",
    "\n",
    "models = {}"
   ]
  },
  {
   "cell_type": "markdown",
   "metadata": {},
   "source": [
    "Реализуем функцию для компактного вывода параметров топ моделей регрессора по результатам кросс-валидации\n",
    "\n",
    "Зададим словарь параметров `common_cv_params`, которые будут использоваться на каждой кросс-валидации"
   ]
  },
  {
   "cell_type": "code",
   "execution_count": 26,
   "metadata": {},
   "outputs": [],
   "source": [
    "def best_cv_models(grid, count):\n",
    "    ''' Выводит таблицу с показателями моделей, показавших наилучшие значения RMSE на кроссвалидации.\n",
    "\n",
    "    Принимает  \n",
    "        : `grid` - результат GridSearchCV после fit(), \n",
    "        : `count` - количество лучших моделей для вывода\n",
    "    Возвращает : pd.DataFrame c параметрами моделей\n",
    "    '''\n",
    "\n",
    "    print('Estimator: {}'.format(grid.estimator))\n",
    "    print('Tested {} models on {} folds'.format(len(grid.cv_results_['params']), grid.cv))\n",
    "    print('Best RMSE = {}\\n'.format((-grid.best_score_) ** 0.5))\n",
    "    best_idx = grid.cv_results_['rank_test_score'].argsort()[:count]\n",
    "    return pd.DataFrame({\n",
    "            'RMSE test, €': (-grid.cv_results_['mean_test_score'][best_idx])**0.5,\n",
    "            'RMSE train, €': (-grid.cv_results_['mean_train_score'][best_idx])**0.5,\n",
    "            'fit time, s': grid.cv_results_['mean_fit_time'][best_idx],\n",
    "            'score time, s': grid.cv_results_['mean_score_time'][best_idx]}\n",
    "        ).join(pd.DataFrame([grid.cv_results_['params'][i] for i in best_idx]))\n",
    "\n",
    "\n",
    "common_cv_params = {'scoring': 'neg_mean_squared_error',\n",
    "                    'return_train_score': True,\n",
    "                    'cv': 4}"
   ]
  },
  {
   "cell_type": "markdown",
   "metadata": {},
   "source": [
    "Обучим модели LinearRegression, DecisionTreeRegreessor, CatBoostRegressor, LGBMRegressor на разных наборах данных (исходных и закодированных)"
   ]
  },
  {
   "cell_type": "markdown",
   "metadata": {},
   "source": [
    "### LinearRegression"
   ]
  },
  {
   "cell_type": "code",
   "execution_count": 27,
   "metadata": {},
   "outputs": [
    {
     "name": "stdout",
     "output_type": "stream",
     "text": [
      "LinearRegression for Ordinal Encoded features\n",
      "RMSE = 2427.4228355656946\n",
      "\n",
      "CPU times: total: 1.27 s\n",
      "Wall time: 183 ms\n"
     ]
    }
   ],
   "source": [
    "%%time\n",
    "rmse = (-cross_val_score(\n",
    "    LinearRegression(), X_oe_train, y_train, scoring='neg_mean_squared_error')\n",
    ") ** 0.5 \n",
    "print('LinearRegression for Ordinal Encoded features\\nRMSE = {}\\n'\n",
    "      .format(rmse.mean()))"
   ]
  },
  {
   "cell_type": "code",
   "execution_count": 28,
   "metadata": {},
   "outputs": [
    {
     "name": "stdout",
     "output_type": "stream",
     "text": [
      "LinearRegression for OHE encoded features\n",
      "RMSE = 2101.0966885381863\n",
      "\n",
      "CPU times: total: 41.4 s\n",
      "Wall time: 7.33 s\n"
     ]
    }
   ],
   "source": [
    "%%time\n",
    "rmse = (-cross_val_score(\n",
    "    LinearRegression(), X_ohe_train, y_train, scoring='neg_mean_squared_error')\n",
    ") ** 0.5\n",
    "print('LinearRegression for OHE encoded features\\nRMSE = {}\\n'\n",
    "      .format(rmse.mean()))"
   ]
  },
  {
   "cell_type": "markdown",
   "metadata": {},
   "source": [
    "Также проверим, влияет ли масштабирование признаков на метрику\n"
   ]
  },
  {
   "cell_type": "code",
   "execution_count": 29,
   "metadata": {},
   "outputs": [
    {
     "name": "stdout",
     "output_type": "stream",
     "text": [
      "LinearRegression for Ordinal Encoded features with scaling\n",
      "RMSE = 2427.4228355656974\n",
      "\n",
      "CPU times: total: 2.3 s\n",
      "Wall time: 331 ms\n"
     ]
    }
   ],
   "source": [
    "%%time\n",
    "rmse = (-cross_val_score(\n",
    "    Pipeline([('scaler', StandardScaler()), \n",
    "              ('linear_regression', LinearRegression())]), \n",
    "    X_oe_train, y_train, scoring='neg_mean_squared_error')) ** 0.5\n",
    "print('LinearRegression for Ordinal Encoded features with scaling\\nRMSE = {}\\n'\n",
    "      .format(rmse.mean()))"
   ]
  },
  {
   "cell_type": "code",
   "execution_count": 30,
   "metadata": {},
   "outputs": [
    {
     "name": "stdout",
     "output_type": "stream",
     "text": [
      "LinearRegression for OHE encoded features with scaling\n",
      "RMSE = 1028442320433.9567\n",
      "\n",
      "CPU times: total: 48.3 s\n",
      "Wall time: 11.7 s\n"
     ]
    }
   ],
   "source": [
    "%%time\n",
    "rmse = (-cross_val_score(\n",
    "    Pipeline([('scaler', StandardScaler()),\n",
    "             ('linear_regression', LinearRegression())]),\n",
    "    X_ohe_train, y_train, scoring='neg_mean_squared_error')) ** 0.5\n",
    "print('LinearRegression for OHE encoded features with scaling\\nRMSE = {}\\n'\n",
    "      .format(rmse.mean()))"
   ]
  },
  {
   "cell_type": "markdown",
   "metadata": {},
   "source": [
    "- Линейная регрессия на признаках с прямым кодирование обучается в несколько раз быстрее, но даёт результат хуже чем на признаках с ohe кодированием.\n",
    "- Масштабирование в случае прямого кодирования не изменило качество предсказания, в случае ohe - только ухудшило.\n",
    "\n",
    "**_Примечания_** \n",
    "- _также было проверено масштабирование с помощью `MinMaxScaler` - результат схож с результатом для `StandardScaler`. Даже при работе с DecisionTreeRegressor_ \n",
    "- _Были протестированы и другие модели линейной регрессии (Lasso, Ridge) - метрика для них практически такая же._ \n",
    "- _SGDRegressor наоборот адекватнее работает с масштабированием признаков, но rmse немногим лучше того, что получается на линейной регресии_\n",
    "\n",
    "_Поэтому описанные случаи в проекте не рассматриваются_"
   ]
  },
  {
   "cell_type": "code",
   "execution_count": 31,
   "metadata": {},
   "outputs": [],
   "source": [
    "models['Linear'] = {'OE': LinearRegression(),\n",
    "                    'OHE': LinearRegression()}"
   ]
  },
  {
   "cell_type": "markdown",
   "metadata": {},
   "source": [
    "### DecisionTreeRegressor\n",
    "\n",
    "Для решающих деревьев протестируем качество при разных значениях `max_depth`, `min_samples_split`, `min_samples_leaf`"
   ]
  },
  {
   "cell_type": "code",
   "execution_count": 32,
   "metadata": {},
   "outputs": [
    {
     "name": "stdout",
     "output_type": "stream",
     "text": [
      "DecisionTreeRegressor for ordinal encoded features\n",
      "Estimator: DecisionTreeRegressor(random_state=123)\n",
      "Tested 1000 models on 4 folds\n",
      "Best RMSE = 1524.3055637023967\n",
      "\n",
      "CPU times: total: 41.2 s\n",
      "Wall time: 3min 36s\n"
     ]
    },
    {
     "data": {
      "text/html": [
       "<div>\n",
       "<style scoped>\n",
       "    .dataframe tbody tr th:only-of-type {\n",
       "        vertical-align: middle;\n",
       "    }\n",
       "\n",
       "    .dataframe tbody tr th {\n",
       "        vertical-align: top;\n",
       "    }\n",
       "\n",
       "    .dataframe thead th {\n",
       "        text-align: right;\n",
       "    }\n",
       "</style>\n",
       "<table border=\"1\" class=\"dataframe\">\n",
       "  <thead>\n",
       "    <tr style=\"text-align: right;\">\n",
       "      <th></th>\n",
       "      <th>RMSE test, €</th>\n",
       "      <th>RMSE train, €</th>\n",
       "      <th>fit time, s</th>\n",
       "      <th>score time, s</th>\n",
       "      <th>max_depth</th>\n",
       "      <th>min_samples_leaf</th>\n",
       "      <th>min_samples_split</th>\n",
       "    </tr>\n",
       "  </thead>\n",
       "  <tbody>\n",
       "    <tr>\n",
       "      <th>0</th>\n",
       "      <td>1524.305564</td>\n",
       "      <td>1317.902945</td>\n",
       "      <td>0.859252</td>\n",
       "      <td>0.018000</td>\n",
       "      <td>20</td>\n",
       "      <td>5</td>\n",
       "      <td>50</td>\n",
       "    </tr>\n",
       "    <tr>\n",
       "      <th>1</th>\n",
       "      <td>1524.571252</td>\n",
       "      <td>1343.026519</td>\n",
       "      <td>0.819500</td>\n",
       "      <td>0.015502</td>\n",
       "      <td>20</td>\n",
       "      <td>10</td>\n",
       "      <td>50</td>\n",
       "    </tr>\n",
       "    <tr>\n",
       "      <th>2</th>\n",
       "      <td>1524.612671</td>\n",
       "      <td>1318.094995</td>\n",
       "      <td>0.848749</td>\n",
       "      <td>0.016001</td>\n",
       "      <td>20</td>\n",
       "      <td>10</td>\n",
       "      <td>40</td>\n",
       "    </tr>\n",
       "    <tr>\n",
       "      <th>3</th>\n",
       "      <td>1524.861726</td>\n",
       "      <td>1286.718285</td>\n",
       "      <td>0.851245</td>\n",
       "      <td>0.016252</td>\n",
       "      <td>20</td>\n",
       "      <td>5</td>\n",
       "      <td>40</td>\n",
       "    </tr>\n",
       "    <tr>\n",
       "      <th>4</th>\n",
       "      <td>1525.034680</td>\n",
       "      <td>1340.430923</td>\n",
       "      <td>0.842249</td>\n",
       "      <td>0.015750</td>\n",
       "      <td>25</td>\n",
       "      <td>10</td>\n",
       "      <td>50</td>\n",
       "    </tr>\n",
       "    <tr>\n",
       "      <th>5</th>\n",
       "      <td>1525.101843</td>\n",
       "      <td>1340.320761</td>\n",
       "      <td>0.884502</td>\n",
       "      <td>0.021251</td>\n",
       "      <td>40</td>\n",
       "      <td>10</td>\n",
       "      <td>50</td>\n",
       "    </tr>\n",
       "    <tr>\n",
       "      <th>6</th>\n",
       "      <td>1525.101843</td>\n",
       "      <td>1340.320761</td>\n",
       "      <td>0.908498</td>\n",
       "      <td>0.017752</td>\n",
       "      <td>35</td>\n",
       "      <td>10</td>\n",
       "      <td>50</td>\n",
       "    </tr>\n",
       "    <tr>\n",
       "      <th>7</th>\n",
       "      <td>1525.101843</td>\n",
       "      <td>1340.320761</td>\n",
       "      <td>0.894749</td>\n",
       "      <td>0.016749</td>\n",
       "      <td>50</td>\n",
       "      <td>10</td>\n",
       "      <td>50</td>\n",
       "    </tr>\n",
       "    <tr>\n",
       "      <th>8</th>\n",
       "      <td>1525.101843</td>\n",
       "      <td>1340.320761</td>\n",
       "      <td>0.841497</td>\n",
       "      <td>0.015754</td>\n",
       "      <td>45</td>\n",
       "      <td>10</td>\n",
       "      <td>50</td>\n",
       "    </tr>\n",
       "    <tr>\n",
       "      <th>9</th>\n",
       "      <td>1525.127437</td>\n",
       "      <td>1340.321041</td>\n",
       "      <td>0.897752</td>\n",
       "      <td>0.023499</td>\n",
       "      <td>30</td>\n",
       "      <td>10</td>\n",
       "      <td>50</td>\n",
       "    </tr>\n",
       "  </tbody>\n",
       "</table>\n",
       "</div>"
      ],
      "text/plain": [
       "   RMSE test, €  RMSE train, €  fit time, s  score time, s  max_depth  \\\n",
       "0   1524.305564    1317.902945     0.859252       0.018000         20   \n",
       "1   1524.571252    1343.026519     0.819500       0.015502         20   \n",
       "2   1524.612671    1318.094995     0.848749       0.016001         20   \n",
       "3   1524.861726    1286.718285     0.851245       0.016252         20   \n",
       "4   1525.034680    1340.430923     0.842249       0.015750         25   \n",
       "5   1525.101843    1340.320761     0.884502       0.021251         40   \n",
       "6   1525.101843    1340.320761     0.908498       0.017752         35   \n",
       "7   1525.101843    1340.320761     0.894749       0.016749         50   \n",
       "8   1525.101843    1340.320761     0.841497       0.015754         45   \n",
       "9   1525.127437    1340.321041     0.897752       0.023499         30   \n",
       "\n",
       "   min_samples_leaf  min_samples_split  \n",
       "0                 5                 50  \n",
       "1                10                 50  \n",
       "2                10                 40  \n",
       "3                 5                 40  \n",
       "4                10                 50  \n",
       "5                10                 50  \n",
       "6                10                 50  \n",
       "7                10                 50  \n",
       "8                10                 50  \n",
       "9                10                 50  "
      ]
     },
     "execution_count": 32,
     "metadata": {},
     "output_type": "execute_result"
    }
   ],
   "source": [
    "%%time\n",
    "params = {'max_depth': range(5, 51, 5),\n",
    "          'min_samples_split': range(10, 101, 10),\n",
    "          'min_samples_leaf': range(5, 51, 5)}\n",
    "grid_dt_oe = GridSearchCV(DecisionTreeRegressor(random_state=RANDOM_STATE),\n",
    "                          param_grid=params, n_jobs=-1,\n",
    "                          **common_cv_params)\n",
    "grid_dt_oe.fit(X_oe_train, y_train)\n",
    "\n",
    "print('DecisionTreeRegressor for ordinal encoded features')\n",
    "best_cv_models(grid_dt_oe, 10)"
   ]
  },
  {
   "cell_type": "code",
   "execution_count": 33,
   "metadata": {},
   "outputs": [
    {
     "name": "stdout",
     "output_type": "stream",
     "text": [
      "DecisionTreeRegressor for OHE encoded features\n",
      "Estimator: DecisionTreeRegressor(random_state=123)\n",
      "Tested 100 models on 4 folds\n",
      "Best RMSE = 1499.9830838155547\n",
      "\n",
      "CPU times: total: 11 s\n",
      "Wall time: 4min 19s\n"
     ]
    },
    {
     "data": {
      "text/html": [
       "<div>\n",
       "<style scoped>\n",
       "    .dataframe tbody tr th:only-of-type {\n",
       "        vertical-align: middle;\n",
       "    }\n",
       "\n",
       "    .dataframe tbody tr th {\n",
       "        vertical-align: top;\n",
       "    }\n",
       "\n",
       "    .dataframe thead th {\n",
       "        text-align: right;\n",
       "    }\n",
       "</style>\n",
       "<table border=\"1\" class=\"dataframe\">\n",
       "  <thead>\n",
       "    <tr style=\"text-align: right;\">\n",
       "      <th></th>\n",
       "      <th>RMSE test, €</th>\n",
       "      <th>RMSE train, €</th>\n",
       "      <th>fit time, s</th>\n",
       "      <th>score time, s</th>\n",
       "      <th>max_depth</th>\n",
       "      <th>min_samples_leaf</th>\n",
       "      <th>min_samples_split</th>\n",
       "    </tr>\n",
       "  </thead>\n",
       "  <tbody>\n",
       "    <tr>\n",
       "      <th>0</th>\n",
       "      <td>1499.983084</td>\n",
       "      <td>1306.184720</td>\n",
       "      <td>10.757037</td>\n",
       "      <td>0.121247</td>\n",
       "      <td>30</td>\n",
       "      <td>5</td>\n",
       "      <td>60</td>\n",
       "    </tr>\n",
       "    <tr>\n",
       "      <th>1</th>\n",
       "      <td>1500.398510</td>\n",
       "      <td>1305.190529</td>\n",
       "      <td>10.579135</td>\n",
       "      <td>0.128002</td>\n",
       "      <td>40</td>\n",
       "      <td>5</td>\n",
       "      <td>60</td>\n",
       "    </tr>\n",
       "    <tr>\n",
       "      <th>2</th>\n",
       "      <td>1500.433182</td>\n",
       "      <td>1305.175883</td>\n",
       "      <td>10.217894</td>\n",
       "      <td>0.116752</td>\n",
       "      <td>50</td>\n",
       "      <td>5</td>\n",
       "      <td>60</td>\n",
       "    </tr>\n",
       "    <tr>\n",
       "      <th>3</th>\n",
       "      <td>1501.437575</td>\n",
       "      <td>1344.625142</td>\n",
       "      <td>10.424129</td>\n",
       "      <td>0.130756</td>\n",
       "      <td>30</td>\n",
       "      <td>5</td>\n",
       "      <td>80</td>\n",
       "    </tr>\n",
       "    <tr>\n",
       "      <th>4</th>\n",
       "      <td>1501.681077</td>\n",
       "      <td>1343.927669</td>\n",
       "      <td>10.611249</td>\n",
       "      <td>0.134252</td>\n",
       "      <td>40</td>\n",
       "      <td>5</td>\n",
       "      <td>80</td>\n",
       "    </tr>\n",
       "    <tr>\n",
       "      <th>5</th>\n",
       "      <td>1501.788017</td>\n",
       "      <td>1343.921400</td>\n",
       "      <td>10.497772</td>\n",
       "      <td>0.121248</td>\n",
       "      <td>50</td>\n",
       "      <td>5</td>\n",
       "      <td>80</td>\n",
       "    </tr>\n",
       "    <tr>\n",
       "      <th>6</th>\n",
       "      <td>1502.480015</td>\n",
       "      <td>1328.862103</td>\n",
       "      <td>10.420271</td>\n",
       "      <td>0.132501</td>\n",
       "      <td>20</td>\n",
       "      <td>5</td>\n",
       "      <td>60</td>\n",
       "    </tr>\n",
       "    <tr>\n",
       "      <th>7</th>\n",
       "      <td>1502.575433</td>\n",
       "      <td>1286.357123</td>\n",
       "      <td>10.023150</td>\n",
       "      <td>0.120997</td>\n",
       "      <td>20</td>\n",
       "      <td>5</td>\n",
       "      <td>40</td>\n",
       "    </tr>\n",
       "    <tr>\n",
       "      <th>8</th>\n",
       "      <td>1503.151677</td>\n",
       "      <td>1254.185786</td>\n",
       "      <td>10.298033</td>\n",
       "      <td>0.121751</td>\n",
       "      <td>30</td>\n",
       "      <td>5</td>\n",
       "      <td>40</td>\n",
       "    </tr>\n",
       "    <tr>\n",
       "      <th>9</th>\n",
       "      <td>1503.449371</td>\n",
       "      <td>1371.643818</td>\n",
       "      <td>9.884000</td>\n",
       "      <td>0.134502</td>\n",
       "      <td>30</td>\n",
       "      <td>5</td>\n",
       "      <td>100</td>\n",
       "    </tr>\n",
       "  </tbody>\n",
       "</table>\n",
       "</div>"
      ],
      "text/plain": [
       "   RMSE test, €  RMSE train, €  fit time, s  score time, s  max_depth  \\\n",
       "0   1499.983084    1306.184720    10.757037       0.121247         30   \n",
       "1   1500.398510    1305.190529    10.579135       0.128002         40   \n",
       "2   1500.433182    1305.175883    10.217894       0.116752         50   \n",
       "3   1501.437575    1344.625142    10.424129       0.130756         30   \n",
       "4   1501.681077    1343.927669    10.611249       0.134252         40   \n",
       "5   1501.788017    1343.921400    10.497772       0.121248         50   \n",
       "6   1502.480015    1328.862103    10.420271       0.132501         20   \n",
       "7   1502.575433    1286.357123    10.023150       0.120997         20   \n",
       "8   1503.151677    1254.185786    10.298033       0.121751         30   \n",
       "9   1503.449371    1371.643818     9.884000       0.134502         30   \n",
       "\n",
       "   min_samples_leaf  min_samples_split  \n",
       "0                 5                 60  \n",
       "1                 5                 60  \n",
       "2                 5                 60  \n",
       "3                 5                 80  \n",
       "4                 5                 80  \n",
       "5                 5                 80  \n",
       "6                 5                 60  \n",
       "7                 5                 40  \n",
       "8                 5                 40  \n",
       "9                 5                100  "
      ]
     },
     "execution_count": 33,
     "metadata": {},
     "output_type": "execute_result"
    }
   ],
   "source": [
    "%%time\n",
    "params = {'max_depth': range(10, 51, 10),\n",
    "          'min_samples_split': range(20, 101, 20),\n",
    "          'min_samples_leaf': range(5, 21, 5)}\n",
    "grid_dt_ohe = GridSearchCV(DecisionTreeRegressor(random_state=RANDOM_STATE),\n",
    "                           param_grid=params, n_jobs=-1,\n",
    "                           **common_cv_params)\n",
    "grid_dt_ohe.fit(X_ohe_train, y_train)\n",
    "\n",
    "print('DecisionTreeRegressor for OHE encoded features')\n",
    "best_cv_models(grid_dt_ohe, 10)"
   ]
  },
  {
   "cell_type": "markdown",
   "metadata": {},
   "source": [
    "- У моделей из топа есть признаки переобучения: RMSE на тренировачных выборках меньше, чем на тестовых\n",
    "- Модели DecisionTreeRegressor на датасете, закодированном методом OHE обучаются примерно в 10 раз дольше. Но RMSE при этом лишь немного лучше\n",
    "\n",
    "Сохраним модели с лучшими параметрами для дальнейшего анализа"
   ]
  },
  {
   "cell_type": "code",
   "execution_count": 34,
   "metadata": {},
   "outputs": [],
   "source": [
    "models['DecisionTree'] = {\n",
    "    'OE':  DecisionTreeRegressor(random_state=RANDOM_STATE, **grid_dt_oe.best_params_),\n",
    "    'OHE': DecisionTreeRegressor(random_state=RANDOM_STATE, **grid_dt_oe.best_params_)\n",
    "}"
   ]
  },
  {
   "cell_type": "markdown",
   "metadata": {},
   "source": [
    "### CatBoostRegressor"
   ]
  },
  {
   "cell_type": "markdown",
   "metadata": {},
   "source": [
    "Для кросс-валилации в библиотеке `CatBoost` имеется встроенный метод `grid_search`. Однако можно использовать `GridSearchCV` из `sklearn`\n",
    "\n",
    "Максимальная глубина деревьев для `CatBoost` ограничена 16. Однако на ней модель будеть обучаться значительно дольше, поскольку сложность алгоритма зависит от глубины непропорционально.\n",
    "\n",
    "Значение `iterations` (оно же `n_estimators`) изменим с равного по умолчанию 1000 на 500. Запишем в словарь `common_cbr_params` параметры обучения общие для всех вызовов"
   ]
  },
  {
   "cell_type": "code",
   "execution_count": 35,
   "metadata": {},
   "outputs": [],
   "source": [
    "common_cbr_params = {'loss_function': 'RMSE',\n",
    "                     'random_state': RANDOM_STATE, \n",
    "                     'verbose': False,\n",
    "                     'n_estimators': 500}"
   ]
  },
  {
   "cell_type": "markdown",
   "metadata": {},
   "source": [
    "Переберём разные значения параметров `max_depth` и `learning_rate`. Обучим сначала на исходных признаках, указав список категориальных признаков `cat_features`"
   ]
  },
  {
   "cell_type": "code",
   "execution_count": 36,
   "metadata": {},
   "outputs": [
    {
     "name": "stdout",
     "output_type": "stream",
     "text": [
      "CatBoostRegressor with catgorical features (CPU)\n",
      "Estimator: <catboost.core.CatBoostRegressor object at 0x0000022C1F63C220>\n",
      "Tested 4 models on 4 folds\n",
      "Best RMSE = 1328.8847981352599\n",
      "\n",
      "CPU times: total: 1h 11min 39s\n",
      "Wall time: 14min 8s\n"
     ]
    },
    {
     "data": {
      "text/html": [
       "<div>\n",
       "<style scoped>\n",
       "    .dataframe tbody tr th:only-of-type {\n",
       "        vertical-align: middle;\n",
       "    }\n",
       "\n",
       "    .dataframe tbody tr th {\n",
       "        vertical-align: top;\n",
       "    }\n",
       "\n",
       "    .dataframe thead th {\n",
       "        text-align: right;\n",
       "    }\n",
       "</style>\n",
       "<table border=\"1\" class=\"dataframe\">\n",
       "  <thead>\n",
       "    <tr style=\"text-align: right;\">\n",
       "      <th></th>\n",
       "      <th>RMSE test, €</th>\n",
       "      <th>RMSE train, €</th>\n",
       "      <th>fit time, s</th>\n",
       "      <th>score time, s</th>\n",
       "      <th>learning_rate</th>\n",
       "      <th>max_depth</th>\n",
       "    </tr>\n",
       "  </thead>\n",
       "  <tbody>\n",
       "    <tr>\n",
       "      <th>0</th>\n",
       "      <td>1328.884798</td>\n",
       "      <td>1219.956172</td>\n",
       "      <td>64.933956</td>\n",
       "      <td>0.068999</td>\n",
       "      <td>0.2</td>\n",
       "      <td>8</td>\n",
       "    </tr>\n",
       "    <tr>\n",
       "      <th>1</th>\n",
       "      <td>1337.537161</td>\n",
       "      <td>1266.947840</td>\n",
       "      <td>63.649594</td>\n",
       "      <td>0.061250</td>\n",
       "      <td>0.1</td>\n",
       "      <td>8</td>\n",
       "    </tr>\n",
       "    <tr>\n",
       "      <th>2</th>\n",
       "      <td>1381.818657</td>\n",
       "      <td>1349.215768</td>\n",
       "      <td>33.836499</td>\n",
       "      <td>0.046001</td>\n",
       "      <td>0.2</td>\n",
       "      <td>4</td>\n",
       "    </tr>\n",
       "    <tr>\n",
       "      <th>3</th>\n",
       "      <td>1404.920991</td>\n",
       "      <td>1384.527185</td>\n",
       "      <td>30.416828</td>\n",
       "      <td>0.044250</td>\n",
       "      <td>0.1</td>\n",
       "      <td>4</td>\n",
       "    </tr>\n",
       "  </tbody>\n",
       "</table>\n",
       "</div>"
      ],
      "text/plain": [
       "   RMSE test, €  RMSE train, €  fit time, s  score time, s  learning_rate  \\\n",
       "0   1328.884798    1219.956172    64.933956       0.068999            0.2   \n",
       "1   1337.537161    1266.947840    63.649594       0.061250            0.1   \n",
       "2   1381.818657    1349.215768    33.836499       0.046001            0.2   \n",
       "3   1404.920991    1384.527185    30.416828       0.044250            0.1   \n",
       "\n",
       "   max_depth  \n",
       "0          8  \n",
       "1          8  \n",
       "2          4  \n",
       "3          4  "
      ]
     },
     "execution_count": 36,
     "metadata": {},
     "output_type": "execute_result"
    }
   ],
   "source": [
    "%%time\n",
    "params = {'max_depth': [4, 8],\n",
    "          'learning_rate': [0.1, 0.2]}\n",
    "grid_ctb = GridSearchCV(\n",
    "    CatBoostRegressor(**common_cbr_params, cat_features=cat_features),\n",
    "    param_grid=params, **common_cv_params)\n",
    "grid_ctb.fit(X_train, y_train)\n",
    "\n",
    "print('CatBoostRegressor with catgorical features (CPU)')\n",
    "best_cv_models(grid_ctb, 10)"
   ]
  },
  {
   "cell_type": "markdown",
   "metadata": {},
   "source": [
    "Очень долгое время обучения, в библиотеке `CatBoost` есть возможность производить расчёт на графической карте. Повторим такой-же расчёт с параметром `task_type=\"GPU\"`"
   ]
  },
  {
   "cell_type": "code",
   "execution_count": 37,
   "metadata": {},
   "outputs": [
    {
     "name": "stdout",
     "output_type": "stream",
     "text": [
      "CatBoostRegressor with catgorical features (GPU)\n",
      "Estimator: <catboost.core.CatBoostRegressor object at 0x0000022C242139D0>\n",
      "Tested 4 models on 4 folds\n",
      "Best RMSE = 1327.9278621228564\n",
      "\n",
      "CPU times: total: 5min 57s\n",
      "Wall time: 3min 47s\n"
     ]
    },
    {
     "data": {
      "text/html": [
       "<div>\n",
       "<style scoped>\n",
       "    .dataframe tbody tr th:only-of-type {\n",
       "        vertical-align: middle;\n",
       "    }\n",
       "\n",
       "    .dataframe tbody tr th {\n",
       "        vertical-align: top;\n",
       "    }\n",
       "\n",
       "    .dataframe thead th {\n",
       "        text-align: right;\n",
       "    }\n",
       "</style>\n",
       "<table border=\"1\" class=\"dataframe\">\n",
       "  <thead>\n",
       "    <tr style=\"text-align: right;\">\n",
       "      <th></th>\n",
       "      <th>RMSE test, €</th>\n",
       "      <th>RMSE train, €</th>\n",
       "      <th>fit time, s</th>\n",
       "      <th>score time, s</th>\n",
       "      <th>learning_rate</th>\n",
       "      <th>max_depth</th>\n",
       "    </tr>\n",
       "  </thead>\n",
       "  <tbody>\n",
       "    <tr>\n",
       "      <th>0</th>\n",
       "      <td>1327.927862</td>\n",
       "      <td>1211.002734</td>\n",
       "      <td>17.059285</td>\n",
       "      <td>0.111250</td>\n",
       "      <td>0.2</td>\n",
       "      <td>8</td>\n",
       "    </tr>\n",
       "    <tr>\n",
       "      <th>1</th>\n",
       "      <td>1337.347153</td>\n",
       "      <td>1261.799997</td>\n",
       "      <td>17.012385</td>\n",
       "      <td>0.101750</td>\n",
       "      <td>0.1</td>\n",
       "      <td>8</td>\n",
       "    </tr>\n",
       "    <tr>\n",
       "      <th>2</th>\n",
       "      <td>1384.141225</td>\n",
       "      <td>1351.300540</td>\n",
       "      <td>8.525752</td>\n",
       "      <td>0.062248</td>\n",
       "      <td>0.2</td>\n",
       "      <td>4</td>\n",
       "    </tr>\n",
       "    <tr>\n",
       "      <th>3</th>\n",
       "      <td>1404.222058</td>\n",
       "      <td>1383.412951</td>\n",
       "      <td>8.564501</td>\n",
       "      <td>0.051999</td>\n",
       "      <td>0.1</td>\n",
       "      <td>4</td>\n",
       "    </tr>\n",
       "  </tbody>\n",
       "</table>\n",
       "</div>"
      ],
      "text/plain": [
       "   RMSE test, €  RMSE train, €  fit time, s  score time, s  learning_rate  \\\n",
       "0   1327.927862    1211.002734    17.059285       0.111250            0.2   \n",
       "1   1337.347153    1261.799997    17.012385       0.101750            0.1   \n",
       "2   1384.141225    1351.300540     8.525752       0.062248            0.2   \n",
       "3   1404.222058    1383.412951     8.564501       0.051999            0.1   \n",
       "\n",
       "   max_depth  \n",
       "0          8  \n",
       "1          8  \n",
       "2          4  \n",
       "3          4  "
      ]
     },
     "execution_count": 37,
     "metadata": {},
     "output_type": "execute_result"
    }
   ],
   "source": [
    "%%time\n",
    "params = {'max_depth': [4, 8],\n",
    "          'learning_rate': [0.1, 0.2]}\n",
    "grid_ctb_gpu = GridSearchCV(\n",
    "    CatBoostRegressor(**common_cbr_params, cat_features=cat_features,\n",
    "                      task_type=\"GPU\"),\n",
    "    param_grid=params, **common_cv_params)\n",
    "grid_ctb_gpu.fit(X_train, y_train)\n",
    "\n",
    "print('CatBoostRegressor with catgorical features (GPU)')\n",
    "best_cv_models(grid_ctb_gpu, 10)"
   ]
  },
  {
   "cell_type": "markdown",
   "metadata": {},
   "source": [
    "Значения `RMSE` почти такие же как для расчёта на CPU. Время обучения значительно лучше.\n",
    "\n",
    "Произведём кросс-валидацию на закодированных признаках"
   ]
  },
  {
   "cell_type": "code",
   "execution_count": 38,
   "metadata": {},
   "outputs": [
    {
     "name": "stdout",
     "output_type": "stream",
     "text": [
      "CatBoostRegressor for ordinal encoded features\n",
      "Estimator: <catboost.core.CatBoostRegressor object at 0x0000022C23FF83A0>\n",
      "Tested 9 models on 4 folds\n",
      "Best RMSE = 1326.7000036984462\n",
      "\n",
      "CPU times: total: 44min 43s\n",
      "Wall time: 6min 54s\n"
     ]
    },
    {
     "data": {
      "text/html": [
       "<div>\n",
       "<style scoped>\n",
       "    .dataframe tbody tr th:only-of-type {\n",
       "        vertical-align: middle;\n",
       "    }\n",
       "\n",
       "    .dataframe tbody tr th {\n",
       "        vertical-align: top;\n",
       "    }\n",
       "\n",
       "    .dataframe thead th {\n",
       "        text-align: right;\n",
       "    }\n",
       "</style>\n",
       "<table border=\"1\" class=\"dataframe\">\n",
       "  <thead>\n",
       "    <tr style=\"text-align: right;\">\n",
       "      <th></th>\n",
       "      <th>RMSE test, €</th>\n",
       "      <th>RMSE train, €</th>\n",
       "      <th>fit time, s</th>\n",
       "      <th>score time, s</th>\n",
       "      <th>learning_rate</th>\n",
       "      <th>max_depth</th>\n",
       "    </tr>\n",
       "  </thead>\n",
       "  <tbody>\n",
       "    <tr>\n",
       "      <th>0</th>\n",
       "      <td>1326.700004</td>\n",
       "      <td>1068.468408</td>\n",
       "      <td>23.051846</td>\n",
       "      <td>0.031750</td>\n",
       "      <td>0.10</td>\n",
       "      <td>12</td>\n",
       "    </tr>\n",
       "    <tr>\n",
       "      <th>1</th>\n",
       "      <td>1332.232735</td>\n",
       "      <td>927.573782</td>\n",
       "      <td>23.058198</td>\n",
       "      <td>0.030999</td>\n",
       "      <td>0.20</td>\n",
       "      <td>12</td>\n",
       "    </tr>\n",
       "    <tr>\n",
       "      <th>2</th>\n",
       "      <td>1332.461800</td>\n",
       "      <td>1181.415678</td>\n",
       "      <td>5.825770</td>\n",
       "      <td>0.008750</td>\n",
       "      <td>0.20</td>\n",
       "      <td>8</td>\n",
       "    </tr>\n",
       "    <tr>\n",
       "      <th>3</th>\n",
       "      <td>1339.493081</td>\n",
       "      <td>1187.612678</td>\n",
       "      <td>22.794080</td>\n",
       "      <td>0.033500</td>\n",
       "      <td>0.05</td>\n",
       "      <td>12</td>\n",
       "    </tr>\n",
       "    <tr>\n",
       "      <th>4</th>\n",
       "      <td>1346.424904</td>\n",
       "      <td>1260.178178</td>\n",
       "      <td>5.841261</td>\n",
       "      <td>0.008749</td>\n",
       "      <td>0.10</td>\n",
       "      <td>8</td>\n",
       "    </tr>\n",
       "    <tr>\n",
       "      <th>5</th>\n",
       "      <td>1377.960349</td>\n",
       "      <td>1331.889871</td>\n",
       "      <td>5.723733</td>\n",
       "      <td>0.009253</td>\n",
       "      <td>0.05</td>\n",
       "      <td>8</td>\n",
       "    </tr>\n",
       "    <tr>\n",
       "      <th>6</th>\n",
       "      <td>1391.333324</td>\n",
       "      <td>1355.964353</td>\n",
       "      <td>3.517339</td>\n",
       "      <td>0.007498</td>\n",
       "      <td>0.20</td>\n",
       "      <td>4</td>\n",
       "    </tr>\n",
       "    <tr>\n",
       "      <th>7</th>\n",
       "      <td>1425.746194</td>\n",
       "      <td>1407.462774</td>\n",
       "      <td>3.510956</td>\n",
       "      <td>0.008000</td>\n",
       "      <td>0.10</td>\n",
       "      <td>4</td>\n",
       "    </tr>\n",
       "    <tr>\n",
       "      <th>8</th>\n",
       "      <td>1476.155315</td>\n",
       "      <td>1466.552179</td>\n",
       "      <td>3.420119</td>\n",
       "      <td>0.007500</td>\n",
       "      <td>0.05</td>\n",
       "      <td>4</td>\n",
       "    </tr>\n",
       "  </tbody>\n",
       "</table>\n",
       "</div>"
      ],
      "text/plain": [
       "   RMSE test, €  RMSE train, €  fit time, s  score time, s  learning_rate  \\\n",
       "0   1326.700004    1068.468408    23.051846       0.031750           0.10   \n",
       "1   1332.232735     927.573782    23.058198       0.030999           0.20   \n",
       "2   1332.461800    1181.415678     5.825770       0.008750           0.20   \n",
       "3   1339.493081    1187.612678    22.794080       0.033500           0.05   \n",
       "4   1346.424904    1260.178178     5.841261       0.008749           0.10   \n",
       "5   1377.960349    1331.889871     5.723733       0.009253           0.05   \n",
       "6   1391.333324    1355.964353     3.517339       0.007498           0.20   \n",
       "7   1425.746194    1407.462774     3.510956       0.008000           0.10   \n",
       "8   1476.155315    1466.552179     3.420119       0.007500           0.05   \n",
       "\n",
       "   max_depth  \n",
       "0         12  \n",
       "1         12  \n",
       "2          8  \n",
       "3         12  \n",
       "4          8  \n",
       "5          8  \n",
       "6          4  \n",
       "7          4  \n",
       "8          4  "
      ]
     },
     "execution_count": 38,
     "metadata": {},
     "output_type": "execute_result"
    }
   ],
   "source": [
    "%%time\n",
    "params = {'max_depth': [4, 8, 12],\n",
    "          'learning_rate': [0.05, 0.1, 0.2]}\n",
    "grid_ctb_oe = GridSearchCV(CatBoostRegressor(**common_cbr_params),\n",
    "                           param_grid=params,# verbose=2,\n",
    "                           **common_cv_params)\n",
    "grid_ctb_oe.fit(X_oe_train, y_train)\n",
    "\n",
    "print('CatBoostRegressor for ordinal encoded features')\n",
    "best_cv_models(grid_ctb_oe, 10)"
   ]
  },
  {
   "cell_type": "code",
   "execution_count": 39,
   "metadata": {},
   "outputs": [
    {
     "name": "stdout",
     "output_type": "stream",
     "text": [
      "CatBoostRegressor for OHE encoded features\n",
      "Estimator: <catboost.core.CatBoostRegressor object at 0x0000022C23AC9100>\n",
      "Tested 9 models on 4 folds\n",
      "Best RMSE = 1313.69231040391\n",
      "\n",
      "CPU times: total: 46min 59s\n",
      "Wall time: 7min 44s\n"
     ]
    },
    {
     "data": {
      "text/html": [
       "<div>\n",
       "<style scoped>\n",
       "    .dataframe tbody tr th:only-of-type {\n",
       "        vertical-align: middle;\n",
       "    }\n",
       "\n",
       "    .dataframe tbody tr th {\n",
       "        vertical-align: top;\n",
       "    }\n",
       "\n",
       "    .dataframe thead th {\n",
       "        text-align: right;\n",
       "    }\n",
       "</style>\n",
       "<table border=\"1\" class=\"dataframe\">\n",
       "  <thead>\n",
       "    <tr style=\"text-align: right;\">\n",
       "      <th></th>\n",
       "      <th>RMSE test, €</th>\n",
       "      <th>RMSE train, €</th>\n",
       "      <th>fit time, s</th>\n",
       "      <th>score time, s</th>\n",
       "      <th>learning_rate</th>\n",
       "      <th>max_depth</th>\n",
       "    </tr>\n",
       "  </thead>\n",
       "  <tbody>\n",
       "    <tr>\n",
       "      <th>0</th>\n",
       "      <td>1313.692310</td>\n",
       "      <td>1042.000994</td>\n",
       "      <td>25.329124</td>\n",
       "      <td>0.057999</td>\n",
       "      <td>0.20</td>\n",
       "      <td>12</td>\n",
       "    </tr>\n",
       "    <tr>\n",
       "      <th>1</th>\n",
       "      <td>1318.580433</td>\n",
       "      <td>1159.851360</td>\n",
       "      <td>25.509057</td>\n",
       "      <td>0.053999</td>\n",
       "      <td>0.10</td>\n",
       "      <td>12</td>\n",
       "    </tr>\n",
       "    <tr>\n",
       "      <th>2</th>\n",
       "      <td>1325.417031</td>\n",
       "      <td>1213.035643</td>\n",
       "      <td>6.517718</td>\n",
       "      <td>0.036748</td>\n",
       "      <td>0.20</td>\n",
       "      <td>8</td>\n",
       "    </tr>\n",
       "    <tr>\n",
       "      <th>3</th>\n",
       "      <td>1340.475077</td>\n",
       "      <td>1255.577123</td>\n",
       "      <td>25.194107</td>\n",
       "      <td>0.051000</td>\n",
       "      <td>0.05</td>\n",
       "      <td>12</td>\n",
       "    </tr>\n",
       "    <tr>\n",
       "      <th>4</th>\n",
       "      <td>1342.703922</td>\n",
       "      <td>1281.188079</td>\n",
       "      <td>6.498431</td>\n",
       "      <td>0.032998</td>\n",
       "      <td>0.10</td>\n",
       "      <td>8</td>\n",
       "    </tr>\n",
       "    <tr>\n",
       "      <th>5</th>\n",
       "      <td>1377.109615</td>\n",
       "      <td>1345.356357</td>\n",
       "      <td>4.088149</td>\n",
       "      <td>0.032248</td>\n",
       "      <td>0.20</td>\n",
       "      <td>4</td>\n",
       "    </tr>\n",
       "    <tr>\n",
       "      <th>6</th>\n",
       "      <td>1379.308872</td>\n",
       "      <td>1346.866743</td>\n",
       "      <td>6.496440</td>\n",
       "      <td>0.029749</td>\n",
       "      <td>0.05</td>\n",
       "      <td>8</td>\n",
       "    </tr>\n",
       "    <tr>\n",
       "      <th>7</th>\n",
       "      <td>1416.778571</td>\n",
       "      <td>1398.140477</td>\n",
       "      <td>4.031207</td>\n",
       "      <td>0.028001</td>\n",
       "      <td>0.10</td>\n",
       "      <td>4</td>\n",
       "    </tr>\n",
       "    <tr>\n",
       "      <th>8</th>\n",
       "      <td>1472.098474</td>\n",
       "      <td>1461.296559</td>\n",
       "      <td>4.075193</td>\n",
       "      <td>0.024249</td>\n",
       "      <td>0.05</td>\n",
       "      <td>4</td>\n",
       "    </tr>\n",
       "  </tbody>\n",
       "</table>\n",
       "</div>"
      ],
      "text/plain": [
       "   RMSE test, €  RMSE train, €  fit time, s  score time, s  learning_rate  \\\n",
       "0   1313.692310    1042.000994    25.329124       0.057999           0.20   \n",
       "1   1318.580433    1159.851360    25.509057       0.053999           0.10   \n",
       "2   1325.417031    1213.035643     6.517718       0.036748           0.20   \n",
       "3   1340.475077    1255.577123    25.194107       0.051000           0.05   \n",
       "4   1342.703922    1281.188079     6.498431       0.032998           0.10   \n",
       "5   1377.109615    1345.356357     4.088149       0.032248           0.20   \n",
       "6   1379.308872    1346.866743     6.496440       0.029749           0.05   \n",
       "7   1416.778571    1398.140477     4.031207       0.028001           0.10   \n",
       "8   1472.098474    1461.296559     4.075193       0.024249           0.05   \n",
       "\n",
       "   max_depth  \n",
       "0         12  \n",
       "1         12  \n",
       "2          8  \n",
       "3         12  \n",
       "4          8  \n",
       "5          4  \n",
       "6          8  \n",
       "7          4  \n",
       "8          4  "
      ]
     },
     "execution_count": 39,
     "metadata": {},
     "output_type": "execute_result"
    }
   ],
   "source": [
    "%%time\n",
    "params = {'max_depth': [4, 8, 12],\n",
    "          'learning_rate': [0.05, 0.1, 0.2]}\n",
    "grid_ctb_ohe = GridSearchCV(CatBoostRegressor(**common_cbr_params),\n",
    "                            param_grid=params,\n",
    "                            **common_cv_params)\n",
    "grid_ctb_ohe.fit(X_ohe_train, y_train)\n",
    "\n",
    "print('CatBoostRegressor for OHE encoded features')\n",
    "best_cv_models(grid_ctb_ohe, 10)"
   ]
  },
  {
   "cell_type": "markdown",
   "metadata": {},
   "source": [
    "- Также есть признаки переобучения\n",
    "- Время обучения на признаках с OHE кодированием немного больше, но в то же время RMSE меньше, чем на признаках с прямым кодированием\n",
    "\n",
    "Для дальнейшего анализа отдадим предпочтение моделям с наименьшим временем обучения и с RMSE наиболее близким к лучшей модели: метроики отличаются не сильно"
   ]
  },
  {
   "cell_type": "code",
   "execution_count": 40,
   "metadata": {},
   "outputs": [],
   "source": [
    "models['CatBoost'] = {\n",
    "    'raw': CatBoostRegressor(**common_cbr_params, learning_rate=0.2, max_depth=4,\n",
    "                             cat_features=cat_features),\n",
    "    'OE' : CatBoostRegressor(**common_cbr_params, learning_rate=0.2, max_depth=8),\n",
    "    'OHE': CatBoostRegressor(**common_cbr_params, learning_rate=0.2, max_depth=8)\n",
    "}"
   ]
  },
  {
   "cell_type": "markdown",
   "metadata": {},
   "source": [
    "### LGBMRegressor"
   ]
  },
  {
   "cell_type": "markdown",
   "metadata": {},
   "source": [
    "В `LGBM` также есть встроенный метод `cv` для кросс-валилации. Будем использовать `GridSearchCV` для унификации\n",
    "\n",
    "Запишем общие для всех вызовов параметры в словарь `common_lgb_params`"
   ]
  },
  {
   "cell_type": "code",
   "execution_count": 41,
   "metadata": {},
   "outputs": [],
   "source": [
    "common_lgb_params = {'metric': 'rmse',\n",
    "                     'random_state': RANDOM_STATE,\n",
    "                     'n_estimators': 500 }"
   ]
  },
  {
   "cell_type": "markdown",
   "metadata": {},
   "source": [
    "Кросс-валидация на исходном наборе признаков"
   ]
  },
  {
   "cell_type": "code",
   "execution_count": 42,
   "metadata": {},
   "outputs": [
    {
     "name": "stdout",
     "output_type": "stream",
     "text": [
      "LGBMRegressor with categorical features\n",
      "Estimator: LGBMRegressor(metric='rmse', n_estimators=500, random_state=123)\n",
      "Tested 45 models on 4 folds\n",
      "Best RMSE = 1297.1637795072315\n",
      "\n",
      "CPU times: total: 2h 40min 17s\n",
      "Wall time: 10min 28s\n"
     ]
    },
    {
     "data": {
      "text/html": [
       "<div>\n",
       "<style scoped>\n",
       "    .dataframe tbody tr th:only-of-type {\n",
       "        vertical-align: middle;\n",
       "    }\n",
       "\n",
       "    .dataframe tbody tr th {\n",
       "        vertical-align: top;\n",
       "    }\n",
       "\n",
       "    .dataframe thead th {\n",
       "        text-align: right;\n",
       "    }\n",
       "</style>\n",
       "<table border=\"1\" class=\"dataframe\">\n",
       "  <thead>\n",
       "    <tr style=\"text-align: right;\">\n",
       "      <th></th>\n",
       "      <th>RMSE test, €</th>\n",
       "      <th>RMSE train, €</th>\n",
       "      <th>fit time, s</th>\n",
       "      <th>score time, s</th>\n",
       "      <th>learning_rate</th>\n",
       "      <th>max_depth</th>\n",
       "      <th>num_leaves</th>\n",
       "    </tr>\n",
       "  </thead>\n",
       "  <tbody>\n",
       "    <tr>\n",
       "      <th>0</th>\n",
       "      <td>1297.163780</td>\n",
       "      <td>979.733629</td>\n",
       "      <td>4.630251</td>\n",
       "      <td>0.350499</td>\n",
       "      <td>0.05</td>\n",
       "      <td>20</td>\n",
       "      <td>250</td>\n",
       "    </tr>\n",
       "    <tr>\n",
       "      <th>1</th>\n",
       "      <td>1297.187446</td>\n",
       "      <td>976.114162</td>\n",
       "      <td>4.507629</td>\n",
       "      <td>0.358751</td>\n",
       "      <td>0.05</td>\n",
       "      <td>50</td>\n",
       "      <td>250</td>\n",
       "    </tr>\n",
       "    <tr>\n",
       "      <th>2</th>\n",
       "      <td>1297.187446</td>\n",
       "      <td>976.114162</td>\n",
       "      <td>4.593501</td>\n",
       "      <td>0.363999</td>\n",
       "      <td>0.05</td>\n",
       "      <td>40</td>\n",
       "      <td>250</td>\n",
       "    </tr>\n",
       "    <tr>\n",
       "      <th>3</th>\n",
       "      <td>1297.729619</td>\n",
       "      <td>978.550200</td>\n",
       "      <td>4.443131</td>\n",
       "      <td>0.336250</td>\n",
       "      <td>0.05</td>\n",
       "      <td>30</td>\n",
       "      <td>250</td>\n",
       "    </tr>\n",
       "    <tr>\n",
       "      <th>4</th>\n",
       "      <td>1302.215098</td>\n",
       "      <td>1044.190748</td>\n",
       "      <td>3.539999</td>\n",
       "      <td>0.392501</td>\n",
       "      <td>0.05</td>\n",
       "      <td>10</td>\n",
       "      <td>250</td>\n",
       "    </tr>\n",
       "    <tr>\n",
       "      <th>5</th>\n",
       "      <td>1304.327134</td>\n",
       "      <td>878.513945</td>\n",
       "      <td>3.904751</td>\n",
       "      <td>0.293750</td>\n",
       "      <td>0.10</td>\n",
       "      <td>30</td>\n",
       "      <td>250</td>\n",
       "    </tr>\n",
       "    <tr>\n",
       "      <th>6</th>\n",
       "      <td>1304.433683</td>\n",
       "      <td>1108.947245</td>\n",
       "      <td>2.393001</td>\n",
       "      <td>0.249499</td>\n",
       "      <td>0.05</td>\n",
       "      <td>30</td>\n",
       "      <td>100</td>\n",
       "    </tr>\n",
       "    <tr>\n",
       "      <th>7</th>\n",
       "      <td>1304.433683</td>\n",
       "      <td>1108.947245</td>\n",
       "      <td>2.447879</td>\n",
       "      <td>0.253750</td>\n",
       "      <td>0.05</td>\n",
       "      <td>40</td>\n",
       "      <td>100</td>\n",
       "    </tr>\n",
       "    <tr>\n",
       "      <th>8</th>\n",
       "      <td>1304.433683</td>\n",
       "      <td>1108.947245</td>\n",
       "      <td>2.409749</td>\n",
       "      <td>0.254250</td>\n",
       "      <td>0.05</td>\n",
       "      <td>50</td>\n",
       "      <td>100</td>\n",
       "    </tr>\n",
       "    <tr>\n",
       "      <th>9</th>\n",
       "      <td>1304.787240</td>\n",
       "      <td>1029.295225</td>\n",
       "      <td>2.075379</td>\n",
       "      <td>0.210250</td>\n",
       "      <td>0.10</td>\n",
       "      <td>20</td>\n",
       "      <td>100</td>\n",
       "    </tr>\n",
       "  </tbody>\n",
       "</table>\n",
       "</div>"
      ],
      "text/plain": [
       "   RMSE test, €  RMSE train, €  fit time, s  score time, s  learning_rate  \\\n",
       "0   1297.163780     979.733629     4.630251       0.350499           0.05   \n",
       "1   1297.187446     976.114162     4.507629       0.358751           0.05   \n",
       "2   1297.187446     976.114162     4.593501       0.363999           0.05   \n",
       "3   1297.729619     978.550200     4.443131       0.336250           0.05   \n",
       "4   1302.215098    1044.190748     3.539999       0.392501           0.05   \n",
       "5   1304.327134     878.513945     3.904751       0.293750           0.10   \n",
       "6   1304.433683    1108.947245     2.393001       0.249499           0.05   \n",
       "7   1304.433683    1108.947245     2.447879       0.253750           0.05   \n",
       "8   1304.433683    1108.947245     2.409749       0.254250           0.05   \n",
       "9   1304.787240    1029.295225     2.075379       0.210250           0.10   \n",
       "\n",
       "   max_depth  num_leaves  \n",
       "0         20         250  \n",
       "1         50         250  \n",
       "2         40         250  \n",
       "3         30         250  \n",
       "4         10         250  \n",
       "5         30         250  \n",
       "6         30         100  \n",
       "7         40         100  \n",
       "8         50         100  \n",
       "9         20         100  "
      ]
     },
     "execution_count": 42,
     "metadata": {},
     "output_type": "execute_result"
    }
   ],
   "source": [
    "%%time\n",
    "params = {'max_depth': [10, 20, 30, 40, 50],\n",
    "          'learning_rate': [0.05, 0.1, 0.2],\n",
    "          'num_leaves': [50, 100, 250]}\n",
    "grid_lgb = GridSearchCV(LGBMRegressor(**common_lgb_params),\n",
    "                        param_grid=params, **common_cv_params)\n",
    "grid_lgb.fit(X_train, y_train)\n",
    "\n",
    "print('LGBMRegressor with categorical features')\n",
    "best_cv_models(grid_lgb, 10)"
   ]
  },
  {
   "cell_type": "markdown",
   "metadata": {},
   "source": [
    "Кросс-валидация на закодированных признаках"
   ]
  },
  {
   "cell_type": "code",
   "execution_count": 43,
   "metadata": {},
   "outputs": [
    {
     "name": "stdout",
     "output_type": "stream",
     "text": [
      "LGBMRegressor for ordinal encoded features\n",
      "Estimator: LGBMRegressor(metric='rmse', n_estimators=500, random_state=123)\n",
      "Tested 45 models on 4 folds\n",
      "Best RMSE = 1311.945924025867\n",
      "\n",
      "CPU times: total: 2h 11min 51s\n",
      "Wall time: 8min 38s\n"
     ]
    },
    {
     "data": {
      "text/html": [
       "<div>\n",
       "<style scoped>\n",
       "    .dataframe tbody tr th:only-of-type {\n",
       "        vertical-align: middle;\n",
       "    }\n",
       "\n",
       "    .dataframe tbody tr th {\n",
       "        vertical-align: top;\n",
       "    }\n",
       "\n",
       "    .dataframe thead th {\n",
       "        text-align: right;\n",
       "    }\n",
       "</style>\n",
       "<table border=\"1\" class=\"dataframe\">\n",
       "  <thead>\n",
       "    <tr style=\"text-align: right;\">\n",
       "      <th></th>\n",
       "      <th>RMSE test, €</th>\n",
       "      <th>RMSE train, €</th>\n",
       "      <th>fit time, s</th>\n",
       "      <th>score time, s</th>\n",
       "      <th>learning_rate</th>\n",
       "      <th>max_depth</th>\n",
       "      <th>num_leaves</th>\n",
       "    </tr>\n",
       "  </thead>\n",
       "  <tbody>\n",
       "    <tr>\n",
       "      <th>0</th>\n",
       "      <td>1311.945924</td>\n",
       "      <td>1029.127999</td>\n",
       "      <td>3.781129</td>\n",
       "      <td>0.228250</td>\n",
       "      <td>0.05</td>\n",
       "      <td>30</td>\n",
       "      <td>250</td>\n",
       "    </tr>\n",
       "    <tr>\n",
       "      <th>1</th>\n",
       "      <td>1312.543619</td>\n",
       "      <td>1027.956623</td>\n",
       "      <td>3.809509</td>\n",
       "      <td>0.224750</td>\n",
       "      <td>0.05</td>\n",
       "      <td>40</td>\n",
       "      <td>250</td>\n",
       "    </tr>\n",
       "    <tr>\n",
       "      <th>2</th>\n",
       "      <td>1312.673906</td>\n",
       "      <td>1027.878135</td>\n",
       "      <td>3.733129</td>\n",
       "      <td>0.218751</td>\n",
       "      <td>0.05</td>\n",
       "      <td>50</td>\n",
       "      <td>250</td>\n",
       "    </tr>\n",
       "    <tr>\n",
       "      <th>3</th>\n",
       "      <td>1312.969359</td>\n",
       "      <td>1031.768285</td>\n",
       "      <td>3.762378</td>\n",
       "      <td>0.232250</td>\n",
       "      <td>0.05</td>\n",
       "      <td>20</td>\n",
       "      <td>250</td>\n",
       "    </tr>\n",
       "    <tr>\n",
       "      <th>4</th>\n",
       "      <td>1317.106825</td>\n",
       "      <td>899.889735</td>\n",
       "      <td>3.494376</td>\n",
       "      <td>0.197501</td>\n",
       "      <td>0.10</td>\n",
       "      <td>30</td>\n",
       "      <td>250</td>\n",
       "    </tr>\n",
       "    <tr>\n",
       "      <th>5</th>\n",
       "      <td>1317.126822</td>\n",
       "      <td>1068.964974</td>\n",
       "      <td>1.853128</td>\n",
       "      <td>0.147501</td>\n",
       "      <td>0.10</td>\n",
       "      <td>30</td>\n",
       "      <td>100</td>\n",
       "    </tr>\n",
       "    <tr>\n",
       "      <th>6</th>\n",
       "      <td>1317.126822</td>\n",
       "      <td>1068.964974</td>\n",
       "      <td>1.871501</td>\n",
       "      <td>0.146751</td>\n",
       "      <td>0.10</td>\n",
       "      <td>50</td>\n",
       "      <td>100</td>\n",
       "    </tr>\n",
       "    <tr>\n",
       "      <th>7</th>\n",
       "      <td>1317.126822</td>\n",
       "      <td>1068.964974</td>\n",
       "      <td>1.845501</td>\n",
       "      <td>0.146998</td>\n",
       "      <td>0.10</td>\n",
       "      <td>40</td>\n",
       "      <td>100</td>\n",
       "    </tr>\n",
       "    <tr>\n",
       "      <th>8</th>\n",
       "      <td>1317.520865</td>\n",
       "      <td>903.631424</td>\n",
       "      <td>3.484378</td>\n",
       "      <td>0.213751</td>\n",
       "      <td>0.10</td>\n",
       "      <td>20</td>\n",
       "      <td>250</td>\n",
       "    </tr>\n",
       "    <tr>\n",
       "      <th>9</th>\n",
       "      <td>1317.789575</td>\n",
       "      <td>1010.123439</td>\n",
       "      <td>2.679129</td>\n",
       "      <td>0.297251</td>\n",
       "      <td>0.10</td>\n",
       "      <td>10</td>\n",
       "      <td>250</td>\n",
       "    </tr>\n",
       "  </tbody>\n",
       "</table>\n",
       "</div>"
      ],
      "text/plain": [
       "   RMSE test, €  RMSE train, €  fit time, s  score time, s  learning_rate  \\\n",
       "0   1311.945924    1029.127999     3.781129       0.228250           0.05   \n",
       "1   1312.543619    1027.956623     3.809509       0.224750           0.05   \n",
       "2   1312.673906    1027.878135     3.733129       0.218751           0.05   \n",
       "3   1312.969359    1031.768285     3.762378       0.232250           0.05   \n",
       "4   1317.106825     899.889735     3.494376       0.197501           0.10   \n",
       "5   1317.126822    1068.964974     1.853128       0.147501           0.10   \n",
       "6   1317.126822    1068.964974     1.871501       0.146751           0.10   \n",
       "7   1317.126822    1068.964974     1.845501       0.146998           0.10   \n",
       "8   1317.520865     903.631424     3.484378       0.213751           0.10   \n",
       "9   1317.789575    1010.123439     2.679129       0.297251           0.10   \n",
       "\n",
       "   max_depth  num_leaves  \n",
       "0         30         250  \n",
       "1         40         250  \n",
       "2         50         250  \n",
       "3         20         250  \n",
       "4         30         250  \n",
       "5         30         100  \n",
       "6         50         100  \n",
       "7         40         100  \n",
       "8         20         250  \n",
       "9         10         250  "
      ]
     },
     "execution_count": 43,
     "metadata": {},
     "output_type": "execute_result"
    }
   ],
   "source": [
    "%%time\n",
    "params = {'max_depth': [10, 20, 30, 40, 50],\n",
    "          'learning_rate': [0.05, 0.1, 0.2],\n",
    "          'num_leaves': [50, 100, 250]}\n",
    "grid_lgb_oe = GridSearchCV(LGBMRegressor(**common_lgb_params),\n",
    "                           param_grid=params, **common_cv_params)\n",
    "grid_lgb_oe.fit(X_oe_train, y_train)\n",
    "\n",
    "print('LGBMRegressor for ordinal encoded features')\n",
    "best_cv_models(grid_lgb_oe, 10)"
   ]
  },
  {
   "cell_type": "code",
   "execution_count": 44,
   "metadata": {},
   "outputs": [
    {
     "name": "stdout",
     "output_type": "stream",
     "text": [
      "LGBMRegressor for OHE encoded features\n",
      "Estimator: LGBMRegressor(metric='rmse', n_estimators=500, random_state=123)\n",
      "Tested 45 models on 4 folds\n",
      "Best RMSE = 1305.9287777369607\n",
      "\n",
      "CPU times: total: 2h 36min 33s\n",
      "Wall time: 11min 48s\n"
     ]
    },
    {
     "data": {
      "text/html": [
       "<div>\n",
       "<style scoped>\n",
       "    .dataframe tbody tr th:only-of-type {\n",
       "        vertical-align: middle;\n",
       "    }\n",
       "\n",
       "    .dataframe tbody tr th {\n",
       "        vertical-align: top;\n",
       "    }\n",
       "\n",
       "    .dataframe thead th {\n",
       "        text-align: right;\n",
       "    }\n",
       "</style>\n",
       "<table border=\"1\" class=\"dataframe\">\n",
       "  <thead>\n",
       "    <tr style=\"text-align: right;\">\n",
       "      <th></th>\n",
       "      <th>RMSE test, €</th>\n",
       "      <th>RMSE train, €</th>\n",
       "      <th>fit time, s</th>\n",
       "      <th>score time, s</th>\n",
       "      <th>learning_rate</th>\n",
       "      <th>max_depth</th>\n",
       "      <th>num_leaves</th>\n",
       "    </tr>\n",
       "  </thead>\n",
       "  <tbody>\n",
       "    <tr>\n",
       "      <th>0</th>\n",
       "      <td>1305.928778</td>\n",
       "      <td>1048.945639</td>\n",
       "      <td>4.963184</td>\n",
       "      <td>0.352999</td>\n",
       "      <td>0.05</td>\n",
       "      <td>50</td>\n",
       "      <td>250</td>\n",
       "    </tr>\n",
       "    <tr>\n",
       "      <th>1</th>\n",
       "      <td>1306.090307</td>\n",
       "      <td>1054.832262</td>\n",
       "      <td>4.831305</td>\n",
       "      <td>0.367002</td>\n",
       "      <td>0.05</td>\n",
       "      <td>30</td>\n",
       "      <td>250</td>\n",
       "    </tr>\n",
       "    <tr>\n",
       "      <th>2</th>\n",
       "      <td>1306.482384</td>\n",
       "      <td>1048.742083</td>\n",
       "      <td>4.796895</td>\n",
       "      <td>0.363251</td>\n",
       "      <td>0.05</td>\n",
       "      <td>40</td>\n",
       "      <td>250</td>\n",
       "    </tr>\n",
       "    <tr>\n",
       "      <th>3</th>\n",
       "      <td>1307.240845</td>\n",
       "      <td>1081.126710</td>\n",
       "      <td>4.593749</td>\n",
       "      <td>0.390501</td>\n",
       "      <td>0.05</td>\n",
       "      <td>20</td>\n",
       "      <td>250</td>\n",
       "    </tr>\n",
       "    <tr>\n",
       "      <th>4</th>\n",
       "      <td>1309.985829</td>\n",
       "      <td>937.873318</td>\n",
       "      <td>4.441001</td>\n",
       "      <td>0.338749</td>\n",
       "      <td>0.10</td>\n",
       "      <td>30</td>\n",
       "      <td>250</td>\n",
       "    </tr>\n",
       "    <tr>\n",
       "      <th>5</th>\n",
       "      <td>1310.119551</td>\n",
       "      <td>928.886398</td>\n",
       "      <td>4.540249</td>\n",
       "      <td>0.335749</td>\n",
       "      <td>0.10</td>\n",
       "      <td>50</td>\n",
       "      <td>250</td>\n",
       "    </tr>\n",
       "    <tr>\n",
       "      <th>6</th>\n",
       "      <td>1310.862493</td>\n",
       "      <td>976.552745</td>\n",
       "      <td>4.038305</td>\n",
       "      <td>0.379249</td>\n",
       "      <td>0.10</td>\n",
       "      <td>20</td>\n",
       "      <td>250</td>\n",
       "    </tr>\n",
       "    <tr>\n",
       "      <th>7</th>\n",
       "      <td>1310.958351</td>\n",
       "      <td>1099.014532</td>\n",
       "      <td>2.632501</td>\n",
       "      <td>0.286002</td>\n",
       "      <td>0.10</td>\n",
       "      <td>50</td>\n",
       "      <td>100</td>\n",
       "    </tr>\n",
       "    <tr>\n",
       "      <th>8</th>\n",
       "      <td>1311.263323</td>\n",
       "      <td>930.563371</td>\n",
       "      <td>4.591500</td>\n",
       "      <td>0.346001</td>\n",
       "      <td>0.10</td>\n",
       "      <td>40</td>\n",
       "      <td>250</td>\n",
       "    </tr>\n",
       "    <tr>\n",
       "      <th>9</th>\n",
       "      <td>1311.275721</td>\n",
       "      <td>1098.859201</td>\n",
       "      <td>2.641498</td>\n",
       "      <td>0.255999</td>\n",
       "      <td>0.10</td>\n",
       "      <td>40</td>\n",
       "      <td>100</td>\n",
       "    </tr>\n",
       "  </tbody>\n",
       "</table>\n",
       "</div>"
      ],
      "text/plain": [
       "   RMSE test, €  RMSE train, €  fit time, s  score time, s  learning_rate  \\\n",
       "0   1305.928778    1048.945639     4.963184       0.352999           0.05   \n",
       "1   1306.090307    1054.832262     4.831305       0.367002           0.05   \n",
       "2   1306.482384    1048.742083     4.796895       0.363251           0.05   \n",
       "3   1307.240845    1081.126710     4.593749       0.390501           0.05   \n",
       "4   1309.985829     937.873318     4.441001       0.338749           0.10   \n",
       "5   1310.119551     928.886398     4.540249       0.335749           0.10   \n",
       "6   1310.862493     976.552745     4.038305       0.379249           0.10   \n",
       "7   1310.958351    1099.014532     2.632501       0.286002           0.10   \n",
       "8   1311.263323     930.563371     4.591500       0.346001           0.10   \n",
       "9   1311.275721    1098.859201     2.641498       0.255999           0.10   \n",
       "\n",
       "   max_depth  num_leaves  \n",
       "0         50         250  \n",
       "1         30         250  \n",
       "2         40         250  \n",
       "3         20         250  \n",
       "4         30         250  \n",
       "5         50         250  \n",
       "6         20         250  \n",
       "7         50         100  \n",
       "8         40         250  \n",
       "9         40         100  "
      ]
     },
     "execution_count": 44,
     "metadata": {},
     "output_type": "execute_result"
    }
   ],
   "source": [
    "%%time\n",
    "params = {'max_depth': [10, 20, 30, 40, 50],\n",
    "          'learning_rate': [0.05, 0.1, 0.2],\n",
    "          'num_leaves': [50, 100, 250]}\n",
    "grid_lgb_ohe = GridSearchCV(LGBMRegressor(**common_lgb_params),\n",
    "                           param_grid=params, **common_cv_params)\n",
    "grid_lgb_ohe.fit(X_ohe_train, y_train)\n",
    "\n",
    "print('LGBMRegressor for OHE encoded features')\n",
    "best_cv_models(grid_lgb_ohe, 10)"
   ]
  },
  {
   "cell_type": "markdown",
   "metadata": {},
   "source": [
    "- Наилучшие результаты показали модели регрессора, обученные на наборе данных с категориальными признаками.\n",
    "- В отличие от `CatBoostRegressor` нет такой сильной зависимости времени обучения от глубины деревьев \n",
    "- Судя по значениям процессорного времени рассчётов `LGBM` использует вычислительные мощности ядер более эффективно, чем `CatBoost` "
   ]
  },
  {
   "cell_type": "code",
   "execution_count": 45,
   "metadata": {},
   "outputs": [],
   "source": [
    "models['LGBM'] = {\n",
    "    'raw': LGBMRegressor(**common_lgb_params, **grid_lgb.best_params_),\n",
    "    'OE' : LGBMRegressor(**common_lgb_params, **grid_lgb_oe.best_params_),\n",
    "    'OHE': LGBMRegressor(**common_lgb_params, **grid_lgb_ohe.best_params_)\n",
    "}"
   ]
  },
  {
   "cell_type": "markdown",
   "metadata": {},
   "source": [
    "## Анализ моделей"
   ]
  },
  {
   "cell_type": "markdown",
   "metadata": {},
   "source": [
    "Вычислим метрику, время обучения и предсказания на тестовой выборке для лучших из протестированных моделей. Запишем значения в таблицу\n",
    "\n",
    "Для этого подготовим функцию для обучения модели, создания предсказаний и вычисления RMSE"
   ]
  },
  {
   "cell_type": "code",
   "execution_count": 46,
   "metadata": {},
   "outputs": [],
   "source": [
    "def test_model(model, X_train, y_train, X_test, y_test):\n",
    "    ''' \n",
    "    - Обучение модели `model` на выборках `X_train`, `y_train`\n",
    "    - Предсказание обученной модели на наборе `X_test`\n",
    "    - Вычисление RMSE на полученных предсказаниях и наборе `y_test`\n",
    "    \n",
    "    Возвращает RMSE, время обучения, время пердсказаний в виде словаря\n",
    "    '''\n",
    "    # обучение\n",
    "    t_beg = time.time()\n",
    "    model.fit(X_train, y_train)\n",
    "    time_fit = time.time() - t_beg\n",
    "    # предсказания\n",
    "    t_beg = time.time()\n",
    "    y_pred = model.predict(X_test)\n",
    "    time_predict = time.time() - t_beg\n",
    "    # метрика\n",
    "    rmse = mean_squared_error(y_pred, y_test, squared=False)\n",
    "\n",
    "    return {'RMSE, €': rmse,\n",
    "            'fit time, s': time_fit,\n",
    "            'predict time, s':time_predict}"
   ]
  },
  {
   "cell_type": "markdown",
   "metadata": {},
   "source": [
    "В цикле по всем моделям, записанным в список `models`, вычислим показатели этих моделей для предсказания значений _Price_ на тестовой выборке"
   ]
  },
  {
   "cell_type": "code",
   "execution_count": 47,
   "metadata": {},
   "outputs": [
    {
     "data": {
      "application/vnd.jupyter.widget-view+json": {
       "model_id": "b68aa1bafe7c4070af08a221325ac772",
       "version_major": 2,
       "version_minor": 0
      },
      "text/plain": [
       "  0%|          | 0/4 [00:00<?, ?it/s]"
      ]
     },
     "metadata": {},
     "output_type": "display_data"
    },
    {
     "data": {
      "text/html": [
       "<div>\n",
       "<style scoped>\n",
       "    .dataframe tbody tr th:only-of-type {\n",
       "        vertical-align: middle;\n",
       "    }\n",
       "\n",
       "    .dataframe tbody tr th {\n",
       "        vertical-align: top;\n",
       "    }\n",
       "\n",
       "    .dataframe thead th {\n",
       "        text-align: right;\n",
       "    }\n",
       "</style>\n",
       "<table border=\"1\" class=\"dataframe\">\n",
       "  <thead>\n",
       "    <tr style=\"text-align: right;\">\n",
       "      <th></th>\n",
       "      <th></th>\n",
       "      <th>RMSE, €</th>\n",
       "      <th>fit time, s</th>\n",
       "      <th>predict time, s</th>\n",
       "    </tr>\n",
       "  </thead>\n",
       "  <tbody>\n",
       "    <tr>\n",
       "      <th rowspan=\"2\" valign=\"top\">Linear</th>\n",
       "      <th>OE</th>\n",
       "      <td>2421.421301</td>\n",
       "      <td>0.029008</td>\n",
       "      <td>0.003994</td>\n",
       "    </tr>\n",
       "    <tr>\n",
       "      <th>OHE</th>\n",
       "      <td>2099.047586</td>\n",
       "      <td>1.478998</td>\n",
       "      <td>0.074001</td>\n",
       "    </tr>\n",
       "    <tr>\n",
       "      <th rowspan=\"2\" valign=\"top\">DecisionTree</th>\n",
       "      <th>OE</th>\n",
       "      <td>1477.375027</td>\n",
       "      <td>0.620000</td>\n",
       "      <td>0.010999</td>\n",
       "    </tr>\n",
       "    <tr>\n",
       "      <th>OHE</th>\n",
       "      <td>1473.032647</td>\n",
       "      <td>4.431003</td>\n",
       "      <td>0.054000</td>\n",
       "    </tr>\n",
       "    <tr>\n",
       "      <th rowspan=\"3\" valign=\"top\">CatBoost</th>\n",
       "      <th>raw</th>\n",
       "      <td>1370.404789</td>\n",
       "      <td>38.120622</td>\n",
       "      <td>0.045002</td>\n",
       "    </tr>\n",
       "    <tr>\n",
       "      <th>OE</th>\n",
       "      <td>1312.523454</td>\n",
       "      <td>6.986025</td>\n",
       "      <td>0.009001</td>\n",
       "    </tr>\n",
       "    <tr>\n",
       "      <th>OHE</th>\n",
       "      <td>1306.397614</td>\n",
       "      <td>7.331268</td>\n",
       "      <td>0.039999</td>\n",
       "    </tr>\n",
       "    <tr>\n",
       "      <th rowspan=\"3\" valign=\"top\">LGBM</th>\n",
       "      <th>raw</th>\n",
       "      <td>1271.067967</td>\n",
       "      <td>5.062002</td>\n",
       "      <td>0.331998</td>\n",
       "    </tr>\n",
       "    <tr>\n",
       "      <th>OE</th>\n",
       "      <td>1286.353013</td>\n",
       "      <td>4.375000</td>\n",
       "      <td>0.224999</td>\n",
       "    </tr>\n",
       "    <tr>\n",
       "      <th>OHE</th>\n",
       "      <td>1283.298738</td>\n",
       "      <td>5.383998</td>\n",
       "      <td>0.366000</td>\n",
       "    </tr>\n",
       "  </tbody>\n",
       "</table>\n",
       "</div>"
      ],
      "text/plain": [
       "                      RMSE, €  fit time, s  predict time, s\n",
       "Linear       OE   2421.421301     0.029008         0.003994\n",
       "             OHE  2099.047586     1.478998         0.074001\n",
       "DecisionTree OE   1477.375027     0.620000         0.010999\n",
       "             OHE  1473.032647     4.431003         0.054000\n",
       "CatBoost     raw  1370.404789    38.120622         0.045002\n",
       "             OE   1312.523454     6.986025         0.009001\n",
       "             OHE  1306.397614     7.331268         0.039999\n",
       "LGBM         raw  1271.067967     5.062002         0.331998\n",
       "             OE   1286.353013     4.375000         0.224999\n",
       "             OHE  1283.298738     5.383998         0.366000"
      ]
     },
     "execution_count": 47,
     "metadata": {},
     "output_type": "execute_result"
    }
   ],
   "source": [
    "scores_table = {}\n",
    "\n",
    "for name, regressor in tqdm(models.items()):\n",
    "    for f, model in regressor.items():\n",
    "        scores_table[name, f] = test_model(model, X[f][0], y_train, X[f][1], y_test) \n",
    "\n",
    "scores_table = pd.DataFrame(scores_table).T\n",
    "scores_table"
   ]
  },
  {
   "cell_type": "markdown",
   "metadata": {},
   "source": [
    "По условию при выборе модели важны:\n",
    "\n",
    "- качество предсказания;\n",
    "- скорость предсказания;\n",
    "- время обучения.\n",
    "\n",
    "1. Несмотря на небольшее время обучения моделей `LinearRegression` и `DecisionTreeRegressor` качество предсказаний у них самое низкое. Не стоит их рассматривать\n",
    "2. `LightGBM` показал самое лучшее качество предсказаний и меньшее по сравнению с `CatBoost` время обучения\n",
    "3. `CatBoost` превосходит `LightGBM` тиолько по скорости предсказаний."
   ]
  }
 ],
 "metadata": {
  "kernelspec": {
   "display_name": "Python 3 (ipykernel)",
   "language": "python",
   "name": "python3"
  },
  "language_info": {
   "codemirror_mode": {
    "name": "ipython",
    "version": 3
   },
   "file_extension": ".py",
   "mimetype": "text/x-python",
   "name": "python",
   "nbconvert_exporter": "python",
   "pygments_lexer": "ipython3",
   "version": "3.9.10"
  },
  "toc": {
   "base_numbering": 1,
   "nav_menu": {},
   "number_sections": true,
   "sideBar": true,
   "skip_h1_title": true,
   "title_cell": "Содержание",
   "title_sidebar": "Contents",
   "toc_cell": true,
   "toc_position": {},
   "toc_section_display": true,
   "toc_window_display": true
  }
 },
 "nbformat": 4,
 "nbformat_minor": 2
}
