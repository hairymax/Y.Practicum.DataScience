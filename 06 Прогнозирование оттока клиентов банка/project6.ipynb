{
 "cells": [
  {
   "cell_type": "markdown",
   "metadata": {},
   "source": [
    "# Отток клиентов\n",
    "\n",
    "Из «Бета-Банка» стали уходить клиенты. Каждый месяц. Немного, но заметно. Банковские маркетологи посчитали: сохранять текущих клиентов дешевле, чем привлекать новых.\n",
    "\n",
    "Нужно спрогнозировать, уйдёт клиент из банка в ближайшее время или нет. Вам предоставлены исторические данные о поведении клиентов и расторжении договоров с банком. \n",
    "\n",
    "Постройте модель с предельно большим значением *F1*-меры. Чтобы сдать проект успешно, нужно довести метрику до 0.59. Проверьте *F1*-меру на тестовой выборке самостоятельно.\n",
    "\n",
    "Дополнительно измеряйте *AUC-ROC*, сравнивайте её значение с *F1*-мерой.\n"
   ]
  },
  {
   "cell_type": "markdown",
   "metadata": {
    "toc": true
   },
   "source": [
    "<h1>Содержание<span class=\"tocSkip\"></span></h1>\n",
    "<div class=\"toc\"><ul class=\"toc-item\"><li><span><a href=\"#Описание-данных\" data-toc-modified-id=\"Описание-данных-1\"><span class=\"toc-item-num\">1&nbsp;&nbsp;</span>Описание данных</a></span></li><li><span><a href=\"#Библиотеки-и-функции\" data-toc-modified-id=\"Библиотеки-и-функции-2\"><span class=\"toc-item-num\">2&nbsp;&nbsp;</span>Библиотеки и функции</a></span><ul class=\"toc-item\"><li><span><a href=\"#Оценка-AUC-ROC-модели,-семплирование\" data-toc-modified-id=\"Оценка-AUC-ROC-модели,-семплирование-2.1\"><span class=\"toc-item-num\">2.1&nbsp;&nbsp;</span>Оценка AUC ROC модели, семплирование</a></span></li><li><span><a href=\"#Тестирование-моделей\" data-toc-modified-id=\"Тестирование-моделей-2.2\"><span class=\"toc-item-num\">2.2&nbsp;&nbsp;</span>Тестирование моделей</a></span></li></ul></li><li><span><a href=\"#Подготовка-данных\" data-toc-modified-id=\"Подготовка-данных-3\"><span class=\"toc-item-num\">3&nbsp;&nbsp;</span>Подготовка данных</a></span></li><li><span><a href=\"#Исследование-задачи\" data-toc-modified-id=\"Исследование-задачи-4\"><span class=\"toc-item-num\">4&nbsp;&nbsp;</span>Исследование задачи</a></span><ul class=\"toc-item\"><li><span><a href=\"#Логистическая-регрессия\" data-toc-modified-id=\"Логистическая-регрессия-4.1\"><span class=\"toc-item-num\">4.1&nbsp;&nbsp;</span>Логистическая регрессия</a></span></li><li><span><a href=\"#Решающее-дерево\" data-toc-modified-id=\"Решающее-дерево-4.2\"><span class=\"toc-item-num\">4.2&nbsp;&nbsp;</span>Решающее дерево</a></span></li><li><span><a href=\"#Случайный-лес\" data-toc-modified-id=\"Случайный-лес-4.3\"><span class=\"toc-item-num\">4.3&nbsp;&nbsp;</span>Случайный лес</a></span></li></ul></li><li><span><a href=\"#Борьба-с-дисбалансом\" data-toc-modified-id=\"Борьба-с-дисбалансом-5\"><span class=\"toc-item-num\">5&nbsp;&nbsp;</span>Борьба с дисбалансом</a></span><ul class=\"toc-item\"><li><span><a href=\"#Взвешивание-классов\" data-toc-modified-id=\"Взвешивание-классов-5.1\"><span class=\"toc-item-num\">5.1&nbsp;&nbsp;</span>Взвешивание классов</a></span><ul class=\"toc-item\"><li><span><a href=\"#Логистическая-регрессия\" data-toc-modified-id=\"Логистическая-регрессия-5.1.1\"><span class=\"toc-item-num\">5.1.1&nbsp;&nbsp;</span>Логистическая регрессия</a></span></li><li><span><a href=\"#Решающие-деревья\" data-toc-modified-id=\"Решающие-деревья-5.1.2\"><span class=\"toc-item-num\">5.1.2&nbsp;&nbsp;</span>Решающие деревья</a></span></li><li><span><a href=\"#Случайный-лес\" data-toc-modified-id=\"Случайный-лес-5.1.3\"><span class=\"toc-item-num\">5.1.3&nbsp;&nbsp;</span>Случайный лес</a></span></li></ul></li><li><span><a href=\"#Upsampling-и-Downsampling\" data-toc-modified-id=\"Upsampling-и-Downsampling-5.2\"><span class=\"toc-item-num\">5.2&nbsp;&nbsp;</span>Upsampling и Downsampling</a></span></li></ul></li><li><span><a href=\"#Тестирование-модели\" data-toc-modified-id=\"Тестирование-модели-6\"><span class=\"toc-item-num\">6&nbsp;&nbsp;</span>Тестирование модели</a></span></li></ul></div>"
   ]
  },
  {
   "cell_type": "markdown",
   "metadata": {},
   "source": [
    "## Описание данных\n",
    "\n",
    "Источник данных: [https://www.kaggle.com/barelydedicated/bank-customer-churn-modeling](https://www.kaggle.com/barelydedicated/bank-customer-churn-modeling)\n",
    "\n",
    "**Признаки**\n",
    "- `RowNumber` — индекс строки в данных\n",
    "- `CustomerId` — уникальный идентификатор клиента\n",
    "- `Surname` — фамилия\n",
    "- `CreditScore` — кредитный рейтинг\n",
    "- `Geography` — страна проживания\n",
    "- `Gender` — пол\n",
    "- `Age` — возраст\n",
    "- `Tenure` — сколько лет человек является клиентом банка\n",
    "- `Balance` — баланс на счёте\n",
    "- `NumOfProducts` — количество продуктов банка, используемых клиентом\n",
    "- `HasCrCard` — наличие кредитной карты\n",
    "- `IsActiveMember` — активность клиента\n",
    "- `EstimatedSalary` — предполагаемая зарплата\n",
    "\n",
    "**Целевой признак**\n",
    "- `Exited` — факт ухода клиента"
   ]
  },
  {
   "cell_type": "markdown",
   "metadata": {},
   "source": [
    "## Библиотеки и функции"
   ]
  },
  {
   "cell_type": "code",
   "execution_count": 1,
   "metadata": {},
   "outputs": [],
   "source": [
    "# для вывода\n",
    "from IPython.display import Markdown, display \n",
    "from tqdm.notebook import tqdm_notebook as tqdm\n",
    "import time\n",
    "\n",
    "# для работы с данными\n",
    "import pandas as pd\n",
    "import numpy as np\n",
    "\n",
    "# для графики\n",
    "import seaborn as sns\n",
    "from matplotlib import pyplot as plt\n",
    "from matplotlib import rcParams\n",
    "rcParams['figure.figsize'] = 8, 5\n",
    "\n",
    "# для обучения\n",
    "from sklearn.model_selection import train_test_split\n",
    "from sklearn.metrics import (\n",
    "    f1_score, precision_score, recall_score, \n",
    "    auc, roc_auc_score, roc_curve\n",
    ")\n",
    "from sklearn.utils import shuffle\n",
    "from sklearn.preprocessing import StandardScaler\n",
    "from sklearn.tree import DecisionTreeClassifier\n",
    "from sklearn.ensemble import RandomForestClassifier\n",
    "from sklearn.linear_model import LogisticRegression\n",
    "\n",
    "# константы\n",
    "RANDOM_STATE = 123\n",
    "\n",
    "np.random.seed(RANDOM_STATE)"
   ]
  },
  {
   "cell_type": "markdown",
   "metadata": {},
   "source": [
    "### Оценка AUC ROC модели, семплирование"
   ]
  },
  {
   "cell_type": "code",
   "execution_count": 2,
   "metadata": {},
   "outputs": [],
   "source": [
    "def roc_curve_plot(model, X_test, y_test, title='ROC Curve'):\n",
    "    ''' Функция построения ROC кривой\n",
    "    '''\n",
    "    pred = model.predict_proba(X_test)[:,1]\n",
    "    fpr, tpr, thresholds = roc_curve(y_test, pred)\n",
    "    roc_auc = auc(fpr, tpr)\n",
    "    #plt.figure(figsize=(6,4))\n",
    "    plt.title(title)\n",
    "    plt.plot(fpr, tpr, 'g', label = 'AUC = %0.4f' % roc_auc)\n",
    "    plt.legend(loc = 'lower right')\n",
    "    plt.plot([0, 1], [0, 1],'r--')\n",
    "    plt.grid()\n",
    "    plt.xlim([0, 1]), plt.ylim([0, 1])\n",
    "    plt.ylabel('True Positive Rate')\n",
    "    plt.xlabel('False Positive Rate')\n",
    "    plt.show()\n",
    "    # print('ROC AUC score:', round(roc_auc, 4))\n",
    "\n",
    "\n",
    "def upsample(features, target, repeat):\n",
    "    ''' Функция возвращает увеличенные выборки признаков и меток\n",
    "\n",
    "        features : pd.DataFrame\n",
    "        target : pd.Series\n",
    "        repeat : int - множитель, кратно которому необходимо увеличить выборку\n",
    "    '''\n",
    "    features_zeros = features[target == 0]\n",
    "    features_ones = features[target == 1]\n",
    "    target_zeros = target[target == 0]\n",
    "    target_ones = target[target == 1]\n",
    "\n",
    "    features_upsampled = pd.concat([features_zeros] + [features_ones] * repeat)\n",
    "    target_upsampled = pd.concat([target_zeros] + [target_ones] * repeat)\n",
    "        \n",
    "    return shuffle(features_upsampled, target_upsampled, random_state=RANDOM_STATE)\n",
    "\n",
    "\n",
    "def downsample(features, target, fraction):\n",
    "    ''' Функция возвращает уменьшенные выборки признаков и меток\n",
    "\n",
    "        features : pd.DataFrame\n",
    "        target : pd.Series\n",
    "        fraction : float - доля, кратно которой необходимо уменьшить выборку\n",
    "    '''\n",
    "    features_zeros = features[target == 0].sample(frac=fraction, random_state=RANDOM_STATE)\n",
    "    features_ones = features[target == 1]\n",
    "    target_zeros = target[target == 0].sample(frac=fraction, random_state=RANDOM_STATE)\n",
    "    target_ones = target[target == 1]\n",
    "\n",
    "    features_downsampled = pd.concat([features_zeros] + [features_ones]) \n",
    "    target_downsampled = pd.concat([target_zeros] + [target_ones])\n",
    "     \n",
    "    return shuffle(features_downsampled, target_downsampled, random_state=RANDOM_STATE)"
   ]
  },
  {
   "cell_type": "markdown",
   "metadata": {},
   "source": [
    "### Тестирование моделей"
   ]
  },
  {
   "cell_type": "code",
   "execution_count": 3,
   "metadata": {},
   "outputs": [],
   "source": [
    "def f1_test_decision_tree(X_train, y_train, X_test, y_test, max_depth=10, class_weight=None):\n",
    "    ''' Функция определяет f1 меру для решающих деревьев с глубиной влоть до max_depth, выводит график\n",
    "    \n",
    "        X_train, y_train : array-like - тренировочные признаки и метки\n",
    "        X_test, y_test : array-like - тестовые признаки и метки\n",
    "        max_depth : int - значение глубины, до которого тестируем модели\n",
    "        n_estimators : int - количество деревьев\n",
    "        class_weight : str - флаг, балансировать ли классы\n",
    "        \n",
    "        Возвращает:\n",
    "        DecisionTreeClassifier с наилучшим f1_score\n",
    "    '''\n",
    "    stat = {}\n",
    "    # обучение, вычисление f1\n",
    "    for dep in range(1, max_depth+1):\n",
    "        model = DecisionTreeClassifier(\n",
    "            max_depth=dep, class_weight=class_weight, random_state=RANDOM_STATE)\n",
    "        model.fit(X_train, y_train)\n",
    "        y_pred = model.predict(X_test)\n",
    "        stat[dep] = f1_score(y_test, y_pred)\n",
    "\n",
    "    # график\n",
    "    pd.Series(stat).plot(grid=True,\n",
    "        xlabel = 'Глубина дерева', ylabel = 'F1-мера', \n",
    "        title  = 'Зависимость f1 меры от глубины для решающего дерева')\n",
    "    \n",
    "    max_f1_depth = max(stat, key=stat.get)\n",
    "    print(\"Максимальная F1-мера = {:.4f}, глубина {:2d}\".format(max(stat.values()), max_f1_depth))\n",
    "    return DecisionTreeClassifier(max_depth=max_f1_depth, class_weight=class_weight, \n",
    "                                  random_state=RANDOM_STATE)\n",
    "\n",
    "\n",
    "def f1_test_random_forest_depth(X_train, y_train, X_test, y_test, \n",
    "        depths=range(1,11), n_estimators=10, class_weight=None):\n",
    "    ''' Функция определяет f1 меру для случайного леса деревьев с глубиной влоть до max_depth,\n",
    "        количеством деревьем n_est, выводит график\n",
    "        \n",
    "        Параметры:\n",
    "        X_train, y_train : array-like - тренировочные признаки и метки\n",
    "        X_test, y_test : array-like - тестовые признаки и метки\n",
    "        depths : list/range - значения глубин, которые перебираем\n",
    "        n_estimators : int - количество деревьев\n",
    "        class_weight : str - флаг, балансировать ли классы\n",
    "        \n",
    "        Возвращает:\n",
    "        tuple : (RandomForestClassifier с наилучшим f1_score, значение f1_score)\n",
    "    '''\n",
    "    stat = {}\n",
    "    # обучение, вычисление f1\n",
    "    for dep in depths:\n",
    "        model = RandomForestClassifier(max_depth=dep, n_estimators=n_estimators, \n",
    "                                       class_weight=class_weight, random_state=RANDOM_STATE)\n",
    "        model.fit(X_train, y_train)\n",
    "        y_pred = model.predict(X_test)\n",
    "        stat[dep] = f1_score(y_test, y_pred)\n",
    "\n",
    "    # график\n",
    "    pd.Series(stat).plot(grid=True,\n",
    "        xlabel = 'Глубина дерева', ylabel = 'F1-мера', \n",
    "        title  = 'Зависимость f1 меры от глубины деревьев')\n",
    "    \n",
    "    max_f1_depth = max(stat, key=stat.get)\n",
    "    print(\"Максимальная F1-мера: n_estimators = {:3d}, max_depth = {:2d} : {:.4f}\"\n",
    "              .format(n_estimators, max_f1_depth, max(stat.values()) ))\n",
    "    return (RandomForestClassifier(max_depth=max_f1_depth, n_estimators=n_estimators,\n",
    "                                  class_weight=class_weight, random_state=RANDOM_STATE), \n",
    "            max(stat.values()) )\n",
    "\n",
    "    \n",
    "def f1_test_random_forest_n_estimators(X_train, y_train, X_test, y_test, \n",
    "        max_depth=10, n_estimators=range(10,101,10), class_weight=None):\n",
    "    ''' Функция определяет f1 меру для случайного леса деревьев с глубиной max_depth,\n",
    "        количеством деревьем из n_estimators, выводит график\n",
    "        \n",
    "        Параметры:\n",
    "        X_train, y_train : array-like - тренировочные признаки и метки\n",
    "        X_test, y_test : array-like - тестовые признаки и метки\n",
    "        max_depth : int - значение глубины\n",
    "        n_estimators : list/range - значения количества деревьев, которые перебираем\n",
    "        class_weight : str - флаг, балансировать ли классы\n",
    "        \n",
    "        Возвращает:\n",
    "        tuple : (RandomForestClassifier с наилучшим f1_score, значение f1_score)\n",
    "    '''\n",
    "    stat = {}\n",
    "    # обучение, вычисление f1\n",
    "    for n_est in tqdm(n_estimators, leave=False, desc='max_depth = '+str(max_depth)):\n",
    "        model = RandomForestClassifier(max_depth=max_depth, n_estimators=n_est,\n",
    "                                       class_weight=class_weight, random_state=RANDOM_STATE)\n",
    "        model.fit(X_train, y_train)\n",
    "        y_pred = model.predict(X_test)\n",
    "        stat[n_est] = f1_score(y_test, y_pred)\n",
    "\n",
    "    # график\n",
    "    pd.Series(stat).plot(grid=True,\n",
    "        xlabel = 'Количество деревьев', ylabel = 'F1-мера', \n",
    "        title  = 'Зависимость f1 меры от количества деревьев')\n",
    "    \n",
    "    max_f1_estimators = max(stat, key=stat.get)\n",
    "    print(\"Максимальная F1-мера: n_estimators = {:3d}, max_depth = {:2d} : {:.4f}\"\n",
    "              .format(max_f1_estimators, max_depth, max(stat.values()) ))\n",
    "    return (RandomForestClassifier(max_depth=max_depth, n_estimators=max_f1_estimators,\n",
    "                                   class_weight=class_weight, random_state=RANDOM_STATE),\n",
    "            max(stat.values()) )\n"
   ]
  },
  {
   "cell_type": "markdown",
   "metadata": {},
   "source": [
    "## Подготовка данных\n",
    "\n",
    "Загрузим данные и посмотрим информацию о датасете"
   ]
  },
  {
   "cell_type": "code",
   "execution_count": 4,
   "metadata": {},
   "outputs": [
    {
     "name": "stdout",
     "output_type": "stream",
     "text": [
      "<class 'pandas.core.frame.DataFrame'>\n",
      "RangeIndex: 10000 entries, 0 to 9999\n",
      "Data columns (total 14 columns):\n",
      " #   Column           Non-Null Count  Dtype  \n",
      "---  ------           --------------  -----  \n",
      " 0   RowNumber        10000 non-null  int64  \n",
      " 1   CustomerId       10000 non-null  int64  \n",
      " 2   Surname          10000 non-null  object \n",
      " 3   CreditScore      10000 non-null  int64  \n",
      " 4   Geography        10000 non-null  object \n",
      " 5   Gender           10000 non-null  object \n",
      " 6   Age              10000 non-null  int64  \n",
      " 7   Tenure           9091 non-null   float64\n",
      " 8   Balance          10000 non-null  float64\n",
      " 9   NumOfProducts    10000 non-null  int64  \n",
      " 10  HasCrCard        10000 non-null  int64  \n",
      " 11  IsActiveMember   10000 non-null  int64  \n",
      " 12  EstimatedSalary  10000 non-null  float64\n",
      " 13  Exited           10000 non-null  int64  \n",
      "dtypes: float64(3), int64(8), object(3)\n",
      "memory usage: 1.1+ MB\n"
     ]
    },
    {
     "data": {
      "text/html": [
       "<div>\n",
       "<style scoped>\n",
       "    .dataframe tbody tr th:only-of-type {\n",
       "        vertical-align: middle;\n",
       "    }\n",
       "\n",
       "    .dataframe tbody tr th {\n",
       "        vertical-align: top;\n",
       "    }\n",
       "\n",
       "    .dataframe thead th {\n",
       "        text-align: right;\n",
       "    }\n",
       "</style>\n",
       "<table border=\"1\" class=\"dataframe\">\n",
       "  <thead>\n",
       "    <tr style=\"text-align: right;\">\n",
       "      <th></th>\n",
       "      <th>RowNumber</th>\n",
       "      <th>CustomerId</th>\n",
       "      <th>Surname</th>\n",
       "      <th>CreditScore</th>\n",
       "      <th>Geography</th>\n",
       "      <th>Gender</th>\n",
       "      <th>Age</th>\n",
       "      <th>Tenure</th>\n",
       "      <th>Balance</th>\n",
       "      <th>NumOfProducts</th>\n",
       "      <th>HasCrCard</th>\n",
       "      <th>IsActiveMember</th>\n",
       "      <th>EstimatedSalary</th>\n",
       "      <th>Exited</th>\n",
       "    </tr>\n",
       "  </thead>\n",
       "  <tbody>\n",
       "    <tr>\n",
       "      <th>0</th>\n",
       "      <td>1</td>\n",
       "      <td>15634602</td>\n",
       "      <td>Hargrave</td>\n",
       "      <td>619</td>\n",
       "      <td>France</td>\n",
       "      <td>Female</td>\n",
       "      <td>42</td>\n",
       "      <td>2.0</td>\n",
       "      <td>0.00</td>\n",
       "      <td>1</td>\n",
       "      <td>1</td>\n",
       "      <td>1</td>\n",
       "      <td>101348.88</td>\n",
       "      <td>1</td>\n",
       "    </tr>\n",
       "    <tr>\n",
       "      <th>1</th>\n",
       "      <td>2</td>\n",
       "      <td>15647311</td>\n",
       "      <td>Hill</td>\n",
       "      <td>608</td>\n",
       "      <td>Spain</td>\n",
       "      <td>Female</td>\n",
       "      <td>41</td>\n",
       "      <td>1.0</td>\n",
       "      <td>83807.86</td>\n",
       "      <td>1</td>\n",
       "      <td>0</td>\n",
       "      <td>1</td>\n",
       "      <td>112542.58</td>\n",
       "      <td>0</td>\n",
       "    </tr>\n",
       "    <tr>\n",
       "      <th>2</th>\n",
       "      <td>3</td>\n",
       "      <td>15619304</td>\n",
       "      <td>Onio</td>\n",
       "      <td>502</td>\n",
       "      <td>France</td>\n",
       "      <td>Female</td>\n",
       "      <td>42</td>\n",
       "      <td>8.0</td>\n",
       "      <td>159660.80</td>\n",
       "      <td>3</td>\n",
       "      <td>1</td>\n",
       "      <td>0</td>\n",
       "      <td>113931.57</td>\n",
       "      <td>1</td>\n",
       "    </tr>\n",
       "    <tr>\n",
       "      <th>3</th>\n",
       "      <td>4</td>\n",
       "      <td>15701354</td>\n",
       "      <td>Boni</td>\n",
       "      <td>699</td>\n",
       "      <td>France</td>\n",
       "      <td>Female</td>\n",
       "      <td>39</td>\n",
       "      <td>1.0</td>\n",
       "      <td>0.00</td>\n",
       "      <td>2</td>\n",
       "      <td>0</td>\n",
       "      <td>0</td>\n",
       "      <td>93826.63</td>\n",
       "      <td>0</td>\n",
       "    </tr>\n",
       "    <tr>\n",
       "      <th>4</th>\n",
       "      <td>5</td>\n",
       "      <td>15737888</td>\n",
       "      <td>Mitchell</td>\n",
       "      <td>850</td>\n",
       "      <td>Spain</td>\n",
       "      <td>Female</td>\n",
       "      <td>43</td>\n",
       "      <td>2.0</td>\n",
       "      <td>125510.82</td>\n",
       "      <td>1</td>\n",
       "      <td>1</td>\n",
       "      <td>1</td>\n",
       "      <td>79084.10</td>\n",
       "      <td>0</td>\n",
       "    </tr>\n",
       "    <tr>\n",
       "      <th>...</th>\n",
       "      <td>...</td>\n",
       "      <td>...</td>\n",
       "      <td>...</td>\n",
       "      <td>...</td>\n",
       "      <td>...</td>\n",
       "      <td>...</td>\n",
       "      <td>...</td>\n",
       "      <td>...</td>\n",
       "      <td>...</td>\n",
       "      <td>...</td>\n",
       "      <td>...</td>\n",
       "      <td>...</td>\n",
       "      <td>...</td>\n",
       "      <td>...</td>\n",
       "    </tr>\n",
       "    <tr>\n",
       "      <th>9995</th>\n",
       "      <td>9996</td>\n",
       "      <td>15606229</td>\n",
       "      <td>Obijiaku</td>\n",
       "      <td>771</td>\n",
       "      <td>France</td>\n",
       "      <td>Male</td>\n",
       "      <td>39</td>\n",
       "      <td>5.0</td>\n",
       "      <td>0.00</td>\n",
       "      <td>2</td>\n",
       "      <td>1</td>\n",
       "      <td>0</td>\n",
       "      <td>96270.64</td>\n",
       "      <td>0</td>\n",
       "    </tr>\n",
       "    <tr>\n",
       "      <th>9996</th>\n",
       "      <td>9997</td>\n",
       "      <td>15569892</td>\n",
       "      <td>Johnstone</td>\n",
       "      <td>516</td>\n",
       "      <td>France</td>\n",
       "      <td>Male</td>\n",
       "      <td>35</td>\n",
       "      <td>10.0</td>\n",
       "      <td>57369.61</td>\n",
       "      <td>1</td>\n",
       "      <td>1</td>\n",
       "      <td>1</td>\n",
       "      <td>101699.77</td>\n",
       "      <td>0</td>\n",
       "    </tr>\n",
       "    <tr>\n",
       "      <th>9997</th>\n",
       "      <td>9998</td>\n",
       "      <td>15584532</td>\n",
       "      <td>Liu</td>\n",
       "      <td>709</td>\n",
       "      <td>France</td>\n",
       "      <td>Female</td>\n",
       "      <td>36</td>\n",
       "      <td>7.0</td>\n",
       "      <td>0.00</td>\n",
       "      <td>1</td>\n",
       "      <td>0</td>\n",
       "      <td>1</td>\n",
       "      <td>42085.58</td>\n",
       "      <td>1</td>\n",
       "    </tr>\n",
       "    <tr>\n",
       "      <th>9998</th>\n",
       "      <td>9999</td>\n",
       "      <td>15682355</td>\n",
       "      <td>Sabbatini</td>\n",
       "      <td>772</td>\n",
       "      <td>Germany</td>\n",
       "      <td>Male</td>\n",
       "      <td>42</td>\n",
       "      <td>3.0</td>\n",
       "      <td>75075.31</td>\n",
       "      <td>2</td>\n",
       "      <td>1</td>\n",
       "      <td>0</td>\n",
       "      <td>92888.52</td>\n",
       "      <td>1</td>\n",
       "    </tr>\n",
       "    <tr>\n",
       "      <th>9999</th>\n",
       "      <td>10000</td>\n",
       "      <td>15628319</td>\n",
       "      <td>Walker</td>\n",
       "      <td>792</td>\n",
       "      <td>France</td>\n",
       "      <td>Female</td>\n",
       "      <td>28</td>\n",
       "      <td>NaN</td>\n",
       "      <td>130142.79</td>\n",
       "      <td>1</td>\n",
       "      <td>1</td>\n",
       "      <td>0</td>\n",
       "      <td>38190.78</td>\n",
       "      <td>0</td>\n",
       "    </tr>\n",
       "  </tbody>\n",
       "</table>\n",
       "<p>10000 rows × 14 columns</p>\n",
       "</div>"
      ],
      "text/plain": [
       "      RowNumber  CustomerId    Surname  CreditScore Geography  Gender  Age  \\\n",
       "0             1    15634602   Hargrave          619    France  Female   42   \n",
       "1             2    15647311       Hill          608     Spain  Female   41   \n",
       "2             3    15619304       Onio          502    France  Female   42   \n",
       "3             4    15701354       Boni          699    France  Female   39   \n",
       "4             5    15737888   Mitchell          850     Spain  Female   43   \n",
       "...         ...         ...        ...          ...       ...     ...  ...   \n",
       "9995       9996    15606229   Obijiaku          771    France    Male   39   \n",
       "9996       9997    15569892  Johnstone          516    France    Male   35   \n",
       "9997       9998    15584532        Liu          709    France  Female   36   \n",
       "9998       9999    15682355  Sabbatini          772   Germany    Male   42   \n",
       "9999      10000    15628319     Walker          792    France  Female   28   \n",
       "\n",
       "      Tenure    Balance  NumOfProducts  HasCrCard  IsActiveMember  \\\n",
       "0        2.0       0.00              1          1               1   \n",
       "1        1.0   83807.86              1          0               1   \n",
       "2        8.0  159660.80              3          1               0   \n",
       "3        1.0       0.00              2          0               0   \n",
       "4        2.0  125510.82              1          1               1   \n",
       "...      ...        ...            ...        ...             ...   \n",
       "9995     5.0       0.00              2          1               0   \n",
       "9996    10.0   57369.61              1          1               1   \n",
       "9997     7.0       0.00              1          0               1   \n",
       "9998     3.0   75075.31              2          1               0   \n",
       "9999     NaN  130142.79              1          1               0   \n",
       "\n",
       "      EstimatedSalary  Exited  \n",
       "0           101348.88       1  \n",
       "1           112542.58       0  \n",
       "2           113931.57       1  \n",
       "3            93826.63       0  \n",
       "4            79084.10       0  \n",
       "...               ...     ...  \n",
       "9995         96270.64       0  \n",
       "9996        101699.77       0  \n",
       "9997         42085.58       1  \n",
       "9998         92888.52       1  \n",
       "9999         38190.78       0  \n",
       "\n",
       "[10000 rows x 14 columns]"
      ]
     },
     "execution_count": 4,
     "metadata": {},
     "output_type": "execute_result"
    }
   ],
   "source": [
    "df = pd.read_csv('../datasets/Churn.csv')\n",
    "df.info()\n",
    "df"
   ]
  },
  {
   "cell_type": "markdown",
   "metadata": {},
   "source": [
    "Столбец `RowNumber` удалим, он не несёт информации.\n",
    "\n",
    "В столбце `Tenure` около 10% пропусков. Посмотрим на распределения значений `Tenure`, чтобы определить, чем заполнить пропуски"
   ]
  },
  {
   "cell_type": "code",
   "execution_count": 5,
   "metadata": {},
   "outputs": [
    {
     "data": {
      "text/plain": [
       "count    9091.000000\n",
       "mean        4.997690\n",
       "std         2.894723\n",
       "min         0.000000\n",
       "25%         2.000000\n",
       "50%         5.000000\n",
       "75%         7.000000\n",
       "max        10.000000\n",
       "Name: Tenure, dtype: float64"
      ]
     },
     "execution_count": 5,
     "metadata": {},
     "output_type": "execute_result"
    },
    {
     "data": {
      "image/png": "[encoded data removed]",
      "text/plain": [
       "<Figure size 720x288 with 1 Axes>"
      ]
     },
     "metadata": {
      "needs_background": "light"
     },
     "output_type": "display_data"
    }
   ],
   "source": [
    "df.drop(columns=['RowNumber'], inplace=True)\n",
    "\n",
    "plt.figure(figsize=(10,4))\n",
    "sns.histplot(df, x='Tenure', hue='Gender', stat=\"density\", element=\"step\");\n",
    "plt.title('Histogramm of Tenure values');\n",
    "\n",
    "df['Tenure'].describe()"
   ]
  },
  {
   "cell_type": "markdown",
   "metadata": {},
   "source": [
    "Средние и медианные значения совпадают. По гистограмме видим, что значения распределены равномерно. Поэтому заполним пропуски числами, выбранными случайно из заполненных значений столбца Tenure."
   ]
  },
  {
   "cell_type": "code",
   "execution_count": 6,
   "metadata": {},
   "outputs": [
    {
     "data": {
      "text/plain": [
       "count    10000.000000\n",
       "mean         4.975900\n",
       "std          2.893572\n",
       "min          0.000000\n",
       "25%          2.000000\n",
       "50%          5.000000\n",
       "75%          7.000000\n",
       "max         10.000000\n",
       "Name: Tenure, dtype: float64"
      ]
     },
     "execution_count": 6,
     "metadata": {},
     "output_type": "execute_result"
    }
   ],
   "source": [
    "df.loc[df['Tenure'].isna(), 'Tenure'] = pd.Series(\n",
    "    index = df[df['Tenure'].isna()].index,\n",
    "    data = df['Tenure'].dropna().sample(df['Tenure'].isna().sum()).values\n",
    ")\n",
    "df['Tenure'].describe()"
   ]
  },
  {
   "cell_type": "markdown",
   "metadata": {},
   "source": [
    "Судя по значениям статистик распределение практически не поменялось\n",
    "\n",
    "Отделим метки от признаков, при этом оставим только \"обезличенные\" признаки\n",
    "Преобразуем категориальные признаки в численные. \n",
    "\n",
    "Признаки запишем в переменную `X`, метки - `y`"
   ]
  },
  {
   "cell_type": "code",
   "execution_count": 7,
   "metadata": {},
   "outputs": [
    {
     "data": {
      "text/html": [
       "<div>\n",
       "<style scoped>\n",
       "    .dataframe tbody tr th:only-of-type {\n",
       "        vertical-align: middle;\n",
       "    }\n",
       "\n",
       "    .dataframe tbody tr th {\n",
       "        vertical-align: top;\n",
       "    }\n",
       "\n",
       "    .dataframe thead th {\n",
       "        text-align: right;\n",
       "    }\n",
       "</style>\n",
       "<table border=\"1\" class=\"dataframe\">\n",
       "  <thead>\n",
       "    <tr style=\"text-align: right;\">\n",
       "      <th></th>\n",
       "      <th>CreditScore</th>\n",
       "      <th>Gender</th>\n",
       "      <th>Age</th>\n",
       "      <th>Tenure</th>\n",
       "      <th>Balance</th>\n",
       "      <th>NumOfProducts</th>\n",
       "      <th>HasCrCard</th>\n",
       "      <th>IsActiveMember</th>\n",
       "      <th>EstimatedSalary</th>\n",
       "      <th>Geography_Germany</th>\n",
       "      <th>Geography_Spain</th>\n",
       "    </tr>\n",
       "  </thead>\n",
       "  <tbody>\n",
       "    <tr>\n",
       "      <th>7880</th>\n",
       "      <td>744</td>\n",
       "      <td>0</td>\n",
       "      <td>38</td>\n",
       "      <td>9.0</td>\n",
       "      <td>0.00</td>\n",
       "      <td>2</td>\n",
       "      <td>0</td>\n",
       "      <td>0</td>\n",
       "      <td>20940.76</td>\n",
       "      <td>0</td>\n",
       "      <td>0</td>\n",
       "    </tr>\n",
       "    <tr>\n",
       "      <th>7979</th>\n",
       "      <td>555</td>\n",
       "      <td>0</td>\n",
       "      <td>26</td>\n",
       "      <td>7.0</td>\n",
       "      <td>0.00</td>\n",
       "      <td>2</td>\n",
       "      <td>1</td>\n",
       "      <td>0</td>\n",
       "      <td>93122.41</td>\n",
       "      <td>0</td>\n",
       "      <td>0</td>\n",
       "    </tr>\n",
       "    <tr>\n",
       "      <th>9264</th>\n",
       "      <td>414</td>\n",
       "      <td>1</td>\n",
       "      <td>60</td>\n",
       "      <td>3.0</td>\n",
       "      <td>0.00</td>\n",
       "      <td>2</td>\n",
       "      <td>1</td>\n",
       "      <td>1</td>\n",
       "      <td>93844.82</td>\n",
       "      <td>0</td>\n",
       "      <td>1</td>\n",
       "    </tr>\n",
       "    <tr>\n",
       "      <th>4380</th>\n",
       "      <td>438</td>\n",
       "      <td>1</td>\n",
       "      <td>59</td>\n",
       "      <td>7.0</td>\n",
       "      <td>127197.14</td>\n",
       "      <td>1</td>\n",
       "      <td>1</td>\n",
       "      <td>0</td>\n",
       "      <td>51565.98</td>\n",
       "      <td>1</td>\n",
       "      <td>0</td>\n",
       "    </tr>\n",
       "    <tr>\n",
       "      <th>4799</th>\n",
       "      <td>551</td>\n",
       "      <td>1</td>\n",
       "      <td>52</td>\n",
       "      <td>1.0</td>\n",
       "      <td>0.00</td>\n",
       "      <td>1</td>\n",
       "      <td>0</td>\n",
       "      <td>0</td>\n",
       "      <td>63584.55</td>\n",
       "      <td>0</td>\n",
       "      <td>0</td>\n",
       "    </tr>\n",
       "  </tbody>\n",
       "</table>\n",
       "</div>"
      ],
      "text/plain": [
       "      CreditScore  Gender  Age  Tenure    Balance  NumOfProducts  HasCrCard  \\\n",
       "7880          744       0   38     9.0       0.00              2          0   \n",
       "7979          555       0   26     7.0       0.00              2          1   \n",
       "9264          414       1   60     3.0       0.00              2          1   \n",
       "4380          438       1   59     7.0  127197.14              1          1   \n",
       "4799          551       1   52     1.0       0.00              1          0   \n",
       "\n",
       "      IsActiveMember  EstimatedSalary  Geography_Germany  Geography_Spain  \n",
       "7880               0         20940.76                  0                0  \n",
       "7979               0         93122.41                  0                0  \n",
       "9264               1         93844.82                  0                1  \n",
       "4380               0         51565.98                  1                0  \n",
       "4799               0         63584.55                  0                0  "
      ]
     },
     "execution_count": 7,
     "metadata": {},
     "output_type": "execute_result"
    }
   ],
   "source": [
    "X = df.drop(['CustomerId','Surname','Exited'], axis=1)\n",
    "y = df['Exited']\n",
    "\n",
    "X['Gender'] = (X['Gender'] == 'Male').astype('int')\n",
    "X = pd.get_dummies(X, drop_first=True)\n",
    "X.sample(5)"
   ]
  },
  {
   "cell_type": "markdown",
   "metadata": {},
   "source": [
    "Разделим данные на обучающую и валидационную и тестовую выборки\n",
    "\n",
    "Произведём масштабирование до единичной дисперсии (стандартизируем)"
   ]
  },
  {
   "cell_type": "code",
   "execution_count": 8,
   "metadata": {},
   "outputs": [
    {
     "name": "stdout",
     "output_type": "stream",
     "text": [
      "Размер выборок до разделения: Признаки - (10000, 11), Метки - (10000,)\n",
      "Тренировочная: Признаки - (6000, 11), Метки - (6000,)\n",
      "Валидационная: Признаки - (2000, 11), Метки - (2000,)\n",
      "Тестовая: Признаки - (2000, 11), Метки - (2000,)\n"
     ]
    },
    {
     "data": {
      "text/html": [
       "<div>\n",
       "<style scoped>\n",
       "    .dataframe tbody tr th:only-of-type {\n",
       "        vertical-align: middle;\n",
       "    }\n",
       "\n",
       "    .dataframe tbody tr th {\n",
       "        vertical-align: top;\n",
       "    }\n",
       "\n",
       "    .dataframe thead th {\n",
       "        text-align: right;\n",
       "    }\n",
       "</style>\n",
       "<table border=\"1\" class=\"dataframe\">\n",
       "  <thead>\n",
       "    <tr style=\"text-align: right;\">\n",
       "      <th></th>\n",
       "      <th>CreditScore</th>\n",
       "      <th>Gender</th>\n",
       "      <th>Age</th>\n",
       "      <th>Tenure</th>\n",
       "      <th>Balance</th>\n",
       "      <th>NumOfProducts</th>\n",
       "      <th>HasCrCard</th>\n",
       "      <th>IsActiveMember</th>\n",
       "      <th>EstimatedSalary</th>\n",
       "      <th>Geography_Germany</th>\n",
       "      <th>Geography_Spain</th>\n",
       "    </tr>\n",
       "  </thead>\n",
       "  <tbody>\n",
       "    <tr>\n",
       "      <th>790</th>\n",
       "      <td>0.477130</td>\n",
       "      <td>0.900582</td>\n",
       "      <td>-0.280962</td>\n",
       "      <td>1.750253</td>\n",
       "      <td>0.100709</td>\n",
       "      <td>0.781092</td>\n",
       "      <td>0.641171</td>\n",
       "      <td>0.973680</td>\n",
       "      <td>-0.108275</td>\n",
       "      <td>-0.579403</td>\n",
       "      <td>-0.584535</td>\n",
       "    </tr>\n",
       "    <tr>\n",
       "      <th>8967</th>\n",
       "      <td>1.890150</td>\n",
       "      <td>0.900582</td>\n",
       "      <td>-1.320629</td>\n",
       "      <td>0.709743</td>\n",
       "      <td>-1.213083</td>\n",
       "      <td>0.781092</td>\n",
       "      <td>0.641171</td>\n",
       "      <td>0.973680</td>\n",
       "      <td>-0.278540</td>\n",
       "      <td>-0.579403</td>\n",
       "      <td>-0.584535</td>\n",
       "    </tr>\n",
       "    <tr>\n",
       "      <th>8693</th>\n",
       "      <td>-0.317049</td>\n",
       "      <td>-1.110393</td>\n",
       "      <td>1.042251</td>\n",
       "      <td>0.016070</td>\n",
       "      <td>-1.213083</td>\n",
       "      <td>0.781092</td>\n",
       "      <td>0.641171</td>\n",
       "      <td>-1.027032</td>\n",
       "      <td>1.603259</td>\n",
       "      <td>-0.579403</td>\n",
       "      <td>-0.584535</td>\n",
       "    </tr>\n",
       "    <tr>\n",
       "      <th>395</th>\n",
       "      <td>-0.069513</td>\n",
       "      <td>-1.110393</td>\n",
       "      <td>-0.186447</td>\n",
       "      <td>-1.024440</td>\n",
       "      <td>0.973369</td>\n",
       "      <td>0.781092</td>\n",
       "      <td>-1.559646</td>\n",
       "      <td>0.973680</td>\n",
       "      <td>0.936830</td>\n",
       "      <td>1.725914</td>\n",
       "      <td>-0.584535</td>\n",
       "    </tr>\n",
       "    <tr>\n",
       "      <th>533</th>\n",
       "      <td>-1.121542</td>\n",
       "      <td>0.900582</td>\n",
       "      <td>-0.375477</td>\n",
       "      <td>1.750253</td>\n",
       "      <td>-0.264432</td>\n",
       "      <td>-0.920634</td>\n",
       "      <td>0.641171</td>\n",
       "      <td>-1.027032</td>\n",
       "      <td>-0.394535</td>\n",
       "      <td>-0.579403</td>\n",
       "      <td>1.710761</td>\n",
       "    </tr>\n",
       "  </tbody>\n",
       "</table>\n",
       "</div>"
      ],
      "text/plain": [
       "      CreditScore    Gender       Age    Tenure   Balance  NumOfProducts  \\\n",
       "790      0.477130  0.900582 -0.280962  1.750253  0.100709       0.781092   \n",
       "8967     1.890150  0.900582 -1.320629  0.709743 -1.213083       0.781092   \n",
       "8693    -0.317049 -1.110393  1.042251  0.016070 -1.213083       0.781092   \n",
       "395     -0.069513 -1.110393 -0.186447 -1.024440  0.973369       0.781092   \n",
       "533     -1.121542  0.900582 -0.375477  1.750253 -0.264432      -0.920634   \n",
       "\n",
       "      HasCrCard  IsActiveMember  EstimatedSalary  Geography_Germany  \\\n",
       "790    0.641171        0.973680        -0.108275          -0.579403   \n",
       "8967   0.641171        0.973680        -0.278540          -0.579403   \n",
       "8693   0.641171       -1.027032         1.603259          -0.579403   \n",
       "395   -1.559646        0.973680         0.936830           1.725914   \n",
       "533    0.641171       -1.027032        -0.394535          -0.579403   \n",
       "\n",
       "      Geography_Spain  \n",
       "790         -0.584535  \n",
       "8967        -0.584535  \n",
       "8693        -0.584535  \n",
       "395         -0.584535  \n",
       "533          1.710761  "
      ]
     },
     "execution_count": 8,
     "metadata": {},
     "output_type": "execute_result"
    }
   ],
   "source": [
    "def print_shape(X, y ,str_to_print):\n",
    "    print(str_to_print+'Признаки - {}, Метки - {}'.format(X.shape, y.shape))\n",
    "\n",
    "X_train, X_test, y_train, y_test = (\n",
    "    train_test_split(X, y, test_size=0.2, random_state=RANDOM_STATE) )\n",
    "\n",
    "X_train, X_val, y_train, y_val = train_test_split( # 0.25 x 0.8 = 0.2\n",
    "    X_train, y_train, test_size=0.25, random_state=RANDOM_STATE)\n",
    "\n",
    "print_shape(X, y, 'Размер выборок до разделения: ')\n",
    "print_shape(X_train, y_train, 'Тренировочная: ')\n",
    "print_shape(X_val, y_val, 'Валидационная: ')\n",
    "print_shape(X_test, y_test, 'Тестовая: ')\n",
    "\n",
    "std_scaler = StandardScaler()\n",
    "std_scaler.fit(X_train) \n",
    "\n",
    "X_train = pd.DataFrame(std_scaler.transform(X_train), \n",
    "                       columns=X_train.columns, index=X_train.index)\n",
    "X_val   = pd.DataFrame(std_scaler.transform(X_val), \n",
    "                       columns=X_val.columns, index=X_val.index)\n",
    "X_test  = pd.DataFrame(std_scaler.transform(X_test), \n",
    "                       columns=X_test.columns, index=X_test.index)\n",
    "\n",
    "#pd.DataFrame(X_train, columns=X.columns).sample(5)\n",
    "X_train.sample(5)"
   ]
  },
  {
   "cell_type": "markdown",
   "metadata": {},
   "source": [
    "## Исследование задачи\n",
    "\n",
    "### Логистическая регрессия\n",
    "\n",
    "Обучим модель логистической регресии без учёта дисбаланса, посмотрим на метрику F1\n",
    "\n",
    "Также постмотрим, как меняется точность, полнота, f1-мера и AUC ROC с изменением порога классификации"
   ]
  },
  {
   "cell_type": "code",
   "execution_count": 9,
   "metadata": {},
   "outputs": [
    {
     "name": "stdout",
     "output_type": "stream",
     "text": [
      "F1: 0.27472527472527475\n"
     ]
    },
    {
     "data": {
      "image/png": "[encoded data removed]",
      "text/plain": [
       "<Figure size 576x360 with 1 Axes>"
      ]
     },
     "metadata": {
      "needs_background": "light"
     },
     "output_type": "display_data"
    }
   ],
   "source": [
    "# обучим логистическую регрессию\n",
    "model = LogisticRegression(random_state=RANDOM_STATE, solver='liblinear')\n",
    "model.fit(X_train, y_train)\n",
    "y_pred = model.predict(X_val)\n",
    "print(\"F1:\", f1_score(y_val, y_pred))\n",
    "\n",
    "# сохраним вероятности пресдсказания положительного класса\n",
    "prob_exited_val = model.predict_proba(X_val)[:, 1]\n",
    "\n",
    "# таблица с метриками\n",
    "stat = pd.DataFrame(columns=['Порог','Точность','Полнота','F1'])\n",
    "\n",
    "# цикл по значениям порога\n",
    "for threshold in np.arange(0, 0.81, 0.05):\n",
    "    y_pred = list(map(float, prob_exited_val > threshold))\n",
    "\n",
    "    stat = stat.append({\n",
    "        'Порог'    : threshold, \n",
    "        'Точность' : precision_score(y_val, y_pred), \n",
    "        'Полнота'  : recall_score(y_val, y_pred), \n",
    "        'F1'       : f1_score(y_val, y_pred)}, \n",
    "    ignore_index=True)\n",
    "\n",
    "# график\n",
    "stat.plot(x='Порог', y=['Точность','Полнота','F1'], grid=True, figsize=(8,5),\n",
    "    ylabel = 'Значение метрики', \n",
    "    title  = 'Зависимость метрик от порога классификации для линейной регрессии');"
   ]
  },
  {
   "cell_type": "markdown",
   "metadata": {},
   "source": [
    "- Для нулевого порога полнота равна единице поскольку все ответы положительные, далее она падает с увеличением порога\n",
    "- Точность растёт вплоть до порога 0.6.\n",
    "- f1-мера максимальна при пороге примерно равном 0.25\n",
    "\n",
    "Построим ROC кривую"
   ]
  },
  {
   "cell_type": "code",
   "execution_count": 10,
   "metadata": {},
   "outputs": [
    {
     "data": {
      "image/png": "[encoded data removed]",
      "text/plain": [
       "<Figure size 576x360 with 1 Axes>"
      ]
     },
     "metadata": {
      "needs_background": "light"
     },
     "output_type": "display_data"
    }
   ],
   "source": [
    "roc_curve_plot(model, X_val, y_val)"
   ]
  },
  {
   "cell_type": "markdown",
   "metadata": {},
   "source": [
    "Логистическая регрессия с несбалансированными классами даёт очень плохие результаты, но смещение порога классификации позволяет достичь значения f1 примерно 0.5 "
   ]
  },
  {
   "cell_type": "markdown",
   "metadata": {},
   "source": [
    "### Решающее дерево\n",
    "\n",
    "Обучим деревья с разной глубиной"
   ]
  },
  {
   "cell_type": "code",
   "execution_count": 11,
   "metadata": {},
   "outputs": [
    {
     "name": "stdout",
     "output_type": "stream",
     "text": [
      "Максимальная F1-мера = 0.5677, глубина  5\n"
     ]
    },
    {
     "data": {
      "image/png": "[encoded data removed]",
      "text/plain": [
       "<Figure size 576x360 with 1 Axes>"
      ]
     },
     "metadata": {
      "needs_background": "light"
     },
     "output_type": "display_data"
    }
   ],
   "source": [
    "dt_model = f1_test_decision_tree(X_train, y_train, X_val, y_val, max_depth=20)"
   ]
  },
  {
   "cell_type": "markdown",
   "metadata": {},
   "source": [
    "Решающее дерево даёт значительно лучший результат."
   ]
  },
  {
   "cell_type": "code",
   "execution_count": 12,
   "metadata": {},
   "outputs": [
    {
     "name": "stdout",
     "output_type": "stream",
     "text": [
      "F1: 0.5677233429394812\n"
     ]
    },
    {
     "data": {
      "image/png": "[encoded data removed]",
      "text/plain": [
       "<Figure size 576x360 with 1 Axes>"
      ]
     },
     "metadata": {
      "needs_background": "light"
     },
     "output_type": "display_data"
    }
   ],
   "source": [
    "dt_model.fit(X_train, y_train)\n",
    "print(\"F1:\", f1_score(y_val, dt_model.predict(X_val)))\n",
    "roc_curve_plot(dt_model, X_val, y_val)"
   ]
  },
  {
   "cell_type": "markdown",
   "metadata": {},
   "source": [
    "Площадь под ROC кривой также немного больше"
   ]
  },
  {
   "cell_type": "markdown",
   "metadata": {},
   "source": [
    "### Случайный лес\n",
    "\n",
    "Обучим модель случайного леса, посмотрим, как меняется f1-мера с ростом глубины деревьем,\n",
    "проделаем это с небольшими значениями количества деревьев "
   ]
  },
  {
   "cell_type": "code",
   "execution_count": 13,
   "metadata": {
    "scrolled": false
   },
   "outputs": [
    {
     "data": {
      "application/vnd.jupyter.widget-view+json": {
       "model_id": "5db6a0e75d234a248fec5c7fb42ac0f1",
       "version_major": 2,
       "version_minor": 0
      },
      "text/plain": [
       "Общий прогресс:   0%|          | 0/5 [00:00<?, ?it/s]"
      ]
     },
     "metadata": {},
     "output_type": "display_data"
    },
    {
     "name": "stdout",
     "output_type": "stream",
     "text": [
      "Максимальная F1-мера: n_estimators =  10, max_depth = 14 : 0.5656\n",
      "Максимальная F1-мера: n_estimators =  20, max_depth = 15 : 0.5727\n",
      "Максимальная F1-мера: n_estimators =  30, max_depth = 14 : 0.5791\n",
      "Максимальная F1-мера: n_estimators =  40, max_depth = 14 : 0.5783\n",
      "Максимальная F1-мера: n_estimators =  50, max_depth = 15 : 0.5701\n"
     ]
    },
    {
     "data": {
      "image/png": "[encoded data removed]",
      "text/plain": [
       "<Figure size 576x360 with 1 Axes>"
      ]
     },
     "metadata": {
      "needs_background": "light"
     },
     "output_type": "display_data"
    }
   ],
   "source": [
    "n_est_list = [10, 20, 30, 40, 50]\n",
    "prev_score = 0\n",
    "for n_est in tqdm(n_est_list, desc='Общий прогресс'):\n",
    "    model, score = f1_test_random_forest_depth(X_train, y_train, X_val, y_val, \n",
    "                            depths=range(1,31), n_estimators=n_est)\n",
    "    if score > prev_score: \n",
    "        rf_model1 = model\n",
    "        \n",
    "plt.legend(n_est_list, title='n_estimators');"
   ]
  },
  {
   "cell_type": "markdown",
   "metadata": {},
   "source": [
    "Максимальное значение f1-меры получили для глубин меннее 20. Очевидно, что максимальное значение меры сохранится не для любого количества деревьев при той же глубине. Заметим, что нет смысла рассматривать глубину больше 26 - мера дальше уже не меняется, модель достигает предел количества ветвлений дерева. Аналогично обучим модели случайного леса и поссчитаем f1-меру в зависимости от количества деревьев для некоторых значений глубины"
   ]
  },
  {
   "cell_type": "code",
   "execution_count": 14,
   "metadata": {},
   "outputs": [
    {
     "data": {
      "application/vnd.jupyter.widget-view+json": {
       "model_id": "4dc755c092f04d36ab7405228a7b7741",
       "version_major": 2,
       "version_minor": 0
      },
      "text/plain": [
       "Общий прогресс:   0%|          | 0/4 [00:00<?, ?it/s]"
      ]
     },
     "metadata": {},
     "output_type": "display_data"
    },
    {
     "data": {
      "application/vnd.jupyter.widget-view+json": {
       "model_id": "4735a8242e7048439107926eaeaba9b4",
       "version_major": 2,
       "version_minor": 0
      },
      "text/plain": [
       "max_depth = 14:   0%|          | 0/15 [00:00<?, ?it/s]"
      ]
     },
     "metadata": {},
     "output_type": "display_data"
    },
    {
     "name": "stdout",
     "output_type": "stream",
     "text": [
      "Максимальная F1-мера: n_estimators =  80, max_depth = 14 : 0.5845\n"
     ]
    },
    {
     "data": {
      "application/vnd.jupyter.widget-view+json": {
       "model_id": "72a7b58c3de14cd397e547babf288c6c",
       "version_major": 2,
       "version_minor": 0
      },
      "text/plain": [
       "max_depth = 16:   0%|          | 0/15 [00:00<?, ?it/s]"
      ]
     },
     "metadata": {},
     "output_type": "display_data"
    },
    {
     "name": "stdout",
     "output_type": "stream",
     "text": [
      "Максимальная F1-мера: n_estimators =  40, max_depth = 16 : 0.5745\n"
     ]
    },
    {
     "data": {
      "application/vnd.jupyter.widget-view+json": {
       "model_id": "43435186149641668eff473a0d000ef3",
       "version_major": 2,
       "version_minor": 0
      },
      "text/plain": [
       "max_depth = 18:   0%|          | 0/15 [00:00<?, ?it/s]"
      ]
     },
     "metadata": {},
     "output_type": "display_data"
    },
    {
     "name": "stdout",
     "output_type": "stream",
     "text": [
      "Максимальная F1-мера: n_estimators = 160, max_depth = 18 : 0.5653\n"
     ]
    },
    {
     "data": {
      "application/vnd.jupyter.widget-view+json": {
       "model_id": "21e2a898767c42dd83d45bb8ed0ca077",
       "version_major": 2,
       "version_minor": 0
      },
      "text/plain": [
       "max_depth = 20:   0%|          | 0/15 [00:00<?, ?it/s]"
      ]
     },
     "metadata": {},
     "output_type": "display_data"
    },
    {
     "name": "stdout",
     "output_type": "stream",
     "text": [
      "Максимальная F1-мера: n_estimators =  60, max_depth = 20 : 0.5670\n"
     ]
    },
    {
     "data": {
      "image/png": "[encoded data removed]",
      "text/plain": [
       "<Figure size 576x360 with 1 Axes>"
      ]
     },
     "metadata": {
      "needs_background": "light"
     },
     "output_type": "display_data"
    }
   ],
   "source": [
    "depth_list = [14, 16, 18, 20]\n",
    "prev_score > 0\n",
    "for dep in tqdm(depth_list, desc='Общий прогресс'):\n",
    "    model, score = f1_test_random_forest_n_estimators(X_train, y_train, X_val, y_val, \n",
    "                                        max_depth=dep, n_estimators=range(20,301,20))\n",
    "    if score > prev_score: \n",
    "        rf_model2 = model\n",
    "\n",
    "plt.legend(depth_list, title='max_depth');"
   ]
  },
  {
   "cell_type": "markdown",
   "metadata": {},
   "source": [
    "Для разных моделей f1 мера ведёт себя по-разному. Но особого увеличения метрики изменение гиперпараметров не дало.\n",
    "\n",
    "Выведем ROC кривые для двух моделей леса с наивысшими f1 мерами."
   ]
  },
  {
   "cell_type": "code",
   "execution_count": 15,
   "metadata": {},
   "outputs": [
    {
     "name": "stdout",
     "output_type": "stream",
     "text": [
      "RandomForestClassifier(max_depth=15, n_estimators=50, random_state=123)\n",
      "F1: 0.5701357466063348\n"
     ]
    },
    {
     "data": {
      "image/png": "[encoded data removed]",
      "text/plain": [
       "<Figure size 576x360 with 1 Axes>"
      ]
     },
     "metadata": {
      "needs_background": "light"
     },
     "output_type": "display_data"
    },
    {
     "name": "stdout",
     "output_type": "stream",
     "text": [
      "RandomForestClassifier(max_depth=20, n_estimators=60, random_state=123)\n",
      "F1: 0.5670261941448382\n"
     ]
    },
    {
     "data": {
      "image/png": "[encoded data removed]",
      "text/plain": [
       "<Figure size 576x360 with 1 Axes>"
      ]
     },
     "metadata": {
      "needs_background": "light"
     },
     "output_type": "display_data"
    }
   ],
   "source": [
    "for model in [rf_model1, rf_model2]:\n",
    "    print(model)\n",
    "    model.fit(X_train, y_train)\n",
    "    print(\"F1:\", f1_score(y_val, model.predict(X_val)))\n",
    "    roc_curve_plot(model, X_val, y_val)"
   ]
  },
  {
   "cell_type": "markdown",
   "metadata": {},
   "source": [
    "Значения AUC ROC отличаются не сильно. При этом данная метрика выше у модели с меньшей f1 мерой."
   ]
  },
  {
   "cell_type": "markdown",
   "metadata": {},
   "source": [
    "## Борьба с дисбалансом\n",
    "\n",
    "Посмотрим на баланс классов"
   ]
  },
  {
   "cell_type": "code",
   "execution_count": 16,
   "metadata": {},
   "outputs": [
    {
     "name": "stdout",
     "output_type": "stream",
     "text": [
      "Доли значений:\n"
     ]
    },
    {
     "data": {
      "text/plain": [
       "0    0.7963\n",
       "1    0.2037\n",
       "Name: Exited, dtype: float64"
      ]
     },
     "execution_count": 16,
     "metadata": {},
     "output_type": "execute_result"
    },
    {
     "data": {
      "image/png": "[encoded data removed]",
      "text/plain": [
       "<Figure size 576x144 with 1 Axes>"
      ]
     },
     "metadata": {
      "needs_background": "light"
     },
     "output_type": "display_data"
    }
   ],
   "source": [
    "plt.figure(figsize=(8,2))\n",
    "sns.countplot(data = df, y='Exited')\n",
    "plt.title('Counts of \"Exited\" values')\n",
    "plt.xlabel('Value counts')\n",
    "plt.ylabel('Exited')\n",
    "\n",
    "print('Доли значений:')\n",
    "df['Exited'].value_counts() / len(df)"
   ]
  },
  {
   "cell_type": "markdown",
   "metadata": {},
   "source": [
    "Объектов, принадлежащих к положительному классу в 4 раза меньше.\n",
    "\n",
    "### Взвешивание классов\n",
    "\n",
    "Обучим модели со сбалансированными классами\n",
    "\n",
    "#### Логистическая регрессия"
   ]
  },
  {
   "cell_type": "code",
   "execution_count": 17,
   "metadata": {},
   "outputs": [
    {
     "name": "stdout",
     "output_type": "stream",
     "text": [
      "F1: 0.49744463373083475\n"
     ]
    },
    {
     "data": {
      "image/png": "[encoded data removed]",
      "text/plain": [
       "<Figure size 576x360 with 1 Axes>"
      ]
     },
     "metadata": {
      "needs_background": "light"
     },
     "output_type": "display_data"
    }
   ],
   "source": [
    "model = LogisticRegression(random_state=RANDOM_STATE, solver='liblinear', class_weight='balanced')\n",
    "model.fit(X_train, y_train)\n",
    "y_pred = model.predict(X_val)\n",
    "print(\"F1:\", f1_score(y_val, y_pred))\n",
    "roc_curve_plot(model, X_val, y_val)"
   ]
  },
  {
   "cell_type": "markdown",
   "metadata": {},
   "source": [
    "Эффект от взвешивания классов для регрессии примерно такой же как от смещения порога "
   ]
  },
  {
   "cell_type": "markdown",
   "metadata": {},
   "source": [
    "#### Решающие деревья\n",
    "\n",
    "Для деревьев выведем зависимость f1 от глубины одновремменно для случая сбалансированных и несбалансированных весов "
   ]
  },
  {
   "cell_type": "code",
   "execution_count": 18,
   "metadata": {},
   "outputs": [
    {
     "name": "stdout",
     "output_type": "stream",
     "text": [
      "Без балансировки\n",
      "Максимальная F1-мера = 0.5677, глубина  5\n",
      "С балансировкой\n",
      "Максимальная F1-мера = 0.5557, глубина  7\n"
     ]
    },
    {
     "data": {
      "image/png": "[encoded data removed]",
      "text/plain": [
       "<Figure size 576x360 with 1 Axes>"
      ]
     },
     "metadata": {
      "needs_background": "light"
     },
     "output_type": "display_data"
    }
   ],
   "source": [
    "print('Без балансировки')\n",
    "f1_test_decision_tree(X_train, y_train, X_val, y_val, max_depth=20)\n",
    "print('С балансировкой')\n",
    "dt_model = f1_test_decision_tree(X_train, y_train, X_val, y_val, max_depth=20, class_weight='balanced')\n",
    "plt.legend([\"class_weight=None\",\"class_weight='balanced'\"]);"
   ]
  },
  {
   "cell_type": "markdown",
   "metadata": {},
   "source": [
    "В целом деревья с балансировкой предсказывают лучше, хотя макимальная мера и получилась для деревьев без балансировки классов, но это исключение, видно по графику\n",
    "\n",
    "Посмотрим на AUC ROC для лучшей модели среди деревьев "
   ]
  },
  {
   "cell_type": "code",
   "execution_count": 19,
   "metadata": {},
   "outputs": [
    {
     "name": "stdout",
     "output_type": "stream",
     "text": [
      "F1: 0.5556612749762131\n"
     ]
    },
    {
     "data": {
      "image/png": "[encoded data removed]",
      "text/plain": [
       "<Figure size 576x360 with 1 Axes>"
      ]
     },
     "metadata": {
      "needs_background": "light"
     },
     "output_type": "display_data"
    }
   ],
   "source": [
    "dt_model.fit(X_train, y_train)\n",
    "y_pred = dt_model.predict(X_val)\n",
    "print(\"F1:\", f1_score(y_val, y_pred))\n",
    "roc_curve_plot(dt_model, X_val, y_val)"
   ]
  },
  {
   "cell_type": "markdown",
   "metadata": {},
   "source": [
    "Для решающего дерева взвешивание классов незначительно увеличило f1 меру и AUC ROC."
   ]
  },
  {
   "cell_type": "markdown",
   "metadata": {},
   "source": [
    "#### Случайный лес\n",
    "\n",
    "Как и делали раньше обучим лес с разными значениями глубины и и количества деревьев"
   ]
  },
  {
   "cell_type": "code",
   "execution_count": 20,
   "metadata": {},
   "outputs": [
    {
     "data": {
      "application/vnd.jupyter.widget-view+json": {
       "model_id": "4d4f32eeef164ee8b25d192ce64edbe6",
       "version_major": 2,
       "version_minor": 0
      },
      "text/plain": [
       "Общий прогресс:   0%|          | 0/5 [00:00<?, ?it/s]"
      ]
     },
     "metadata": {},
     "output_type": "display_data"
    },
    {
     "name": "stdout",
     "output_type": "stream",
     "text": [
      "Максимальная F1-мера: n_estimators =  10, max_depth =  9 : 0.5907\n",
      "Максимальная F1-мера: n_estimators =  20, max_depth =  9 : 0.5964\n",
      "Максимальная F1-мера: n_estimators =  30, max_depth = 12 : 0.6092\n",
      "Максимальная F1-мера: n_estimators =  40, max_depth = 12 : 0.6093\n",
      "Максимальная F1-мера: n_estimators =  50, max_depth = 12 : 0.6102\n"
     ]
    },
    {
     "data": {
      "image/png": "[encoded data removed]",
      "text/plain": [
       "<Figure size 576x360 with 1 Axes>"
      ]
     },
     "metadata": {
      "needs_background": "light"
     },
     "output_type": "display_data"
    }
   ],
   "source": [
    "n_est_list = [10, 20, 30, 40, 50]\n",
    "prev_score = 0\n",
    "for n_est in tqdm(n_est_list, desc='Общий прогресс'):\n",
    "    model, score = f1_test_random_forest_depth(\n",
    "                        X_train, y_train, X_val, y_val, depths=range(1,31), \n",
    "                        n_estimators=n_est, class_weight='balanced')\n",
    "    if score > prev_score: \n",
    "        rf_model1 = model\n",
    "        \n",
    "plt.legend(n_est_list,title='n_estimators');"
   ]
  },
  {
   "cell_type": "markdown",
   "metadata": {},
   "source": [
    "При взвешивании классов лес предсказывает лучше, при этом и на ощутимо меньшей глубине. Однако на большой глубине деревья переобучаются"
   ]
  },
  {
   "cell_type": "code",
   "execution_count": 21,
   "metadata": {},
   "outputs": [
    {
     "data": {
      "application/vnd.jupyter.widget-view+json": {
       "model_id": "b84eb0959de94296a813783e5705993a",
       "version_major": 2,
       "version_minor": 0
      },
      "text/plain": [
       "Общий прогресс:   0%|          | 0/5 [00:00<?, ?it/s]"
      ]
     },
     "metadata": {},
     "output_type": "display_data"
    },
    {
     "data": {
      "application/vnd.jupyter.widget-view+json": {
       "model_id": "a19f86333a8b4a3ea174849ab0e0fb85",
       "version_major": 2,
       "version_minor": 0
      },
      "text/plain": [
       "max_depth = 8:   0%|          | 0/15 [00:00<?, ?it/s]"
      ]
     },
     "metadata": {},
     "output_type": "display_data"
    },
    {
     "name": "stdout",
     "output_type": "stream",
     "text": [
      "Максимальная F1-мера: n_estimators = 240, max_depth =  8 : 0.6058\n"
     ]
    },
    {
     "data": {
      "application/vnd.jupyter.widget-view+json": {
       "model_id": "f11e9cfa9f254d6f80ba33775f701c73",
       "version_major": 2,
       "version_minor": 0
      },
      "text/plain": [
       "max_depth = 9:   0%|          | 0/15 [00:00<?, ?it/s]"
      ]
     },
     "metadata": {},
     "output_type": "display_data"
    },
    {
     "name": "stdout",
     "output_type": "stream",
     "text": [
      "Максимальная F1-мера: n_estimators = 300, max_depth =  9 : 0.6071\n"
     ]
    },
    {
     "data": {
      "application/vnd.jupyter.widget-view+json": {
       "model_id": "b012ce4b5899493f81e590eb3e51e059",
       "version_major": 2,
       "version_minor": 0
      },
      "text/plain": [
       "max_depth = 10:   0%|          | 0/15 [00:00<?, ?it/s]"
      ]
     },
     "metadata": {},
     "output_type": "display_data"
    },
    {
     "name": "stdout",
     "output_type": "stream",
     "text": [
      "Максимальная F1-мера: n_estimators = 280, max_depth = 10 : 0.6127\n"
     ]
    },
    {
     "data": {
      "application/vnd.jupyter.widget-view+json": {
       "model_id": "a4a993894ee54e4dbe4a8edfb086d0c1",
       "version_major": 2,
       "version_minor": 0
      },
      "text/plain": [
       "max_depth = 11:   0%|          | 0/15 [00:00<?, ?it/s]"
      ]
     },
     "metadata": {},
     "output_type": "display_data"
    },
    {
     "name": "stdout",
     "output_type": "stream",
     "text": [
      "Максимальная F1-мера: n_estimators =  40, max_depth = 11 : 0.6015\n"
     ]
    },
    {
     "data": {
      "application/vnd.jupyter.widget-view+json": {
       "model_id": "6c82031c44d64cb8b34a99e7343b3192",
       "version_major": 2,
       "version_minor": 0
      },
      "text/plain": [
       "max_depth = 12:   0%|          | 0/15 [00:00<?, ?it/s]"
      ]
     },
     "metadata": {},
     "output_type": "display_data"
    },
    {
     "name": "stdout",
     "output_type": "stream",
     "text": [
      "Максимальная F1-мера: n_estimators =  40, max_depth = 12 : 0.6093\n"
     ]
    },
    {
     "data": {
      "image/png": "[encoded data removed]",
      "text/plain": [
       "<Figure size 576x360 with 1 Axes>"
      ]
     },
     "metadata": {
      "needs_background": "light"
     },
     "output_type": "display_data"
    }
   ],
   "source": [
    "depth_list = [8, 9, 10, 11, 12]\n",
    "prev_score = 0\n",
    "for dep in tqdm(depth_list, desc='Общий прогресс'):\n",
    "    model, score = f1_test_random_forest_n_estimators(\n",
    "                        X_train, y_train, X_val, y_val, max_depth=dep, \n",
    "                        n_estimators=range(20,301,20), class_weight='balanced')\n",
    "    if score > prev_score: \n",
    "        rf_model2 = model\n",
    "    \n",
    "plt.legend(depth_list, title='max_depth');"
   ]
  },
  {
   "cell_type": "markdown",
   "metadata": {},
   "source": [
    "С ростом количества деревьев мера увеличивается, но также значительно увеличивается время обучения\n",
    "\n",
    "Посмотрим на AUC ROC моделей леса с наилучшей метрикой f1"
   ]
  },
  {
   "cell_type": "code",
   "execution_count": 22,
   "metadata": {},
   "outputs": [
    {
     "name": "stdout",
     "output_type": "stream",
     "text": [
      "RandomForestClassifier(class_weight='balanced', max_depth=12, n_estimators=50,\n",
      "                       random_state=123)\n",
      "F1: 0.6102150537634408\n"
     ]
    },
    {
     "data": {
      "image/png": "[encoded data removed]",
      "text/plain": [
       "<Figure size 576x360 with 1 Axes>"
      ]
     },
     "metadata": {
      "needs_background": "light"
     },
     "output_type": "display_data"
    },
    {
     "name": "stdout",
     "output_type": "stream",
     "text": [
      "RandomForestClassifier(class_weight='balanced', max_depth=12, n_estimators=40,\n",
      "                       random_state=123)\n",
      "F1: 0.6092896174863388\n"
     ]
    },
    {
     "data": {
      "image/png": "[encoded data removed]",
      "text/plain": [
       "<Figure size 576x360 with 1 Axes>"
      ]
     },
     "metadata": {
      "needs_background": "light"
     },
     "output_type": "display_data"
    }
   ],
   "source": [
    "for model in [rf_model1, rf_model2]:\n",
    "    print(model)\n",
    "    model.fit(X_train, y_train)\n",
    "    print(\"F1:\", f1_score(y_val, model.predict(X_val)))\n",
    "    roc_curve_plot(model, X_val, y_val)"
   ]
  },
  {
   "cell_type": "markdown",
   "metadata": {},
   "source": [
    "### Upsampling и Downsampling\n",
    "\n",
    "- В `X_upsampled` `y_upsampled` запишем выборки с увеличенным в 4 раза количеством объектов положительного класса.\n",
    "- В `X_downsampled` `y_downsampled` - с уменьшенным в 4 раза количеством объектов отрицательного класса."
   ]
  },
  {
   "cell_type": "code",
   "execution_count": 23,
   "metadata": {},
   "outputs": [
    {
     "name": "stdout",
     "output_type": "stream",
     "text": [
      "Размеры классов тренировочной выбрки до сэмплинга:\n",
      "0    4797\n",
      "1    1203\n",
      "Name: Exited, dtype: int64 \n",
      "\n",
      "Увеличенная тренировочная выборка:\n",
      "Признаки - (9609, 11), Метки - (9609,)\n",
      "1    4812\n",
      "0    4797\n",
      "Name: Exited, dtype: int64 \n",
      "\n",
      "Уменьшенная тренировочная выборка:\n",
      "Признаки - (2406, 11), Метки - (2406,)\n",
      "0    1203\n",
      "1    1203\n",
      "Name: Exited, dtype: int64\n"
     ]
    }
   ],
   "source": [
    "# количества объектов каждого класса\n",
    "cnt = y_train.value_counts()\n",
    "print('Размеры классов тренировочной выбрки до сэмплинга:')\n",
    "print(cnt, '\\n')\n",
    "\n",
    "X_upsampled, y_upsampled = upsample(X_train, y_train, round(cnt[0]/cnt[1]))\n",
    "X_downsampled, y_downsampled = downsample(X_train, y_train, cnt[1]/cnt[0])\n",
    "\n",
    "# проверим получившиеся размеры выборок\n",
    "print_shape(X_upsampled, y_upsampled, 'Увеличенная тренировочная выборка:\\n')\n",
    "print(y_upsampled.value_counts(), '\\n')\n",
    "print_shape(X_downsampled, y_downsampled, 'Уменьшенная тренировочная выборка:\\n')\n",
    "print(y_downsampled.value_counts())"
   ]
  },
  {
   "cell_type": "code",
   "execution_count": 24,
   "metadata": {},
   "outputs": [
    {
     "name": "stdout",
     "output_type": "stream",
     "text": [
      "Upsampled F1: 0.49659863945578225\n"
     ]
    },
    {
     "data": {
      "image/png": "[encoded data removed]",
      "text/plain": [
       "<Figure size 576x360 with 1 Axes>"
      ]
     },
     "metadata": {
      "needs_background": "light"
     },
     "output_type": "display_data"
    },
    {
     "name": "stdout",
     "output_type": "stream",
     "text": [
      "Downsampled F1: 0.5012831479897348\n"
     ]
    },
    {
     "data": {
      "image/png": "[encoded data removed]",
      "text/plain": [
       "<Figure size 576x360 with 1 Axes>"
      ]
     },
     "metadata": {
      "needs_background": "light"
     },
     "output_type": "display_data"
    }
   ],
   "source": [
    "model = LogisticRegression(random_state=RANDOM_STATE, solver='liblinear')\n",
    "model.fit(X_upsampled, y_upsampled)\n",
    "print(\"Upsampled F1:\", f1_score(y_val, model.predict(X_val)))\n",
    "roc_curve_plot(model, X_val, y_val, title=\"ROC Curve (Upsampled)\")\n",
    "\n",
    "model.fit(X_downsampled, y_downsampled)\n",
    "print(\"Downsampled F1:\", f1_score(y_val, model.predict(X_val)))\n",
    "roc_curve_plot(model, X_val, y_val, title=\"ROC Curve (Downsampled)\")"
   ]
  },
  {
   "cell_type": "markdown",
   "metadata": {},
   "source": [
    "Сэмплирование для регрессии даёт примерно такие же результаты, как и взвешивание классов. Посмотрим, как оно влияет на обучение решающих деревьев "
   ]
  },
  {
   "cell_type": "code",
   "execution_count": 25,
   "metadata": {},
   "outputs": [
    {
     "name": "stdout",
     "output_type": "stream",
     "text": [
      "Upsampling\n",
      "Максимальная F1-мера = 0.5548, глубина  7\n",
      "Downsampling\n",
      "Максимальная F1-мера = 0.5524, глубина  5\n"
     ]
    },
    {
     "data": {
      "image/png": "[encoded data removed]",
      "text/plain": [
       "<Figure size 576x360 with 1 Axes>"
      ]
     },
     "metadata": {
      "needs_background": "light"
     },
     "output_type": "display_data"
    },
    {
     "name": "stdout",
     "output_type": "stream",
     "text": [
      "Upsampled F1: 0.5548141086749285\n"
     ]
    },
    {
     "data": {
      "image/png": "[encoded data removed]",
      "text/plain": [
       "<Figure size 576x360 with 1 Axes>"
      ]
     },
     "metadata": {
      "needs_background": "light"
     },
     "output_type": "display_data"
    },
    {
     "name": "stdout",
     "output_type": "stream",
     "text": [
      "Downsampled F1: 0.5524475524475525\n"
     ]
    },
    {
     "data": {
      "image/png": "[encoded data removed]",
      "text/plain": [
       "<Figure size 576x360 with 1 Axes>"
      ]
     },
     "metadata": {
      "needs_background": "light"
     },
     "output_type": "display_data"
    }
   ],
   "source": [
    "print('Upsampling')\n",
    "dt_upsampled = f1_test_decision_tree(X_upsampled, y_upsampled, \n",
    "                                     X_val, y_val, max_depth=20)\n",
    "print('Downsampling')\n",
    "dt_downsampled = f1_test_decision_tree(X_downsampled, y_downsampled, \n",
    "                                       X_val, y_val, max_depth=20)\n",
    "plt.legend(['Up','Down']);\n",
    "plt.show()\n",
    "\n",
    "dt_upsampled.fit(X_upsampled, y_upsampled)\n",
    "print(\"Upsampled F1:\", f1_score(y_val, dt_upsampled.predict(X_val)))\n",
    "roc_curve_plot(dt_upsampled, X_val, y_val, title=\"ROC Curve (Upsampled)\")\n",
    "\n",
    "dt_downsampled.fit(X_downsampled, y_downsampled)\n",
    "print(\"Downsampled F1:\", f1_score(y_val, dt_downsampled.predict(X_val)))\n",
    "roc_curve_plot(dt_downsampled, X_val, y_val, title=\"ROC Curve (Downsampled)\")"
   ]
  },
  {
   "cell_type": "markdown",
   "metadata": {},
   "source": [
    "В целом деревья, обученные на увеличенном наборе данных предсказывают лучше, чем на уменьшенном. Однако, эффект от сэмплинга примерно такой же, как от взвешивания классов."
   ]
  },
  {
   "cell_type": "markdown",
   "metadata": {},
   "source": [
    "## Тестирование модели\n",
    "\n",
    "Из проверенных нами моделей наилучшие результаты дали модели случайного леса с глубиной 10-12. Проверим их на тестовой выборке"
   ]
  },
  {
   "cell_type": "code",
   "execution_count": 27,
   "metadata": {},
   "outputs": [
    {
     "name": "stdout",
     "output_type": "stream",
     "text": [
      "RandomForestClassifier(class_weight='balanced', max_depth=12, n_estimators=50,\n",
      "                       random_state=123)\n",
      "F1-score validate: 0.6102\n",
      "             test: 0.6092\n",
      "Accuracy validate: 0.8550\n",
      "             test: 0.8550\n",
      "         fit time: 0.2410 s \n",
      "\n",
      "RandomForestClassifier(class_weight='balanced', max_depth=10, n_estimators=180,\n",
      "                       random_state=123)\n",
      "F1-score validate: 0.6100\n",
      "             test: 0.6248\n",
      "Accuracy validate: 0.8440\n",
      "             test: 0.8475\n",
      "         fit time: 0.7820 s \n",
      "\n",
      "RandomForestClassifier(class_weight='balanced', max_depth=10, n_estimators=280,\n",
      "                       random_state=123)\n",
      "F1-score validate: 0.6127\n",
      "             test: 0.6247\n",
      "Accuracy validate: 0.8445\n",
      "             test: 0.8480\n",
      "         fit time: 1.2250 s \n",
      "\n"
     ]
    }
   ],
   "source": [
    "rf1 = RandomForestClassifier(class_weight='balanced', max_depth=12, n_estimators=50, random_state=RANDOM_STATE)\n",
    "rf2 = RandomForestClassifier(class_weight='balanced', max_depth=10, n_estimators=180, random_state=RANDOM_STATE)\n",
    "rf3 = RandomForestClassifier(class_weight='balanced', max_depth=10, n_estimators=280, random_state=RANDOM_STATE)\n",
    "\n",
    "for m in [rf1, rf2, rf3]:\n",
    "    print(m)\n",
    "    start = time.time()\n",
    "    m.fit(X_train, y_train)\n",
    "    fit_time = time.time() - start\n",
    "    print('F1-score validate: {:.4f}'.format(f1_score(y_val, m.predict(X_val))))\n",
    "    print('             test: {:.4f}'.format(f1_score(y_test, m.predict(X_test))))\n",
    "    print('Accuracy validate: {:.4f}'.format(m.score(X_val, y_val)))\n",
    "    print('             test: {:.4f}'.format(m.score(X_test, y_test)))\n",
    "    print('         fit time: {:.4f} s \\n'.format(fit_time))"
   ]
  },
  {
   "cell_type": "markdown",
   "metadata": {},
   "source": [
    "Для выбранных моделей f1 мера отличается не сильно. Модель с меньшим количеством деревьев может быть предпочтительнее, так как даёт высокую метрику при меньшем времени работы алгоритма. По значениям точности нет признаков переобучения моделей.  "
   ]
  }
 ],
 "metadata": {
  "ExecuteTimeLog": [
   {
    "duration": 1479,
    "start_time": "2022-03-05T23:53:54.893Z"
   },
   {
    "duration": 13,
    "start_time": "2022-03-05T23:53:59.429Z"
   },
   {
    "duration": 10,
    "start_time": "2022-03-05T23:54:01.746Z"
   },
   {
    "duration": 1869,
    "start_time": "2022-03-05T23:54:03.096Z"
   },
   {
    "duration": 1534,
    "start_time": "2022-03-05T23:54:24.945Z"
   },
   {
    "duration": 75,
    "start_time": "2022-03-05T23:54:33.279Z"
   },
   {
    "duration": 266,
    "start_time": "2022-03-05T23:54:40.601Z"
   },
   {
    "duration": 4220,
    "start_time": "2022-03-05T23:55:07.249Z"
   },
   {
    "duration": 247,
    "start_time": "2022-03-05T23:55:22.564Z"
   },
   {
    "duration": 14186,
    "start_time": "2022-03-05T23:55:37.660Z"
   },
   {
    "duration": 255,
    "start_time": "2022-03-05T23:56:29.067Z"
   },
   {
    "duration": 16256,
    "start_time": "2022-03-05T23:56:39.721Z"
   },
   {
    "duration": 27560,
    "start_time": "2022-03-05T23:58:05.498Z"
   },
   {
    "duration": 6,
    "start_time": "2022-03-05T23:58:33.061Z"
   },
   {
    "duration": 13,
    "start_time": "2022-03-05T23:58:33.070Z"
   },
   {
    "duration": 11,
    "start_time": "2022-03-05T23:58:33.085Z"
   },
   {
    "duration": 79,
    "start_time": "2022-03-05T23:58:33.099Z"
   },
   {
    "duration": 231,
    "start_time": "2022-03-05T23:58:40.301Z"
   },
   {
    "duration": 251,
    "start_time": "2022-03-05T23:59:07.223Z"
   },
   {
    "duration": 18029,
    "start_time": "2022-03-05T23:59:46.331Z"
   },
   {
    "duration": 2575,
    "start_time": "2022-03-06T00:00:04.363Z"
   },
   {
    "duration": 16,
    "start_time": "2022-03-06T00:00:06.941Z"
   },
   {
    "duration": 21,
    "start_time": "2022-03-06T00:00:06.959Z"
   },
   {
    "duration": 84,
    "start_time": "2022-03-06T00:00:06.982Z"
   },
   {
    "duration": 554,
    "start_time": "2022-03-06T00:00:07.069Z"
   },
   {
    "duration": 16,
    "start_time": "2022-03-06T00:07:13.380Z"
   },
   {
    "duration": 28,
    "start_time": "2022-03-06T00:07:25.846Z"
   },
   {
    "duration": 42,
    "start_time": "2022-03-06T00:07:32.188Z"
   },
   {
    "duration": 1286,
    "start_time": "2022-03-06T00:08:08.304Z"
   },
   {
    "duration": 329,
    "start_time": "2022-03-06T00:08:37.413Z"
   },
   {
    "duration": 861,
    "start_time": "2022-03-06T00:08:43.462Z"
   },
   {
    "duration": 317,
    "start_time": "2022-03-06T00:08:50.099Z"
   },
   {
    "duration": 223,
    "start_time": "2022-03-06T00:08:59.577Z"
   },
   {
    "duration": 511,
    "start_time": "2022-03-06T00:09:07.650Z"
   },
   {
    "duration": 1503,
    "start_time": "2022-03-06T00:10:25.769Z"
   },
   {
    "duration": 1476,
    "start_time": "2022-03-06T00:11:57.333Z"
   },
   {
    "duration": 23,
    "start_time": "2022-03-06T00:12:55.924Z"
   },
   {
    "duration": 1156,
    "start_time": "2022-03-06T00:13:53.164Z"
   },
   {
    "duration": 1380,
    "start_time": "2022-03-06T00:14:04.379Z"
   },
   {
    "duration": 570,
    "start_time": "2022-03-06T00:14:33.161Z"
   },
   {
    "duration": 1399,
    "start_time": "2022-03-06T00:15:31.706Z"
   },
   {
    "duration": 1452,
    "start_time": "2022-03-06T00:20:13.878Z"
   },
   {
    "duration": 1428,
    "start_time": "2022-03-06T00:20:45.982Z"
   },
   {
    "duration": 76,
    "start_time": "2022-03-06T00:22:04.497Z"
   },
   {
    "duration": 1553,
    "start_time": "2022-03-06T00:22:14.213Z"
   },
   {
    "duration": 1200,
    "start_time": "2022-03-10T11:01:59.538Z"
   },
   {
    "duration": 9,
    "start_time": "2022-03-10T11:02:04.281Z"
   },
   {
    "duration": 7,
    "start_time": "2022-03-10T11:02:05.172Z"
   },
   {
    "duration": 49,
    "start_time": "2022-03-10T11:02:06.126Z"
   },
   {
    "duration": 343,
    "start_time": "2022-03-10T11:02:07.057Z"
   },
   {
    "duration": 28909,
    "start_time": "2022-03-10T11:02:13.454Z"
   },
   {
    "duration": 5,
    "start_time": "2022-03-10T11:02:53.074Z"
   },
   {
    "duration": 18,
    "start_time": "2022-03-10T11:02:53.971Z"
   },
   {
    "duration": 7,
    "start_time": "2022-03-10T11:02:54.685Z"
   },
   {
    "duration": 52,
    "start_time": "2022-03-10T11:02:55.384Z"
   },
   {
    "duration": 290,
    "start_time": "2022-03-10T11:02:57.188Z"
   },
   {
    "duration": 14231,
    "start_time": "2022-03-10T11:03:10.094Z"
   },
   {
    "duration": 8,
    "start_time": "2022-03-10T11:03:48.051Z"
   },
   {
    "duration": 46,
    "start_time": "2022-03-10T11:03:48.839Z"
   },
   {
    "duration": 245,
    "start_time": "2022-03-10T11:03:49.868Z"
   },
   {
    "duration": 13290,
    "start_time": "2022-03-10T11:04:01.317Z"
   },
   {
    "duration": 1792,
    "start_time": "2022-03-10T11:04:14.609Z"
   },
   {
    "duration": 8,
    "start_time": "2022-03-10T11:04:16.404Z"
   },
   {
    "duration": 28,
    "start_time": "2022-03-10T11:04:16.415Z"
   },
   {
    "duration": 74,
    "start_time": "2022-03-10T11:04:16.445Z"
   },
   {
    "duration": 442,
    "start_time": "2022-03-10T11:04:16.522Z"
   },
   {
    "duration": 11,
    "start_time": "2022-03-10T11:04:16.966Z"
   },
   {
    "duration": 29,
    "start_time": "2022-03-10T11:04:16.979Z"
   },
   {
    "duration": 34,
    "start_time": "2022-03-10T11:04:17.011Z"
   },
   {
    "duration": 1122,
    "start_time": "2022-03-10T11:04:17.047Z"
   },
   {
    "duration": 345,
    "start_time": "2022-03-10T11:04:18.171Z"
   },
   {
    "duration": 677,
    "start_time": "2022-03-10T11:04:18.518Z"
   },
   {
    "duration": 209,
    "start_time": "2022-03-10T11:04:19.196Z"
   },
   {
    "duration": 2,
    "start_time": "2022-03-10T11:04:19.406Z"
   },
   {
    "duration": 256,
    "start_time": "2022-03-10T11:04:19.410Z"
   },
   {
    "duration": 436,
    "start_time": "2022-03-10T11:04:19.667Z"
   },
   {
    "duration": 1164,
    "start_time": "2022-03-10T11:04:20.104Z"
   },
   {
    "duration": 250,
    "start_time": "2022-03-10T11:04:21.270Z"
   },
   {
    "duration": 16,
    "start_time": "2022-03-10T11:04:21.522Z"
   },
   {
    "duration": 940,
    "start_time": "2022-03-10T11:04:21.540Z"
   },
   {
    "duration": 1056,
    "start_time": "2022-03-10T11:04:22.482Z"
   },
   {
    "duration": 232,
    "start_time": "2022-03-10T11:04:23.540Z"
   },
   {
    "duration": 207,
    "start_time": "2022-03-10T11:04:23.775Z"
   },
   {
    "duration": 281,
    "start_time": "2022-03-10T11:04:23.984Z"
   },
   {
    "duration": 259,
    "start_time": "2022-03-10T11:04:24.267Z"
   },
   {
    "duration": 289,
    "start_time": "2022-03-10T11:04:24.527Z"
   },
   {
    "duration": 235,
    "start_time": "2022-03-10T11:06:52.461Z"
   },
   {
    "duration": 618,
    "start_time": "2022-03-10T11:12:52.720Z"
   },
   {
    "duration": 386,
    "start_time": "2022-03-10T11:13:08.397Z"
   },
   {
    "duration": 1886,
    "start_time": "2022-03-10T11:13:26.810Z"
   },
   {
    "duration": 7,
    "start_time": "2022-03-10T11:26:08.446Z"
   },
   {
    "duration": 1187,
    "start_time": "2022-03-10T11:27:44.814Z"
   },
   {
    "duration": 195,
    "start_time": "2022-03-10T11:27:59.708Z"
   },
   {
    "duration": 10,
    "start_time": "2022-03-10T12:04:49.505Z"
   },
   {
    "duration": 699,
    "start_time": "2022-03-10T12:06:04.221Z"
   },
   {
    "duration": 1367,
    "start_time": "2022-03-10T12:06:11.547Z"
   },
   {
    "duration": 7438,
    "start_time": "2022-03-10T12:07:00.661Z"
   },
   {
    "duration": 10,
    "start_time": "2022-03-10T12:08:21.666Z"
   },
   {
    "duration": 6612,
    "start_time": "2022-03-10T12:08:47.874Z"
   },
   {
    "duration": 16280,
    "start_time": "2022-03-10T12:09:42.215Z"
   },
   {
    "duration": 16195,
    "start_time": "2022-03-10T12:11:50.529Z"
   },
   {
    "duration": 16906,
    "start_time": "2022-03-10T12:12:12.275Z"
   },
   {
    "duration": 693,
    "start_time": "2022-03-10T12:12:39.043Z"
   },
   {
    "duration": 16263,
    "start_time": "2022-03-10T12:12:54.419Z"
   },
   {
    "duration": 6648,
    "start_time": "2022-03-10T12:13:38.850Z"
   },
   {
    "duration": 6714,
    "start_time": "2022-03-10T12:14:21.205Z"
   },
   {
    "duration": 11,
    "start_time": "2022-03-10T12:20:08.697Z"
   },
   {
    "duration": 152,
    "start_time": "2022-03-10T12:26:01.541Z"
   },
   {
    "duration": 25810,
    "start_time": "2022-03-10T12:26:51.690Z"
   },
   {
    "duration": 13,
    "start_time": "2022-03-10T12:28:40.239Z"
   },
   {
    "duration": 27083,
    "start_time": "2022-03-10T12:29:49.026Z"
   },
   {
    "duration": 27129,
    "start_time": "2022-03-10T12:30:19.571Z"
   },
   {
    "duration": 35505,
    "start_time": "2022-03-10T12:30:49.442Z"
   },
   {
    "duration": 23240,
    "start_time": "2022-03-10T12:33:21.108Z"
   },
   {
    "duration": 13392,
    "start_time": "2022-03-10T12:34:09.703Z"
   },
   {
    "duration": 24355,
    "start_time": "2022-03-10T12:34:34.269Z"
   },
   {
    "duration": 575,
    "start_time": "2022-03-10T12:36:21.890Z"
   },
   {
    "duration": 11,
    "start_time": "2022-03-10T12:36:48.307Z"
   },
   {
    "duration": 14720,
    "start_time": "2022-03-10T12:36:59.265Z"
   },
   {
    "duration": 14330,
    "start_time": "2022-03-10T12:37:36.101Z"
   },
   {
    "duration": 14348,
    "start_time": "2022-03-10T12:38:33.127Z"
   },
   {
    "duration": 43326,
    "start_time": "2022-03-10T12:40:40.610Z"
   },
   {
    "duration": 57802,
    "start_time": "2022-03-10T12:42:22.012Z"
   },
   {
    "duration": 58037,
    "start_time": "2022-03-10T12:46:03.621Z"
   },
   {
    "duration": 11,
    "start_time": "2022-03-10T12:47:46.687Z"
   },
   {
    "duration": 58279,
    "start_time": "2022-03-10T12:48:00.861Z"
   },
   {
    "duration": 24939,
    "start_time": "2022-03-10T12:50:28.676Z"
   },
   {
    "duration": 12,
    "start_time": "2022-03-10T12:52:13.945Z"
   },
   {
    "duration": 523,
    "start_time": "2022-03-10T12:52:33.709Z"
   },
   {
    "duration": 12,
    "start_time": "2022-03-10T12:53:20.440Z"
   },
   {
    "duration": 57942,
    "start_time": "2022-03-10T12:53:26.491Z"
   },
   {
    "duration": 71799,
    "start_time": "2022-03-10T13:10:35.690Z"
   },
   {
    "duration": 58430,
    "start_time": "2022-03-10T13:29:07.856Z"
   },
   {
    "duration": 69148,
    "start_time": "2022-03-10T13:30:38.915Z"
   },
   {
    "duration": 26472,
    "start_time": "2022-03-10T13:32:22.466Z"
   },
   {
    "duration": 85996,
    "start_time": "2022-03-10T13:36:53.912Z"
   },
   {
    "duration": 110840,
    "start_time": "2022-03-10T13:43:27.488Z"
   },
   {
    "duration": 81118,
    "start_time": "2022-03-10T13:45:41.913Z"
   },
   {
    "duration": 18923,
    "start_time": "2022-03-10T13:47:47.768Z"
   },
   {
    "duration": 710,
    "start_time": "2022-03-10T13:50:30.206Z"
   },
   {
    "duration": 270,
    "start_time": "2022-03-10T13:51:19.942Z"
   },
   {
    "duration": 81951,
    "start_time": "2022-03-10T13:53:06.155Z"
   },
   {
    "duration": 232,
    "start_time": "2022-03-10T13:55:34.876Z"
   },
   {
    "duration": 2193,
    "start_time": "2022-03-10T13:55:45.996Z"
   },
   {
    "duration": 3119,
    "start_time": "2022-03-10T13:57:25.191Z"
   },
   {
    "duration": 807,
    "start_time": "2022-03-10T14:07:25.084Z"
   },
   {
    "duration": 1485,
    "start_time": "2022-03-10T14:09:27.915Z"
   },
   {
    "duration": 26665,
    "start_time": "2022-03-10T14:12:10.059Z"
   },
   {
    "duration": 56540,
    "start_time": "2022-03-10T14:16:13.744Z"
   },
   {
    "duration": 55594,
    "start_time": "2022-03-10T14:17:32.469Z"
   },
   {
    "duration": 63099,
    "start_time": "2022-03-10T14:19:37.465Z"
   },
   {
    "duration": 76707,
    "start_time": "2022-03-10T14:22:33.682Z"
   },
   {
    "duration": 181602,
    "start_time": "2022-03-10T14:25:22.461Z"
   },
   {
    "duration": 74,
    "start_time": "2022-03-10T14:28:29.835Z"
   },
   {
    "duration": 3,
    "start_time": "2022-03-10T14:28:34.109Z"
   },
   {
    "duration": 5,
    "start_time": "2022-03-10T14:28:51.514Z"
   },
   {
    "duration": 3,
    "start_time": "2022-03-10T14:29:05.293Z"
   },
   {
    "duration": 4,
    "start_time": "2022-03-10T14:29:29.670Z"
   },
   {
    "duration": 166107,
    "start_time": "2022-03-10T14:29:50.863Z"
   },
   {
    "duration": 87750,
    "start_time": "2022-03-10T14:34:33.645Z"
   },
   {
    "duration": 32458,
    "start_time": "2022-03-10T14:37:08.739Z"
   },
   {
    "duration": 38358,
    "start_time": "2022-03-10T14:38:25.121Z"
   },
   {
    "duration": 67516,
    "start_time": "2022-03-10T14:40:08.583Z"
   },
   {
    "duration": 3135,
    "start_time": "2022-03-10T14:43:51.359Z"
   },
   {
    "duration": 3195,
    "start_time": "2022-03-10T14:46:25.633Z"
   },
   {
    "duration": 2239,
    "start_time": "2022-03-10T15:00:41.316Z"
   },
   {
    "duration": 1487,
    "start_time": "2022-03-10T15:01:18.526Z"
   },
   {
    "duration": 1541,
    "start_time": "2022-03-10T15:01:38.674Z"
   },
   {
    "duration": 2777,
    "start_time": "2022-03-10T15:16:12.497Z"
   },
   {
    "duration": 1202,
    "start_time": "2022-03-10T15:17:15.105Z"
   },
   {
    "duration": 3154,
    "start_time": "2022-03-10T15:18:48.153Z"
   },
   {
    "duration": 82,
    "start_time": "2022-03-10T15:20:45.912Z"
   },
   {
    "duration": 3175,
    "start_time": "2022-03-10T15:20:49.323Z"
   },
   {
    "duration": 3228,
    "start_time": "2022-03-10T15:21:29.935Z"
   },
   {
    "duration": 3151,
    "start_time": "2022-03-10T15:22:30.729Z"
   },
   {
    "duration": 3803,
    "start_time": "2022-03-10T15:22:44.975Z"
   },
   {
    "duration": 3844,
    "start_time": "2022-03-10T15:23:41.154Z"
   },
   {
    "duration": 3107,
    "start_time": "2022-03-10T15:24:09.924Z"
   },
   {
    "duration": 233,
    "start_time": "2022-03-10T15:25:34.453Z"
   },
   {
    "duration": 4,
    "start_time": "2022-03-10T15:26:15.816Z"
   },
   {
    "duration": 3168,
    "start_time": "2022-03-10T15:27:20.835Z"
   },
   {
    "duration": 3212,
    "start_time": "2022-03-10T15:28:39.285Z"
   },
   {
    "duration": 2,
    "start_time": "2022-03-10T15:31:51.755Z"
   },
   {
    "duration": 511,
    "start_time": "2022-03-10T15:32:03.834Z"
   },
   {
    "duration": 13084,
    "start_time": "2022-03-10T15:32:44.191Z"
   },
   {
    "duration": 1583,
    "start_time": "2022-03-10T15:32:57.277Z"
   },
   {
    "duration": 8,
    "start_time": "2022-03-10T15:32:58.862Z"
   },
   {
    "duration": 11,
    "start_time": "2022-03-10T15:32:58.872Z"
   },
   {
    "duration": 62,
    "start_time": "2022-03-10T15:32:58.884Z"
   },
   {
    "duration": 274,
    "start_time": "2022-03-10T15:32:58.947Z"
   },
   {
    "duration": 13,
    "start_time": "2022-03-10T15:32:59.223Z"
   },
   {
    "duration": 40,
    "start_time": "2022-03-10T15:32:59.239Z"
   },
   {
    "duration": 106,
    "start_time": "2022-03-10T15:32:59.281Z"
   },
   {
    "duration": 951,
    "start_time": "2022-03-10T15:32:59.389Z"
   },
   {
    "duration": 440,
    "start_time": "2022-03-10T15:33:00.342Z"
   },
   {
    "duration": 692,
    "start_time": "2022-03-10T15:33:00.784Z"
   },
   {
    "duration": 225,
    "start_time": "2022-03-10T15:33:01.478Z"
   },
   {
    "duration": 27063,
    "start_time": "2022-03-10T15:33:01.705Z"
   },
   {
    "duration": 80863,
    "start_time": "2022-03-10T15:33:28.770Z"
   },
   {
    "duration": 2956,
    "start_time": "2022-03-10T15:34:49.635Z"
   },
   {
    "duration": 193,
    "start_time": "2022-03-10T15:34:52.593Z"
   },
   {
    "duration": 407,
    "start_time": "2022-03-10T15:34:52.788Z"
   },
   {
    "duration": 1206,
    "start_time": "2022-03-10T15:34:53.196Z"
   },
   {
    "duration": 264,
    "start_time": "2022-03-10T15:34:54.404Z"
   },
   {
    "duration": 26849,
    "start_time": "2022-03-10T15:34:54.671Z"
   },
   {
    "duration": 66739,
    "start_time": "2022-03-10T15:35:21.522Z"
   },
   {
    "duration": 3354,
    "start_time": "2022-03-10T15:36:28.265Z"
   },
   {
    "duration": 17,
    "start_time": "2022-03-10T15:36:31.621Z"
   },
   {
    "duration": 882,
    "start_time": "2022-03-10T15:36:31.640Z"
   },
   {
    "duration": 1563,
    "start_time": "2022-03-10T15:36:32.523Z"
   },
   {
    "duration": 3152,
    "start_time": "2022-03-10T15:36:34.088Z"
   },
   {
    "duration": 563,
    "start_time": "2022-03-10T15:36:37.242Z"
   },
   {
    "duration": 27420,
    "start_time": "2022-03-10T15:43:56.084Z"
   },
   {
    "duration": 4,
    "start_time": "2022-03-10T15:46:11.694Z"
   },
   {
    "duration": 8,
    "start_time": "2022-03-10T15:46:15.855Z"
   },
   {
    "duration": 11,
    "start_time": "2022-03-10T15:46:16.988Z"
   },
   {
    "duration": 50,
    "start_time": "2022-03-10T15:46:28.475Z"
   },
   {
    "duration": 316,
    "start_time": "2022-03-10T15:46:30.129Z"
   },
   {
    "duration": 17,
    "start_time": "2022-03-10T15:46:31.265Z"
   },
   {
    "duration": 26,
    "start_time": "2022-03-10T15:46:32.461Z"
   },
   {
    "duration": 34,
    "start_time": "2022-03-10T15:46:33.371Z"
   },
   {
    "duration": 601,
    "start_time": "2022-03-10T15:46:34.947Z"
   },
   {
    "duration": 527,
    "start_time": "2022-03-10T15:49:27.287Z"
   },
   {
    "duration": 716,
    "start_time": "2022-03-10T15:49:37.805Z"
   },
   {
    "duration": 268,
    "start_time": "2022-03-10T15:49:46.253Z"
   },
   {
    "duration": 26889,
    "start_time": "2022-03-10T15:49:48.290Z"
   },
   {
    "duration": 13126,
    "start_time": "2022-03-10T15:50:43.216Z"
   },
   {
    "duration": 1668,
    "start_time": "2022-03-10T15:51:05.568Z"
   },
   {
    "duration": 9,
    "start_time": "2022-03-10T15:51:10.849Z"
   },
   {
    "duration": 12,
    "start_time": "2022-03-10T15:51:12.459Z"
   },
   {
    "duration": 57,
    "start_time": "2022-03-10T15:51:38.670Z"
   },
   {
    "duration": 271,
    "start_time": "2022-03-10T15:51:40.070Z"
   },
   {
    "duration": 14,
    "start_time": "2022-03-10T15:51:41.686Z"
   },
   {
    "duration": 22,
    "start_time": "2022-03-10T15:51:43.479Z"
   },
   {
    "duration": 106,
    "start_time": "2022-03-10T15:51:44.604Z"
   },
   {
    "duration": 1016,
    "start_time": "2022-03-10T15:51:45.754Z"
   },
   {
    "duration": 302,
    "start_time": "2022-03-10T15:51:48.337Z"
   },
   {
    "duration": 655,
    "start_time": "2022-03-10T15:51:50.666Z"
   },
   {
    "duration": 220,
    "start_time": "2022-03-10T15:51:53.278Z"
   },
   {
    "duration": 26582,
    "start_time": "2022-03-10T15:52:03.593Z"
   },
   {
    "duration": 78575,
    "start_time": "2022-03-10T15:56:09.037Z"
   },
   {
    "duration": 1611,
    "start_time": "2022-03-10T15:59:47.494Z"
   },
   {
    "duration": 82114,
    "start_time": "2022-03-10T16:06:15.513Z"
   },
   {
    "duration": 2887,
    "start_time": "2022-03-10T16:08:31.937Z"
   },
   {
    "duration": 218,
    "start_time": "2022-03-10T16:08:48.080Z"
   },
   {
    "duration": 535,
    "start_time": "2022-03-10T16:08:50.481Z"
   },
   {
    "duration": 1247,
    "start_time": "2022-03-10T16:08:53.680Z"
   },
   {
    "duration": 244,
    "start_time": "2022-03-10T16:09:00.685Z"
   },
   {
    "duration": 28261,
    "start_time": "2022-03-10T16:09:09.370Z"
   },
   {
    "duration": 70806,
    "start_time": "2022-03-10T16:11:04.596Z"
   },
   {
    "duration": 2383,
    "start_time": "2022-03-10T16:13:45.442Z"
   },
   {
    "duration": 17,
    "start_time": "2022-03-10T16:14:08.814Z"
   },
   {
    "duration": 833,
    "start_time": "2022-03-10T16:14:09.484Z"
   },
   {
    "duration": 1598,
    "start_time": "2022-03-10T16:14:12.676Z"
   },
   {
    "duration": 3603,
    "start_time": "2022-03-10T16:14:22.519Z"
   },
   {
    "duration": 3240,
    "start_time": "2022-03-10T16:15:55.923Z"
   },
   {
    "duration": 13719,
    "start_time": "2022-03-10T16:19:14.328Z"
   },
   {
    "duration": 1823,
    "start_time": "2022-03-10T16:19:28.049Z"
   },
   {
    "duration": 13,
    "start_time": "2022-03-10T16:19:29.875Z"
   },
   {
    "duration": 13,
    "start_time": "2022-03-10T16:19:29.891Z"
   },
   {
    "duration": 59,
    "start_time": "2022-03-10T16:19:29.906Z"
   },
   {
    "duration": 299,
    "start_time": "2022-03-10T16:19:29.968Z"
   },
   {
    "duration": 15,
    "start_time": "2022-03-10T16:19:30.269Z"
   },
   {
    "duration": 29,
    "start_time": "2022-03-10T16:19:30.287Z"
   },
   {
    "duration": 120,
    "start_time": "2022-03-10T16:19:30.318Z"
   },
   {
    "duration": 1257,
    "start_time": "2022-03-10T16:19:30.440Z"
   },
   {
    "duration": 423,
    "start_time": "2022-03-10T16:19:31.699Z"
   },
   {
    "duration": 709,
    "start_time": "2022-03-10T16:19:32.124Z"
   },
   {
    "duration": 281,
    "start_time": "2022-03-10T16:19:32.835Z"
   },
   {
    "duration": 27765,
    "start_time": "2022-03-10T16:19:33.117Z"
   },
   {
    "duration": 83100,
    "start_time": "2022-03-10T16:20:00.884Z"
   },
   {
    "duration": 3347,
    "start_time": "2022-03-10T16:21:23.986Z"
   },
   {
    "duration": 250,
    "start_time": "2022-03-10T16:21:27.334Z"
   },
   {
    "duration": 422,
    "start_time": "2022-03-10T16:21:27.586Z"
   },
   {
    "duration": 1210,
    "start_time": "2022-03-10T16:21:28.010Z"
   },
   {
    "duration": 289,
    "start_time": "2022-03-10T16:21:29.222Z"
   },
   {
    "duration": 28688,
    "start_time": "2022-03-10T16:21:29.513Z"
   },
   {
    "duration": 71904,
    "start_time": "2022-03-10T16:21:58.204Z"
   },
   {
    "duration": 2522,
    "start_time": "2022-03-10T16:23:10.111Z"
   },
   {
    "duration": 31,
    "start_time": "2022-03-10T16:23:12.634Z"
   },
   {
    "duration": 763,
    "start_time": "2022-03-10T16:23:12.668Z"
   },
   {
    "duration": 1596,
    "start_time": "2022-03-10T16:23:13.433Z"
   },
   {
    "duration": 3320,
    "start_time": "2022-03-10T16:23:15.064Z"
   },
   {
    "duration": 3,
    "start_time": "2022-03-10T16:23:18.386Z"
   },
   {
    "duration": 1789,
    "start_time": "2022-03-10T16:28:42.917Z"
   },
   {
    "duration": 80875,
    "start_time": "2022-03-10T16:34:15.788Z"
   },
   {
    "duration": 13105,
    "start_time": "2022-03-10T16:38:31.223Z"
   },
   {
    "duration": 2212,
    "start_time": "2022-03-10T16:38:44.331Z"
   },
   {
    "duration": 9,
    "start_time": "2022-03-10T16:38:46.545Z"
   },
   {
    "duration": 15,
    "start_time": "2022-03-10T16:38:46.557Z"
   },
   {
    "duration": 56,
    "start_time": "2022-03-10T16:38:46.574Z"
   },
   {
    "duration": 301,
    "start_time": "2022-03-10T16:38:46.631Z"
   },
   {
    "duration": 11,
    "start_time": "2022-03-10T16:38:46.934Z"
   },
   {
    "duration": 32,
    "start_time": "2022-03-10T16:38:46.947Z"
   },
   {
    "duration": 115,
    "start_time": "2022-03-10T16:38:46.981Z"
   },
   {
    "duration": 1043,
    "start_time": "2022-03-10T16:38:47.097Z"
   },
   {
    "duration": 468,
    "start_time": "2022-03-10T16:38:48.142Z"
   },
   {
    "duration": 708,
    "start_time": "2022-03-10T16:38:48.612Z"
   },
   {
    "duration": 288,
    "start_time": "2022-03-10T16:38:49.322Z"
   },
   {
    "duration": 26523,
    "start_time": "2022-03-10T16:38:49.611Z"
   },
   {
    "duration": 64246,
    "start_time": "2022-03-10T16:40:44.963Z"
   },
   {
    "duration": 1077,
    "start_time": "2022-03-10T16:47:03.592Z"
   },
   {
    "duration": 165,
    "start_time": "2022-03-10T16:47:31.508Z"
   },
   {
    "duration": 381,
    "start_time": "2022-03-10T16:47:36.433Z"
   },
   {
    "duration": 1103,
    "start_time": "2022-03-10T16:47:41.462Z"
   },
   {
    "duration": 208,
    "start_time": "2022-03-10T16:47:48.301Z"
   },
   {
    "duration": 26367,
    "start_time": "2022-03-10T16:47:55.313Z"
   },
   {
    "duration": 66777,
    "start_time": "2022-03-10T16:48:35.025Z"
   },
   {
    "duration": 2443,
    "start_time": "2022-03-10T16:50:06.684Z"
   },
   {
    "duration": 18,
    "start_time": "2022-03-10T16:50:45.515Z"
   },
   {
    "duration": 914,
    "start_time": "2022-03-10T16:50:54.577Z"
   },
   {
    "duration": 1468,
    "start_time": "2022-03-10T16:50:57.535Z"
   },
   {
    "duration": 3780,
    "start_time": "2022-03-10T16:52:13.731Z"
   },
   {
    "duration": 1262,
    "start_time": "2022-03-12T01:36:19.411Z"
   },
   {
    "duration": 9,
    "start_time": "2022-03-12T01:36:21.018Z"
   },
   {
    "duration": 13,
    "start_time": "2022-03-12T01:36:26.232Z"
   },
   {
    "duration": 184834,
    "start_time": "2022-03-12T01:44:44.122Z"
   },
   {
    "duration": 253934,
    "start_time": "2022-03-12T01:54:27.637Z"
   },
   {
    "duration": 1940,
    "start_time": "2022-03-12T01:58:41.573Z"
   },
   {
    "duration": 9,
    "start_time": "2022-03-12T02:13:43.936Z"
   },
   {
    "duration": 13,
    "start_time": "2022-03-12T02:13:45.922Z"
   },
   {
    "duration": 73,
    "start_time": "2022-03-12T02:13:46.817Z"
   },
   {
    "duration": 409,
    "start_time": "2022-03-12T02:13:48.206Z"
   },
   {
    "duration": 13,
    "start_time": "2022-03-12T02:13:52.949Z"
   },
   {
    "duration": 23,
    "start_time": "2022-03-12T02:13:54.038Z"
   },
   {
    "duration": 33,
    "start_time": "2022-03-12T02:13:55.641Z"
   },
   {
    "duration": 928,
    "start_time": "2022-03-12T02:13:59.481Z"
   },
   {
    "duration": 391,
    "start_time": "2022-03-12T02:52:43.530Z"
   },
   {
    "duration": 758,
    "start_time": "2022-03-12T02:52:47.580Z"
   },
   {
    "duration": 241,
    "start_time": "2022-03-12T02:52:53.191Z"
   },
   {
    "duration": 30050,
    "start_time": "2022-03-12T02:53:05.141Z"
   },
   {
    "duration": 72642,
    "start_time": "2022-03-12T03:01:55.009Z"
   },
   {
    "duration": 317,
    "start_time": "2022-03-12T03:04:01.110Z"
   },
   {
    "duration": 318306,
    "start_time": "2022-03-12T03:20:18.409Z"
   },
   {
    "duration": 1789,
    "start_time": "2022-03-12T03:25:36.717Z"
   },
   {
    "duration": 9,
    "start_time": "2022-03-12T03:25:38.509Z"
   },
   {
    "duration": 12,
    "start_time": "2022-03-12T03:25:38.520Z"
   },
   {
    "duration": 75,
    "start_time": "2022-03-12T03:25:38.534Z"
   },
   {
    "duration": 319,
    "start_time": "2022-03-12T03:25:38.611Z"
   },
   {
    "duration": 12,
    "start_time": "2022-03-12T03:25:38.931Z"
   },
   {
    "duration": 22,
    "start_time": "2022-03-12T03:25:38.945Z"
   },
   {
    "duration": 108,
    "start_time": "2022-03-12T03:25:38.970Z"
   },
   {
    "duration": 1027,
    "start_time": "2022-03-12T03:25:39.080Z"
   },
   {
    "duration": 410,
    "start_time": "2022-03-12T03:25:40.109Z"
   },
   {
    "duration": 726,
    "start_time": "2022-03-12T03:25:40.521Z"
   },
   {
    "duration": 273,
    "start_time": "2022-03-12T03:25:41.249Z"
   },
   {
    "duration": 29502,
    "start_time": "2022-03-12T03:25:41.524Z"
   },
   {
    "duration": 71729,
    "start_time": "2022-03-12T03:26:11.028Z"
   },
   {
    "duration": 1161,
    "start_time": "2022-03-12T03:27:22.759Z"
   },
   {
    "duration": 199,
    "start_time": "2022-03-12T03:27:23.921Z"
   },
   {
    "duration": 460,
    "start_time": "2022-03-12T03:27:24.122Z"
   },
   {
    "duration": 1268,
    "start_time": "2022-03-12T03:27:24.583Z"
   },
   {
    "duration": 277,
    "start_time": "2022-03-12T03:27:25.853Z"
   },
   {
    "duration": 29539,
    "start_time": "2022-03-12T03:27:26.131Z"
   },
   {
    "duration": 74566,
    "start_time": "2022-03-12T03:27:55.671Z"
   },
   {
    "duration": 2778,
    "start_time": "2022-03-12T03:29:10.239Z"
   },
   {
    "duration": 18,
    "start_time": "2022-03-12T03:29:13.019Z"
   },
   {
    "duration": 1085,
    "start_time": "2022-03-12T03:29:13.038Z"
   },
   {
    "duration": 1706,
    "start_time": "2022-03-12T03:29:14.125Z"
   },
   {
    "duration": 4406,
    "start_time": "2022-03-12T03:29:15.836Z"
   },
   {
    "duration": 326,
    "start_time": "2022-03-12T03:29:20.244Z"
   },
   {
    "duration": 313,
    "start_time": "2022-03-12T08:52:02.432Z"
   },
   {
    "duration": 240,
    "start_time": "2022-03-12T08:52:19.695Z"
   },
   {
    "duration": 4,
    "start_time": "2022-03-12T08:52:21.274Z"
   },
   {
    "duration": 4,
    "start_time": "2022-03-12T08:52:21.741Z"
   },
   {
    "duration": 4,
    "start_time": "2022-03-12T08:52:21.882Z"
   },
   {
    "duration": 5,
    "start_time": "2022-03-12T08:52:22.021Z"
   },
   {
    "duration": 191,
    "start_time": "2022-03-12T08:52:27.948Z"
   },
   {
    "duration": 4,
    "start_time": "2022-03-12T08:52:28.633Z"
   },
   {
    "duration": 4,
    "start_time": "2022-03-12T08:52:29.054Z"
   },
   {
    "duration": 4,
    "start_time": "2022-03-12T08:52:29.271Z"
   },
   {
    "duration": 4,
    "start_time": "2022-03-12T08:52:29.465Z"
   },
   {
    "duration": 4,
    "start_time": "2022-03-12T08:52:29.629Z"
   },
   {
    "duration": 3,
    "start_time": "2022-03-12T08:52:29.779Z"
   },
   {
    "duration": 4,
    "start_time": "2022-03-12T08:52:50.543Z"
   },
   {
    "duration": 4,
    "start_time": "2022-03-12T08:54:31.696Z"
   },
   {
    "duration": 4,
    "start_time": "2022-03-12T08:54:31.813Z"
   },
   {
    "duration": 4,
    "start_time": "2022-03-12T08:54:32.238Z"
   },
   {
    "duration": 3,
    "start_time": "2022-03-12T08:55:48.858Z"
   },
   {
    "duration": 32733,
    "start_time": "2022-03-12T08:55:56.902Z"
   },
   {
    "duration": 1729,
    "start_time": "2022-03-12T08:56:29.637Z"
   },
   {
    "duration": 7,
    "start_time": "2022-03-12T08:56:31.368Z"
   },
   {
    "duration": 13,
    "start_time": "2022-03-12T08:56:31.377Z"
   },
   {
    "duration": 72,
    "start_time": "2022-03-12T08:56:31.391Z"
   },
   {
    "duration": 397,
    "start_time": "2022-03-12T08:56:31.464Z"
   },
   {
    "duration": 10,
    "start_time": "2022-03-12T08:56:31.862Z"
   },
   {
    "duration": 17,
    "start_time": "2022-03-12T08:56:31.874Z"
   },
   {
    "duration": 33,
    "start_time": "2022-03-12T08:56:31.892Z"
   },
   {
    "duration": 1048,
    "start_time": "2022-03-12T08:56:31.926Z"
   },
   {
    "duration": 372,
    "start_time": "2022-03-12T08:56:32.976Z"
   },
   {
    "duration": 705,
    "start_time": "2022-03-12T08:56:33.349Z"
   },
   {
    "duration": 205,
    "start_time": "2022-03-12T08:56:34.056Z"
   },
   {
    "duration": 23812,
    "start_time": "2022-03-12T08:56:34.262Z"
   },
   {
    "duration": 58261,
    "start_time": "2022-03-12T08:56:58.076Z"
   },
   {
    "duration": 1009,
    "start_time": "2022-03-12T08:57:56.339Z"
   },
   {
    "duration": 170,
    "start_time": "2022-03-12T08:57:57.349Z"
   },
   {
    "duration": 397,
    "start_time": "2022-03-12T08:57:57.521Z"
   },
   {
    "duration": 1052,
    "start_time": "2022-03-12T08:57:57.920Z"
   },
   {
    "duration": 248,
    "start_time": "2022-03-12T08:57:58.973Z"
   },
   {
    "duration": 23669,
    "start_time": "2022-03-12T08:57:59.223Z"
   },
   {
    "duration": 59762,
    "start_time": "2022-03-12T08:58:22.893Z"
   },
   {
    "duration": 2190,
    "start_time": "2022-03-12T08:59:22.658Z"
   },
   {
    "duration": 64,
    "start_time": "2022-03-12T08:59:24.850Z"
   },
   {
    "duration": 900,
    "start_time": "2022-03-12T08:59:24.916Z"
   },
   {
    "duration": 1413,
    "start_time": "2022-03-12T08:59:25.818Z"
   },
   {
    "duration": 3462,
    "start_time": "2022-03-12T08:59:27.233Z"
   },
   {
    "duration": 10,
    "start_time": "2022-03-12T08:59:30.697Z"
   },
   {
    "duration": 258,
    "start_time": "2022-03-12T08:59:30.708Z"
   },
   {
    "duration": 5,
    "start_time": "2022-03-12T09:03:04.908Z"
   }
  ],
  "kernelspec": {
   "display_name": "Python 3.9.10 ('main')",
   "language": "python",
   "name": "python3"
  },
  "language_info": {
   "codemirror_mode": {
    "name": "ipython",
    "version": 3
   },
   "file_extension": ".py",
   "mimetype": "text/x-python",
   "name": "python",
   "nbconvert_exporter": "python",
   "pygments_lexer": "ipython3",
   "version": "3.9.10"
  },
  "toc": {
   "base_numbering": 1,
   "nav_menu": {},
   "number_sections": true,
   "sideBar": true,
   "skip_h1_title": true,
   "title_cell": "Содержание",
   "title_sidebar": "Contents",
   "toc_cell": true,
   "toc_position": {
    "height": "calc(100% - 180px)",
    "left": "10px",
    "top": "150px",
    "width": "247.375px"
   },
   "toc_section_display": true,
   "toc_window_display": true
  },
  "vscode": {
   "interpreter": {
    "hash": "58656f4d27507c1cf066d160953941131aeedc5e8ddd25f7cf3d9165a5f5fe3d"
   }
  }
 },
 "nbformat": 4,
 "nbformat_minor": 2
}
