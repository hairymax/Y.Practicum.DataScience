{
 "cells": [
  {
   "cell_type": "markdown",
   "metadata": {},
   "source": [
    "<div style=\"border:solid lightblue 3px; padding: 20px\">\n",
    "<b>Максим, привет!</b>\n",
    "\n",
    "Меня зовут Виталий Мехоношин, и я буду проверять твой проект. Предлагаю общаться на «ты» 😉\n",
    "\n",
    "Моя основная цель — не указать на совершенные тобою ошибки, а поделиться своим опытом и помочь тебе стать аналитиком данных. Тобой проделана большая работа над проектом, давай сделаем его еще лучше. Ниже ты найдешь мои комментарии. Есть несколько правил:<br>\n",
    "- <b>Пожалуйста, не перемещай, не изменяй и не удаляй комментарии.</b>\n",
    "- У комментариев могут быть приписки <b>V2, V3</b> и т.д., которые соответствуют версии проверки. \n",
    "- Еще обрати внимание на цветовую разметку:\n",
    "\n",
    "<div class=\"alert alert-danger\">\n",
    "<b>❌ Комментарий ревьюера:</b> \n",
    "Комментарии такого цвета необходимо исправить, без их отработки проект не будет принят. \n",
    "</div>\n",
    "\n",
    "<div class=\"alert alert-warning\">\n",
    "<b>⚠️ Комментарий ревьюера:</b> \n",
    "На комментарии такого цвета нужно обязательно обратить внимание. Их не должно быть много.\n",
    "</div>\n",
    "\n",
    "<div class=\"alert alert-success\">\n",
    "<b>✅ Комментарий ревьюера:</b> \n",
    "Комментарии такого цвета будут содержать лайфхаки, которые смогут улучшить твой верный код, их необязательно исправлять.\n",
    "</div>\n",
    "\n",
    "Предлагаю работать над проектом в диалоге: если ты хочешь ответить на мои комментарии — пиши об этом. Мне будет легче отследить изменения, если ты выделишь свои комментарии вот так:\n",
    "<div class=\"alert alert-info\"> <b>Комментарий студента:</b> Например, вот так.</div>\n",
    "\n",
    "Всё это поможет выполнить повторную проверку твоего проекта оперативнее.\n",
    "    \n",
    "<b>P.S.</b> Извини за долгое ожидание проверки. При последующих проверках SLA будет соблюдаться.\n",
    "</div>"
   ]
  },
  {
   "cell_type": "markdown",
   "metadata": {},
   "source": [
    "<div style=\"border:solid lightblue 3px; padding: 20px\">\n",
    "<b>Общий комментарий ревьюера:</b>\n",
    "\n",
    "У тебя замечательная и очень сильная работа. Спасибо тебе большое, что ты уделяешь оформлению проекта особое внимание - ты не представляешь, как приятно не рыться в коде и не скролить туды сюды блокнот, чтобы найти какую-нибудь информацию. Каждый заголовок выделен, каждое рассуждение выделено, каждый пункт выделен. Так же мне очень понравилось, что тобой найдены все основные инсайты в данных, чательно обоснованы и с точки зрения кода проработаны достаточно оптимально.\n",
    "    \n",
    "Готов принять твой проект, возвращаю его тебе, чтобы дать возможность задать какие-нибудь интересующие вопросы, если вопросов нет, то так и напиши😊\n",
    "</div>"
   ]
  },
  {
   "cell_type": "markdown",
   "metadata": {},
   "source": [
    "<div class=\"alert alert-info\"> <b>Комментарий студента:</b> \n",
    "\n",
    "Спасибо, вопросов нет 🙂</div>"
   ]
  },
  {
   "cell_type": "markdown",
   "metadata": {},
   "source": [
    "<div style=\"border:solid lightblue 3px; padding: 20px\">\n",
    "<b>Общий комментарий ревьюера V2:</b>\n",
    "\n",
    "Проект принят, удачи на следующих спринтах😊\n",
    "</div>"
   ]
  },
  {
   "cell_type": "markdown",
   "metadata": {},
   "source": [
    "# Определение перспективного тарифа для телеком-компании\n",
    "\n",
    "Производится анализ данных для «Мегалайн» — федерального оператора сотовой связи. Клиентам предлагают два тарифных плана: «Смарт» и «Ультра». Чтобы скорректировать рекламный бюджет, коммерческий департамент хочет понять, какой тариф приносит больше денег.\n",
    "\n",
    "Необходимо сделать предварительный анализ тарифов на небольшой выборке клиентов. В вашем распоряжении данные 500 пользователей «Мегалайна»: кто они, откуда, каким тарифом пользуются, сколько звонков и сообщений каждый отправил за 2018 год. Нужно проанализировать поведение клиентов и сделать вывод — какой тариф лучше."
   ]
  },
  {
   "cell_type": "markdown",
   "metadata": {
    "toc": true
   },
   "source": [
    "<h1>Содержание<span class=\"tocSkip\"></span></h1>\n",
    "<div class=\"toc\"><ul class=\"toc-item\"><li><span><a href=\"#Описание-тарифов\" data-toc-modified-id=\"Описание-тарифов-1\"><span class=\"toc-item-num\">1&nbsp;&nbsp;</span>Описание тарифов</a></span><ul class=\"toc-item\"><li><span><a href=\"#Тариф-«Смарт»\" data-toc-modified-id=\"Тариф-«Смарт»-1.1\"><span class=\"toc-item-num\">1.1&nbsp;&nbsp;</span>Тариф «Смарт»</a></span></li><li><span><a href=\"#Тариф-«Ультра»\" data-toc-modified-id=\"Тариф-«Ультра»-1.2\"><span class=\"toc-item-num\">1.2&nbsp;&nbsp;</span>Тариф «Ультра»</a></span></li><li><span><a href=\"#Описание-данных\" data-toc-modified-id=\"Описание-данных-1.3\"><span class=\"toc-item-num\">1.3&nbsp;&nbsp;</span>Описание данных</a></span><ul class=\"toc-item\"><li><span><a href=\"#Таблица-users-(информация-о-пользователях):\" data-toc-modified-id=\"Таблица-users-(информация-о-пользователях):-1.3.1\"><span class=\"toc-item-num\">1.3.1&nbsp;&nbsp;</span>Таблица users (информация о пользователях):</a></span></li><li><span><a href=\"#Таблица-calls-(информация-о-звонках):\" data-toc-modified-id=\"Таблица-calls-(информация-о-звонках):-1.3.2\"><span class=\"toc-item-num\">1.3.2&nbsp;&nbsp;</span>Таблица calls (информация о звонках):</a></span></li><li><span><a href=\"#Таблица-messages-(информация-о-сообщениях):\" data-toc-modified-id=\"Таблица-messages-(информация-о-сообщениях):-1.3.3\"><span class=\"toc-item-num\">1.3.3&nbsp;&nbsp;</span>Таблица messages (информация о сообщениях):</a></span></li><li><span><a href=\"#Таблица-internet-(информация-об-интернет-сессиях):\" data-toc-modified-id=\"Таблица-internet-(информация-об-интернет-сессиях):-1.3.4\"><span class=\"toc-item-num\">1.3.4&nbsp;&nbsp;</span>Таблица internet (информация об интернет-сессиях):</a></span></li><li><span><a href=\"#Таблица-tariffs-(информация-о-тарифах):\" data-toc-modified-id=\"Таблица-tariffs-(информация-о-тарифах):-1.3.5\"><span class=\"toc-item-num\">1.3.5&nbsp;&nbsp;</span>Таблица tariffs (информация о тарифах):</a></span></li></ul></li><li><span><a href=\"#Подключение-библиотек\" data-toc-modified-id=\"Подключение-библиотек-1.4\"><span class=\"toc-item-num\">1.4&nbsp;&nbsp;</span>Подключение библиотек</a></span></li></ul></li><li><span><a href=\"#Общая-информация\" data-toc-modified-id=\"Общая-информация-2\"><span class=\"toc-item-num\">2&nbsp;&nbsp;</span>Общая информация</a></span></li><li><span><a href=\"#Подготовка-данных\" data-toc-modified-id=\"Подготовка-данных-3\"><span class=\"toc-item-num\">3&nbsp;&nbsp;</span>Подготовка данных</a></span><ul class=\"toc-item\"><li><span><a href=\"#Приведение-типов-данных\" data-toc-modified-id=\"Приведение-типов-данных-3.1\"><span class=\"toc-item-num\">3.1&nbsp;&nbsp;</span>Приведение типов данных</a></span></li><li><span><a href=\"#Проверка-на-наличие-ошибок\" data-toc-modified-id=\"Проверка-на-наличие-ошибок-3.2\"><span class=\"toc-item-num\">3.2&nbsp;&nbsp;</span>Проверка на наличие ошибок</a></span></li><li><span><a href=\"#Добавление-данных\" data-toc-modified-id=\"Добавление-данных-3.3\"><span class=\"toc-item-num\">3.3&nbsp;&nbsp;</span>Добавление данных</a></span><ul class=\"toc-item\"><li><span><a href=\"#Звонки\" data-toc-modified-id=\"Звонки-3.3.1\"><span class=\"toc-item-num\">3.3.1&nbsp;&nbsp;</span>Звонки</a></span></li><li><span><a href=\"#Сообщения\" data-toc-modified-id=\"Сообщения-3.3.2\"><span class=\"toc-item-num\">3.3.2&nbsp;&nbsp;</span>Сообщения</a></span></li><li><span><a href=\"#Трафик\" data-toc-modified-id=\"Трафик-3.3.3\"><span class=\"toc-item-num\">3.3.3&nbsp;&nbsp;</span>Трафик</a></span></li><li><span><a href=\"#Сводная-таблица\" data-toc-modified-id=\"Сводная-таблица-3.3.4\"><span class=\"toc-item-num\">3.3.4&nbsp;&nbsp;</span>Сводная таблица</a></span></li><li><span><a href=\"#Выручка\" data-toc-modified-id=\"Выручка-3.3.5\"><span class=\"toc-item-num\">3.3.5&nbsp;&nbsp;</span>Выручка</a></span></li></ul></li></ul></li><li><span><a href=\"#Анализ-данных\" data-toc-modified-id=\"Анализ-данных-4\"><span class=\"toc-item-num\">4&nbsp;&nbsp;</span>Анализ данных</a></span><ul class=\"toc-item\"><li><span><a href=\"#Функции-для-вывода\" data-toc-modified-id=\"Функции-для-вывода-4.1\"><span class=\"toc-item-num\">4.1&nbsp;&nbsp;</span>Функции для вывода</a></span></li><li><span><a href=\"#Коэффициенты-корреляции\" data-toc-modified-id=\"Коэффициенты-корреляции-4.2\"><span class=\"toc-item-num\">4.2&nbsp;&nbsp;</span>Коэффициенты корреляции</a></span></li><li><span><a href=\"#Описательная-статистика\" data-toc-modified-id=\"Описательная-статистика-4.3\"><span class=\"toc-item-num\">4.3&nbsp;&nbsp;</span>Описательная статистика</a></span></li><li><span><a href=\"#Звонки\" data-toc-modified-id=\"Звонки-4.4\"><span class=\"toc-item-num\">4.4&nbsp;&nbsp;</span>Звонки</a></span></li><li><span><a href=\"#Сообщения\" data-toc-modified-id=\"Сообщения-4.5\"><span class=\"toc-item-num\">4.5&nbsp;&nbsp;</span>Сообщения</a></span></li><li><span><a href=\"#Трафик\" data-toc-modified-id=\"Трафик-4.6\"><span class=\"toc-item-num\">4.6&nbsp;&nbsp;</span>Трафик</a></span></li><li><span><a href=\"#Выручка\" data-toc-modified-id=\"Выручка-4.7\"><span class=\"toc-item-num\">4.7&nbsp;&nbsp;</span>Выручка</a></span></li></ul></li><li><span><a href=\"#Проверка-гипотез\" data-toc-modified-id=\"Проверка-гипотез-5\"><span class=\"toc-item-num\">5&nbsp;&nbsp;</span>Проверка гипотез</a></span><ul class=\"toc-item\"><li><span><a href=\"#Средняя-выручка-пользователей-тарифов-«Ультра»-и-«Смарт»-различаются\" data-toc-modified-id=\"Средняя-выручка-пользователей-тарифов-«Ультра»-и-«Смарт»-различаются-5.1\"><span class=\"toc-item-num\">5.1&nbsp;&nbsp;</span>Средняя выручка пользователей тарифов «Ультра» и «Смарт» различаются</a></span></li><li><span><a href=\"#Средняя-выручка-пользователи-из-Москвы-отличается-от-выручки-пользователей-из-других-регионов\" data-toc-modified-id=\"Средняя-выручка-пользователи-из-Москвы-отличается-от-выручки-пользователей-из-других-регионов-5.2\"><span class=\"toc-item-num\">5.2&nbsp;&nbsp;</span>Средняя выручка пользователи из Москвы отличается от выручки пользователей из других регионов</a></span></li></ul></li><li><span><a href=\"#Общий-вывод\" data-toc-modified-id=\"Общий-вывод-6\"><span class=\"toc-item-num\">6&nbsp;&nbsp;</span>Общий вывод</a></span></li></ul></div>"
   ]
  },
  {
   "cell_type": "markdown",
   "metadata": {},
   "source": [
    "## Описание тарифов\n",
    "### Тариф «Смарт»\n",
    "1. Ежемесячная плата: 550 рублей\n",
    "2. Включено 500 минут разговора, 50 сообщений и 15 Гб интернет-трафика\n",
    "3. Стоимость услуг сверх тарифного пакета: \n",
    "    - минута разговора: 3 рубля; \n",
    "    - сообщение: 3 рубля; \n",
    "    - 1 Гб интернет-трафика: 200 рублей.\n",
    "    \n",
    "### Тариф «Ультра»\n",
    "1. Ежемесячная плата: 1950 рублей\n",
    "2. Включено 3000 минут разговора, 1000 сообщений и 30 Гб интернет-трафика\n",
    "3. Стоимость услуг сверх тарифного пакета: \n",
    "    - минута разговора: 1 рубль; \n",
    "    - сообщение: 1 рубль; \n",
    "    - 1 Гб интернет-трафика: 150 рублей.\n",
    "\n",
    "__Примечание:__\n",
    "- «Мегалайн» всегда округляет секунды до минут, а мегабайты — до гигабайт. Каждый звонок округляется отдельно: даже если он длился всего 1 секунду, будет засчитан как 1 минута.\n",
    "- Для веб-трафика отдельные сессии не считаются. Вместо этого общая сумма за месяц округляется в бо́льшую сторону. Если абонент использует 1025 мегабайт в этом месяце, с него возьмут плату за 2 гигабайта."
   ]
  },
  {
   "cell_type": "markdown",
   "metadata": {},
   "source": [
    "### Описание данных\n",
    "\n",
    "#### Таблица users (информация о пользователях):\n",
    "- `user_id` — уникальный идентификатор пользователя\n",
    "- `first_name` — имя пользователя\n",
    "- `last_name` — фамилия пользователя\n",
    "- `age` — возраст пользователя (годы)\n",
    "- `reg_date` — дата подключения тарифа (день, месяц, год)\n",
    "- `churn_date` — дата прекращения пользования тарифом (если значение пропущено, то тариф ещё действовал на момент выгрузки данных)\n",
    "- `city` — город проживания пользователя\n",
    "- `tarif` — название тарифного плана\n",
    "\n",
    "#### Таблица calls (информация о звонках):\n",
    "- `id` — уникальный номер звонка\n",
    "- `call_date` — дата звонка\n",
    "- `duration` — длительность звонка в минутах\n",
    "- `user_id` — идентификатор пользователя, сделавшего звонок\n",
    "\n",
    "#### Таблица messages (информация о сообщениях):\n",
    "- `id` — уникальный номер звонка\n",
    "- `message_date` — дата сообщения\n",
    "- `user_id` — идентификатор пользователя, отправившего сообщение\n",
    "\n",
    "#### Таблица internet (информация об интернет-сессиях):\n",
    "- `id` — уникальный номер сессии\n",
    "- `mb_used` — объём потраченного за сессию интернет-трафика (в мегабайтах)\n",
    "- `session_date` — дата интернет-сессии\n",
    "- `user_id` — идентификатор пользователя\n",
    "\n",
    "#### Таблица tariffs (информация о тарифах):\n",
    "- `tariff_name` — название тарифа\n",
    "- `rub_monthly_fee` — ежемесячная абонентская плата в рублях\n",
    "- `minutes_included` — количество минут разговора в месяц, включённых в абонентскую плату\n",
    "- `messages_included` — количество сообщений в месяц, включённых в абонентскую плату\n",
    "- `mb_per_month_included` — объём интернет-трафика, включённого в абонентскую плату (в мегабайтах)\n",
    "- `rub_per_minute` — стоимость минуты разговора сверх тарифного пакета (например, если в тарифе 100 минут разговора в месяц, то со 101 минуты будет взиматься плата)\n",
    "- `rub_per_message` — стоимость отправки сообщения сверх тарифного пакета\n",
    "- `rub_per_gb` — стоимость дополнительного гигабайта интернет-трафика сверх тарифного пакета (1 гигабайт = 1024 мегабайта)"
   ]
  },
  {
   "cell_type": "markdown",
   "metadata": {},
   "source": [
    "### Подключение библиотек"
   ]
  },
  {
   "cell_type": "code",
   "execution_count": 1,
   "metadata": {},
   "outputs": [],
   "source": [
    "# для формтированного вывода\n",
    "from IPython.display import Markdown, display \n",
    "\n",
    "# для работы с данными\n",
    "import pandas as pd\n",
    "\n",
    "# для вычислений\n",
    "import numpy as np\n",
    "import math as mt\n",
    "from scipy import stats as st\n",
    "\n",
    "# для графиков\n",
    "import seaborn as sns\n",
    "from matplotlib import pyplot as plt\n",
    "\n",
    "# определим константу формата даты\n",
    "DATE_FORMAT = '%Y-%m-%dT%H:%M:%S'"
   ]
  },
  {
   "cell_type": "markdown",
   "metadata": {},
   "source": [
    "## Общая информация\n",
    "\n",
    "Сохраним все датасеты в словарь `data`. Ключами сделаем названия файлов без расширения, так будет удобно к ним обращаться.\n",
    "\n",
    "Сразу посмотрим на информацию датасетов и на первые и последние значения в них"
   ]
  },
  {
   "cell_type": "code",
   "execution_count": 2,
   "metadata": {},
   "outputs": [
    {
     "data": {
      "text/markdown": [
       "**Датасет:  tariffs**"
      ],
      "text/plain": [
       "<IPython.core.display.Markdown object>"
      ]
     },
     "metadata": {},
     "output_type": "display_data"
    },
    {
     "name": "stdout",
     "output_type": "stream",
     "text": [
      "<class 'pandas.core.frame.DataFrame'>\n",
      "RangeIndex: 2 entries, 0 to 1\n",
      "Data columns (total 8 columns):\n",
      "messages_included        2 non-null int64\n",
      "mb_per_month_included    2 non-null int64\n",
      "minutes_included         2 non-null int64\n",
      "rub_monthly_fee          2 non-null int64\n",
      "rub_per_gb               2 non-null int64\n",
      "rub_per_message          2 non-null int64\n",
      "rub_per_minute           2 non-null int64\n",
      "tariff_name              2 non-null object\n",
      "dtypes: int64(7), object(1)\n",
      "memory usage: 256.0+ bytes\n"
     ]
    },
    {
     "data": {
      "text/html": [
       "<div>\n",
       "<style scoped>\n",
       "    .dataframe tbody tr th:only-of-type {\n",
       "        vertical-align: middle;\n",
       "    }\n",
       "\n",
       "    .dataframe tbody tr th {\n",
       "        vertical-align: top;\n",
       "    }\n",
       "\n",
       "    .dataframe thead th {\n",
       "        text-align: right;\n",
       "    }\n",
       "</style>\n",
       "<table border=\"1\" class=\"dataframe\">\n",
       "  <thead>\n",
       "    <tr style=\"text-align: right;\">\n",
       "      <th></th>\n",
       "      <th>messages_included</th>\n",
       "      <th>mb_per_month_included</th>\n",
       "      <th>minutes_included</th>\n",
       "      <th>rub_monthly_fee</th>\n",
       "      <th>rub_per_gb</th>\n",
       "      <th>rub_per_message</th>\n",
       "      <th>rub_per_minute</th>\n",
       "      <th>tariff_name</th>\n",
       "    </tr>\n",
       "  </thead>\n",
       "  <tbody>\n",
       "    <tr>\n",
       "      <td>0</td>\n",
       "      <td>50</td>\n",
       "      <td>15360</td>\n",
       "      <td>500</td>\n",
       "      <td>550</td>\n",
       "      <td>200</td>\n",
       "      <td>3</td>\n",
       "      <td>3</td>\n",
       "      <td>smart</td>\n",
       "    </tr>\n",
       "    <tr>\n",
       "      <td>1</td>\n",
       "      <td>1000</td>\n",
       "      <td>30720</td>\n",
       "      <td>3000</td>\n",
       "      <td>1950</td>\n",
       "      <td>150</td>\n",
       "      <td>1</td>\n",
       "      <td>1</td>\n",
       "      <td>ultra</td>\n",
       "    </tr>\n",
       "  </tbody>\n",
       "</table>\n",
       "</div>"
      ],
      "text/plain": [
       "   messages_included  mb_per_month_included  minutes_included  \\\n",
       "0                 50                  15360               500   \n",
       "1               1000                  30720              3000   \n",
       "\n",
       "   rub_monthly_fee  rub_per_gb  rub_per_message  rub_per_minute tariff_name  \n",
       "0              550         200                3               3       smart  \n",
       "1             1950         150                1               1       ultra  "
      ]
     },
     "metadata": {},
     "output_type": "display_data"
    },
    {
     "name": "stdout",
     "output_type": "stream",
     "text": [
      "\n"
     ]
    },
    {
     "data": {
      "text/markdown": [
       "**Датасет:  users**"
      ],
      "text/plain": [
       "<IPython.core.display.Markdown object>"
      ]
     },
     "metadata": {},
     "output_type": "display_data"
    },
    {
     "name": "stdout",
     "output_type": "stream",
     "text": [
      "<class 'pandas.core.frame.DataFrame'>\n",
      "RangeIndex: 500 entries, 0 to 499\n",
      "Data columns (total 8 columns):\n",
      "user_id       500 non-null int64\n",
      "age           500 non-null int64\n",
      "churn_date    38 non-null object\n",
      "city          500 non-null object\n",
      "first_name    500 non-null object\n",
      "last_name     500 non-null object\n",
      "reg_date      500 non-null object\n",
      "tariff        500 non-null object\n",
      "dtypes: int64(2), object(6)\n",
      "memory usage: 31.4+ KB\n"
     ]
    },
    {
     "data": {
      "text/html": [
       "<div>\n",
       "<style scoped>\n",
       "    .dataframe tbody tr th:only-of-type {\n",
       "        vertical-align: middle;\n",
       "    }\n",
       "\n",
       "    .dataframe tbody tr th {\n",
       "        vertical-align: top;\n",
       "    }\n",
       "\n",
       "    .dataframe thead th {\n",
       "        text-align: right;\n",
       "    }\n",
       "</style>\n",
       "<table border=\"1\" class=\"dataframe\">\n",
       "  <thead>\n",
       "    <tr style=\"text-align: right;\">\n",
       "      <th></th>\n",
       "      <th>user_id</th>\n",
       "      <th>age</th>\n",
       "      <th>churn_date</th>\n",
       "      <th>city</th>\n",
       "      <th>first_name</th>\n",
       "      <th>last_name</th>\n",
       "      <th>reg_date</th>\n",
       "      <th>tariff</th>\n",
       "    </tr>\n",
       "  </thead>\n",
       "  <tbody>\n",
       "    <tr>\n",
       "      <td>0</td>\n",
       "      <td>1000</td>\n",
       "      <td>52</td>\n",
       "      <td>NaN</td>\n",
       "      <td>Краснодар</td>\n",
       "      <td>Рафаил</td>\n",
       "      <td>Верещагин</td>\n",
       "      <td>2018-05-25</td>\n",
       "      <td>ultra</td>\n",
       "    </tr>\n",
       "    <tr>\n",
       "      <td>1</td>\n",
       "      <td>1001</td>\n",
       "      <td>41</td>\n",
       "      <td>NaN</td>\n",
       "      <td>Москва</td>\n",
       "      <td>Иван</td>\n",
       "      <td>Ежов</td>\n",
       "      <td>2018-11-01</td>\n",
       "      <td>smart</td>\n",
       "    </tr>\n",
       "    <tr>\n",
       "      <td>2</td>\n",
       "      <td>1002</td>\n",
       "      <td>59</td>\n",
       "      <td>NaN</td>\n",
       "      <td>Стерлитамак</td>\n",
       "      <td>Евгений</td>\n",
       "      <td>Абрамович</td>\n",
       "      <td>2018-06-17</td>\n",
       "      <td>smart</td>\n",
       "    </tr>\n",
       "    <tr>\n",
       "      <td>3</td>\n",
       "      <td>1003</td>\n",
       "      <td>23</td>\n",
       "      <td>NaN</td>\n",
       "      <td>Москва</td>\n",
       "      <td>Белла</td>\n",
       "      <td>Белякова</td>\n",
       "      <td>2018-08-17</td>\n",
       "      <td>ultra</td>\n",
       "    </tr>\n",
       "    <tr>\n",
       "      <td>4</td>\n",
       "      <td>1004</td>\n",
       "      <td>68</td>\n",
       "      <td>NaN</td>\n",
       "      <td>Новокузнецк</td>\n",
       "      <td>Татьяна</td>\n",
       "      <td>Авдеенко</td>\n",
       "      <td>2018-05-14</td>\n",
       "      <td>ultra</td>\n",
       "    </tr>\n",
       "    <tr>\n",
       "      <td>...</td>\n",
       "      <td>...</td>\n",
       "      <td>...</td>\n",
       "      <td>...</td>\n",
       "      <td>...</td>\n",
       "      <td>...</td>\n",
       "      <td>...</td>\n",
       "      <td>...</td>\n",
       "      <td>...</td>\n",
       "    </tr>\n",
       "    <tr>\n",
       "      <td>495</td>\n",
       "      <td>1495</td>\n",
       "      <td>65</td>\n",
       "      <td>NaN</td>\n",
       "      <td>Иркутск</td>\n",
       "      <td>Авксентий</td>\n",
       "      <td>Фокин</td>\n",
       "      <td>2018-08-28</td>\n",
       "      <td>ultra</td>\n",
       "    </tr>\n",
       "    <tr>\n",
       "      <td>496</td>\n",
       "      <td>1496</td>\n",
       "      <td>36</td>\n",
       "      <td>NaN</td>\n",
       "      <td>Вологда</td>\n",
       "      <td>Трифон</td>\n",
       "      <td>Блохин</td>\n",
       "      <td>2018-01-27</td>\n",
       "      <td>smart</td>\n",
       "    </tr>\n",
       "    <tr>\n",
       "      <td>497</td>\n",
       "      <td>1497</td>\n",
       "      <td>32</td>\n",
       "      <td>NaN</td>\n",
       "      <td>Челябинск</td>\n",
       "      <td>Каролина</td>\n",
       "      <td>Агеева</td>\n",
       "      <td>2018-10-09</td>\n",
       "      <td>smart</td>\n",
       "    </tr>\n",
       "    <tr>\n",
       "      <td>498</td>\n",
       "      <td>1498</td>\n",
       "      <td>68</td>\n",
       "      <td>2018-10-25</td>\n",
       "      <td>Владикавказ</td>\n",
       "      <td>Всеволод</td>\n",
       "      <td>Акимчин</td>\n",
       "      <td>2018-07-19</td>\n",
       "      <td>smart</td>\n",
       "    </tr>\n",
       "    <tr>\n",
       "      <td>499</td>\n",
       "      <td>1499</td>\n",
       "      <td>35</td>\n",
       "      <td>NaN</td>\n",
       "      <td>Пермь</td>\n",
       "      <td>Гектор</td>\n",
       "      <td>Корнилов</td>\n",
       "      <td>2018-09-27</td>\n",
       "      <td>smart</td>\n",
       "    </tr>\n",
       "  </tbody>\n",
       "</table>\n",
       "<p>500 rows × 8 columns</p>\n",
       "</div>"
      ],
      "text/plain": [
       "     user_id  age  churn_date         city first_name  last_name    reg_date  \\\n",
       "0       1000   52         NaN    Краснодар     Рафаил  Верещагин  2018-05-25   \n",
       "1       1001   41         NaN       Москва       Иван       Ежов  2018-11-01   \n",
       "2       1002   59         NaN  Стерлитамак    Евгений  Абрамович  2018-06-17   \n",
       "3       1003   23         NaN       Москва      Белла   Белякова  2018-08-17   \n",
       "4       1004   68         NaN  Новокузнецк    Татьяна   Авдеенко  2018-05-14   \n",
       "..       ...  ...         ...          ...        ...        ...         ...   \n",
       "495     1495   65         NaN      Иркутск  Авксентий      Фокин  2018-08-28   \n",
       "496     1496   36         NaN      Вологда     Трифон     Блохин  2018-01-27   \n",
       "497     1497   32         NaN    Челябинск   Каролина     Агеева  2018-10-09   \n",
       "498     1498   68  2018-10-25  Владикавказ   Всеволод    Акимчин  2018-07-19   \n",
       "499     1499   35         NaN        Пермь     Гектор   Корнилов  2018-09-27   \n",
       "\n",
       "    tariff  \n",
       "0    ultra  \n",
       "1    smart  \n",
       "2    smart  \n",
       "3    ultra  \n",
       "4    ultra  \n",
       "..     ...  \n",
       "495  ultra  \n",
       "496  smart  \n",
       "497  smart  \n",
       "498  smart  \n",
       "499  smart  \n",
       "\n",
       "[500 rows x 8 columns]"
      ]
     },
     "metadata": {},
     "output_type": "display_data"
    },
    {
     "name": "stdout",
     "output_type": "stream",
     "text": [
      "\n"
     ]
    },
    {
     "data": {
      "text/markdown": [
       "**Датасет:  calls**"
      ],
      "text/plain": [
       "<IPython.core.display.Markdown object>"
      ]
     },
     "metadata": {},
     "output_type": "display_data"
    },
    {
     "name": "stdout",
     "output_type": "stream",
     "text": [
      "<class 'pandas.core.frame.DataFrame'>\n",
      "RangeIndex: 202607 entries, 0 to 202606\n",
      "Data columns (total 4 columns):\n",
      "id           202607 non-null object\n",
      "call_date    202607 non-null object\n",
      "duration     202607 non-null float64\n",
      "user_id      202607 non-null int64\n",
      "dtypes: float64(1), int64(1), object(2)\n",
      "memory usage: 6.2+ MB\n"
     ]
    },
    {
     "data": {
      "text/html": [
       "<div>\n",
       "<style scoped>\n",
       "    .dataframe tbody tr th:only-of-type {\n",
       "        vertical-align: middle;\n",
       "    }\n",
       "\n",
       "    .dataframe tbody tr th {\n",
       "        vertical-align: top;\n",
       "    }\n",
       "\n",
       "    .dataframe thead th {\n",
       "        text-align: right;\n",
       "    }\n",
       "</style>\n",
       "<table border=\"1\" class=\"dataframe\">\n",
       "  <thead>\n",
       "    <tr style=\"text-align: right;\">\n",
       "      <th></th>\n",
       "      <th>id</th>\n",
       "      <th>call_date</th>\n",
       "      <th>duration</th>\n",
       "      <th>user_id</th>\n",
       "    </tr>\n",
       "  </thead>\n",
       "  <tbody>\n",
       "    <tr>\n",
       "      <td>0</td>\n",
       "      <td>1000_0</td>\n",
       "      <td>2018-07-25</td>\n",
       "      <td>0.00</td>\n",
       "      <td>1000</td>\n",
       "    </tr>\n",
       "    <tr>\n",
       "      <td>1</td>\n",
       "      <td>1000_1</td>\n",
       "      <td>2018-08-17</td>\n",
       "      <td>0.00</td>\n",
       "      <td>1000</td>\n",
       "    </tr>\n",
       "    <tr>\n",
       "      <td>2</td>\n",
       "      <td>1000_2</td>\n",
       "      <td>2018-06-11</td>\n",
       "      <td>2.85</td>\n",
       "      <td>1000</td>\n",
       "    </tr>\n",
       "    <tr>\n",
       "      <td>3</td>\n",
       "      <td>1000_3</td>\n",
       "      <td>2018-09-21</td>\n",
       "      <td>13.80</td>\n",
       "      <td>1000</td>\n",
       "    </tr>\n",
       "    <tr>\n",
       "      <td>4</td>\n",
       "      <td>1000_4</td>\n",
       "      <td>2018-12-15</td>\n",
       "      <td>5.18</td>\n",
       "      <td>1000</td>\n",
       "    </tr>\n",
       "    <tr>\n",
       "      <td>...</td>\n",
       "      <td>...</td>\n",
       "      <td>...</td>\n",
       "      <td>...</td>\n",
       "      <td>...</td>\n",
       "    </tr>\n",
       "    <tr>\n",
       "      <td>202602</td>\n",
       "      <td>1499_215</td>\n",
       "      <td>2018-12-26</td>\n",
       "      <td>0.76</td>\n",
       "      <td>1499</td>\n",
       "    </tr>\n",
       "    <tr>\n",
       "      <td>202603</td>\n",
       "      <td>1499_216</td>\n",
       "      <td>2018-10-18</td>\n",
       "      <td>18.83</td>\n",
       "      <td>1499</td>\n",
       "    </tr>\n",
       "    <tr>\n",
       "      <td>202604</td>\n",
       "      <td>1499_217</td>\n",
       "      <td>2018-11-10</td>\n",
       "      <td>10.81</td>\n",
       "      <td>1499</td>\n",
       "    </tr>\n",
       "    <tr>\n",
       "      <td>202605</td>\n",
       "      <td>1499_218</td>\n",
       "      <td>2018-10-06</td>\n",
       "      <td>4.27</td>\n",
       "      <td>1499</td>\n",
       "    </tr>\n",
       "    <tr>\n",
       "      <td>202606</td>\n",
       "      <td>1499_219</td>\n",
       "      <td>2018-12-14</td>\n",
       "      <td>19.62</td>\n",
       "      <td>1499</td>\n",
       "    </tr>\n",
       "  </tbody>\n",
       "</table>\n",
       "<p>202607 rows × 4 columns</p>\n",
       "</div>"
      ],
      "text/plain": [
       "              id   call_date  duration  user_id\n",
       "0         1000_0  2018-07-25      0.00     1000\n",
       "1         1000_1  2018-08-17      0.00     1000\n",
       "2         1000_2  2018-06-11      2.85     1000\n",
       "3         1000_3  2018-09-21     13.80     1000\n",
       "4         1000_4  2018-12-15      5.18     1000\n",
       "...          ...         ...       ...      ...\n",
       "202602  1499_215  2018-12-26      0.76     1499\n",
       "202603  1499_216  2018-10-18     18.83     1499\n",
       "202604  1499_217  2018-11-10     10.81     1499\n",
       "202605  1499_218  2018-10-06      4.27     1499\n",
       "202606  1499_219  2018-12-14     19.62     1499\n",
       "\n",
       "[202607 rows x 4 columns]"
      ]
     },
     "metadata": {},
     "output_type": "display_data"
    },
    {
     "name": "stdout",
     "output_type": "stream",
     "text": [
      "\n"
     ]
    },
    {
     "data": {
      "text/markdown": [
       "**Датасет:  internet**"
      ],
      "text/plain": [
       "<IPython.core.display.Markdown object>"
      ]
     },
     "metadata": {},
     "output_type": "display_data"
    },
    {
     "name": "stdout",
     "output_type": "stream",
     "text": [
      "<class 'pandas.core.frame.DataFrame'>\n",
      "RangeIndex: 149396 entries, 0 to 149395\n",
      "Data columns (total 5 columns):\n",
      "Unnamed: 0      149396 non-null int64\n",
      "id              149396 non-null object\n",
      "mb_used         149396 non-null float64\n",
      "session_date    149396 non-null object\n",
      "user_id         149396 non-null int64\n",
      "dtypes: float64(1), int64(2), object(2)\n",
      "memory usage: 5.7+ MB\n"
     ]
    },
    {
     "data": {
      "text/html": [
       "<div>\n",
       "<style scoped>\n",
       "    .dataframe tbody tr th:only-of-type {\n",
       "        vertical-align: middle;\n",
       "    }\n",
       "\n",
       "    .dataframe tbody tr th {\n",
       "        vertical-align: top;\n",
       "    }\n",
       "\n",
       "    .dataframe thead th {\n",
       "        text-align: right;\n",
       "    }\n",
       "</style>\n",
       "<table border=\"1\" class=\"dataframe\">\n",
       "  <thead>\n",
       "    <tr style=\"text-align: right;\">\n",
       "      <th></th>\n",
       "      <th>Unnamed: 0</th>\n",
       "      <th>id</th>\n",
       "      <th>mb_used</th>\n",
       "      <th>session_date</th>\n",
       "      <th>user_id</th>\n",
       "    </tr>\n",
       "  </thead>\n",
       "  <tbody>\n",
       "    <tr>\n",
       "      <td>0</td>\n",
       "      <td>0</td>\n",
       "      <td>1000_0</td>\n",
       "      <td>112.95</td>\n",
       "      <td>2018-11-25</td>\n",
       "      <td>1000</td>\n",
       "    </tr>\n",
       "    <tr>\n",
       "      <td>1</td>\n",
       "      <td>1</td>\n",
       "      <td>1000_1</td>\n",
       "      <td>1052.81</td>\n",
       "      <td>2018-09-07</td>\n",
       "      <td>1000</td>\n",
       "    </tr>\n",
       "    <tr>\n",
       "      <td>2</td>\n",
       "      <td>2</td>\n",
       "      <td>1000_2</td>\n",
       "      <td>1197.26</td>\n",
       "      <td>2018-06-25</td>\n",
       "      <td>1000</td>\n",
       "    </tr>\n",
       "    <tr>\n",
       "      <td>3</td>\n",
       "      <td>3</td>\n",
       "      <td>1000_3</td>\n",
       "      <td>550.27</td>\n",
       "      <td>2018-08-22</td>\n",
       "      <td>1000</td>\n",
       "    </tr>\n",
       "    <tr>\n",
       "      <td>4</td>\n",
       "      <td>4</td>\n",
       "      <td>1000_4</td>\n",
       "      <td>302.56</td>\n",
       "      <td>2018-09-24</td>\n",
       "      <td>1000</td>\n",
       "    </tr>\n",
       "    <tr>\n",
       "      <td>...</td>\n",
       "      <td>...</td>\n",
       "      <td>...</td>\n",
       "      <td>...</td>\n",
       "      <td>...</td>\n",
       "      <td>...</td>\n",
       "    </tr>\n",
       "    <tr>\n",
       "      <td>149391</td>\n",
       "      <td>149391</td>\n",
       "      <td>1499_152</td>\n",
       "      <td>318.90</td>\n",
       "      <td>2018-10-03</td>\n",
       "      <td>1499</td>\n",
       "    </tr>\n",
       "    <tr>\n",
       "      <td>149392</td>\n",
       "      <td>149392</td>\n",
       "      <td>1499_153</td>\n",
       "      <td>490.13</td>\n",
       "      <td>2018-12-14</td>\n",
       "      <td>1499</td>\n",
       "    </tr>\n",
       "    <tr>\n",
       "      <td>149393</td>\n",
       "      <td>149393</td>\n",
       "      <td>1499_154</td>\n",
       "      <td>0.00</td>\n",
       "      <td>2018-10-27</td>\n",
       "      <td>1499</td>\n",
       "    </tr>\n",
       "    <tr>\n",
       "      <td>149394</td>\n",
       "      <td>149394</td>\n",
       "      <td>1499_155</td>\n",
       "      <td>1246.32</td>\n",
       "      <td>2018-11-26</td>\n",
       "      <td>1499</td>\n",
       "    </tr>\n",
       "    <tr>\n",
       "      <td>149395</td>\n",
       "      <td>149395</td>\n",
       "      <td>1499_156</td>\n",
       "      <td>544.37</td>\n",
       "      <td>2018-10-26</td>\n",
       "      <td>1499</td>\n",
       "    </tr>\n",
       "  </tbody>\n",
       "</table>\n",
       "<p>149396 rows × 5 columns</p>\n",
       "</div>"
      ],
      "text/plain": [
       "        Unnamed: 0        id  mb_used session_date  user_id\n",
       "0                0    1000_0   112.95   2018-11-25     1000\n",
       "1                1    1000_1  1052.81   2018-09-07     1000\n",
       "2                2    1000_2  1197.26   2018-06-25     1000\n",
       "3                3    1000_3   550.27   2018-08-22     1000\n",
       "4                4    1000_4   302.56   2018-09-24     1000\n",
       "...            ...       ...      ...          ...      ...\n",
       "149391      149391  1499_152   318.90   2018-10-03     1499\n",
       "149392      149392  1499_153   490.13   2018-12-14     1499\n",
       "149393      149393  1499_154     0.00   2018-10-27     1499\n",
       "149394      149394  1499_155  1246.32   2018-11-26     1499\n",
       "149395      149395  1499_156   544.37   2018-10-26     1499\n",
       "\n",
       "[149396 rows x 5 columns]"
      ]
     },
     "metadata": {},
     "output_type": "display_data"
    },
    {
     "name": "stdout",
     "output_type": "stream",
     "text": [
      "\n"
     ]
    },
    {
     "data": {
      "text/markdown": [
       "**Датасет:  messages**"
      ],
      "text/plain": [
       "<IPython.core.display.Markdown object>"
      ]
     },
     "metadata": {},
     "output_type": "display_data"
    },
    {
     "name": "stdout",
     "output_type": "stream",
     "text": [
      "<class 'pandas.core.frame.DataFrame'>\n",
      "RangeIndex: 123036 entries, 0 to 123035\n",
      "Data columns (total 3 columns):\n",
      "id              123036 non-null object\n",
      "message_date    123036 non-null object\n",
      "user_id         123036 non-null int64\n",
      "dtypes: int64(1), object(2)\n",
      "memory usage: 2.8+ MB\n"
     ]
    },
    {
     "data": {
      "text/html": [
       "<div>\n",
       "<style scoped>\n",
       "    .dataframe tbody tr th:only-of-type {\n",
       "        vertical-align: middle;\n",
       "    }\n",
       "\n",
       "    .dataframe tbody tr th {\n",
       "        vertical-align: top;\n",
       "    }\n",
       "\n",
       "    .dataframe thead th {\n",
       "        text-align: right;\n",
       "    }\n",
       "</style>\n",
       "<table border=\"1\" class=\"dataframe\">\n",
       "  <thead>\n",
       "    <tr style=\"text-align: right;\">\n",
       "      <th></th>\n",
       "      <th>id</th>\n",
       "      <th>message_date</th>\n",
       "      <th>user_id</th>\n",
       "    </tr>\n",
       "  </thead>\n",
       "  <tbody>\n",
       "    <tr>\n",
       "      <td>0</td>\n",
       "      <td>1000_0</td>\n",
       "      <td>2018-06-27</td>\n",
       "      <td>1000</td>\n",
       "    </tr>\n",
       "    <tr>\n",
       "      <td>1</td>\n",
       "      <td>1000_1</td>\n",
       "      <td>2018-10-08</td>\n",
       "      <td>1000</td>\n",
       "    </tr>\n",
       "    <tr>\n",
       "      <td>2</td>\n",
       "      <td>1000_2</td>\n",
       "      <td>2018-08-04</td>\n",
       "      <td>1000</td>\n",
       "    </tr>\n",
       "    <tr>\n",
       "      <td>3</td>\n",
       "      <td>1000_3</td>\n",
       "      <td>2018-06-16</td>\n",
       "      <td>1000</td>\n",
       "    </tr>\n",
       "    <tr>\n",
       "      <td>4</td>\n",
       "      <td>1000_4</td>\n",
       "      <td>2018-12-05</td>\n",
       "      <td>1000</td>\n",
       "    </tr>\n",
       "    <tr>\n",
       "      <td>...</td>\n",
       "      <td>...</td>\n",
       "      <td>...</td>\n",
       "      <td>...</td>\n",
       "    </tr>\n",
       "    <tr>\n",
       "      <td>123031</td>\n",
       "      <td>1499_179</td>\n",
       "      <td>2018-12-12</td>\n",
       "      <td>1499</td>\n",
       "    </tr>\n",
       "    <tr>\n",
       "      <td>123032</td>\n",
       "      <td>1499_180</td>\n",
       "      <td>2018-09-28</td>\n",
       "      <td>1499</td>\n",
       "    </tr>\n",
       "    <tr>\n",
       "      <td>123033</td>\n",
       "      <td>1499_181</td>\n",
       "      <td>2018-09-27</td>\n",
       "      <td>1499</td>\n",
       "    </tr>\n",
       "    <tr>\n",
       "      <td>123034</td>\n",
       "      <td>1499_182</td>\n",
       "      <td>2018-11-15</td>\n",
       "      <td>1499</td>\n",
       "    </tr>\n",
       "    <tr>\n",
       "      <td>123035</td>\n",
       "      <td>1499_183</td>\n",
       "      <td>2018-11-16</td>\n",
       "      <td>1499</td>\n",
       "    </tr>\n",
       "  </tbody>\n",
       "</table>\n",
       "<p>123036 rows × 3 columns</p>\n",
       "</div>"
      ],
      "text/plain": [
       "              id message_date  user_id\n",
       "0         1000_0   2018-06-27     1000\n",
       "1         1000_1   2018-10-08     1000\n",
       "2         1000_2   2018-08-04     1000\n",
       "3         1000_3   2018-06-16     1000\n",
       "4         1000_4   2018-12-05     1000\n",
       "...          ...          ...      ...\n",
       "123031  1499_179   2018-12-12     1499\n",
       "123032  1499_180   2018-09-28     1499\n",
       "123033  1499_181   2018-09-27     1499\n",
       "123034  1499_182   2018-11-15     1499\n",
       "123035  1499_183   2018-11-16     1499\n",
       "\n",
       "[123036 rows x 3 columns]"
      ]
     },
     "metadata": {},
     "output_type": "display_data"
    },
    {
     "name": "stdout",
     "output_type": "stream",
     "text": [
      "\n"
     ]
    }
   ],
   "source": [
    "# словарь с датафреймами, который заполним по циклу\n",
    "data = {'tariffs'   : None,\n",
    "        'users'     : None,\n",
    "        'calls'     : None, \n",
    "        'internet'  : None, \n",
    "        'messages'  : None }\n",
    "\n",
    "for name in data.keys():\n",
    "    # считывание\n",
    "    data[name] = pd.read_csv('/datasets/' + name + '.csv')\n",
    "    # зададим аттрибут name\n",
    "    data[name].name = name\n",
    "    \n",
    "    # Выведем информацию\n",
    "    display(Markdown('**Датасет:  ' + name + '**'))\n",
    "    # информация, info() по умолчанию выодит в sys.stdout, как и print\n",
    "    data[name].info() \n",
    "    # отобразим head и tail\n",
    "    display(data[name]) \n",
    "    print()\n",
    "\n",
    "# а чтобы было удобно работать с каждым датасетом по отдельности, \n",
    "# присвоим их в отдельные переменные. Такое присвоение не выделит новой памяти,\n",
    "# а фактически создаст указатели на датасеты в словаре\n",
    "df_t = data['tariffs']\n",
    "df_u = data['users']\n",
    "df_c = data['calls'] \n",
    "df_i = data['internet'] \n",
    "df_m = data['messages']"
   ]
  },
  {
   "cell_type": "markdown",
   "metadata": {},
   "source": [
    "В датасетах нет пропусков, только в столбце `churn_date`, таблицы с пользователями, но здесь пропуски несут информацию: если он есть, пользователь не менял тариф.\n",
    "\n",
    "В датасете `internet` есть бесполезный столбец, который появился при чтении файла: в таблице был столбец с индексом, pandas его считала и присвоила имя `Unnamed 0`. Его удалим."
   ]
  },
  {
   "cell_type": "code",
   "execution_count": 3,
   "metadata": {},
   "outputs": [],
   "source": [
    "# удаляем столбец. \n",
    "try: data['internet'].drop('Unnamed: 0', axis=1, inplace = True)\n",
    "except: print(\"Столбец 'Unnamed: 0' уже удалён или не существует\")"
   ]
  },
  {
   "cell_type": "markdown",
   "metadata": {},
   "source": [
    "<div class=\"alert alert-success\">\n",
    "<b>✅ Комментарий ревьюера:</b> \n",
    "\n",
    "Первый взгляд на данные хороший. Могу рекомендовать создать универсальную функцию, которая будет принимать на вход датафрейм, а на выходе она будет выводить всего нужные характеристики, например, `head`, `describe`, `info`, дубликаты и т.п.\n",
    "</div>"
   ]
  },
  {
   "cell_type": "markdown",
   "metadata": {},
   "source": [
    "## Подготовка данных\n",
    "\n",
    "### Приведение типов данных\n",
    "\n",
    "Столбцы с датами приведём к типу `datetime64`. У остальных оставим без изменений, они соответсвуюн нужному типу данных. "
   ]
  },
  {
   "cell_type": "code",
   "execution_count": 4,
   "metadata": {},
   "outputs": [],
   "source": [
    "# заменяем тип столбцов с датами\n",
    "for df in data.values(): \n",
    "    for col in df.columns: \n",
    "        if '_date' in col: \n",
    "            df[col] = pd.to_datetime(df[col], format=DATE_FORMAT)"
   ]
  },
  {
   "cell_type": "markdown",
   "metadata": {},
   "source": [
    "<div class=\"alert alert-success\">\n",
    "<b>✅ Комментарий ревьюера :</b> \n",
    "\n",
    "Работа над типами произведена корректно\n",
    "</div>"
   ]
  },
  {
   "cell_type": "markdown",
   "metadata": {},
   "source": [
    "### Проверка на наличие ошибок"
   ]
  },
  {
   "cell_type": "markdown",
   "metadata": {},
   "source": [
    "Посмотрим, есть ли дубли"
   ]
  },
  {
   "cell_type": "code",
   "execution_count": 5,
   "metadata": {},
   "outputs": [
    {
     "name": "stdout",
     "output_type": "stream",
     "text": [
      "users: количество явных дублей:  0\n",
      "calls: количество явных дублей:  0\n",
      "internet: количество явных дублей:  0\n",
      "messages: количество явных дублей:  0\n",
      "Максимальное количество записей об одном пользователе: 1\n",
      "Встречающиеся тарифы: ['ultra', 'smart']\n"
     ]
    }
   ],
   "source": [
    "# проверим на явные дубли\n",
    "for df in list(data.values())[1:]: \n",
    "    print(df.name +': количество явных дублей: ', df.duplicated().sum())\n",
    "\n",
    "# проверим, дублируются ли пользователи\n",
    "df_u['fl_name'] = (df_u['first_name'] + ' ' + df_u['last_name']).replace('ё','e')\n",
    "print('Максимальное количество записей об одном пользователе:',\n",
    "    df_u.pivot_table(index='fl_name',values='user_id',aggfunc='count')['user_id'].max())\n",
    "df_u.drop('fl_name', axis=1, inplace = True)\n",
    "\n",
    "# проверяем неявные дубли в тарифах у пользователей\n",
    "print('Встречающиеся тарифы:', list(df_u['tariff'].unique()))\n",
    "\n",
    "# проверяем неявные дубли в названиях городов\n",
    "# print('Встречающиеся города:', sorted(list(df_u['city'].unique())))"
   ]
  },
  {
   "cell_type": "markdown",
   "metadata": {},
   "source": [
    "Похоже, дублей нет. Явных проблем с данными также не обнаружили"
   ]
  },
  {
   "cell_type": "markdown",
   "metadata": {},
   "source": [
    "<div class=\"alert alert-success\">\n",
    "<b>✅ Комментарий ревьюера :</b> \n",
    "\n",
    "Хорошая проверка, все супер\n",
    "</div>"
   ]
  },
  {
   "cell_type": "markdown",
   "metadata": {},
   "source": [
    "### Добавление данных\n",
    "\n",
    "Нам известно:\n",
    "- «Мегалайн» всегда округляет секунды до минут, а мегабайты — до гигабайт. Каждый звонок округляется отдельно: даже если он длился всего 1 секунду, будет засчитан как 1 минута.\n",
    "- Для веб-трафика отдельные сессии не считаются. Вместо этого общая сумма за месяц округляется в бо́льшую сторону. Если абонент использует 1025 мегабайт в этом месяце, с него возьмут плату за 2 гигабайта.\n",
    "\n",
    "Поскольку нам необходимо будет проанализировать среднюю выручку в зависимости от тарифа и от того, является ли абонент жителем Москвы, то добавим два логических столбца \n",
    "- *is_ultra*: принимает значение `True`, если абонент пользуется тарифом _ultra_ и `False` - если _smart_. Тарифов всего 2, поэтому это оправдано\n",
    "- *is_moscow*: `True` для абонентев из Москвы, `False` для остальных\n",
    "\n",
    "Так нам проще будет в дальнейшем отфильровать нужные значения. \n",
    "\n",
    "Далее необходимо провести помесячный анализ, поэтому добавим столбец `month` в таблицы _calls_, _internet_ и _messages_\n",
    "\n",
    "Поскольку трафик считается в гигабайтах, то для удобства сравнения израсходанного пакета интернета с включённым в пакет добавим в таблицу _tariffs_ лимит интренет трафика в гигабайтах - `gb_per_month`  "
   ]
  },
  {
   "cell_type": "code",
   "execution_count": 6,
   "metadata": {},
   "outputs": [],
   "source": [
    "# у абонента тариф ultra ?\n",
    "df_u['is_ultra'] = df_u['tariff'] == 'ultra'\n",
    "# абонент из Москвы ?\n",
    "df_u['is_moscow'] = df_u['city'] == 'Москва'\n",
    "\n",
    "# переводим мегабайты в гигабайты\n",
    "df_t['gb_included'] = (df_t['mb_per_month_included'] / 1024).round().astype('int')\n",
    "\n",
    "# добавим месяц в нужные таблицы\n",
    "for name in ['calls', 'internet', 'messages']: \n",
    "    for col in data[name].columns: \n",
    "        if '_date' in col: \n",
    "            data[name]['month'] = data[name][col].dt.month.astype('int8')"
   ]
  },
  {
   "cell_type": "markdown",
   "metadata": {},
   "source": [
    "<div class=\"alert alert-success\">\n",
    "<b>✅ Комментарий ревьюера :</b> \n",
    "\n",
    "Все верно, только наверно `round` лишний, потом все равно будешь в большую сторону округлять\n",
    "</div>"
   ]
  },
  {
   "cell_type": "markdown",
   "metadata": {},
   "source": [
    "#### Звонки\n",
    "\n",
    "Добавим в таблицу _calls_ округлённую к верхнему значению продолжительность звонка\n",
    "\n",
    "Посчитаем количество сделанных звонков и израсходованных минут разговора по месяцам"
   ]
  },
  {
   "cell_type": "code",
   "execution_count": 7,
   "metadata": {},
   "outputs": [
    {
     "name": "stdout",
     "output_type": "stream",
     "text": [
      "<class 'pandas.core.frame.DataFrame'>\n",
      "MultiIndex: 3174 entries, (1000, 5) to (1499, 12)\n",
      "Data columns (total 2 columns):\n",
      "calls_cnt      3174 non-null int64\n",
      "minutes_cnt    3174 non-null int64\n",
      "dtypes: int64(2)\n",
      "memory usage: 62.9 KB\n"
     ]
    },
    {
     "data": {
      "text/html": [
       "<div>\n",
       "<style scoped>\n",
       "    .dataframe tbody tr th:only-of-type {\n",
       "        vertical-align: middle;\n",
       "    }\n",
       "\n",
       "    .dataframe tbody tr th {\n",
       "        vertical-align: top;\n",
       "    }\n",
       "\n",
       "    .dataframe thead th {\n",
       "        text-align: right;\n",
       "    }\n",
       "</style>\n",
       "<table border=\"1\" class=\"dataframe\">\n",
       "  <thead>\n",
       "    <tr style=\"text-align: right;\">\n",
       "      <th></th>\n",
       "      <th></th>\n",
       "      <th>calls_cnt</th>\n",
       "      <th>minutes_cnt</th>\n",
       "    </tr>\n",
       "    <tr>\n",
       "      <th>user_id</th>\n",
       "      <th>month</th>\n",
       "      <th></th>\n",
       "      <th></th>\n",
       "    </tr>\n",
       "  </thead>\n",
       "  <tbody>\n",
       "    <tr>\n",
       "      <td rowspan=\"5\" valign=\"top\">1000</td>\n",
       "      <td>5</td>\n",
       "      <td>22</td>\n",
       "      <td>159</td>\n",
       "    </tr>\n",
       "    <tr>\n",
       "      <td>6</td>\n",
       "      <td>43</td>\n",
       "      <td>172</td>\n",
       "    </tr>\n",
       "    <tr>\n",
       "      <td>7</td>\n",
       "      <td>47</td>\n",
       "      <td>340</td>\n",
       "    </tr>\n",
       "    <tr>\n",
       "      <td>8</td>\n",
       "      <td>52</td>\n",
       "      <td>408</td>\n",
       "    </tr>\n",
       "    <tr>\n",
       "      <td>9</td>\n",
       "      <td>58</td>\n",
       "      <td>466</td>\n",
       "    </tr>\n",
       "    <tr>\n",
       "      <td>...</td>\n",
       "      <td>...</td>\n",
       "      <td>...</td>\n",
       "      <td>...</td>\n",
       "    </tr>\n",
       "    <tr>\n",
       "      <td>1498</td>\n",
       "      <td>10</td>\n",
       "      <td>41</td>\n",
       "      <td>247</td>\n",
       "    </tr>\n",
       "    <tr>\n",
       "      <td rowspan=\"4\" valign=\"top\">1499</td>\n",
       "      <td>9</td>\n",
       "      <td>9</td>\n",
       "      <td>70</td>\n",
       "    </tr>\n",
       "    <tr>\n",
       "      <td>10</td>\n",
       "      <td>68</td>\n",
       "      <td>449</td>\n",
       "    </tr>\n",
       "    <tr>\n",
       "      <td>11</td>\n",
       "      <td>74</td>\n",
       "      <td>612</td>\n",
       "    </tr>\n",
       "    <tr>\n",
       "      <td>12</td>\n",
       "      <td>69</td>\n",
       "      <td>492</td>\n",
       "    </tr>\n",
       "  </tbody>\n",
       "</table>\n",
       "<p>3174 rows × 2 columns</p>\n",
       "</div>"
      ],
      "text/plain": [
       "               calls_cnt  minutes_cnt\n",
       "user_id month                        \n",
       "1000    5             22          159\n",
       "        6             43          172\n",
       "        7             47          340\n",
       "        8             52          408\n",
       "        9             58          466\n",
       "...                  ...          ...\n",
       "1498    10            41          247\n",
       "1499    9              9           70\n",
       "        10            68          449\n",
       "        11            74          612\n",
       "        12            69          492\n",
       "\n",
       "[3174 rows x 2 columns]"
      ]
     },
     "execution_count": 7,
     "metadata": {},
     "output_type": "execute_result"
    }
   ],
   "source": [
    "# добавляем округлённые минуты\n",
    "df_c['duration_ceil'] = df_c['duration'].apply(np.ceil).astype('int')\n",
    "# собираем сводную таблицу с количеством звонков и их продолжительностью по месяцам\n",
    "calls_summary = df_c.pivot_table(\n",
    "    index = ['user_id','month'], values='duration_ceil', aggfunc=['count','sum'])\n",
    "calls_summary.columns = ['calls_cnt','minutes_cnt']\n",
    "# выводим результат\n",
    "calls_summary.info()\n",
    "calls_summary"
   ]
  },
  {
   "cell_type": "markdown",
   "metadata": {},
   "source": [
    "<div class=\"alert alert-success\">\n",
    "<b>✅ Комментарий ревьюера :</b> \n",
    "\n",
    "- Метод для округления подобран корректно\n",
    "- с группировкой согласен\n",
    "</div>"
   ]
  },
  {
   "cell_type": "markdown",
   "metadata": {},
   "source": [
    "#### Сообщения\n",
    "\n",
    "Посчитаем количество отправленных сообщений по месяцам"
   ]
  },
  {
   "cell_type": "code",
   "execution_count": 8,
   "metadata": {},
   "outputs": [
    {
     "name": "stdout",
     "output_type": "stream",
     "text": [
      "<class 'pandas.core.frame.DataFrame'>\n",
      "MultiIndex: 2717 entries, (1000, 5) to (1499, 12)\n",
      "Data columns (total 1 columns):\n",
      "messages_cnt    2717 non-null int64\n",
      "dtypes: int64(1)\n",
      "memory usage: 32.7 KB\n"
     ]
    },
    {
     "data": {
      "text/html": [
       "<div>\n",
       "<style scoped>\n",
       "    .dataframe tbody tr th:only-of-type {\n",
       "        vertical-align: middle;\n",
       "    }\n",
       "\n",
       "    .dataframe tbody tr th {\n",
       "        vertical-align: top;\n",
       "    }\n",
       "\n",
       "    .dataframe thead th {\n",
       "        text-align: right;\n",
       "    }\n",
       "</style>\n",
       "<table border=\"1\" class=\"dataframe\">\n",
       "  <thead>\n",
       "    <tr style=\"text-align: right;\">\n",
       "      <th></th>\n",
       "      <th></th>\n",
       "      <th>messages_cnt</th>\n",
       "    </tr>\n",
       "    <tr>\n",
       "      <th>user_id</th>\n",
       "      <th>month</th>\n",
       "      <th></th>\n",
       "    </tr>\n",
       "  </thead>\n",
       "  <tbody>\n",
       "    <tr>\n",
       "      <td rowspan=\"5\" valign=\"top\">1000</td>\n",
       "      <td>5</td>\n",
       "      <td>22</td>\n",
       "    </tr>\n",
       "    <tr>\n",
       "      <td>6</td>\n",
       "      <td>60</td>\n",
       "    </tr>\n",
       "    <tr>\n",
       "      <td>7</td>\n",
       "      <td>75</td>\n",
       "    </tr>\n",
       "    <tr>\n",
       "      <td>8</td>\n",
       "      <td>81</td>\n",
       "    </tr>\n",
       "    <tr>\n",
       "      <td>9</td>\n",
       "      <td>57</td>\n",
       "    </tr>\n",
       "    <tr>\n",
       "      <td>...</td>\n",
       "      <td>...</td>\n",
       "      <td>...</td>\n",
       "    </tr>\n",
       "    <tr>\n",
       "      <td>1498</td>\n",
       "      <td>10</td>\n",
       "      <td>42</td>\n",
       "    </tr>\n",
       "    <tr>\n",
       "      <td rowspan=\"4\" valign=\"top\">1499</td>\n",
       "      <td>9</td>\n",
       "      <td>11</td>\n",
       "    </tr>\n",
       "    <tr>\n",
       "      <td>10</td>\n",
       "      <td>48</td>\n",
       "    </tr>\n",
       "    <tr>\n",
       "      <td>11</td>\n",
       "      <td>59</td>\n",
       "    </tr>\n",
       "    <tr>\n",
       "      <td>12</td>\n",
       "      <td>66</td>\n",
       "    </tr>\n",
       "  </tbody>\n",
       "</table>\n",
       "<p>2717 rows × 1 columns</p>\n",
       "</div>"
      ],
      "text/plain": [
       "               messages_cnt\n",
       "user_id month              \n",
       "1000    5                22\n",
       "        6                60\n",
       "        7                75\n",
       "        8                81\n",
       "        9                57\n",
       "...                     ...\n",
       "1498    10               42\n",
       "1499    9                11\n",
       "        10               48\n",
       "        11               59\n",
       "        12               66\n",
       "\n",
       "[2717 rows x 1 columns]"
      ]
     },
     "execution_count": 8,
     "metadata": {},
     "output_type": "execute_result"
    }
   ],
   "source": [
    "# собираем сводную таблицу с количеством сообщений по месяцам\n",
    "messages_summary = data['messages'].pivot_table(\n",
    "    index = ['user_id','month'], values='id', aggfunc='count')\n",
    "messages_summary.columns = ['messages_cnt']\n",
    "# выводим результат\n",
    "messages_summary.info()\n",
    "messages_summary"
   ]
  },
  {
   "cell_type": "markdown",
   "metadata": {},
   "source": [
    "#### Трафик \n",
    "\n",
    "Посчитаем объем израсходованного интернет-трафика по месяцам"
   ]
  },
  {
   "cell_type": "code",
   "execution_count": 9,
   "metadata": {},
   "outputs": [
    {
     "name": "stdout",
     "output_type": "stream",
     "text": [
      "<class 'pandas.core.frame.DataFrame'>\n",
      "MultiIndex: 3203 entries, (1000, 5) to (1499, 12)\n",
      "Data columns (total 1 columns):\n",
      "gb_cnt    3203 non-null int64\n",
      "dtypes: int64(1)\n",
      "memory usage: 38.5 KB\n"
     ]
    },
    {
     "data": {
      "text/html": [
       "<div>\n",
       "<style scoped>\n",
       "    .dataframe tbody tr th:only-of-type {\n",
       "        vertical-align: middle;\n",
       "    }\n",
       "\n",
       "    .dataframe tbody tr th {\n",
       "        vertical-align: top;\n",
       "    }\n",
       "\n",
       "    .dataframe thead th {\n",
       "        text-align: right;\n",
       "    }\n",
       "</style>\n",
       "<table border=\"1\" class=\"dataframe\">\n",
       "  <thead>\n",
       "    <tr style=\"text-align: right;\">\n",
       "      <th></th>\n",
       "      <th></th>\n",
       "      <th>gb_cnt</th>\n",
       "    </tr>\n",
       "    <tr>\n",
       "      <th>user_id</th>\n",
       "      <th>month</th>\n",
       "      <th></th>\n",
       "    </tr>\n",
       "  </thead>\n",
       "  <tbody>\n",
       "    <tr>\n",
       "      <td rowspan=\"5\" valign=\"top\">1000</td>\n",
       "      <td>5</td>\n",
       "      <td>3</td>\n",
       "    </tr>\n",
       "    <tr>\n",
       "      <td>6</td>\n",
       "      <td>23</td>\n",
       "    </tr>\n",
       "    <tr>\n",
       "      <td>7</td>\n",
       "      <td>14</td>\n",
       "    </tr>\n",
       "    <tr>\n",
       "      <td>8</td>\n",
       "      <td>14</td>\n",
       "    </tr>\n",
       "    <tr>\n",
       "      <td>9</td>\n",
       "      <td>15</td>\n",
       "    </tr>\n",
       "    <tr>\n",
       "      <td>...</td>\n",
       "      <td>...</td>\n",
       "      <td>...</td>\n",
       "    </tr>\n",
       "    <tr>\n",
       "      <td>1498</td>\n",
       "      <td>10</td>\n",
       "      <td>21</td>\n",
       "    </tr>\n",
       "    <tr>\n",
       "      <td rowspan=\"4\" valign=\"top\">1499</td>\n",
       "      <td>9</td>\n",
       "      <td>2</td>\n",
       "    </tr>\n",
       "    <tr>\n",
       "      <td>10</td>\n",
       "      <td>18</td>\n",
       "    </tr>\n",
       "    <tr>\n",
       "      <td>11</td>\n",
       "      <td>18</td>\n",
       "    </tr>\n",
       "    <tr>\n",
       "      <td>12</td>\n",
       "      <td>13</td>\n",
       "    </tr>\n",
       "  </tbody>\n",
       "</table>\n",
       "<p>3203 rows × 1 columns</p>\n",
       "</div>"
      ],
      "text/plain": [
       "               gb_cnt\n",
       "user_id month        \n",
       "1000    5           3\n",
       "        6          23\n",
       "        7          14\n",
       "        8          14\n",
       "        9          15\n",
       "...               ...\n",
       "1498    10         21\n",
       "1499    9           2\n",
       "        10         18\n",
       "        11         18\n",
       "        12         13\n",
       "\n",
       "[3203 rows x 1 columns]"
      ]
     },
     "execution_count": 9,
     "metadata": {},
     "output_type": "execute_result"
    }
   ],
   "source": [
    "# собираем сводную таблицу с суммой интернет трафика по месяцам\n",
    "internet_summary = data['internet'].pivot_table(\n",
    "    index = ['user_id','month'], values='mb_used', aggfunc='sum')\n",
    "internet_summary.columns = ['gb_cnt']\n",
    "internet_summary['gb_cnt'] = ( (internet_summary['gb_cnt'] / 1024)\n",
    "    .apply(np.ceil).astype('int') # округляем вверх, приводим к int\n",
    ")\n",
    "# выводим результат\n",
    "internet_summary.info()\n",
    "internet_summary"
   ]
  },
  {
   "cell_type": "markdown",
   "metadata": {},
   "source": [
    "<div class=\"alert alert-success\">\n",
    "<b>✅ Комментарий ревьюера :</b> \n",
    "\n",
    "- Метод для округления подобран корректно\n",
    "- с группировкой согласен\n",
    "</div>"
   ]
  },
  {
   "cell_type": "markdown",
   "metadata": {},
   "source": [
    "#### Сводная таблица"
   ]
  },
  {
   "cell_type": "markdown",
   "metadata": {},
   "source": [
    "Теперь создадим сводный датафрейм `df_summary`, в котором соберём все саггрегированные данные, необходимые для анализа. Если понадобится другая информация о пользователе, у нас остаётся таблица _users_ как справочная. Изначально, помимо *user_id* запишем туда значения из колонок *is_ultra*, *is_moscow*\n",
    "\n",
    "Чтобы объеденить более двух датасетов проще всего использовать метод `.concat()` из `pandas`. Объеденим полученные ранее сводные таблицы в одну. Укажем `axis = 1`, чтобы объединять по столбцам.\n",
    "\n",
    "При таком объединении неизбежно появятся пропуски, поскольку размеры всех сводных таблиц разные, это связано с тем, что некоторые абоненты в одном и том же месяце не использовали все три вида связи. В таком случае логично будет заполнить эти пропуски нулями."
   ]
  },
  {
   "cell_type": "code",
   "execution_count": 10,
   "metadata": {},
   "outputs": [
    {
     "name": "stdout",
     "output_type": "stream",
     "text": [
      "<class 'pandas.core.frame.DataFrame'>\n",
      "Int64Index: 3214 entries, 0 to 3213\n",
      "Data columns (total 8 columns):\n",
      "user_id         3214 non-null int64\n",
      "is_ultra        3214 non-null bool\n",
      "is_moscow       3214 non-null bool\n",
      "month           3214 non-null int64\n",
      "calls_cnt       3214 non-null int64\n",
      "minutes_cnt     3214 non-null int64\n",
      "messages_cnt    3214 non-null int64\n",
      "gb_cnt          3214 non-null int64\n",
      "dtypes: bool(2), int64(6)\n",
      "memory usage: 182.0 KB\n"
     ]
    },
    {
     "data": {
      "text/html": [
       "<div>\n",
       "<style scoped>\n",
       "    .dataframe tbody tr th:only-of-type {\n",
       "        vertical-align: middle;\n",
       "    }\n",
       "\n",
       "    .dataframe tbody tr th {\n",
       "        vertical-align: top;\n",
       "    }\n",
       "\n",
       "    .dataframe thead th {\n",
       "        text-align: right;\n",
       "    }\n",
       "</style>\n",
       "<table border=\"1\" class=\"dataframe\">\n",
       "  <thead>\n",
       "    <tr style=\"text-align: right;\">\n",
       "      <th></th>\n",
       "      <th>user_id</th>\n",
       "      <th>is_ultra</th>\n",
       "      <th>is_moscow</th>\n",
       "      <th>month</th>\n",
       "      <th>calls_cnt</th>\n",
       "      <th>minutes_cnt</th>\n",
       "      <th>messages_cnt</th>\n",
       "      <th>gb_cnt</th>\n",
       "    </tr>\n",
       "  </thead>\n",
       "  <tbody>\n",
       "    <tr>\n",
       "      <td>0</td>\n",
       "      <td>1000</td>\n",
       "      <td>True</td>\n",
       "      <td>False</td>\n",
       "      <td>5</td>\n",
       "      <td>22</td>\n",
       "      <td>159</td>\n",
       "      <td>22</td>\n",
       "      <td>3</td>\n",
       "    </tr>\n",
       "    <tr>\n",
       "      <td>1</td>\n",
       "      <td>1000</td>\n",
       "      <td>True</td>\n",
       "      <td>False</td>\n",
       "      <td>6</td>\n",
       "      <td>43</td>\n",
       "      <td>172</td>\n",
       "      <td>60</td>\n",
       "      <td>23</td>\n",
       "    </tr>\n",
       "    <tr>\n",
       "      <td>2</td>\n",
       "      <td>1000</td>\n",
       "      <td>True</td>\n",
       "      <td>False</td>\n",
       "      <td>7</td>\n",
       "      <td>47</td>\n",
       "      <td>340</td>\n",
       "      <td>75</td>\n",
       "      <td>14</td>\n",
       "    </tr>\n",
       "    <tr>\n",
       "      <td>3</td>\n",
       "      <td>1000</td>\n",
       "      <td>True</td>\n",
       "      <td>False</td>\n",
       "      <td>8</td>\n",
       "      <td>52</td>\n",
       "      <td>408</td>\n",
       "      <td>81</td>\n",
       "      <td>14</td>\n",
       "    </tr>\n",
       "    <tr>\n",
       "      <td>4</td>\n",
       "      <td>1000</td>\n",
       "      <td>True</td>\n",
       "      <td>False</td>\n",
       "      <td>9</td>\n",
       "      <td>58</td>\n",
       "      <td>466</td>\n",
       "      <td>57</td>\n",
       "      <td>15</td>\n",
       "    </tr>\n",
       "    <tr>\n",
       "      <td>...</td>\n",
       "      <td>...</td>\n",
       "      <td>...</td>\n",
       "      <td>...</td>\n",
       "      <td>...</td>\n",
       "      <td>...</td>\n",
       "      <td>...</td>\n",
       "      <td>...</td>\n",
       "      <td>...</td>\n",
       "    </tr>\n",
       "    <tr>\n",
       "      <td>3209</td>\n",
       "      <td>1498</td>\n",
       "      <td>False</td>\n",
       "      <td>False</td>\n",
       "      <td>10</td>\n",
       "      <td>41</td>\n",
       "      <td>247</td>\n",
       "      <td>42</td>\n",
       "      <td>21</td>\n",
       "    </tr>\n",
       "    <tr>\n",
       "      <td>3210</td>\n",
       "      <td>1499</td>\n",
       "      <td>False</td>\n",
       "      <td>False</td>\n",
       "      <td>9</td>\n",
       "      <td>9</td>\n",
       "      <td>70</td>\n",
       "      <td>11</td>\n",
       "      <td>2</td>\n",
       "    </tr>\n",
       "    <tr>\n",
       "      <td>3211</td>\n",
       "      <td>1499</td>\n",
       "      <td>False</td>\n",
       "      <td>False</td>\n",
       "      <td>10</td>\n",
       "      <td>68</td>\n",
       "      <td>449</td>\n",
       "      <td>48</td>\n",
       "      <td>18</td>\n",
       "    </tr>\n",
       "    <tr>\n",
       "      <td>3212</td>\n",
       "      <td>1499</td>\n",
       "      <td>False</td>\n",
       "      <td>False</td>\n",
       "      <td>11</td>\n",
       "      <td>74</td>\n",
       "      <td>612</td>\n",
       "      <td>59</td>\n",
       "      <td>18</td>\n",
       "    </tr>\n",
       "    <tr>\n",
       "      <td>3213</td>\n",
       "      <td>1499</td>\n",
       "      <td>False</td>\n",
       "      <td>False</td>\n",
       "      <td>12</td>\n",
       "      <td>69</td>\n",
       "      <td>492</td>\n",
       "      <td>66</td>\n",
       "      <td>13</td>\n",
       "    </tr>\n",
       "  </tbody>\n",
       "</table>\n",
       "<p>3214 rows × 8 columns</p>\n",
       "</div>"
      ],
      "text/plain": [
       "      user_id  is_ultra  is_moscow  month  calls_cnt  minutes_cnt  \\\n",
       "0        1000      True      False      5         22          159   \n",
       "1        1000      True      False      6         43          172   \n",
       "2        1000      True      False      7         47          340   \n",
       "3        1000      True      False      8         52          408   \n",
       "4        1000      True      False      9         58          466   \n",
       "...       ...       ...        ...    ...        ...          ...   \n",
       "3209     1498     False      False     10         41          247   \n",
       "3210     1499     False      False      9          9           70   \n",
       "3211     1499     False      False     10         68          449   \n",
       "3212     1499     False      False     11         74          612   \n",
       "3213     1499     False      False     12         69          492   \n",
       "\n",
       "      messages_cnt  gb_cnt  \n",
       "0               22       3  \n",
       "1               60      23  \n",
       "2               75      14  \n",
       "3               81      14  \n",
       "4               57      15  \n",
       "...            ...     ...  \n",
       "3209            42      21  \n",
       "3210            11       2  \n",
       "3211            48      18  \n",
       "3212            59      18  \n",
       "3213            66      13  \n",
       "\n",
       "[3214 rows x 8 columns]"
      ]
     },
     "execution_count": 10,
     "metadata": {},
     "output_type": "execute_result"
    }
   ],
   "source": [
    "# датафрейм с аггрегированными данными\n",
    "df_summary = df_u[['user_id','is_ultra','is_moscow']]\n",
    "\n",
    "# df_summary объединяем с общей сводной таблицей, которую получаем конкатенацией \n",
    "# по столбцам сводных таблиц для звонков, сообщений и трафика \n",
    "df_summary = df_summary.merge( \n",
    "    pd.concat([calls_summary, messages_summary, internet_summary], axis=1)\n",
    "    .fillna(0).astype('int') # заполняем пропуски, возвращаем назад тип int\n",
    "    .reset_index()           # избавляемся от мультииндекса\n",
    ")\n",
    "\n",
    "# можем удалить промежуточные сводные таблицы\n",
    "del calls_summary, messages_summary, internet_summary\n",
    "\n",
    "df_summary.info()\n",
    "df_summary"
   ]
  },
  {
   "cell_type": "markdown",
   "metadata": {},
   "source": [
    "<div class=\"alert alert-success\">\n",
    "<b>✅ Комментарий ревьюера :</b> \n",
    "\n",
    "- Типы соединений подобраны корректно, все данные учтены\n",
    "- Отлично, с заполнением согласен, этими услугами просто не пользовались\n",
    "</div>"
   ]
  },
  {
   "cell_type": "markdown",
   "metadata": {},
   "source": [
    "Таблица готова, посчитаем выручку"
   ]
  },
  {
   "cell_type": "markdown",
   "metadata": {},
   "source": [
    "#### Выручка\n",
    "\n",
    "Посчитаем помесячную выручку с каждого пользователя. Для этого напишем функцию, которую применим к каждой строке. \n",
    "Для удобства извлечения параметров тарифа внутри функции получим на основе таблицы _tariffs_ список из двух словарей. В таблице 2 строки, каждая соотвествует одному тарифу. Таким образом, индекс списка будет соответсвовать значению столбца `is_ultra` для абонента, по нему можно будет сразу извлечь из списка словарь для соответсвующего тарифа. Для этого применим метод `to_dict` к датафрейму тарифов. \n",
    "\n",
    "Функция `set_total_fee` извлекает абонентскую плату из словаря для тарифа, соответсвующего абоненту,\n",
    "затем в случае, если по заданному виду связи превышен бесплатный лимит, то он вычитается из суммарного количества, остаток умножается на значение стоимости из тарифного плана"
   ]
  },
  {
   "cell_type": "code",
   "execution_count": 11,
   "metadata": {},
   "outputs": [
    {
     "data": {
      "text/plain": [
       "[{'tariff_name': 'smart',\n",
       "  'gb_included': 15,\n",
       "  'messages_included': 50,\n",
       "  'minutes_included': 500,\n",
       "  'rub_monthly_fee': 550,\n",
       "  'rub_per_gb': 200,\n",
       "  'rub_per_message': 3,\n",
       "  'rub_per_minute': 3},\n",
       " {'tariff_name': 'ultra',\n",
       "  'gb_included': 30,\n",
       "  'messages_included': 1000,\n",
       "  'minutes_included': 3000,\n",
       "  'rub_monthly_fee': 1950,\n",
       "  'rub_per_gb': 150,\n",
       "  'rub_per_message': 1,\n",
       "  'rub_per_minute': 1}]"
      ]
     },
     "metadata": {},
     "output_type": "display_data"
    },
    {
     "data": {
      "text/html": [
       "<div>\n",
       "<style scoped>\n",
       "    .dataframe tbody tr th:only-of-type {\n",
       "        vertical-align: middle;\n",
       "    }\n",
       "\n",
       "    .dataframe tbody tr th {\n",
       "        vertical-align: top;\n",
       "    }\n",
       "\n",
       "    .dataframe thead th {\n",
       "        text-align: right;\n",
       "    }\n",
       "</style>\n",
       "<table border=\"1\" class=\"dataframe\">\n",
       "  <thead>\n",
       "    <tr style=\"text-align: right;\">\n",
       "      <th></th>\n",
       "      <th>user_id</th>\n",
       "      <th>is_ultra</th>\n",
       "      <th>is_moscow</th>\n",
       "      <th>month</th>\n",
       "      <th>calls_cnt</th>\n",
       "      <th>minutes_cnt</th>\n",
       "      <th>messages_cnt</th>\n",
       "      <th>gb_cnt</th>\n",
       "      <th>total_fee</th>\n",
       "    </tr>\n",
       "  </thead>\n",
       "  <tbody>\n",
       "    <tr>\n",
       "      <td>0</td>\n",
       "      <td>1000</td>\n",
       "      <td>True</td>\n",
       "      <td>False</td>\n",
       "      <td>5</td>\n",
       "      <td>22</td>\n",
       "      <td>159</td>\n",
       "      <td>22</td>\n",
       "      <td>3</td>\n",
       "      <td>1950</td>\n",
       "    </tr>\n",
       "    <tr>\n",
       "      <td>1</td>\n",
       "      <td>1000</td>\n",
       "      <td>True</td>\n",
       "      <td>False</td>\n",
       "      <td>6</td>\n",
       "      <td>43</td>\n",
       "      <td>172</td>\n",
       "      <td>60</td>\n",
       "      <td>23</td>\n",
       "      <td>1950</td>\n",
       "    </tr>\n",
       "    <tr>\n",
       "      <td>2</td>\n",
       "      <td>1000</td>\n",
       "      <td>True</td>\n",
       "      <td>False</td>\n",
       "      <td>7</td>\n",
       "      <td>47</td>\n",
       "      <td>340</td>\n",
       "      <td>75</td>\n",
       "      <td>14</td>\n",
       "      <td>1950</td>\n",
       "    </tr>\n",
       "    <tr>\n",
       "      <td>3</td>\n",
       "      <td>1000</td>\n",
       "      <td>True</td>\n",
       "      <td>False</td>\n",
       "      <td>8</td>\n",
       "      <td>52</td>\n",
       "      <td>408</td>\n",
       "      <td>81</td>\n",
       "      <td>14</td>\n",
       "      <td>1950</td>\n",
       "    </tr>\n",
       "    <tr>\n",
       "      <td>4</td>\n",
       "      <td>1000</td>\n",
       "      <td>True</td>\n",
       "      <td>False</td>\n",
       "      <td>9</td>\n",
       "      <td>58</td>\n",
       "      <td>466</td>\n",
       "      <td>57</td>\n",
       "      <td>15</td>\n",
       "      <td>1950</td>\n",
       "    </tr>\n",
       "    <tr>\n",
       "      <td>...</td>\n",
       "      <td>...</td>\n",
       "      <td>...</td>\n",
       "      <td>...</td>\n",
       "      <td>...</td>\n",
       "      <td>...</td>\n",
       "      <td>...</td>\n",
       "      <td>...</td>\n",
       "      <td>...</td>\n",
       "      <td>...</td>\n",
       "    </tr>\n",
       "    <tr>\n",
       "      <td>3209</td>\n",
       "      <td>1498</td>\n",
       "      <td>False</td>\n",
       "      <td>False</td>\n",
       "      <td>10</td>\n",
       "      <td>41</td>\n",
       "      <td>247</td>\n",
       "      <td>42</td>\n",
       "      <td>21</td>\n",
       "      <td>1750</td>\n",
       "    </tr>\n",
       "    <tr>\n",
       "      <td>3210</td>\n",
       "      <td>1499</td>\n",
       "      <td>False</td>\n",
       "      <td>False</td>\n",
       "      <td>9</td>\n",
       "      <td>9</td>\n",
       "      <td>70</td>\n",
       "      <td>11</td>\n",
       "      <td>2</td>\n",
       "      <td>550</td>\n",
       "    </tr>\n",
       "    <tr>\n",
       "      <td>3211</td>\n",
       "      <td>1499</td>\n",
       "      <td>False</td>\n",
       "      <td>False</td>\n",
       "      <td>10</td>\n",
       "      <td>68</td>\n",
       "      <td>449</td>\n",
       "      <td>48</td>\n",
       "      <td>18</td>\n",
       "      <td>1150</td>\n",
       "    </tr>\n",
       "    <tr>\n",
       "      <td>3212</td>\n",
       "      <td>1499</td>\n",
       "      <td>False</td>\n",
       "      <td>False</td>\n",
       "      <td>11</td>\n",
       "      <td>74</td>\n",
       "      <td>612</td>\n",
       "      <td>59</td>\n",
       "      <td>18</td>\n",
       "      <td>1513</td>\n",
       "    </tr>\n",
       "    <tr>\n",
       "      <td>3213</td>\n",
       "      <td>1499</td>\n",
       "      <td>False</td>\n",
       "      <td>False</td>\n",
       "      <td>12</td>\n",
       "      <td>69</td>\n",
       "      <td>492</td>\n",
       "      <td>66</td>\n",
       "      <td>13</td>\n",
       "      <td>598</td>\n",
       "    </tr>\n",
       "  </tbody>\n",
       "</table>\n",
       "<p>3214 rows × 9 columns</p>\n",
       "</div>"
      ],
      "text/plain": [
       "      user_id  is_ultra  is_moscow  month  calls_cnt  minutes_cnt  \\\n",
       "0        1000      True      False      5         22          159   \n",
       "1        1000      True      False      6         43          172   \n",
       "2        1000      True      False      7         47          340   \n",
       "3        1000      True      False      8         52          408   \n",
       "4        1000      True      False      9         58          466   \n",
       "...       ...       ...        ...    ...        ...          ...   \n",
       "3209     1498     False      False     10         41          247   \n",
       "3210     1499     False      False      9          9           70   \n",
       "3211     1499     False      False     10         68          449   \n",
       "3212     1499     False      False     11         74          612   \n",
       "3213     1499     False      False     12         69          492   \n",
       "\n",
       "      messages_cnt  gb_cnt  total_fee  \n",
       "0               22       3       1950  \n",
       "1               60      23       1950  \n",
       "2               75      14       1950  \n",
       "3               81      14       1950  \n",
       "4               57      15       1950  \n",
       "...            ...     ...        ...  \n",
       "3209            42      21       1750  \n",
       "3210            11       2        550  \n",
       "3211            48      18       1150  \n",
       "3212            59      18       1513  \n",
       "3213            66      13        598  \n",
       "\n",
       "[3214 rows x 9 columns]"
      ]
     },
     "execution_count": 11,
     "metadata": {},
     "output_type": "execute_result"
    }
   ],
   "source": [
    "# Метод to_dict() вернёт словарь из двух словарей, поскольку в таблице две строки. \n",
    "# из основного словаря мы возьмём только значения и завернём их в list()\n",
    "tariffs = list(df_t\n",
    "    .drop('mb_per_month_included',axis=1) # избавляемся от ненужного в словаре значения\n",
    "    .iloc[:,[6,7,0,1,2,3,4,5]] # переупорядочиваем столбцы (необязательно)\n",
    "    .to_dict('index').values() # преобразовываем в словарь\n",
    ")\n",
    "display(tariffs)\n",
    "\n",
    "# функция подсчёта стоимости связи за месяц\n",
    "def set_total_fee(r):\n",
    "    \"\"\"\n",
    "    рассчитывает сумму трат за месяц для строки r\n",
    "    \"\"\"\n",
    "    # получаем тариф из словаря\n",
    "    t = tariffs[r['is_ultra']]\n",
    "    # абонентская плата, снимается в любом случае\n",
    "    fee = t['rub_monthly_fee']\n",
    "    # проверяем, превышены ли включённые в тариф пакеты. Если да, то\n",
    "    # умножаем на цену за шт. и прибавляем к стоимости\n",
    "    # интернет\n",
    "    if r['gb_cnt'] > t['gb_included']:\n",
    "        fee += (r['gb_cnt'] - t['gb_included']) * t['rub_per_gb']\n",
    "    # сообщения\n",
    "    if r['messages_cnt'] > t['messages_included']:\n",
    "        fee += (r['messages_cnt'] - t['messages_included']) * t['rub_per_message']\n",
    "    # минуты\n",
    "    if r['minutes_cnt'] > t['minutes_included']:\n",
    "        fee += (r['minutes_cnt'] - t['minutes_included']) * t['rub_per_minute']\n",
    "    \n",
    "    return fee\n",
    "\n",
    "df_summary['total_fee'] = df_summary.apply(set_total_fee, axis=1)\n",
    "df_summary"
   ]
  },
  {
   "cell_type": "markdown",
   "metadata": {},
   "source": [
    "<div class=\"alert alert-success\">\n",
    "<b>✅ Комментарий ревьюера :</b> \n",
    "\n",
    "Расчет выручки корректен\n",
    "</div>"
   ]
  },
  {
   "cell_type": "markdown",
   "metadata": {},
   "source": [
    "Сохраним данные для разных тарифов в отдельные датафреймы для удобства"
   ]
  },
  {
   "cell_type": "code",
   "execution_count": 12,
   "metadata": {},
   "outputs": [],
   "source": [
    "df_ultra = df_summary.query('is_ultra').drop('is_ultra', axis=1)\n",
    "df_ultra.name = 'Тариф УЛЬТРА'\n",
    "df_smart = df_summary.query('not is_ultra').drop('is_ultra', axis=1)\n",
    "df_smart.name = 'Тариф СМАРТ'"
   ]
  },
  {
   "cell_type": "markdown",
   "metadata": {},
   "source": [
    "## Анализ данных"
   ]
  },
  {
   "cell_type": "markdown",
   "metadata": {},
   "source": [
    "### Функции для вывода\n",
    "\n",
    "Напишем несколько функций, которые упростят вывод результатов при анализе данных"
   ]
  },
  {
   "cell_type": "code",
   "execution_count": 13,
   "metadata": {},
   "outputs": [],
   "source": [
    "# Стилизованная матрица коррелляции\n",
    "def styled_corr(df, cols):\n",
    "    '''\n",
    "    Матрица коррелляции для колонок cols из датасета df\n",
    "    '''\n",
    "    return (\n",
    "        df[cols].corr()\n",
    "        .style.background_gradient(cmap='coolwarm') #, vmin=-1, vmax=1) в pandas=0.25 не работает\n",
    "        .set_precision(2) # количество знаков после запятой\n",
    "    ) \n",
    "\n",
    "# Диаграммы размаха\n",
    "def show_boxplots(df, cols, title='Диаграммы размаха'):\n",
    "    '''\n",
    "    Диаграммы размаха для колонок cols из датасета df\n",
    "    '''\n",
    "    # строим диаграммы размаха\n",
    "    # инициализируем фигуру для диаграмм размаха, задаём для каждого столбца из списка свой subplot\n",
    "    _, axes = plt.subplots(1, len(cols), figsize=(12,7))\n",
    "    for i, ax in enumerate(axes.flat): # flat - метод numpy, преобразует в одномерный массив\n",
    "        ax.boxplot( df[df[cols[i]].notna()][cols[i]] ) # строим диаграмму размаха, отфильтровав пропуски \n",
    "        ax.set_title(cols[i], fontsize=14) # заголовок\n",
    "        ax.tick_params(axis='y', labelsize=12)\n",
    "        plt.suptitle(title, fontsize=14)\n",
    "    plt.show(); #tight_layout()\n",
    "\n",
    "# Матрица рассеяния\n",
    "def show_scatter_matrix(df, cols, alpha=0.3, figsize=(12,10), title='Матрица рассеяния'):\n",
    "    '''\n",
    "    Матрицы рассеяния для колонок cols из датасета df\n",
    "    '''\n",
    "    # строим матрицы рассеяния и гистограммы\n",
    "    pd.plotting.scatter_matrix(df[cols], alpha=alpha, figsize=figsize);\n",
    "    plt.suptitle(title, fontsize=14, y=0.92)\n",
    "\n",
    "# Диаграммы размаха и гистограммы\n",
    "def show_boxplot_and_hist(df1, df2, col, bins=50, ylim=None,\n",
    "    title = 'Распределение значений', \n",
    "    xlabel = None, ylabel = 'Плотность'):\n",
    "    '''\n",
    "    Функция построения гистограмм и диаграмм размаха для столбца col датафреймов df1 и df2\n",
    "    bins задаёт число корзин для гистограммы, по умолчанию 100\n",
    "    title - задаёт название графика\n",
    "    xlabel, ylabel - подписи к осям\n",
    "    '''\n",
    "    # создаём 3 сабплота, указываем для них соотношение занимаемой высоты\n",
    "    _, (ax_box1, ax_box2, ax_hist) = plt.subplots(3, sharex=True, \n",
    "        gridspec_kw={\"height_ratios\": (.12, .12, .76)}, figsize=(12,10))\n",
    "    \n",
    "    if col in df1.columns and col in df2.columns:\n",
    "        # добавляем диаграммы размаха, рисуем каждый на отдельном полотне ax_box{i}\n",
    "        sns.boxplot(x = df1[col], ax=ax_box1, color='blue')\n",
    "        sns.boxplot(x = df2[col], ax=ax_box2, color='green')\n",
    "        # добавляем гистограммы с функциями распределения на одном полотне ax_hist\n",
    "        sns.distplot(df1[col], ax=ax_hist, bins=bins, color='blue')\n",
    "        sns.distplot(df2[col], ax=ax_hist, bins=bins, color='green')\n",
    "        \n",
    "        if xlabel is None:  xlabel = col\n",
    "        # удалим подпись графика для boxplot, чтобы не дублировалась\n",
    "        ax_box1.set(xlabel='')\n",
    "        ax_box2.set(xlabel='')\n",
    "        # передаём параметры\n",
    "        ax_hist.set(xlabel=xlabel, ylabel=ylabel, ylim=[0, ylim])\n",
    "        ax_hist.grid(visible=True)\n",
    "        plt.suptitle(title, y = 0.92, fontsize=14)\n",
    "        # добавляем подписи для легенды\n",
    "        try: \n",
    "            plt.legend([df1.name, df2.name])\n",
    "        except: \n",
    "            plt.legend(['df1', 'df2'])\n",
    "    else:\n",
    "        print('Столбец', col, 'отсутсвует в каком-то из датафреймов')\n",
    "\n",
    "\n",
    "# колонки, значения в которых будем анализировать\n",
    "cols = ['calls_cnt','minutes_cnt','messages_cnt','gb_cnt','total_fee']"
   ]
  },
  {
   "cell_type": "markdown",
   "metadata": {},
   "source": [
    "### Коэффициенты корреляции\n",
    "\n",
    "Посмотрим как данные кореллируют друг с другом"
   ]
  },
  {
   "cell_type": "code",
   "execution_count": 14,
   "metadata": {},
   "outputs": [
    {
     "data": {
      "text/markdown": [
       "**Общие коэффициенты корреляции**"
      ],
      "text/plain": [
       "<IPython.core.display.Markdown object>"
      ]
     },
     "metadata": {},
     "output_type": "display_data"
    },
    {
     "data": {
      "text/html": [
       "<style  type=\"text/css\" >\n",
       "    #T_b223f928_8477_11ec_ae51_02420a397c13row0_col0 {\n",
       "            background-color:  #b40426;\n",
       "            color:  #f1f1f1;\n",
       "        }    #T_b223f928_8477_11ec_ae51_02420a397c13row0_col1 {\n",
       "            background-color:  #bb1b2c;\n",
       "            color:  #f1f1f1;\n",
       "        }    #T_b223f928_8477_11ec_ae51_02420a397c13row0_col2 {\n",
       "            background-color:  #3d50c3;\n",
       "            color:  #f1f1f1;\n",
       "        }    #T_b223f928_8477_11ec_ae51_02420a397c13row0_col3 {\n",
       "            background-color:  #5d7ce6;\n",
       "            color:  #000000;\n",
       "        }    #T_b223f928_8477_11ec_ae51_02420a397c13row0_col4 {\n",
       "            background-color:  #7da0f9;\n",
       "            color:  #000000;\n",
       "        }    #T_b223f928_8477_11ec_ae51_02420a397c13row1_col0 {\n",
       "            background-color:  #bb1b2c;\n",
       "            color:  #f1f1f1;\n",
       "        }    #T_b223f928_8477_11ec_ae51_02420a397c13row1_col1 {\n",
       "            background-color:  #b40426;\n",
       "            color:  #f1f1f1;\n",
       "        }    #T_b223f928_8477_11ec_ae51_02420a397c13row1_col2 {\n",
       "            background-color:  #3c4ec2;\n",
       "            color:  #f1f1f1;\n",
       "        }    #T_b223f928_8477_11ec_ae51_02420a397c13row1_col3 {\n",
       "            background-color:  #5a78e4;\n",
       "            color:  #000000;\n",
       "        }    #T_b223f928_8477_11ec_ae51_02420a397c13row1_col4 {\n",
       "            background-color:  #7ea1fa;\n",
       "            color:  #000000;\n",
       "        }    #T_b223f928_8477_11ec_ae51_02420a397c13row2_col0 {\n",
       "            background-color:  #3b4cc0;\n",
       "            color:  #f1f1f1;\n",
       "        }    #T_b223f928_8477_11ec_ae51_02420a397c13row2_col1 {\n",
       "            background-color:  #3b4cc0;\n",
       "            color:  #f1f1f1;\n",
       "        }    #T_b223f928_8477_11ec_ae51_02420a397c13row2_col2 {\n",
       "            background-color:  #b40426;\n",
       "            color:  #f1f1f1;\n",
       "        }    #T_b223f928_8477_11ec_ae51_02420a397c13row2_col3 {\n",
       "            background-color:  #3b4cc0;\n",
       "            color:  #f1f1f1;\n",
       "        }    #T_b223f928_8477_11ec_ae51_02420a397c13row2_col4 {\n",
       "            background-color:  #3b4cc0;\n",
       "            color:  #f1f1f1;\n",
       "        }    #T_b223f928_8477_11ec_ae51_02420a397c13row3_col0 {\n",
       "            background-color:  #6384eb;\n",
       "            color:  #000000;\n",
       "        }    #T_b223f928_8477_11ec_ae51_02420a397c13row3_col1 {\n",
       "            background-color:  #6384eb;\n",
       "            color:  #000000;\n",
       "        }    #T_b223f928_8477_11ec_ae51_02420a397c13row3_col2 {\n",
       "            background-color:  #445acc;\n",
       "            color:  #f1f1f1;\n",
       "        }    #T_b223f928_8477_11ec_ae51_02420a397c13row3_col3 {\n",
       "            background-color:  #b40426;\n",
       "            color:  #f1f1f1;\n",
       "        }    #T_b223f928_8477_11ec_ae51_02420a397c13row3_col4 {\n",
       "            background-color:  #f3c8b2;\n",
       "            color:  #000000;\n",
       "        }    #T_b223f928_8477_11ec_ae51_02420a397c13row4_col0 {\n",
       "            background-color:  #7a9df8;\n",
       "            color:  #000000;\n",
       "        }    #T_b223f928_8477_11ec_ae51_02420a397c13row4_col1 {\n",
       "            background-color:  #7da0f9;\n",
       "            color:  #000000;\n",
       "        }    #T_b223f928_8477_11ec_ae51_02420a397c13row4_col2 {\n",
       "            background-color:  #3b4cc0;\n",
       "            color:  #f1f1f1;\n",
       "        }    #T_b223f928_8477_11ec_ae51_02420a397c13row4_col3 {\n",
       "            background-color:  #f2cbb7;\n",
       "            color:  #000000;\n",
       "        }    #T_b223f928_8477_11ec_ae51_02420a397c13row4_col4 {\n",
       "            background-color:  #b40426;\n",
       "            color:  #f1f1f1;\n",
       "        }</style><table id=\"T_b223f928_8477_11ec_ae51_02420a397c13\" ><thead>    <tr>        <th class=\"blank level0\" ></th>        <th class=\"col_heading level0 col0\" >calls_cnt</th>        <th class=\"col_heading level0 col1\" >minutes_cnt</th>        <th class=\"col_heading level0 col2\" >messages_cnt</th>        <th class=\"col_heading level0 col3\" >gb_cnt</th>        <th class=\"col_heading level0 col4\" >total_fee</th>    </tr></thead><tbody>\n",
       "                <tr>\n",
       "                        <th id=\"T_b223f928_8477_11ec_ae51_02420a397c13level0_row0\" class=\"row_heading level0 row0\" >calls_cnt</th>\n",
       "                        <td id=\"T_b223f928_8477_11ec_ae51_02420a397c13row0_col0\" class=\"data row0 col0\" >1</td>\n",
       "                        <td id=\"T_b223f928_8477_11ec_ae51_02420a397c13row0_col1\" class=\"data row0 col1\" >0.98</td>\n",
       "                        <td id=\"T_b223f928_8477_11ec_ae51_02420a397c13row0_col2\" class=\"data row0 col2\" >0.18</td>\n",
       "                        <td id=\"T_b223f928_8477_11ec_ae51_02420a397c13row0_col3\" class=\"data row0 col3\" >0.29</td>\n",
       "                        <td id=\"T_b223f928_8477_11ec_ae51_02420a397c13row0_col4\" class=\"data row0 col4\" >0.34</td>\n",
       "            </tr>\n",
       "            <tr>\n",
       "                        <th id=\"T_b223f928_8477_11ec_ae51_02420a397c13level0_row1\" class=\"row_heading level0 row1\" >minutes_cnt</th>\n",
       "                        <td id=\"T_b223f928_8477_11ec_ae51_02420a397c13row1_col0\" class=\"data row1 col0\" >0.98</td>\n",
       "                        <td id=\"T_b223f928_8477_11ec_ae51_02420a397c13row1_col1\" class=\"data row1 col1\" >1</td>\n",
       "                        <td id=\"T_b223f928_8477_11ec_ae51_02420a397c13row1_col2\" class=\"data row1 col2\" >0.17</td>\n",
       "                        <td id=\"T_b223f928_8477_11ec_ae51_02420a397c13row1_col3\" class=\"data row1 col3\" >0.28</td>\n",
       "                        <td id=\"T_b223f928_8477_11ec_ae51_02420a397c13row1_col4\" class=\"data row1 col4\" >0.34</td>\n",
       "            </tr>\n",
       "            <tr>\n",
       "                        <th id=\"T_b223f928_8477_11ec_ae51_02420a397c13level0_row2\" class=\"row_heading level0 row2\" >messages_cnt</th>\n",
       "                        <td id=\"T_b223f928_8477_11ec_ae51_02420a397c13row2_col0\" class=\"data row2 col0\" >0.18</td>\n",
       "                        <td id=\"T_b223f928_8477_11ec_ae51_02420a397c13row2_col1\" class=\"data row2 col1\" >0.17</td>\n",
       "                        <td id=\"T_b223f928_8477_11ec_ae51_02420a397c13row2_col2\" class=\"data row2 col2\" >1</td>\n",
       "                        <td id=\"T_b223f928_8477_11ec_ae51_02420a397c13row2_col3\" class=\"data row2 col3\" >0.2</td>\n",
       "                        <td id=\"T_b223f928_8477_11ec_ae51_02420a397c13row2_col4\" class=\"data row2 col4\" >0.17</td>\n",
       "            </tr>\n",
       "            <tr>\n",
       "                        <th id=\"T_b223f928_8477_11ec_ae51_02420a397c13level0_row3\" class=\"row_heading level0 row3\" >gb_cnt</th>\n",
       "                        <td id=\"T_b223f928_8477_11ec_ae51_02420a397c13row3_col0\" class=\"data row3 col0\" >0.29</td>\n",
       "                        <td id=\"T_b223f928_8477_11ec_ae51_02420a397c13row3_col1\" class=\"data row3 col1\" >0.28</td>\n",
       "                        <td id=\"T_b223f928_8477_11ec_ae51_02420a397c13row3_col2\" class=\"data row3 col2\" >0.2</td>\n",
       "                        <td id=\"T_b223f928_8477_11ec_ae51_02420a397c13row3_col3\" class=\"data row3 col3\" >1</td>\n",
       "                        <td id=\"T_b223f928_8477_11ec_ae51_02420a397c13row3_col4\" class=\"data row3 col4\" >0.68</td>\n",
       "            </tr>\n",
       "            <tr>\n",
       "                        <th id=\"T_b223f928_8477_11ec_ae51_02420a397c13level0_row4\" class=\"row_heading level0 row4\" >total_fee</th>\n",
       "                        <td id=\"T_b223f928_8477_11ec_ae51_02420a397c13row4_col0\" class=\"data row4 col0\" >0.34</td>\n",
       "                        <td id=\"T_b223f928_8477_11ec_ae51_02420a397c13row4_col1\" class=\"data row4 col1\" >0.34</td>\n",
       "                        <td id=\"T_b223f928_8477_11ec_ae51_02420a397c13row4_col2\" class=\"data row4 col2\" >0.17</td>\n",
       "                        <td id=\"T_b223f928_8477_11ec_ae51_02420a397c13row4_col3\" class=\"data row4 col3\" >0.68</td>\n",
       "                        <td id=\"T_b223f928_8477_11ec_ae51_02420a397c13row4_col4\" class=\"data row4 col4\" >1</td>\n",
       "            </tr>\n",
       "    </tbody></table>"
      ],
      "text/plain": [
       "<pandas.io.formats.style.Styler at 0x7f2a4d0cdb90>"
      ]
     },
     "metadata": {},
     "output_type": "display_data"
    },
    {
     "data": {
      "text/markdown": [
       "Коэффициенты корреляции для тарифа **ultra**"
      ],
      "text/plain": [
       "<IPython.core.display.Markdown object>"
      ]
     },
     "metadata": {},
     "output_type": "display_data"
    },
    {
     "data": {
      "text/html": [
       "<style  type=\"text/css\" >\n",
       "    #T_b2369092_8477_11ec_ae51_02420a397c13row0_col0 {\n",
       "            background-color:  #b40426;\n",
       "            color:  #f1f1f1;\n",
       "        }    #T_b2369092_8477_11ec_ae51_02420a397c13row0_col1 {\n",
       "            background-color:  #b8122a;\n",
       "            color:  #f1f1f1;\n",
       "        }    #T_b2369092_8477_11ec_ae51_02420a397c13row0_col2 {\n",
       "            background-color:  #4f69d9;\n",
       "            color:  #000000;\n",
       "        }    #T_b2369092_8477_11ec_ae51_02420a397c13row0_col3 {\n",
       "            background-color:  #3b4cc0;\n",
       "            color:  #f1f1f1;\n",
       "        }    #T_b2369092_8477_11ec_ae51_02420a397c13row0_col4 {\n",
       "            background-color:  #4e68d8;\n",
       "            color:  #000000;\n",
       "        }    #T_b2369092_8477_11ec_ae51_02420a397c13row1_col0 {\n",
       "            background-color:  #b8122a;\n",
       "            color:  #f1f1f1;\n",
       "        }    #T_b2369092_8477_11ec_ae51_02420a397c13row1_col1 {\n",
       "            background-color:  #b40426;\n",
       "            color:  #f1f1f1;\n",
       "        }    #T_b2369092_8477_11ec_ae51_02420a397c13row1_col2 {\n",
       "            background-color:  #4e68d8;\n",
       "            color:  #000000;\n",
       "        }    #T_b2369092_8477_11ec_ae51_02420a397c13row1_col3 {\n",
       "            background-color:  #3b4cc0;\n",
       "            color:  #f1f1f1;\n",
       "        }    #T_b2369092_8477_11ec_ae51_02420a397c13row1_col4 {\n",
       "            background-color:  #506bda;\n",
       "            color:  #000000;\n",
       "        }    #T_b2369092_8477_11ec_ae51_02420a397c13row2_col0 {\n",
       "            background-color:  #3c4ec2;\n",
       "            color:  #f1f1f1;\n",
       "        }    #T_b2369092_8477_11ec_ae51_02420a397c13row2_col1 {\n",
       "            background-color:  #3b4cc0;\n",
       "            color:  #f1f1f1;\n",
       "        }    #T_b2369092_8477_11ec_ae51_02420a397c13row2_col2 {\n",
       "            background-color:  #b40426;\n",
       "            color:  #f1f1f1;\n",
       "        }    #T_b2369092_8477_11ec_ae51_02420a397c13row2_col3 {\n",
       "            background-color:  #3b4cc0;\n",
       "            color:  #f1f1f1;\n",
       "        }    #T_b2369092_8477_11ec_ae51_02420a397c13row2_col4 {\n",
       "            background-color:  #3b4cc0;\n",
       "            color:  #f1f1f1;\n",
       "        }    #T_b2369092_8477_11ec_ae51_02420a397c13row3_col0 {\n",
       "            background-color:  #5977e3;\n",
       "            color:  #000000;\n",
       "        }    #T_b2369092_8477_11ec_ae51_02420a397c13row3_col1 {\n",
       "            background-color:  #5a78e4;\n",
       "            color:  #000000;\n",
       "        }    #T_b2369092_8477_11ec_ae51_02420a397c13row3_col2 {\n",
       "            background-color:  #6c8ff1;\n",
       "            color:  #000000;\n",
       "        }    #T_b2369092_8477_11ec_ae51_02420a397c13row3_col3 {\n",
       "            background-color:  #b40426;\n",
       "            color:  #f1f1f1;\n",
       "        }    #T_b2369092_8477_11ec_ae51_02420a397c13row3_col4 {\n",
       "            background-color:  #f3c7b1;\n",
       "            color:  #000000;\n",
       "        }    #T_b2369092_8477_11ec_ae51_02420a397c13row4_col0 {\n",
       "            background-color:  #3b4cc0;\n",
       "            color:  #f1f1f1;\n",
       "        }    #T_b2369092_8477_11ec_ae51_02420a397c13row4_col1 {\n",
       "            background-color:  #3d50c3;\n",
       "            color:  #f1f1f1;\n",
       "        }    #T_b2369092_8477_11ec_ae51_02420a397c13row4_col2 {\n",
       "            background-color:  #3b4cc0;\n",
       "            color:  #f1f1f1;\n",
       "        }    #T_b2369092_8477_11ec_ae51_02420a397c13row4_col3 {\n",
       "            background-color:  #e7d7ce;\n",
       "            color:  #000000;\n",
       "        }    #T_b2369092_8477_11ec_ae51_02420a397c13row4_col4 {\n",
       "            background-color:  #b40426;\n",
       "            color:  #f1f1f1;\n",
       "        }</style><table id=\"T_b2369092_8477_11ec_ae51_02420a397c13\" ><thead>    <tr>        <th class=\"blank level0\" ></th>        <th class=\"col_heading level0 col0\" >calls_cnt</th>        <th class=\"col_heading level0 col1\" >minutes_cnt</th>        <th class=\"col_heading level0 col2\" >messages_cnt</th>        <th class=\"col_heading level0 col3\" >gb_cnt</th>        <th class=\"col_heading level0 col4\" >total_fee</th>    </tr></thead><tbody>\n",
       "                <tr>\n",
       "                        <th id=\"T_b2369092_8477_11ec_ae51_02420a397c13level0_row0\" class=\"row_heading level0 row0\" >calls_cnt</th>\n",
       "                        <td id=\"T_b2369092_8477_11ec_ae51_02420a397c13row0_col0\" class=\"data row0 col0\" >1</td>\n",
       "                        <td id=\"T_b2369092_8477_11ec_ae51_02420a397c13row0_col1\" class=\"data row0 col1\" >0.99</td>\n",
       "                        <td id=\"T_b2369092_8477_11ec_ae51_02420a397c13row0_col2\" class=\"data row0 col2\" >0.088</td>\n",
       "                        <td id=\"T_b2369092_8477_11ec_ae51_02420a397c13row0_col3\" class=\"data row0 col3\" >0.18</td>\n",
       "                        <td id=\"T_b2369092_8477_11ec_ae51_02420a397c13row0_col4\" class=\"data row0 col4\" >0.083</td>\n",
       "            </tr>\n",
       "            <tr>\n",
       "                        <th id=\"T_b2369092_8477_11ec_ae51_02420a397c13level0_row1\" class=\"row_heading level0 row1\" >minutes_cnt</th>\n",
       "                        <td id=\"T_b2369092_8477_11ec_ae51_02420a397c13row1_col0\" class=\"data row1 col0\" >0.99</td>\n",
       "                        <td id=\"T_b2369092_8477_11ec_ae51_02420a397c13row1_col1\" class=\"data row1 col1\" >1</td>\n",
       "                        <td id=\"T_b2369092_8477_11ec_ae51_02420a397c13row1_col2\" class=\"data row1 col2\" >0.082</td>\n",
       "                        <td id=\"T_b2369092_8477_11ec_ae51_02420a397c13row1_col3\" class=\"data row1 col3\" >0.18</td>\n",
       "                        <td id=\"T_b2369092_8477_11ec_ae51_02420a397c13row1_col4\" class=\"data row1 col4\" >0.091</td>\n",
       "            </tr>\n",
       "            <tr>\n",
       "                        <th id=\"T_b2369092_8477_11ec_ae51_02420a397c13level0_row2\" class=\"row_heading level0 row2\" >messages_cnt</th>\n",
       "                        <td id=\"T_b2369092_8477_11ec_ae51_02420a397c13row2_col0\" class=\"data row2 col0\" >0.088</td>\n",
       "                        <td id=\"T_b2369092_8477_11ec_ae51_02420a397c13row2_col1\" class=\"data row2 col1\" >0.082</td>\n",
       "                        <td id=\"T_b2369092_8477_11ec_ae51_02420a397c13row2_col2\" class=\"data row2 col2\" >1</td>\n",
       "                        <td id=\"T_b2369092_8477_11ec_ae51_02420a397c13row2_col3\" class=\"data row2 col3\" >0.17</td>\n",
       "                        <td id=\"T_b2369092_8477_11ec_ae51_02420a397c13row2_col4\" class=\"data row2 col4\" >0.019</td>\n",
       "            </tr>\n",
       "            <tr>\n",
       "                        <th id=\"T_b2369092_8477_11ec_ae51_02420a397c13level0_row3\" class=\"row_heading level0 row3\" >gb_cnt</th>\n",
       "                        <td id=\"T_b2369092_8477_11ec_ae51_02420a397c13row3_col0\" class=\"data row3 col0\" >0.18</td>\n",
       "                        <td id=\"T_b2369092_8477_11ec_ae51_02420a397c13row3_col1\" class=\"data row3 col1\" >0.18</td>\n",
       "                        <td id=\"T_b2369092_8477_11ec_ae51_02420a397c13row3_col2\" class=\"data row3 col2\" >0.17</td>\n",
       "                        <td id=\"T_b2369092_8477_11ec_ae51_02420a397c13row3_col3\" class=\"data row3 col3\" >1</td>\n",
       "                        <td id=\"T_b2369092_8477_11ec_ae51_02420a397c13row3_col4\" class=\"data row3 col4\" >0.62</td>\n",
       "            </tr>\n",
       "            <tr>\n",
       "                        <th id=\"T_b2369092_8477_11ec_ae51_02420a397c13level0_row4\" class=\"row_heading level0 row4\" >total_fee</th>\n",
       "                        <td id=\"T_b2369092_8477_11ec_ae51_02420a397c13row4_col0\" class=\"data row4 col0\" >0.083</td>\n",
       "                        <td id=\"T_b2369092_8477_11ec_ae51_02420a397c13row4_col1\" class=\"data row4 col1\" >0.091</td>\n",
       "                        <td id=\"T_b2369092_8477_11ec_ae51_02420a397c13row4_col2\" class=\"data row4 col2\" >0.019</td>\n",
       "                        <td id=\"T_b2369092_8477_11ec_ae51_02420a397c13row4_col3\" class=\"data row4 col3\" >0.62</td>\n",
       "                        <td id=\"T_b2369092_8477_11ec_ae51_02420a397c13row4_col4\" class=\"data row4 col4\" >1</td>\n",
       "            </tr>\n",
       "    </tbody></table>"
      ],
      "text/plain": [
       "<pandas.io.formats.style.Styler at 0x7f2a4d059890>"
      ]
     },
     "metadata": {},
     "output_type": "display_data"
    },
    {
     "data": {
      "text/markdown": [
       "Коэффициенты корреляции для тарифа **smart**"
      ],
      "text/plain": [
       "<IPython.core.display.Markdown object>"
      ]
     },
     "metadata": {},
     "output_type": "display_data"
    },
    {
     "data": {
      "text/html": [
       "<style  type=\"text/css\" >\n",
       "    #T_b2490a1a_8477_11ec_ae51_02420a397c13row0_col0 {\n",
       "            background-color:  #b40426;\n",
       "            color:  #f1f1f1;\n",
       "        }    #T_b2490a1a_8477_11ec_ae51_02420a397c13row0_col1 {\n",
       "            background-color:  #c12b30;\n",
       "            color:  #f1f1f1;\n",
       "        }    #T_b2490a1a_8477_11ec_ae51_02420a397c13row0_col2 {\n",
       "            background-color:  #5673e0;\n",
       "            color:  #000000;\n",
       "        }    #T_b2490a1a_8477_11ec_ae51_02420a397c13row0_col3 {\n",
       "            background-color:  #8badfd;\n",
       "            color:  #000000;\n",
       "        }    #T_b2490a1a_8477_11ec_ae51_02420a397c13row0_col4 {\n",
       "            background-color:  #a7c5fe;\n",
       "            color:  #000000;\n",
       "        }    #T_b2490a1a_8477_11ec_ae51_02420a397c13row1_col0 {\n",
       "            background-color:  #c12b30;\n",
       "            color:  #f1f1f1;\n",
       "        }    #T_b2490a1a_8477_11ec_ae51_02420a397c13row1_col1 {\n",
       "            background-color:  #b40426;\n",
       "            color:  #f1f1f1;\n",
       "        }    #T_b2490a1a_8477_11ec_ae51_02420a397c13row1_col2 {\n",
       "            background-color:  #5470de;\n",
       "            color:  #000000;\n",
       "        }    #T_b2490a1a_8477_11ec_ae51_02420a397c13row1_col3 {\n",
       "            background-color:  #84a7fc;\n",
       "            color:  #000000;\n",
       "        }    #T_b2490a1a_8477_11ec_ae51_02420a397c13row1_col4 {\n",
       "            background-color:  #a9c6fd;\n",
       "            color:  #000000;\n",
       "        }    #T_b2490a1a_8477_11ec_ae51_02420a397c13row2_col0 {\n",
       "            background-color:  #3b4cc0;\n",
       "            color:  #f1f1f1;\n",
       "        }    #T_b2490a1a_8477_11ec_ae51_02420a397c13row2_col1 {\n",
       "            background-color:  #3b4cc0;\n",
       "            color:  #f1f1f1;\n",
       "        }    #T_b2490a1a_8477_11ec_ae51_02420a397c13row2_col2 {\n",
       "            background-color:  #b40426;\n",
       "            color:  #f1f1f1;\n",
       "        }    #T_b2490a1a_8477_11ec_ae51_02420a397c13row2_col3 {\n",
       "            background-color:  #3b4cc0;\n",
       "            color:  #f1f1f1;\n",
       "        }    #T_b2490a1a_8477_11ec_ae51_02420a397c13row2_col4 {\n",
       "            background-color:  #3b4cc0;\n",
       "            color:  #f1f1f1;\n",
       "        }    #T_b2490a1a_8477_11ec_ae51_02420a397c13row3_col0 {\n",
       "            background-color:  #7699f6;\n",
       "            color:  #000000;\n",
       "        }    #T_b2490a1a_8477_11ec_ae51_02420a397c13row3_col1 {\n",
       "            background-color:  #7093f3;\n",
       "            color:  #000000;\n",
       "        }    #T_b2490a1a_8477_11ec_ae51_02420a397c13row3_col2 {\n",
       "            background-color:  #3f53c6;\n",
       "            color:  #f1f1f1;\n",
       "        }    #T_b2490a1a_8477_11ec_ae51_02420a397c13row3_col3 {\n",
       "            background-color:  #b40426;\n",
       "            color:  #f1f1f1;\n",
       "        }    #T_b2490a1a_8477_11ec_ae51_02420a397c13row3_col4 {\n",
       "            background-color:  #e9785d;\n",
       "            color:  #000000;\n",
       "        }    #T_b2490a1a_8477_11ec_ae51_02420a397c13row4_col0 {\n",
       "            background-color:  #90b2fe;\n",
       "            color:  #000000;\n",
       "        }    #T_b2490a1a_8477_11ec_ae51_02420a397c13row4_col1 {\n",
       "            background-color:  #93b5fe;\n",
       "            color:  #000000;\n",
       "        }    #T_b2490a1a_8477_11ec_ae51_02420a397c13row4_col2 {\n",
       "            background-color:  #3b4cc0;\n",
       "            color:  #f1f1f1;\n",
       "        }    #T_b2490a1a_8477_11ec_ae51_02420a397c13row4_col3 {\n",
       "            background-color:  #e97a5f;\n",
       "            color:  #000000;\n",
       "        }    #T_b2490a1a_8477_11ec_ae51_02420a397c13row4_col4 {\n",
       "            background-color:  #b40426;\n",
       "            color:  #f1f1f1;\n",
       "        }</style><table id=\"T_b2490a1a_8477_11ec_ae51_02420a397c13\" ><thead>    <tr>        <th class=\"blank level0\" ></th>        <th class=\"col_heading level0 col0\" >calls_cnt</th>        <th class=\"col_heading level0 col1\" >minutes_cnt</th>        <th class=\"col_heading level0 col2\" >messages_cnt</th>        <th class=\"col_heading level0 col3\" >gb_cnt</th>        <th class=\"col_heading level0 col4\" >total_fee</th>    </tr></thead><tbody>\n",
       "                <tr>\n",
       "                        <th id=\"T_b2490a1a_8477_11ec_ae51_02420a397c13level0_row0\" class=\"row_heading level0 row0\" >calls_cnt</th>\n",
       "                        <td id=\"T_b2490a1a_8477_11ec_ae51_02420a397c13row0_col0\" class=\"data row0 col0\" >1</td>\n",
       "                        <td id=\"T_b2490a1a_8477_11ec_ae51_02420a397c13row0_col1\" class=\"data row0 col1\" >0.97</td>\n",
       "                        <td id=\"T_b2490a1a_8477_11ec_ae51_02420a397c13row0_col2\" class=\"data row0 col2\" >0.21</td>\n",
       "                        <td id=\"T_b2490a1a_8477_11ec_ae51_02420a397c13row0_col3\" class=\"data row0 col3\" >0.36</td>\n",
       "                        <td id=\"T_b2490a1a_8477_11ec_ae51_02420a397c13row0_col4\" class=\"data row0 col4\" >0.41</td>\n",
       "            </tr>\n",
       "            <tr>\n",
       "                        <th id=\"T_b2490a1a_8477_11ec_ae51_02420a397c13level0_row1\" class=\"row_heading level0 row1\" >minutes_cnt</th>\n",
       "                        <td id=\"T_b2490a1a_8477_11ec_ae51_02420a397c13row1_col0\" class=\"data row1 col0\" >0.97</td>\n",
       "                        <td id=\"T_b2490a1a_8477_11ec_ae51_02420a397c13row1_col1\" class=\"data row1 col1\" >1</td>\n",
       "                        <td id=\"T_b2490a1a_8477_11ec_ae51_02420a397c13row1_col2\" class=\"data row1 col2\" >0.2</td>\n",
       "                        <td id=\"T_b2490a1a_8477_11ec_ae51_02420a397c13row1_col3\" class=\"data row1 col3\" >0.34</td>\n",
       "                        <td id=\"T_b2490a1a_8477_11ec_ae51_02420a397c13row1_col4\" class=\"data row1 col4\" >0.42</td>\n",
       "            </tr>\n",
       "            <tr>\n",
       "                        <th id=\"T_b2490a1a_8477_11ec_ae51_02420a397c13level0_row2\" class=\"row_heading level0 row2\" >messages_cnt</th>\n",
       "                        <td id=\"T_b2490a1a_8477_11ec_ae51_02420a397c13row2_col0\" class=\"data row2 col0\" >0.21</td>\n",
       "                        <td id=\"T_b2490a1a_8477_11ec_ae51_02420a397c13row2_col1\" class=\"data row2 col1\" >0.2</td>\n",
       "                        <td id=\"T_b2490a1a_8477_11ec_ae51_02420a397c13row2_col2\" class=\"data row2 col2\" >1</td>\n",
       "                        <td id=\"T_b2490a1a_8477_11ec_ae51_02420a397c13row2_col3\" class=\"data row2 col3\" >0.15</td>\n",
       "                        <td id=\"T_b2490a1a_8477_11ec_ae51_02420a397c13row2_col4\" class=\"data row2 col4\" >0.13</td>\n",
       "            </tr>\n",
       "            <tr>\n",
       "                        <th id=\"T_b2490a1a_8477_11ec_ae51_02420a397c13level0_row3\" class=\"row_heading level0 row3\" >gb_cnt</th>\n",
       "                        <td id=\"T_b2490a1a_8477_11ec_ae51_02420a397c13row3_col0\" class=\"data row3 col0\" >0.36</td>\n",
       "                        <td id=\"T_b2490a1a_8477_11ec_ae51_02420a397c13row3_col1\" class=\"data row3 col1\" >0.34</td>\n",
       "                        <td id=\"T_b2490a1a_8477_11ec_ae51_02420a397c13row3_col2\" class=\"data row3 col2\" >0.15</td>\n",
       "                        <td id=\"T_b2490a1a_8477_11ec_ae51_02420a397c13row3_col3\" class=\"data row3 col3\" >1</td>\n",
       "                        <td id=\"T_b2490a1a_8477_11ec_ae51_02420a397c13row3_col4\" class=\"data row3 col4\" >0.85</td>\n",
       "            </tr>\n",
       "            <tr>\n",
       "                        <th id=\"T_b2490a1a_8477_11ec_ae51_02420a397c13level0_row4\" class=\"row_heading level0 row4\" >total_fee</th>\n",
       "                        <td id=\"T_b2490a1a_8477_11ec_ae51_02420a397c13row4_col0\" class=\"data row4 col0\" >0.41</td>\n",
       "                        <td id=\"T_b2490a1a_8477_11ec_ae51_02420a397c13row4_col1\" class=\"data row4 col1\" >0.42</td>\n",
       "                        <td id=\"T_b2490a1a_8477_11ec_ae51_02420a397c13row4_col2\" class=\"data row4 col2\" >0.13</td>\n",
       "                        <td id=\"T_b2490a1a_8477_11ec_ae51_02420a397c13row4_col3\" class=\"data row4 col3\" >0.85</td>\n",
       "                        <td id=\"T_b2490a1a_8477_11ec_ae51_02420a397c13row4_col4\" class=\"data row4 col4\" >1</td>\n",
       "            </tr>\n",
       "    </tbody></table>"
      ],
      "text/plain": [
       "<pandas.io.formats.style.Styler at 0x7f2a4a969410>"
      ]
     },
     "metadata": {},
     "output_type": "display_data"
    }
   ],
   "source": [
    "display(Markdown('**Общие коэффициенты корреляции**'))\n",
    "display(styled_corr(df_summary, cols))\n",
    "display(Markdown('Коэффициенты корреляции для тарифа **ultra**'))\n",
    "display(styled_corr(df_ultra, cols))\n",
    "display(Markdown('Коэффициенты корреляции для тарифа **smart**'))\n",
    "display(styled_corr(df_smart, cols))"
   ]
  },
  {
   "cell_type": "markdown",
   "metadata": {},
   "source": [
    "Замечаем следующие закономерности:\n",
    "- Очевидно, но количество звонков и количесво минут сильно коррелируют друг с другом, близкий к 1 коэффициент означает практически линейную зависимость. Также для него коэффициенты корелляции с суммой трат практически такие же, как для количества минут\n",
    "- Сильнее всего сумма трат зависит от интернет трафика для обоих тарифов, но в тарифе **Смарт** ощутимее\n",
    "- Для тарифа **Смарт** также более сильная зависимость от количества минут и сообщений, значит абоненты Смарта чаще выходят за пределы включённых в тариф пакетов."
   ]
  },
  {
   "cell_type": "markdown",
   "metadata": {},
   "source": [
    "<div class=\"alert alert-success\">\n",
    "<b>✅ Комментарий ревьюера :</b> \n",
    "\n",
    "Суперская визуализация, молодец, что используешь стилистику. Выводы корректные\n",
    "</div>"
   ]
  },
  {
   "cell_type": "markdown",
   "metadata": {},
   "source": [
    "### Описательная статистика\n",
    "\n",
    "Изучим описательную статистику для обоих тарифов. \n",
    "\n",
    "Вычислим дисперсию. Наш датасет — не вся совокупность, а выборка из неё, вместо дисперсии считается её оценка по имеющейся выборке по фолрмуле $s^2=\\frac{\\sum (\\mu-x_i)^2}{n-1}$. Для этого применяется метод `numpy.var()` с параметром `ddof=1`. Для удобства сравнения со значениями необходимо взять из дисперсии корень, чтобы вычислить стандартное отклонение, или применить `numpy.std()`. \n",
    "\n",
    "Выяснили, что зависимость от количества звонков такая же, как от количества минут, исключим этот столбец. Выведем также размер выборок пользователей."
   ]
  },
  {
   "cell_type": "code",
   "execution_count": 15,
   "metadata": {},
   "outputs": [
    {
     "data": {
      "text/markdown": [
       "Абонентов тарифа _УЛЬТРА_: **149**"
      ],
      "text/plain": [
       "<IPython.core.display.Markdown object>"
      ]
     },
     "metadata": {},
     "output_type": "display_data"
    },
    {
     "data": {
      "text/markdown": [
       "Абонентов тарифа _СМАРТ_: **351**"
      ],
      "text/plain": [
       "<IPython.core.display.Markdown object>"
      ]
     },
     "metadata": {},
     "output_type": "display_data"
    },
    {
     "data": {
      "text/html": [
       "<div>\n",
       "<style scoped>\n",
       "    .dataframe tbody tr th:only-of-type {\n",
       "        vertical-align: middle;\n",
       "    }\n",
       "\n",
       "    .dataframe tbody tr th {\n",
       "        vertical-align: top;\n",
       "    }\n",
       "\n",
       "    .dataframe thead th {\n",
       "        text-align: right;\n",
       "    }\n",
       "</style>\n",
       "<table border=\"1\" class=\"dataframe\">\n",
       "  <thead>\n",
       "    <tr style=\"text-align: right;\">\n",
       "      <th></th>\n",
       "      <th></th>\n",
       "      <th>var</th>\n",
       "      <th>std</th>\n",
       "      <th>mean</th>\n",
       "    </tr>\n",
       "  </thead>\n",
       "  <tbody>\n",
       "    <tr>\n",
       "      <td rowspan=\"4\" valign=\"top\">ultra</td>\n",
       "      <td>minutes_cnt</td>\n",
       "      <td>100873.6</td>\n",
       "      <td>317.6</td>\n",
       "      <td>526.6</td>\n",
       "    </tr>\n",
       "    <tr>\n",
       "      <td>messages_cnt</td>\n",
       "      <td>2285.3</td>\n",
       "      <td>47.8</td>\n",
       "      <td>49.4</td>\n",
       "    </tr>\n",
       "    <tr>\n",
       "      <td>gb_cnt</td>\n",
       "      <td>97.1</td>\n",
       "      <td>9.9</td>\n",
       "      <td>19.5</td>\n",
       "    </tr>\n",
       "    <tr>\n",
       "      <td>total_fee</td>\n",
       "      <td>141516.7</td>\n",
       "      <td>376.2</td>\n",
       "      <td>2070.2</td>\n",
       "    </tr>\n",
       "    <tr>\n",
       "      <td rowspan=\"4\" valign=\"top\">smart</td>\n",
       "      <td>minutes_cnt</td>\n",
       "      <td>36219.3</td>\n",
       "      <td>190.3</td>\n",
       "      <td>417.9</td>\n",
       "    </tr>\n",
       "    <tr>\n",
       "      <td>messages_cnt</td>\n",
       "      <td>796.8</td>\n",
       "      <td>28.2</td>\n",
       "      <td>33.4</td>\n",
       "    </tr>\n",
       "    <tr>\n",
       "      <td>gb_cnt</td>\n",
       "      <td>33.0</td>\n",
       "      <td>5.7</td>\n",
       "      <td>16.3</td>\n",
       "    </tr>\n",
       "    <tr>\n",
       "      <td>total_fee</td>\n",
       "      <td>669785.7</td>\n",
       "      <td>818.4</td>\n",
       "      <td>1290.0</td>\n",
       "    </tr>\n",
       "  </tbody>\n",
       "</table>\n",
       "</div>"
      ],
      "text/plain": [
       "                         var    std    mean\n",
       "ultra minutes_cnt   100873.6  317.6   526.6\n",
       "      messages_cnt    2285.3   47.8    49.4\n",
       "      gb_cnt            97.1    9.9    19.5\n",
       "      total_fee     141516.7  376.2  2070.2\n",
       "smart minutes_cnt    36219.3  190.3   417.9\n",
       "      messages_cnt     796.8   28.2    33.4\n",
       "      gb_cnt            33.0    5.7    16.3\n",
       "      total_fee     669785.7  818.4  1290.0"
      ]
     },
     "execution_count": 15,
     "metadata": {},
     "output_type": "execute_result"
    }
   ],
   "source": [
    "# уберём колонку количества звонков\n",
    "if 'calls_cnt' in cols: cols.remove('calls_cnt')\n",
    "\n",
    "# выведем количество абонентов\n",
    "display(Markdown('Абонентов тарифа _УЛЬТРА_: **{}**'\n",
    "        .format((df_u.is_ultra.sum()))))\n",
    "display(Markdown('Абонентов тарифа _СМАРТ_: **{}**'\n",
    "        .format(((~df_u.is_ultra).sum()))))\n",
    "\n",
    "# составим таблицу с дисперсией, стандартным отклонением, средним\n",
    "pd.concat({\n",
    "    'ultra' : pd.DataFrame({  \n",
    "                'var' : np.var(df_ultra[cols], ddof=1), \n",
    "                'std' : np.std(df_ultra[cols], ddof=1),\n",
    "                'mean': np.mean(df_ultra[cols]) }) ,\n",
    "    'smart' : pd.DataFrame({  \n",
    "                'var' : np.var(df_smart[cols], ddof=1), \n",
    "                'std' : np.std(df_smart[cols], ddof=1),\n",
    "                'mean': np.mean(df_smart[cols]) })\n",
    "}).round(1)"
   ]
  },
  {
   "cell_type": "markdown",
   "metadata": {},
   "source": [
    "<div class=\"alert alert-warning\">\n",
    "<b>⚠️ Комментарий ревьюера:</b> \n",
    "\n",
    "Все верно, молодец. Так же в данном случае будет более наглядно, если ты получишь те же самые результаты с помощью группировки, они будут структурированы в таблицу. Для этого при группировке помести нужные тебе стат.функции в массив. Это позволит избавиться от ручных вычислений\n",
    "</div>"
   ]
  },
  {
   "cell_type": "markdown",
   "metadata": {},
   "source": [
    "<div class=\"alert alert-info\"> <b>Комментарий студента:</b> \n",
    "\n",
    "Да, спасибо, изначально так и делал. Но потом понял, что реализую уже вшитый describe(), поэтому решил тут просто продемонстрировать, так сказать, что понимаю какими методами это реализуется)</div>"
   ]
  },
  {
   "cell_type": "markdown",
   "metadata": {},
   "source": [
    "Дисперсии отличаются в несколько раз\n",
    "\n",
    "Посмотрим также на другие статистики. С помощью `pandas` также можно вычислить дисперсию, стандартное отклонение методами `numpy`. `Pandas` по умолчанию делает это для выборки, то есть применяет эти функции с параметром `ddof=1`. Для вывода основных статистик применим метод `.describe()` к каждому датасету, полученные таблицы объеденим с помощью `concat()` в одну с именем `stats`. \n",
    "Добавим в общую таблицу значения отличия среднего на 3 стандартных отклонения (3 сигма), которые позволят точно определеть, в каком диапазоне лежат занчения"
   ]
  },
  {
   "cell_type": "code",
   "execution_count": 16,
   "metadata": {},
   "outputs": [
    {
     "data": {
      "text/html": [
       "<div>\n",
       "<style scoped>\n",
       "    .dataframe tbody tr th:only-of-type {\n",
       "        vertical-align: middle;\n",
       "    }\n",
       "\n",
       "    .dataframe tbody tr th {\n",
       "        vertical-align: top;\n",
       "    }\n",
       "\n",
       "    .dataframe thead th {\n",
       "        text-align: right;\n",
       "    }\n",
       "</style>\n",
       "<table border=\"1\" class=\"dataframe\">\n",
       "  <thead>\n",
       "    <tr style=\"text-align: right;\">\n",
       "      <th></th>\n",
       "      <th></th>\n",
       "      <th>count</th>\n",
       "      <th>mean</th>\n",
       "      <th>std</th>\n",
       "      <th>min</th>\n",
       "      <th>25%</th>\n",
       "      <th>50%</th>\n",
       "      <th>75%</th>\n",
       "      <th>max</th>\n",
       "      <th>-3sigma</th>\n",
       "      <th>+3sigma</th>\n",
       "    </tr>\n",
       "    <tr>\n",
       "      <th>feature</th>\n",
       "      <th>tariff</th>\n",
       "      <th></th>\n",
       "      <th></th>\n",
       "      <th></th>\n",
       "      <th></th>\n",
       "      <th></th>\n",
       "      <th></th>\n",
       "      <th></th>\n",
       "      <th></th>\n",
       "      <th></th>\n",
       "      <th></th>\n",
       "    </tr>\n",
       "  </thead>\n",
       "  <tbody>\n",
       "    <tr>\n",
       "      <td rowspan=\"2\" valign=\"top\">gb_cnt</td>\n",
       "      <td>smart</td>\n",
       "      <td>2229.0</td>\n",
       "      <td>16.3</td>\n",
       "      <td>5.7</td>\n",
       "      <td>0.0</td>\n",
       "      <td>13.0</td>\n",
       "      <td>17.0</td>\n",
       "      <td>20.0</td>\n",
       "      <td>38.0</td>\n",
       "      <td>-0.9</td>\n",
       "      <td>33.6</td>\n",
       "    </tr>\n",
       "    <tr>\n",
       "      <td>ultra</td>\n",
       "      <td>985.0</td>\n",
       "      <td>19.5</td>\n",
       "      <td>9.9</td>\n",
       "      <td>0.0</td>\n",
       "      <td>12.0</td>\n",
       "      <td>19.0</td>\n",
       "      <td>27.0</td>\n",
       "      <td>49.0</td>\n",
       "      <td>-10.1</td>\n",
       "      <td>49.1</td>\n",
       "    </tr>\n",
       "    <tr>\n",
       "      <td rowspan=\"2\" valign=\"top\">messages_cnt</td>\n",
       "      <td>smart</td>\n",
       "      <td>2229.0</td>\n",
       "      <td>33.4</td>\n",
       "      <td>28.2</td>\n",
       "      <td>0.0</td>\n",
       "      <td>10.0</td>\n",
       "      <td>28.0</td>\n",
       "      <td>51.0</td>\n",
       "      <td>143.0</td>\n",
       "      <td>-51.3</td>\n",
       "      <td>118.1</td>\n",
       "    </tr>\n",
       "    <tr>\n",
       "      <td>ultra</td>\n",
       "      <td>985.0</td>\n",
       "      <td>49.4</td>\n",
       "      <td>47.8</td>\n",
       "      <td>0.0</td>\n",
       "      <td>6.0</td>\n",
       "      <td>38.0</td>\n",
       "      <td>79.0</td>\n",
       "      <td>224.0</td>\n",
       "      <td>-94.0</td>\n",
       "      <td>192.8</td>\n",
       "    </tr>\n",
       "    <tr>\n",
       "      <td rowspan=\"2\" valign=\"top\">minutes_cnt</td>\n",
       "      <td>smart</td>\n",
       "      <td>2229.0</td>\n",
       "      <td>417.9</td>\n",
       "      <td>190.3</td>\n",
       "      <td>0.0</td>\n",
       "      <td>282.0</td>\n",
       "      <td>422.0</td>\n",
       "      <td>545.0</td>\n",
       "      <td>1435.0</td>\n",
       "      <td>-153.0</td>\n",
       "      <td>988.9</td>\n",
       "    </tr>\n",
       "    <tr>\n",
       "      <td>ultra</td>\n",
       "      <td>985.0</td>\n",
       "      <td>526.6</td>\n",
       "      <td>317.6</td>\n",
       "      <td>0.0</td>\n",
       "      <td>284.0</td>\n",
       "      <td>518.0</td>\n",
       "      <td>752.0</td>\n",
       "      <td>1673.0</td>\n",
       "      <td>-426.2</td>\n",
       "      <td>1479.4</td>\n",
       "    </tr>\n",
       "    <tr>\n",
       "      <td rowspan=\"2\" valign=\"top\">total_fee</td>\n",
       "      <td>smart</td>\n",
       "      <td>2229.0</td>\n",
       "      <td>1290.0</td>\n",
       "      <td>818.4</td>\n",
       "      <td>550.0</td>\n",
       "      <td>550.0</td>\n",
       "      <td>1023.0</td>\n",
       "      <td>1750.0</td>\n",
       "      <td>6770.0</td>\n",
       "      <td>-1165.2</td>\n",
       "      <td>3745.2</td>\n",
       "    </tr>\n",
       "    <tr>\n",
       "      <td>ultra</td>\n",
       "      <td>985.0</td>\n",
       "      <td>2070.2</td>\n",
       "      <td>376.2</td>\n",
       "      <td>1950.0</td>\n",
       "      <td>1950.0</td>\n",
       "      <td>1950.0</td>\n",
       "      <td>1950.0</td>\n",
       "      <td>4800.0</td>\n",
       "      <td>941.6</td>\n",
       "      <td>3198.7</td>\n",
       "    </tr>\n",
       "  </tbody>\n",
       "</table>\n",
       "</div>"
      ],
      "text/plain": [
       "                      count    mean    std     min     25%     50%     75%  \\\n",
       "feature      tariff                                                          \n",
       "gb_cnt       smart   2229.0    16.3    5.7     0.0    13.0    17.0    20.0   \n",
       "             ultra    985.0    19.5    9.9     0.0    12.0    19.0    27.0   \n",
       "messages_cnt smart   2229.0    33.4   28.2     0.0    10.0    28.0    51.0   \n",
       "             ultra    985.0    49.4   47.8     0.0     6.0    38.0    79.0   \n",
       "minutes_cnt  smart   2229.0   417.9  190.3     0.0   282.0   422.0   545.0   \n",
       "             ultra    985.0   526.6  317.6     0.0   284.0   518.0   752.0   \n",
       "total_fee    smart   2229.0  1290.0  818.4   550.0   550.0  1023.0  1750.0   \n",
       "             ultra    985.0  2070.2  376.2  1950.0  1950.0  1950.0  1950.0   \n",
       "\n",
       "                        max  -3sigma  +3sigma  \n",
       "feature      tariff                            \n",
       "gb_cnt       smart     38.0     -0.9     33.6  \n",
       "             ultra     49.0    -10.1     49.1  \n",
       "messages_cnt smart    143.0    -51.3    118.1  \n",
       "             ultra    224.0    -94.0    192.8  \n",
       "minutes_cnt  smart   1435.0   -153.0    988.9  \n",
       "             ultra   1673.0   -426.2   1479.4  \n",
       "total_fee    smart   6770.0  -1165.2   3745.2  \n",
       "             ultra   4800.0    941.6   3198.7  "
      ]
     },
     "metadata": {},
     "output_type": "display_data"
    }
   ],
   "source": [
    "stats = pd.concat({'ultra': df_ultra[cols].describe().T, 'smart': df_smart[cols].describe().T})\n",
    "stats['-3sigma'] = stats['mean'] - 3*stats['std']\n",
    "stats['+3sigma'] = stats['mean'] + 3*stats['std']\n",
    "stats.index.names = ['tariff','feature']\n",
    "stats = stats.reorder_levels(['feature','tariff']).sort_index().round(1)\n",
    "\n",
    "display(stats)"
   ]
  },
  {
   "cell_type": "markdown",
   "metadata": {},
   "source": [
    "- Размер выборки абонентов _УЛЬТРА_ = 985 значений\n",
    "- Размер выборки абонентов _СМАРТ_ = 2229 значений\n",
    "\n",
    "По таблицам можно оценить различие медианных (50%) и средних значений.\n",
    "- Значения количества сообщений и трат скошены вправо для обоих тарифов: средние значения больше медианных\n",
    "- Средние и медианные значения для количесва минут и гигабайт уже ближе друг к другу\n",
    "\n",
    "Также можно оценить, в каком диапазоне лежит основная часть значений для каждого параметра - по границам первого (25%) и третьего (75%) квартилей.\n",
    "\n",
    "Выведем матрицы рассеяния"
   ]
  },
  {
   "cell_type": "code",
   "execution_count": 17,
   "metadata": {},
   "outputs": [
    {
     "data": {
      "image/png": "[encoded data removed]",
      "text/plain": [
       "<Figure size 864x720 with 16 Axes>"
      ]
     },
     "metadata": {
      "needs_background": "light"
     },
     "output_type": "display_data"
    },
    {
     "data": {
      "image/png": "[encoded data removed]",
      "text/plain": [
       "<Figure size 864x720 with 16 Axes>"
      ]
     },
     "metadata": {
      "needs_background": "light"
     },
     "output_type": "display_data"
    }
   ],
   "source": [
    "show_scatter_matrix(df_ultra, cols, title='Матрица рассеяния для тарифа УЛЬТРА')\n",
    "show_scatter_matrix(df_smart, cols, title='Матрица рассеяния для тарифа СМАРТ')"
   ]
  },
  {
   "cell_type": "markdown",
   "metadata": {},
   "source": [
    "Абоненты **Смарт** в среднем:\n",
    "- Тратят на связь от 550 до 3750 рублей (до 3200 сверх абон платы)\n",
    "- Используют до 990 минут, 120 сообщений, 33 гигабайт трафика (480, 70 и 18 сверх пакета соответсвенно)\n",
    "\n",
    "Абоненты **Ультра** в среднем:\n",
    "- Тратят на связь от 1950 до 3200 рублей (до 1250 сверх абон платы)\n",
    "- Используют до 1500 минут, 190 сообщений, 50 гигабайт трафика (до 20 гб сверх пакета). По сообщениям и минутам они не выбирают лимит\n",
    "\n",
    "По дисперсии и стандартному отклонению видим:\n",
    "- Разброс значений трат абонентов **Смарт** значительно выше. \n",
    "- Для остальных величин напротив - разброс значений выше у абонентов **Ультра**\n",
    "\n",
    "На диаграммах рассеяния заметен \"излом\" на графике зависимости стоимости от видов связи. Для абонентов **Смарт** это особенно сильно наблюдается для минут и трафика интренета, для **Ультра** только для трафика, это свидетельсвует о том, что абоненты дорогого тарифа в основном платят сверх ежемесячной платы только за интернет. Это согласуется со значениями статистик в таблице.\n",
    "\n",
    "Построим гистограммы и диаграммы размаха для каждого параметра отдельно"
   ]
  },
  {
   "cell_type": "markdown",
   "metadata": {},
   "source": [
    "<div class=\"alert alert-success\">\n",
    "<b>✅ Комментарий ревьюера :</b> \n",
    "\n",
    "Визуализация отличная, все параметры, которые должны присуствовать на графики есть - молодец.\n",
    "</div>"
   ]
  },
  {
   "cell_type": "markdown",
   "metadata": {},
   "source": [
    "### Звонки"
   ]
  },
  {
   "cell_type": "code",
   "execution_count": 18,
   "metadata": {},
   "outputs": [
    {
     "data": {
      "image/png": "[encoded data removed]",
      "text/plain": [
       "<Figure size 864x720 with 3 Axes>"
      ]
     },
     "metadata": {
      "needs_background": "light"
     },
     "output_type": "display_data"
    }
   ],
   "source": [
    "show_boxplot_and_hist(df_ultra, df_smart, 'minutes_cnt', bins=80,\n",
    "    title = 'Распределение значений количества минут',\n",
    "    xlabel = 'Количество минут, шт'\n",
    ");"
   ]
  },
  {
   "cell_type": "markdown",
   "metadata": {},
   "source": [
    "Пределы значений используемых минут совпадают с тем, что мы опредлелили по правилу трёх сигм.\n",
    "\n",
    "- Разброс значений для абонентов **Ультра** значительно выше, при этом все они укладываются в пакет, включённый в тариф. В то же время среди абонентов тарифа велика доля тех, кто вообще практически не пользуется звонками. Скорее всего они берут этот тариф для использования интернета\n",
    "- У абонентов **Смарт** максимум распределения приходится на значение тарифного лимита и гистограмма немного скошена влево - пользователи в большинстве случаев стараются не выходить за рамки пакета."
   ]
  },
  {
   "cell_type": "markdown",
   "metadata": {},
   "source": [
    "<div class=\"alert alert-success\">\n",
    "<b>✅ Комментарий ревьюера :</b> \n",
    "\n",
    "Отличная визуализация, чтение гистограммы и боксплота корректное. Только на втором графике наверно по оси Y не частота, а плотность</div>"
   ]
  },
  {
   "cell_type": "markdown",
   "metadata": {},
   "source": [
    "<div class=\"alert alert-info\"> <b>Комментарий студента:</b> \n",
    "\n",
    "Точно. Спасибо! 😊</div>"
   ]
  },
  {
   "cell_type": "markdown",
   "metadata": {},
   "source": [
    "### Сообщения"
   ]
  },
  {
   "cell_type": "code",
   "execution_count": 19,
   "metadata": {},
   "outputs": [
    {
     "data": {
      "image/png": "[encoded data removed]",
      "text/plain": [
       "<Figure size 864x720 with 3 Axes>"
      ]
     },
     "metadata": {
      "needs_background": "light"
     },
     "output_type": "display_data"
    }
   ],
   "source": [
    "show_boxplot_and_hist(df_ultra, df_smart, 'messages_cnt',\n",
    "    title = 'Распределение значений количества сообщений',\n",
    "    xlabel = 'Количество сообщений, шт'\n",
    ");"
   ]
  },
  {
   "cell_type": "markdown",
   "metadata": {},
   "source": [
    "Правило трёх сигм по прежнему работает =)\n",
    "\n",
    "- Разброс значений для абонентов **Ультра** немного выше, и опять же все они укладываются в пакет, включённый в тариф. \n",
    "- Среди абонентов обоих тарифов велика доля тех, кто вообще практически не пользуется сообщениями"
   ]
  },
  {
   "cell_type": "markdown",
   "metadata": {},
   "source": [
    "### Трафик"
   ]
  },
  {
   "cell_type": "code",
   "execution_count": 20,
   "metadata": {},
   "outputs": [
    {
     "data": {
      "image/png": "[encoded data removed]",
      "text/plain": [
       "<Figure size 864x720 with 3 Axes>"
      ]
     },
     "metadata": {
      "needs_background": "light"
     },
     "output_type": "display_data"
    }
   ],
   "source": [
    "show_boxplot_and_hist(df_ultra, df_smart, 'gb_cnt', bins=25,\n",
    "    title = 'Распределение значений объёма интернет трафика',\n",
    "    xlabel = 'Интернет трафик, Гб'\n",
    ");"
   ]
  },
  {
   "cell_type": "markdown",
   "metadata": {},
   "source": [
    "Распределение трафика для обоих тарифов ближе всего к нормальному. При этом заметим\n",
    "\n",
    "- Доля абонентов **Смарт** использующих трафик свыше пакета - больше половины\n",
    "- Абоненты **Ультра** превышают включённый в абон плату трафик значительно реже."
   ]
  },
  {
   "cell_type": "markdown",
   "metadata": {},
   "source": [
    "### Выручка"
   ]
  },
  {
   "cell_type": "code",
   "execution_count": 21,
   "metadata": {},
   "outputs": [
    {
     "data": {
      "image/png": "[encoded data removed]",
      "text/plain": [
       "<Figure size 864x720 with 3 Axes>"
      ]
     },
     "metadata": {
      "needs_background": "light"
     },
     "output_type": "display_data"
    }
   ],
   "source": [
    "show_boxplot_and_hist(df_ultra, df_smart, 'total_fee', ylim=0.005,\n",
    "    title = 'Распределение выручки от абонентов',\n",
    "    xlabel = 'Помесячная выручка, руб'\n",
    ");"
   ]
  },
  {
   "cell_type": "markdown",
   "metadata": {},
   "source": [
    "- Абсолютное большинство абонентов **Ультра** тратят в месяц сумму равную абонентской плате тарифа. Пропуски столбцов на гистограмме обусловлены с тем, что эти пользователи доплачивают только за гигабайты, а поскольку гигабайты округляются, то выручка меняется дискретно\n",
    "- Траты абонентов **Смарт** также в большинстве случаев равны абонентской, но этот набор данных скошен вправо значительно сильнее. Поэтому доля пользователей, приносящих дополнительный доход здесь ощутимо больше"
   ]
  },
  {
   "cell_type": "markdown",
   "metadata": {},
   "source": [
    "<div class=\"alert alert-success\">\n",
    "<b>✅ Комментарий ревьюера :</b> \n",
    "\n",
    "Отлично, все графики прочитаны верно, выводы корректные</div>"
   ]
  },
  {
   "cell_type": "markdown",
   "metadata": {},
   "source": [
    "## Проверка гипотез"
   ]
  },
  {
   "cell_type": "markdown",
   "metadata": {},
   "source": [
    "### Средняя выручка пользователей тарифов «Ультра» и «Смарт» различаются\n",
    "\n",
    "Мы уже знаем средние значения трат для абонентов обоих тарифов, посчитанные на предоставленных выборках. Нам необходимо оценить, отличаются ли средние выборки для генеральных совокупностей."
   ]
  },
  {
   "cell_type": "code",
   "execution_count": 22,
   "metadata": {},
   "outputs": [
    {
     "data": {
      "text/markdown": [
       "Средняя месячная выручка для тарифа _УЛЬТРА_:  **2070**  руб"
      ],
      "text/plain": [
       "<IPython.core.display.Markdown object>"
      ]
     },
     "metadata": {},
     "output_type": "display_data"
    },
    {
     "data": {
      "text/markdown": [
       "Средняя месячная выручка для тарифа _СМАРТ_:  **1289**  руб"
      ],
      "text/plain": [
       "<IPython.core.display.Markdown object>"
      ]
     },
     "metadata": {},
     "output_type": "display_data"
    }
   ],
   "source": [
    "display(Markdown('Средняя месячная выручка для тарифа _УЛЬТРА_:  **{}**  руб'\n",
    "    .format(int(df_ultra['total_fee'].mean()))))\n",
    "display(Markdown('Средняя месячная выручка для тарифа _СМАРТ_:  **{}**  руб'\n",
    "    .format(int(df_smart['total_fee'].mean()))))"
   ]
  },
  {
   "cell_type": "markdown",
   "metadata": {},
   "source": [
    "Необходимо проверить, различаются ли средние значения выручки для этих тарифов на _генеральных_ совокупностях. \n",
    "Сформулируем нулевую и альтернативную гипотезы. \n",
    "\n",
    "- **H0** (Нулевая гипотеза): _Средние выручки пользователей тарифов «Ультра» и «Смарт» **равны**_\n",
    "- **H1** (Альтернативная гипотеза) : _Средние выручки пользователей тарифов «Ультра» и «Смарт» **различаются**_\n",
    "\n",
    "Проверим нулевую гипотезу с помощью T-теста.\n",
    "\n",
    "Оценим _p-value_ - мера вероятности того, что наблюдаемая разница могла возникнуть просто по случайному стечению обстоятельств.\n",
    "Критический уровень статистической значимости $\\alpha$ возьмёи равныи `0.05`. Для оценки используем метод `ttest_ind` из модуля `stats` библиотеки `scipy`. Поскольку дисперсии выборок отличаются в несколько раз и размеры выборок также сильно отличаются, то при проведении теста не следует считать дисперсии равными, укажем `equal_var = False`."
   ]
  },
  {
   "cell_type": "markdown",
   "metadata": {},
   "source": [
    "<div class=\"alert alert-success\">\n",
    "<b>✅ Комментарий ревьюера :</b> \n",
    "\n",
    "- Молодец, формулировка гипотезы корректная\n",
    "- Нулевая и альтернативная гипотезы добавлены\n",
    "</div>"
   ]
  },
  {
   "cell_type": "code",
   "execution_count": 23,
   "metadata": {},
   "outputs": [
    {
     "data": {
      "text/markdown": [
       "p-значение:  0.000000%"
      ],
      "text/plain": [
       "<IPython.core.display.Markdown object>"
      ]
     },
     "metadata": {},
     "output_type": "display_data"
    },
    {
     "data": {
      "text/markdown": [
       "Принимаем гипотезу: \n",
       "            **Средние выручки пользователей тарифов «Ультра» и «Смарт» различаются**"
      ],
      "text/plain": [
       "<IPython.core.display.Markdown object>"
      ]
     },
     "metadata": {},
     "output_type": "display_data"
    }
   ],
   "source": [
    "alpha = .05 # критерий значимости\n",
    "\n",
    "# p-значение\n",
    "pvalue = st.ttest_ind(df_ultra['total_fee'], df_smart['total_fee'], \n",
    "                      equal_var = False).pvalue\n",
    "# вывод\n",
    "display(Markdown('p-значение:  {:%}'.format(pvalue)))\n",
    "if pvalue < alpha:\n",
    "    display(Markdown(\"Принимаем гипотезу: \\n\\\n",
    "            **Средние выручки пользователей тарифов «Ультра» и «Смарт» различаются**\")) \n",
    "else:\n",
    "    display(Markdown(\"Принимаем гипотезу о \\n\\\n",
    "            **равенстве средней выручки пользователей тарифов «Ультра» и «Смарт»**\"))"
   ]
  },
  {
   "cell_type": "markdown",
   "metadata": {},
   "source": [
    "_p-value_ очень близко к 0. Фактически это означает нулевую вероятность получить такое же, как в наших выборках, или большее различие средних значений _случайно_. Поэтому нулевую гипотезу необходимо **отвегрнуть**."
   ]
  },
  {
   "cell_type": "markdown",
   "metadata": {},
   "source": [
    "<div class=\"alert alert-success\">\n",
    "<b>✅ Комментарий ревьюера :</b> \n",
    "\n",
    "Первая гипотеза проверена корректно\n",
    "</div>"
   ]
  },
  {
   "cell_type": "markdown",
   "metadata": {},
   "source": [
    "### Средняя выручка пользователи из Москвы отличается от выручки пользователей из других регионов"
   ]
  },
  {
   "cell_type": "markdown",
   "metadata": {},
   "source": [
    "Посмотрим на дисперсии и описательную статистику выборок значений выручкм\n",
    "В таблице посмотрим и на другие показатели, которые сохраняли в `cols` "
   ]
  },
  {
   "cell_type": "code",
   "execution_count": 24,
   "metadata": {},
   "outputs": [
    {
     "data": {
      "text/markdown": [
       "Дисперсия выручки для выборки \"Москва\":  **565636.47**  руб$^2$"
      ],
      "text/plain": [
       "<IPython.core.display.Markdown object>"
      ]
     },
     "metadata": {},
     "output_type": "display_data"
    },
    {
     "data": {
      "text/markdown": [
       "Дисперсия выручки для выборки \"Регионы\":  **654137.63**  руб$^2$"
      ],
      "text/plain": [
       "<IPython.core.display.Markdown object>"
      ]
     },
     "metadata": {},
     "output_type": "display_data"
    },
    {
     "data": {
      "text/html": [
       "<div>\n",
       "<style scoped>\n",
       "    .dataframe tbody tr th:only-of-type {\n",
       "        vertical-align: middle;\n",
       "    }\n",
       "\n",
       "    .dataframe tbody tr th {\n",
       "        vertical-align: top;\n",
       "    }\n",
       "\n",
       "    .dataframe thead th {\n",
       "        text-align: right;\n",
       "    }\n",
       "</style>\n",
       "<table border=\"1\" class=\"dataframe\">\n",
       "  <thead>\n",
       "    <tr style=\"text-align: right;\">\n",
       "      <th></th>\n",
       "      <th></th>\n",
       "      <th>count</th>\n",
       "      <th>mean</th>\n",
       "      <th>std</th>\n",
       "      <th>min</th>\n",
       "      <th>25%</th>\n",
       "      <th>50%</th>\n",
       "      <th>75%</th>\n",
       "      <th>max</th>\n",
       "    </tr>\n",
       "    <tr>\n",
       "      <th>feature</th>\n",
       "      <th>region</th>\n",
       "      <th></th>\n",
       "      <th></th>\n",
       "      <th></th>\n",
       "      <th></th>\n",
       "      <th></th>\n",
       "      <th></th>\n",
       "      <th></th>\n",
       "      <th></th>\n",
       "    </tr>\n",
       "  </thead>\n",
       "  <tbody>\n",
       "    <tr>\n",
       "      <td rowspan=\"2\" valign=\"top\">gb_cnt</td>\n",
       "      <td>moscow</td>\n",
       "      <td>611.0</td>\n",
       "      <td>18.1</td>\n",
       "      <td>7.6</td>\n",
       "      <td>1.0</td>\n",
       "      <td>13.0</td>\n",
       "      <td>18.0</td>\n",
       "      <td>22.0</td>\n",
       "      <td>44.0</td>\n",
       "    </tr>\n",
       "    <tr>\n",
       "      <td>other</td>\n",
       "      <td>2603.0</td>\n",
       "      <td>17.1</td>\n",
       "      <td>7.3</td>\n",
       "      <td>0.0</td>\n",
       "      <td>13.0</td>\n",
       "      <td>17.0</td>\n",
       "      <td>21.0</td>\n",
       "      <td>49.0</td>\n",
       "    </tr>\n",
       "    <tr>\n",
       "      <td rowspan=\"2\" valign=\"top\">messages_cnt</td>\n",
       "      <td>moscow</td>\n",
       "      <td>611.0</td>\n",
       "      <td>37.9</td>\n",
       "      <td>37.2</td>\n",
       "      <td>0.0</td>\n",
       "      <td>6.5</td>\n",
       "      <td>29.0</td>\n",
       "      <td>57.0</td>\n",
       "      <td>191.0</td>\n",
       "    </tr>\n",
       "    <tr>\n",
       "      <td>other</td>\n",
       "      <td>2603.0</td>\n",
       "      <td>38.4</td>\n",
       "      <td>35.9</td>\n",
       "      <td>0.0</td>\n",
       "      <td>9.5</td>\n",
       "      <td>30.0</td>\n",
       "      <td>57.0</td>\n",
       "      <td>224.0</td>\n",
       "    </tr>\n",
       "    <tr>\n",
       "      <td rowspan=\"2\" valign=\"top\">minutes_cnt</td>\n",
       "      <td>moscow</td>\n",
       "      <td>611.0</td>\n",
       "      <td>469.2</td>\n",
       "      <td>241.5</td>\n",
       "      <td>0.0</td>\n",
       "      <td>304.0</td>\n",
       "      <td>453.0</td>\n",
       "      <td>620.5</td>\n",
       "      <td>1321.0</td>\n",
       "    </tr>\n",
       "    <tr>\n",
       "      <td>other</td>\n",
       "      <td>2603.0</td>\n",
       "      <td>447.0</td>\n",
       "      <td>241.9</td>\n",
       "      <td>0.0</td>\n",
       "      <td>280.5</td>\n",
       "      <td>440.0</td>\n",
       "      <td>584.0</td>\n",
       "      <td>1673.0</td>\n",
       "    </tr>\n",
       "    <tr>\n",
       "      <td rowspan=\"2\" valign=\"top\">total_fee</td>\n",
       "      <td>moscow</td>\n",
       "      <td>611.0</td>\n",
       "      <td>1546.7</td>\n",
       "      <td>752.1</td>\n",
       "      <td>550.0</td>\n",
       "      <td>780.5</td>\n",
       "      <td>1750.0</td>\n",
       "      <td>1950.0</td>\n",
       "      <td>5321.0</td>\n",
       "    </tr>\n",
       "    <tr>\n",
       "      <td>other</td>\n",
       "      <td>2603.0</td>\n",
       "      <td>1524.9</td>\n",
       "      <td>808.8</td>\n",
       "      <td>550.0</td>\n",
       "      <td>750.0</td>\n",
       "      <td>1583.0</td>\n",
       "      <td>1950.0</td>\n",
       "      <td>6770.0</td>\n",
       "    </tr>\n",
       "  </tbody>\n",
       "</table>\n",
       "</div>"
      ],
      "text/plain": [
       "                      count    mean    std    min    25%     50%     75%  \\\n",
       "feature      region                                                        \n",
       "gb_cnt       moscow   611.0    18.1    7.6    1.0   13.0    18.0    22.0   \n",
       "             other   2603.0    17.1    7.3    0.0   13.0    17.0    21.0   \n",
       "messages_cnt moscow   611.0    37.9   37.2    0.0    6.5    29.0    57.0   \n",
       "             other   2603.0    38.4   35.9    0.0    9.5    30.0    57.0   \n",
       "minutes_cnt  moscow   611.0   469.2  241.5    0.0  304.0   453.0   620.5   \n",
       "             other   2603.0   447.0  241.9    0.0  280.5   440.0   584.0   \n",
       "total_fee    moscow   611.0  1546.7  752.1  550.0  780.5  1750.0  1950.0   \n",
       "             other   2603.0  1524.9  808.8  550.0  750.0  1583.0  1950.0   \n",
       "\n",
       "                        max  \n",
       "feature      region          \n",
       "gb_cnt       moscow    44.0  \n",
       "             other     49.0  \n",
       "messages_cnt moscow   191.0  \n",
       "             other    224.0  \n",
       "minutes_cnt  moscow  1321.0  \n",
       "             other   1673.0  \n",
       "total_fee    moscow  5321.0  \n",
       "             other   6770.0  "
      ]
     },
     "execution_count": 24,
     "metadata": {},
     "output_type": "execute_result"
    }
   ],
   "source": [
    "display(Markdown('Дисперсия выручки для выборки \"Москва\":  **{:.2f}**  руб$^2$'\n",
    "    .format(np.var(df_summary.query('is_moscow')['total_fee'],ddof=1))))\n",
    "display(Markdown('Дисперсия выручки для выборки \"Регионы\":  **{:.2f}**  руб$^2$'\n",
    "    .format(np.var(df_summary.query('not is_moscow')['total_fee'],ddof=1))))\n",
    "\n",
    "# генерируем описательную статистику и для обеих категорий и объединяем в одну таблицу\n",
    "region_stats = pd.concat({\n",
    "    'moscow': df_summary.query('is_moscow')[cols].describe().T,\n",
    "    'other': df_summary.query('not is_moscow')[cols].describe().T\n",
    "})\n",
    "region_stats.index.names = ['region','feature']\n",
    "region_stats = region_stats.reorder_levels(['feature','region']).sort_index().round(1)\n",
    "region_stats"
   ]
  },
  {
   "cell_type": "markdown",
   "metadata": {},
   "source": [
    "Дисперсии отличаются не сильно, также видим, что для выборок средние значения выручки очень близки друг к другу. \n",
    "\n",
    "Сравнение статистик других показателей также позволяет сделать вывод, что поведение пользователей в Москве и других городах схоже. Не будем вдаваться в глубокий анализ.\n",
    "\n",
    "Необходимо проверить, различаются ли средние значения выручки для Москви и регионов на _генеральных_ совокупностях. \n",
    "Сформулируем нулевую и альтернативную гипотезы. \n",
    "\n",
    "- **H0** (Нулевая гипотеза): _Средние выручки пользователей из Москвы и пользователей других регионов **равны**_\n",
    "- **H1** (Альтернативная гипотеза): _Средняя выручка пользователей из Москвы **отличается** от выручки пользователей из других регионов_\n",
    "\n",
    "Проверим нулевую гипотезу с помощью T-теста.\n",
    "\n",
    "Снова оценим _p-value_. Критический уровень статистической значимости $\\alpha$ возьмёи равныи `0.05`. Положим `equal_var = True`.\n"
   ]
  },
  {
   "cell_type": "code",
   "execution_count": 25,
   "metadata": {},
   "outputs": [
    {
     "data": {
      "text/markdown": [
       "p-значение:  54.401529%"
      ],
      "text/plain": [
       "<IPython.core.display.Markdown object>"
      ]
     },
     "metadata": {},
     "output_type": "display_data"
    },
    {
     "data": {
      "text/markdown": [
       "Принимаем гипотезу о \n",
       "    **Средние выручки пользователей из Москвы и пользователей других регионов равны**"
      ],
      "text/plain": [
       "<IPython.core.display.Markdown object>"
      ]
     },
     "metadata": {},
     "output_type": "display_data"
    }
   ],
   "source": [
    "alpha = .05 # критерий значимости\n",
    "\n",
    "# p-значение\n",
    "pvalue = st.ttest_ind(df_summary.query('is_moscow')['total_fee'], \n",
    "                      df_summary.query('not is_moscow')['total_fee']).pvalue\n",
    "# вывод\n",
    "display(Markdown('p-значение:  {:%}'.format(pvalue)))\n",
    "if pvalue < alpha:\n",
    "    display(Markdown(\"Принимаем гипотезу: \\n\\\n",
    "    **Средняя выручка пользователей из Москвы отличается от выручки пользователей из других регионов**\")) \n",
    "else:\n",
    "    display(Markdown(\"Принимаем гипотезу \\n\\\n",
    "    **Средние выручки пользователей из Москвы и пользователей других регионов равны**\"))"
   ]
  },
  {
   "cell_type": "markdown",
   "metadata": {},
   "source": [
    "Вероятность получить такое же, как в наших выборках, или большее различие средних значений _случайно_ примерно 50 %. Это явно слишком большая вероятность, чтобы делать вывод о значимом различии между средними. Поэтому нулевую гипотезу необходимо **принять**."
   ]
  },
  {
   "cell_type": "markdown",
   "metadata": {},
   "source": [
    "<div class=\"alert alert-success\">\n",
    "<b>✅ Комментарий ревьюера :</b> \n",
    "\n",
    "Вывод по второй гипотезе так же верный\n",
    "</div>"
   ]
  },
  {
   "cell_type": "markdown",
   "metadata": {},
   "source": [
    "## Общий вывод"
   ]
  },
  {
   "cell_type": "markdown",
   "metadata": {},
   "source": [
    "Проведя исследование обнаружили следующие закономерности:\n",
    "\n",
    "- Абоненты **Ультра** в среднем тратят на связь от 1950 до 3200 рублей (до 1250 сверх абон платы). При этом абсолютное большинство абонентов **Ультра** тратят в месяц сумму равную абонентской плате тарифа, очень редко - больше. Дополнительные траты у них складываются исключительно из дополнительных гигабайт сверх интернета.\n",
    "- Абоненты **Смарт** тратят на связь в среднем от 550 до 3750 рублей (то есть до 3200 сверх абон платы). Разброс значений трат абонентов **Смарт** значительно выше. Траты также в большинстве случаев равны абонентской, но доля пользователей, приносящих дополнительный доход здесь ощутимо больше \n",
    "- Гипотеза: _Средняя выручка пользователей тарифов «Ультра» и «Смарт» различаются_ с очень большой вероятностью верна\n",
    "- Гипотеза: _Средняя выручка пользователей из Москвы отличается от выручки пользователей из других регионов_ с большой вероятностью неверна\n",
    "\n",
    "Таким образом, несмотря на то, что медианная выручка у абонентов **Смарт** меньше, чем у абонентов **Ультра**, но датасет скошен вправо. Среди пользователей первого есть те, кто платит ощутимо больше медианной суммы, среди пользователей второго практически нет. Количество пользователей **Смарт** превосходит количество пользователей **Ультра** в нашей выборке более чем в 2 раза. Если в генеральной совокупности соотношение примерно такое же, то для «Мегалайн» более перспективен тариф **Смарт**."
   ]
  },
  {
   "cell_type": "markdown",
   "metadata": {},
   "source": [
    "<div class=\"alert alert-success\">\n",
    "<b>✅ Комментарий ревьюера :</b> \n",
    "\n",
    "Общий вывод принят\n",
    "</div>"
   ]
  },
  {
   "cell_type": "code",
   "execution_count": null,
   "metadata": {},
   "outputs": [],
   "source": []
  }
 ],
 "metadata": {
  "ExecuteTimeLog": [
   {
    "duration": 1167,
    "start_time": "2022-01-25T18:51:40.745Z"
   },
   {
    "duration": 1945,
    "start_time": "2022-01-25T18:51:41.914Z"
   },
   {
    "duration": 1699,
    "start_time": "2022-01-25T18:51:42.163Z"
   },
   {
    "duration": 1698,
    "start_time": "2022-01-25T18:51:42.165Z"
   },
   {
    "duration": 1698,
    "start_time": "2022-01-25T18:51:42.166Z"
   },
   {
    "duration": 1697,
    "start_time": "2022-01-25T18:51:42.168Z"
   },
   {
    "duration": 1696,
    "start_time": "2022-01-25T18:51:42.170Z"
   },
   {
    "duration": 1696,
    "start_time": "2022-01-25T18:51:42.171Z"
   },
   {
    "duration": 1696,
    "start_time": "2022-01-25T18:51:42.172Z"
   },
   {
    "duration": 1695,
    "start_time": "2022-01-25T18:51:42.174Z"
   },
   {
    "duration": 1694,
    "start_time": "2022-01-25T18:51:42.176Z"
   },
   {
    "duration": 1694,
    "start_time": "2022-01-25T18:51:42.177Z"
   },
   {
    "duration": 1693,
    "start_time": "2022-01-25T18:51:42.179Z"
   },
   {
    "duration": 1693,
    "start_time": "2022-01-25T18:51:42.180Z"
   },
   {
    "duration": 1692,
    "start_time": "2022-01-25T18:51:42.182Z"
   },
   {
    "duration": 1557,
    "start_time": "2022-01-25T18:51:42.318Z"
   },
   {
    "duration": 1557,
    "start_time": "2022-01-25T18:51:42.319Z"
   },
   {
    "duration": 1556,
    "start_time": "2022-01-25T18:51:42.321Z"
   },
   {
    "duration": 1556,
    "start_time": "2022-01-25T18:51:42.322Z"
   },
   {
    "duration": 1556,
    "start_time": "2022-01-25T18:51:42.323Z"
   },
   {
    "duration": 1555,
    "start_time": "2022-01-25T18:51:42.325Z"
   },
   {
    "duration": 1555,
    "start_time": "2022-01-25T18:51:42.326Z"
   },
   {
    "duration": 1554,
    "start_time": "2022-01-25T18:51:42.328Z"
   },
   {
    "duration": 1554,
    "start_time": "2022-01-25T18:51:42.329Z"
   },
   {
    "duration": 1554,
    "start_time": "2022-01-25T18:51:42.330Z"
   },
   {
    "duration": 1554,
    "start_time": "2022-01-25T18:51:42.331Z"
   },
   {
    "duration": 1131,
    "start_time": "2022-01-25T18:52:07.767Z"
   },
   {
    "duration": 902,
    "start_time": "2022-01-25T18:52:08.899Z"
   },
   {
    "duration": 10,
    "start_time": "2022-01-25T18:52:09.803Z"
   },
   {
    "duration": 96,
    "start_time": "2022-01-25T18:52:09.815Z"
   },
   {
    "duration": 195,
    "start_time": "2022-01-25T18:52:09.913Z"
   },
   {
    "duration": 2,
    "start_time": "2022-01-25T18:52:10.110Z"
   },
   {
    "duration": 86,
    "start_time": "2022-01-25T18:52:10.114Z"
   },
   {
    "duration": 63,
    "start_time": "2022-01-25T18:52:10.202Z"
   },
   {
    "duration": 35,
    "start_time": "2022-01-25T18:52:10.268Z"
   },
   {
    "duration": 30,
    "start_time": "2022-01-25T18:52:10.305Z"
   },
   {
    "duration": 41,
    "start_time": "2022-01-25T18:52:10.361Z"
   },
   {
    "duration": 149,
    "start_time": "2022-01-25T18:52:10.403Z"
   },
   {
    "duration": 12,
    "start_time": "2022-01-25T18:52:10.554Z"
   },
   {
    "duration": 20,
    "start_time": "2022-01-25T18:52:10.568Z"
   },
   {
    "duration": 746,
    "start_time": "2022-01-25T18:52:10.589Z"
   },
   {
    "duration": 177,
    "start_time": "2022-01-25T18:52:11.337Z"
   },
   {
    "duration": 44,
    "start_time": "2022-01-25T18:52:11.516Z"
   },
   {
    "duration": 3367,
    "start_time": "2022-01-25T18:52:11.562Z"
   },
   {
    "duration": 1333,
    "start_time": "2022-01-25T18:52:14.931Z"
   },
   {
    "duration": 930,
    "start_time": "2022-01-25T18:52:16.267Z"
   },
   {
    "duration": 734,
    "start_time": "2022-01-25T18:52:17.199Z"
   },
   {
    "duration": 903,
    "start_time": "2022-01-25T18:52:17.935Z"
   },
   {
    "duration": 155,
    "start_time": "2022-01-25T18:52:18.840Z"
   },
   {
    "duration": 172,
    "start_time": "2022-01-25T18:52:18.997Z"
   },
   {
    "duration": 213,
    "start_time": "2022-01-25T18:52:19.171Z"
   },
   {
    "duration": 179,
    "start_time": "2022-01-25T18:52:19.386Z"
   },
   {
    "duration": 814,
    "start_time": "2022-01-25T18:53:21.960Z"
   },
   {
    "duration": 1173,
    "start_time": "2022-01-25T18:53:37.835Z"
   },
   {
    "duration": 857,
    "start_time": "2022-01-25T18:53:47.197Z"
   },
   {
    "duration": 1161,
    "start_time": "2022-01-25T19:00:55.188Z"
   },
   {
    "duration": 1011,
    "start_time": "2022-01-25T19:00:56.352Z"
   },
   {
    "duration": 12,
    "start_time": "2022-01-25T19:00:57.365Z"
   },
   {
    "duration": 94,
    "start_time": "2022-01-25T19:00:57.379Z"
   },
   {
    "duration": 215,
    "start_time": "2022-01-25T19:00:57.474Z"
   },
   {
    "duration": 72,
    "start_time": "2022-01-25T19:00:57.690Z"
   },
   {
    "duration": 69,
    "start_time": "2022-01-25T19:00:57.764Z"
   },
   {
    "duration": 58,
    "start_time": "2022-01-25T19:00:57.836Z"
   },
   {
    "duration": 33,
    "start_time": "2022-01-25T19:00:57.896Z"
   },
   {
    "duration": 64,
    "start_time": "2022-01-25T19:00:57.931Z"
   },
   {
    "duration": 148,
    "start_time": "2022-01-25T19:00:57.996Z"
   },
   {
    "duration": 14,
    "start_time": "2022-01-25T19:00:58.146Z"
   },
   {
    "duration": 13,
    "start_time": "2022-01-25T19:00:58.162Z"
   },
   {
    "duration": 1668,
    "start_time": "2022-01-25T19:00:58.177Z"
   },
   {
    "duration": 217,
    "start_time": "2022-01-25T19:00:59.846Z"
   },
   {
    "duration": 47,
    "start_time": "2022-01-25T19:01:00.066Z"
   },
   {
    "duration": 4025,
    "start_time": "2022-01-25T19:01:00.115Z"
   },
   {
    "duration": 1125,
    "start_time": "2022-01-25T19:01:04.142Z"
   },
   {
    "duration": 868,
    "start_time": "2022-01-25T19:01:05.269Z"
   },
   {
    "duration": 721,
    "start_time": "2022-01-25T19:01:06.139Z"
   },
   {
    "duration": 1119,
    "start_time": "2022-01-25T19:01:06.862Z"
   },
   {
    "duration": 161,
    "start_time": "2022-01-25T19:01:07.983Z"
   },
   {
    "duration": 158,
    "start_time": "2022-01-25T19:01:08.147Z"
   },
   {
    "duration": 208,
    "start_time": "2022-01-25T19:01:08.307Z"
   },
   {
    "duration": 182,
    "start_time": "2022-01-25T19:01:08.517Z"
   },
   {
    "duration": 1063,
    "start_time": "2022-02-02T18:49:46.866Z"
   },
   {
    "duration": 841,
    "start_time": "2022-02-02T18:49:47.931Z"
   },
   {
    "duration": 9,
    "start_time": "2022-02-02T18:49:48.774Z"
   },
   {
    "duration": 66,
    "start_time": "2022-02-02T18:49:48.785Z"
   },
   {
    "duration": 174,
    "start_time": "2022-02-02T18:49:48.853Z"
   },
   {
    "duration": 59,
    "start_time": "2022-02-02T18:49:49.029Z"
   },
   {
    "duration": 57,
    "start_time": "2022-02-02T18:49:49.090Z"
   },
   {
    "duration": 61,
    "start_time": "2022-02-02T18:49:49.151Z"
   },
   {
    "duration": 29,
    "start_time": "2022-02-02T18:49:49.214Z"
   },
   {
    "duration": 59,
    "start_time": "2022-02-02T18:49:49.244Z"
   },
   {
    "duration": 182,
    "start_time": "2022-02-02T18:49:49.304Z"
   },
   {
    "duration": 8,
    "start_time": "2022-02-02T18:49:49.488Z"
   },
   {
    "duration": 10,
    "start_time": "2022-02-02T18:49:49.498Z"
   },
   {
    "duration": 1082,
    "start_time": "2022-02-02T18:49:49.510Z"
   },
   {
    "duration": 400,
    "start_time": "2022-02-02T18:49:50.594Z"
   },
   {
    "duration": 40,
    "start_time": "2022-02-02T18:49:50.996Z"
   },
   {
    "duration": 3946,
    "start_time": "2022-02-02T18:49:51.037Z"
   },
   {
    "duration": 1104,
    "start_time": "2022-02-02T18:49:54.984Z"
   },
   {
    "duration": 770,
    "start_time": "2022-02-02T18:49:56.090Z"
   },
   {
    "duration": 731,
    "start_time": "2022-02-02T18:49:56.862Z"
   },
   {
    "duration": 1620,
    "start_time": "2022-02-02T18:49:57.595Z"
   },
   {
    "duration": 261,
    "start_time": "2022-02-02T18:49:59.217Z"
   },
   {
    "duration": 297,
    "start_time": "2022-02-02T18:49:59.481Z"
   },
   {
    "duration": 249,
    "start_time": "2022-02-02T18:49:59.781Z"
   },
   {
    "duration": 158,
    "start_time": "2022-02-02T18:50:00.032Z"
   },
   {
    "duration": 1091,
    "start_time": "2022-02-02T22:30:13.236Z"
   },
   {
    "duration": 1099,
    "start_time": "2022-02-02T22:30:14.328Z"
   },
   {
    "duration": 9,
    "start_time": "2022-02-02T22:30:15.429Z"
   },
   {
    "duration": 65,
    "start_time": "2022-02-02T22:30:15.439Z"
   },
   {
    "duration": 161,
    "start_time": "2022-02-02T22:30:15.506Z"
   },
   {
    "duration": 46,
    "start_time": "2022-02-02T22:30:15.668Z"
   },
   {
    "duration": 63,
    "start_time": "2022-02-02T22:30:15.715Z"
   },
   {
    "duration": 31,
    "start_time": "2022-02-02T22:30:15.779Z"
   },
   {
    "duration": 39,
    "start_time": "2022-02-02T22:30:15.812Z"
   },
   {
    "duration": 35,
    "start_time": "2022-02-02T22:30:15.853Z"
   },
   {
    "duration": 135,
    "start_time": "2022-02-02T22:30:15.889Z"
   },
   {
    "duration": 7,
    "start_time": "2022-02-02T22:30:16.025Z"
   },
   {
    "duration": 9,
    "start_time": "2022-02-02T22:30:16.034Z"
   },
   {
    "duration": 834,
    "start_time": "2022-02-02T22:30:16.044Z"
   },
   {
    "duration": 232,
    "start_time": "2022-02-02T22:30:16.880Z"
   },
   {
    "duration": 36,
    "start_time": "2022-02-02T22:30:17.114Z"
   },
   {
    "duration": 2937,
    "start_time": "2022-02-02T22:30:17.151Z"
   },
   {
    "duration": 847,
    "start_time": "2022-02-02T22:30:20.090Z"
   },
   {
    "duration": 669,
    "start_time": "2022-02-02T22:30:20.938Z"
   },
   {
    "duration": 592,
    "start_time": "2022-02-02T22:30:21.609Z"
   },
   {
    "duration": 744,
    "start_time": "2022-02-02T22:30:22.202Z"
   },
   {
    "duration": 209,
    "start_time": "2022-02-02T22:30:22.948Z"
   },
   {
    "duration": 231,
    "start_time": "2022-02-02T22:30:23.159Z"
   },
   {
    "duration": 263,
    "start_time": "2022-02-02T22:30:23.392Z"
   },
   {
    "duration": 220,
    "start_time": "2022-02-02T22:30:23.657Z"
   }
  ],
  "kernelspec": {
   "display_name": "Python 3",
   "language": "python",
   "name": "python3"
  },
  "language_info": {
   "codemirror_mode": {
    "name": "ipython",
    "version": 3
   },
   "file_extension": ".py",
   "mimetype": "text/x-python",
   "name": "python",
   "nbconvert_exporter": "python",
   "pygments_lexer": "ipython3",
   "version": "3.7.8"
  },
  "toc": {
   "base_numbering": "1",
   "nav_menu": {},
   "number_sections": true,
   "sideBar": true,
   "skip_h1_title": true,
   "title_cell": "Содержание",
   "title_sidebar": "Contents",
   "toc_cell": true,
   "toc_position": {},
   "toc_section_display": true,
   "toc_window_display": true
  }
 },
 "nbformat": 4,
 "nbformat_minor": 2
}
