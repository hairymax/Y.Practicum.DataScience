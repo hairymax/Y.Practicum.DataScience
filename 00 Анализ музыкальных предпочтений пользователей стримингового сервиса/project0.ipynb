{
 "cells": [
  {
   "cell_type": "markdown",
   "metadata": {
    "id": "E0vqbgi9ay0H"
   },
   "source": [
    "# Яндекс.Музыка\n",
    "\n",
    "Сравнение Москвы и Петербурга окружено мифами. Например:\n",
    " * Москва — мегаполис, подчинённый жёсткому ритму рабочей недели;\n",
    " * Петербург — культурная столица, со своими вкусами.\n",
    "\n",
    "На данных Яндекс.Музыки необходимо сравнить поведение пользователей двух столиц.\n",
    "\n",
    "**Цель исследования** — проверить три гипотезы:\n",
    "1. Активность пользователей зависит от дня недели. Причём в Москве и Петербурге это проявляется по-разному.\n",
    "2. В понедельник утром в Москве преобладают одни жанры, а в Петербурге — другие. Так же и вечером пятницы преобладают разные жанры — в зависимости от города. \n",
    "3. Москва и Петербург предпочитают разные жанры музыки. В Москве чаще слушают поп-музыку, в Петербурге — русский рэп.\n",
    "\n",
    "**Ход исследования**\n",
    "\n",
    "Данные о поведении пользователей находятся в файле `yandex_music_project.csv`. О качестве данных ничего не известно. Поэтому перед проверкой гипотез понадобится обзор данных. \n",
    "\n",
    "Необходимо проверить данные на ошибки и оценить их влияние на исследование. На этапе предобработки исправить самые критичные ошибки данных.\n",
    " \n",
    "Таким образом, исследование пройдёт в три этапа:\n",
    " 1. Обзор данных.\n",
    " 2. Предобработка данных.\n",
    " 3. Проверка гипотез.\n"
   ]
  },
  {
   "cell_type": "markdown",
   "metadata": {
    "toc": true
   },
   "source": [
    "<h1>Содержание<span class=\"tocSkip\"></span></h1>\n",
    "<div class=\"toc\"><ul class=\"toc-item\"><li><span><a href=\"#Обзор-данных\" data-toc-modified-id=\"Обзор-данных-1\"><span class=\"toc-item-num\">1&nbsp;&nbsp;</span>Обзор данных</a></span></li><li><span><a href=\"#Предобработка-данных\" data-toc-modified-id=\"Предобработка-данных-2\"><span class=\"toc-item-num\">2&nbsp;&nbsp;</span>Предобработка данных</a></span><ul class=\"toc-item\"><li><span><a href=\"#Стиль-заголовков\" data-toc-modified-id=\"Стиль-заголовков-2.1\"><span class=\"toc-item-num\">2.1&nbsp;&nbsp;</span>Стиль заголовков</a></span></li><li><span><a href=\"#Пропуски-значений\" data-toc-modified-id=\"Пропуски-значений-2.2\"><span class=\"toc-item-num\">2.2&nbsp;&nbsp;</span>Пропуски значений</a></span></li><li><span><a href=\"#Дубликаты\" data-toc-modified-id=\"Дубликаты-2.3\"><span class=\"toc-item-num\">2.3&nbsp;&nbsp;</span>Дубликаты</a></span></li></ul></li><li><span><a href=\"#Проверка-гипотез\" data-toc-modified-id=\"Проверка-гипотез-3\"><span class=\"toc-item-num\">3&nbsp;&nbsp;</span>Проверка гипотез</a></span><ul class=\"toc-item\"><li><span><a href=\"#Сравнение-поведения-пользователей-двух-столиц\" data-toc-modified-id=\"Сравнение-поведения-пользователей-двух-столиц-3.1\"><span class=\"toc-item-num\">3.1&nbsp;&nbsp;</span>Сравнение поведения пользователей двух столиц</a></span></li><li><span><a href=\"#Музыка-в-начале-и-в-конце-недели\" data-toc-modified-id=\"Музыка-в-начале-и-в-конце-недели-3.2\"><span class=\"toc-item-num\">3.2&nbsp;&nbsp;</span>Музыка в начале и в конце недели</a></span></li><li><span><a href=\"#Жанровые-предпочтения-в-Москве-и-Петербурге\" data-toc-modified-id=\"Жанровые-предпочтения-в-Москве-и-Петербурге-3.3\"><span class=\"toc-item-num\">3.3&nbsp;&nbsp;</span>Жанровые предпочтения в Москве и Петербурге</a></span></li></ul></li><li><span><a href=\"#Итоги-исследования\" data-toc-modified-id=\"Итоги-исследования-4\"><span class=\"toc-item-num\">4&nbsp;&nbsp;</span>Итоги исследования</a></span></li></ul></div>"
   ]
  },
  {
   "cell_type": "markdown",
   "metadata": {
    "id": "Ml1hmfXC_Zcs"
   },
   "source": [
    "## Обзор данных\n",
    "\n",
    "Первое представление о данных Яндекс.Музыки."
   ]
  },
  {
   "cell_type": "markdown",
   "metadata": {
    "id": "57eAOGIz_Zcs"
   },
   "source": [
    "Импортируем библиотеку `pandas`."
   ]
  },
  {
   "cell_type": "code",
   "execution_count": 1,
   "metadata": {
    "id": "AXN7PHPN_Zcs"
   },
   "outputs": [],
   "source": [
    "import pandas as pd"
   ]
  },
  {
   "cell_type": "markdown",
   "metadata": {
    "id": "SG23P8tt_Zcs"
   },
   "source": [
    "Считаем данные и сохраните их в переменной `df`:"
   ]
  },
  {
   "cell_type": "code",
   "execution_count": 2,
   "metadata": {
    "id": "fFVu7vqh_Zct"
   },
   "outputs": [],
   "source": [
    "# получаем данные из файла в DataFrame\n",
    "df = pd.read_csv('../datasets/yandex_music_project.csv')"
   ]
  },
  {
   "cell_type": "markdown",
   "metadata": {
    "id": "rDoOMd3uTqnZ"
   },
   "source": [
    "Выведем на экран первые десять строк таблицы:"
   ]
  },
  {
   "cell_type": "code",
   "execution_count": 3,
   "metadata": {
    "id": "oWTVX3gW_Zct"
   },
   "outputs": [
    {
     "data": {
      "text/html": [
       "<div>\n",
       "<style scoped>\n",
       "    .dataframe tbody tr th:only-of-type {\n",
       "        vertical-align: middle;\n",
       "    }\n",
       "\n",
       "    .dataframe tbody tr th {\n",
       "        vertical-align: top;\n",
       "    }\n",
       "\n",
       "    .dataframe thead th {\n",
       "        text-align: right;\n",
       "    }\n",
       "</style>\n",
       "<table border=\"1\" class=\"dataframe\">\n",
       "  <thead>\n",
       "    <tr style=\"text-align: right;\">\n",
       "      <th></th>\n",
       "      <th>userID</th>\n",
       "      <th>Track</th>\n",
       "      <th>artist</th>\n",
       "      <th>genre</th>\n",
       "      <th>City</th>\n",
       "      <th>time</th>\n",
       "      <th>Day</th>\n",
       "    </tr>\n",
       "  </thead>\n",
       "  <tbody>\n",
       "    <tr>\n",
       "      <th>0</th>\n",
       "      <td>FFB692EC</td>\n",
       "      <td>Kamigata To Boots</td>\n",
       "      <td>The Mass Missile</td>\n",
       "      <td>rock</td>\n",
       "      <td>Saint-Petersburg</td>\n",
       "      <td>20:28:33</td>\n",
       "      <td>Wednesday</td>\n",
       "    </tr>\n",
       "    <tr>\n",
       "      <th>1</th>\n",
       "      <td>55204538</td>\n",
       "      <td>Delayed Because of Accident</td>\n",
       "      <td>Andreas Rönnberg</td>\n",
       "      <td>rock</td>\n",
       "      <td>Moscow</td>\n",
       "      <td>14:07:09</td>\n",
       "      <td>Friday</td>\n",
       "    </tr>\n",
       "    <tr>\n",
       "      <th>2</th>\n",
       "      <td>20EC38</td>\n",
       "      <td>Funiculì funiculà</td>\n",
       "      <td>Mario Lanza</td>\n",
       "      <td>pop</td>\n",
       "      <td>Saint-Petersburg</td>\n",
       "      <td>20:58:07</td>\n",
       "      <td>Wednesday</td>\n",
       "    </tr>\n",
       "    <tr>\n",
       "      <th>3</th>\n",
       "      <td>A3DD03C9</td>\n",
       "      <td>Dragons in the Sunset</td>\n",
       "      <td>Fire + Ice</td>\n",
       "      <td>folk</td>\n",
       "      <td>Saint-Petersburg</td>\n",
       "      <td>08:37:09</td>\n",
       "      <td>Monday</td>\n",
       "    </tr>\n",
       "    <tr>\n",
       "      <th>4</th>\n",
       "      <td>E2DC1FAE</td>\n",
       "      <td>Soul People</td>\n",
       "      <td>Space Echo</td>\n",
       "      <td>dance</td>\n",
       "      <td>Moscow</td>\n",
       "      <td>08:34:34</td>\n",
       "      <td>Monday</td>\n",
       "    </tr>\n",
       "    <tr>\n",
       "      <th>5</th>\n",
       "      <td>842029A1</td>\n",
       "      <td>Преданная</td>\n",
       "      <td>IMPERVTOR</td>\n",
       "      <td>rusrap</td>\n",
       "      <td>Saint-Petersburg</td>\n",
       "      <td>13:09:41</td>\n",
       "      <td>Friday</td>\n",
       "    </tr>\n",
       "    <tr>\n",
       "      <th>6</th>\n",
       "      <td>4CB90AA5</td>\n",
       "      <td>True</td>\n",
       "      <td>Roman Messer</td>\n",
       "      <td>dance</td>\n",
       "      <td>Moscow</td>\n",
       "      <td>13:00:07</td>\n",
       "      <td>Wednesday</td>\n",
       "    </tr>\n",
       "    <tr>\n",
       "      <th>7</th>\n",
       "      <td>F03E1C1F</td>\n",
       "      <td>Feeling This Way</td>\n",
       "      <td>Polina Griffith</td>\n",
       "      <td>dance</td>\n",
       "      <td>Moscow</td>\n",
       "      <td>20:47:49</td>\n",
       "      <td>Wednesday</td>\n",
       "    </tr>\n",
       "    <tr>\n",
       "      <th>8</th>\n",
       "      <td>8FA1D3BE</td>\n",
       "      <td>И вновь продолжается бой</td>\n",
       "      <td>NaN</td>\n",
       "      <td>ruspop</td>\n",
       "      <td>Moscow</td>\n",
       "      <td>09:17:40</td>\n",
       "      <td>Friday</td>\n",
       "    </tr>\n",
       "    <tr>\n",
       "      <th>9</th>\n",
       "      <td>E772D5C0</td>\n",
       "      <td>Pessimist</td>\n",
       "      <td>NaN</td>\n",
       "      <td>dance</td>\n",
       "      <td>Saint-Petersburg</td>\n",
       "      <td>21:20:49</td>\n",
       "      <td>Wednesday</td>\n",
       "    </tr>\n",
       "  </tbody>\n",
       "</table>\n",
       "</div>"
      ],
      "text/plain": [
       "     userID                        Track            artist   genre  \\\n",
       "0  FFB692EC            Kamigata To Boots  The Mass Missile    rock   \n",
       "1  55204538  Delayed Because of Accident  Andreas Rönnberg    rock   \n",
       "2    20EC38            Funiculì funiculà       Mario Lanza     pop   \n",
       "3  A3DD03C9        Dragons in the Sunset        Fire + Ice    folk   \n",
       "4  E2DC1FAE                  Soul People        Space Echo   dance   \n",
       "5  842029A1                    Преданная         IMPERVTOR  rusrap   \n",
       "6  4CB90AA5                         True      Roman Messer   dance   \n",
       "7  F03E1C1F             Feeling This Way   Polina Griffith   dance   \n",
       "8  8FA1D3BE     И вновь продолжается бой               NaN  ruspop   \n",
       "9  E772D5C0                    Pessimist               NaN   dance   \n",
       "\n",
       "             City        time        Day  \n",
       "0  Saint-Petersburg  20:28:33  Wednesday  \n",
       "1            Moscow  14:07:09     Friday  \n",
       "2  Saint-Petersburg  20:58:07  Wednesday  \n",
       "3  Saint-Petersburg  08:37:09     Monday  \n",
       "4            Moscow  08:34:34     Monday  \n",
       "5  Saint-Petersburg  13:09:41     Friday  \n",
       "6            Moscow  13:00:07  Wednesday  \n",
       "7            Moscow  20:47:49  Wednesday  \n",
       "8            Moscow  09:17:40     Friday  \n",
       "9  Saint-Petersburg  21:20:49  Wednesday  "
      ]
     },
     "execution_count": 3,
     "metadata": {},
     "output_type": "execute_result"
    }
   ],
   "source": [
    "df.head(10)"
   ]
  },
  {
   "cell_type": "markdown",
   "metadata": {
    "id": "EO73Kwic_Zct"
   },
   "source": [
    "Одной командой получим общую информацию о таблице:"
   ]
  },
  {
   "cell_type": "code",
   "execution_count": 4,
   "metadata": {
    "id": "DSf2kIb-_Zct"
   },
   "outputs": [
    {
     "name": "stdout",
     "output_type": "stream",
     "text": [
      "<class 'pandas.core.frame.DataFrame'>\n",
      "RangeIndex: 65079 entries, 0 to 65078\n",
      "Data columns (total 7 columns):\n",
      " #   Column    Non-Null Count  Dtype \n",
      "---  ------    --------------  ----- \n",
      " 0     userID  65079 non-null  object\n",
      " 1   Track     63848 non-null  object\n",
      " 2   artist    57876 non-null  object\n",
      " 3   genre     63881 non-null  object\n",
      " 4     City    65079 non-null  object\n",
      " 5   time      65079 non-null  object\n",
      " 6   Day       65079 non-null  object\n",
      "dtypes: object(7)\n",
      "memory usage: 3.5+ MB\n"
     ]
    }
   ],
   "source": [
    "df.info()"
   ]
  },
  {
   "cell_type": "markdown",
   "metadata": {
    "id": "TaQ2Iwbr_Zct"
   },
   "source": [
    "Итак, в таблице семь столбцов. Тип данных во всех столбцах — `object`.\n",
    "\n",
    "Согласно документации к данным:\n",
    "* `userID` — идентификатор пользователя;\n",
    "* `Track` — название трека;  \n",
    "* `artist` — имя исполнителя;\n",
    "* `genre` — название жанра;\n",
    "* `City` — город пользователя;\n",
    "* `time` — время начала прослушивания;\n",
    "* `Day` — день недели.\n",
    "\n",
    "В названиях колонок видны три нарушения стиля:\n",
    "1. Строчные буквы сочетаются с прописными.\n",
    "2. Встречаются пробелы.\n",
    "3. Используется верблюжий регистр вместо змеиного.\n",
    "\n",
    "\n",
    "\n",
    "Количество значений в столбцах различается. Значит, в данных есть пропущенные значения.\n"
   ]
  },
  {
   "cell_type": "markdown",
   "metadata": {
    "id": "MCB6-dXG_Zct"
   },
   "source": [
    "**Выводы**\n",
    "\n",
    "В каждой строке таблицы — данные о прослушанном треке. Часть колонок описывает саму композицию: название, исполнителя и жанр. Остальные данные рассказывают о пользователе: из какого он города, когда он слушал музыку. \n",
    "\n",
    "Предварительно можно утверждать, что, данных достаточно для проверки гипотез. Но встречаются пропуски в данных, а в названиях колонок — расхождения с хорошим стилем.\n",
    "\n",
    "Устраним проблемы в данных."
   ]
  },
  {
   "cell_type": "markdown",
   "metadata": {
    "id": "SjYF6Ub9_Zct"
   },
   "source": [
    "## Предобработка данных\n",
    "Исправим стиль в заголовках столбцов, исключим пропуски. Затем проверим данные на дубликаты."
   ]
  },
  {
   "cell_type": "markdown",
   "metadata": {
    "id": "dIaKXr29_Zct"
   },
   "source": [
    "### Стиль заголовков\n",
    "Выведем на экран названия столбцов:"
   ]
  },
  {
   "cell_type": "code",
   "execution_count": 5,
   "metadata": {
    "id": "oKOTdF_Q_Zct"
   },
   "outputs": [
    {
     "data": {
      "text/plain": [
       "['  userID', 'Track', 'artist', 'genre', '  City  ', 'time', 'Day']"
      ]
     },
     "execution_count": 5,
     "metadata": {},
     "output_type": "execute_result"
    }
   ],
   "source": [
    "# перечень названий столбцов таблицы df\n",
    "col_names = list(df.columns)\n",
    "col_names"
   ]
  },
  {
   "cell_type": "markdown",
   "metadata": {
    "id": "zj5534cv_Zct"
   },
   "source": [
    "Приведите названия в соответствие с хорошим стилем:\n",
    "* несколько слов в названии запишите в «змеином_регистре»,\n",
    "* все символы сделайте строчными,\n",
    "* устраните пробелы.\n",
    "\n",
    "Для этого переименуйте колонки так:\n",
    "* `'  userID'` → `'user_id'`;\n",
    "* `'Track'` → `'track'`;\n",
    "* `'  City  '` → `'city'`;\n",
    "* `'Day'` → `'day'`."
   ]
  },
  {
   "cell_type": "code",
   "execution_count": 6,
   "metadata": {
    "id": "ISlFqs5y_Zct"
   },
   "outputs": [],
   "source": [
    "# переименование столбцов\n",
    "\n",
    "# приведём к нижнему регистру и удалим пробелы, они только на концах - используем функцию strip()\n",
    "col_names = [name.lower().strip() for name in col_names]\n",
    "# ID полльзователя к змеиному регистру приведём ручным присвоением\n",
    "col_names[0] = 'user_id' \n",
    "# заменяем названия столбцов в датафрейме\n",
    "df.columns = col_names"
   ]
  },
  {
   "cell_type": "markdown",
   "metadata": {
    "id": "1dqbh00J_Zct"
   },
   "source": [
    "Проверим результат. Для этого ещё раз выведем на экран названия столбцов:"
   ]
  },
  {
   "cell_type": "code",
   "execution_count": 7,
   "metadata": {
    "id": "d4NOAmTW_Zct"
   },
   "outputs": [
    {
     "data": {
      "text/plain": [
       "['user_id', 'track', 'artist', 'genre', 'city', 'time', 'day']"
      ]
     },
     "execution_count": 7,
     "metadata": {},
     "output_type": "execute_result"
    }
   ],
   "source": [
    "# проверка результатов - перечень названий столбцов\n",
    "list(df.columns)"
   ]
  },
  {
   "cell_type": "markdown",
   "metadata": {
    "id": "5ISfbcfY_Zct"
   },
   "source": [
    "### Пропуски значений\n",
    "Сначала посчитаем, сколько в таблице пропущенных значений."
   ]
  },
  {
   "cell_type": "code",
   "execution_count": 8,
   "metadata": {
    "id": "RskX29qr_Zct"
   },
   "outputs": [
    {
     "data": {
      "text/plain": [
       "user_id       0\n",
       "track      1231\n",
       "artist     7203\n",
       "genre      1198\n",
       "city          0\n",
       "time          0\n",
       "day           0\n",
       "dtype: int64"
      ]
     },
     "execution_count": 8,
     "metadata": {},
     "output_type": "execute_result"
    }
   ],
   "source": [
    "# подсчёт пропусков\n",
    "df.isna().sum()"
   ]
  },
  {
   "cell_type": "markdown",
   "metadata": {
    "id": "qubhgnlO_Zct"
   },
   "source": [
    "Не все пропущенные значения влияют на исследование. Так в `track` и `artist` пропуски не важны для работы. Достаточно заменить их явными обозначениями.\n",
    "\n",
    "Но пропуски в `genre` могут помешать сравнению музыкальных вкусов в Москве и Санкт-Петербурге. На практике было бы правильно установить причину пропусков и восстановить данные. Такой возможности нет в учебном проекте. Придётся:\n",
    "* заполнить и эти пропуски явными обозначениями,\n",
    "* оценить, насколько они повредят расчётам. "
   ]
  },
  {
   "cell_type": "markdown",
   "metadata": {
    "id": "fSv2laPA_Zct"
   },
   "source": [
    "Заменим пропущенные значения в столбцах `track`, `artist` и `genre` на строку `'unknown'`. Для этого создадим список `columns_to_replace`, переберём его элементы циклом `for` и для каждого столбца выполним замену пропущенных значений:"
   ]
  },
  {
   "cell_type": "code",
   "execution_count": 9,
   "metadata": {
    "id": "KplB5qWs_Zct"
   },
   "outputs": [],
   "source": [
    "# перебор названий столбцов в цикле и замена пропущенных значений на 'unknown'\n",
    "for name in ['track', 'artist', 'genre']:\n",
    "    df[name] = df[name].fillna('unknown')"
   ]
  },
  {
   "cell_type": "markdown",
   "metadata": {
    "id": "Ilsm-MZo_Zct"
   },
   "source": [
    "Убедимся, что в таблице не осталось пропусков. Ещё раз посчитаем пропущенные значения."
   ]
  },
  {
   "cell_type": "code",
   "execution_count": 10,
   "metadata": {
    "id": "Tq4nYRX4_Zct"
   },
   "outputs": [
    {
     "data": {
      "text/plain": [
       "user_id    0\n",
       "track      0\n",
       "artist     0\n",
       "genre      0\n",
       "city       0\n",
       "time       0\n",
       "day        0\n",
       "dtype: int64"
      ]
     },
     "execution_count": 10,
     "metadata": {},
     "output_type": "execute_result"
    }
   ],
   "source": [
    "# подсчёт пропусков\n",
    "df.isna().sum()"
   ]
  },
  {
   "cell_type": "markdown",
   "metadata": {
    "id": "BWKRtBJ3_Zct"
   },
   "source": [
    "### Дубликаты\n",
    "Посчитаем явные дубликаты в таблице одной командой:"
   ]
  },
  {
   "cell_type": "code",
   "execution_count": 11,
   "metadata": {
    "id": "36eES_S0_Zct"
   },
   "outputs": [
    {
     "data": {
      "text/plain": [
       "3826"
      ]
     },
     "execution_count": 11,
     "metadata": {},
     "output_type": "execute_result"
    }
   ],
   "source": [
    "# подсчёт явных дубликатов\n",
    "df.duplicated().sum()"
   ]
  },
  {
   "cell_type": "markdown",
   "metadata": {
    "id": "Ot25h6XR_Zct"
   },
   "source": [
    "Вызовем специальный метод `pandas`, чтобы удалить явные дубликаты:"
   ]
  },
  {
   "cell_type": "code",
   "execution_count": 12,
   "metadata": {
    "id": "exFHq6tt_Zct"
   },
   "outputs": [],
   "source": [
    "# удаление явных дубликатов (с удалением старых индексов и формированием новых)\n",
    "df = df.drop_duplicates().reset_index() "
   ]
  },
  {
   "cell_type": "markdown",
   "metadata": {
    "id": "Im2YwBEG_Zct"
   },
   "source": [
    "Ещё раз посчитаем явные дубликаты в таблице — убедимся, что полностью от них избавились:"
   ]
  },
  {
   "cell_type": "code",
   "execution_count": 13,
   "metadata": {
    "id": "-8PuNWQ0_Zct"
   },
   "outputs": [
    {
     "data": {
      "text/plain": [
       "0"
      ]
     },
     "execution_count": 13,
     "metadata": {},
     "output_type": "execute_result"
    }
   ],
   "source": [
    "# проверка на отсутствие дубликатов\n",
    "df.duplicated().sum()"
   ]
  },
  {
   "cell_type": "markdown",
   "metadata": {
    "id": "QlFBsxAr_Zct"
   },
   "source": [
    "Избавимся от неявных дубликатов в колонке `genre`. Название одного и того же жанра может быть записано немного по-разному. Такие ошибки тоже повлияют на результат исследования."
   ]
  },
  {
   "cell_type": "markdown",
   "metadata": {
    "id": "eSjWwsOh_Zct"
   },
   "source": [
    "Выведем на экран список уникальных названий жанров, отсортированный в алфавитном порядке. Для этого:\n",
    "* извлечём нужный столбец датафрейма, \n",
    "* применим к нему метод сортировки,\n",
    "* для отсортированного столбца вызовите метод, который вернёт уникальные значения из столбца."
   ]
  },
  {
   "cell_type": "code",
   "execution_count": 14,
   "metadata": {
    "id": "JIUcqzZN_Zct"
   },
   "outputs": [
    {
     "name": "stdout",
     "output_type": "stream",
     "text": [
      "acid                dancehall           hardcore            neoklassik          schlager            \n",
      "acoustic            dancepop            hardstyle           neue                self                \n",
      "action              dark                hardtechno          new                 sertanejo           \n",
      "adult               death               hip                 newage              shanson             \n",
      "africa              deep                hip-hop             newwave             shoegazing          \n",
      "afrikaans           deutschrock         hiphop              nu                  showtunes           \n",
      "alternative         deutschspr          historisch          nujazz              singer              \n",
      "alternativepunk     dirty               holiday             numetal             ska                 \n",
      "ambient             disco               hop                 oceania             skarock             \n",
      "americana           dnb                 horror              old                 slow                \n",
      "animated            documentary         house               opera               smooth              \n",
      "anime               downbeat            hymn                orchestral          soft                \n",
      "arabesk             downtempo           idm                 other               soul                \n",
      "arabic              drum                independent         piano               soulful             \n",
      "arena               dub                 indian              podcasts            sound               \n",
      "argentinetango      dubstep             indie               pop                 soundtrack          \n",
      "art                 eastern             indipop             popdance            southern            \n",
      "audiobook           easy                industrial          popelectronic       specialty           \n",
      "author              electronic          inspirational       popeurodance        speech              \n",
      "avantgarde          electropop          instrumental        poprussian          spiritual           \n",
      "axé                 emo                 international       post                sport               \n",
      "baile               entehno             irish               posthardcore        stonerrock          \n",
      "balkan              epicmetal           jam                 postrock            surf                \n",
      "beats               estrada             japanese            power               swing               \n",
      "bigroom             ethnic              jazz                progmetal           synthpop            \n",
      "black               eurofolk            jewish              progressive         synthrock           \n",
      "bluegrass           european            jpop                psychedelic         sängerportrait      \n",
      "blues               experimental        jungle              punjabi             tango               \n",
      "bollywood           extrememetal        k-pop               punk                tanzorchester       \n",
      "bossa               fado                karadeniz           quebecois           taraftar            \n",
      "brazilian           fairytail           karaoke             ragga               tatar               \n",
      "breakbeat           film                kayokyoku           ram                 tech                \n",
      "breaks              fitness             korean              rancheras           techno              \n",
      "broadway            flamenco            laiko               rap                 teen                \n",
      "cantautori          folk                latin               rave                thrash              \n",
      "cantopop            folklore            latino              reggae              top                 \n",
      "canzone             folkmetal           leftfield           reggaeton           traditional         \n",
      "caribbean           folkrock            local               regional            tradjazz            \n",
      "caucasian           folktronica         lounge              relax               trance              \n",
      "celtic              forró               loungeelectronic    religious           tribal              \n",
      "chamber             frankreich          lovers              retro               trip                \n",
      "chanson             französisch         malaysian           rhythm              triphop             \n",
      "children            french              mandopop            rnb                 tropical            \n",
      "chill               funk                marschmusik         rnr                 türk                \n",
      "chinese             future              meditative          rock                türkçe              \n",
      "choral              gangsta             mediterranean       rockabilly          ukrrock             \n",
      "christian           garage              melodic             rockalternative     unknown             \n",
      "christmas           german              metal               rockindie           urban               \n",
      "classical           ghazal              metalcore           rockother           uzbek               \n",
      "classicmetal        gitarre             mexican             romance             variété             \n",
      "club                glitch              middle              roots               vi                  \n",
      "colombian           gospel              minimal             ruspop              videogame           \n",
      "comedy              gothic              miscellaneous       rusrap              vocal               \n",
      "conjazz             grime               modern              rusrock             western             \n",
      "contemporary        grunge              mood                russian             world               \n",
      "country             gypsy               mpb                 salsa               worldbeat           \n",
      "cuban               handsup             muslim              samba               ïîï                 \n",
      "dance               hard'n'heavy        native              scenic              электроника         \n"
     ]
    }
   ],
   "source": [
    "# Просмотр уникальных названий жанров\n",
    "genres_list = df['genre'].sort_values().unique()\n",
    "\n",
    "# сделаем вывод по столбцам, чтобы было удобнее смотреть\n",
    "def print_by_columns(list_to_print, col_num = 5, col_width = 20):\n",
    "    \"\"\" Печать списка или массива list_to_print в col_num столбцов шириной col_width в символах \"\"\"\n",
    "    # количество строк для вывода, если размер списка не кратен количеству колонок, добавим одну строку\n",
    "    lines_num = (len(list_to_print) // col_num) + (len(list_to_print) % col_num > 0)\n",
    "    # вывод на экран построчно столбцов шириной col_width\n",
    "    for i in range(lines_num):\n",
    "        line_to_print = ''\n",
    "        for elem in list_to_print[i::lines_num]: line_to_print += elem.ljust(col_width)\n",
    "        print(line_to_print)\n",
    "\n",
    "print_by_columns(genres_list)"
   ]
  },
  {
   "cell_type": "markdown",
   "metadata": {
    "id": "qej-Qmuo_Zct"
   },
   "source": [
    "Просмотр списка выявляет неявные дубликаты названия `hiphop`. Это могут быть названия с ошибками или альтернативные названия того же жанра.\n",
    "\n",
    "Видим следующие неявные дубликаты:\n",
    "* *hip*,\n",
    "* *hop*,\n",
    "* *hip-hop*.\n",
    "\n",
    "Чтобы очистить от них таблицу, напишем функцию `replace_wrong_genres()` с двумя параметрами: \n",
    "* `wrong_genres` — список дубликатов,\n",
    "* `correct_genre` — строка с правильным значением.\n",
    "\n",
    "Функция исправит колонку `genre` в таблице `df`: заменить каждое значение из списка `wrong_genres` на значение из `correct_genre`."
   ]
  },
  {
   "cell_type": "code",
   "execution_count": 15,
   "metadata": {
    "id": "ErNDkmns_Zct"
   },
   "outputs": [],
   "source": [
    "# Функция для замены неявных дубликатов\n",
    "def replace_wrong_genres(wrong_genres, correct_genre):\n",
    "    for genre in wrong_genres:\n",
    "        df['genre'] = df['genre'].replace(genre, correct_genre)"
   ]
  },
  {
   "cell_type": "markdown",
   "metadata": {
    "id": "aDoBJxbA_Zct"
   },
   "source": [
    "Вызовем `replace_wrong_genres()` и передадим ей такие аргументы, чтобы она устранила неявные дубликаты: вместо `hip`, `hop` и `hip-hop` в таблице должно быть значение `hiphop`:"
   ]
  },
  {
   "cell_type": "markdown",
   "metadata": {},
   "source": [
    "В глаза также бросаются жанры: `электроника` - надо заменить на electronic, `ïîï` - вряд ли это можно перевести, но пусть так и останется"
   ]
  },
  {
   "cell_type": "code",
   "execution_count": 16,
   "metadata": {
    "id": "YN5i2hpmSo09"
   },
   "outputs": [],
   "source": [
    "# Устранение неявных дубликатов\n",
    "replace_wrong_genres(['hip', 'hop', 'hip-hop'], 'hiphop')\n",
    "replace_wrong_genres(['электроника'], 'electronic')"
   ]
  },
  {
   "cell_type": "markdown",
   "metadata": {
    "id": "zQKF16_RG15m"
   },
   "source": [
    "Проверим, что заменили неправильные названия.\n",
    "\n",
    "Выведем отсортированный список уникальных значений столбца `genre`:"
   ]
  },
  {
   "cell_type": "code",
   "execution_count": 17,
   "metadata": {
    "id": "wvixALnFG15m"
   },
   "outputs": [
    {
     "name": "stdout",
     "output_type": "stream",
     "text": [
      "acid                dancehall           hardcore            newage              shanson             \n",
      "acoustic            dancepop            hardstyle           newwave             shoegazing          \n",
      "action              dark                hardtechno          nu                  showtunes           \n",
      "adult               death               hiphop              nujazz              singer              \n",
      "africa              deep                historisch          numetal             ska                 \n",
      "afrikaans           deutschrock         holiday             oceania             skarock             \n",
      "alternative         deutschspr          horror              old                 slow                \n",
      "alternativepunk     dirty               house               opera               smooth              \n",
      "ambient             disco               hymn                orchestral          soft                \n",
      "americana           dnb                 idm                 other               soul                \n",
      "animated            documentary         independent         piano               soulful             \n",
      "anime               downbeat            indian              podcasts            sound               \n",
      "arabesk             downtempo           indie               pop                 soundtrack          \n",
      "arabic              drum                indipop             popdance            southern            \n",
      "arena               dub                 industrial          popelectronic       specialty           \n",
      "argentinetango      dubstep             inspirational       popeurodance        speech              \n",
      "art                 eastern             instrumental        poprussian          spiritual           \n",
      "audiobook           easy                international       post                sport               \n",
      "author              electronic          irish               posthardcore        stonerrock          \n",
      "avantgarde          electropop          jam                 postrock            surf                \n",
      "axé                 emo                 japanese            power               swing               \n",
      "baile               entehno             jazz                progmetal           synthpop            \n",
      "balkan              epicmetal           jewish              progressive         synthrock           \n",
      "beats               estrada             jpop                psychedelic         sängerportrait      \n",
      "bigroom             ethnic              jungle              punjabi             tango               \n",
      "black               eurofolk            k-pop               punk                tanzorchester       \n",
      "bluegrass           european            karadeniz           quebecois           taraftar            \n",
      "blues               experimental        karaoke             ragga               tatar               \n",
      "bollywood           extrememetal        kayokyoku           ram                 tech                \n",
      "bossa               fado                korean              rancheras           techno              \n",
      "brazilian           fairytail           laiko               rap                 teen                \n",
      "breakbeat           film                latin               rave                thrash              \n",
      "breaks              fitness             latino              reggae              top                 \n",
      "broadway            flamenco            leftfield           reggaeton           traditional         \n",
      "cantautori          folk                local               regional            tradjazz            \n",
      "cantopop            folklore            lounge              relax               trance              \n",
      "canzone             folkmetal           loungeelectronic    religious           tribal              \n",
      "caribbean           folkrock            lovers              retro               trip                \n",
      "caucasian           folktronica         malaysian           rhythm              triphop             \n",
      "celtic              forró               mandopop            rnb                 tropical            \n",
      "chamber             frankreich          marschmusik         rnr                 türk                \n",
      "chanson             französisch         meditative          rock                türkçe              \n",
      "children            french              mediterranean       rockabilly          ukrrock             \n",
      "chill               funk                melodic             rockalternative     unknown             \n",
      "chinese             future              metal               rockindie           urban               \n",
      "choral              gangsta             metalcore           rockother           uzbek               \n",
      "christian           garage              mexican             romance             variété             \n",
      "christmas           german              middle              roots               vi                  \n",
      "classical           ghazal              minimal             ruspop              videogame           \n",
      "classicmetal        gitarre             miscellaneous       rusrap              vocal               \n",
      "club                glitch              modern              rusrock             western             \n",
      "colombian           gospel              mood                russian             world               \n",
      "comedy              gothic              mpb                 salsa               worldbeat           \n",
      "conjazz             grime               muslim              samba               ïîï                 \n",
      "contemporary        grunge              native              scenic              \n",
      "country             gypsy               neoklassik          schlager            \n",
      "cuban               handsup             neue                self                \n",
      "dance               hard'n'heavy        new                 sertanejo           \n"
     ]
    }
   ],
   "source": [
    "# Проверка на неявные дубликаты\n",
    "genres_list = list(df['genre'].sort_values().unique())\n",
    "print_by_columns(genres_list)"
   ]
  },
  {
   "cell_type": "markdown",
   "metadata": {
    "id": "jz6a9-7HQUDd"
   },
   "source": [
    "**Выводы**\n",
    "\n",
    "Предобработка обнаружила три проблемы в данных:\n",
    "\n",
    "- нарушения в стиле заголовков,\n",
    "- пропущенные значения,\n",
    "- дубликаты — явные и неявные.\n",
    "\n",
    "Мы исправили заголовки, чтобы упростить работу с таблицей. Без дубликатов исследование станет более точным.\n",
    "\n",
    "Пропущенные значения заменили на `'unknown'`. Ещё предстоит увидеть, не повредят ли исследованию пропуски в колонке `genre`.\n",
    "\n",
    "Теперь можно перейти к проверке гипотез. "
   ]
  },
  {
   "cell_type": "markdown",
   "metadata": {
    "id": "WttZHXH0SqKk"
   },
   "source": [
    "## Проверка гипотез"
   ]
  },
  {
   "cell_type": "markdown",
   "metadata": {
    "id": "Im936VVi_Zcu"
   },
   "source": [
    "### Сравнение поведения пользователей двух столиц"
   ]
  },
  {
   "cell_type": "markdown",
   "metadata": {
    "id": "nwt_MuaL_Zcu"
   },
   "source": [
    "Первая гипотеза утверждает, что пользователи по-разному слушают музыку в Москве и Санкт-Петербурге. Проверим это предположение по данным о трёх днях недели — понедельнике, среде и пятнице. Для этого:\n",
    "\n",
    "* Разделим пользователей Москвы и Санкт-Петербурга\n",
    "* Сравним, сколько треков послушала каждая группа пользователей в понедельник, среду и пятницу.\n"
   ]
  },
  {
   "cell_type": "markdown",
   "metadata": {
    "id": "8Dw_YMmT_Zcu"
   },
   "source": [
    "Сначала выполните каждый из расчётов по отдельности. \n",
    "\n",
    "Оценим активность пользователей в каждом городе. Сгруппируем данные по городу и посчитаем прослушивания в каждой группе.\n",
    "\n"
   ]
  },
  {
   "cell_type": "code",
   "execution_count": 18,
   "metadata": {
    "id": "0_Qs96oh_Zcu"
   },
   "outputs": [
    {
     "data": {
      "text/plain": [
       "city\n",
       "Moscow              42741\n",
       "Saint-Petersburg    18512\n",
       "Name: time, dtype: int64"
      ]
     },
     "execution_count": 18,
     "metadata": {},
     "output_type": "execute_result"
    }
   ],
   "source": [
    "# Подсчёт прослушиваний в каждом городе\n",
    "df.groupby('city')['time'].count()"
   ]
  },
  {
   "cell_type": "markdown",
   "metadata": {
    "id": "dzli3w8o_Zcu"
   },
   "source": [
    "В Москве прослушиваний больше, чем в Петербурге. Из этого не следует, что московские пользователи чаще слушают музыку. Просто самих пользователей в Москве больше.\n",
    "\n",
    "Сгруппируем данные по дню недели и подсчитаем прослушивания в понедельник, среду и пятницу. В данных есть информация только о прослушиваниях только за эти дни.\n"
   ]
  },
  {
   "cell_type": "code",
   "execution_count": 19,
   "metadata": {
    "id": "uZMKjiJz_Zcu"
   },
   "outputs": [
    {
     "data": {
      "text/plain": [
       "day\n",
       "Friday       21840\n",
       "Monday       21354\n",
       "Wednesday    18059\n",
       "Name: time, dtype: int64"
      ]
     },
     "execution_count": 19,
     "metadata": {},
     "output_type": "execute_result"
    }
   ],
   "source": [
    "# Подсчёт прослушиваний в каждый из трёх дней\n",
    "df.groupby('day')['time'].count()"
   ]
  },
  {
   "cell_type": "markdown",
   "metadata": {
    "id": "cC2tNrlL_Zcu"
   },
   "source": [
    "В среднем пользователи из двух городов менее активны по средам. Но картина может измениться, если рассмотреть каждый город в отдельности."
   ]
  },
  {
   "cell_type": "markdown",
   "metadata": {
    "id": "POzs8bGa_Zcu"
   },
   "source": [
    "Напишем функцию, которая объединит группировки по городу и по дням недели.\n",
    "\n",
    "Создадим функцию `number_tracks()`, которая посчитает прослушивания для заданного дня и города. Ей понадобятся два параметра:\n",
    "* день недели,\n",
    "* название города.\n",
    "\n",
    "В функции сохраним в переменную строки исходной таблицы, у которых значение:\n",
    "  * в колонке `day` равно параметру `day`,\n",
    "  * в колонке `city` равно параметру `city`.\n",
    "\n",
    "Для этого применим последовательную фильтрацию с логической индексацией.\n",
    "Затем посчитаем значения в столбце `user_id` получившейся таблицы."
   ]
  },
  {
   "cell_type": "code",
   "execution_count": 20,
   "metadata": {
    "id": "Nz3GdQB1_Zcu"
   },
   "outputs": [],
   "source": [
    "def number_tracks(day, city):\n",
    "    ''' Функция для подсчёта прослушиваний для конкретного города и дня.\n",
    "        С помощью фильтрации с логической индексацией она \n",
    "        сначала получит из исходной таблицы строки с нужным днём и городом,\n",
    "        методом count() посчитает количество значений в колонке user_id. \n",
    "        Это количество функция вернёт в качестве результата'''\n",
    "    track_list = df[(df['day'] == day) & (df['city'] == city)]\n",
    "    track_list_count = track_list['user_id'].count()\n",
    "    return track_list_count"
   ]
  },
  {
   "cell_type": "markdown",
   "metadata": {
    "id": "ytf7xFrFJQ2r"
   },
   "source": [
    "Вызовем `number_tracks()` в цикле, меняя значение параметров — так, чтобы получить данные для каждого города в каждый из трёх дней."
   ]
  },
  {
   "cell_type": "code",
   "execution_count": 21,
   "metadata": {},
   "outputs": [
    {
     "name": "stdout",
     "output_type": "stream",
     "text": [
      "Количество прослушиваний по дням недели:\n",
      "\n",
      " Wednesday\n",
      "    Saint-Petersburg : 7003\n",
      "              Moscow : 11056\n",
      "\n",
      " Friday\n",
      "    Saint-Petersburg : 5895\n",
      "              Moscow : 15945\n",
      "\n",
      " Monday\n",
      "    Saint-Petersburg : 5614\n",
      "              Moscow : 15740\n"
     ]
    }
   ],
   "source": [
    "# количество прослушиваний в городах по дням недели\n",
    "cities_list = df['city'].unique()\n",
    "days_list = df['day'].unique()\n",
    "print('Количество прослушиваний по дням недели:')\n",
    "for day in days_list:\n",
    "    print('\\n', day)\n",
    "    for city in cities_list:\n",
    "        print(city.rjust(20) +' :', number_tracks(day, city))"
   ]
  },
  {
   "cell_type": "markdown",
   "metadata": {
    "id": "7QXffbO-_Zcu"
   },
   "source": [
    "Создадим c помощью конструктора `pd.DataFrame` таблицу, где\n",
    "* названия колонок — `['city', 'monday', 'wednesday', 'friday']`;\n",
    "* данные — результаты, которые получили с помощью `number_tracks`."
   ]
  },
  {
   "cell_type": "code",
   "execution_count": 22,
   "metadata": {
    "id": "APAcLpOr_Zcu"
   },
   "outputs": [
    {
     "data": {
      "text/html": [
       "<div>\n",
       "<style scoped>\n",
       "    .dataframe tbody tr th:only-of-type {\n",
       "        vertical-align: middle;\n",
       "    }\n",
       "\n",
       "    .dataframe tbody tr th {\n",
       "        vertical-align: top;\n",
       "    }\n",
       "\n",
       "    .dataframe thead th {\n",
       "        text-align: right;\n",
       "    }\n",
       "</style>\n",
       "<table border=\"1\" class=\"dataframe\">\n",
       "  <thead>\n",
       "    <tr style=\"text-align: right;\">\n",
       "      <th></th>\n",
       "      <th>city</th>\n",
       "      <th>monday</th>\n",
       "      <th>wednesday</th>\n",
       "      <th>friday</th>\n",
       "    </tr>\n",
       "  </thead>\n",
       "  <tbody>\n",
       "    <tr>\n",
       "      <th>0</th>\n",
       "      <td>Saint-Petersburg</td>\n",
       "      <td>5614</td>\n",
       "      <td>7003</td>\n",
       "      <td>5895</td>\n",
       "    </tr>\n",
       "    <tr>\n",
       "      <th>1</th>\n",
       "      <td>Moscow</td>\n",
       "      <td>15740</td>\n",
       "      <td>11056</td>\n",
       "      <td>15945</td>\n",
       "    </tr>\n",
       "  </tbody>\n",
       "</table>\n",
       "</div>"
      ],
      "text/plain": [
       "               city  monday  wednesday  friday\n",
       "0  Saint-Petersburg    5614       7003    5895\n",
       "1            Moscow   15740      11056   15945"
      ]
     },
     "execution_count": 22,
     "metadata": {},
     "output_type": "execute_result"
    }
   ],
   "source": [
    "# Таблица с результатами\n",
    "columns = ['city', 'monday', 'wednesday', 'friday']\n",
    "data_plays = [] # сформируем данные для отображения таблицы\n",
    "for city in cities_list:\n",
    "    city_plays = [city]\n",
    "    for day in columns[1:]:\n",
    "        city_plays.append(number_tracks(day.capitalize(), city))\n",
    "    data_plays.append(city_plays)\n",
    "        \n",
    "table_by_days = pd.DataFrame(columns = columns, data = data_plays)\n",
    "table_by_days"
   ]
  },
  {
   "cell_type": "markdown",
   "metadata": {
    "id": "-EgPIHYu_Zcu"
   },
   "source": [
    "**Выводы**\n",
    "\n",
    "Данные показывают разницу поведения пользователей:\n",
    "\n",
    "- В Москве пик прослушиваний приходится на понедельник и пятницу, а в среду заметен спад.\n",
    "- В Петербурге, наоборот, больше слушают музыку по средам. Активность в понедельник и пятницу здесь почти в равной мере уступает среде.\n",
    "\n",
    "Значит, данные говорят в пользу первой гипотезы."
   ]
  },
  {
   "cell_type": "markdown",
   "metadata": {
    "id": "atZAxtq4_Zcu"
   },
   "source": [
    "### Музыка в начале и в конце недели"
   ]
  },
  {
   "cell_type": "markdown",
   "metadata": {
    "id": "eXrQqXFH_Zcu"
   },
   "source": [
    "Согласно второй гипотезе, утром в понедельник в Москве преобладают одни жанры, а в Петербурге — другие. Так же и вечером пятницы преобладают разные жанры — в зависимости от города."
   ]
  },
  {
   "cell_type": "markdown",
   "metadata": {
    "id": "S8UcW6Hw_Zcu"
   },
   "source": [
    "Сохраним таблицы с данными в две переменные:\n",
    "* по Москве — в `moscow_general`;\n",
    "* по Санкт-Петербургу — в `spb_general`."
   ]
  },
  {
   "cell_type": "code",
   "execution_count": 23,
   "metadata": {
    "id": "qeaFfM_P_Zcu"
   },
   "outputs": [
    {
     "name": "stdout",
     "output_type": "stream",
     "text": [
      "<class 'pandas.core.frame.DataFrame'>\n",
      "Int64Index: 42741 entries, 1 to 61252\n",
      "Data columns (total 8 columns):\n",
      " #   Column   Non-Null Count  Dtype \n",
      "---  ------   --------------  ----- \n",
      " 0   index    42741 non-null  int64 \n",
      " 1   user_id  42741 non-null  object\n",
      " 2   track    42741 non-null  object\n",
      " 3   artist   42741 non-null  object\n",
      " 4   genre    42741 non-null  object\n",
      " 5   city     42741 non-null  object\n",
      " 6   time     42741 non-null  object\n",
      " 7   day      42741 non-null  object\n",
      "dtypes: int64(1), object(7)\n",
      "memory usage: 2.9+ MB\n"
     ]
    }
   ],
   "source": [
    "# получение таблицы moscow_general\n",
    "moscow_general = df[df['city'] == 'Moscow']\n",
    "moscow_general.info()"
   ]
  },
  {
   "cell_type": "code",
   "execution_count": 24,
   "metadata": {
    "id": "ORaVRKto_Zcu"
   },
   "outputs": [
    {
     "name": "stdout",
     "output_type": "stream",
     "text": [
      "<class 'pandas.core.frame.DataFrame'>\n",
      "Int64Index: 18512 entries, 0 to 61249\n",
      "Data columns (total 8 columns):\n",
      " #   Column   Non-Null Count  Dtype \n",
      "---  ------   --------------  ----- \n",
      " 0   index    18512 non-null  int64 \n",
      " 1   user_id  18512 non-null  object\n",
      " 2   track    18512 non-null  object\n",
      " 3   artist   18512 non-null  object\n",
      " 4   genre    18512 non-null  object\n",
      " 5   city     18512 non-null  object\n",
      " 6   time     18512 non-null  object\n",
      " 7   day      18512 non-null  object\n",
      "dtypes: int64(1), object(7)\n",
      "memory usage: 1.3+ MB\n"
     ]
    }
   ],
   "source": [
    "# получение таблицы spb_general \n",
    "spb_general = df[df['city'] == 'Saint-Petersburg']\n",
    "spb_general.info()"
   ]
  },
  {
   "cell_type": "markdown",
   "metadata": {
    "id": "MEJV-CX2_Zcu"
   },
   "source": [
    "Создадим функцию `genre_weekday()` с четырьмя параметрами:\n",
    "* таблица (датафрейм) с данными,\n",
    "* день недели,\n",
    "* начальная временная метка в формате 'hh:mm', \n",
    "* последняя временная метка в формате 'hh:mm'.\n",
    "\n",
    "Функция должна вернуть информацию о топ-10 жанров тех треков, которые прослушивали в указанный день, в промежутке между двумя отметками времени."
   ]
  },
  {
   "cell_type": "code",
   "execution_count": 25,
   "metadata": {
    "id": "laJT9BYl_Zcu"
   },
   "outputs": [],
   "source": [
    "def genre_weekday(table, day, time1, time2):\n",
    "    ''' Функция возвращает информацию о самых популярных жанрах в указанный день в\n",
    "        заданный промежуток времени\n",
    "    '''\n",
    "    #1) выбираем строки в день day в отрезок времени от tine1 до time2\n",
    "    genre_df = table[table['day'] == day]\n",
    "    genre_df = genre_df[genre_df['time'].between(time1, time2)]\n",
    "    #2) считаем количество прослушиваний в каждом жанре\n",
    "    genre_df_count = genre_df.groupby('genre')['user_id'].count()\n",
    "    #3) сортируем жанры по убыванию прослушиваний\n",
    "    genre_df_sorted = genre_df_count.sort_values(ascending = False)\n",
    "    #4) возвращаем Series из 10 первых значений genre_df_sorted\n",
    "    return genre_df_sorted.head(10)"
   ]
  },
  {
   "cell_type": "markdown",
   "metadata": {
    "id": "la2s2_PF_Zcu"
   },
   "source": [
    "Cравним результаты функции `genre_weekday()` для Москвы и Санкт-Петербурга в понедельник утром (с 7:00 до 11:00) и в пятницу вечером (с 17:00 до 23:00):"
   ]
  },
  {
   "cell_type": "code",
   "execution_count": 26,
   "metadata": {
    "id": "yz7itPUQ_Zcu"
   },
   "outputs": [
    {
     "data": {
      "text/plain": [
       "genre\n",
       "pop            781\n",
       "dance          549\n",
       "electronic     480\n",
       "rock           474\n",
       "hiphop         286\n",
       "ruspop         186\n",
       "world          181\n",
       "rusrap         175\n",
       "alternative    164\n",
       "unknown        161\n",
       "Name: user_id, dtype: int64"
      ]
     },
     "execution_count": 26,
     "metadata": {},
     "output_type": "execute_result"
    }
   ],
   "source": [
    "# вызов функции для утра понедельника в Москве\n",
    "genre_weekday(moscow_general, 'Monday', '07:00', '11:00')"
   ]
  },
  {
   "cell_type": "code",
   "execution_count": 27,
   "metadata": {
    "id": "kwUcHPdy_Zcu"
   },
   "outputs": [
    {
     "data": {
      "text/plain": [
       "genre\n",
       "pop            218\n",
       "dance          182\n",
       "rock           162\n",
       "electronic     147\n",
       "hiphop          80\n",
       "ruspop          64\n",
       "alternative     58\n",
       "rusrap          55\n",
       "jazz            44\n",
       "classical       40\n",
       "Name: user_id, dtype: int64"
      ]
     },
     "execution_count": 27,
     "metadata": {},
     "output_type": "execute_result"
    }
   ],
   "source": [
    "# вызов функции для утра понедельника в Петербурге\n",
    "genre_weekday(spb_general, 'Monday', '07:00', '11:00')"
   ]
  },
  {
   "cell_type": "code",
   "execution_count": 28,
   "metadata": {
    "id": "EzXVRE1o_Zcu"
   },
   "outputs": [
    {
     "data": {
      "text/plain": [
       "genre\n",
       "pop            713\n",
       "rock           517\n",
       "dance          495\n",
       "electronic     482\n",
       "hiphop         273\n",
       "world          208\n",
       "ruspop         170\n",
       "alternative    163\n",
       "classical      163\n",
       "rusrap         142\n",
       "Name: user_id, dtype: int64"
      ]
     },
     "execution_count": 28,
     "metadata": {},
     "output_type": "execute_result"
    }
   ],
   "source": [
    "# вызов функции для вечера пятницы в Москве\n",
    "genre_weekday(moscow_general, 'Friday', '17:00', '23:00')"
   ]
  },
  {
   "cell_type": "code",
   "execution_count": 29,
   "metadata": {
    "id": "JZaEKu5v_Zcu"
   },
   "outputs": [
    {
     "data": {
      "text/plain": [
       "genre\n",
       "pop            256\n",
       "electronic     216\n",
       "rock           216\n",
       "dance          210\n",
       "hiphop          97\n",
       "alternative     63\n",
       "jazz            61\n",
       "classical       60\n",
       "rusrap          59\n",
       "world           54\n",
       "Name: user_id, dtype: int64"
      ]
     },
     "execution_count": 29,
     "metadata": {},
     "output_type": "execute_result"
    }
   ],
   "source": [
    "# вызов функции для вечера пятницы в Петербурге\n",
    "genre_weekday(spb_general, 'Friday', '17:00', '23:00')"
   ]
  },
  {
   "cell_type": "markdown",
   "metadata": {
    "id": "wrCe4MNX_Zcu"
   },
   "source": [
    "**Выводы**\n",
    "\n",
    "Если сравнить топ-10 жанров в понедельник утром, можно сделать такие выводы:\n",
    "\n",
    "1. В Москве и Петербурге слушают похожую музыку. Единственное отличие — в московский рейтинг вошёл жанр “world”, а в петербургский — джаз и классика.\n",
    "\n",
    "2. В Москве пропущенных значений оказалось так много, что значение `'unknown'` заняло десятое место среди самых популярных жанров. Значит, пропущенные значения занимают существенную долю в данных и угрожают достоверности исследования.\n",
    "\n",
    "Вечер пятницы не меняет эту картину. Некоторые жанры поднимаются немного выше, другие спускаются, но в целом топ-10 остаётся тем же самым.\n",
    "\n",
    "Таким образом, вторая гипотеза подтвердилась лишь частично:\n",
    "* Пользователи слушают похожую музыку в начале недели и в конце.\n",
    "* Разница между Москвой и Петербургом не слишком выражена. В Москве чаще слушают русскую популярную музыку, в Петербурге — джаз.\n",
    "\n",
    "Однако пропуски в данных ставят под сомнение этот результат. В Москве их так много, что рейтинг топ-10 мог бы выглядеть иначе, если бы не утерянные  данные о жанрах."
   ]
  },
  {
   "cell_type": "markdown",
   "metadata": {
    "id": "JolODAqr_Zcu"
   },
   "source": [
    "### Жанровые предпочтения в Москве и Петербурге\n",
    "\n",
    "Гипотеза: Петербург — столица рэпа, музыку этого жанра там слушают чаще, чем в Москве.  А Москва — город контрастов, в котором, тем не менее, преобладает поп-музыка."
   ]
  },
  {
   "cell_type": "markdown",
   "metadata": {
    "id": "DlegSvaT_Zcu"
   },
   "source": [
    "Сгруппируем таблицу `moscow_general` по жанру и посчитаем прослушивания треков каждого жанра методом `count()`. Затем отсортируйте результат в порядке убывания и сохраните его в таблице `moscow_genres`."
   ]
  },
  {
   "cell_type": "code",
   "execution_count": 30,
   "metadata": {
    "id": "r19lIPke_Zcu"
   },
   "outputs": [],
   "source": [
    "# группировка таблицы moscow_general по столбцу 'genre', \n",
    "# подсчёт числа значений 'genre' методом count(), \n",
    "# сортировка получившегося Series в порядке убывания и сохранение в moscow_genres\n",
    "moscow_genres = moscow_general.groupby('genre')['user_id'].count().sort_values(ascending = False)"
   ]
  },
  {
   "cell_type": "markdown",
   "metadata": {
    "id": "6kMuomxTiIr8"
   },
   "source": [
    "Выведем на экран первые десять строк `moscow_genres`:"
   ]
  },
  {
   "cell_type": "code",
   "execution_count": 31,
   "metadata": {
    "id": "WhCSooF8_Zcv"
   },
   "outputs": [
    {
     "data": {
      "text/plain": [
       "genre\n",
       "pop            5892\n",
       "dance          4435\n",
       "rock           3965\n",
       "electronic     3786\n",
       "hiphop         2096\n",
       "classical      1616\n",
       "world          1432\n",
       "alternative    1379\n",
       "ruspop         1372\n",
       "rusrap         1161\n",
       "Name: user_id, dtype: int64"
      ]
     },
     "execution_count": 31,
     "metadata": {},
     "output_type": "execute_result"
    }
   ],
   "source": [
    "# просмотр первых 10 строк moscow_genres\n",
    "moscow_genres.head(10)"
   ]
  },
  {
   "cell_type": "markdown",
   "metadata": {
    "id": "cnPG2vnN_Zcv"
   },
   "source": [
    "Теперь повторим то же и для Петербурга.\n",
    "\n",
    "Сгруппируем таблицу `spb_general` по жанру. Посчитаем прослушивания треков каждого жанра. Результат отсортируем в порядке убывания и сохраним в таблице `spb_genres`:\n"
   ]
  },
  {
   "cell_type": "code",
   "execution_count": 32,
   "metadata": {
    "id": "gluLIpE7_Zcv"
   },
   "outputs": [],
   "source": [
    "# группировка по 'genre', подсчёт числа значений, сортировка в порядке убывания\n",
    "spb_genres = spb_general.groupby('genre')['user_id'].count().sort_values(ascending = False)"
   ]
  },
  {
   "cell_type": "markdown",
   "metadata": {
    "id": "5Doha_ODgyQ8"
   },
   "source": [
    "Выведите на экран первые десять строк `spb_genres`:"
   ]
  },
  {
   "cell_type": "code",
   "execution_count": 33,
   "metadata": {
    "id": "uaGJHjVU_Zcv"
   },
   "outputs": [
    {
     "data": {
      "text/plain": [
       "genre\n",
       "pop            2431\n",
       "dance          1932\n",
       "rock           1879\n",
       "electronic     1737\n",
       "hiphop          960\n",
       "alternative     649\n",
       "classical       646\n",
       "rusrap          564\n",
       "ruspop          538\n",
       "world           515\n",
       "Name: user_id, dtype: int64"
      ]
     },
     "execution_count": 33,
     "metadata": {},
     "output_type": "execute_result"
    }
   ],
   "source": [
    "# просмотр первых 10 строк spb_genres\n",
    "spb_genres.head(10)"
   ]
  },
  {
   "cell_type": "markdown",
   "metadata": {
    "id": "RY51YJYu_Zcv"
   },
   "source": [
    "**Выводы**"
   ]
  },
  {
   "cell_type": "markdown",
   "metadata": {
    "id": "nVhnJEm__Zcv"
   },
   "source": [
    "Гипотеза частично подтвердилась:\n",
    "* Поп-музыка — самый популярный жанр в Москве, как и предполагала гипотеза. Более того, в топ-10 жанров встречается близкий жанр — русская популярная музыка.\n",
    "* Вопреки ожиданиям, рэп одинаково популярен в Москве и Петербурге. \n"
   ]
  },
  {
   "cell_type": "markdown",
   "metadata": {
    "id": "ykKQ0N65_Zcv"
   },
   "source": [
    "## Итоги исследования"
   ]
  },
  {
   "cell_type": "markdown",
   "metadata": {
    "id": "tjUwbHb3_Zcv"
   },
   "source": [
    "Мы проверили три гипотезы и установили:\n",
    "\n",
    "1. День недели по-разному влияет на активность пользователей в Москве и Петербурге. \n",
    "\n",
    "Первая гипотеза полностью подтвердилась.\n",
    "\n",
    "2. Музыкальные предпочтения не сильно меняются в течение недели — будь то Москва или Петербург. Небольшие различия заметны в начале недели, по понедельникам:\n",
    "* в Москве слушают музыку жанра “world”,\n",
    "* в Петербурге — джаз и классику.\n",
    "\n",
    "Таким образом, вторая гипотеза подтвердилась лишь отчасти. Этот результат мог оказаться иным, если бы не пропуски в данных.\n",
    "\n",
    "3. Во вкусах пользователей Москвы и Петербурга больше общего чем различий. Вопреки ожиданиям, предпочтения жанров в Петербурге напоминают московские.\n",
    "\n",
    "Третья гипотеза не подтвердилась. Если различия в предпочтениях и существуют, на основной массе пользователей они незаметны."
   ]
  }
 ],
 "metadata": {
  "ExecuteTimeLog": [
   {
    "duration": 715,
    "start_time": "2021-11-30T10:25:59.052Z"
   },
   {
    "duration": 187,
    "start_time": "2021-11-30T10:27:12.810Z"
   },
   {
    "duration": 28,
    "start_time": "2021-11-30T10:27:29.456Z"
   },
   {
    "duration": 12,
    "start_time": "2021-11-30T10:28:04.157Z"
   },
   {
    "duration": 33,
    "start_time": "2021-11-30T10:28:16.221Z"
   },
   {
    "duration": 6,
    "start_time": "2021-11-30T10:37:36.677Z"
   },
   {
    "duration": 6,
    "start_time": "2021-11-30T10:37:58.654Z"
   },
   {
    "duration": 783,
    "start_time": "2021-12-01T19:42:53.118Z"
   },
   {
    "duration": 3076,
    "start_time": "2021-12-01T19:42:53.904Z"
   },
   {
    "duration": -5,
    "start_time": "2021-12-01T19:42:56.991Z"
   },
   {
    "duration": -5,
    "start_time": "2021-12-01T19:42:56.993Z"
   },
   {
    "duration": -6,
    "start_time": "2021-12-01T19:42:56.996Z"
   },
   {
    "duration": -7,
    "start_time": "2021-12-01T19:42:56.999Z"
   },
   {
    "duration": -28,
    "start_time": "2021-12-01T19:42:57.022Z"
   },
   {
    "duration": -31,
    "start_time": "2021-12-01T19:42:57.026Z"
   },
   {
    "duration": -32,
    "start_time": "2021-12-01T19:42:57.029Z"
   },
   {
    "duration": -33,
    "start_time": "2021-12-01T19:42:57.032Z"
   },
   {
    "duration": -34,
    "start_time": "2021-12-01T19:42:57.034Z"
   },
   {
    "duration": -39,
    "start_time": "2021-12-01T19:42:57.040Z"
   },
   {
    "duration": -39,
    "start_time": "2021-12-01T19:42:57.042Z"
   },
   {
    "duration": -40,
    "start_time": "2021-12-01T19:42:57.044Z"
   },
   {
    "duration": -40,
    "start_time": "2021-12-01T19:42:57.046Z"
   },
   {
    "duration": -42,
    "start_time": "2021-12-01T19:42:57.049Z"
   },
   {
    "duration": -43,
    "start_time": "2021-12-01T19:42:57.052Z"
   },
   {
    "duration": -49,
    "start_time": "2021-12-01T19:42:57.059Z"
   },
   {
    "duration": -50,
    "start_time": "2021-12-01T19:42:57.061Z"
   },
   {
    "duration": -50,
    "start_time": "2021-12-01T19:42:57.063Z"
   },
   {
    "duration": -50,
    "start_time": "2021-12-01T19:42:57.065Z"
   },
   {
    "duration": -51,
    "start_time": "2021-12-01T19:42:57.067Z"
   },
   {
    "duration": -52,
    "start_time": "2021-12-01T19:42:57.069Z"
   },
   {
    "duration": -54,
    "start_time": "2021-12-01T19:42:57.072Z"
   },
   {
    "duration": -54,
    "start_time": "2021-12-01T19:42:57.074Z"
   },
   {
    "duration": -48,
    "start_time": "2021-12-01T19:42:57.077Z"
   },
   {
    "duration": -49,
    "start_time": "2021-12-01T19:42:57.079Z"
   },
   {
    "duration": -53,
    "start_time": "2021-12-01T19:42:57.084Z"
   },
   {
    "duration": -53,
    "start_time": "2021-12-01T19:42:57.086Z"
   },
   {
    "duration": -54,
    "start_time": "2021-12-01T19:42:57.088Z"
   },
   {
    "duration": -55,
    "start_time": "2021-12-01T19:42:57.090Z"
   },
   {
    "duration": -55,
    "start_time": "2021-12-01T19:42:57.092Z"
   },
   {
    "duration": -56,
    "start_time": "2021-12-01T19:42:57.094Z"
   },
   {
    "duration": 179,
    "start_time": "2021-12-01T19:44:20.522Z"
   },
   {
    "duration": 2979,
    "start_time": "2021-12-01T19:44:28.542Z"
   },
   {
    "duration": 91,
    "start_time": "2021-12-01T23:36:27.269Z"
   },
   {
    "duration": 740,
    "start_time": "2021-12-01T23:36:51.823Z"
   },
   {
    "duration": 192,
    "start_time": "2021-12-01T23:36:52.568Z"
   },
   {
    "duration": 87,
    "start_time": "2021-12-01T23:36:52.763Z"
   },
   {
    "duration": 722,
    "start_time": "2021-12-01T23:36:52.132Z"
   },
   {
    "duration": 700,
    "start_time": "2021-12-01T23:36:52.155Z"
   },
   {
    "duration": 701,
    "start_time": "2021-12-01T23:36:52.156Z"
   },
   {
    "duration": 701,
    "start_time": "2021-12-01T23:36:52.157Z"
   },
   {
    "duration": 700,
    "start_time": "2021-12-01T23:36:52.159Z"
   },
   {
    "duration": 701,
    "start_time": "2021-12-01T23:36:52.160Z"
   },
   {
    "duration": 701,
    "start_time": "2021-12-01T23:36:52.161Z"
   },
   {
    "duration": 700,
    "start_time": "2021-12-01T23:36:52.163Z"
   },
   {
    "duration": 700,
    "start_time": "2021-12-01T23:36:52.164Z"
   },
   {
    "duration": 701,
    "start_time": "2021-12-01T23:36:52.165Z"
   },
   {
    "duration": 625,
    "start_time": "2021-12-01T23:36:52.242Z"
   },
   {
    "duration": 625,
    "start_time": "2021-12-01T23:36:52.243Z"
   },
   {
    "duration": 626,
    "start_time": "2021-12-01T23:36:52.244Z"
   },
   {
    "duration": 626,
    "start_time": "2021-12-01T23:36:52.245Z"
   },
   {
    "duration": 626,
    "start_time": "2021-12-01T23:36:52.246Z"
   },
   {
    "duration": 625,
    "start_time": "2021-12-01T23:36:52.248Z"
   },
   {
    "duration": 626,
    "start_time": "2021-12-01T23:36:52.249Z"
   },
   {
    "duration": 625,
    "start_time": "2021-12-01T23:36:52.251Z"
   },
   {
    "duration": 625,
    "start_time": "2021-12-01T23:36:52.252Z"
   },
   {
    "duration": 626,
    "start_time": "2021-12-01T23:36:52.253Z"
   },
   {
    "duration": 604,
    "start_time": "2021-12-01T23:36:52.276Z"
   },
   {
    "duration": 604,
    "start_time": "2021-12-01T23:36:52.277Z"
   },
   {
    "duration": 604,
    "start_time": "2021-12-01T23:36:52.279Z"
   },
   {
    "duration": 604,
    "start_time": "2021-12-01T23:36:52.280Z"
   },
   {
    "duration": 604,
    "start_time": "2021-12-01T23:36:52.281Z"
   },
   {
    "duration": 604,
    "start_time": "2021-12-01T23:36:52.282Z"
   },
   {
    "duration": 605,
    "start_time": "2021-12-01T23:36:52.283Z"
   },
   {
    "duration": 605,
    "start_time": "2021-12-01T23:36:52.284Z"
   },
   {
    "duration": 605,
    "start_time": "2021-12-01T23:36:52.285Z"
   },
   {
    "duration": 604,
    "start_time": "2021-12-01T23:36:52.287Z"
   },
   {
    "duration": 605,
    "start_time": "2021-12-01T23:36:52.288Z"
   },
   {
    "duration": 740,
    "start_time": "2021-12-01T23:37:46.188Z"
   },
   {
    "duration": 198,
    "start_time": "2021-12-01T23:37:46.931Z"
   },
   {
    "duration": 36,
    "start_time": "2021-12-01T23:37:47.132Z"
   },
   {
    "duration": 32,
    "start_time": "2021-12-01T23:37:47.170Z"
   },
   {
    "duration": 5,
    "start_time": "2021-12-01T23:37:47.205Z"
   },
   {
    "duration": 6,
    "start_time": "2021-12-01T23:37:47.212Z"
   },
   {
    "duration": 8,
    "start_time": "2021-12-01T23:37:47.220Z"
   },
   {
    "duration": 64,
    "start_time": "2021-12-01T23:37:47.232Z"
   },
   {
    "duration": 25,
    "start_time": "2021-12-01T23:37:47.299Z"
   },
   {
    "duration": 58,
    "start_time": "2021-12-01T23:37:47.327Z"
   },
   {
    "duration": 109,
    "start_time": "2021-12-01T23:37:47.388Z"
   },
   {
    "duration": 118,
    "start_time": "2021-12-01T23:37:47.500Z"
   },
   {
    "duration": 97,
    "start_time": "2021-12-01T23:37:47.620Z"
   },
   {
    "duration": 75,
    "start_time": "2021-12-01T23:37:47.720Z"
   },
   {
    "duration": 4,
    "start_time": "2021-12-01T23:37:47.799Z"
   },
   {
    "duration": 21,
    "start_time": "2021-12-01T23:37:47.806Z"
   },
   {
    "duration": 95,
    "start_time": "2021-12-01T23:37:47.829Z"
   },
   {
    "duration": 16,
    "start_time": "2021-12-01T23:37:47.927Z"
   },
   {
    "duration": 37,
    "start_time": "2021-12-01T23:37:47.945Z"
   },
   {
    "duration": 6,
    "start_time": "2021-12-01T23:37:47.984Z"
   },
   {
    "duration": 128,
    "start_time": "2021-12-01T23:37:47.992Z"
   },
   {
    "duration": 110,
    "start_time": "2021-12-01T23:37:48.122Z"
   },
   {
    "duration": 52,
    "start_time": "2021-12-01T23:37:48.237Z"
   },
   {
    "duration": 29,
    "start_time": "2021-12-01T23:37:48.293Z"
   },
   {
    "duration": 6,
    "start_time": "2021-12-01T23:37:48.325Z"
   },
   {
    "duration": 53,
    "start_time": "2021-12-01T23:37:48.334Z"
   },
   {
    "duration": 18,
    "start_time": "2021-12-01T23:37:48.390Z"
   },
   {
    "duration": 75,
    "start_time": "2021-12-01T23:37:48.412Z"
   },
   {
    "duration": 19,
    "start_time": "2021-12-01T23:37:48.491Z"
   },
   {
    "duration": 14,
    "start_time": "2021-12-01T23:37:48.513Z"
   },
   {
    "duration": 38,
    "start_time": "2021-12-01T23:37:48.530Z"
   },
   {
    "duration": 12,
    "start_time": "2021-12-01T23:37:48.571Z"
   },
   {
    "duration": 7,
    "start_time": "2021-12-01T23:37:48.586Z"
   },
   {
    "duration": 733,
    "start_time": "2021-12-02T00:05:37.414Z"
   },
   {
    "duration": 203,
    "start_time": "2021-12-02T00:05:38.150Z"
   },
   {
    "duration": 30,
    "start_time": "2021-12-02T00:05:38.357Z"
   },
   {
    "duration": 34,
    "start_time": "2021-12-02T00:05:38.390Z"
   },
   {
    "duration": 6,
    "start_time": "2021-12-02T00:05:38.426Z"
   },
   {
    "duration": 32,
    "start_time": "2021-12-02T00:05:38.434Z"
   },
   {
    "duration": 5,
    "start_time": "2021-12-02T00:05:38.469Z"
   },
   {
    "duration": 36,
    "start_time": "2021-12-02T00:05:38.476Z"
   },
   {
    "duration": 56,
    "start_time": "2021-12-02T00:05:38.516Z"
   },
   {
    "duration": 30,
    "start_time": "2021-12-02T00:05:38.575Z"
   },
   {
    "duration": 106,
    "start_time": "2021-12-02T00:05:38.607Z"
   },
   {
    "duration": 115,
    "start_time": "2021-12-02T00:05:38.715Z"
   },
   {
    "duration": 97,
    "start_time": "2021-12-02T00:05:38.832Z"
   },
   {
    "duration": 76,
    "start_time": "2021-12-02T00:05:38.931Z"
   },
   {
    "duration": 4,
    "start_time": "2021-12-02T00:05:39.009Z"
   },
   {
    "duration": 28,
    "start_time": "2021-12-02T00:05:39.015Z"
   },
   {
    "duration": 86,
    "start_time": "2021-12-02T00:05:39.045Z"
   },
   {
    "duration": 39,
    "start_time": "2021-12-02T00:05:39.134Z"
   },
   {
    "duration": 18,
    "start_time": "2021-12-02T00:05:39.176Z"
   },
   {
    "duration": 7,
    "start_time": "2021-12-02T00:05:39.196Z"
   },
   {
    "duration": 138,
    "start_time": "2021-12-02T00:05:39.205Z"
   },
   {
    "duration": 104,
    "start_time": "2021-12-02T00:05:39.346Z"
   },
   {
    "duration": 53,
    "start_time": "2021-12-02T00:05:39.453Z"
   },
   {
    "duration": 29,
    "start_time": "2021-12-02T00:05:39.509Z"
   },
   {
    "duration": 29,
    "start_time": "2021-12-02T00:05:39.541Z"
   },
   {
    "duration": 30,
    "start_time": "2021-12-02T00:05:39.573Z"
   },
   {
    "duration": 16,
    "start_time": "2021-12-02T00:05:39.608Z"
   },
   {
    "duration": 54,
    "start_time": "2021-12-02T00:05:39.626Z"
   },
   {
    "duration": 17,
    "start_time": "2021-12-02T00:05:39.683Z"
   },
   {
    "duration": 12,
    "start_time": "2021-12-02T00:05:39.702Z"
   },
   {
    "duration": 6,
    "start_time": "2021-12-02T00:05:39.716Z"
   },
   {
    "duration": 47,
    "start_time": "2021-12-02T00:05:39.725Z"
   },
   {
    "duration": 6,
    "start_time": "2021-12-02T00:05:39.774Z"
   },
   {
    "duration": 4,
    "start_time": "2021-12-02T00:15:45.132Z"
   },
   {
    "duration": 88,
    "start_time": "2021-12-02T00:15:47.391Z"
   },
   {
    "duration": 88,
    "start_time": "2021-12-02T00:17:34.089Z"
   },
   {
    "duration": 860,
    "start_time": "2021-12-02T00:18:39.542Z"
   },
   {
    "duration": 197,
    "start_time": "2021-12-02T00:18:40.405Z"
   },
   {
    "duration": 27,
    "start_time": "2021-12-02T00:18:40.606Z"
   },
   {
    "duration": 47,
    "start_time": "2021-12-02T00:18:40.636Z"
   },
   {
    "duration": 6,
    "start_time": "2021-12-02T00:18:40.686Z"
   },
   {
    "duration": 27,
    "start_time": "2021-12-02T00:18:40.694Z"
   },
   {
    "duration": 14,
    "start_time": "2021-12-02T00:18:40.724Z"
   },
   {
    "duration": 40,
    "start_time": "2021-12-02T00:18:40.740Z"
   },
   {
    "duration": 26,
    "start_time": "2021-12-02T00:18:40.784Z"
   },
   {
    "duration": 66,
    "start_time": "2021-12-02T00:18:40.813Z"
   },
   {
    "duration": 102,
    "start_time": "2021-12-02T00:18:40.882Z"
   },
   {
    "duration": 122,
    "start_time": "2021-12-02T00:18:40.986Z"
   },
   {
    "duration": 103,
    "start_time": "2021-12-02T00:18:41.111Z"
   },
   {
    "duration": 79,
    "start_time": "2021-12-02T00:18:41.217Z"
   },
   {
    "duration": 4,
    "start_time": "2021-12-02T00:18:41.299Z"
   },
   {
    "duration": 22,
    "start_time": "2021-12-02T00:18:41.306Z"
   },
   {
    "duration": 94,
    "start_time": "2021-12-02T00:18:41.330Z"
   },
   {
    "duration": 17,
    "start_time": "2021-12-02T00:18:41.426Z"
   },
   {
    "duration": 35,
    "start_time": "2021-12-02T00:18:41.445Z"
   },
   {
    "duration": 5,
    "start_time": "2021-12-02T00:18:41.483Z"
   },
   {
    "duration": 127,
    "start_time": "2021-12-02T00:18:41.491Z"
   },
   {
    "duration": 108,
    "start_time": "2021-12-02T00:18:41.621Z"
   },
   {
    "duration": 50,
    "start_time": "2021-12-02T00:18:41.732Z"
   },
   {
    "duration": 39,
    "start_time": "2021-12-02T00:18:41.785Z"
   },
   {
    "duration": 7,
    "start_time": "2021-12-02T00:18:41.827Z"
   },
   {
    "duration": 50,
    "start_time": "2021-12-02T00:18:41.837Z"
   },
   {
    "duration": 17,
    "start_time": "2021-12-02T00:18:41.891Z"
   },
   {
    "duration": 56,
    "start_time": "2021-12-02T00:18:41.911Z"
   },
   {
    "duration": 17,
    "start_time": "2021-12-02T00:18:41.970Z"
   },
   {
    "duration": 12,
    "start_time": "2021-12-02T00:18:41.990Z"
   },
   {
    "duration": 15,
    "start_time": "2021-12-02T00:18:42.005Z"
   },
   {
    "duration": 10,
    "start_time": "2021-12-02T00:18:42.023Z"
   },
   {
    "duration": 6,
    "start_time": "2021-12-02T00:18:42.068Z"
   },
   {
    "duration": 59,
    "start_time": "2021-12-02T12:23:47.334Z"
   }
  ],
  "colab": {
   "collapsed_sections": [
    "E0vqbgi9ay0H",
    "VUC88oWjTJw2"
   ],
   "name": "yandex_music_project_2021.2.ipynb",
   "provenance": []
  },
  "kernelspec": {
   "display_name": "Python 3 (ipykernel)",
   "language": "python",
   "name": "python3"
  },
  "language_info": {
   "codemirror_mode": {
    "name": "ipython",
    "version": 3
   },
   "file_extension": ".py",
   "mimetype": "text/x-python",
   "name": "python",
   "nbconvert_exporter": "python",
   "pygments_lexer": "ipython3",
   "version": "3.9.10"
  },
  "toc": {
   "base_numbering": 1,
   "nav_menu": {},
   "number_sections": true,
   "sideBar": true,
   "skip_h1_title": true,
   "title_cell": "Содержание",
   "title_sidebar": "Contents",
   "toc_cell": true,
   "toc_position": {},
   "toc_section_display": true,
   "toc_window_display": true
  },
  "vscode": {
   "interpreter": {
    "hash": "58656f4d27507c1cf066d160953941131aeedc5e8ddd25f7cf3d9165a5f5fe3d"
   }
  }
 },
 "nbformat": 4,
 "nbformat_minor": 4
}
