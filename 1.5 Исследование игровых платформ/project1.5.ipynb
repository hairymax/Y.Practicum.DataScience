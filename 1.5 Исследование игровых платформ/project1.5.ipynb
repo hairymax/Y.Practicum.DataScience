{
 "cells": [
  {
   "cell_type": "markdown",
   "metadata": {},
   "source": [
    "# Исследование игровых платформ\n",
    "\n",
    "Вы работаете в интернет-магазине «Стримчик», который продаёт по всему миру компьютерные игры. Из открытых источников доступны исторические данные о продажах игр, оценки пользователей и экспертов, жанры и платформы (например, Xbox или PlayStation). Вам нужно выявить определяющие успешность игры закономерности. Это позволит сделать ставку на потенциально популярный продукт и спланировать рекламные кампании.\n",
    "\n",
    "Перед вами данные до 2016 года. Представим, что сейчас декабрь 2016 г., и вы планируете кампанию на 2017-й. Нужно отработать принцип работы с данными. Неважно, прогнозируете ли вы продажи на 2017 год по данным 2016-го или же 2027-й — по данным 2026 года.\n"
   ]
  },
  {
   "cell_type": "markdown",
   "metadata": {
    "toc": true
   },
   "source": [
    "<h1>Содержание<span class=\"tocSkip\"></span></h1>\n",
    "<div class=\"toc\"><ul class=\"toc-item\"><li><span><a href=\"#Описание-проекта\" data-toc-modified-id=\"Описание-проекта-1\"><span class=\"toc-item-num\">1&nbsp;&nbsp;</span>Описание проекта</a></span><ul class=\"toc-item\"><li><span><a href=\"#Описание-данных\" data-toc-modified-id=\"Описание-данных-1.1\"><span class=\"toc-item-num\">1.1&nbsp;&nbsp;</span>Описание данных</a></span></li><li><span><a href=\"#Библиотеки-и-настройки\" data-toc-modified-id=\"Библиотеки-и-настройки-1.2\"><span class=\"toc-item-num\">1.2&nbsp;&nbsp;</span>Библиотеки и настройки</a></span></li><li><span><a href=\"#Функции\" data-toc-modified-id=\"Функции-1.3\"><span class=\"toc-item-num\">1.3&nbsp;&nbsp;</span>Функции</a></span></li></ul></li><li><span><a href=\"#Изучение-и-подготовка-данных\" data-toc-modified-id=\"Изучение-и-подготовка-данных-2\"><span class=\"toc-item-num\">2&nbsp;&nbsp;</span>Изучение и подготовка данных</a></span><ul class=\"toc-item\"><li><span><a href=\"#Изучение-датасета\" data-toc-modified-id=\"Изучение-датасета-2.1\"><span class=\"toc-item-num\">2.1&nbsp;&nbsp;</span>Изучение датасета</a></span></li><li><span><a href=\"#Подготовка-датасета\" data-toc-modified-id=\"Подготовка-датасета-2.2\"><span class=\"toc-item-num\">2.2&nbsp;&nbsp;</span>Подготовка датасета</a></span></li><li><span><a href=\"#Названия-игр.-Обработка-дублей\" data-toc-modified-id=\"Названия-игр.-Обработка-дублей-2.3\"><span class=\"toc-item-num\">2.3&nbsp;&nbsp;</span>Названия игр. Обработка дублей</a></span></li><li><span><a href=\"#Обработка-пропусков\" data-toc-modified-id=\"Обработка-пропусков-2.4\"><span class=\"toc-item-num\">2.4&nbsp;&nbsp;</span>Обработка пропусков</a></span></li><li><span><a href=\"#Суммарные-продажи.-Приведение-типов-данных.\" data-toc-modified-id=\"Суммарные-продажи.-Приведение-типов-данных.-2.5\"><span class=\"toc-item-num\">2.5&nbsp;&nbsp;</span>Суммарные продажи. Приведение типов данных.</a></span></li></ul></li><li><span><a href=\"#Исследовательский-анализ\" data-toc-modified-id=\"Исследовательский-анализ-3\"><span class=\"toc-item-num\">3&nbsp;&nbsp;</span>Исследовательский анализ</a></span><ul class=\"toc-item\"><li><span><a href=\"#Распределения-по-годам\" data-toc-modified-id=\"Распределения-по-годам-3.1\"><span class=\"toc-item-num\">3.1&nbsp;&nbsp;</span>Распределения по годам</a></span></li><li><span><a href=\"#Актуальный-период-и-потенцильно-прибыльные-платформы\" data-toc-modified-id=\"Актуальный-период-и-потенцильно-прибыльные-платформы-3.2\"><span class=\"toc-item-num\">3.2&nbsp;&nbsp;</span>Актуальный период и потенцильно прибыльные платформы</a></span></li><li><span><a href=\"#Распределение-продаж-по-платформам\" data-toc-modified-id=\"Распределение-продаж-по-платформам-3.3\"><span class=\"toc-item-num\">3.3&nbsp;&nbsp;</span>Распределение продаж по платформам</a></span></li><li><span><a href=\"#Влияние-оценок-на-продажи\" data-toc-modified-id=\"Влияние-оценок-на-продажи-3.4\"><span class=\"toc-item-num\">3.4&nbsp;&nbsp;</span>Влияние оценок на продажи</a></span></li><li><span><a href=\"#Распределение-продаж-игр-по-жанрам\" data-toc-modified-id=\"Распределение-продаж-игр-по-жанрам-3.5\"><span class=\"toc-item-num\">3.5&nbsp;&nbsp;</span>Распределение продаж игр по жанрам</a></span></li></ul></li><li><span><a href=\"#Портрет-пользователя-каждого-региона\" data-toc-modified-id=\"Портрет-пользователя-каждого-региона-4\"><span class=\"toc-item-num\">4&nbsp;&nbsp;</span>Портрет пользователя каждого региона</a></span><ul class=\"toc-item\"><li><span><a href=\"#Топ-5-платформ\" data-toc-modified-id=\"Топ-5-платформ-4.1\"><span class=\"toc-item-num\">4.1&nbsp;&nbsp;</span>Топ-5 платформ</a></span></li><li><span><a href=\"#Топ-5-жанров\" data-toc-modified-id=\"Топ-5-жанров-4.2\"><span class=\"toc-item-num\">4.2&nbsp;&nbsp;</span>Топ-5 жанров</a></span></li><li><span><a href=\"#Влияние-рейтинга-ESRB-на-продажи-в-отдельном-регионе\" data-toc-modified-id=\"Влияние-рейтинга-ESRB-на-продажи-в-отдельном-регионе-4.3\"><span class=\"toc-item-num\">4.3&nbsp;&nbsp;</span>Влияние рейтинга ESRB на продажи в отдельном регионе</a></span></li></ul></li><li><span><a href=\"#Проверка-гипотез\" data-toc-modified-id=\"Проверка-гипотез-5\"><span class=\"toc-item-num\">5&nbsp;&nbsp;</span>Проверка гипотез</a></span><ul class=\"toc-item\"><li><span><a href=\"#Средние-пользовательские-рейтинги-платформ-Xbox-One-и-PC-одинаковые\" data-toc-modified-id=\"Средние-пользовательские-рейтинги-платформ-Xbox-One-и-PC-одинаковые-5.1\"><span class=\"toc-item-num\">5.1&nbsp;&nbsp;</span>Средние пользовательские рейтинги платформ <em>Xbox One</em> и <em>PC</em> одинаковые</a></span></li><li><span><a href=\"#Средние-пользовательские-рейтинги-жанров-Action-и-Sports-разные\" data-toc-modified-id=\"Средние-пользовательские-рейтинги-жанров-Action-и-Sports-разные-5.2\"><span class=\"toc-item-num\">5.2&nbsp;&nbsp;</span>Средние пользовательские рейтинги жанров <em>Action</em> и <em>Sports</em> разные</a></span></li></ul></li><li><span><a href=\"#Общий-вывод\" data-toc-modified-id=\"Общий-вывод-6\"><span class=\"toc-item-num\">6&nbsp;&nbsp;</span>Общий вывод</a></span></li></ul></div>"
   ]
  },
  {
   "cell_type": "markdown",
   "metadata": {},
   "source": [
    "## Описание проекта"
   ]
  },
  {
   "cell_type": "markdown",
   "metadata": {},
   "source": [
    "### Описание данных\n",
    "\n",
    "В файле `games.csv` собраны исторические данные из открытых источников о продажах игр, оценки пользователей и экспертов, жанры и платформы\n",
    "\n",
    "- `Name` — название игры\n",
    "- `Platform` — платформа\n",
    "- `Year_of_Release` — год выпуска\n",
    "- `Genre` — жанр игры\n",
    "- `NA_sales` — продажи в Северной Америке (миллионы проданных копий)\n",
    "- `EU_sales` — продажи в Европе (миллионы проданных копий)\n",
    "- `JP_sales` — продажи в Японии (миллионы проданных копий)\n",
    "- `Other_sales` — продажи в других странах (миллионы проданных копий)\n",
    "- `Critic_Score` — оценка критиков (максимум 100)\n",
    "- `User_Score` — оценка пользователей (максимум 10)\n",
    "- `Rating` — рейтинг от организации ESRB \n",
    "\n",
    "ESRB (Entertainment Software Rating Board) — это ассоциация, определяющая возрастной рейтинг компьютерных игр. ESRB оценивает игровой контент и присваивает ему подходящую возрастную категорию, например, «Для взрослых», «Для детей младшего возраста» или «Для подростков».\n",
    "\n",
    "Возможные значения рейтинга (источники - [ESRB](https://www.esrb.org/ratings-guide/), [Википедия](https://ru.wikipedia.org/wiki/Entertainment_Software_Rating_Board))\n",
    "\n",
    "- `EC` (**Early Childhood**) - «_Для детей младшего возраста_»: для детей от 3 лет\n",
    "- `E` (**Everyone**) - «_Для всех_»: для возрастной категории от 6 лет\n",
    "- `E10+` (**Everyone 10+**) - «_Для всех от 10 лет и старше_»\n",
    "- `T` (**Teen**) - «_Подросткам_»: для лиц от 13 лет\n",
    "- `M` (**Mature**) - «_Для взрослых_»: не подходит для подростков младше 17 лет\n",
    "- `AO` (**Adults Only 18+**) - «_Только для взрослых_»: для взрослых старше 18 лет\n",
    "- `RP` (**Rating Pending**) - «_Рейтинг ожидается_»: продукт ожидает присвоения рейтинга\n",
    "\n",
    "Данные за 2016 год могут быть неполными.\n"
   ]
  },
  {
   "cell_type": "markdown",
   "metadata": {},
   "source": [
    "### Библиотеки и настройки"
   ]
  },
  {
   "cell_type": "code",
   "execution_count": 1,
   "metadata": {},
   "outputs": [],
   "source": [
    "# для формтированного вывода\n",
    "from IPython.display import Markdown, display \n",
    "import warnings\n",
    "warnings.filterwarnings('ignore')\n",
    "\n",
    "# для работы с данными\n",
    "import pandas as pd\n",
    "\n",
    "# для вычислений\n",
    "import numpy as np\n",
    "import math as mt\n",
    "from scipy import stats as st\n",
    "\n",
    "# для графиков\n",
    "import seaborn as sns\n",
    "from matplotlib import pyplot as plt\n",
    "\n",
    "# для работы с регулярными выражениями\n",
    "import re\n",
    "\n",
    "# КОНСТАНТЫ\n",
    "# Паттерн для распознавания года в названии игры\n",
    "YYYY_PATTERN = r'((?:19[89]|20[01])[0-9])'  # от 1980 до 2019\n",
    "YY_PATTERN   = r'((?:[89]|[01])[0-9])'      # от  '80 до  '19\n",
    "# Паттерн для распознавания знаков пунктуации, за исключением скобок\n",
    "PUNCT_PATTERN = r'[^\\w\\s]'\n",
    "\n",
    "# при выводе датафрейма будем показывать все колонки\n",
    "pd.set_option('display.max_columns', None)\n",
    "# зададим некоторые параметры по умолчанию для графиков \n",
    "# sns.set(rc={'figure.figsize':(12,8)})\n",
    "plt.rcParams.update({\n",
    "    'axes.titlesize': 14,\n",
    "    'figure.figsize': (12, 8)})"
   ]
  },
  {
   "cell_type": "markdown",
   "metadata": {},
   "source": [
    "### Функции"
   ]
  },
  {
   "cell_type": "code",
   "execution_count": 2,
   "metadata": {},
   "outputs": [],
   "source": [
    "# функция вывода списка по колонкам\n",
    "def print_list_by_columns(list_to_print, col_num = 3, col_width = 50):\n",
    "    \"\"\" Печать элементов списка или массива по столбцам \n",
    "    \n",
    "    Параметры:\n",
    "        col_num : int - количество столбцов  \n",
    "        col_width : int - ширина столбца в символах \n",
    "    \"\"\"\n",
    "    # количество строк для вывода, \n",
    "    # если размер списка не кратен количеству колонок, добавим одну строку\n",
    "    lines_num = (len(list_to_print) // col_num) + (len(list_to_print) % col_num > 0)\n",
    "    # вывод на экран построчно столбцов шириной col_width\n",
    "    for i in range(lines_num):\n",
    "        line_to_print = ''\n",
    "        for elem in list_to_print[i::lines_num]: \n",
    "            line_to_print += elem.ljust(col_width)\n",
    "        print(line_to_print)\n",
    "\n",
    "# Матрица рассеяния\n",
    "def show_scatter_matrix(df, cols, title='Матрица рассеяния', alpha=1.0, figsize=(12,10)):\n",
    "    ''' Матрицы рассеяния для колонок cols из датасета df\n",
    "\n",
    "    Параметры:\n",
    "        df : pd.DataFrame - датасет, для которого строим матрицу  \n",
    "        cols : list - список столбцов датасета \n",
    "        title : str - текст названия графика (необязательный)\n",
    "        alpha, figsize - аргументы plot (необязательные)\n",
    "    '''\n",
    "    # строим матрицы рассеяния и гистограммы\n",
    "    pd.plotting.scatter_matrix(df[cols], alpha=alpha, figsize=figsize);\n",
    "    plt.suptitle(title, fontsize=14, y=0.92)\n",
    "\n",
    "# Стилизованная матрица коррелляции\n",
    "def styled_corr(df, cols, precision=2):\n",
    "    ''' Матрица коррелляции для колонок cols из датасета df\n",
    "\n",
    "    Параметры:\n",
    "        df : pd.DataFrame - датасет, для которого вычисляем матрицу  \n",
    "        cols : list - список столбцов датасета\n",
    "        precision : int - количество знаков после запятой (необязательный) \n",
    "        first_to_others : bool - флаг, если True выводит только коэффициенты \n",
    "        между первым столбцом и остальными, пераданными в cols\n",
    "    '''\n",
    "    return (\n",
    "        df[cols].corr()\n",
    "        .style.background_gradient(cmap='coolwarm') #, vmin=-1, vmax=1) в pandas=0.25 не работает\n",
    "        .set_precision(precision)\n",
    "    ) "
   ]
  },
  {
   "cell_type": "markdown",
   "metadata": {},
   "source": [
    "## Изучение и подготовка данных\n",
    "\n",
    "### Изучение датасета\n",
    "\n",
    "Загрузим датасет, посмотрим информацию о нём"
   ]
  },
  {
   "cell_type": "code",
   "execution_count": 3,
   "metadata": {},
   "outputs": [
    {
     "name": "stdout",
     "output_type": "stream",
     "text": [
      "<class 'pandas.core.frame.DataFrame'>\n",
      "RangeIndex: 16715 entries, 0 to 16714\n",
      "Data columns (total 11 columns):\n",
      "Name               16713 non-null object\n",
      "Platform           16715 non-null object\n",
      "Year_of_Release    16446 non-null float64\n",
      "Genre              16713 non-null object\n",
      "NA_sales           16715 non-null float64\n",
      "EU_sales           16715 non-null float64\n",
      "JP_sales           16715 non-null float64\n",
      "Other_sales        16715 non-null float64\n",
      "Critic_Score       8137 non-null float64\n",
      "User_Score         10014 non-null object\n",
      "Rating             9949 non-null object\n",
      "dtypes: float64(6), object(5)\n",
      "memory usage: 1.4+ MB\n"
     ]
    }
   ],
   "source": [
    "try: # eсли ноутбук запускается на локальном ПК, то читаем данные из файла в директории\n",
    "    df = pd.read_csv('games.csv')\n",
    "except: # если в Jupyter Hub Яндекс.Практикума\n",
    "    df = pd.read_csv('/datasets/games.csv')\n",
    "df.info()"
   ]
  },
  {
   "cell_type": "markdown",
   "metadata": {},
   "source": [
    "Берём на заметку\n",
    "- Есть 2 игры без названия и жанра, около 300 пропусков в значениях года релиза. \n",
    "- Значительная доля пропущенных значений в колонках оценки критиков, оценки пользователей и рейтинга ESRB.\n",
    "- Тип данных года релиза - `float`, следует поменять на `int`, однако пока там есть пропуски мы этого сделать не сможем.\n",
    "- Тип данных оценки пользователей - `object`, значит скорее всего содержит строковые значения "
   ]
  },
  {
   "cell_type": "markdown",
   "metadata": {},
   "source": [
    "### Подготовка датасета\n",
    "\n",
    "Приведём названия колонок к нижнему регистру, проверим на наличие явных дублей, выведем первые и последние строки"
   ]
  },
  {
   "cell_type": "code",
   "execution_count": 4,
   "metadata": {},
   "outputs": [
    {
     "data": {
      "text/markdown": [
       "Количество явных дублей: 0"
      ],
      "text/plain": [
       "<IPython.core.display.Markdown object>"
      ]
     },
     "metadata": {},
     "output_type": "display_data"
    },
    {
     "data": {
      "text/html": [
       "<div>\n",
       "<style scoped>\n",
       "    .dataframe tbody tr th:only-of-type {\n",
       "        vertical-align: middle;\n",
       "    }\n",
       "\n",
       "    .dataframe tbody tr th {\n",
       "        vertical-align: top;\n",
       "    }\n",
       "\n",
       "    .dataframe thead th {\n",
       "        text-align: right;\n",
       "    }\n",
       "</style>\n",
       "<table border=\"1\" class=\"dataframe\">\n",
       "  <thead>\n",
       "    <tr style=\"text-align: right;\">\n",
       "      <th></th>\n",
       "      <th>name</th>\n",
       "      <th>platform</th>\n",
       "      <th>year_of_release</th>\n",
       "      <th>genre</th>\n",
       "      <th>na_sales</th>\n",
       "      <th>eu_sales</th>\n",
       "      <th>jp_sales</th>\n",
       "      <th>other_sales</th>\n",
       "      <th>critic_score</th>\n",
       "      <th>user_score</th>\n",
       "      <th>rating</th>\n",
       "    </tr>\n",
       "  </thead>\n",
       "  <tbody>\n",
       "    <tr>\n",
       "      <td>0</td>\n",
       "      <td>Wii Sports</td>\n",
       "      <td>Wii</td>\n",
       "      <td>2006.0</td>\n",
       "      <td>Sports</td>\n",
       "      <td>41.36</td>\n",
       "      <td>28.96</td>\n",
       "      <td>3.77</td>\n",
       "      <td>8.45</td>\n",
       "      <td>76.0</td>\n",
       "      <td>8</td>\n",
       "      <td>E</td>\n",
       "    </tr>\n",
       "    <tr>\n",
       "      <td>1</td>\n",
       "      <td>Super Mario Bros.</td>\n",
       "      <td>NES</td>\n",
       "      <td>1985.0</td>\n",
       "      <td>Platform</td>\n",
       "      <td>29.08</td>\n",
       "      <td>3.58</td>\n",
       "      <td>6.81</td>\n",
       "      <td>0.77</td>\n",
       "      <td>NaN</td>\n",
       "      <td>NaN</td>\n",
       "      <td>NaN</td>\n",
       "    </tr>\n",
       "    <tr>\n",
       "      <td>2</td>\n",
       "      <td>Mario Kart Wii</td>\n",
       "      <td>Wii</td>\n",
       "      <td>2008.0</td>\n",
       "      <td>Racing</td>\n",
       "      <td>15.68</td>\n",
       "      <td>12.76</td>\n",
       "      <td>3.79</td>\n",
       "      <td>3.29</td>\n",
       "      <td>82.0</td>\n",
       "      <td>8.3</td>\n",
       "      <td>E</td>\n",
       "    </tr>\n",
       "    <tr>\n",
       "      <td>3</td>\n",
       "      <td>Wii Sports Resort</td>\n",
       "      <td>Wii</td>\n",
       "      <td>2009.0</td>\n",
       "      <td>Sports</td>\n",
       "      <td>15.61</td>\n",
       "      <td>10.93</td>\n",
       "      <td>3.28</td>\n",
       "      <td>2.95</td>\n",
       "      <td>80.0</td>\n",
       "      <td>8</td>\n",
       "      <td>E</td>\n",
       "    </tr>\n",
       "    <tr>\n",
       "      <td>4</td>\n",
       "      <td>Pokemon Red/Pokemon Blue</td>\n",
       "      <td>GB</td>\n",
       "      <td>1996.0</td>\n",
       "      <td>Role-Playing</td>\n",
       "      <td>11.27</td>\n",
       "      <td>8.89</td>\n",
       "      <td>10.22</td>\n",
       "      <td>1.00</td>\n",
       "      <td>NaN</td>\n",
       "      <td>NaN</td>\n",
       "      <td>NaN</td>\n",
       "    </tr>\n",
       "    <tr>\n",
       "      <td>...</td>\n",
       "      <td>...</td>\n",
       "      <td>...</td>\n",
       "      <td>...</td>\n",
       "      <td>...</td>\n",
       "      <td>...</td>\n",
       "      <td>...</td>\n",
       "      <td>...</td>\n",
       "      <td>...</td>\n",
       "      <td>...</td>\n",
       "      <td>...</td>\n",
       "      <td>...</td>\n",
       "    </tr>\n",
       "    <tr>\n",
       "      <td>16710</td>\n",
       "      <td>Samurai Warriors: Sanada Maru</td>\n",
       "      <td>PS3</td>\n",
       "      <td>2016.0</td>\n",
       "      <td>Action</td>\n",
       "      <td>0.00</td>\n",
       "      <td>0.00</td>\n",
       "      <td>0.01</td>\n",
       "      <td>0.00</td>\n",
       "      <td>NaN</td>\n",
       "      <td>NaN</td>\n",
       "      <td>NaN</td>\n",
       "    </tr>\n",
       "    <tr>\n",
       "      <td>16711</td>\n",
       "      <td>LMA Manager 2007</td>\n",
       "      <td>X360</td>\n",
       "      <td>2006.0</td>\n",
       "      <td>Sports</td>\n",
       "      <td>0.00</td>\n",
       "      <td>0.01</td>\n",
       "      <td>0.00</td>\n",
       "      <td>0.00</td>\n",
       "      <td>NaN</td>\n",
       "      <td>NaN</td>\n",
       "      <td>NaN</td>\n",
       "    </tr>\n",
       "    <tr>\n",
       "      <td>16712</td>\n",
       "      <td>Haitaka no Psychedelica</td>\n",
       "      <td>PSV</td>\n",
       "      <td>2016.0</td>\n",
       "      <td>Adventure</td>\n",
       "      <td>0.00</td>\n",
       "      <td>0.00</td>\n",
       "      <td>0.01</td>\n",
       "      <td>0.00</td>\n",
       "      <td>NaN</td>\n",
       "      <td>NaN</td>\n",
       "      <td>NaN</td>\n",
       "    </tr>\n",
       "    <tr>\n",
       "      <td>16713</td>\n",
       "      <td>Spirits &amp; Spells</td>\n",
       "      <td>GBA</td>\n",
       "      <td>2003.0</td>\n",
       "      <td>Platform</td>\n",
       "      <td>0.01</td>\n",
       "      <td>0.00</td>\n",
       "      <td>0.00</td>\n",
       "      <td>0.00</td>\n",
       "      <td>NaN</td>\n",
       "      <td>NaN</td>\n",
       "      <td>NaN</td>\n",
       "    </tr>\n",
       "    <tr>\n",
       "      <td>16714</td>\n",
       "      <td>Winning Post 8 2016</td>\n",
       "      <td>PSV</td>\n",
       "      <td>2016.0</td>\n",
       "      <td>Simulation</td>\n",
       "      <td>0.00</td>\n",
       "      <td>0.00</td>\n",
       "      <td>0.01</td>\n",
       "      <td>0.00</td>\n",
       "      <td>NaN</td>\n",
       "      <td>NaN</td>\n",
       "      <td>NaN</td>\n",
       "    </tr>\n",
       "  </tbody>\n",
       "</table>\n",
       "<p>16715 rows × 11 columns</p>\n",
       "</div>"
      ],
      "text/plain": [
       "                                name platform  year_of_release         genre  \\\n",
       "0                         Wii Sports      Wii           2006.0        Sports   \n",
       "1                  Super Mario Bros.      NES           1985.0      Platform   \n",
       "2                     Mario Kart Wii      Wii           2008.0        Racing   \n",
       "3                  Wii Sports Resort      Wii           2009.0        Sports   \n",
       "4           Pokemon Red/Pokemon Blue       GB           1996.0  Role-Playing   \n",
       "...                              ...      ...              ...           ...   \n",
       "16710  Samurai Warriors: Sanada Maru      PS3           2016.0        Action   \n",
       "16711               LMA Manager 2007     X360           2006.0        Sports   \n",
       "16712        Haitaka no Psychedelica      PSV           2016.0     Adventure   \n",
       "16713               Spirits & Spells      GBA           2003.0      Platform   \n",
       "16714            Winning Post 8 2016      PSV           2016.0    Simulation   \n",
       "\n",
       "       na_sales  eu_sales  jp_sales  other_sales  critic_score user_score  \\\n",
       "0         41.36     28.96      3.77         8.45          76.0          8   \n",
       "1         29.08      3.58      6.81         0.77           NaN        NaN   \n",
       "2         15.68     12.76      3.79         3.29          82.0        8.3   \n",
       "3         15.61     10.93      3.28         2.95          80.0          8   \n",
       "4         11.27      8.89     10.22         1.00           NaN        NaN   \n",
       "...         ...       ...       ...          ...           ...        ...   \n",
       "16710      0.00      0.00      0.01         0.00           NaN        NaN   \n",
       "16711      0.00      0.01      0.00         0.00           NaN        NaN   \n",
       "16712      0.00      0.00      0.01         0.00           NaN        NaN   \n",
       "16713      0.01      0.00      0.00         0.00           NaN        NaN   \n",
       "16714      0.00      0.00      0.01         0.00           NaN        NaN   \n",
       "\n",
       "      rating  \n",
       "0          E  \n",
       "1        NaN  \n",
       "2          E  \n",
       "3          E  \n",
       "4        NaN  \n",
       "...      ...  \n",
       "16710    NaN  \n",
       "16711    NaN  \n",
       "16712    NaN  \n",
       "16713    NaN  \n",
       "16714    NaN  \n",
       "\n",
       "[16715 rows x 11 columns]"
      ]
     },
     "execution_count": 4,
     "metadata": {},
     "output_type": "execute_result"
    }
   ],
   "source": [
    "df.columns = df.columns.str.lower()\n",
    "display(Markdown('Количество явных дублей: {}'.format(df.duplicated().sum())))\n",
    "df"
   ]
  },
  {
   "cell_type": "markdown",
   "metadata": {},
   "source": [
    "Дублей не выявили. Устраним вышеобозначенные проблемы.\n",
    "\n",
    "Прежде составим справочник с диапазоном выпуска годов и количеством игр для разных платформ. Будем в последующем обращаться к этой таблице как к стравочнику"
   ]
  },
  {
   "cell_type": "code",
   "execution_count": 5,
   "metadata": {},
   "outputs": [
    {
     "data": {
      "text/html": [
       "<div>\n",
       "<style scoped>\n",
       "    .dataframe tbody tr th:only-of-type {\n",
       "        vertical-align: middle;\n",
       "    }\n",
       "\n",
       "    .dataframe tbody tr th {\n",
       "        vertical-align: top;\n",
       "    }\n",
       "\n",
       "    .dataframe thead th {\n",
       "        text-align: right;\n",
       "    }\n",
       "</style>\n",
       "<table border=\"1\" class=\"dataframe\">\n",
       "  <thead>\n",
       "    <tr style=\"text-align: right;\">\n",
       "      <th></th>\n",
       "      <th>count</th>\n",
       "      <th>year_max</th>\n",
       "      <th>year_median</th>\n",
       "      <th>year_min</th>\n",
       "    </tr>\n",
       "    <tr>\n",
       "      <th>platform</th>\n",
       "      <th></th>\n",
       "      <th></th>\n",
       "      <th></th>\n",
       "      <th></th>\n",
       "    </tr>\n",
       "  </thead>\n",
       "  <tbody>\n",
       "    <tr>\n",
       "      <td>PS4</td>\n",
       "      <td>392</td>\n",
       "      <td>2016</td>\n",
       "      <td>2015</td>\n",
       "      <td>2013</td>\n",
       "    </tr>\n",
       "    <tr>\n",
       "      <td>XOne</td>\n",
       "      <td>247</td>\n",
       "      <td>2016</td>\n",
       "      <td>2015</td>\n",
       "      <td>2013</td>\n",
       "    </tr>\n",
       "    <tr>\n",
       "      <td>WiiU</td>\n",
       "      <td>147</td>\n",
       "      <td>2016</td>\n",
       "      <td>2013</td>\n",
       "      <td>2012</td>\n",
       "    </tr>\n",
       "    <tr>\n",
       "      <td>3DS</td>\n",
       "      <td>520</td>\n",
       "      <td>2016</td>\n",
       "      <td>2013</td>\n",
       "      <td>2011</td>\n",
       "    </tr>\n",
       "    <tr>\n",
       "      <td>PSV</td>\n",
       "      <td>430</td>\n",
       "      <td>2016</td>\n",
       "      <td>2014</td>\n",
       "      <td>2011</td>\n",
       "    </tr>\n",
       "    <tr>\n",
       "      <td>PS3</td>\n",
       "      <td>1331</td>\n",
       "      <td>2016</td>\n",
       "      <td>2011</td>\n",
       "      <td>2006</td>\n",
       "    </tr>\n",
       "    <tr>\n",
       "      <td>Wii</td>\n",
       "      <td>1320</td>\n",
       "      <td>2016</td>\n",
       "      <td>2009</td>\n",
       "      <td>2006</td>\n",
       "    </tr>\n",
       "    <tr>\n",
       "      <td>X360</td>\n",
       "      <td>1262</td>\n",
       "      <td>2016</td>\n",
       "      <td>2010</td>\n",
       "      <td>2005</td>\n",
       "    </tr>\n",
       "    <tr>\n",
       "      <td>PC</td>\n",
       "      <td>974</td>\n",
       "      <td>2016</td>\n",
       "      <td>2010</td>\n",
       "      <td>1985</td>\n",
       "    </tr>\n",
       "    <tr>\n",
       "      <td>PSP</td>\n",
       "      <td>1209</td>\n",
       "      <td>2015</td>\n",
       "      <td>2009</td>\n",
       "      <td>2004</td>\n",
       "    </tr>\n",
       "    <tr>\n",
       "      <td>DS</td>\n",
       "      <td>2151</td>\n",
       "      <td>2013</td>\n",
       "      <td>2008</td>\n",
       "      <td>1985</td>\n",
       "    </tr>\n",
       "    <tr>\n",
       "      <td>PS2</td>\n",
       "      <td>2161</td>\n",
       "      <td>2011</td>\n",
       "      <td>2005</td>\n",
       "      <td>2000</td>\n",
       "    </tr>\n",
       "    <tr>\n",
       "      <td>XB</td>\n",
       "      <td>824</td>\n",
       "      <td>2008</td>\n",
       "      <td>2004</td>\n",
       "      <td>2000</td>\n",
       "    </tr>\n",
       "    <tr>\n",
       "      <td>DC</td>\n",
       "      <td>52</td>\n",
       "      <td>2008</td>\n",
       "      <td>2000</td>\n",
       "      <td>1998</td>\n",
       "    </tr>\n",
       "    <tr>\n",
       "      <td>GC</td>\n",
       "      <td>556</td>\n",
       "      <td>2007</td>\n",
       "      <td>2003</td>\n",
       "      <td>2001</td>\n",
       "    </tr>\n",
       "  </tbody>\n",
       "</table>\n",
       "</div>"
      ],
      "text/plain": [
       "          count  year_max  year_median  year_min\n",
       "platform                                        \n",
       "PS4         392      2016         2015      2013\n",
       "XOne        247      2016         2015      2013\n",
       "WiiU        147      2016         2013      2012\n",
       "3DS         520      2016         2013      2011\n",
       "PSV         430      2016         2014      2011\n",
       "PS3        1331      2016         2011      2006\n",
       "Wii        1320      2016         2009      2006\n",
       "X360       1262      2016         2010      2005\n",
       "PC          974      2016         2010      1985\n",
       "PSP        1209      2015         2009      2004\n",
       "DS         2151      2013         2008      1985\n",
       "PS2        2161      2011         2005      2000\n",
       "XB          824      2008         2004      2000\n",
       "DC           52      2008         2000      1998\n",
       "GC          556      2007         2003      2001"
      ]
     },
     "execution_count": 5,
     "metadata": {},
     "output_type": "execute_result"
    }
   ],
   "source": [
    "platforms = ( df[['platform','name','year_of_release']]\n",
    "    .pivot_table(index='platform', aggfunc={'name':'count','year_of_release':['min','median','max']})\n",
    "    .round().astype('int').droplevel(0,axis=1)\n",
    "    .rename(columns={'min':'year_min','median':'year_median','max':'year_max'})\n",
    "    .sort_values(by=['year_max','year_min'],ascending=False)\n",
    ")\n",
    "platforms.head(15)"
   ]
  },
  {
   "cell_type": "markdown",
   "metadata": {},
   "source": [
    "Видим, что на большую часть встречающихся платформ, игры уже не выпускаются. У каждой платформы есть своё \"время жизни\". Кроме персональных компьютеров (PC)"
   ]
  },
  {
   "cell_type": "markdown",
   "metadata": {},
   "source": [
    "### Названия игр. Обработка дублей\n",
    "\n",
    "Посмотрим на строки игр с неизвестными именами из основной таблицы"
   ]
  },
  {
   "cell_type": "code",
   "execution_count": 6,
   "metadata": {},
   "outputs": [
    {
     "data": {
      "text/html": [
       "<div>\n",
       "<style scoped>\n",
       "    .dataframe tbody tr th:only-of-type {\n",
       "        vertical-align: middle;\n",
       "    }\n",
       "\n",
       "    .dataframe tbody tr th {\n",
       "        vertical-align: top;\n",
       "    }\n",
       "\n",
       "    .dataframe thead th {\n",
       "        text-align: right;\n",
       "    }\n",
       "</style>\n",
       "<table border=\"1\" class=\"dataframe\">\n",
       "  <thead>\n",
       "    <tr style=\"text-align: right;\">\n",
       "      <th></th>\n",
       "      <th>name</th>\n",
       "      <th>platform</th>\n",
       "      <th>year_of_release</th>\n",
       "      <th>genre</th>\n",
       "      <th>na_sales</th>\n",
       "      <th>eu_sales</th>\n",
       "      <th>jp_sales</th>\n",
       "      <th>other_sales</th>\n",
       "      <th>critic_score</th>\n",
       "      <th>user_score</th>\n",
       "      <th>rating</th>\n",
       "    </tr>\n",
       "  </thead>\n",
       "  <tbody>\n",
       "    <tr>\n",
       "      <td>659</td>\n",
       "      <td>NaN</td>\n",
       "      <td>GEN</td>\n",
       "      <td>1993.0</td>\n",
       "      <td>NaN</td>\n",
       "      <td>1.78</td>\n",
       "      <td>0.53</td>\n",
       "      <td>0.00</td>\n",
       "      <td>0.08</td>\n",
       "      <td>NaN</td>\n",
       "      <td>NaN</td>\n",
       "      <td>NaN</td>\n",
       "    </tr>\n",
       "    <tr>\n",
       "      <td>14244</td>\n",
       "      <td>NaN</td>\n",
       "      <td>GEN</td>\n",
       "      <td>1993.0</td>\n",
       "      <td>NaN</td>\n",
       "      <td>0.00</td>\n",
       "      <td>0.00</td>\n",
       "      <td>0.03</td>\n",
       "      <td>0.00</td>\n",
       "      <td>NaN</td>\n",
       "      <td>NaN</td>\n",
       "      <td>NaN</td>\n",
       "    </tr>\n",
       "  </tbody>\n",
       "</table>\n",
       "</div>"
      ],
      "text/plain": [
       "      name platform  year_of_release genre  na_sales  eu_sales  jp_sales  \\\n",
       "659    NaN      GEN           1993.0   NaN      1.78      0.53      0.00   \n",
       "14244  NaN      GEN           1993.0   NaN      0.00      0.00      0.03   \n",
       "\n",
       "       other_sales  critic_score user_score rating  \n",
       "659           0.08           NaN        NaN    NaN  \n",
       "14244         0.00           NaN        NaN    NaN  "
      ]
     },
     "metadata": {},
     "output_type": "display_data"
    }
   ],
   "source": [
    "display(df[df.name.isna()])"
   ]
  },
  {
   "cell_type": "markdown",
   "metadata": {},
   "source": [
    "Обе игры с пропущенными именами для старой платформы, на которую игры уже не выпускаются, просто удалим их, для анализа на 2017 год они очевидно интереса не представляют "
   ]
  },
  {
   "cell_type": "code",
   "execution_count": 7,
   "metadata": {},
   "outputs": [],
   "source": [
    "df.dropna(subset=['name'],inplace=True)\n",
    "df.reset_index(drop=True);"
   ]
  },
  {
   "cell_type": "markdown",
   "metadata": {},
   "source": [
    "При беглом промотре таблицы было обнаружено, что у некоторых игр в названии в скобках указаны комментарии. Посмотрим на часть игр, в названии которых встречаюся скобки. \n",
    "\n",
    "Делаем это для проверки наличия дублей в названиях."
   ]
  },
  {
   "cell_type": "code",
   "execution_count": 8,
   "metadata": {},
   "outputs": [
    {
     "name": "stdout",
     "output_type": "stream",
     "text": [
      "Скобки в названиях игр всегда парные\n"
     ]
    },
    {
     "data": {
      "text/html": [
       "<div>\n",
       "<style scoped>\n",
       "    .dataframe tbody tr th:only-of-type {\n",
       "        vertical-align: middle;\n",
       "    }\n",
       "\n",
       "    .dataframe tbody tr th {\n",
       "        vertical-align: top;\n",
       "    }\n",
       "\n",
       "    .dataframe thead th {\n",
       "        text-align: right;\n",
       "    }\n",
       "</style>\n",
       "<table border=\"1\" class=\"dataframe\">\n",
       "  <thead>\n",
       "    <tr style=\"text-align: right;\">\n",
       "      <th></th>\n",
       "      <th>name</th>\n",
       "      <th>platform</th>\n",
       "      <th>year_of_release</th>\n",
       "      <th>genre</th>\n",
       "      <th>na_sales</th>\n",
       "      <th>eu_sales</th>\n",
       "      <th>jp_sales</th>\n",
       "      <th>other_sales</th>\n",
       "      <th>critic_score</th>\n",
       "      <th>user_score</th>\n",
       "      <th>rating</th>\n",
       "    </tr>\n",
       "  </thead>\n",
       "  <tbody>\n",
       "    <tr>\n",
       "      <td>9113</td>\n",
       "      <td>Cabela's Outdoor Adventures (2009)</td>\n",
       "      <td>PS2</td>\n",
       "      <td>2009.0</td>\n",
       "      <td>Sports</td>\n",
       "      <td>0.07</td>\n",
       "      <td>0.05</td>\n",
       "      <td>0.00</td>\n",
       "      <td>0.02</td>\n",
       "      <td>NaN</td>\n",
       "      <td>6.6</td>\n",
       "      <td>T</td>\n",
       "    </tr>\n",
       "    <tr>\n",
       "      <td>1216</td>\n",
       "      <td>Ratchet &amp; Clank (2016)</td>\n",
       "      <td>PS4</td>\n",
       "      <td>2016.0</td>\n",
       "      <td>Platform</td>\n",
       "      <td>0.50</td>\n",
       "      <td>0.76</td>\n",
       "      <td>0.04</td>\n",
       "      <td>0.24</td>\n",
       "      <td>NaN</td>\n",
       "      <td>NaN</td>\n",
       "      <td>NaN</td>\n",
       "    </tr>\n",
       "    <tr>\n",
       "      <td>639</td>\n",
       "      <td>Need for Speed (2015)</td>\n",
       "      <td>PS4</td>\n",
       "      <td>2015.0</td>\n",
       "      <td>Racing</td>\n",
       "      <td>0.50</td>\n",
       "      <td>1.50</td>\n",
       "      <td>0.05</td>\n",
       "      <td>0.37</td>\n",
       "      <td>NaN</td>\n",
       "      <td>NaN</td>\n",
       "      <td>NaN</td>\n",
       "    </tr>\n",
       "    <tr>\n",
       "      <td>14236</td>\n",
       "      <td>Romance of the Three Kingdoms (3DS)</td>\n",
       "      <td>3DS</td>\n",
       "      <td>2013.0</td>\n",
       "      <td>Strategy</td>\n",
       "      <td>0.00</td>\n",
       "      <td>0.00</td>\n",
       "      <td>0.03</td>\n",
       "      <td>0.00</td>\n",
       "      <td>NaN</td>\n",
       "      <td>NaN</td>\n",
       "      <td>NaN</td>\n",
       "    </tr>\n",
       "    <tr>\n",
       "      <td>15654</td>\n",
       "      <td>Yu-Gi-Oh! GX: The Beginning of Destiny (JP sales)</td>\n",
       "      <td>PS2</td>\n",
       "      <td>2007.0</td>\n",
       "      <td>Strategy</td>\n",
       "      <td>0.00</td>\n",
       "      <td>0.00</td>\n",
       "      <td>0.02</td>\n",
       "      <td>0.00</td>\n",
       "      <td>NaN</td>\n",
       "      <td>NaN</td>\n",
       "      <td>NaN</td>\n",
       "    </tr>\n",
       "  </tbody>\n",
       "</table>\n",
       "</div>"
      ],
      "text/plain": [
       "                                                    name platform  \\\n",
       "9113                  Cabela's Outdoor Adventures (2009)      PS2   \n",
       "1216                              Ratchet & Clank (2016)      PS4   \n",
       "639                                Need for Speed (2015)      PS4   \n",
       "14236                Romance of the Three Kingdoms (3DS)      3DS   \n",
       "15654  Yu-Gi-Oh! GX: The Beginning of Destiny (JP sales)      PS2   \n",
       "\n",
       "       year_of_release     genre  na_sales  eu_sales  jp_sales  other_sales  \\\n",
       "9113            2009.0    Sports      0.07      0.05      0.00         0.02   \n",
       "1216            2016.0  Platform      0.50      0.76      0.04         0.24   \n",
       "639             2015.0    Racing      0.50      1.50      0.05         0.37   \n",
       "14236           2013.0  Strategy      0.00      0.00      0.03         0.00   \n",
       "15654           2007.0  Strategy      0.00      0.00      0.02         0.00   \n",
       "\n",
       "       critic_score user_score rating  \n",
       "9113            NaN        6.6      T  \n",
       "1216            NaN        NaN    NaN  \n",
       "639             NaN        NaN    NaN  \n",
       "14236           NaN        NaN    NaN  \n",
       "15654           NaN        NaN    NaN  "
      ]
     },
     "execution_count": 8,
     "metadata": {},
     "output_type": "execute_result"
    }
   ],
   "source": [
    "if  df[df['name'].str.contains('(',regex=False)].equals(\n",
    "    df[df['name'].str.contains(')',regex=False)]):\n",
    "    print('Скобки в названиях игр всегда парные')\n",
    "\n",
    "df[df['name'].str.contains('(',regex=False)].sample(5)"
   ]
  },
  {
   "cell_type": "markdown",
   "metadata": {},
   "source": [
    "Пример замеченного дубля"
   ]
  },
  {
   "cell_type": "code",
   "execution_count": 9,
   "metadata": {},
   "outputs": [
    {
     "data": {
      "text/html": [
       "<div>\n",
       "<style scoped>\n",
       "    .dataframe tbody tr th:only-of-type {\n",
       "        vertical-align: middle;\n",
       "    }\n",
       "\n",
       "    .dataframe tbody tr th {\n",
       "        vertical-align: top;\n",
       "    }\n",
       "\n",
       "    .dataframe thead th {\n",
       "        text-align: right;\n",
       "    }\n",
       "</style>\n",
       "<table border=\"1\" class=\"dataframe\">\n",
       "  <thead>\n",
       "    <tr style=\"text-align: right;\">\n",
       "      <th></th>\n",
       "      <th>name</th>\n",
       "      <th>platform</th>\n",
       "      <th>year_of_release</th>\n",
       "      <th>genre</th>\n",
       "      <th>na_sales</th>\n",
       "      <th>eu_sales</th>\n",
       "      <th>jp_sales</th>\n",
       "      <th>other_sales</th>\n",
       "      <th>critic_score</th>\n",
       "      <th>user_score</th>\n",
       "      <th>rating</th>\n",
       "    </tr>\n",
       "  </thead>\n",
       "  <tbody>\n",
       "    <tr>\n",
       "      <td>1136</td>\n",
       "      <td>Tony Hawk's American Wasteland (Old all region...</td>\n",
       "      <td>PS2</td>\n",
       "      <td>2005.0</td>\n",
       "      <td>Sports</td>\n",
       "      <td>0.80</td>\n",
       "      <td>0.63</td>\n",
       "      <td>0.01</td>\n",
       "      <td>0.19</td>\n",
       "      <td>NaN</td>\n",
       "      <td>NaN</td>\n",
       "      <td>NaN</td>\n",
       "    </tr>\n",
       "    <tr>\n",
       "      <td>1324</td>\n",
       "      <td>Tony Hawk's American Wasteland (Weekly america...</td>\n",
       "      <td>PS2</td>\n",
       "      <td>2005.0</td>\n",
       "      <td>Sports</td>\n",
       "      <td>1.38</td>\n",
       "      <td>0.05</td>\n",
       "      <td>0.00</td>\n",
       "      <td>0.02</td>\n",
       "      <td>NaN</td>\n",
       "      <td>NaN</td>\n",
       "      <td>NaN</td>\n",
       "    </tr>\n",
       "    <tr>\n",
       "      <td>3224</td>\n",
       "      <td>Tony Hawk's American Wasteland</td>\n",
       "      <td>XB</td>\n",
       "      <td>2005.0</td>\n",
       "      <td>Sports</td>\n",
       "      <td>0.40</td>\n",
       "      <td>0.20</td>\n",
       "      <td>0.00</td>\n",
       "      <td>0.03</td>\n",
       "      <td>77.0</td>\n",
       "      <td>7.7</td>\n",
       "      <td>T</td>\n",
       "    </tr>\n",
       "    <tr>\n",
       "      <td>4564</td>\n",
       "      <td>Tony Hawk's American Wasteland</td>\n",
       "      <td>GC</td>\n",
       "      <td>2005.0</td>\n",
       "      <td>Sports</td>\n",
       "      <td>0.33</td>\n",
       "      <td>0.08</td>\n",
       "      <td>0.00</td>\n",
       "      <td>0.01</td>\n",
       "      <td>76.0</td>\n",
       "      <td>7.7</td>\n",
       "      <td>T</td>\n",
       "    </tr>\n",
       "    <tr>\n",
       "      <td>5597</td>\n",
       "      <td>Tony Hawk's American Wasteland</td>\n",
       "      <td>X360</td>\n",
       "      <td>2005.0</td>\n",
       "      <td>Sports</td>\n",
       "      <td>0.28</td>\n",
       "      <td>0.01</td>\n",
       "      <td>0.00</td>\n",
       "      <td>0.03</td>\n",
       "      <td>75.0</td>\n",
       "      <td>7.2</td>\n",
       "      <td>T</td>\n",
       "    </tr>\n",
       "  </tbody>\n",
       "</table>\n",
       "</div>"
      ],
      "text/plain": [
       "                                                   name platform  \\\n",
       "1136  Tony Hawk's American Wasteland (Old all region...      PS2   \n",
       "1324  Tony Hawk's American Wasteland (Weekly america...      PS2   \n",
       "3224                     Tony Hawk's American Wasteland       XB   \n",
       "4564                     Tony Hawk's American Wasteland       GC   \n",
       "5597                     Tony Hawk's American Wasteland     X360   \n",
       "\n",
       "      year_of_release   genre  na_sales  eu_sales  jp_sales  other_sales  \\\n",
       "1136           2005.0  Sports      0.80      0.63      0.01         0.19   \n",
       "1324           2005.0  Sports      1.38      0.05      0.00         0.02   \n",
       "3224           2005.0  Sports      0.40      0.20      0.00         0.03   \n",
       "4564           2005.0  Sports      0.33      0.08      0.00         0.01   \n",
       "5597           2005.0  Sports      0.28      0.01      0.00         0.03   \n",
       "\n",
       "      critic_score user_score rating  \n",
       "1136           NaN        NaN    NaN  \n",
       "1324           NaN        NaN    NaN  \n",
       "3224          77.0        7.7      T  \n",
       "4564          76.0        7.7      T  \n",
       "5597          75.0        7.2      T  "
      ]
     },
     "execution_count": 9,
     "metadata": {},
     "output_type": "execute_result"
    }
   ],
   "source": [
    "df[df['name'].str.contains(\"Tony Hawk's American Wasteland\")]"
   ]
  },
  {
   "cell_type": "markdown",
   "metadata": {},
   "source": [
    "Посмотрим, какого типа встречаются комментарии, чтобы понять, как их можно обработать. Приводим всё в нижний регистр, чтобы исключить повторения."
   ]
  },
  {
   "cell_type": "code",
   "execution_count": 10,
   "metadata": {},
   "outputs": [
    {
     "name": "stdout",
     "output_type": "stream",
     "text": [
      "Строк с комментариями: 279\n",
      "2006                               ds version                         online edition                     \n",
      "2008                               ds versions                        others sales                       \n",
      "2009                               ebkore+                            pal                                \n",
      "2010                               gbc                                ps1 & psp versions                 \n",
      "2012                               higher jp sales                    psp                                \n",
      "2013                               insomniac                          red                                \n",
      "2014                               japan                              remake                             \n",
      "2015                               japan sales                        rp-m                               \n",
      "2016                               joukan                             rp-t                               \n",
      "3ds                                jp                                 ryoku                              \n",
      "8-bit                              jp & incomplete us sales           sales, but wrong system            \n",
      "all region sales                   jp & others sales                  telltale                           \n",
      "all regions sales                  jp sales                           us & others sales                  \n",
      "america weekly sales               jp sales, but wrong system         us sales                           \n",
      "american and others sales          jp version                         us weekly sales                    \n",
      "american sales                     jp weekly sales                    weekly american sales              \n",
      "cd                                 koei                               weekly jp sales                    \n",
      "codemasters                        north america                      wii & ps2 version                  \n",
      "console version                    old all region sales               xbox 360, ps2, ps3, wii & pc versions\n",
      "correct us sales                   old jp sales                       xbox 360, ps3, & pc versions       \n",
      "ds & mobile versions               old us sales                       \n"
     ]
    }
   ],
   "source": [
    "# создаём список с встречающимися комментариями\n",
    "comments = list(map(\n",
    "    lambda name: name[name.find('(')+1:name.find(')')],\n",
    "    df[df['name'].str.contains('(',regex=False)]['name'].str.lower()\n",
    "))\n",
    "# выводим количество\n",
    "print('Строк с комментариями:', len(comments))\n",
    "# с помощью set сохраняем только уникальные значения, выводим\n",
    "comments = sorted(list(set(comments)))\n",
    "print_list_by_columns(comments, col_width=35)"
   ]
  },
  {
   "cell_type": "markdown",
   "metadata": {},
   "source": [
    "Замечаем\n",
    "\n",
    "- В некоторых случаях в скобках указан год - это может быть переиздание игры, формально это будет новой игрой, такие имена не будем трогать.\n",
    "\n",
    "- Чаще всего встречаются комментарии со словом `sales`. По ним понятно, что для некоторых игр в комментариях указывается, для какого региона указаны продажи. Такие строки можно объеденить со строками игр, не имеющих комментариев. Однако по некторым возникают вопросы: неясно, что имеется в виду под старыми и еженедельными продажами, также есть комментарии, в которых написано, что указаны неверные единицы. \n",
    "\n",
    "- В некоторых указана версия платформы, такие комментарии бессмысленны, так как в таблице есть отдельная колонка, в которой указана платформа. Можно удалить\n",
    "\n",
    "Об этих проблемах лучше сообщить заказчику, уточнить правильные данные. Но для ответа на поставленные вопросы столь маленькая выборка не повлияет на конечные выводы, К тому же не стоит задачи анализа отдельных игр. \n",
    "\n",
    "Зададим корректное имя для каждой игры, удалив лишние пробелы и обнаруженные комментарии. Для этого напишем функцию. \n",
    "Исключать будкм только записи со словом `sales`, названиями региона и платформ. Остальное оставим без изменений."
   ]
  },
  {
   "cell_type": "code",
   "execution_count": 11,
   "metadata": {},
   "outputs": [],
   "source": [
    "# функция извлечения комментария\n",
    "def set_correct_name(row, keywords=[]):\n",
    "    \"\"\" Убирает комментарий, заключённый в скобки, из строки элемента row['name'] \n",
    "        на основе списка ключевых слов, убирает лишние пробелы\n",
    "    \n",
    "    Параметры:\n",
    "        row : строка pd.DataFrame\n",
    "        keywords : список ключевых слов\n",
    "\n",
    "    Возвращает:\n",
    "        отформатированное значение строки name\n",
    "    \"\"\"\n",
    "    name = re.sub(' +',' ',row['name']).lstrip().rstrip()\n",
    "    if '(' in name:\n",
    "        comment = name[name.find('(')+1 : name.find(')')].lower()\n",
    "        if any(key in comment for key in keywords):\n",
    "            return name[ : name.find('(')].rstrip()   \n",
    "        else:\n",
    "            return name\n",
    "    else:\n",
    "        return name\n",
    "\n",
    "# список с ключевыми словами:\n",
    "# названия платформ в нижнем регистре\n",
    "keywords = list(platforms.index.str.lower())\n",
    "# другие ключевые слова\n",
    "keywords.extend(['sales','jp','japan','america'])\n",
    "\n",
    "# применяем функцию\n",
    "df['name'] = df.apply(set_correct_name, keywords=keywords, axis=1)"
   ]
  },
  {
   "cell_type": "markdown",
   "metadata": {},
   "source": [
    "Возможны также неявные дубли в названиях игр, связанные с использованием знаков пунктуации. Напишем функцию, которая будет выявлять неявные дубли, вызванные применением разных знаков пунктуации и возвращать `pd.Series`, в которой в качестве индексов сохраняются уникальные значения строк из переданного столбца, в качестве значений - единообразная форма написания"
   ]
  },
  {
   "cell_type": "code",
   "execution_count": 12,
   "metadata": {},
   "outputs": [
    {
     "data": {
      "text/markdown": [
       "Количество повторяющихся игр с разным написанием названия: **32**"
      ],
      "text/plain": [
       "<IPython.core.display.Markdown object>"
      ]
     },
     "metadata": {},
     "output_type": "display_data"
    },
    {
     "data": {
      "text/html": [
       "<div>\n",
       "<style scoped>\n",
       "    .dataframe tbody tr th:only-of-type {\n",
       "        vertical-align: middle;\n",
       "    }\n",
       "\n",
       "    .dataframe tbody tr th {\n",
       "        vertical-align: top;\n",
       "    }\n",
       "\n",
       "    .dataframe thead th {\n",
       "        text-align: right;\n",
       "    }\n",
       "</style>\n",
       "<table border=\"1\" class=\"dataframe\">\n",
       "  <thead>\n",
       "    <tr style=\"text-align: right;\">\n",
       "      <th></th>\n",
       "      <th>name</th>\n",
       "      <th>platform</th>\n",
       "      <th>year_of_release</th>\n",
       "      <th>genre</th>\n",
       "      <th>na_sales</th>\n",
       "      <th>eu_sales</th>\n",
       "      <th>jp_sales</th>\n",
       "      <th>other_sales</th>\n",
       "      <th>critic_score</th>\n",
       "      <th>user_score</th>\n",
       "      <th>rating</th>\n",
       "    </tr>\n",
       "  </thead>\n",
       "  <tbody>\n",
       "    <tr>\n",
       "      <td>8597</td>\n",
       "      <td>.hack//G.U. Vol.2//Reminisce</td>\n",
       "      <td>PS2</td>\n",
       "      <td>2006.0</td>\n",
       "      <td>Role-Playing</td>\n",
       "      <td>0.00</td>\n",
       "      <td>0.00</td>\n",
       "      <td>0.16</td>\n",
       "      <td>0.00</td>\n",
       "      <td>NaN</td>\n",
       "      <td>NaN</td>\n",
       "      <td>NaN</td>\n",
       "    </tr>\n",
       "    <tr>\n",
       "      <td>7087</td>\n",
       "      <td>.hack//G.U. Vol.2//Reminisce</td>\n",
       "      <td>PS2</td>\n",
       "      <td>2006.0</td>\n",
       "      <td>Role-Playing</td>\n",
       "      <td>0.11</td>\n",
       "      <td>0.09</td>\n",
       "      <td>0.00</td>\n",
       "      <td>0.03</td>\n",
       "      <td>NaN</td>\n",
       "      <td>NaN</td>\n",
       "      <td>NaN</td>\n",
       "    </tr>\n",
       "    <tr>\n",
       "      <td>5455</td>\n",
       "      <td>Ape Escape Academy</td>\n",
       "      <td>PSP</td>\n",
       "      <td>2004.0</td>\n",
       "      <td>Misc</td>\n",
       "      <td>0.13</td>\n",
       "      <td>0.15</td>\n",
       "      <td>0.00</td>\n",
       "      <td>0.05</td>\n",
       "      <td>51.0</td>\n",
       "      <td>5.8</td>\n",
       "      <td>E10+</td>\n",
       "    </tr>\n",
       "    <tr>\n",
       "      <td>9249</td>\n",
       "      <td>Ape Escape Academy</td>\n",
       "      <td>PSP</td>\n",
       "      <td>2004.0</td>\n",
       "      <td>Misc</td>\n",
       "      <td>0.00</td>\n",
       "      <td>0.00</td>\n",
       "      <td>0.13</td>\n",
       "      <td>0.00</td>\n",
       "      <td>NaN</td>\n",
       "      <td>NaN</td>\n",
       "      <td>NaN</td>\n",
       "    </tr>\n",
       "    <tr>\n",
       "      <td>5979</td>\n",
       "      <td>Atelier Iris 3: Grand Phantasm</td>\n",
       "      <td>PS2</td>\n",
       "      <td>2006.0</td>\n",
       "      <td>Role-Playing</td>\n",
       "      <td>0.14</td>\n",
       "      <td>0.11</td>\n",
       "      <td>0.00</td>\n",
       "      <td>0.04</td>\n",
       "      <td>NaN</td>\n",
       "      <td>NaN</td>\n",
       "      <td>NaN</td>\n",
       "    </tr>\n",
       "  </tbody>\n",
       "</table>\n",
       "</div>"
      ],
      "text/plain": [
       "                                name platform  year_of_release         genre  \\\n",
       "8597    .hack//G.U. Vol.2//Reminisce      PS2           2006.0  Role-Playing   \n",
       "7087    .hack//G.U. Vol.2//Reminisce      PS2           2006.0  Role-Playing   \n",
       "5455              Ape Escape Academy      PSP           2004.0          Misc   \n",
       "9249              Ape Escape Academy      PSP           2004.0          Misc   \n",
       "5979  Atelier Iris 3: Grand Phantasm      PS2           2006.0  Role-Playing   \n",
       "\n",
       "      na_sales  eu_sales  jp_sales  other_sales  critic_score user_score  \\\n",
       "8597      0.00      0.00      0.16         0.00           NaN        NaN   \n",
       "7087      0.11      0.09      0.00         0.03           NaN        NaN   \n",
       "5455      0.13      0.15      0.00         0.05          51.0        5.8   \n",
       "9249      0.00      0.00      0.13         0.00           NaN        NaN   \n",
       "5979      0.14      0.11      0.00         0.04           NaN        NaN   \n",
       "\n",
       "     rating  \n",
       "8597    NaN  \n",
       "7087    NaN  \n",
       "5455   E10+  \n",
       "9249    NaN  \n",
       "5979    NaN  "
      ]
     },
     "execution_count": 12,
     "metadata": {},
     "output_type": "execute_result"
    }
   ],
   "source": [
    "def unified_series(col, pat, show_dupl=False):\n",
    "    \"\"\" Функция возвращает pd.Series с уникальными написаниями названий из столбца col. \\\\\n",
    "    Все строки переводятся в нижний регистр с удалением лишних символов на основе паттерна pat \\\\ \n",
    "    и лишних пробелов, затем сортируются, на основе них выявляются повторяющиеся значения \n",
    "    \n",
    "    Параметры:\n",
    "        col : pd.Series - столбец для поиска дублей, также служит индексом для возвращаемой серии\n",
    "        pat : str - RegEx паттерн для распознавания исмволов, подлежащих удалению\n",
    "        display_duplicates : boolean - флаг, отображать ли найденные дубликаты\n",
    "\n",
    "    Возвращает:\n",
    "        pd.Series \n",
    "    \"\"\"\n",
    "    \n",
    "    list_to_correct = list(col.unique())\n",
    "    # список в унифицированном формате\n",
    "    list_unified = list(map(lambda elem: \n",
    "        ' '.join(re.sub(pat,' ', elem.lower()).split()), list_to_correct\n",
    "    ))\n",
    "    # сортированные списки\n",
    "    list_sorted = [x for _,x in sorted(zip(list_unified, list_to_correct))]\n",
    "    list_unified = sorted(list_unified)\n",
    "\n",
    "\n",
    "    list_to_save = []       # список, который вернём в серии\n",
    "    list_duplicates = []    # список всех дубликатов\n",
    "    names = []              # список дублей для одной игры\n",
    "    prev = ''               # строка из предыдущей итерации\n",
    "    count = 0               # счётчик дублей\n",
    "    for i in range(len(list_sorted)):\n",
    "        if list_unified[i] == prev:\n",
    "            count += 1\n",
    "            names.append(list_sorted[i-1])\n",
    "            list_to_save.append(list_to_save[-1])\n",
    "        else:\n",
    "            if count > 1:\n",
    "                names.append(list_sorted[i-1])\n",
    "                list_duplicates.append(names)\n",
    "            count = 1\n",
    "            names = []\n",
    "            list_to_save.append(list_sorted[i])       \n",
    "        prev = list_unified[i]\n",
    "    \n",
    "    # выводим дубликаты, если указан флаг\n",
    "    if show_dupl:    \n",
    "        display(list_duplicates)\n",
    "\n",
    "    display(Markdown('Количество повторяющихся игр с разным написанием названия: **{}**'\n",
    "                     .format(len(list_duplicates))))\n",
    "    return pd.Series(list_to_save, index=list_sorted)\n",
    "\n",
    "# заменяем имена\n",
    "df['name'] = df['name'].map(unified_series(df['name'], PUNCT_PATTERN, show_dupl=False))\n",
    "# посмотрим на дубликаты по паре значений название-платформа\n",
    "df[df.duplicated(['name','platform'], keep=False)].sort_values('name').head()"
   ]
  },
  {
   "cell_type": "markdown",
   "metadata": {},
   "source": [
    "Для одного и того же дубля в некоторых столбцах значение может отсутсвовать. Теперь обработаем дубли так, чтобы сохранить информацию. Найдём строки, дублирующиеся по паре значений _название-платформа_, сгруппируем по ним все значения и применим к каждому столбцу функции через `agg` к столбцам:\n",
    "- с _годом выпуска, жанром, оценками и райтингом_: `first` - так останется первое значение, отличное от NaN.\n",
    "- с _продажами_: `sum` - так продажи, учтённые отдельной строкой, добавятся к сгруппированной отдельной\n",
    "\n",
    "полученнымми \"правильными\" строками заменим те, которые содержали дубли."
   ]
  },
  {
   "cell_type": "code",
   "execution_count": 13,
   "metadata": {},
   "outputs": [],
   "source": [
    "# объединение дублей с сохранением информации\n",
    "joined_duplicates = ( df[df.duplicated(['name','platform'], keep=False)]\n",
    "    .sort_values('name').groupby(['name','platform']).agg({\n",
    "        'year_of_release'   : 'first',\n",
    "        'genre'             : 'first',\n",
    "        'na_sales'          : 'sum',\n",
    "        'eu_sales'          : 'sum',\n",
    "        'jp_sales'          : 'sum',\n",
    "        'other_sales'       : 'sum',\n",
    "        'critic_score'      : 'first',\n",
    "        'critic_score'      : 'first',\n",
    "        'rating'            : 'first'\n",
    "    })\n",
    ").reset_index()\n",
    "\n",
    "# удаление старых строк с дублями, добавление новых объединённых строк\n",
    "df = (df.drop_duplicates(subset=['name','platform'], keep=False)\n",
    "        .append(joined_duplicates, ignore_index=True, sort=False)\n",
    ")"
   ]
  },
  {
   "cell_type": "markdown",
   "metadata": {},
   "source": [
    "### Обработка пропусков \n",
    "\n",
    "Проверим, представлена ли одна и та же игра на разных платформах. Сразу подготовим вспомогательную таблицу, которая поможет частично заполнить пропуски в значениях года выпуска. Для этого подсчитаем у игр, которые выпущены более, чем на одной платформе, количество значений в столбцах платформы и года и среднее по году. Отфильтруем те игры, у которых есть пропуск значения года в строке с какой либо платформой. Для разных платформ год может быть разным, но в среднем не должен сильно меняться."
   ]
  },
  {
   "cell_type": "code",
   "execution_count": 14,
   "metadata": {},
   "outputs": [
    {
     "data": {
      "text/html": [
       "<div>\n",
       "<style scoped>\n",
       "    .dataframe tbody tr th:only-of-type {\n",
       "        vertical-align: middle;\n",
       "    }\n",
       "\n",
       "    .dataframe tbody tr th {\n",
       "        vertical-align: top;\n",
       "    }\n",
       "\n",
       "    .dataframe thead th {\n",
       "        text-align: right;\n",
       "    }\n",
       "</style>\n",
       "<table border=\"1\" class=\"dataframe\">\n",
       "  <thead>\n",
       "    <tr style=\"text-align: right;\">\n",
       "      <th></th>\n",
       "      <th>platform_cnt</th>\n",
       "      <th>year_cnt</th>\n",
       "      <th>year_mean</th>\n",
       "    </tr>\n",
       "    <tr>\n",
       "      <th>name</th>\n",
       "      <th></th>\n",
       "      <th></th>\n",
       "      <th></th>\n",
       "    </tr>\n",
       "  </thead>\n",
       "  <tbody>\n",
       "    <tr>\n",
       "      <td>Madden NFL 07</td>\n",
       "      <td>9</td>\n",
       "      <td>8</td>\n",
       "      <td>2006.0</td>\n",
       "    </tr>\n",
       "    <tr>\n",
       "      <td>LEGO Harry Potter: Years 5-7</td>\n",
       "      <td>8</td>\n",
       "      <td>1</td>\n",
       "      <td>2012.0</td>\n",
       "    </tr>\n",
       "    <tr>\n",
       "      <td>Madden NFL 06</td>\n",
       "      <td>7</td>\n",
       "      <td>6</td>\n",
       "      <td>2005.0</td>\n",
       "    </tr>\n",
       "    <tr>\n",
       "      <td>LEGO Indiana Jones: The Original Adventures</td>\n",
       "      <td>7</td>\n",
       "      <td>6</td>\n",
       "      <td>2008.0</td>\n",
       "    </tr>\n",
       "    <tr>\n",
       "      <td>LEGO Batman: The Videogame</td>\n",
       "      <td>7</td>\n",
       "      <td>5</td>\n",
       "      <td>2008.0</td>\n",
       "    </tr>\n",
       "  </tbody>\n",
       "</table>\n",
       "</div>"
      ],
      "text/plain": [
       "                                             platform_cnt  year_cnt  year_mean\n",
       "name                                                                          \n",
       "Madden NFL 07                                           9         8     2006.0\n",
       "LEGO Harry Potter: Years 5-7                            8         1     2012.0\n",
       "Madden NFL 06                                           7         6     2005.0\n",
       "LEGO Indiana Jones: The Original Adventures             7         6     2008.0\n",
       "LEGO Batman: The Videogame                              7         5     2008.0"
      ]
     },
     "execution_count": 14,
     "metadata": {},
     "output_type": "execute_result"
    }
   ],
   "source": [
    "# создаём сводную таблицу\n",
    "games_platforms_and_years = ( df[['name','platform','year_of_release']]\n",
    "    .pivot_table(index='name', \n",
    "                 aggfunc={'platform':'count','year_of_release':['count','mean']})\n",
    ")\n",
    "# меняем названия столбцов\n",
    "games_platforms_and_years.columns = ['platform_cnt', 'year_cnt', 'year_mean']\n",
    "# применяем фильтры\n",
    "games_platforms_and_years = games_platforms_and_years.query(\n",
    "    'platform_cnt > 1 and platform_cnt > year_cnt and year_mean == year_mean')\n",
    "# выводим таблицу\n",
    "games_platforms_and_years.sort_values(by='platform_cnt', ascending=False).head()"
   ]
  },
  {
   "cell_type": "markdown",
   "metadata": {},
   "source": [
    "В таблице видим, что одна игра может быть представлена на нескольких платформах, Действительно, есть игры, у которых год выпуска предствален не для всех платформ. Также можно было заметить, что у некоторых игр в названии есть год.\n",
    "\n",
    "1. Присвоим играм с пропусками в годе выпуска среднее значение года выпуска на других платформах с помощью метода `map` на основе значений `year_mean` из полученной таблицы\n",
    "\n",
    "2. Часть пропусков можно заполнить значением года в названии. Хотя год в названии может не совпадать с годом выпуска, ошибка будет не большой.\n",
    "\n",
    "3. Оставшиеся значения заполним медианными значением года выпуска по платформе, полагая, что период выпуска на одну и ту же платформу меньше, чем весь исследуемы период."
   ]
  },
  {
   "cell_type": "code",
   "execution_count": 15,
   "metadata": {},
   "outputs": [
    {
     "name": "stdout",
     "output_type": "stream",
     "text": [
      "Игр с пропущенным значением года выпуска:  262\n",
      "        после заполнения средним по игре:  140\n",
      "      после заполнения годом из названия:  134\n",
      " после заполнения медианным по платформе:  0\n"
     ]
    }
   ],
   "source": [
    "def fill_year_from_name(row, pat):\n",
    "    ''' функция присваивает год выпуска игры на основе её названия в строке row\n",
    "\n",
    "    Параметры:\n",
    "        row : строка pd.DataFrame\n",
    "        pattern : str - RegEx паттерн на основе которого распознаётся год\n",
    "\n",
    "    Возвращает:\n",
    "        int : значение года, если он найден\n",
    "        None : если год не найден\n",
    "    '''\n",
    "    # поиск года в строке\n",
    "    year = re.findall(pat, row['name'])\n",
    "    # если найден - возвращаем\n",
    "    if year: \n",
    "        return int(year[-1])\n",
    "\n",
    "print(\"Игр с пропущенным значением года выпуска: \", \n",
    "      df['year_of_release'].isna().sum())\n",
    "\n",
    "# ШАГ 1. Заменяем пропуски в годе выпуска средним по \n",
    "#        известным значениям года для той же игры\n",
    "df['year_of_release'] = df['year_of_release'].fillna(\n",
    "    df.groupby('name')['year_of_release'].transform('mean'))\n",
    "print(\"        после заполнения средним по игре: \", \n",
    "      df['year_of_release'].isna().sum())\n",
    "\n",
    "# ШАГ 2. Заменяем пропуске в годе выпуска годом из названия на основе паттерна\n",
    "#        с помощью функции, применим только для 4-х значного формата года       \n",
    "df.loc[df['year_of_release'].isna(), 'year_of_release'] = (\n",
    "    df.loc[df['year_of_release'].isna()]\n",
    "      .apply(fill_year_from_name, pat=YYYY_PATTERN, axis=1) \n",
    ")\n",
    "print(\"      после заполнения годом из названия: \", \n",
    "      df['year_of_release'].isna().sum())\n",
    "\n",
    "# ШАГ 3. Заменяем пропуски в годе выпуска медианным по \n",
    "#        значениям года выпоска в рамках той же платформы\n",
    "df['year_of_release'] = df['year_of_release'].fillna(\n",
    "    df.groupby('platform')['year_of_release'].transform('median'))\n",
    "\n",
    "print(\" после заполнения медианным по платформе: \", \n",
    "      df['year_of_release'].isna().sum())"
   ]
  },
  {
   "cell_type": "markdown",
   "metadata": {},
   "source": [
    "Пропуски, в значениях года выпуска заполнили\n",
    "\n",
    "Посмотрим, какие строковые значения встречаются в колонке `user_score` "
   ]
  },
  {
   "cell_type": "code",
   "execution_count": 16,
   "metadata": {},
   "outputs": [
    {
     "name": "stdout",
     "output_type": "stream",
     "text": [
      "Строковые значения в колонке оценок пользователей: \n",
      "tbd\n"
     ]
    }
   ],
   "source": [
    "print('Строковые значения в колонке оценок пользователей: ')\n",
    "# пробежимся по уникальным значениям строк в поле user_score\n",
    "# проверим являютсе ли значение в строке числом\n",
    "# прежде уберём точки\n",
    "for val in list(df['user_score'].dropna().unique()):\n",
    "    if not val.replace('.','',1).isdigit():\n",
    "        print(val)"
   ]
  },
  {
   "cell_type": "markdown",
   "metadata": {},
   "source": [
    "**tbd** - аббревиатура для \"To Be Determined\" (_Подлежит уточнению_), значит для таких значений рейтинг не определён, заменим на `nan`"
   ]
  },
  {
   "cell_type": "code",
   "execution_count": 17,
   "metadata": {},
   "outputs": [],
   "source": [
    "df.loc[df['user_score'] == 'tbd', 'user_score'] = np.nan"
   ]
  },
  {
   "cell_type": "markdown",
   "metadata": {},
   "source": [
    "Посмотрим на уникальные значения рейтинга и на количество пропусков"
   ]
  },
  {
   "cell_type": "code",
   "execution_count": 18,
   "metadata": {},
   "outputs": [
    {
     "name": "stdout",
     "output_type": "stream",
     "text": [
      "Встречающиеся значения рейтинга: ['E', 'M', 'T', 'E10+', 'K-A', 'AO', 'EC', 'RP']\n",
      "Пропусков в значениях рейтинга: 6640\n"
     ]
    }
   ],
   "source": [
    "print('Встречающиеся значения рейтинга:', list(df[df['rating'].notna()]['rating'].unique()))\n",
    "print('Пропусков в значениях рейтинга:', df['rating'].isna().sum())"
   ]
  },
  {
   "cell_type": "markdown",
   "metadata": {},
   "source": [
    "**K-A** - \"Kids to Adults\" - устаревшее обозначение рейтинга **E**. Заменим его. \n",
    "\n",
    "Для одной и той же игры, выпущенной на разных платформах, рейтинг должен быть одинков. Поэтому пропущенные значения в этом столбце заменим первым отличным от NaN для той же игры."
   ]
  },
  {
   "cell_type": "code",
   "execution_count": 19,
   "metadata": {},
   "outputs": [
    {
     "name": "stdout",
     "output_type": "stream",
     "text": [
      "Пропусков в значениях рейтинга: 6175\n"
     ]
    }
   ],
   "source": [
    "# заменяем устаревшую аббревиатуру на новую\n",
    "df.loc[df['rating']=='K-A', 'rating'] = 'E'\n",
    "# заполняем пропуски\n",
    "df['rating'] = df['rating'].fillna(df.groupby('name')['rating'].transform('first'))\n",
    "print('Пропусков в значениях рейтинга:', df['rating'].isna().sum())"
   ]
  },
  {
   "cell_type": "markdown",
   "metadata": {},
   "source": [
    "Пропуски в остальных столбцах заполнять не будем. Можно было бы взять среднюю оценку для одной игры по разным платформам, но достоверно восстановить значение оценок критиков и пользователей не получится, поскольку на разных платформах могут быть абсолютно разные оценки из-за особенностей поведения на конкретной платформе, например, в результате портирования. Кроме того, нам необходимо будет оценить, как влияют на продажи внутри одной популярной платформы отзывы пользователей и критиков, такое заполнение пропусков может исказить выводы."
   ]
  },
  {
   "cell_type": "markdown",
   "metadata": {},
   "source": [
    "### Суммарные продажи. Приведение типов данных.\n",
    "\n",
    "Посчитаем суммарные продажи во всех регионах, запишем в столбец `total_sales`"
   ]
  },
  {
   "cell_type": "code",
   "execution_count": 20,
   "metadata": {},
   "outputs": [],
   "source": [
    "df['total_sales'] = df.loc[:,'na_sales':'other_sales'].sum(axis=1)"
   ]
  },
  {
   "cell_type": "markdown",
   "metadata": {},
   "source": [
    "Приведём типы данных:\n",
    "- Год в целочисленный тип\n",
    "- оценку пользователей в вещественный "
   ]
  },
  {
   "cell_type": "code",
   "execution_count": 21,
   "metadata": {},
   "outputs": [
    {
     "name": "stdout",
     "output_type": "stream",
     "text": [
      "<class 'pandas.core.frame.DataFrame'>\n",
      "RangeIndex: 16584 entries, 0 to 16583\n",
      "Data columns (total 12 columns):\n",
      "name               16584 non-null object\n",
      "platform           16584 non-null object\n",
      "year_of_release    16584 non-null int64\n",
      "genre              16584 non-null object\n",
      "na_sales           16584 non-null float64\n",
      "eu_sales           16584 non-null float64\n",
      "jp_sales           16584 non-null float64\n",
      "other_sales        16584 non-null float64\n",
      "critic_score       8132 non-null float64\n",
      "user_score         7516 non-null float64\n",
      "rating             10409 non-null object\n",
      "total_sales        16584 non-null float64\n",
      "dtypes: float64(7), int64(1), object(4)\n",
      "memory usage: 1.5+ MB\n"
     ]
    },
    {
     "data": {
      "text/html": [
       "<div>\n",
       "<style scoped>\n",
       "    .dataframe tbody tr th:only-of-type {\n",
       "        vertical-align: middle;\n",
       "    }\n",
       "\n",
       "    .dataframe tbody tr th {\n",
       "        vertical-align: top;\n",
       "    }\n",
       "\n",
       "    .dataframe thead th {\n",
       "        text-align: right;\n",
       "    }\n",
       "</style>\n",
       "<table border=\"1\" class=\"dataframe\">\n",
       "  <thead>\n",
       "    <tr style=\"text-align: right;\">\n",
       "      <th></th>\n",
       "      <th>name</th>\n",
       "      <th>platform</th>\n",
       "      <th>year_of_release</th>\n",
       "      <th>genre</th>\n",
       "      <th>na_sales</th>\n",
       "      <th>eu_sales</th>\n",
       "      <th>jp_sales</th>\n",
       "      <th>other_sales</th>\n",
       "      <th>critic_score</th>\n",
       "      <th>user_score</th>\n",
       "      <th>rating</th>\n",
       "      <th>total_sales</th>\n",
       "    </tr>\n",
       "  </thead>\n",
       "  <tbody>\n",
       "    <tr>\n",
       "      <td>8456</td>\n",
       "      <td>Macross Ace Frontier</td>\n",
       "      <td>PSP</td>\n",
       "      <td>2008</td>\n",
       "      <td>Simulation</td>\n",
       "      <td>0.00</td>\n",
       "      <td>0.00</td>\n",
       "      <td>0.16</td>\n",
       "      <td>0.00</td>\n",
       "      <td>NaN</td>\n",
       "      <td>NaN</td>\n",
       "      <td>NaN</td>\n",
       "      <td>0.16</td>\n",
       "    </tr>\n",
       "    <tr>\n",
       "      <td>14733</td>\n",
       "      <td>Mahou Sensei Negima! Private Lesson 2: Ojama S...</td>\n",
       "      <td>GBA</td>\n",
       "      <td>2006</td>\n",
       "      <td>Role-Playing</td>\n",
       "      <td>0.00</td>\n",
       "      <td>0.00</td>\n",
       "      <td>0.02</td>\n",
       "      <td>0.00</td>\n",
       "      <td>NaN</td>\n",
       "      <td>NaN</td>\n",
       "      <td>NaN</td>\n",
       "      <td>0.02</td>\n",
       "    </tr>\n",
       "    <tr>\n",
       "      <td>1810</td>\n",
       "      <td>Arc the Lad</td>\n",
       "      <td>PS</td>\n",
       "      <td>1995</td>\n",
       "      <td>Role-Playing</td>\n",
       "      <td>0.00</td>\n",
       "      <td>0.00</td>\n",
       "      <td>1.10</td>\n",
       "      <td>0.01</td>\n",
       "      <td>NaN</td>\n",
       "      <td>NaN</td>\n",
       "      <td>NaN</td>\n",
       "      <td>1.11</td>\n",
       "    </tr>\n",
       "    <tr>\n",
       "      <td>5202</td>\n",
       "      <td>Guitar Hero: Smash Hits</td>\n",
       "      <td>PS3</td>\n",
       "      <td>2009</td>\n",
       "      <td>Misc</td>\n",
       "      <td>0.20</td>\n",
       "      <td>0.11</td>\n",
       "      <td>0.00</td>\n",
       "      <td>0.05</td>\n",
       "      <td>73.0</td>\n",
       "      <td>7.2</td>\n",
       "      <td>T</td>\n",
       "      <td>0.36</td>\n",
       "    </tr>\n",
       "    <tr>\n",
       "      <td>13581</td>\n",
       "      <td>North American Hunting Extravaganza 2</td>\n",
       "      <td>Wii</td>\n",
       "      <td>2010</td>\n",
       "      <td>Sports</td>\n",
       "      <td>0.03</td>\n",
       "      <td>0.00</td>\n",
       "      <td>0.00</td>\n",
       "      <td>0.00</td>\n",
       "      <td>NaN</td>\n",
       "      <td>NaN</td>\n",
       "      <td>NaN</td>\n",
       "      <td>0.03</td>\n",
       "    </tr>\n",
       "  </tbody>\n",
       "</table>\n",
       "</div>"
      ],
      "text/plain": [
       "                                                    name platform  \\\n",
       "8456                                Macross Ace Frontier      PSP   \n",
       "14733  Mahou Sensei Negima! Private Lesson 2: Ojama S...      GBA   \n",
       "1810                                         Arc the Lad       PS   \n",
       "5202                             Guitar Hero: Smash Hits      PS3   \n",
       "13581              North American Hunting Extravaganza 2      Wii   \n",
       "\n",
       "       year_of_release         genre  na_sales  eu_sales  jp_sales  \\\n",
       "8456              2008    Simulation      0.00      0.00      0.16   \n",
       "14733             2006  Role-Playing      0.00      0.00      0.02   \n",
       "1810              1995  Role-Playing      0.00      0.00      1.10   \n",
       "5202              2009          Misc      0.20      0.11      0.00   \n",
       "13581             2010        Sports      0.03      0.00      0.00   \n",
       "\n",
       "       other_sales  critic_score  user_score rating  total_sales  \n",
       "8456          0.00           NaN         NaN    NaN         0.16  \n",
       "14733         0.00           NaN         NaN    NaN         0.02  \n",
       "1810          0.01           NaN         NaN    NaN         1.11  \n",
       "5202          0.05          73.0         7.2      T         0.36  \n",
       "13581         0.00           NaN         NaN    NaN         0.03  "
      ]
     },
     "execution_count": 21,
     "metadata": {},
     "output_type": "execute_result"
    }
   ],
   "source": [
    "df['year_of_release'] = df['year_of_release'].round().astype('int')\n",
    "df['user_score'] = df['user_score'].astype('float')\n",
    "df.info()\n",
    "df.sample(5)"
   ]
  },
  {
   "cell_type": "markdown",
   "metadata": {},
   "source": [
    "## Исследовательский анализ\n",
    "\n",
    "### Распределения по годам\n",
    "\n",
    "Посмотрим, сколько игр выпускалось в разные годы"
   ]
  },
  {
   "cell_type": "code",
   "execution_count": 22,
   "metadata": {},
   "outputs": [
    {
     "data": {
      "image/png": "[encoded data removed]",
      "text/plain": [
       "<Figure size 864x576 with 1 Axes>"
      ]
     },
     "metadata": {
      "needs_background": "light"
     },
     "output_type": "display_data"
    }
   ],
   "source": [
    "# группируем все записи о играх по году, считаем количество, строим диаграмму\n",
    "ax = df[['name','year_of_release']].groupby('year_of_release').count().plot(kind='bar')\n",
    "# делаем то же самое но для датасета предварительно сгруппированного по названиям игр\n",
    "( df.groupby('name').first().reset_index()[['name','year_of_release']]\n",
    "    .groupby('year_of_release').count()\n",
    "    .plot(kind='bar', ax = ax, color='green')\n",
    ")\n",
    "# оформляем график\n",
    "ax.legend([ 'С учётом количества версий игр под все платформы', \n",
    "            'Без привязки к платформе, только уникальные игры'])\n",
    "ax.set(title = 'Распределение количества выпущенных игр по годам',\n",
    "    xlabel = 'Год выпуска',\n",
    "    ylabel = 'Количество игр, шт'\n",
    ");"
   ]
  },
  {
   "cell_type": "markdown",
   "metadata": {},
   "source": [
    "Из графика видно, что данные за все периоды не важны. Суммарное количество выпущенных игр до 1995 года меньше 100 в год. \n",
    "\n",
    "Бросается в глаза спад количества выпускаемых игр с 2010 года. Это может быть связано с несколькими причинами:\n",
    "- Возросшим интересом к онлайн играм, которые имеют иную схему монетизации, но сами по себе могут быть бесплатны.\n",
    "- Переход на систему подписок для платформы, когда сами по себе игры не покупаются\n",
    "- Нельзя исключать возможность того, что в датасете не представлены некоторые платформы, на которые могли переориентироваться разработчики, в том числе мобильные игры.\n",
    "\n",
    "Переопределим ранее созданную справочную таблицу `platforms` на обновлённом датафрейме. Для каждой платформы поссчитаем суммарное количество проданных копий всех игр, минимальное и максимальное значение года выпуска и их разницу, что позволит оценить время существования платформы. В дальнейшем по необходимости применим к таблице фильтры.\n",
    "\n",
    "По полученной таблице оценим среднее время жизни платформ. Оценка будет весьма приблизительной, поскольку, на некоторые платформы игры ещё не прекратили выходить после 2016 года, а в наших вычислениях это максимальное значение. Но даже такая грубая оценка позволит нам примерно оценить актуальный период."
   ]
  },
  {
   "cell_type": "code",
   "execution_count": 23,
   "metadata": {},
   "outputs": [
    {
     "data": {
      "text/html": [
       "<div>\n",
       "<style scoped>\n",
       "    .dataframe tbody tr th:only-of-type {\n",
       "        vertical-align: middle;\n",
       "    }\n",
       "\n",
       "    .dataframe tbody tr th {\n",
       "        vertical-align: top;\n",
       "    }\n",
       "\n",
       "    .dataframe thead th {\n",
       "        text-align: right;\n",
       "    }\n",
       "</style>\n",
       "<table border=\"1\" class=\"dataframe\">\n",
       "  <thead>\n",
       "    <tr style=\"text-align: right;\">\n",
       "      <th></th>\n",
       "      <th>total_sales</th>\n",
       "      <th>lifetime</th>\n",
       "      <th>year_last</th>\n",
       "      <th>year_first</th>\n",
       "    </tr>\n",
       "    <tr>\n",
       "      <th>platform</th>\n",
       "      <th></th>\n",
       "      <th></th>\n",
       "      <th></th>\n",
       "      <th></th>\n",
       "    </tr>\n",
       "  </thead>\n",
       "  <tbody>\n",
       "    <tr>\n",
       "      <td>PS2</td>\n",
       "      <td>1255.77</td>\n",
       "      <td>12</td>\n",
       "      <td>2011</td>\n",
       "      <td>2000</td>\n",
       "    </tr>\n",
       "    <tr>\n",
       "      <td>X360</td>\n",
       "      <td>971.42</td>\n",
       "      <td>12</td>\n",
       "      <td>2016</td>\n",
       "      <td>2005</td>\n",
       "    </tr>\n",
       "    <tr>\n",
       "      <td>PS3</td>\n",
       "      <td>939.65</td>\n",
       "      <td>12</td>\n",
       "      <td>2016</td>\n",
       "      <td>2005</td>\n",
       "    </tr>\n",
       "    <tr>\n",
       "      <td>Wii</td>\n",
       "      <td>907.51</td>\n",
       "      <td>11</td>\n",
       "      <td>2016</td>\n",
       "      <td>2006</td>\n",
       "    </tr>\n",
       "    <tr>\n",
       "      <td>DS</td>\n",
       "      <td>806.12</td>\n",
       "      <td>29</td>\n",
       "      <td>2013</td>\n",
       "      <td>1985</td>\n",
       "    </tr>\n",
       "    <tr>\n",
       "      <td>PS</td>\n",
       "      <td>730.86</td>\n",
       "      <td>10</td>\n",
       "      <td>2003</td>\n",
       "      <td>1994</td>\n",
       "    </tr>\n",
       "    <tr>\n",
       "      <td>GBA</td>\n",
       "      <td>317.85</td>\n",
       "      <td>8</td>\n",
       "      <td>2007</td>\n",
       "      <td>2000</td>\n",
       "    </tr>\n",
       "    <tr>\n",
       "      <td>PS4</td>\n",
       "      <td>314.14</td>\n",
       "      <td>4</td>\n",
       "      <td>2016</td>\n",
       "      <td>2013</td>\n",
       "    </tr>\n",
       "    <tr>\n",
       "      <td>PSP</td>\n",
       "      <td>294.05</td>\n",
       "      <td>12</td>\n",
       "      <td>2015</td>\n",
       "      <td>2004</td>\n",
       "    </tr>\n",
       "    <tr>\n",
       "      <td>PC</td>\n",
       "      <td>259.52</td>\n",
       "      <td>32</td>\n",
       "      <td>2016</td>\n",
       "      <td>1985</td>\n",
       "    </tr>\n",
       "    <tr>\n",
       "      <td>3DS</td>\n",
       "      <td>259.00</td>\n",
       "      <td>14</td>\n",
       "      <td>2016</td>\n",
       "      <td>2003</td>\n",
       "    </tr>\n",
       "    <tr>\n",
       "      <td>XB</td>\n",
       "      <td>257.74</td>\n",
       "      <td>9</td>\n",
       "      <td>2008</td>\n",
       "      <td>2000</td>\n",
       "    </tr>\n",
       "    <tr>\n",
       "      <td>GB</td>\n",
       "      <td>255.46</td>\n",
       "      <td>14</td>\n",
       "      <td>2001</td>\n",
       "      <td>1988</td>\n",
       "    </tr>\n",
       "    <tr>\n",
       "      <td>NES</td>\n",
       "      <td>251.05</td>\n",
       "      <td>12</td>\n",
       "      <td>1994</td>\n",
       "      <td>1983</td>\n",
       "    </tr>\n",
       "    <tr>\n",
       "      <td>N64</td>\n",
       "      <td>218.68</td>\n",
       "      <td>9</td>\n",
       "      <td>2004</td>\n",
       "      <td>1996</td>\n",
       "    </tr>\n",
       "    <tr>\n",
       "      <td>SNES</td>\n",
       "      <td>200.04</td>\n",
       "      <td>10</td>\n",
       "      <td>1999</td>\n",
       "      <td>1990</td>\n",
       "    </tr>\n",
       "    <tr>\n",
       "      <td>GC</td>\n",
       "      <td>198.93</td>\n",
       "      <td>7</td>\n",
       "      <td>2007</td>\n",
       "      <td>2001</td>\n",
       "    </tr>\n",
       "    <tr>\n",
       "      <td>XOne</td>\n",
       "      <td>159.32</td>\n",
       "      <td>4</td>\n",
       "      <td>2016</td>\n",
       "      <td>2013</td>\n",
       "    </tr>\n",
       "    <tr>\n",
       "      <td>2600</td>\n",
       "      <td>96.98</td>\n",
       "      <td>19</td>\n",
       "      <td>1998</td>\n",
       "      <td>1980</td>\n",
       "    </tr>\n",
       "    <tr>\n",
       "      <td>WiiU</td>\n",
       "      <td>82.19</td>\n",
       "      <td>5</td>\n",
       "      <td>2016</td>\n",
       "      <td>2012</td>\n",
       "    </tr>\n",
       "  </tbody>\n",
       "</table>\n",
       "</div>"
      ],
      "text/plain": [
       "          total_sales  lifetime  year_last  year_first\n",
       "platform                                              \n",
       "PS2           1255.77        12       2011        2000\n",
       "X360           971.42        12       2016        2005\n",
       "PS3            939.65        12       2016        2005\n",
       "Wii            907.51        11       2016        2006\n",
       "DS             806.12        29       2013        1985\n",
       "PS             730.86        10       2003        1994\n",
       "GBA            317.85         8       2007        2000\n",
       "PS4            314.14         4       2016        2013\n",
       "PSP            294.05        12       2015        2004\n",
       "PC             259.52        32       2016        1985\n",
       "3DS            259.00        14       2016        2003\n",
       "XB             257.74         9       2008        2000\n",
       "GB             255.46        14       2001        1988\n",
       "NES            251.05        12       1994        1983\n",
       "N64            218.68         9       2004        1996\n",
       "SNES           200.04        10       1999        1990\n",
       "GC             198.93         7       2007        2001\n",
       "XOne           159.32         4       2016        2013\n",
       "2600            96.98        19       1998        1980\n",
       "WiiU            82.19         5       2016        2012"
      ]
     },
     "metadata": {},
     "output_type": "display_data"
    },
    {
     "data": {
      "text/markdown": [
       "Среднее время жизни платформ (в годах): **9.26**"
      ],
      "text/plain": [
       "<IPython.core.display.Markdown object>"
      ]
     },
     "metadata": {},
     "output_type": "display_data"
    },
    {
     "data": {
      "image/png": "[encoded data removed]",
      "text/plain": [
       "<Figure size 864x72 with 1 Axes>"
      ]
     },
     "metadata": {
      "needs_background": "light"
     },
     "output_type": "display_data"
    }
   ],
   "source": [
    "# генерируем сводную таблицу\n",
    "platforms = ( \n",
    "    df[['platform','year_of_release','total_sales']].pivot_table(index='platform', \n",
    "        aggfunc={'total_sales':'sum', \n",
    "                 'year_of_release':[np.min,np.max,lambda x: np.max(x)-np.min(x)+1]})\n",
    "    .droplevel(0,axis=1).rename(columns = {\n",
    "        'amin':'year_first','amax':'year_last',\n",
    "        '<lambda_0>':'lifetime', 'sum':'total_sales'})\n",
    "    .sort_values(by='total_sales', ascending=False)\n",
    ")\n",
    "# отображаем информацию\n",
    "display(platforms.head(20))\n",
    "display(Markdown('Среднее время жизни платформ (в годах): **{:.2f}**'\n",
    "                 .format(platforms['lifetime'].mean())))\n",
    "# выводим диаграмму размаха\n",
    "_, ax = plt.subplots(figsize = (12,1))\n",
    "sns.boxplot(x = platforms['lifetime'])\n",
    "ax.set( title = 'Диаграмма размаха времени существования платформ',\n",
    "        xlabel = 'Период существования, годы'\n",
    ");"
   ]
  },
  {
   "cell_type": "markdown",
   "metadata": {},
   "source": [
    "### Актуальный период и потенцильно прибыльные платформы\n",
    "\n",
    "По грубой оценке в среднем платформы появляются и исчезают в течение 10 лет. Большиство существует до 18 лет. Посмотрим распределение количества проданных копий по платформам и годам. Изобразим это распределение в виде тепловой шкалы, где каждой платформк будет соответсвовать строка, году - столбец. Также упорядочим выводимые платформы на основе сводной таблицы `platforms`, отсортировав по годам выпуска последней и первой игр на платформе. Таким образом, построим временную шкалу существования платформ. Ограничимся 2000 годом"
   ]
  },
  {
   "cell_type": "code",
   "execution_count": 24,
   "metadata": {},
   "outputs": [
    {
     "data": {
      "image/png": "[encoded data removed]",
      "text/plain": [
       "<Figure size 936x576 with 2 Axes>"
      ]
     },
     "metadata": {
      "needs_background": "light"
     },
     "output_type": "display_data"
    }
   ],
   "source": [
    "# составим список платформ, на которые выпускались игры в последние 10 лет\n",
    "p_10_years = platforms[platforms.year_last>2006].sort_values(by=['year_last','year_first']).index\n",
    "\n",
    "# получим срез данных - таблицу с суммарным количеством проданных копий\n",
    "# для каждой платформы по годам\n",
    "sales_by_year_and_platform = ( \n",
    "    df.query('2000 < year_of_release and platform in @platforms.index')\n",
    "        .pivot_table(index='platform', columns='year_of_release', \n",
    "                     aggfunc={'total_sales':'sum'})\n",
    "        .droplevel(0,axis=1)\n",
    ")\n",
    "# отсортируем по годам выпуска последней и первой игр\n",
    "sales_by_year_and_platform = sales_by_year_and_platform.reindex(p_10_years)\n",
    "# построим heatmap\n",
    "_, ax = plt.subplots(figsize=(13,8))\n",
    "sns.heatmap(sales_by_year_and_platform, annot=True, \n",
    "            linewidths=0.05, linecolor='grey', fmt='.1f', cmap='Purples',\n",
    "            cbar_kws={'label': 'Количество проданных копий, млн. шт.'})\n",
    "ax.set( title='Распределение продаж по платформам и годам',\n",
    "        xlabel='Год', ylabel='Платформа')\n",
    "plt.yticks(rotation=0);"
   ]
  },
  {
   "cell_type": "markdown",
   "metadata": {},
   "source": [
    "Необходимо учитывать, что данные за 2016 год неполные. Этим обусловлен спад продаж у некоторых платформ в последнем году на диаграмме. \n",
    "\n",
    "Наглядно видно, какие платформы ещё сохраняют активность, какие - нет.\n",
    "Логично рассматривать платформы, на которые в 2016 году ещё выпускаются игры.\n",
    "- Уже можно выделить 2 платформы, набирающие активность - __PS4__ и __XOne__.\n",
    "- Пик популярности платформы __Wii__ приходился на 2009 год, на 2015 самый низкий из ещё активных \n",
    "- Пик для __X360__, __PS3__ приходился на 2010 - 2011 годы, однако для них количество проданных копий весьма велико даже в 2015 году\n",
    "\n",
    "Выведем графики изменения количества проданных копий игр по годам для платформ, на которые в 2016 году ещё выпускаются игры. Ограничимся диапазоном с 2010 по 2015 год."
   ]
  },
  {
   "cell_type": "code",
   "execution_count": 25,
   "metadata": {},
   "outputs": [
    {
     "data": {
      "image/png": "[encoded data removed]",
      "text/plain": [
       "<Figure size 864x576 with 1 Axes>"
      ]
     },
     "metadata": {
      "needs_background": "light"
     },
     "output_type": "display_data"
    }
   ],
   "source": [
    "# список платформ, на которые ещё выпускаются игры\n",
    "p_candidates = platforms[platforms.year_last>2015].index\n",
    "# построение графика\n",
    "ax = sales_by_year_and_platform.loc[p_candidates].T.plot(grid=True, linewidth=3)\n",
    "ax.legend(title='Платформа')\n",
    "ax.set( title='Распределение продаж на платформах по годам',\n",
    "        xlabel='Год', ylabel='Количество проданных копий, млн. шт.',\n",
    "        xlim=(2010,2015), ylim=(0,175)\n",
    ");"
   ]
  },
  {
   "cell_type": "markdown",
   "metadata": {},
   "source": [
    "Для построения прогноза на 2017 год _установим актуальный период с 2013 по 2015 год_. Здесь появились 2, набирающие популярность платформы, 2016 год исключаем по причине неполных данных\n",
    "\n",
    "- В перспективе на ближайшие несколько лет не стоит рассматривать __PS3__ и __X360__ - они испытывают резкий спад, и платформу __Wii__ - она находится на минимуме продаж. Причина в выходе платформ нового поколения. \n",
    "- Приемники вышеобозначенных более перспективны. __PS4__ и __XOne__ вообще в этот период растут по продажам. У __WiiU__ спад незначительный\n",
    "- Не так сильно падают по продажам __3DS__, __PC__, __PSV__. При этом не стоит забывать, что спад этот наблюдается на фоне общего снижения количества выпускаемых игр на всех платформах\n",
    "\n",
    "Таким образом, в качестве потенциально прибыльных платформ есть смысл рассмотреть\n",
    "- Однозначно __PS4__ и __XOne__\n",
    "- Для расширения ассртимента магазина не стоит отбрасывать __3DS__, __WiiU__, __PC__"
   ]
  },
  {
   "cell_type": "markdown",
   "metadata": {},
   "source": [
    "### Распределение продаж по платформам"
   ]
  },
  {
   "cell_type": "code",
   "execution_count": 26,
   "metadata": {},
   "outputs": [
    {
     "data": {
      "text/html": [
       "<div>\n",
       "<style scoped>\n",
       "    .dataframe tbody tr th:only-of-type {\n",
       "        vertical-align: middle;\n",
       "    }\n",
       "\n",
       "    .dataframe tbody tr th {\n",
       "        vertical-align: top;\n",
       "    }\n",
       "\n",
       "    .dataframe thead th {\n",
       "        text-align: right;\n",
       "    }\n",
       "</style>\n",
       "<table border=\"1\" class=\"dataframe\">\n",
       "  <thead>\n",
       "    <tr style=\"text-align: right;\">\n",
       "      <th></th>\n",
       "      <th>sum</th>\n",
       "      <th>median</th>\n",
       "      <th>mean</th>\n",
       "    </tr>\n",
       "    <tr>\n",
       "      <th>platform</th>\n",
       "      <th></th>\n",
       "      <th></th>\n",
       "      <th></th>\n",
       "    </tr>\n",
       "  </thead>\n",
       "  <tbody>\n",
       "    <tr>\n",
       "      <td>PSV</td>\n",
       "      <td>29.00</td>\n",
       "      <td>0.050</td>\n",
       "      <td>0.105839</td>\n",
       "    </tr>\n",
       "    <tr>\n",
       "      <td>3DS</td>\n",
       "      <td>128.58</td>\n",
       "      <td>0.090</td>\n",
       "      <td>0.490763</td>\n",
       "    </tr>\n",
       "    <tr>\n",
       "      <td>PC</td>\n",
       "      <td>34.81</td>\n",
       "      <td>0.100</td>\n",
       "      <td>0.252246</td>\n",
       "    </tr>\n",
       "    <tr>\n",
       "      <td>Wii</td>\n",
       "      <td>13.48</td>\n",
       "      <td>0.165</td>\n",
       "      <td>0.612727</td>\n",
       "    </tr>\n",
       "    <tr>\n",
       "      <td>PS3</td>\n",
       "      <td>177.83</td>\n",
       "      <td>0.190</td>\n",
       "      <td>0.579251</td>\n",
       "    </tr>\n",
       "    <tr>\n",
       "      <td>WiiU</td>\n",
       "      <td>60.03</td>\n",
       "      <td>0.200</td>\n",
       "      <td>0.594356</td>\n",
       "    </tr>\n",
       "    <tr>\n",
       "      <td>X360</td>\n",
       "      <td>135.28</td>\n",
       "      <td>0.290</td>\n",
       "      <td>0.781965</td>\n",
       "    </tr>\n",
       "    <tr>\n",
       "      <td>PS4</td>\n",
       "      <td>244.89</td>\n",
       "      <td>0.310</td>\n",
       "      <td>1.074079</td>\n",
       "    </tr>\n",
       "    <tr>\n",
       "      <td>XOne</td>\n",
       "      <td>133.17</td>\n",
       "      <td>0.350</td>\n",
       "      <td>0.832312</td>\n",
       "    </tr>\n",
       "  </tbody>\n",
       "</table>\n",
       "</div>"
      ],
      "text/plain": [
       "             sum  median      mean\n",
       "platform                          \n",
       "PSV        29.00   0.050  0.105839\n",
       "3DS       128.58   0.090  0.490763\n",
       "PC         34.81   0.100  0.252246\n",
       "Wii        13.48   0.165  0.612727\n",
       "PS3       177.83   0.190  0.579251\n",
       "WiiU       60.03   0.200  0.594356\n",
       "X360      135.28   0.290  0.781965\n",
       "PS4       244.89   0.310  1.074079\n",
       "XOne      133.17   0.350  0.832312"
      ]
     },
     "metadata": {},
     "output_type": "display_data"
    },
    {
     "data": {
      "image/png": "[encoded data removed]",
      "text/plain": [
       "<Figure size 864x504 with 1 Axes>"
      ]
     },
     "metadata": {
      "needs_background": "light"
     },
     "output_type": "display_data"
    }
   ],
   "source": [
    "df_actual = df.query(\"platform in @p_candidates and 2012 < year_of_release < 2016\")\n",
    "\n",
    "# оставим платформы, у которых игры выпускались в 2016 году\n",
    "p_candidates_sales = df_actual.pivot_table(\n",
    "        index='platform', values='total_sales', aggfunc=['sum','median','mean']\n",
    "    ).droplevel(1,axis=1).sort_values(by='median')\n",
    "display(p_candidates_sales)\n",
    "\n",
    "# изобразим для них диаграммы размаха продаж отсортировав по медианному значению\n",
    "_, ax = plt.subplots(figsize=(12,7))\n",
    "sns.boxplot(x=df_actual.total_sales, y=df_actual.platform, \n",
    "            order = p_candidates_sales.index)\n",
    "ax.set(\n",
    "    title = 'Диаграммы размаха глобальных продаж игр по платформам с 2013 по 2016 гг.',\n",
    "    xlabel = 'Количество проданных копий, млн. шт.', ylabel='Платформа'\n",
    ")\n",
    "ax.grid()"
   ]
  },
  {
   "cell_type": "markdown",
   "metadata": {},
   "source": [
    "Очевидна скошенность распределений продаж по всем платформам вправо. Однако не следует интерпретировать очень большие значения, выходящие за пределы диаграммы размаха, как выбросы. Сюда попали наиболее популярные игры. Большая часть пользователей вовсе не приобретает малоизвестные игры.\n",
    "\n",
    "По этой причине платформы, у которых на данной диаграмме наблюдаем выбросы, потенциально наиболее прибыльны -- продажи популярных игр могут принести бОльшую выручку. \n",
    "\n",
    "Построим те же диаграммы размаха, но ограничим диапазон построения по оси продаж до 2,5 миллионов копий. Отобразим также среднее значение"
   ]
  },
  {
   "cell_type": "code",
   "execution_count": 27,
   "metadata": {},
   "outputs": [
    {
     "data": {
      "image/png": "[encoded data removed]",
      "text/plain": [
       "<Figure size 864x504 with 1 Axes>"
      ]
     },
     "metadata": {
      "needs_background": "light"
     },
     "output_type": "display_data"
    }
   ],
   "source": [
    "# изобразим для них диаграммы размаха продаж отсортировав по медианному значению\n",
    "_, ax = plt.subplots(figsize=(12,7))\n",
    "sns.boxplot(x=df_actual.total_sales, y=df_actual.platform, showmeans=True, \n",
    "            order = p_candidates_sales.index)\n",
    "ax.set( xlim=(0,2.5),\n",
    "    title = 'Диаграммы размаха глобальных продаж игр по платформам с 2013 по 2015 гг.',\n",
    "    xlabel = 'Количество проданных копий, млн. шт.', ylabel='Платформа'\n",
    ")\n",
    "ax.grid()"
   ]
  },
  {
   "cell_type": "markdown",
   "metadata": {},
   "source": [
    "- Медианные и средние значения продаж у __PS4__ и __XOne__ - самые высокие.\n",
    "- Характер распределений для всех платформ схож. У платформ __PS3__ и __3DS__ средние значения даже выше диапазона 3 квартиля. Это может быть связано наличием большого количества эксклюзивных игр под платформу\n",
    "- Несмотря на высокие значения медианных продаж для __PS3__, __X360__, __Wii__, магазину не стоит их рассматривать, поскольку есть платформы преемники __PS4__, __XOne__, __WiiU__. В большинстве случаев эти платформы поддерживают наиболее популяные игры с платформ предыдущего поколения. А в последующие годы спрос на игры под прудыдущие поколения сведётся к нулю\n",
    "- Как и полагали ранее, не стоит влючать платформу __PSV__. \n",
    "\n",
    "Исключим неперспективные платформы"
   ]
  },
  {
   "cell_type": "code",
   "execution_count": 28,
   "metadata": {},
   "outputs": [],
   "source": [
    "try:\n",
    "    p_candidates = p_candidates.drop(['PSV','PS3','X360','Wii'])\n",
    "except:\n",
    "    print('Платформы уже удалены')"
   ]
  },
  {
   "cell_type": "markdown",
   "metadata": {},
   "source": [
    "### Влияние оценок на продажи\n",
    "\n",
    "Приведём оценки пользователей и критиков к одной системе - десятибальной.\n",
    "\n",
    "Посмотрим, как влияют на продажи внутри платформы __PS4__ отзывы пользователей и критиков, выведем матрицу рассеяния и матрицу корреляции для столбцов с продажами и оценками"
   ]
  },
  {
   "cell_type": "code",
   "execution_count": 29,
   "metadata": {},
   "outputs": [
    {
     "data": {
      "text/html": [
       "<style  type=\"text/css\" >\n",
       "    #T_b3c5b94e_8cb3_11ec_8573_02420a394db8row0_col0 {\n",
       "            background-color:  #b40426;\n",
       "            color:  #f1f1f1;\n",
       "        }    #T_b3c5b94e_8cb3_11ec_8573_02420a394db8row0_col1 {\n",
       "            background-color:  #3b4cc0;\n",
       "            color:  #f1f1f1;\n",
       "        }    #T_b3c5b94e_8cb3_11ec_8573_02420a394db8row0_col2 {\n",
       "            background-color:  #3b4cc0;\n",
       "            color:  #f1f1f1;\n",
       "        }    #T_b3c5b94e_8cb3_11ec_8573_02420a394db8row1_col0 {\n",
       "            background-color:  #c5d6f2;\n",
       "            color:  #000000;\n",
       "        }    #T_b3c5b94e_8cb3_11ec_8573_02420a394db8row1_col1 {\n",
       "            background-color:  #b40426;\n",
       "            color:  #f1f1f1;\n",
       "        }    #T_b3c5b94e_8cb3_11ec_8573_02420a394db8row1_col2 {\n",
       "            background-color:  #f2cab5;\n",
       "            color:  #000000;\n",
       "        }    #T_b3c5b94e_8cb3_11ec_8573_02420a394db8row2_col0 {\n",
       "            background-color:  #3b4cc0;\n",
       "            color:  #f1f1f1;\n",
       "        }    #T_b3c5b94e_8cb3_11ec_8573_02420a394db8row2_col1 {\n",
       "            background-color:  #a5c3fe;\n",
       "            color:  #000000;\n",
       "        }    #T_b3c5b94e_8cb3_11ec_8573_02420a394db8row2_col2 {\n",
       "            background-color:  #b40426;\n",
       "            color:  #f1f1f1;\n",
       "        }</style><table id=\"T_b3c5b94e_8cb3_11ec_8573_02420a394db8\" ><thead>    <tr>        <th class=\"blank level0\" ></th>        <th class=\"col_heading level0 col0\" >total_sales</th>        <th class=\"col_heading level0 col1\" >critic_score</th>        <th class=\"col_heading level0 col2\" >user_score</th>    </tr></thead><tbody>\n",
       "                <tr>\n",
       "                        <th id=\"T_b3c5b94e_8cb3_11ec_8573_02420a394db8level0_row0\" class=\"row_heading level0 row0\" >total_sales</th>\n",
       "                        <td id=\"T_b3c5b94e_8cb3_11ec_8573_02420a394db8row0_col0\" class=\"data row0 col0\" >1</td>\n",
       "                        <td id=\"T_b3c5b94e_8cb3_11ec_8573_02420a394db8row0_col1\" class=\"data row0 col1\" >0.43</td>\n",
       "                        <td id=\"T_b3c5b94e_8cb3_11ec_8573_02420a394db8row0_col2\" class=\"data row0 col2\" >0.024</td>\n",
       "            </tr>\n",
       "            <tr>\n",
       "                        <th id=\"T_b3c5b94e_8cb3_11ec_8573_02420a394db8level0_row1\" class=\"row_heading level0 row1\" >critic_score</th>\n",
       "                        <td id=\"T_b3c5b94e_8cb3_11ec_8573_02420a394db8row1_col0\" class=\"data row1 col0\" >0.43</td>\n",
       "                        <td id=\"T_b3c5b94e_8cb3_11ec_8573_02420a394db8row1_col1\" class=\"data row1 col1\" >1</td>\n",
       "                        <td id=\"T_b3c5b94e_8cb3_11ec_8573_02420a394db8row1_col2\" class=\"data row1 col2\" >0.61</td>\n",
       "            </tr>\n",
       "            <tr>\n",
       "                        <th id=\"T_b3c5b94e_8cb3_11ec_8573_02420a394db8level0_row2\" class=\"row_heading level0 row2\" >user_score</th>\n",
       "                        <td id=\"T_b3c5b94e_8cb3_11ec_8573_02420a394db8row2_col0\" class=\"data row2 col0\" >0.024</td>\n",
       "                        <td id=\"T_b3c5b94e_8cb3_11ec_8573_02420a394db8row2_col1\" class=\"data row2 col1\" >0.61</td>\n",
       "                        <td id=\"T_b3c5b94e_8cb3_11ec_8573_02420a394db8row2_col2\" class=\"data row2 col2\" >1</td>\n",
       "            </tr>\n",
       "    </tbody></table>"
      ],
      "text/plain": [
       "<pandas.io.formats.style.Styler at 0x7fc38e772f10>"
      ]
     },
     "execution_count": 29,
     "metadata": {},
     "output_type": "execute_result"
    },
    {
     "data": {
      "image/png": "[encoded data removed]",
      "text/plain": [
       "<Figure size 864x720 with 9 Axes>"
      ]
     },
     "metadata": {
      "needs_background": "light"
     },
     "output_type": "display_data"
    }
   ],
   "source": [
    "# приведём оценки в одну систему\n",
    "if df_actual['critic_score'].max() > 10:\n",
    "    df_actual['critic_score'] /= 10\n",
    "else: \n",
    "    print('Шкала оценок уже преобразована')\n",
    "\n",
    "# матрица рассеяния\n",
    "show_scatter_matrix(df_actual.query(\"platform == 'PS4'\"), \n",
    "                    ['total_sales', 'critic_score', 'user_score'],\n",
    "                    title='Матрица рассеяния оценок и продаж для PS4 (2013-2015 гг.)')\n",
    "# матрица корреляции\n",
    "styled_corr(df_actual.query(\"platform == 'PS4'\"), \n",
    "            ['total_sales','critic_score','user_score'])"
   ]
  },
  {
   "cell_type": "markdown",
   "metadata": {},
   "source": [
    "Как видим, для __PS4__ продажи довольно сильно зависят от оценок критиков (коэффициент 0,4), но при этом очень слаюбо от оценок пользователей. Возможно это связано с тем, что пользователи оценивают игру уже после покупки\n",
    "\n",
    "Из диаграмм рассеяния видно:\n",
    "- Игры с оценками ниже 5 как от критиков, так и от пользователей продаются плохо\n",
    "- Выше этой оценки зависимость от оценок пользователей и критиков разная. Оценённые высоко критиками игры чаще становятся популярными, одннако среди хорошо продаваемых игр встречаются игры с невысокими оценками\n",
    "\n",
    "Посмотрим на коэффициенты корреляции продаж с оценками для всех платформ"
   ]
  },
  {
   "cell_type": "code",
   "execution_count": 30,
   "metadata": {},
   "outputs": [
    {
     "data": {
      "text/markdown": [
       "Коэффициенты корреляции Продаж с Оценками"
      ],
      "text/plain": [
       "<IPython.core.display.Markdown object>"
      ]
     },
     "metadata": {},
     "output_type": "display_data"
    },
    {
     "data": {
      "text/html": [
       "<style  type=\"text/css\" >\n",
       "    #T_b4377458_8cb3_11ec_8573_02420a394db8row0_col0 {\n",
       "            background-color:  #3b4cc0;\n",
       "            color:  #f1f1f1;\n",
       "        }    #T_b4377458_8cb3_11ec_8573_02420a394db8row0_col1 {\n",
       "            background-color:  #3b4cc0;\n",
       "            color:  #f1f1f1;\n",
       "        }    #T_b4377458_8cb3_11ec_8573_02420a394db8row0_col2 {\n",
       "            background-color:  #3b4cc0;\n",
       "            color:  #f1f1f1;\n",
       "        }    #T_b4377458_8cb3_11ec_8573_02420a394db8row0_col3 {\n",
       "            background-color:  #3b4cc0;\n",
       "            color:  #f1f1f1;\n",
       "        }    #T_b4377458_8cb3_11ec_8573_02420a394db8row0_col4 {\n",
       "            background-color:  #b40426;\n",
       "            color:  #f1f1f1;\n",
       "        }    #T_b4377458_8cb3_11ec_8573_02420a394db8row1_col0 {\n",
       "            background-color:  #b40426;\n",
       "            color:  #f1f1f1;\n",
       "        }    #T_b4377458_8cb3_11ec_8573_02420a394db8row1_col1 {\n",
       "            background-color:  #b40426;\n",
       "            color:  #f1f1f1;\n",
       "        }    #T_b4377458_8cb3_11ec_8573_02420a394db8row1_col2 {\n",
       "            background-color:  #b40426;\n",
       "            color:  #f1f1f1;\n",
       "        }    #T_b4377458_8cb3_11ec_8573_02420a394db8row1_col3 {\n",
       "            background-color:  #b40426;\n",
       "            color:  #f1f1f1;\n",
       "        }    #T_b4377458_8cb3_11ec_8573_02420a394db8row1_col4 {\n",
       "            background-color:  #3b4cc0;\n",
       "            color:  #f1f1f1;\n",
       "        }</style><table id=\"T_b4377458_8cb3_11ec_8573_02420a394db8\" ><thead>    <tr>        <th class=\"blank level0\" ></th>        <th class=\"col_heading level0 col0\" >PS4</th>        <th class=\"col_heading level0 col1\" >PC</th>        <th class=\"col_heading level0 col2\" >3DS</th>        <th class=\"col_heading level0 col3\" >XOne</th>        <th class=\"col_heading level0 col4\" >WiiU</th>    </tr></thead><tbody>\n",
       "                <tr>\n",
       "                        <th id=\"T_b4377458_8cb3_11ec_8573_02420a394db8level0_row0\" class=\"row_heading level0 row0\" >user_score</th>\n",
       "                        <td id=\"T_b4377458_8cb3_11ec_8573_02420a394db8row0_col0\" class=\"data row0 col0\" >0.0242</td>\n",
       "                        <td id=\"T_b4377458_8cb3_11ec_8573_02420a394db8row0_col1\" class=\"data row0 col1\" >-0.125</td>\n",
       "                        <td id=\"T_b4377458_8cb3_11ec_8573_02420a394db8row0_col2\" class=\"data row0 col2\" >0.274</td>\n",
       "                        <td id=\"T_b4377458_8cb3_11ec_8573_02420a394db8row0_col3\" class=\"data row0 col3\" >-0.0393</td>\n",
       "                        <td id=\"T_b4377458_8cb3_11ec_8573_02420a394db8row0_col4\" class=\"data row0 col4\" >0.433</td>\n",
       "            </tr>\n",
       "            <tr>\n",
       "                        <th id=\"T_b4377458_8cb3_11ec_8573_02420a394db8level0_row1\" class=\"row_heading level0 row1\" >critic_score</th>\n",
       "                        <td id=\"T_b4377458_8cb3_11ec_8573_02420a394db8row1_col0\" class=\"data row1 col0\" >0.432</td>\n",
       "                        <td id=\"T_b4377458_8cb3_11ec_8573_02420a394db8row1_col1\" class=\"data row1 col1\" >0.22</td>\n",
       "                        <td id=\"T_b4377458_8cb3_11ec_8573_02420a394db8row1_col2\" class=\"data row1 col2\" >0.39</td>\n",
       "                        <td id=\"T_b4377458_8cb3_11ec_8573_02420a394db8row1_col3\" class=\"data row1 col3\" >0.459</td>\n",
       "                        <td id=\"T_b4377458_8cb3_11ec_8573_02420a394db8row1_col4\" class=\"data row1 col4\" >0.384</td>\n",
       "            </tr>\n",
       "    </tbody></table>"
      ],
      "text/plain": [
       "<pandas.io.formats.style.Styler at 0x7fc38e38a310>"
      ]
     },
     "execution_count": 30,
     "metadata": {},
     "output_type": "execute_result"
    }
   ],
   "source": [
    "display(Markdown('Коэффициенты корреляции Продаж с Оценками')) \n",
    "# формируем таблицу с коэффициентами корреляции\n",
    "corr_table = {}\n",
    "for p in p_candidates:\n",
    "    df_p = df_actual.query(\"platform==@p\")\n",
    "    corr_table[p] = df_p[['user_score','critic_score']].corrwith(df_p['total_sales'])\n",
    "# вывод таблицы\n",
    "(pd.concat(corr_table.values(), keys=corr_table.keys(), axis=1)\n",
    "    .style.background_gradient(cmap='coolwarm').set_precision(3)\n",
    ")"
   ]
  },
  {
   "cell_type": "markdown",
   "metadata": {},
   "source": [
    "- Для популярных платформ __PS4__ и __XOne__ оценки критиков сильнее воияют на продажи\n",
    "Меньше всего влияние их оценок на продажи игр для __PC__\n",
    "- На менее популярных __PC__, __3DS__\tи __WiiU__ оценки пользователей влияют сильнее.\n",
    "- Для __WiiU__ сильнее влияние оценок пользователей, нежели критиков\n",
    "\n",
    "Посмотрим на диаграммы рассения этих параметров отдельно для популярных платформ и для менее популярных"
   ]
  },
  {
   "cell_type": "code",
   "execution_count": 31,
   "metadata": {},
   "outputs": [
    {
     "data": {
      "image/png": "[encoded data removed]",
      "text/plain": [
       "<Figure size 864x432 with 2 Axes>"
      ]
     },
     "metadata": {
      "needs_background": "light"
     },
     "output_type": "display_data"
    },
    {
     "data": {
      "image/png": "[encoded data removed]",
      "text/plain": [
       "<Figure size 864x432 with 2 Axes>"
      ]
     },
     "metadata": {
      "needs_background": "light"
     },
     "output_type": "display_data"
    }
   ],
   "source": [
    "# функция построения диаграмм рассеяния\n",
    "def show_sales_to_score_scatter(platforms_list, title='Зависимость продаж от оценок для платформ', ylim=None):\n",
    "    ''' Функция строит диаграммы рассеяния для платформ, названия которых переданы в platforms_list\n",
    "    '''\n",
    "\n",
    "    _, (ax_u, ax_c) = plt.subplots(1,2, sharex=True, figsize=(12,6), \n",
    "            gridspec_kw={\"width_ratios\": (.5, .5)})#, \"height_ratios\": (.5, .5)\n",
    "\n",
    "    sns.scatterplot(data=df_actual.query(\"platform in @platforms_list\"), \n",
    "                    ax=ax_c, x='critic_score', y='total_sales', \n",
    "                    hue='platform', alpha=0.75);\n",
    "    sns.scatterplot(data=df_actual.query(\"platform in @platforms_list\"), \n",
    "                    ax=ax_u, x='user_score', y='total_sales', \n",
    "                    hue='platform', alpha=0.75);\n",
    "    \n",
    "    ax_c.set(ylim=ylim, \n",
    "        xlabel = 'Оценка критиков',\n",
    "        ylabel = 'Количество проданных копий, млн. шт.'\n",
    "    )\n",
    "    ax_u.set(ylim=ylim, \n",
    "        xlabel = 'Оценка пользователей',\n",
    "        ylabel = 'Количество проданных копий, млн. шт.'\n",
    "    );\n",
    "\n",
    "    plt.suptitle(title, y = 0.92, fontsize=14)\n",
    "\n",
    "# Выводим диаграммы\n",
    "show_sales_to_score_scatter(['PS4','XOne'], ylim=(0,7),\n",
    "    title='Зависимость продаж от оценок для платформ PS4, XOne (2013-2015 гг.)')\n",
    "show_sales_to_score_scatter(['PC','3DS', 'WiiU'],\n",
    "    title='Зависимость продаж от оценок для платформ PC, 3DS, WiiU (2013-2015 гг.)')"
   ]
  },
  {
   "cell_type": "markdown",
   "metadata": {},
   "source": [
    "Диаграммы для популярных платформ схожи\n",
    "\n",
    "Для менее популярных оценки критиков чаще более высокие, чем оценки пользователей, возможно это связано с тем, что данные неполные, в датасете могут быть не представлены низкие оценки критиков"
   ]
  },
  {
   "cell_type": "markdown",
   "metadata": {},
   "source": [
    "### Распределение продаж игр по жанрам\n",
    "\n",
    "Построим столбчатую диаграмму с рапределением продаж игр по жанрам"
   ]
  },
  {
   "cell_type": "code",
   "execution_count": 32,
   "metadata": {},
   "outputs": [
    {
     "data": {
      "image/png": "[encoded data removed]",
      "text/plain": [
       "<Figure size 864x576 with 1 Axes>"
      ]
     },
     "metadata": {
      "needs_background": "light"
     },
     "output_type": "display_data"
    }
   ],
   "source": [
    "_, ax = plt.subplots()\n",
    "sns.barplot(data = df_actual, x='genre', y='total_sales', estimator=np.median, ci=None,\n",
    "    order=df_actual.groupby('genre')['total_sales'].median().sort_values().index);\n",
    "ax.set(title = 'Распределение продаж игр по жанрам за 2013-2015 гг.',\n",
    "    xlabel = 'Жанр', ylabel = 'Суммарное количество проданных копий, млн. шт.'\n",
    ");"
   ]
  },
  {
   "cell_type": "markdown",
   "metadata": {},
   "source": [
    "- Самые прибыльные жанры - _Shooter_, _Sports_, _Platform_\n",
    "- Особенно выделяется один жанр с высокими продажами - _Shooter_\n",
    "- Очень сильно выделяются по низким продажам: _Adventure_, _Puzzle_, _Strategy_.  "
   ]
  },
  {
   "cell_type": "markdown",
   "metadata": {},
   "source": [
    "## Портрет пользователя каждого региона\n",
    "\n",
    "Для вывода Топ-5 используем вспомогательную функцию, которая будет работать с датасетом df_actual, как с глобальной переменной"
   ]
  },
  {
   "cell_type": "code",
   "execution_count": 33,
   "metadata": {},
   "outputs": [],
   "source": [
    "def plots_for_regions(by, by_name='', top_n=1, top_title='Топ по регионам'):\n",
    "    ''' Функция выводит общее распределение продаж по каждому региону в разбивке по параметру 'by'\n",
    "    упорядоченное по возрастанию суммарных продаж, выводит n самых высоких значений продаж \n",
    "\n",
    "    Параметры:\n",
    "        by : str - название столбца, для которого определяется топ\n",
    "        by_name : str - текстовая метка этого столбца для графика\n",
    "        top_n : int - количество позиций топа\n",
    "        top_title : str - заголовок графика c топом\n",
    "    '''\n",
    "    \n",
    "    # общая сводная таблица с суммарными продажами по регионам \n",
    "    region_sales = (df_actual.groupby(by)[['na_sales','eu_sales','jp_sales','total_sales']]\n",
    "        .sum().sort_values(by='total_sales').drop('total_sales', axis=1)\n",
    "    )\n",
    "    \n",
    "    regions = [\"Северная Америка (NA)\",\"Европа (EU)\",\"Япония (JP)\"]\n",
    "    cols    = ['na_sales','eu_sales','jp_sales']\n",
    "    colors =  ['tab:blue', 'tab:orange','tab:green']\n",
    "\n",
    "    # график общего распределения\n",
    "    ax = region_sales.plot(kind='bar', rot=0, figsize=(12,8), grid=True)\n",
    "    ax.legend(labels=regions, title='регион')\n",
    "    ax.set( title = 'Распределение продаж игр в разных регионах за 2013-2015 гг. ('+by_name+')',\n",
    "            xlabel = by_name, ylabel = 'Суммарное количество проданных копий, млн. шт.'\n",
    "    );\n",
    "    plt.show()\n",
    "    \n",
    "    # вывод топа\n",
    "    xlim = 1.05*region_sales.max().round().max()\n",
    "    \n",
    "    _, ax = plt.subplots(3, figsize=(12,10))\n",
    "    for i in range(len(cols)):\n",
    "        #ax[i] = (region_sales.sort_values(by=cols[i])[cols[i]].tail(n)\n",
    "        #        .plot(kind='barh', grid=True, color=colors[i]))\n",
    "        r = region_sales.sort_values(by=cols[i])[cols[i]].tail(top_n)\n",
    "        ax[i].barh(range(top_n), list(r), color=colors[i], tick_label=r.index)\n",
    "        ax[i].set( xlim=(0, xlim), \n",
    "            title = regions[i],\n",
    "            ylabel = by_name\n",
    "        )\n",
    "        for index, value in enumerate(list(r.round(1))):\n",
    "            ax[i].text(value, index, str(value))\n",
    "    ax[-1].set_xlabel('Суммарное количество проданных копий, млн. шт.')\n",
    "    plt.suptitle(top_title, y=0.95, fontsize=14)"
   ]
  },
  {
   "cell_type": "markdown",
   "metadata": {},
   "source": [
    "### Топ-5 платформ"
   ]
  },
  {
   "cell_type": "code",
   "execution_count": 34,
   "metadata": {},
   "outputs": [
    {
     "data": {
      "image/png": "[encoded data removed]",
      "text/plain": [
       "<Figure size 864x576 with 1 Axes>"
      ]
     },
     "metadata": {
      "needs_background": "light"
     },
     "output_type": "display_data"
    },
    {
     "data": {
      "image/png": "[encoded data removed]",
      "text/plain": [
       "<Figure size 864x720 with 3 Axes>"
      ]
     },
     "metadata": {
      "needs_background": "light"
     },
     "output_type": "display_data"
    }
   ],
   "source": [
    "plots_for_regions('platform', by_name='Платформы', top_n=5,\n",
    "    top_title='Топ-5 платформ для каждого региона в 2013-2015 гг.')"
   ]
  },
  {
   "cell_type": "markdown",
   "metadata": {},
   "source": [
    "- В Америке все первые строчки рейтинга занимают оба поколения платформ семейста __Play Station__ и __X Box__. Совсем незначительно выделяются в сумме __X Box 360__ и __X Box One__, вероятно потому что, они там и разрабатывались \n",
    "- В Европе абсолютное большинство отдают предпочтение платформама семейства __Play Station__, в особенности новой __PS4__, а вот позиции __X Box__ намного слабее\n",
    "- В целом топ для Америки и Европы состоит из тех же платформ. Заметим, что портативная консоль __3DS__ в обоих регионах вошла в топ\n",
    "- В Японии пользователи поддерживают отечественных производителей игровых платформ. При этом особое предпочтение отдают портативным консолям. В топе целых три таких платформы: __3DS__, __PSV__ и __WiiU__, первой из которых отдают предпочтение большинство\n",
    "\n",
    "С этой точки зрения магазину следует ориентироваться на рынок Америки и Европы, там лучше всего представлены наиболее популярные платформы"
   ]
  },
  {
   "cell_type": "markdown",
   "metadata": {},
   "source": [
    "### Топ-5 жанров"
   ]
  },
  {
   "cell_type": "code",
   "execution_count": 35,
   "metadata": {},
   "outputs": [
    {
     "data": {
      "image/png": "[encoded data removed]",
      "text/plain": [
       "<Figure size 864x576 with 1 Axes>"
      ]
     },
     "metadata": {
      "needs_background": "light"
     },
     "output_type": "display_data"
    },
    {
     "data": {
      "image/png": "[encoded data removed]",
      "text/plain": [
       "<Figure size 864x720 with 3 Axes>"
      ]
     },
     "metadata": {
      "needs_background": "light"
     },
     "output_type": "display_data"
    }
   ],
   "source": [
    "plots_for_regions('genre', by_name='Жанры', top_n=5,\n",
    "    top_title='Топ-5 жанров для каждого региона в 2013-2015 гг.')"
   ]
  },
  {
   "cell_type": "markdown",
   "metadata": {},
   "source": [
    "- Топ жанров для Европы и Америки совпадает в точности до позиций, доли продаж тоже примерно одинаковы. Помимо этого этот топ практически совпадает с топом по всем регионам\n",
    "- В Японии особенно популярны только 2 жанра _Role-Playing_ и _Action_\n",
    "\n",
    "Магазину следует сделать ставку на игры в жанрах _Action_ и _Shooter_ - они самые продаваемые во всех регионах"
   ]
  },
  {
   "cell_type": "markdown",
   "metadata": {},
   "source": [
    "### Влияние рейтинга ESRB на продажи в отдельном регионе"
   ]
  },
  {
   "cell_type": "markdown",
   "metadata": {},
   "source": [
    "Посмотрим, как распределены суммарные и медианные продажи по значениям реётинга ESRB в разных регионах. Неизвестные значения рейтинга заменим на `'unknown'`"
   ]
  },
  {
   "cell_type": "code",
   "execution_count": 36,
   "metadata": {},
   "outputs": [
    {
     "data": {
      "image/png": "[encoded data removed]",
      "text/plain": [
       "<Figure size 864x432 with 1 Axes>"
      ]
     },
     "metadata": {
      "needs_background": "light"
     },
     "output_type": "display_data"
    },
    {
     "data": {
      "image/png": "[encoded data removed]",
      "text/plain": [
       "<Figure size 864x432 with 1 Axes>"
      ]
     },
     "metadata": {
      "needs_background": "light"
     },
     "output_type": "display_data"
    }
   ],
   "source": [
    "# общая сводная таблица с суммарными продажами по регионам упорядоченная в\n",
    "# в порядке увеличения допустимого возраста рейтинга\n",
    "region_sales_sum = (df_actual.fillna('unknown').groupby('rating')[['na_sales','eu_sales','jp_sales']]\n",
    "    .sum().reindex(['E', 'E10+', 'T', 'M', 'unknown'])\n",
    ")\n",
    "# общая сводная таблица с медианными продажами по регионам упорядоченная в\n",
    "region_sales_median = (df_actual.fillna('unknown').groupby('rating')[['na_sales','eu_sales','jp_sales']]\n",
    "    .median().reindex(['E', 'E10+', 'T', 'M', 'unknown'])\n",
    ")\n",
    "# график общего распределения\n",
    "ax1 = region_sales_sum.plot(kind='bar', rot=0, figsize=(12,6), grid=True)\n",
    "ax1.legend(labels=[\"Северная Америка (NA)\",\"Европа (EU)\",\"Япония (JP)\"], title='регион')\n",
    "ax1.set( title = 'Распределение суммарных продаж игр по регионам и рейтингу ESRB за 2013-2015 гг.',\n",
    "        xlabel = 'Рейтинг ESRB', ylabel = 'Суммарное количество проданных копий, млн. шт.'\n",
    ");\n",
    "# график медианного распределения\n",
    "ax2 = region_sales_median.plot(kind='bar', rot=0, figsize=(12,6), grid=True)\n",
    "ax2.legend(labels=[\"Северная Америка (NA)\",\"Европа (EU)\",\"Япония (JP)\"], title='регион')\n",
    "ax2.set( title = 'Распределение медианных продаж игр по регионам и рейтингу ESRB за 2013-2015 гг.',\n",
    "        xlabel = 'Рейтинг ESRB', ylabel = 'Медианное количество проданных копий, млн. шт.'\n",
    ");"
   ]
  },
  {
   "cell_type": "markdown",
   "metadata": {},
   "source": [
    "В нашу выборку не попали игры с рэйтингом для _«Для детей младшего возраста»_ `EC` и _«Только для взрослых»_ `AO`. Ожидаемо, что таких игр немного\n",
    "\n",
    "По полученным столбчатым диаграммам видим, что рейтинг ESRB влияет на продажи в отдельных регионах. Его влияние на продажи в Европе и Северной Америке практически одинаково, в вот в Японии закономерность снова иная.\n",
    "\n",
    "Также видим, что велика доля игр, для которых рейтинг не определён, при этом для всех регионов суммарное значение почти одинаково. Наличие таких игр связано с тем, что не все разработчки рецензируют свои игры в ESRB. \n",
    "\n",
    "- В Европе и Америке самые продаваемые игры - с рейтингом `M` _«Для взрослых»_, наименее популярны - с рейтингом `T` _«Подросткам»_\n",
    "- В Европе и Америке для игр с рейтингом `M` _«Для взрослых»_ больше бестселлеров, но также в среднем довольно много продаж на одну игру приходится на рейтинг `E10+` _«Для всех от 10 лет и старше»_ \n",
    "- В Японии же рейтинг `T` «_Подросткам_» напротив самый популярный, при сравнении медианных значений становится понятно, что с оценкой `E`, `E10+` и `M` были отрецензированы только популяные игры. \n",
    "- По столбцу _unknown_ видно, что в Японии велика доля разработчкивов, которые не подавали заявку на присвоение рейтинга, в то время как в Европе и Америке меданное значение продаж таких игр 0 млн. копий. Организация _ESRB_ Американо-Канадская, возможно, Японцам и не интересен этот рейтинг\n",
    "\n"
   ]
  },
  {
   "cell_type": "markdown",
   "metadata": {},
   "source": [
    "## Проверка гипотез\n",
    "### Средние пользовательские рейтинги платформ _Xbox One_ и _PC_ одинаковые\n",
    "\n",
    "Необходимо проверить, одинаковы ли средние пользовательские рейтинги платформ на _генеральных_ совокупностях. \n",
    "Сформулируем нулевую и альтернативную гипотезы. \n",
    "\n",
    "- **H0** (Нулевая гипотеза): _Средние пользовательские рейтинги платформ Xbox One и PС **равны**_\n",
    "- **H1** (Альтернативная гипотеза) : _Средние пользовательские рейтинги платформ Xbox One и PС **различаются**_\n",
    "\n",
    "Проверим нулевую гипотезу с помощью T-теста.\n",
    "\n",
    "Посмотрим на статистики столбца оценок пользователей для этих платформ"
   ]
  },
  {
   "cell_type": "code",
   "execution_count": 37,
   "metadata": {},
   "outputs": [
    {
     "data": {
      "text/html": [
       "<div>\n",
       "<style scoped>\n",
       "    .dataframe tbody tr th:only-of-type {\n",
       "        vertical-align: middle;\n",
       "    }\n",
       "\n",
       "    .dataframe tbody tr th {\n",
       "        vertical-align: top;\n",
       "    }\n",
       "\n",
       "    .dataframe thead th {\n",
       "        text-align: right;\n",
       "    }\n",
       "</style>\n",
       "<table border=\"1\" class=\"dataframe\">\n",
       "  <thead>\n",
       "    <tr style=\"text-align: right;\">\n",
       "      <th></th>\n",
       "      <th>XOne</th>\n",
       "      <th>PC</th>\n",
       "    </tr>\n",
       "  </thead>\n",
       "  <tbody>\n",
       "    <tr>\n",
       "      <td>count</td>\n",
       "      <td>116.0</td>\n",
       "      <td>113.0</td>\n",
       "    </tr>\n",
       "    <tr>\n",
       "      <td>mean</td>\n",
       "      <td>6.5</td>\n",
       "      <td>6.3</td>\n",
       "    </tr>\n",
       "    <tr>\n",
       "      <td>std</td>\n",
       "      <td>1.3</td>\n",
       "      <td>1.7</td>\n",
       "    </tr>\n",
       "    <tr>\n",
       "      <td>min</td>\n",
       "      <td>2.1</td>\n",
       "      <td>1.4</td>\n",
       "    </tr>\n",
       "    <tr>\n",
       "      <td>25%</td>\n",
       "      <td>5.8</td>\n",
       "      <td>5.4</td>\n",
       "    </tr>\n",
       "    <tr>\n",
       "      <td>50%</td>\n",
       "      <td>6.7</td>\n",
       "      <td>6.7</td>\n",
       "    </tr>\n",
       "    <tr>\n",
       "      <td>75%</td>\n",
       "      <td>7.3</td>\n",
       "      <td>7.6</td>\n",
       "    </tr>\n",
       "    <tr>\n",
       "      <td>max</td>\n",
       "      <td>9.2</td>\n",
       "      <td>9.3</td>\n",
       "    </tr>\n",
       "  </tbody>\n",
       "</table>\n",
       "</div>"
      ],
      "text/plain": [
       "        XOne     PC\n",
       "count  116.0  113.0\n",
       "mean     6.5    6.3\n",
       "std      1.3    1.7\n",
       "min      2.1    1.4\n",
       "25%      5.8    5.4\n",
       "50%      6.7    6.7\n",
       "75%      7.3    7.6\n",
       "max      9.2    9.3"
      ]
     },
     "execution_count": 37,
     "metadata": {},
     "output_type": "execute_result"
    }
   ],
   "source": [
    "# генерируем описательную статистику и для обеих платформ и объединяем в одну таблицу\n",
    "pd.concat({\n",
    "    'XOne': df_actual.query(\"platform == 'XOne'\")['user_score'].describe(),\n",
    "    'PC': df_actual.query(\"platform == 'PC'\")['user_score'].describe()\n",
    "}, axis=1).round(1)"
   ]
  },
  {
   "cell_type": "markdown",
   "metadata": {},
   "source": [
    "Оценим _p-value_ - меру вероятности того, что наблюдаемая разница могла возникнуть просто по случайному стечению обстоятельств.\n",
    "Критический уровень статистической значимости $\\alpha$ возьмёи равныи `0.05`. Для оценки используем метод `ttest_ind` из модуля `stats` библиотеки `scipy`. \n",
    "\n",
    "Поскольку стандартные отклонения выборок отличаются не сильно и размеры выборок почти одинаковы, то будем считать дисперсии равными `equal_var = True`."
   ]
  },
  {
   "cell_type": "code",
   "execution_count": 38,
   "metadata": {},
   "outputs": [
    {
     "data": {
      "text/markdown": [
       "p-значение:  31.33%"
      ],
      "text/plain": [
       "<IPython.core.display.Markdown object>"
      ]
     },
     "metadata": {},
     "output_type": "display_data"
    },
    {
     "data": {
      "text/markdown": [
       "Принимаем гипотезу: \n",
       "            **Средние пользовательские рейтинги платформ Xbox One и PС равны**"
      ],
      "text/plain": [
       "<IPython.core.display.Markdown object>"
      ]
     },
     "metadata": {},
     "output_type": "display_data"
    }
   ],
   "source": [
    "alpha = .05 # критерий значимости\n",
    "\n",
    "# p-значение\n",
    "pvalue = st.ttest_ind(df_actual.query(\"platform == 'XOne'\")['user_score'].dropna(), \n",
    "                      df_actual.query(\"platform == 'PC'\")['user_score'].dropna(),  \n",
    ").pvalue\n",
    "# вывод\n",
    "display(Markdown('p-значение:  {:.2%}'.format(pvalue)))\n",
    "\n",
    "if pvalue > alpha:\n",
    "    display(Markdown(\"Принимаем гипотезу: \\n\\\n",
    "            **Средние пользовательские рейтинги платформ Xbox One и PС равны**\")) \n",
    "else:\n",
    "    display(Markdown(\"Принимаем гипотезу: \\n\\\n",
    "            **Средние пользовательские рейтинги платформ Xbox One и PС различаются**\"))"
   ]
  },
  {
   "cell_type": "markdown",
   "metadata": {},
   "source": [
    "Такое _p-value_ означает, что вероятность получить такое же, как в наших выборках, или большее различие средних значений на генеральной совокупности _случайно_ равна примерно 30%. Это большая вероятность, чтобы делать вывод о значимом различии между средними. Поэтому нулевую гипотезу необходимо **принять**."
   ]
  },
  {
   "cell_type": "markdown",
   "metadata": {},
   "source": [
    "### Средние пользовательские рейтинги жанров _Action_ и _Sports_ разные\n",
    "\n",
    "Необходимо проверить, одинаковы ли средние пользовательские рейтинги жанров на _генеральных_ совокупностях. \n",
    "Сформулируем нулевую и альтернативную гипотезы. \n",
    "\n",
    "- **H0** (Нулевая гипотеза): _Средние пользовательские рейтинги жанров Action и Sports **равны**_\n",
    "- **H1** (Альтернативная гипотеза) : _Средние пользовательские рейтинги жанров Action и Sports **различаются**_\n",
    "\n",
    "Проверим нулевую гипотезу с помощью T-теста.\n",
    "\n",
    "Посмотрим на статистики столбца оценок пользователей для этих жанров"
   ]
  },
  {
   "cell_type": "code",
   "execution_count": 39,
   "metadata": {},
   "outputs": [
    {
     "data": {
      "text/html": [
       "<div>\n",
       "<style scoped>\n",
       "    .dataframe tbody tr th:only-of-type {\n",
       "        vertical-align: middle;\n",
       "    }\n",
       "\n",
       "    .dataframe tbody tr th {\n",
       "        vertical-align: top;\n",
       "    }\n",
       "\n",
       "    .dataframe thead th {\n",
       "        text-align: right;\n",
       "    }\n",
       "</style>\n",
       "<table border=\"1\" class=\"dataframe\">\n",
       "  <thead>\n",
       "    <tr style=\"text-align: right;\">\n",
       "      <th></th>\n",
       "      <th>Action</th>\n",
       "      <th>Sports</th>\n",
       "    </tr>\n",
       "  </thead>\n",
       "  <tbody>\n",
       "    <tr>\n",
       "      <td>count</td>\n",
       "      <td>306.0</td>\n",
       "      <td>122.0</td>\n",
       "    </tr>\n",
       "    <tr>\n",
       "      <td>mean</td>\n",
       "      <td>6.9</td>\n",
       "      <td>5.2</td>\n",
       "    </tr>\n",
       "    <tr>\n",
       "      <td>std</td>\n",
       "      <td>1.3</td>\n",
       "      <td>1.7</td>\n",
       "    </tr>\n",
       "    <tr>\n",
       "      <td>min</td>\n",
       "      <td>2.4</td>\n",
       "      <td>1.4</td>\n",
       "    </tr>\n",
       "    <tr>\n",
       "      <td>25%</td>\n",
       "      <td>6.4</td>\n",
       "      <td>4.1</td>\n",
       "    </tr>\n",
       "    <tr>\n",
       "      <td>50%</td>\n",
       "      <td>7.2</td>\n",
       "      <td>5.4</td>\n",
       "    </tr>\n",
       "    <tr>\n",
       "      <td>75%</td>\n",
       "      <td>7.7</td>\n",
       "      <td>6.3</td>\n",
       "    </tr>\n",
       "    <tr>\n",
       "      <td>max</td>\n",
       "      <td>9.1</td>\n",
       "      <td>8.8</td>\n",
       "    </tr>\n",
       "  </tbody>\n",
       "</table>\n",
       "</div>"
      ],
      "text/plain": [
       "       Action  Sports\n",
       "count   306.0   122.0\n",
       "mean      6.9     5.2\n",
       "std       1.3     1.7\n",
       "min       2.4     1.4\n",
       "25%       6.4     4.1\n",
       "50%       7.2     5.4\n",
       "75%       7.7     6.3\n",
       "max       9.1     8.8"
      ]
     },
     "execution_count": 39,
     "metadata": {},
     "output_type": "execute_result"
    }
   ],
   "source": [
    "# генерируем описательную статистику и для обеих платформ и объединяем в одну таблицу\n",
    "pd.concat({\n",
    "    'Action': df_actual.query(\"genre == 'Action'\")['user_score'].describe(),\n",
    "    'Sports': df_actual.query(\"genre == 'Sports'\")['user_score'].describe()\n",
    "}, axis=1).round(1)"
   ]
  },
  {
   "cell_type": "markdown",
   "metadata": {},
   "source": [
    "Оценим _p-value_. Критический уровень статистической значимости $\\alpha$ возьмёи равныи `0.05`. \n",
    "Будем считать дисперсии разными `equal_var = False`."
   ]
  },
  {
   "cell_type": "code",
   "execution_count": 40,
   "metadata": {},
   "outputs": [
    {
     "data": {
      "text/markdown": [
       "p-значение:  0.00%"
      ],
      "text/plain": [
       "<IPython.core.display.Markdown object>"
      ]
     },
     "metadata": {},
     "output_type": "display_data"
    },
    {
     "data": {
      "text/markdown": [
       "Принимаем гипотезу: \n",
       "            **Средние пользовательские рейтинги жанров Action и Sports различаются**"
      ],
      "text/plain": [
       "<IPython.core.display.Markdown object>"
      ]
     },
     "metadata": {},
     "output_type": "display_data"
    }
   ],
   "source": [
    "alpha = .05 # критерий значимости\n",
    "\n",
    "# p-значение\n",
    "pvalue = st.ttest_ind(df_actual.query(\"genre == 'Action'\")['user_score'].dropna(), \n",
    "                      df_actual.query(\"genre == 'Sports'\")['user_score'].dropna(),\n",
    "                      equal_var = False).pvalue\n",
    "# вывод\n",
    "display(Markdown('p-значение:  {:.2%}'.format(pvalue)))\n",
    "\n",
    "if pvalue > alpha:\n",
    "    display(Markdown(\"Принимаем гипотезу: \\n\\\n",
    "            **Средние пользовательские рейтинги жанров Action и Sports равны**\")) \n",
    "else:\n",
    "    display(Markdown(\"Принимаем гипотезу: \\n\\\n",
    "            **Средние пользовательские рейтинги жанров Action и Sports различаются**\"))"
   ]
  },
  {
   "cell_type": "markdown",
   "metadata": {},
   "source": [
    "_p-value_ очень близко к 0. Фактически это означает нулевую вероятность получить такое же, как в наших выборках, или большее различие средних значений _случайно_. Поэтому нулевую гипотезу необходимо **отвегрнуть**."
   ]
  },
  {
   "cell_type": "markdown",
   "metadata": {},
   "source": [
    "## Общий вывод"
   ]
  },
  {
   "cell_type": "markdown",
   "metadata": {},
   "source": [
    "В процессе работы с данными были обнаружены проблемы в данных названиях игр: часть пар значений игра-платформа встречались несколько раз из-за того, что продажы по разным регионам были записаны в разные строки, или пурисутсвовали другие комментарии. Их доля незначительна, но следует обратить внимание заказчика на эту проблему\n",
    "\n",
    "\n",
    "**По итогам исследования сделаны следующие основные выводы**:\n",
    "- В среднем платформы появляются и исчезают в течение 10 лет\n",
    "- Актуальный период для анализа данных о продажах игр: c 2013 по 2015 год.\n",
    "- Игры с оценками ниже 5 как от критиков, так и от пользователей продаются плохо\n",
    "- Игры оценённые высоко критиками чаще становятся популярными\n",
    "\n",
    "**Платформы и жанры в целом**\n",
    "- В качестве потенциально прибыльных платформ необходимо рассмотреть __PS4__ и __XOne__\n",
    "- Для расширения ассртимента магазина стоит отбрасывать __3DS__, __WiiU__, __PC__ \n",
    "- Сделать приоритет на продаже игр в жанрах_Shooter_, _Sports_ и _Platform_ - они самые продаваемые\n",
    "\n",
    "**По регионам**\n",
    "- В Америке и Европе стоит ориентироваться на платформы __PS4__ и __XOne__. \n",
    "- В Японии на портативную платформу: __3DS__ а также на __PS4__\n",
    "- Приоритетные жанры для Европы и Америки такие же как пункте выше, но вот в Японии следдует сделать упор на _Role-Playing_ и _Action_\n",
    "- В Европе и Америке предпочтительны игры с рейтингом `M` _«Для взрослых»_ и `E10+` _«Для всех от 10 лет и старше»_ \n",
    "- В Японии - с рейтингом `T` _«Подросткам»_, на остальные рейтинги вообще не стоит ориентироваться. Тут игры не охотно рецензируются в ESRB \n",
    "\n",
    "\n",
    "Проверка гипотез показала:\n",
    "- Скорее всего Средние пользовательские рейтинги платформ _Xbox One_ и _PC_ одинаковые\n",
    "- С очень большой вероятностью Средние пользовательские рейтинги жанров Action и Sports различаются"
   ]
  }
 ],
 "metadata": {
  "ExecuteTimeLog": [
   {
    "duration": 1619,
    "start_time": "2022-02-05T14:31:02.600Z"
   },
   {
    "duration": 12,
    "start_time": "2022-02-05T14:31:04.222Z"
   },
   {
    "duration": 229,
    "start_time": "2022-02-05T14:31:04.237Z"
   },
   {
    "duration": 140,
    "start_time": "2022-02-05T14:31:04.470Z"
   },
   {
    "duration": 45,
    "start_time": "2022-02-05T14:31:04.613Z"
   },
   {
    "duration": 20,
    "start_time": "2022-02-05T14:31:04.661Z"
   },
   {
    "duration": 16,
    "start_time": "2022-02-05T14:31:04.683Z"
   },
   {
    "duration": 56,
    "start_time": "2022-02-05T14:31:04.736Z"
   },
   {
    "duration": 55,
    "start_time": "2022-02-05T14:31:04.795Z"
   },
   {
    "duration": 19,
    "start_time": "2022-02-05T14:31:04.852Z"
   },
   {
    "duration": 508,
    "start_time": "2022-02-05T14:31:04.874Z"
   },
   {
    "duration": 211,
    "start_time": "2022-02-05T14:31:05.385Z"
   },
   {
    "duration": 40,
    "start_time": "2022-02-05T14:31:05.599Z"
   },
   {
    "duration": 65,
    "start_time": "2022-02-05T14:31:05.642Z"
   },
   {
    "duration": 68,
    "start_time": "2022-02-05T14:31:05.710Z"
   },
   {
    "duration": 10,
    "start_time": "2022-02-05T14:31:05.780Z"
   },
   {
    "duration": 45,
    "start_time": "2022-02-05T14:31:05.793Z"
   },
   {
    "duration": 15,
    "start_time": "2022-02-05T14:31:05.841Z"
   },
   {
    "duration": 87,
    "start_time": "2022-02-05T14:31:05.859Z"
   },
   {
    "duration": 9,
    "start_time": "2022-02-05T14:31:05.949Z"
   },
   {
    "duration": 91,
    "start_time": "2022-02-05T14:31:05.960Z"
   },
   {
    "duration": 1515,
    "start_time": "2022-02-05T14:31:06.055Z"
   },
   {
    "duration": 392,
    "start_time": "2022-02-05T14:31:07.579Z"
   },
   {
    "duration": 1511,
    "start_time": "2022-02-05T14:31:07.974Z"
   },
   {
    "duration": 679,
    "start_time": "2022-02-05T14:31:09.488Z"
   },
   {
    "duration": 705,
    "start_time": "2022-02-05T14:31:10.170Z"
   },
   {
    "duration": 687,
    "start_time": "2022-02-05T14:31:10.878Z"
   },
   {
    "duration": 4,
    "start_time": "2022-02-05T14:31:11.567Z"
   },
   {
    "duration": 2263,
    "start_time": "2022-02-05T14:31:11.574Z"
   },
   {
    "duration": 134,
    "start_time": "2022-02-05T14:31:13.840Z"
   },
   {
    "duration": 2283,
    "start_time": "2022-02-05T14:31:13.977Z"
   },
   {
    "duration": 514,
    "start_time": "2022-02-05T14:31:16.263Z"
   },
   {
    "duration": 14,
    "start_time": "2022-02-05T14:31:16.780Z"
   },
   {
    "duration": 1403,
    "start_time": "2022-02-05T14:31:16.796Z"
   },
   {
    "duration": 1515,
    "start_time": "2022-02-05T14:31:18.202Z"
   },
   {
    "duration": 529,
    "start_time": "2022-02-05T14:31:19.720Z"
   },
   {
    "duration": 29,
    "start_time": "2022-02-05T14:31:20.252Z"
   },
   {
    "duration": 194,
    "start_time": "2022-02-05T14:31:20.283Z"
   },
   {
    "duration": 25,
    "start_time": "2022-02-05T14:31:20.480Z"
   },
   {
    "duration": 192,
    "start_time": "2022-02-05T14:31:20.507Z"
   },
   {
    "duration": 1424,
    "start_time": "2022-02-05T14:36:17.681Z"
   },
   {
    "duration": 8,
    "start_time": "2022-02-05T14:36:19.108Z"
   },
   {
    "duration": 216,
    "start_time": "2022-02-05T14:36:19.131Z"
   },
   {
    "duration": 133,
    "start_time": "2022-02-05T14:36:19.350Z"
   },
   {
    "duration": 49,
    "start_time": "2022-02-05T14:36:19.487Z"
   },
   {
    "duration": 21,
    "start_time": "2022-02-05T14:36:19.539Z"
   },
   {
    "duration": 18,
    "start_time": "2022-02-05T14:36:19.563Z"
   },
   {
    "duration": 73,
    "start_time": "2022-02-05T14:36:19.585Z"
   },
   {
    "duration": 28,
    "start_time": "2022-02-05T14:36:19.661Z"
   },
   {
    "duration": 48,
    "start_time": "2022-02-05T14:36:19.692Z"
   },
   {
    "duration": 433,
    "start_time": "2022-02-05T14:36:19.742Z"
   },
   {
    "duration": 198,
    "start_time": "2022-02-05T14:36:20.178Z"
   },
   {
    "duration": 40,
    "start_time": "2022-02-05T14:36:20.378Z"
   },
   {
    "duration": 69,
    "start_time": "2022-02-05T14:36:20.420Z"
   },
   {
    "duration": 73,
    "start_time": "2022-02-05T14:36:20.491Z"
   },
   {
    "duration": 8,
    "start_time": "2022-02-05T14:36:20.566Z"
   },
   {
    "duration": 16,
    "start_time": "2022-02-05T14:36:20.576Z"
   },
   {
    "duration": 38,
    "start_time": "2022-02-05T14:36:20.595Z"
   },
   {
    "duration": 34,
    "start_time": "2022-02-05T14:36:20.636Z"
   },
   {
    "duration": 8,
    "start_time": "2022-02-05T14:36:20.672Z"
   },
   {
    "duration": 70,
    "start_time": "2022-02-05T14:36:20.683Z"
   },
   {
    "duration": 1095,
    "start_time": "2022-02-05T14:36:20.756Z"
   },
   {
    "duration": 329,
    "start_time": "2022-02-05T14:36:21.856Z"
   },
   {
    "duration": 1446,
    "start_time": "2022-02-05T14:36:22.187Z"
   },
   {
    "duration": 704,
    "start_time": "2022-02-05T14:36:23.636Z"
   },
   {
    "duration": 629,
    "start_time": "2022-02-05T14:36:24.342Z"
   },
   {
    "duration": 651,
    "start_time": "2022-02-05T14:36:24.974Z"
   },
   {
    "duration": 8,
    "start_time": "2022-02-05T14:36:25.627Z"
   },
   {
    "duration": 2550,
    "start_time": "2022-02-05T14:36:25.638Z"
   },
   {
    "duration": 136,
    "start_time": "2022-02-05T14:36:28.190Z"
   },
   {
    "duration": 2324,
    "start_time": "2022-02-05T14:36:28.328Z"
   },
   {
    "duration": 478,
    "start_time": "2022-02-05T14:36:30.654Z"
   },
   {
    "duration": 11,
    "start_time": "2022-02-05T14:36:31.135Z"
   },
   {
    "duration": 1292,
    "start_time": "2022-02-05T14:36:31.149Z"
   },
   {
    "duration": 1374,
    "start_time": "2022-02-05T14:36:32.443Z"
   },
   {
    "duration": 495,
    "start_time": "2022-02-05T14:36:33.819Z"
   },
   {
    "duration": 34,
    "start_time": "2022-02-05T14:36:34.317Z"
   },
   {
    "duration": 168,
    "start_time": "2022-02-05T14:36:34.354Z"
   },
   {
    "duration": 26,
    "start_time": "2022-02-05T14:36:34.525Z"
   },
   {
    "duration": 170,
    "start_time": "2022-02-05T14:36:34.553Z"
   },
   {
    "duration": 1124,
    "start_time": "2022-02-12T16:09:22.646Z"
   },
   {
    "duration": 6,
    "start_time": "2022-02-12T16:09:23.772Z"
   },
   {
    "duration": 240,
    "start_time": "2022-02-12T16:09:23.779Z"
   },
   {
    "duration": 108,
    "start_time": "2022-02-12T16:09:24.021Z"
   },
   {
    "duration": 27,
    "start_time": "2022-02-12T16:09:24.131Z"
   },
   {
    "duration": 13,
    "start_time": "2022-02-12T16:09:24.160Z"
   },
   {
    "duration": 10,
    "start_time": "2022-02-12T16:09:24.174Z"
   },
   {
    "duration": 32,
    "start_time": "2022-02-12T16:09:24.186Z"
   },
   {
    "duration": 25,
    "start_time": "2022-02-12T16:09:24.221Z"
   },
   {
    "duration": 32,
    "start_time": "2022-02-12T16:09:24.248Z"
   },
   {
    "duration": 236,
    "start_time": "2022-02-12T16:09:24.282Z"
   },
   {
    "duration": 139,
    "start_time": "2022-02-12T16:09:24.520Z"
   },
   {
    "duration": 23,
    "start_time": "2022-02-12T16:09:24.661Z"
   },
   {
    "duration": 37,
    "start_time": "2022-02-12T16:09:24.685Z"
   },
   {
    "duration": 27,
    "start_time": "2022-02-12T16:09:24.723Z"
   },
   {
    "duration": 6,
    "start_time": "2022-02-12T16:09:24.752Z"
   },
   {
    "duration": 6,
    "start_time": "2022-02-12T16:09:24.771Z"
   },
   {
    "duration": 11,
    "start_time": "2022-02-12T16:09:24.779Z"
   },
   {
    "duration": 25,
    "start_time": "2022-02-12T16:09:24.791Z"
   },
   {
    "duration": 10,
    "start_time": "2022-02-12T16:09:24.818Z"
   },
   {
    "duration": 48,
    "start_time": "2022-02-12T16:09:24.829Z"
   },
   {
    "duration": 537,
    "start_time": "2022-02-12T16:09:24.879Z"
   },
   {
    "duration": 225,
    "start_time": "2022-02-12T16:09:25.419Z"
   },
   {
    "duration": 906,
    "start_time": "2022-02-12T16:09:25.646Z"
   },
   {
    "duration": 390,
    "start_time": "2022-02-12T16:09:26.553Z"
   },
   {
    "duration": 357,
    "start_time": "2022-02-12T16:09:26.945Z"
   },
   {
    "duration": 343,
    "start_time": "2022-02-12T16:09:27.303Z"
   },
   {
    "duration": 3,
    "start_time": "2022-02-12T16:09:27.648Z"
   },
   {
    "duration": 1086,
    "start_time": "2022-02-12T16:12:36.583Z"
   },
   {
    "duration": 6,
    "start_time": "2022-02-12T16:12:37.671Z"
   },
   {
    "duration": 284,
    "start_time": "2022-02-12T16:12:37.679Z"
   },
   {
    "duration": 100,
    "start_time": "2022-02-12T16:12:37.964Z"
   },
   {
    "duration": 25,
    "start_time": "2022-02-12T16:12:38.066Z"
   },
   {
    "duration": 11,
    "start_time": "2022-02-12T16:12:38.093Z"
   },
   {
    "duration": 8,
    "start_time": "2022-02-12T16:12:38.105Z"
   },
   {
    "duration": 23,
    "start_time": "2022-02-12T16:12:38.114Z"
   },
   {
    "duration": 37,
    "start_time": "2022-02-12T16:12:38.139Z"
   },
   {
    "duration": 11,
    "start_time": "2022-02-12T16:12:38.178Z"
   },
   {
    "duration": 233,
    "start_time": "2022-02-12T16:12:38.190Z"
   },
   {
    "duration": 149,
    "start_time": "2022-02-12T16:12:38.425Z"
   },
   {
    "duration": 23,
    "start_time": "2022-02-12T16:12:38.576Z"
   },
   {
    "duration": 39,
    "start_time": "2022-02-12T16:12:38.600Z"
   },
   {
    "duration": 45,
    "start_time": "2022-02-12T16:12:38.640Z"
   },
   {
    "duration": 5,
    "start_time": "2022-02-12T16:12:38.687Z"
   },
   {
    "duration": 7,
    "start_time": "2022-02-12T16:12:38.693Z"
   },
   {
    "duration": 8,
    "start_time": "2022-02-12T16:12:38.701Z"
   },
   {
    "duration": 21,
    "start_time": "2022-02-12T16:12:38.711Z"
   },
   {
    "duration": 4,
    "start_time": "2022-02-12T16:12:38.734Z"
   },
   {
    "duration": 21,
    "start_time": "2022-02-12T16:12:38.771Z"
   },
   {
    "duration": 482,
    "start_time": "2022-02-12T16:12:38.794Z"
   },
   {
    "duration": 203,
    "start_time": "2022-02-12T16:12:39.277Z"
   },
   {
    "duration": 803,
    "start_time": "2022-02-12T16:12:39.481Z"
   },
   {
    "duration": 370,
    "start_time": "2022-02-12T16:12:40.285Z"
   },
   {
    "duration": 336,
    "start_time": "2022-02-12T16:12:40.656Z"
   },
   {
    "duration": 342,
    "start_time": "2022-02-12T16:12:40.995Z"
   },
   {
    "duration": 3,
    "start_time": "2022-02-12T16:12:41.339Z"
   },
   {
    "duration": 1116,
    "start_time": "2022-02-12T16:17:49.370Z"
   },
   {
    "duration": 7,
    "start_time": "2022-02-12T16:17:50.488Z"
   },
   {
    "duration": 218,
    "start_time": "2022-02-12T16:17:50.497Z"
   },
   {
    "duration": 140,
    "start_time": "2022-02-12T16:17:50.717Z"
   },
   {
    "duration": 28,
    "start_time": "2022-02-12T16:17:50.859Z"
   },
   {
    "duration": 13,
    "start_time": "2022-02-12T16:17:50.889Z"
   },
   {
    "duration": 9,
    "start_time": "2022-02-12T16:17:50.904Z"
   },
   {
    "duration": 28,
    "start_time": "2022-02-12T16:17:50.915Z"
   },
   {
    "duration": 18,
    "start_time": "2022-02-12T16:17:50.973Z"
   },
   {
    "duration": 9,
    "start_time": "2022-02-12T16:17:50.993Z"
   },
   {
    "duration": 261,
    "start_time": "2022-02-12T16:17:51.004Z"
   },
   {
    "duration": 146,
    "start_time": "2022-02-12T16:17:51.267Z"
   },
   {
    "duration": 23,
    "start_time": "2022-02-12T16:17:51.414Z"
   },
   {
    "duration": 38,
    "start_time": "2022-02-12T16:17:51.439Z"
   },
   {
    "duration": 28,
    "start_time": "2022-02-12T16:17:51.479Z"
   },
   {
    "duration": 5,
    "start_time": "2022-02-12T16:17:51.509Z"
   },
   {
    "duration": 8,
    "start_time": "2022-02-12T16:17:51.516Z"
   },
   {
    "duration": 8,
    "start_time": "2022-02-12T16:17:51.525Z"
   },
   {
    "duration": 43,
    "start_time": "2022-02-12T16:17:51.534Z"
   },
   {
    "duration": 6,
    "start_time": "2022-02-12T16:17:51.578Z"
   },
   {
    "duration": 23,
    "start_time": "2022-02-12T16:17:51.585Z"
   },
   {
    "duration": 518,
    "start_time": "2022-02-12T16:17:51.609Z"
   },
   {
    "duration": 212,
    "start_time": "2022-02-12T16:17:52.128Z"
   },
   {
    "duration": 933,
    "start_time": "2022-02-12T16:17:52.342Z"
   },
   {
    "duration": 437,
    "start_time": "2022-02-12T16:17:53.277Z"
   },
   {
    "duration": 399,
    "start_time": "2022-02-12T16:17:53.716Z"
   },
   {
    "duration": 333,
    "start_time": "2022-02-12T16:17:54.118Z"
   },
   {
    "duration": 3,
    "start_time": "2022-02-12T16:17:54.453Z"
   },
   {
    "duration": 2271,
    "start_time": "2022-02-12T16:39:39.938Z"
   },
   {
    "duration": 6,
    "start_time": "2022-02-12T16:39:42.211Z"
   },
   {
    "duration": 194,
    "start_time": "2022-02-12T16:39:42.218Z"
   },
   {
    "duration": 109,
    "start_time": "2022-02-12T16:39:42.414Z"
   },
   {
    "duration": 24,
    "start_time": "2022-02-12T16:39:42.524Z"
   },
   {
    "duration": 11,
    "start_time": "2022-02-12T16:39:42.549Z"
   },
   {
    "duration": 8,
    "start_time": "2022-02-12T16:39:42.561Z"
   },
   {
    "duration": 22,
    "start_time": "2022-02-12T16:39:42.571Z"
   },
   {
    "duration": 15,
    "start_time": "2022-02-12T16:39:42.595Z"
   },
   {
    "duration": 10,
    "start_time": "2022-02-12T16:39:42.611Z"
   },
   {
    "duration": 380,
    "start_time": "2022-02-12T16:39:42.622Z"
   },
   {
    "duration": 197,
    "start_time": "2022-02-12T16:39:43.003Z"
   },
   {
    "duration": 76,
    "start_time": "2022-02-12T16:39:43.201Z"
   },
   {
    "duration": 36,
    "start_time": "2022-02-12T16:39:43.279Z"
   },
   {
    "duration": 42,
    "start_time": "2022-02-12T16:39:43.373Z"
   },
   {
    "duration": 8,
    "start_time": "2022-02-12T16:39:43.472Z"
   },
   {
    "duration": 10,
    "start_time": "2022-02-12T16:39:43.481Z"
   },
   {
    "duration": 9,
    "start_time": "2022-02-12T16:39:43.493Z"
   },
   {
    "duration": 95,
    "start_time": "2022-02-12T16:39:43.504Z"
   },
   {
    "duration": 7,
    "start_time": "2022-02-12T16:39:43.601Z"
   },
   {
    "duration": 84,
    "start_time": "2022-02-12T16:39:43.610Z"
   },
   {
    "duration": 1684,
    "start_time": "2022-02-12T16:39:43.696Z"
   },
   {
    "duration": 509,
    "start_time": "2022-02-12T16:39:45.382Z"
   },
   {
    "duration": 1598,
    "start_time": "2022-02-12T16:39:45.894Z"
   },
   {
    "duration": 778,
    "start_time": "2022-02-12T16:39:47.494Z"
   },
   {
    "duration": 712,
    "start_time": "2022-02-12T16:39:48.275Z"
   },
   {
    "duration": 697,
    "start_time": "2022-02-12T16:39:48.989Z"
   },
   {
    "duration": 3,
    "start_time": "2022-02-12T16:39:49.688Z"
   },
   {
    "duration": 1094,
    "start_time": "2022-02-12T20:11:45.963Z"
   },
   {
    "duration": 6,
    "start_time": "2022-02-12T20:11:52.819Z"
   },
   {
    "duration": 12,
    "start_time": "2022-02-12T20:11:52.827Z"
   },
   {
    "duration": 220,
    "start_time": "2022-02-12T20:11:52.841Z"
   },
   {
    "duration": 116,
    "start_time": "2022-02-12T20:11:53.063Z"
   },
   {
    "duration": 28,
    "start_time": "2022-02-12T20:11:53.181Z"
   },
   {
    "duration": 12,
    "start_time": "2022-02-12T20:11:53.210Z"
   },
   {
    "duration": 12,
    "start_time": "2022-02-12T20:11:53.223Z"
   },
   {
    "duration": 23,
    "start_time": "2022-02-12T20:11:53.238Z"
   },
   {
    "duration": 20,
    "start_time": "2022-02-12T20:11:53.263Z"
   },
   {
    "duration": 11,
    "start_time": "2022-02-12T20:11:53.285Z"
   },
   {
    "duration": 260,
    "start_time": "2022-02-12T20:11:53.297Z"
   },
   {
    "duration": 164,
    "start_time": "2022-02-12T20:11:53.559Z"
   },
   {
    "duration": 27,
    "start_time": "2022-02-12T20:11:53.725Z"
   },
   {
    "duration": 44,
    "start_time": "2022-02-12T20:11:53.753Z"
   },
   {
    "duration": 37,
    "start_time": "2022-02-12T20:11:53.799Z"
   },
   {
    "duration": 5,
    "start_time": "2022-02-12T20:11:53.838Z"
   },
   {
    "duration": 7,
    "start_time": "2022-02-12T20:11:53.844Z"
   },
   {
    "duration": 27,
    "start_time": "2022-02-12T20:11:53.852Z"
   },
   {
    "duration": 28,
    "start_time": "2022-02-12T20:11:53.880Z"
   },
   {
    "duration": 8,
    "start_time": "2022-02-12T20:11:53.910Z"
   },
   {
    "duration": 28,
    "start_time": "2022-02-12T20:11:53.919Z"
   },
   {
    "duration": 538,
    "start_time": "2022-02-12T20:11:53.949Z"
   },
   {
    "duration": 241,
    "start_time": "2022-02-12T20:11:54.491Z"
   },
   {
    "duration": 886,
    "start_time": "2022-02-12T20:11:54.734Z"
   },
   {
    "duration": 425,
    "start_time": "2022-02-12T20:11:55.621Z"
   },
   {
    "duration": 372,
    "start_time": "2022-02-12T20:11:56.048Z"
   },
   {
    "duration": 366,
    "start_time": "2022-02-12T20:11:56.421Z"
   },
   {
    "duration": 3,
    "start_time": "2022-02-12T20:11:56.788Z"
   },
   {
    "duration": 6,
    "start_time": "2022-02-12T20:18:55.711Z"
   },
   {
    "duration": 12,
    "start_time": "2022-02-12T20:18:55.720Z"
   },
   {
    "duration": 235,
    "start_time": "2022-02-12T20:18:55.734Z"
   },
   {
    "duration": 120,
    "start_time": "2022-02-12T20:18:55.971Z"
   },
   {
    "duration": 30,
    "start_time": "2022-02-12T20:18:56.093Z"
   },
   {
    "duration": 14,
    "start_time": "2022-02-12T20:18:56.124Z"
   },
   {
    "duration": 15,
    "start_time": "2022-02-12T20:18:56.139Z"
   },
   {
    "duration": 29,
    "start_time": "2022-02-12T20:18:56.157Z"
   },
   {
    "duration": 44,
    "start_time": "2022-02-12T20:18:56.188Z"
   },
   {
    "duration": 16,
    "start_time": "2022-02-12T20:18:56.234Z"
   },
   {
    "duration": 266,
    "start_time": "2022-02-12T20:18:56.252Z"
   },
   {
    "duration": 168,
    "start_time": "2022-02-12T20:18:56.520Z"
   },
   {
    "duration": 27,
    "start_time": "2022-02-12T20:18:56.690Z"
   },
   {
    "duration": 39,
    "start_time": "2022-02-12T20:18:56.719Z"
   },
   {
    "duration": 33,
    "start_time": "2022-02-12T20:18:56.760Z"
   },
   {
    "duration": 6,
    "start_time": "2022-02-12T20:18:56.818Z"
   },
   {
    "duration": 12,
    "start_time": "2022-02-12T20:18:56.826Z"
   },
   {
    "duration": 13,
    "start_time": "2022-02-12T20:18:56.840Z"
   },
   {
    "duration": 27,
    "start_time": "2022-02-12T20:18:56.854Z"
   },
   {
    "duration": 36,
    "start_time": "2022-02-12T20:18:56.882Z"
   },
   {
    "duration": 26,
    "start_time": "2022-02-12T20:18:56.920Z"
   },
   {
    "duration": 890,
    "start_time": "2022-02-12T20:18:56.948Z"
   },
   {
    "duration": 274,
    "start_time": "2022-02-12T20:18:57.842Z"
   },
   {
    "duration": 888,
    "start_time": "2022-02-12T20:18:58.118Z"
   },
   {
    "duration": 353,
    "start_time": "2022-02-12T20:18:59.008Z"
   },
   {
    "duration": 490,
    "start_time": "2022-02-12T20:18:59.363Z"
   },
   {
    "duration": 392,
    "start_time": "2022-02-12T20:18:59.855Z"
   },
   {
    "duration": 4,
    "start_time": "2022-02-12T20:19:00.249Z"
   },
   {
    "duration": 1013,
    "start_time": "2022-02-12T20:19:00.254Z"
   },
   {
    "duration": 126,
    "start_time": "2022-02-12T20:19:01.270Z"
   },
   {
    "duration": 1269,
    "start_time": "2022-02-12T20:19:01.397Z"
   },
   {
    "duration": 435,
    "start_time": "2022-02-12T20:19:02.668Z"
   },
   {
    "duration": 20,
    "start_time": "2022-02-12T20:19:03.106Z"
   },
   {
    "duration": 911,
    "start_time": "2022-02-12T20:19:03.128Z"
   },
   {
    "duration": 914,
    "start_time": "2022-02-12T20:19:04.049Z"
   },
   {
    "duration": 330,
    "start_time": "2022-02-12T20:19:04.965Z"
   },
   {
    "duration": 32,
    "start_time": "2022-02-12T20:19:05.297Z"
   },
   {
    "duration": 183,
    "start_time": "2022-02-12T20:19:05.330Z"
   },
   {
    "duration": 21,
    "start_time": "2022-02-12T20:19:05.515Z"
   },
   {
    "duration": 174,
    "start_time": "2022-02-12T20:19:05.538Z"
   },
   {
    "duration": 6,
    "start_time": "2022-02-13T07:09:02.233Z"
   },
   {
    "duration": 9,
    "start_time": "2022-02-13T07:09:02.242Z"
   },
   {
    "duration": 158,
    "start_time": "2022-02-13T07:09:02.254Z"
   },
   {
    "duration": 98,
    "start_time": "2022-02-13T07:09:02.414Z"
   },
   {
    "duration": 141,
    "start_time": "2022-02-13T07:09:02.514Z"
   },
   {
    "duration": 14,
    "start_time": "2022-02-13T07:09:02.657Z"
   },
   {
    "duration": 26,
    "start_time": "2022-02-13T07:09:02.672Z"
   },
   {
    "duration": 29,
    "start_time": "2022-02-13T07:09:02.701Z"
   },
   {
    "duration": 21,
    "start_time": "2022-02-13T07:09:02.733Z"
   },
   {
    "duration": 15,
    "start_time": "2022-02-13T07:09:02.755Z"
   },
   {
    "duration": 284,
    "start_time": "2022-02-13T07:09:02.772Z"
   },
   {
    "duration": 143,
    "start_time": "2022-02-13T07:09:03.058Z"
   },
   {
    "duration": 30,
    "start_time": "2022-02-13T07:09:03.202Z"
   },
   {
    "duration": 43,
    "start_time": "2022-02-13T07:09:03.234Z"
   },
   {
    "duration": 52,
    "start_time": "2022-02-13T07:09:03.279Z"
   },
   {
    "duration": 7,
    "start_time": "2022-02-13T07:09:03.333Z"
   },
   {
    "duration": 10,
    "start_time": "2022-02-13T07:09:03.341Z"
   },
   {
    "duration": 14,
    "start_time": "2022-02-13T07:09:03.352Z"
   },
   {
    "duration": 49,
    "start_time": "2022-02-13T07:09:03.368Z"
   },
   {
    "duration": 5,
    "start_time": "2022-02-13T07:09:03.419Z"
   },
   {
    "duration": 31,
    "start_time": "2022-02-13T07:09:03.426Z"
   },
   {
    "duration": 643,
    "start_time": "2022-02-13T07:09:03.459Z"
   },
   {
    "duration": 257,
    "start_time": "2022-02-13T07:09:04.106Z"
   },
   {
    "duration": 1074,
    "start_time": "2022-02-13T07:09:04.365Z"
   },
   {
    "duration": 411,
    "start_time": "2022-02-13T07:09:05.441Z"
   },
   {
    "duration": 447,
    "start_time": "2022-02-13T07:09:05.854Z"
   },
   {
    "duration": 705,
    "start_time": "2022-02-13T07:09:06.303Z"
   },
   {
    "duration": 4,
    "start_time": "2022-02-13T07:09:07.009Z"
   },
   {
    "duration": 1215,
    "start_time": "2022-02-13T07:09:07.014Z"
   },
   {
    "duration": 93,
    "start_time": "2022-02-13T07:09:08.231Z"
   },
   {
    "duration": 1397,
    "start_time": "2022-02-13T07:09:08.326Z"
   },
   {
    "duration": 315,
    "start_time": "2022-02-13T07:09:09.725Z"
   },
   {
    "duration": 9,
    "start_time": "2022-02-13T07:09:10.042Z"
   },
   {
    "duration": 911,
    "start_time": "2022-02-13T07:09:10.053Z"
   },
   {
    "duration": 1064,
    "start_time": "2022-02-13T07:09:10.965Z"
   },
   {
    "duration": 357,
    "start_time": "2022-02-13T07:09:12.031Z"
   },
   {
    "duration": 23,
    "start_time": "2022-02-13T07:09:12.398Z"
   },
   {
    "duration": 153,
    "start_time": "2022-02-13T07:09:12.423Z"
   },
   {
    "duration": 22,
    "start_time": "2022-02-13T07:09:12.578Z"
   },
   {
    "duration": 133,
    "start_time": "2022-02-13T07:09:12.602Z"
   },
   {
    "duration": 1218,
    "start_time": "2022-02-13T08:02:21.023Z"
   },
   {
    "duration": 7,
    "start_time": "2022-02-13T08:02:22.244Z"
   },
   {
    "duration": 231,
    "start_time": "2022-02-13T08:02:22.254Z"
   },
   {
    "duration": 137,
    "start_time": "2022-02-13T08:02:22.488Z"
   },
   {
    "duration": 30,
    "start_time": "2022-02-13T08:02:22.627Z"
   },
   {
    "duration": 13,
    "start_time": "2022-02-13T08:02:22.659Z"
   },
   {
    "duration": 30,
    "start_time": "2022-02-13T08:02:22.674Z"
   },
   {
    "duration": 29,
    "start_time": "2022-02-13T08:02:22.706Z"
   },
   {
    "duration": 20,
    "start_time": "2022-02-13T08:02:22.737Z"
   },
   {
    "duration": 39,
    "start_time": "2022-02-13T08:02:22.759Z"
   },
   {
    "duration": 253,
    "start_time": "2022-02-13T08:02:22.800Z"
   },
   {
    "duration": 186,
    "start_time": "2022-02-13T08:02:23.055Z"
   },
   {
    "duration": 27,
    "start_time": "2022-02-13T08:02:23.243Z"
   },
   {
    "duration": 42,
    "start_time": "2022-02-13T08:02:23.272Z"
   },
   {
    "duration": 33,
    "start_time": "2022-02-13T08:02:23.316Z"
   },
   {
    "duration": 6,
    "start_time": "2022-02-13T08:02:23.351Z"
   },
   {
    "duration": 8,
    "start_time": "2022-02-13T08:02:23.358Z"
   },
   {
    "duration": 33,
    "start_time": "2022-02-13T08:02:23.367Z"
   },
   {
    "duration": 26,
    "start_time": "2022-02-13T08:02:23.401Z"
   },
   {
    "duration": 6,
    "start_time": "2022-02-13T08:02:23.429Z"
   },
   {
    "duration": 35,
    "start_time": "2022-02-13T08:02:23.436Z"
   },
   {
    "duration": 647,
    "start_time": "2022-02-13T08:02:23.473Z"
   },
   {
    "duration": 269,
    "start_time": "2022-02-13T08:02:24.123Z"
   },
   {
    "duration": 1013,
    "start_time": "2022-02-13T08:02:24.394Z"
   },
   {
    "duration": 471,
    "start_time": "2022-02-13T08:02:25.409Z"
   },
   {
    "duration": 433,
    "start_time": "2022-02-13T08:02:25.882Z"
   },
   {
    "duration": 432,
    "start_time": "2022-02-13T08:02:26.317Z"
   },
   {
    "duration": 3,
    "start_time": "2022-02-13T08:02:26.751Z"
   },
   {
    "duration": 1549,
    "start_time": "2022-02-13T08:02:26.756Z"
   },
   {
    "duration": 128,
    "start_time": "2022-02-13T08:02:28.307Z"
   },
   {
    "duration": 1589,
    "start_time": "2022-02-13T08:02:28.437Z"
   },
   {
    "duration": 7,
    "start_time": "2022-02-13T08:03:51.971Z"
   },
   {
    "duration": 5,
    "start_time": "2022-02-13T08:03:57.089Z"
   },
   {
    "duration": 325,
    "start_time": "2022-02-13T08:04:43.064Z"
   },
   {
    "duration": 313,
    "start_time": "2022-02-13T08:07:44.235Z"
   },
   {
    "duration": 8,
    "start_time": "2022-02-13T08:36:28.034Z"
   },
   {
    "duration": 909,
    "start_time": "2022-02-13T08:36:32.693Z"
   },
   {
    "duration": 978,
    "start_time": "2022-02-13T08:36:38.386Z"
   },
   {
    "duration": 425,
    "start_time": "2022-02-13T08:36:59.954Z"
   },
   {
    "duration": 339,
    "start_time": "2022-02-13T08:37:26.059Z"
   },
   {
    "duration": 88,
    "start_time": "2022-02-13T08:37:53.854Z"
   },
   {
    "duration": 21,
    "start_time": "2022-02-13T08:38:01.400Z"
   },
   {
    "duration": 378,
    "start_time": "2022-02-13T08:38:34.383Z"
   },
   {
    "duration": 16,
    "start_time": "2022-02-13T08:38:41.655Z"
   },
   {
    "duration": 5,
    "start_time": "2022-02-13T08:38:51.053Z"
   },
   {
    "duration": 10,
    "start_time": "2022-02-13T08:38:51.059Z"
   },
   {
    "duration": 2179,
    "start_time": "2022-02-13T08:38:51.071Z"
   },
   {
    "duration": 135,
    "start_time": "2022-02-13T08:38:53.253Z"
   },
   {
    "duration": 109,
    "start_time": "2022-02-13T08:38:53.390Z"
   },
   {
    "duration": 27,
    "start_time": "2022-02-13T08:38:53.505Z"
   },
   {
    "duration": 33,
    "start_time": "2022-02-13T08:38:53.534Z"
   },
   {
    "duration": 49,
    "start_time": "2022-02-13T08:38:53.570Z"
   },
   {
    "duration": 20,
    "start_time": "2022-02-13T08:38:53.622Z"
   },
   {
    "duration": 41,
    "start_time": "2022-02-13T08:38:53.644Z"
   },
   {
    "duration": 305,
    "start_time": "2022-02-13T08:38:53.687Z"
   },
   {
    "duration": 1896,
    "start_time": "2022-02-13T08:38:53.993Z"
   },
   {
    "duration": 40,
    "start_time": "2022-02-13T08:38:55.891Z"
   },
   {
    "duration": 44,
    "start_time": "2022-02-13T08:38:55.933Z"
   },
   {
    "duration": 56,
    "start_time": "2022-02-13T08:38:55.978Z"
   },
   {
    "duration": 7,
    "start_time": "2022-02-13T08:38:56.036Z"
   },
   {
    "duration": 42,
    "start_time": "2022-02-13T08:38:56.044Z"
   },
   {
    "duration": 14,
    "start_time": "2022-02-13T08:38:56.087Z"
   },
   {
    "duration": 49,
    "start_time": "2022-02-13T08:38:56.104Z"
   },
   {
    "duration": 5,
    "start_time": "2022-02-13T08:38:56.154Z"
   },
   {
    "duration": 38,
    "start_time": "2022-02-13T08:38:56.161Z"
   },
   {
    "duration": 710,
    "start_time": "2022-02-13T08:38:56.201Z"
   },
   {
    "duration": 478,
    "start_time": "2022-02-13T08:38:56.915Z"
   },
   {
    "duration": 1130,
    "start_time": "2022-02-13T08:38:57.395Z"
   },
   {
    "duration": 431,
    "start_time": "2022-02-13T08:38:58.527Z"
   },
   {
    "duration": 545,
    "start_time": "2022-02-13T08:38:58.959Z"
   },
   {
    "duration": 456,
    "start_time": "2022-02-13T08:38:59.507Z"
   },
   {
    "duration": 5,
    "start_time": "2022-02-13T08:38:59.965Z"
   },
   {
    "duration": 1216,
    "start_time": "2022-02-13T08:38:59.971Z"
   },
   {
    "duration": 124,
    "start_time": "2022-02-13T08:39:01.189Z"
   },
   {
    "duration": 1500,
    "start_time": "2022-02-13T08:39:01.315Z"
   },
   {
    "duration": 433,
    "start_time": "2022-02-13T08:39:02.817Z"
   },
   {
    "duration": 8,
    "start_time": "2022-02-13T08:39:03.252Z"
   },
   {
    "duration": 1021,
    "start_time": "2022-02-13T08:39:03.262Z"
   },
   {
    "duration": 1025,
    "start_time": "2022-02-13T08:39:04.284Z"
   },
   {
    "duration": 12,
    "start_time": "2022-02-13T08:39:46.861Z"
   },
   {
    "duration": 15,
    "start_time": "2022-02-13T08:40:06.789Z"
   },
   {
    "duration": 16,
    "start_time": "2022-02-13T08:40:37.805Z"
   },
   {
    "duration": 342,
    "start_time": "2022-02-13T08:41:14.351Z"
   },
   {
    "duration": 356,
    "start_time": "2022-02-13T08:44:18.184Z"
   },
   {
    "duration": 340,
    "start_time": "2022-02-13T08:45:31.646Z"
   },
   {
    "duration": 331,
    "start_time": "2022-02-13T08:45:55.354Z"
   },
   {
    "duration": 448,
    "start_time": "2022-02-13T08:46:10.107Z"
   },
   {
    "duration": 348,
    "start_time": "2022-02-13T09:04:59.942Z"
   },
   {
    "duration": 380,
    "start_time": "2022-02-13T09:07:34.303Z"
   },
   {
    "duration": 298,
    "start_time": "2022-02-13T09:07:45.748Z"
   },
   {
    "duration": 692,
    "start_time": "2022-02-13T09:08:10.182Z"
   },
   {
    "duration": 427,
    "start_time": "2022-02-13T09:09:42.567Z"
   },
   {
    "duration": 404,
    "start_time": "2022-02-13T09:10:40.464Z"
   },
   {
    "duration": 411,
    "start_time": "2022-02-13T09:11:05.337Z"
   },
   {
    "duration": 681,
    "start_time": "2022-02-13T09:12:49.993Z"
   },
   {
    "duration": 695,
    "start_time": "2022-02-13T09:13:14.545Z"
   },
   {
    "duration": 740,
    "start_time": "2022-02-13T09:14:55.997Z"
   },
   {
    "duration": 1204,
    "start_time": "2022-02-13T09:52:25.055Z"
   },
   {
    "duration": 6,
    "start_time": "2022-02-13T09:52:26.261Z"
   },
   {
    "duration": 246,
    "start_time": "2022-02-13T09:52:26.269Z"
   },
   {
    "duration": 124,
    "start_time": "2022-02-13T09:52:26.517Z"
   },
   {
    "duration": 30,
    "start_time": "2022-02-13T09:52:26.643Z"
   },
   {
    "duration": 14,
    "start_time": "2022-02-13T09:52:26.675Z"
   },
   {
    "duration": 19,
    "start_time": "2022-02-13T09:52:26.691Z"
   },
   {
    "duration": 28,
    "start_time": "2022-02-13T09:52:26.711Z"
   },
   {
    "duration": 20,
    "start_time": "2022-02-13T09:52:26.742Z"
   },
   {
    "duration": 32,
    "start_time": "2022-02-13T09:52:26.765Z"
   },
   {
    "duration": 276,
    "start_time": "2022-02-13T09:52:26.799Z"
   },
   {
    "duration": 176,
    "start_time": "2022-02-13T09:52:27.077Z"
   },
   {
    "duration": 27,
    "start_time": "2022-02-13T09:52:27.255Z"
   },
   {
    "duration": 42,
    "start_time": "2022-02-13T09:52:27.284Z"
   },
   {
    "duration": 32,
    "start_time": "2022-02-13T09:52:27.328Z"
   },
   {
    "duration": 6,
    "start_time": "2022-02-13T09:52:27.362Z"
   },
   {
    "duration": 8,
    "start_time": "2022-02-13T09:52:27.370Z"
   },
   {
    "duration": 24,
    "start_time": "2022-02-13T09:52:27.380Z"
   },
   {
    "duration": 26,
    "start_time": "2022-02-13T09:52:27.406Z"
   },
   {
    "duration": 6,
    "start_time": "2022-02-13T09:52:27.433Z"
   },
   {
    "duration": 37,
    "start_time": "2022-02-13T09:52:27.441Z"
   },
   {
    "duration": 649,
    "start_time": "2022-02-13T09:52:27.480Z"
   },
   {
    "duration": 256,
    "start_time": "2022-02-13T09:52:28.131Z"
   },
   {
    "duration": 1055,
    "start_time": "2022-02-13T09:52:28.389Z"
   },
   {
    "duration": 485,
    "start_time": "2022-02-13T09:52:29.446Z"
   },
   {
    "duration": 455,
    "start_time": "2022-02-13T09:52:29.933Z"
   },
   {
    "duration": 449,
    "start_time": "2022-02-13T09:52:30.392Z"
   },
   {
    "duration": 4,
    "start_time": "2022-02-13T09:52:30.843Z"
   },
   {
    "duration": 1482,
    "start_time": "2022-02-13T09:52:30.848Z"
   },
   {
    "duration": 126,
    "start_time": "2022-02-13T09:52:32.332Z"
   },
   {
    "duration": 1657,
    "start_time": "2022-02-13T09:52:32.460Z"
   },
   {
    "duration": 329,
    "start_time": "2022-02-13T09:52:34.119Z"
   },
   {
    "duration": 8,
    "start_time": "2022-02-13T09:52:34.450Z"
   },
   {
    "duration": 925,
    "start_time": "2022-02-13T09:52:34.460Z"
   },
   {
    "duration": 955,
    "start_time": "2022-02-13T09:52:35.387Z"
   },
   {
    "duration": 1106,
    "start_time": "2022-02-13T09:52:36.344Z"
   },
   {
    "duration": 2197,
    "start_time": "2022-02-13T09:52:35.255Z"
   },
   {
    "duration": 2193,
    "start_time": "2022-02-13T09:52:35.260Z"
   },
   {
    "duration": 2191,
    "start_time": "2022-02-13T09:52:35.263Z"
   },
   {
    "duration": 2190,
    "start_time": "2022-02-13T09:52:35.265Z"
   },
   {
    "duration": 672,
    "start_time": "2022-02-13T09:58:15.357Z"
   },
   {
    "duration": 1267,
    "start_time": "2022-02-13T09:59:51.604Z"
   },
   {
    "duration": 7,
    "start_time": "2022-02-13T09:59:52.873Z"
   },
   {
    "duration": 250,
    "start_time": "2022-02-13T09:59:52.883Z"
   },
   {
    "duration": 126,
    "start_time": "2022-02-13T09:59:53.135Z"
   },
   {
    "duration": 30,
    "start_time": "2022-02-13T09:59:53.264Z"
   },
   {
    "duration": 13,
    "start_time": "2022-02-13T09:59:53.296Z"
   },
   {
    "duration": 26,
    "start_time": "2022-02-13T09:59:53.311Z"
   },
   {
    "duration": 35,
    "start_time": "2022-02-13T09:59:53.339Z"
   },
   {
    "duration": 27,
    "start_time": "2022-02-13T09:59:53.377Z"
   },
   {
    "duration": 27,
    "start_time": "2022-02-13T09:59:53.408Z"
   },
   {
    "duration": 268,
    "start_time": "2022-02-13T09:59:53.437Z"
   },
   {
    "duration": 169,
    "start_time": "2022-02-13T09:59:53.707Z"
   },
   {
    "duration": 29,
    "start_time": "2022-02-13T09:59:53.878Z"
   },
   {
    "duration": 47,
    "start_time": "2022-02-13T09:59:53.909Z"
   },
   {
    "duration": 53,
    "start_time": "2022-02-13T09:59:53.958Z"
   },
   {
    "duration": 6,
    "start_time": "2022-02-13T09:59:54.013Z"
   },
   {
    "duration": 9,
    "start_time": "2022-02-13T09:59:54.021Z"
   },
   {
    "duration": 20,
    "start_time": "2022-02-13T09:59:54.032Z"
   },
   {
    "duration": 45,
    "start_time": "2022-02-13T09:59:54.054Z"
   },
   {
    "duration": 7,
    "start_time": "2022-02-13T09:59:54.101Z"
   },
   {
    "duration": 48,
    "start_time": "2022-02-13T09:59:54.109Z"
   },
   {
    "duration": 636,
    "start_time": "2022-02-13T09:59:54.159Z"
   },
   {
    "duration": 270,
    "start_time": "2022-02-13T09:59:54.796Z"
   },
   {
    "duration": 1072,
    "start_time": "2022-02-13T09:59:55.068Z"
   },
   {
    "duration": 481,
    "start_time": "2022-02-13T09:59:56.142Z"
   },
   {
    "duration": 449,
    "start_time": "2022-02-13T09:59:56.625Z"
   },
   {
    "duration": 436,
    "start_time": "2022-02-13T09:59:57.078Z"
   },
   {
    "duration": 3,
    "start_time": "2022-02-13T09:59:57.516Z"
   },
   {
    "duration": 1571,
    "start_time": "2022-02-13T09:59:57.521Z"
   },
   {
    "duration": 130,
    "start_time": "2022-02-13T09:59:59.094Z"
   },
   {
    "duration": 1629,
    "start_time": "2022-02-13T09:59:59.226Z"
   },
   {
    "duration": 326,
    "start_time": "2022-02-13T10:00:00.856Z"
   },
   {
    "duration": 15,
    "start_time": "2022-02-13T10:00:01.184Z"
   },
   {
    "duration": 999,
    "start_time": "2022-02-13T10:00:01.201Z"
   },
   {
    "duration": 1037,
    "start_time": "2022-02-13T10:00:02.203Z"
   },
   {
    "duration": 780,
    "start_time": "2022-02-13T10:00:03.242Z"
   },
   {
    "duration": 22,
    "start_time": "2022-02-13T10:00:04.024Z"
   },
   {
    "duration": 255,
    "start_time": "2022-02-13T10:00:04.049Z"
   },
   {
    "duration": 23,
    "start_time": "2022-02-13T10:00:04.306Z"
   },
   {
    "duration": 189,
    "start_time": "2022-02-13T10:00:04.331Z"
   }
  ],
  "kernelspec": {
   "display_name": "Python 3 (ipykernel)",
   "language": "python",
   "name": "python3"
  },
  "language_info": {
   "codemirror_mode": {
    "name": "ipython",
    "version": 3
   },
   "file_extension": ".py",
   "mimetype": "text/x-python",
   "name": "python",
   "nbconvert_exporter": "python",
   "pygments_lexer": "ipython3",
   "version": "3.9.10"
  },
  "toc": {
   "base_numbering": "1",
   "nav_menu": {},
   "number_sections": true,
   "sideBar": true,
   "skip_h1_title": true,
   "title_cell": "Содержание",
   "title_sidebar": "Contents",
   "toc_cell": true,
   "toc_position": {
    "height": "calc(100% - 180px)",
    "left": "10px",
    "top": "150px",
    "width": "323px"
   },
   "toc_section_display": true,
   "toc_window_display": true
  }
 },
 "nbformat": 4,
 "nbformat_minor": 2
}
