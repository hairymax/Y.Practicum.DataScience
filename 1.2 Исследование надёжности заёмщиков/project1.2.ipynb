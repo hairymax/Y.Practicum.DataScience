{
 "cells": [
  {
   "cell_type": "markdown",
   "metadata": {},
   "source": [
    "# Исследование надёжности заёмщиков\n",
    "\n",
    "Заказчик — кредитный отдел банка. Нужно разобраться, влияет ли семейное положение и количество детей клиента на факт погашения кредита в срок. Входные данные от банка — статистика о платёжеспособности клиентов.\n",
    "\n",
    "Результаты исследования будут учтены при построении модели **кредитного скоринга** — специальной системы, которая оценивает способность потенциального заёмщика вернуть кредит банку.\n"
   ]
  },
  {
   "cell_type": "markdown",
   "metadata": {
    "toc": true
   },
   "source": [
    "<h1>Содержание<span class=\"tocSkip\"></span></h1>\n",
    "<div class=\"toc\"><ul class=\"toc-item\"><li><span><a href=\"#Шаг-1.-Изучение-общей-информации\" data-toc-modified-id=\"Шаг-1.-Изучение-общей-информации-1\"><span class=\"toc-item-num\">1&nbsp;&nbsp;</span>Шаг 1. Изучение общей информации</a></span></li><li><span><a href=\"#Шаг-2.-Предобработка-данных\" data-toc-modified-id=\"Шаг-2.-Предобработка-данных-2\"><span class=\"toc-item-num\">2&nbsp;&nbsp;</span>Шаг 2. Предобработка данных</a></span><ul class=\"toc-item\"><li><span><a href=\"#Обработка-пропусков\" data-toc-modified-id=\"Обработка-пропусков-2.1\"><span class=\"toc-item-num\">2.1&nbsp;&nbsp;</span>Обработка пропусков</a></span></li><li><span><a href=\"#Замена-типа-данных\" data-toc-modified-id=\"Замена-типа-данных-2.2\"><span class=\"toc-item-num\">2.2&nbsp;&nbsp;</span>Замена типа данных</a></span></li><li><span><a href=\"#Обработка-дубликатов\" data-toc-modified-id=\"Обработка-дубликатов-2.3\"><span class=\"toc-item-num\">2.3&nbsp;&nbsp;</span>Обработка дубликатов</a></span></li><li><span><a href=\"#Категоризация\" data-toc-modified-id=\"Категоризация-2.4\"><span class=\"toc-item-num\">2.4&nbsp;&nbsp;</span>Категоризация</a></span><ul class=\"toc-item\"><li><span><a href=\"#Категории-целей-кредита\" data-toc-modified-id=\"Категории-целей-кредита-2.4.1\"><span class=\"toc-item-num\">2.4.1&nbsp;&nbsp;</span>Категории целей кредита</a></span></li><li><span><a href=\"#Категории-уровней-дохода\" data-toc-modified-id=\"Категории-уровней-дохода-2.4.2\"><span class=\"toc-item-num\">2.4.2&nbsp;&nbsp;</span>Категории уровней дохода</a></span></li></ul></li></ul></li><li><span><a href=\"#Шаг-3.-Исследование-зависимостей\" data-toc-modified-id=\"Шаг-3.-Исследование-зависимостей-3\"><span class=\"toc-item-num\">3&nbsp;&nbsp;</span>Шаг 3. Исследование зависимостей</a></span><ul class=\"toc-item\"><li><ul class=\"toc-item\"><li><span><a href=\"#Есть-ли-зависимость-между-наличием-детей-и-возвратом-кредита-в-срок?\" data-toc-modified-id=\"Есть-ли-зависимость-между-наличием-детей-и-возвратом-кредита-в-срок?-3.0.1\"><span class=\"toc-item-num\">3.0.1&nbsp;&nbsp;</span>Есть ли зависимость между наличием детей и возвратом кредита в срок?</a></span></li><li><span><a href=\"#Есть-ли-зависимость-между-семейным-положением-и-возвратом-кредита-в-срок?\" data-toc-modified-id=\"Есть-ли-зависимость-между-семейным-положением-и-возвратом-кредита-в-срок?-3.0.2\"><span class=\"toc-item-num\">3.0.2&nbsp;&nbsp;</span>Есть ли зависимость между семейным положением и возвратом кредита в срок?</a></span></li><li><span><a href=\"#Есть-ли-зависимость-между-уровнем-дохода-и-возвратом-кредита-в-срок?\" data-toc-modified-id=\"Есть-ли-зависимость-между-уровнем-дохода-и-возвратом-кредита-в-срок?-3.0.3\"><span class=\"toc-item-num\">3.0.3&nbsp;&nbsp;</span>Есть ли зависимость между уровнем дохода и возвратом кредита в срок?</a></span></li><li><span><a href=\"#Как-разные-цели-кредита-влияют-на-его-возврат-в-срок?\" data-toc-modified-id=\"Как-разные-цели-кредита-влияют-на-его-возврат-в-срок?-3.0.4\"><span class=\"toc-item-num\">3.0.4&nbsp;&nbsp;</span>Как разные цели кредита влияют на его возврат в срок?</a></span></li></ul></li></ul></li><li><span><a href=\"#Шаг-4.-Общий-вывод\" data-toc-modified-id=\"Шаг-4.-Общий-вывод-4\"><span class=\"toc-item-num\">4&nbsp;&nbsp;</span>Шаг 4. Общий вывод</a></span></li></ul></div>"
   ]
  },
  {
   "cell_type": "code",
   "execution_count": 1,
   "metadata": {},
   "outputs": [],
   "source": [
    "from IPython.display import display\n",
    "import pandas as pd\n",
    "from pymystem3 import Mystem"
   ]
  },
  {
   "cell_type": "markdown",
   "metadata": {},
   "source": [
    "## Шаг 1. Изучение общей информации"
   ]
  },
  {
   "cell_type": "code",
   "execution_count": 2,
   "metadata": {},
   "outputs": [
    {
     "name": "stdout",
     "output_type": "stream",
     "text": [
      "<class 'pandas.core.frame.DataFrame'>\n",
      "RangeIndex: 21525 entries, 0 to 21524\n",
      "Data columns (total 12 columns):\n",
      "children            21525 non-null int64\n",
      "days_employed       19351 non-null float64\n",
      "dob_years           21525 non-null int64\n",
      "education           21525 non-null object\n",
      "education_id        21525 non-null int64\n",
      "family_status       21525 non-null object\n",
      "family_status_id    21525 non-null int64\n",
      "gender              21525 non-null object\n",
      "income_type         21525 non-null object\n",
      "debt                21525 non-null int64\n",
      "total_income        19351 non-null float64\n",
      "purpose             21525 non-null object\n",
      "dtypes: float64(2), int64(5), object(5)\n",
      "memory usage: 2.0+ MB\n"
     ]
    }
   ],
   "source": [
    "df = pd.read_csv('../datasets/data.csv')\n",
    "df.info()"
   ]
  },
  {
   "cell_type": "markdown",
   "metadata": {},
   "source": [
    "Выведем на экран часть таблицы, чтобы ознакомиться с данными"
   ]
  },
  {
   "cell_type": "code",
   "execution_count": 3,
   "metadata": {
    "scrolled": true
   },
   "outputs": [
    {
     "data": {
      "text/html": [
       "<div>\n",
       "<style scoped>\n",
       "    .dataframe tbody tr th:only-of-type {\n",
       "        vertical-align: middle;\n",
       "    }\n",
       "\n",
       "    .dataframe tbody tr th {\n",
       "        vertical-align: top;\n",
       "    }\n",
       "\n",
       "    .dataframe thead th {\n",
       "        text-align: right;\n",
       "    }\n",
       "</style>\n",
       "<table border=\"1\" class=\"dataframe\">\n",
       "  <thead>\n",
       "    <tr style=\"text-align: right;\">\n",
       "      <th></th>\n",
       "      <th>children</th>\n",
       "      <th>days_employed</th>\n",
       "      <th>dob_years</th>\n",
       "      <th>education</th>\n",
       "      <th>education_id</th>\n",
       "      <th>family_status</th>\n",
       "      <th>family_status_id</th>\n",
       "      <th>gender</th>\n",
       "      <th>income_type</th>\n",
       "      <th>debt</th>\n",
       "      <th>total_income</th>\n",
       "      <th>purpose</th>\n",
       "    </tr>\n",
       "  </thead>\n",
       "  <tbody>\n",
       "    <tr>\n",
       "      <td>0</td>\n",
       "      <td>1</td>\n",
       "      <td>-8437.673028</td>\n",
       "      <td>42</td>\n",
       "      <td>высшее</td>\n",
       "      <td>0</td>\n",
       "      <td>женат / замужем</td>\n",
       "      <td>0</td>\n",
       "      <td>F</td>\n",
       "      <td>сотрудник</td>\n",
       "      <td>0</td>\n",
       "      <td>253875.639453</td>\n",
       "      <td>покупка жилья</td>\n",
       "    </tr>\n",
       "    <tr>\n",
       "      <td>1</td>\n",
       "      <td>1</td>\n",
       "      <td>-4024.803754</td>\n",
       "      <td>36</td>\n",
       "      <td>среднее</td>\n",
       "      <td>1</td>\n",
       "      <td>женат / замужем</td>\n",
       "      <td>0</td>\n",
       "      <td>F</td>\n",
       "      <td>сотрудник</td>\n",
       "      <td>0</td>\n",
       "      <td>112080.014102</td>\n",
       "      <td>приобретение автомобиля</td>\n",
       "    </tr>\n",
       "    <tr>\n",
       "      <td>2</td>\n",
       "      <td>0</td>\n",
       "      <td>-5623.422610</td>\n",
       "      <td>33</td>\n",
       "      <td>Среднее</td>\n",
       "      <td>1</td>\n",
       "      <td>женат / замужем</td>\n",
       "      <td>0</td>\n",
       "      <td>M</td>\n",
       "      <td>сотрудник</td>\n",
       "      <td>0</td>\n",
       "      <td>145885.952297</td>\n",
       "      <td>покупка жилья</td>\n",
       "    </tr>\n",
       "    <tr>\n",
       "      <td>3</td>\n",
       "      <td>3</td>\n",
       "      <td>-4124.747207</td>\n",
       "      <td>32</td>\n",
       "      <td>среднее</td>\n",
       "      <td>1</td>\n",
       "      <td>женат / замужем</td>\n",
       "      <td>0</td>\n",
       "      <td>M</td>\n",
       "      <td>сотрудник</td>\n",
       "      <td>0</td>\n",
       "      <td>267628.550329</td>\n",
       "      <td>дополнительное образование</td>\n",
       "    </tr>\n",
       "    <tr>\n",
       "      <td>4</td>\n",
       "      <td>0</td>\n",
       "      <td>340266.072047</td>\n",
       "      <td>53</td>\n",
       "      <td>среднее</td>\n",
       "      <td>1</td>\n",
       "      <td>гражданский брак</td>\n",
       "      <td>1</td>\n",
       "      <td>F</td>\n",
       "      <td>пенсионер</td>\n",
       "      <td>0</td>\n",
       "      <td>158616.077870</td>\n",
       "      <td>сыграть свадьбу</td>\n",
       "    </tr>\n",
       "    <tr>\n",
       "      <td>5</td>\n",
       "      <td>0</td>\n",
       "      <td>-926.185831</td>\n",
       "      <td>27</td>\n",
       "      <td>высшее</td>\n",
       "      <td>0</td>\n",
       "      <td>гражданский брак</td>\n",
       "      <td>1</td>\n",
       "      <td>M</td>\n",
       "      <td>компаньон</td>\n",
       "      <td>0</td>\n",
       "      <td>255763.565419</td>\n",
       "      <td>покупка жилья</td>\n",
       "    </tr>\n",
       "    <tr>\n",
       "      <td>6</td>\n",
       "      <td>0</td>\n",
       "      <td>-2879.202052</td>\n",
       "      <td>43</td>\n",
       "      <td>высшее</td>\n",
       "      <td>0</td>\n",
       "      <td>женат / замужем</td>\n",
       "      <td>0</td>\n",
       "      <td>F</td>\n",
       "      <td>компаньон</td>\n",
       "      <td>0</td>\n",
       "      <td>240525.971920</td>\n",
       "      <td>операции с жильем</td>\n",
       "    </tr>\n",
       "    <tr>\n",
       "      <td>7</td>\n",
       "      <td>0</td>\n",
       "      <td>-152.779569</td>\n",
       "      <td>50</td>\n",
       "      <td>СРЕДНЕЕ</td>\n",
       "      <td>1</td>\n",
       "      <td>женат / замужем</td>\n",
       "      <td>0</td>\n",
       "      <td>M</td>\n",
       "      <td>сотрудник</td>\n",
       "      <td>0</td>\n",
       "      <td>135823.934197</td>\n",
       "      <td>образование</td>\n",
       "    </tr>\n",
       "    <tr>\n",
       "      <td>8</td>\n",
       "      <td>2</td>\n",
       "      <td>-6929.865299</td>\n",
       "      <td>35</td>\n",
       "      <td>ВЫСШЕЕ</td>\n",
       "      <td>0</td>\n",
       "      <td>гражданский брак</td>\n",
       "      <td>1</td>\n",
       "      <td>F</td>\n",
       "      <td>сотрудник</td>\n",
       "      <td>0</td>\n",
       "      <td>95856.832424</td>\n",
       "      <td>на проведение свадьбы</td>\n",
       "    </tr>\n",
       "    <tr>\n",
       "      <td>9</td>\n",
       "      <td>0</td>\n",
       "      <td>-2188.756445</td>\n",
       "      <td>41</td>\n",
       "      <td>среднее</td>\n",
       "      <td>1</td>\n",
       "      <td>женат / замужем</td>\n",
       "      <td>0</td>\n",
       "      <td>M</td>\n",
       "      <td>сотрудник</td>\n",
       "      <td>0</td>\n",
       "      <td>144425.938277</td>\n",
       "      <td>покупка жилья для семьи</td>\n",
       "    </tr>\n",
       "  </tbody>\n",
       "</table>\n",
       "</div>"
      ],
      "text/plain": [
       "   children  days_employed  dob_years education  education_id  \\\n",
       "0         1   -8437.673028         42    высшее             0   \n",
       "1         1   -4024.803754         36   среднее             1   \n",
       "2         0   -5623.422610         33   Среднее             1   \n",
       "3         3   -4124.747207         32   среднее             1   \n",
       "4         0  340266.072047         53   среднее             1   \n",
       "5         0    -926.185831         27    высшее             0   \n",
       "6         0   -2879.202052         43    высшее             0   \n",
       "7         0    -152.779569         50   СРЕДНЕЕ             1   \n",
       "8         2   -6929.865299         35    ВЫСШЕЕ             0   \n",
       "9         0   -2188.756445         41   среднее             1   \n",
       "\n",
       "      family_status  family_status_id gender income_type  debt   total_income  \\\n",
       "0   женат / замужем                 0      F   сотрудник     0  253875.639453   \n",
       "1   женат / замужем                 0      F   сотрудник     0  112080.014102   \n",
       "2   женат / замужем                 0      M   сотрудник     0  145885.952297   \n",
       "3   женат / замужем                 0      M   сотрудник     0  267628.550329   \n",
       "4  гражданский брак                 1      F   пенсионер     0  158616.077870   \n",
       "5  гражданский брак                 1      M   компаньон     0  255763.565419   \n",
       "6   женат / замужем                 0      F   компаньон     0  240525.971920   \n",
       "7   женат / замужем                 0      M   сотрудник     0  135823.934197   \n",
       "8  гражданский брак                 1      F   сотрудник     0   95856.832424   \n",
       "9   женат / замужем                 0      M   сотрудник     0  144425.938277   \n",
       "\n",
       "                      purpose  \n",
       "0               покупка жилья  \n",
       "1     приобретение автомобиля  \n",
       "2               покупка жилья  \n",
       "3  дополнительное образование  \n",
       "4             сыграть свадьбу  \n",
       "5               покупка жилья  \n",
       "6           операции с жильем  \n",
       "7                 образование  \n",
       "8       на проведение свадьбы  \n",
       "9     покупка жилья для семьи  "
      ]
     },
     "execution_count": 3,
     "metadata": {},
     "output_type": "execute_result"
    }
   ],
   "source": [
    "df.head(10)"
   ]
  },
  {
   "cell_type": "markdown",
   "metadata": {},
   "source": [
    "Посмотрим как обстоят дела с числовыми столбцами. Сгенерируем описатльную статистику командой `.describe()`"
   ]
  },
  {
   "cell_type": "code",
   "execution_count": 4,
   "metadata": {},
   "outputs": [
    {
     "data": {
      "text/html": [
       "<div>\n",
       "<style scoped>\n",
       "    .dataframe tbody tr th:only-of-type {\n",
       "        vertical-align: middle;\n",
       "    }\n",
       "\n",
       "    .dataframe tbody tr th {\n",
       "        vertical-align: top;\n",
       "    }\n",
       "\n",
       "    .dataframe thead th {\n",
       "        text-align: right;\n",
       "    }\n",
       "</style>\n",
       "<table border=\"1\" class=\"dataframe\">\n",
       "  <thead>\n",
       "    <tr style=\"text-align: right;\">\n",
       "      <th></th>\n",
       "      <th>children</th>\n",
       "      <th>days_employed</th>\n",
       "      <th>dob_years</th>\n",
       "      <th>education_id</th>\n",
       "      <th>family_status_id</th>\n",
       "      <th>debt</th>\n",
       "      <th>total_income</th>\n",
       "    </tr>\n",
       "  </thead>\n",
       "  <tbody>\n",
       "    <tr>\n",
       "      <td>count</td>\n",
       "      <td>21525.000000</td>\n",
       "      <td>19351.000000</td>\n",
       "      <td>21525.000000</td>\n",
       "      <td>21525.000000</td>\n",
       "      <td>21525.000000</td>\n",
       "      <td>21525.000000</td>\n",
       "      <td>1.935100e+04</td>\n",
       "    </tr>\n",
       "    <tr>\n",
       "      <td>mean</td>\n",
       "      <td>0.538908</td>\n",
       "      <td>63046.497661</td>\n",
       "      <td>43.293380</td>\n",
       "      <td>0.817236</td>\n",
       "      <td>0.972544</td>\n",
       "      <td>0.080883</td>\n",
       "      <td>1.674223e+05</td>\n",
       "    </tr>\n",
       "    <tr>\n",
       "      <td>std</td>\n",
       "      <td>1.381587</td>\n",
       "      <td>140827.311974</td>\n",
       "      <td>12.574584</td>\n",
       "      <td>0.548138</td>\n",
       "      <td>1.420324</td>\n",
       "      <td>0.272661</td>\n",
       "      <td>1.029716e+05</td>\n",
       "    </tr>\n",
       "    <tr>\n",
       "      <td>min</td>\n",
       "      <td>-1.000000</td>\n",
       "      <td>-18388.949901</td>\n",
       "      <td>0.000000</td>\n",
       "      <td>0.000000</td>\n",
       "      <td>0.000000</td>\n",
       "      <td>0.000000</td>\n",
       "      <td>2.066726e+04</td>\n",
       "    </tr>\n",
       "    <tr>\n",
       "      <td>25%</td>\n",
       "      <td>0.000000</td>\n",
       "      <td>-2747.423625</td>\n",
       "      <td>33.000000</td>\n",
       "      <td>1.000000</td>\n",
       "      <td>0.000000</td>\n",
       "      <td>0.000000</td>\n",
       "      <td>1.030532e+05</td>\n",
       "    </tr>\n",
       "    <tr>\n",
       "      <td>50%</td>\n",
       "      <td>0.000000</td>\n",
       "      <td>-1203.369529</td>\n",
       "      <td>42.000000</td>\n",
       "      <td>1.000000</td>\n",
       "      <td>0.000000</td>\n",
       "      <td>0.000000</td>\n",
       "      <td>1.450179e+05</td>\n",
       "    </tr>\n",
       "    <tr>\n",
       "      <td>75%</td>\n",
       "      <td>1.000000</td>\n",
       "      <td>-291.095954</td>\n",
       "      <td>53.000000</td>\n",
       "      <td>1.000000</td>\n",
       "      <td>1.000000</td>\n",
       "      <td>0.000000</td>\n",
       "      <td>2.034351e+05</td>\n",
       "    </tr>\n",
       "    <tr>\n",
       "      <td>max</td>\n",
       "      <td>20.000000</td>\n",
       "      <td>401755.400475</td>\n",
       "      <td>75.000000</td>\n",
       "      <td>4.000000</td>\n",
       "      <td>4.000000</td>\n",
       "      <td>1.000000</td>\n",
       "      <td>2.265604e+06</td>\n",
       "    </tr>\n",
       "  </tbody>\n",
       "</table>\n",
       "</div>"
      ],
      "text/plain": [
       "           children  days_employed     dob_years  education_id  \\\n",
       "count  21525.000000   19351.000000  21525.000000  21525.000000   \n",
       "mean       0.538908   63046.497661     43.293380      0.817236   \n",
       "std        1.381587  140827.311974     12.574584      0.548138   \n",
       "min       -1.000000  -18388.949901      0.000000      0.000000   \n",
       "25%        0.000000   -2747.423625     33.000000      1.000000   \n",
       "50%        0.000000   -1203.369529     42.000000      1.000000   \n",
       "75%        1.000000    -291.095954     53.000000      1.000000   \n",
       "max       20.000000  401755.400475     75.000000      4.000000   \n",
       "\n",
       "       family_status_id          debt  total_income  \n",
       "count      21525.000000  21525.000000  1.935100e+04  \n",
       "mean           0.972544      0.080883  1.674223e+05  \n",
       "std            1.420324      0.272661  1.029716e+05  \n",
       "min            0.000000      0.000000  2.066726e+04  \n",
       "25%            0.000000      0.000000  1.030532e+05  \n",
       "50%            0.000000      0.000000  1.450179e+05  \n",
       "75%            1.000000      0.000000  2.034351e+05  \n",
       "max            4.000000      1.000000  2.265604e+06  "
      ]
     },
     "execution_count": 4,
     "metadata": {},
     "output_type": "execute_result"
    }
   ],
   "source": [
    "df.describe()"
   ]
  },
  {
   "cell_type": "markdown",
   "metadata": {},
   "source": [
    "**Вывод**"
   ]
  },
  {
   "cell_type": "markdown",
   "metadata": {},
   "source": [
    "1. Более чем в 2 тысячах случаев пропущены значения `days_employed` и `total_income`, причем количество пропусков одинаково. Скорее всего начиличие пропусков в этих столбцах взаимосвязано.\n",
    "2. Из описательной статистики видим, что в поле возраста `dob_years` есть значения равные 0. Очевидно, это пропуски.\n",
    "3. Оттуда же замечаем, что есть клиенты, у которых указано отрицатальное количество детей `children` равное -1 и 20. Проанализируем позже\n",
    "4. Помимо наличия пропусков, видна ещё одна проблема в столбце `days_employed`: часть значений положительные, часть отрицательные. Причём значения с `+` и `-` отличаются более, чем на порядок, это, очевидно, не опечатка\n",
    "5. Видим, что в столбце `education` используются разные регистры, надо привести к единому"
   ]
  },
  {
   "cell_type": "markdown",
   "metadata": {},
   "source": [
    "## Шаг 2. Предобработка данных"
   ]
  },
  {
   "cell_type": "markdown",
   "metadata": {},
   "source": [
    "### Обработка пропусков"
   ]
  },
  {
   "cell_type": "markdown",
   "metadata": {},
   "source": [
    "Сначала удалим явные дубликаты. Их удаляем с помощью метода `.drop_duplicates()`, поскольку он удаляет полностью дублирующиеся строки оставляет только одну из всех повторяющихся. Но сначала приведём поле образование к единому регистру\n",
    "\n",
    "Наличие таких дубликатов может быть обусловлено технической ошибкой во время экспорта данных или повторным их внесением оператором."
   ]
  },
  {
   "cell_type": "markdown",
   "metadata": {},
   "source": [
    "<a id='fighting_the_register'> </a>\n",
    "\n",
    "При открытии таблицы в глаза бросились одинаковые по смыслу значения поля `education`, написанные в разном регистре.\n",
    "Посмотрим, какие значения встречаются в таблице, и соотвествует ли среднее по этим значениям их `id`. Сделаем аналогичную проверку для поля `family_status`"
   ]
  },
  {
   "cell_type": "code",
   "execution_count": 5,
   "metadata": {},
   "outputs": [
    {
     "name": "stdout",
     "output_type": "stream",
     "text": [
      "education\n",
      "ВЫСШЕЕ                 0\n",
      "Высшее                 0\n",
      "НАЧАЛЬНОЕ              3\n",
      "НЕОКОНЧЕННОЕ ВЫСШЕЕ    2\n",
      "Начальное              3\n",
      "Неоконченное высшее    2\n",
      "СРЕДНЕЕ                1\n",
      "Среднее                1\n",
      "УЧЕНАЯ СТЕПЕНЬ         4\n",
      "Ученая степень         4\n",
      "высшее                 0\n",
      "начальное              3\n",
      "неоконченное высшее    2\n",
      "среднее                1\n",
      "ученая степень         4\n",
      "Name: education_id, dtype: int64\n",
      "family_status\n",
      "Не женат / не замужем    4\n",
      "в разводе                3\n",
      "вдовец / вдова           2\n",
      "гражданский брак         1\n",
      "женат / замужем          0\n",
      "Name: family_status_id, dtype: int64\n"
     ]
    }
   ],
   "source": [
    "print(df.groupby('education')['education_id'].mean())\n",
    "print(df.groupby('family_status')['family_status_id'].mean())"
   ]
  },
  {
   "cell_type": "markdown",
   "metadata": {},
   "source": [
    "id полей нигде не перепутаны. В `education` , только использован разный регистр, что привело к появлению дубликатов, приведём к нижнему регистру. В поле `family_status` нет неявных дубликатов, но тоже приведём для однообразия."
   ]
  },
  {
   "cell_type": "code",
   "execution_count": 6,
   "metadata": {},
   "outputs": [
    {
     "name": "stdout",
     "output_type": "stream",
     "text": [
      "['высшее' 'среднее' 'неоконченное высшее' 'начальное' 'ученая степень']\n",
      "['женат / замужем' 'гражданский брак' 'вдовец / вдова' 'в разводе'\n",
      " 'не женат / не замужем']\n"
     ]
    }
   ],
   "source": [
    "df['education'] = df['education'].str.lower()\n",
    "df['family_status'] = df['family_status'].str.lower()\n",
    "\n",
    "print(df['education'].unique())\n",
    "print(df['family_status'].unique())"
   ]
  },
  {
   "cell_type": "code",
   "execution_count": 7,
   "metadata": {},
   "outputs": [
    {
     "name": "stdout",
     "output_type": "stream",
     "text": [
      "<class 'pandas.core.frame.DataFrame'>\n",
      "RangeIndex: 21454 entries, 0 to 21453\n",
      "Data columns (total 12 columns):\n",
      "children            21454 non-null int64\n",
      "days_employed       19351 non-null float64\n",
      "dob_years           21454 non-null int64\n",
      "education           21454 non-null object\n",
      "education_id        21454 non-null int64\n",
      "family_status       21454 non-null object\n",
      "family_status_id    21454 non-null int64\n",
      "gender              21454 non-null object\n",
      "income_type         21454 non-null object\n",
      "debt                21454 non-null int64\n",
      "total_income        19351 non-null float64\n",
      "purpose             21454 non-null object\n",
      "dtypes: float64(2), int64(5), object(5)\n",
      "memory usage: 2.0+ MB\n"
     ]
    }
   ],
   "source": [
    "df = df.drop_duplicates().reset_index(drop=True)\n",
    "df.info()"
   ]
  },
  {
   "cell_type": "markdown",
   "metadata": {},
   "source": [
    "Проверим, что пропуски в столбцах `days_employed` и `total_income` находятся в одних и тех же строках"
   ]
  },
  {
   "cell_type": "code",
   "execution_count": 8,
   "metadata": {},
   "outputs": [
    {
     "name": "stdout",
     "output_type": "stream",
     "text": [
      "Пропуски в данных о трудовом стаже и доходах в одних и тех же строках\n"
     ]
    }
   ],
   "source": [
    "if df[df['days_employed'].isna()].equals(df[df['total_income'].isna()]):\n",
    "    print('Пропуски в данных о трудовом стаже и доходах в одних и тех же строках')\n",
    "else: print('Строки с пропусками в данных о трудовом стаже и доходах разные')"
   ]
  },
  {
   "cell_type": "markdown",
   "metadata": {},
   "source": [
    "Предположение подтвердилось. \n",
    "\n",
    "Наличие пропусков (NaN) в этих столбцах может быть связано с ошибкой в процессе выгрузки данных.\n",
    "\n",
    "Внимательнее изучим значения в столбцах `days_employed` и `total_income`, чтобы определить, как заполнить пропуски.\n",
    "Сгруппируем данные в таблице по типу занятости и рассчитаем для каждого типа минимальное, максимальное, среднее, медианное значения трудового стажа и доходов. Средние и медианные значения могут пригодиться для заполнения пропусков в этих столбцах. Также полезно посмотреть на количество записей по каждому типу занятости. \n",
    "\n",
    "Сделаем то же самое для возраста `dob_years` и количества детей `children`"
   ]
  },
  {
   "cell_type": "code",
   "execution_count": 9,
   "metadata": {},
   "outputs": [
    {
     "data": {
      "text/html": [
       "<div>\n",
       "<style scoped>\n",
       "    .dataframe tbody tr th:only-of-type {\n",
       "        vertical-align: middle;\n",
       "    }\n",
       "\n",
       "    .dataframe tbody tr th {\n",
       "        vertical-align: top;\n",
       "    }\n",
       "\n",
       "    .dataframe thead tr th {\n",
       "        text-align: left;\n",
       "    }\n",
       "\n",
       "    .dataframe thead tr:last-of-type th {\n",
       "        text-align: right;\n",
       "    }\n",
       "</style>\n",
       "<table border=\"1\" class=\"dataframe\">\n",
       "  <thead>\n",
       "    <tr>\n",
       "      <th></th>\n",
       "      <th colspan=\"5\" halign=\"left\">days_employed</th>\n",
       "      <th colspan=\"5\" halign=\"left\">total_income</th>\n",
       "    </tr>\n",
       "    <tr>\n",
       "      <th></th>\n",
       "      <th>min</th>\n",
       "      <th>max</th>\n",
       "      <th>mean</th>\n",
       "      <th>median</th>\n",
       "      <th>count</th>\n",
       "      <th>min</th>\n",
       "      <th>max</th>\n",
       "      <th>mean</th>\n",
       "      <th>median</th>\n",
       "      <th>count</th>\n",
       "    </tr>\n",
       "    <tr>\n",
       "      <th>income_type</th>\n",
       "      <th></th>\n",
       "      <th></th>\n",
       "      <th></th>\n",
       "      <th></th>\n",
       "      <th></th>\n",
       "      <th></th>\n",
       "      <th></th>\n",
       "      <th></th>\n",
       "      <th></th>\n",
       "      <th></th>\n",
       "    </tr>\n",
       "  </thead>\n",
       "  <tbody>\n",
       "    <tr>\n",
       "      <td>безработный</td>\n",
       "      <td>337524.466835</td>\n",
       "      <td>395302.838654</td>\n",
       "      <td>366413.652744</td>\n",
       "      <td>366413.652744</td>\n",
       "      <td>2</td>\n",
       "      <td>59956.991984</td>\n",
       "      <td>2.027225e+05</td>\n",
       "      <td>131339.751676</td>\n",
       "      <td>131339.751676</td>\n",
       "      <td>2</td>\n",
       "    </tr>\n",
       "    <tr>\n",
       "      <td>в декрете</td>\n",
       "      <td>-3296.759962</td>\n",
       "      <td>-3296.759962</td>\n",
       "      <td>-3296.759962</td>\n",
       "      <td>-3296.759962</td>\n",
       "      <td>1</td>\n",
       "      <td>53829.130729</td>\n",
       "      <td>5.382913e+04</td>\n",
       "      <td>53829.130729</td>\n",
       "      <td>53829.130729</td>\n",
       "      <td>1</td>\n",
       "    </tr>\n",
       "    <tr>\n",
       "      <td>госслужащий</td>\n",
       "      <td>-15193.032201</td>\n",
       "      <td>-39.954170</td>\n",
       "      <td>-3399.896902</td>\n",
       "      <td>-2689.368353</td>\n",
       "      <td>1312</td>\n",
       "      <td>29200.077193</td>\n",
       "      <td>9.104515e+05</td>\n",
       "      <td>170898.309923</td>\n",
       "      <td>150447.935283</td>\n",
       "      <td>1312</td>\n",
       "    </tr>\n",
       "    <tr>\n",
       "      <td>компаньон</td>\n",
       "      <td>-17615.563266</td>\n",
       "      <td>-30.195337</td>\n",
       "      <td>-2111.524398</td>\n",
       "      <td>-1547.382223</td>\n",
       "      <td>4577</td>\n",
       "      <td>28702.812889</td>\n",
       "      <td>2.265604e+06</td>\n",
       "      <td>202417.461462</td>\n",
       "      <td>172357.950966</td>\n",
       "      <td>4577</td>\n",
       "    </tr>\n",
       "    <tr>\n",
       "      <td>пенсионер</td>\n",
       "      <td>328728.720605</td>\n",
       "      <td>401755.400475</td>\n",
       "      <td>365003.491245</td>\n",
       "      <td>365213.306266</td>\n",
       "      <td>3443</td>\n",
       "      <td>20667.263793</td>\n",
       "      <td>7.351033e+05</td>\n",
       "      <td>137127.465690</td>\n",
       "      <td>118514.486412</td>\n",
       "      <td>3443</td>\n",
       "    </tr>\n",
       "    <tr>\n",
       "      <td>предприниматель</td>\n",
       "      <td>-520.848083</td>\n",
       "      <td>-520.848083</td>\n",
       "      <td>-520.848083</td>\n",
       "      <td>-520.848083</td>\n",
       "      <td>1</td>\n",
       "      <td>499163.144947</td>\n",
       "      <td>4.991631e+05</td>\n",
       "      <td>499163.144947</td>\n",
       "      <td>499163.144947</td>\n",
       "      <td>1</td>\n",
       "    </tr>\n",
       "    <tr>\n",
       "      <td>сотрудник</td>\n",
       "      <td>-18388.949901</td>\n",
       "      <td>-24.141633</td>\n",
       "      <td>-2326.499216</td>\n",
       "      <td>-1574.202821</td>\n",
       "      <td>10014</td>\n",
       "      <td>21367.648356</td>\n",
       "      <td>1.726276e+06</td>\n",
       "      <td>161380.260488</td>\n",
       "      <td>142594.396847</td>\n",
       "      <td>10014</td>\n",
       "    </tr>\n",
       "    <tr>\n",
       "      <td>студент</td>\n",
       "      <td>-578.751554</td>\n",
       "      <td>-578.751554</td>\n",
       "      <td>-578.751554</td>\n",
       "      <td>-578.751554</td>\n",
       "      <td>1</td>\n",
       "      <td>98201.625314</td>\n",
       "      <td>9.820163e+04</td>\n",
       "      <td>98201.625314</td>\n",
       "      <td>98201.625314</td>\n",
       "      <td>1</td>\n",
       "    </tr>\n",
       "  </tbody>\n",
       "</table>\n",
       "</div>"
      ],
      "text/plain": [
       "                 days_employed                                               \\\n",
       "                           min            max           mean         median   \n",
       "income_type                                                                   \n",
       "безработный      337524.466835  395302.838654  366413.652744  366413.652744   \n",
       "в декрете         -3296.759962   -3296.759962   -3296.759962   -3296.759962   \n",
       "госслужащий      -15193.032201     -39.954170   -3399.896902   -2689.368353   \n",
       "компаньон        -17615.563266     -30.195337   -2111.524398   -1547.382223   \n",
       "пенсионер        328728.720605  401755.400475  365003.491245  365213.306266   \n",
       "предприниматель    -520.848083    -520.848083    -520.848083    -520.848083   \n",
       "сотрудник        -18388.949901     -24.141633   -2326.499216   -1574.202821   \n",
       "студент            -578.751554    -578.751554    -578.751554    -578.751554   \n",
       "\n",
       "                         total_income                               \\\n",
       "                 count            min           max           mean   \n",
       "income_type                                                          \n",
       "безработный          2   59956.991984  2.027225e+05  131339.751676   \n",
       "в декрете            1   53829.130729  5.382913e+04   53829.130729   \n",
       "госслужащий       1312   29200.077193  9.104515e+05  170898.309923   \n",
       "компаньон         4577   28702.812889  2.265604e+06  202417.461462   \n",
       "пенсионер         3443   20667.263793  7.351033e+05  137127.465690   \n",
       "предприниматель      1  499163.144947  4.991631e+05  499163.144947   \n",
       "сотрудник        10014   21367.648356  1.726276e+06  161380.260488   \n",
       "студент              1   98201.625314  9.820163e+04   98201.625314   \n",
       "\n",
       "                                       \n",
       "                        median  count  \n",
       "income_type                            \n",
       "безработный      131339.751676      2  \n",
       "в декрете         53829.130729      1  \n",
       "госслужащий      150447.935283   1312  \n",
       "компаньон        172357.950966   4577  \n",
       "пенсионер        118514.486412   3443  \n",
       "предприниматель  499163.144947      1  \n",
       "сотрудник        142594.396847  10014  \n",
       "студент           98201.625314      1  "
      ]
     },
     "metadata": {},
     "output_type": "display_data"
    },
    {
     "data": {
      "text/html": [
       "<div>\n",
       "<style scoped>\n",
       "    .dataframe tbody tr th:only-of-type {\n",
       "        vertical-align: middle;\n",
       "    }\n",
       "\n",
       "    .dataframe tbody tr th {\n",
       "        vertical-align: top;\n",
       "    }\n",
       "\n",
       "    .dataframe thead tr th {\n",
       "        text-align: left;\n",
       "    }\n",
       "\n",
       "    .dataframe thead tr:last-of-type th {\n",
       "        text-align: right;\n",
       "    }\n",
       "</style>\n",
       "<table border=\"1\" class=\"dataframe\">\n",
       "  <thead>\n",
       "    <tr>\n",
       "      <th></th>\n",
       "      <th colspan=\"5\" halign=\"left\">dob_years</th>\n",
       "      <th colspan=\"5\" halign=\"left\">children</th>\n",
       "    </tr>\n",
       "    <tr>\n",
       "      <th></th>\n",
       "      <th>min</th>\n",
       "      <th>max</th>\n",
       "      <th>mean</th>\n",
       "      <th>median</th>\n",
       "      <th>count</th>\n",
       "      <th>min</th>\n",
       "      <th>max</th>\n",
       "      <th>mean</th>\n",
       "      <th>median</th>\n",
       "      <th>count</th>\n",
       "    </tr>\n",
       "    <tr>\n",
       "      <th>income_type</th>\n",
       "      <th></th>\n",
       "      <th></th>\n",
       "      <th></th>\n",
       "      <th></th>\n",
       "      <th></th>\n",
       "      <th></th>\n",
       "      <th></th>\n",
       "      <th></th>\n",
       "      <th></th>\n",
       "      <th></th>\n",
       "    </tr>\n",
       "  </thead>\n",
       "  <tbody>\n",
       "    <tr>\n",
       "      <td>безработный</td>\n",
       "      <td>31</td>\n",
       "      <td>45</td>\n",
       "      <td>38.000000</td>\n",
       "      <td>38.0</td>\n",
       "      <td>2</td>\n",
       "      <td>0</td>\n",
       "      <td>1</td>\n",
       "      <td>0.500000</td>\n",
       "      <td>0.5</td>\n",
       "      <td>2</td>\n",
       "    </tr>\n",
       "    <tr>\n",
       "      <td>в декрете</td>\n",
       "      <td>39</td>\n",
       "      <td>39</td>\n",
       "      <td>39.000000</td>\n",
       "      <td>39.0</td>\n",
       "      <td>1</td>\n",
       "      <td>2</td>\n",
       "      <td>2</td>\n",
       "      <td>2.000000</td>\n",
       "      <td>2.0</td>\n",
       "      <td>1</td>\n",
       "    </tr>\n",
       "    <tr>\n",
       "      <td>госслужащий</td>\n",
       "      <td>0</td>\n",
       "      <td>75</td>\n",
       "      <td>40.647220</td>\n",
       "      <td>40.0</td>\n",
       "      <td>1457</td>\n",
       "      <td>-1</td>\n",
       "      <td>20</td>\n",
       "      <td>0.621139</td>\n",
       "      <td>0.0</td>\n",
       "      <td>1457</td>\n",
       "    </tr>\n",
       "    <tr>\n",
       "      <td>компаньон</td>\n",
       "      <td>0</td>\n",
       "      <td>74</td>\n",
       "      <td>39.693383</td>\n",
       "      <td>39.0</td>\n",
       "      <td>5078</td>\n",
       "      <td>-1</td>\n",
       "      <td>20</td>\n",
       "      <td>0.599055</td>\n",
       "      <td>0.0</td>\n",
       "      <td>5078</td>\n",
       "    </tr>\n",
       "    <tr>\n",
       "      <td>пенсионер</td>\n",
       "      <td>0</td>\n",
       "      <td>74</td>\n",
       "      <td>59.048577</td>\n",
       "      <td>60.0</td>\n",
       "      <td>3829</td>\n",
       "      <td>-1</td>\n",
       "      <td>20</td>\n",
       "      <td>0.132933</td>\n",
       "      <td>0.0</td>\n",
       "      <td>3829</td>\n",
       "    </tr>\n",
       "    <tr>\n",
       "      <td>предприниматель</td>\n",
       "      <td>27</td>\n",
       "      <td>58</td>\n",
       "      <td>42.500000</td>\n",
       "      <td>42.5</td>\n",
       "      <td>2</td>\n",
       "      <td>0</td>\n",
       "      <td>0</td>\n",
       "      <td>0.000000</td>\n",
       "      <td>0.0</td>\n",
       "      <td>2</td>\n",
       "    </tr>\n",
       "    <tr>\n",
       "      <td>сотрудник</td>\n",
       "      <td>0</td>\n",
       "      <td>74</td>\n",
       "      <td>39.808372</td>\n",
       "      <td>39.0</td>\n",
       "      <td>11084</td>\n",
       "      <td>-1</td>\n",
       "      <td>20</td>\n",
       "      <td>0.642818</td>\n",
       "      <td>0.0</td>\n",
       "      <td>11084</td>\n",
       "    </tr>\n",
       "    <tr>\n",
       "      <td>студент</td>\n",
       "      <td>22</td>\n",
       "      <td>22</td>\n",
       "      <td>22.000000</td>\n",
       "      <td>22.0</td>\n",
       "      <td>1</td>\n",
       "      <td>0</td>\n",
       "      <td>0</td>\n",
       "      <td>0.000000</td>\n",
       "      <td>0.0</td>\n",
       "      <td>1</td>\n",
       "    </tr>\n",
       "  </tbody>\n",
       "</table>\n",
       "</div>"
      ],
      "text/plain": [
       "                dob_years                              children                \\\n",
       "                      min max       mean median  count      min max      mean   \n",
       "income_type                                                                     \n",
       "безработный            31  45  38.000000   38.0      2        0   1  0.500000   \n",
       "в декрете              39  39  39.000000   39.0      1        2   2  2.000000   \n",
       "госслужащий             0  75  40.647220   40.0   1457       -1  20  0.621139   \n",
       "компаньон               0  74  39.693383   39.0   5078       -1  20  0.599055   \n",
       "пенсионер               0  74  59.048577   60.0   3829       -1  20  0.132933   \n",
       "предприниматель        27  58  42.500000   42.5      2        0   0  0.000000   \n",
       "сотрудник               0  74  39.808372   39.0  11084       -1  20  0.642818   \n",
       "студент                22  22  22.000000   22.0      1        0   0  0.000000   \n",
       "\n",
       "                               \n",
       "                median  count  \n",
       "income_type                    \n",
       "безработный        0.5      2  \n",
       "в декрете          2.0      1  \n",
       "госслужащий        0.0   1457  \n",
       "компаньон          0.0   5078  \n",
       "пенсионер          0.0   3829  \n",
       "предприниматель    0.0      2  \n",
       "сотрудник          0.0  11084  \n",
       "студент            0.0      1  "
      ]
     },
     "execution_count": 9,
     "metadata": {},
     "output_type": "execute_result"
    }
   ],
   "source": [
    "display(df.groupby('income_type')[['days_employed','total_income']].agg(['min', 'max', 'mean', 'median', 'count']))\n",
    "df.groupby('income_type')[['dob_years','children']].agg(['min', 'max', 'mean', 'median', 'count'])"
   ]
  },
  {
   "cell_type": "markdown",
   "metadata": {},
   "source": [
    "Из 8 категорий занятости наиболее многочисленная - `сотрудник`. Также в большом количестве представлены `компаньон`, `пенсионер` и `госслужащий`. Остальные представлены только в количесве не более 2. \n",
    "Заметим:\n",
    "1. Средние и медианные значения для всей таблицы и для отдельных типов занятости отличаются. Кроме этого, медианные значения для доходов отличаются в некоторых типах на десятки тысяч в меньшую сторону. Для заполенния пропусков по доходам разумнее взять медианное значение по соответсвующему типу. В первой сводной таблице количество значений стажа и доходов для типа занятости `предприниматель` = 1, во второй количество значений возраста и детей = 2, значит, у одного из предпринимателей отсутсвует информация о стаже и доходах. Вообще говоря в таком случае не совсем верно заполнять неизвестный доход на основе медианного, так как мы просто скопируем значение для второго предпринимателя, а у разных предпринимателей доходы могут отличаться на несколько порядков. Лучше обратиться к разработчикам для уточнения. Однако наша выборка по предпринимателям итак невелика.\n",
    "2. Очень большие положительные значения трудового стажа видим только в двух категорях - `пенсионер` и `безработный`. Наличие таких выбросов может быть связвно с тем, что алгоритм, по которому определялся трудовой стаж при выгрузке данных, некорректно сработал на нетрудоустроенных клиентах. Лучше всего уточнить у разработчиков, есть ли у них правильные значения, и вообще что конкретно понимается под трудовым стажем: учитывается только последнее место работы или все. Поскольку не стоит задачи проанализировать влияние трудового стажа на возврат кредита в срок, заменим эти значения нулями, чтобы они не мешали при подсчёте медианных значений (будем считать, что при таком типе занятости трудовой стаж не идёт). У остальных значений заменим знак на `+`\n",
    "3. В поле возраста `dob_years` присутсвует значение 0. Это пропуск, возможно связан с тем, что клиент его не указал.\n",
    "4. Количество детей `children` как видно из таблицы у некоторых клиентов равно -1, у некоторых 20. Скорее всего в обоих случаях опечатка.   "
   ]
  },
  {
   "cell_type": "markdown",
   "metadata": {},
   "source": [
    "Для заполнения пропусков применим метод `fillna()` к каждому из столбцов по отдельности\n",
    "Поскольку заполняем мы по медианному значению для определённого типа занятости, то в fillna мы передадим результат действия методов `groupby().transform()`\n",
    "`groupby()` группирует по нужному столбцу значения из указанного столбца, применённый к нему `.transform('median')` применяет функцию median() к группе и возвращает индексированный объект с индексацией соответсвующей исходному объекту. `fillna()` возьмёт из него только те обекты, индексы которых соответсвуют индексам NaN"
   ]
  },
  {
   "cell_type": "code",
   "execution_count": 10,
   "metadata": {},
   "outputs": [],
   "source": [
    "# заполняем пропуски\n",
    "df['total_income'] = df['total_income'].fillna(df.groupby('income_type')['total_income'].transform('median'))\n",
    "df['days_employed'] = df['days_employed'].fillna(df.groupby('income_type')['days_employed'].transform('median'))\n",
    "df['days_employed'] = df['days_employed'].abs()\n",
    "# заменим у неработающих клиентов значение days_employed на 0\n",
    "df.loc[(df['income_type']=='пенсионер') | (df['income_type']=='безработный'), ['days_employed']] = 0"
   ]
  },
  {
   "cell_type": "markdown",
   "metadata": {},
   "source": [
    "Посмотрим на значения полей возраста и количества детей, поскольку до этого мы видели только максимальные и минимальные значения, возможно есть ещё черезчур многодетные клиенты. Для возраста ограничим вывод значением 21, несовершеннолетним кредит точно не дадут."
   ]
  },
  {
   "cell_type": "code",
   "execution_count": 11,
   "metadata": {},
   "outputs": [
    {
     "name": "stdout",
     "output_type": "stream",
     "text": [
      "children\n",
      "-1        47\n",
      " 0     14091\n",
      " 1      4808\n",
      " 2      2052\n",
      " 3       330\n",
      " 4        41\n",
      " 5         9\n",
      " 20       76\n",
      "Name: total_income, dtype: int64\n",
      "Самые молодые клиенты, dob_years: [20  0 19]\n"
     ]
    }
   ],
   "source": [
    "print(df.groupby('children')['total_income'].count())\n",
    "print('Самые молодые клиенты, dob_years:', df[df['dob_years'] < 21]['dob_years'].unique())"
   ]
  },
  {
   "cell_type": "markdown",
   "metadata": {},
   "source": [
    "Подтверждаем, что значения количества детей у клиентов -1 и 20 - опечатки. Заменим `-1` на `1`, `20` на `2`. Возраст `0` тоже ошибка, заменим на среднее по типу занятости."
   ]
  },
  {
   "cell_type": "code",
   "execution_count": 12,
   "metadata": {},
   "outputs": [
    {
     "name": "stdout",
     "output_type": "stream",
     "text": [
      "<class 'pandas.core.frame.DataFrame'>\n",
      "RangeIndex: 21454 entries, 0 to 21453\n",
      "Data columns (total 12 columns):\n",
      "children            21454 non-null int64\n",
      "days_employed       21454 non-null float64\n",
      "dob_years           21454 non-null float64\n",
      "education           21454 non-null object\n",
      "education_id        21454 non-null int64\n",
      "family_status       21454 non-null object\n",
      "family_status_id    21454 non-null int64\n",
      "gender              21454 non-null object\n",
      "income_type         21454 non-null object\n",
      "debt                21454 non-null int64\n",
      "total_income        21454 non-null float64\n",
      "purpose             21454 non-null object\n",
      "dtypes: float64(3), int64(4), object(5)\n",
      "memory usage: 2.0+ MB\n"
     ]
    }
   ],
   "source": [
    "# поправляем столбец children\n",
    "df['children'] = df['children'].replace([-1,20],[1,2])\n",
    "\n",
    "# для столбца dob_years заменим 0 на средние по соответсвующему типу\n",
    "dob_years_mean = df[df['dob_years']!=0].groupby('income_type')['dob_years'].mean()\n",
    "df.loc[df['dob_years']==0, 'dob_years'] = df['income_type'].map(dob_years_mean)\n",
    "\n",
    "df.info()"
   ]
  },
  {
   "cell_type": "markdown",
   "metadata": {},
   "source": [
    "**Вывод**"
   ]
  },
  {
   "cell_type": "markdown",
   "metadata": {},
   "source": [
    "В данных присутствовали пропуски, обусловленные разными причинами: опечатки, ошибки выгрузки данных, ошибки на этапе внесения данных. Пропуски обработаны."
   ]
  },
  {
   "cell_type": "markdown",
   "metadata": {},
   "source": [
    "### Замена типа данных"
   ]
  },
  {
   "cell_type": "markdown",
   "metadata": {},
   "source": [
    "Нет смысла хранить данные о днях стажа, возрасте в годах и доходях в рублях в вещественном формате, разумнее использовать целочисленный. Заменим тап данных.\n",
    "Кроме того, для целочисленных данных в таблице используется тип `int64`, который занимает 8 байт, поэтому в зависимости от диапазона возможных значений в столбце можно привести к `int32` или даже `int16` "
   ]
  },
  {
   "cell_type": "code",
   "execution_count": 13,
   "metadata": {},
   "outputs": [
    {
     "name": "stdout",
     "output_type": "stream",
     "text": [
      "<class 'pandas.core.frame.DataFrame'>\n",
      "RangeIndex: 21454 entries, 0 to 21453\n",
      "Data columns (total 12 columns):\n",
      "children            21454 non-null int32\n",
      "days_employed       21454 non-null int32\n",
      "dob_years           21454 non-null int32\n",
      "education           21454 non-null object\n",
      "education_id        21454 non-null int16\n",
      "family_status       21454 non-null object\n",
      "family_status_id    21454 non-null int16\n",
      "gender              21454 non-null object\n",
      "income_type         21454 non-null object\n",
      "debt                21454 non-null int16\n",
      "total_income        21454 non-null int64\n",
      "purpose             21454 non-null object\n",
      "dtypes: int16(3), int32(3), int64(1), object(5)\n",
      "memory usage: 1.4+ MB\n"
     ]
    }
   ],
   "source": [
    "df[['children','days_employed','dob_years']] = df[['children','days_employed','dob_years']].astype('int')\n",
    "df['total_income'] = df['total_income'].astype('int64') # вдруг int32 не хватит)\n",
    "df[['education_id','family_status_id','debt']] = df[['education_id','family_status_id','debt']].astype('int16')\n",
    "df.info()"
   ]
  },
  {
   "cell_type": "markdown",
   "metadata": {},
   "source": [
    "**Вывод**"
   ]
  },
  {
   "cell_type": "markdown",
   "metadata": {},
   "source": [
    "Тип данных изменён. Как видим, до преобразования типов таблица занимала `2.0+ MB`, после - `1.4+ MB`, почти в полтора раза меньше. В примере с данной таблицей эта разница не столь существенна, однако при работе с более объёмными данными удобнее работать с \"лёгким\" датафреймом. Размер можно ещё сократить, если вместо строковых обозначений `gender` ввести числовые а также ввести таблицы справочники для колонок `family_status` и `education`."
   ]
  },
  {
   "cell_type": "markdown",
   "metadata": {},
   "source": [
    "### Обработка дубликатов"
   ]
  },
  {
   "cell_type": "markdown",
   "metadata": {},
   "source": [
    "Явные дубли мы уже удалили в начале."
   ]
  },
  {
   "cell_type": "markdown",
   "metadata": {},
   "source": [
    "Кстати, сгруппируем ещё по `gender`, вдруг есть неявные дубли "
   ]
  },
  {
   "cell_type": "code",
   "execution_count": 14,
   "metadata": {},
   "outputs": [
    {
     "name": "stdout",
     "output_type": "stream",
     "text": [
      "gender\n",
      "F      14174\n",
      "M       7279\n",
      "XNA        1\n",
      "Name: debt, dtype: int64\n"
     ]
    }
   ],
   "source": [
    "print(df.groupby('gender')['debt'].count())"
   ]
  },
  {
   "cell_type": "markdown",
   "metadata": {},
   "source": [
    "Хм... XNA? Гендер - он и в России гендер. Это значение встречается лишь однажды, можно просто удалить эту строчку. Но отнесём его к одной из двух групп на основе значений других полей. Посмотрим на эту строчку. "
   ]
  },
  {
   "cell_type": "code",
   "execution_count": 15,
   "metadata": {},
   "outputs": [
    {
     "data": {
      "text/html": [
       "<div>\n",
       "<style scoped>\n",
       "    .dataframe tbody tr th:only-of-type {\n",
       "        vertical-align: middle;\n",
       "    }\n",
       "\n",
       "    .dataframe tbody tr th {\n",
       "        vertical-align: top;\n",
       "    }\n",
       "\n",
       "    .dataframe thead th {\n",
       "        text-align: right;\n",
       "    }\n",
       "</style>\n",
       "<table border=\"1\" class=\"dataframe\">\n",
       "  <thead>\n",
       "    <tr style=\"text-align: right;\">\n",
       "      <th></th>\n",
       "      <th>children</th>\n",
       "      <th>days_employed</th>\n",
       "      <th>dob_years</th>\n",
       "      <th>education</th>\n",
       "      <th>education_id</th>\n",
       "      <th>family_status</th>\n",
       "      <th>family_status_id</th>\n",
       "      <th>gender</th>\n",
       "      <th>income_type</th>\n",
       "      <th>debt</th>\n",
       "      <th>total_income</th>\n",
       "      <th>purpose</th>\n",
       "    </tr>\n",
       "  </thead>\n",
       "  <tbody>\n",
       "    <tr>\n",
       "      <td>10684</td>\n",
       "      <td>0</td>\n",
       "      <td>2358</td>\n",
       "      <td>24</td>\n",
       "      <td>неоконченное высшее</td>\n",
       "      <td>2</td>\n",
       "      <td>гражданский брак</td>\n",
       "      <td>1</td>\n",
       "      <td>XNA</td>\n",
       "      <td>компаньон</td>\n",
       "      <td>0</td>\n",
       "      <td>203905</td>\n",
       "      <td>покупка недвижимости</td>\n",
       "    </tr>\n",
       "  </tbody>\n",
       "</table>\n",
       "</div>"
      ],
      "text/plain": [
       "       children  days_employed  dob_years            education  education_id  \\\n",
       "10684         0           2358         24  неоконченное высшее             2   \n",
       "\n",
       "          family_status  family_status_id gender income_type  debt  \\\n",
       "10684  гражданский брак                 1    XNA   компаньон     0   \n",
       "\n",
       "       total_income               purpose  \n",
       "10684        203905  покупка недвижимости  "
      ]
     },
     "execution_count": 15,
     "metadata": {},
     "output_type": "execute_result"
    }
   ],
   "source": [
    "df[df['gender']=='XNA']"
   ]
  },
  {
   "cell_type": "markdown",
   "metadata": {},
   "source": [
    "Предположим, что мужчины и женщины среди компаньонов, состоящих в гражданском браке, делятся не в равных соотношениях, поэтому отфильтруем по этим значениям, посмотрим, сколько мужчин и женщин среди клиентов с такими параметрами."
   ]
  },
  {
   "cell_type": "code",
   "execution_count": 16,
   "metadata": {},
   "outputs": [
    {
     "data": {
      "text/plain": [
       "gender\n",
       "F      663\n",
       "M      347\n",
       "XNA      1\n",
       "Name: total_income, dtype: int64"
      ]
     },
     "execution_count": 16,
     "metadata": {},
     "output_type": "execute_result"
    }
   ],
   "source": [
    "temp_df = df[ (df['income_type']=='компаньон') & (df['family_status']=='гражданский брак')]\n",
    "temp_df.groupby(['gender'])['total_income'].count()"
   ]
  },
  {
   "cell_type": "markdown",
   "metadata": {},
   "source": [
    "Женщин почти в 2 раза больше, сделаем XNA женщиной!"
   ]
  },
  {
   "cell_type": "code",
   "execution_count": 17,
   "metadata": {},
   "outputs": [],
   "source": [
    "df.loc[df['gender']=='XNA','gender'] = 'F'"
   ]
  },
  {
   "cell_type": "markdown",
   "metadata": {},
   "source": [
    "**Вывод**"
   ]
  },
  {
   "cell_type": "markdown",
   "metadata": {},
   "source": [
    "Помимо явных дублей строк в таблице присутсвовали одинаковые по смыслу значения в столбце `education`, написанные в разном регистре. Возможно наличие таких повторов связано с тем, что данные вносились разными операторами или в разных системах. Дубли удалены"
   ]
  },
  {
   "cell_type": "markdown",
   "metadata": {},
   "source": [
    "### Категоризация"
   ]
  },
  {
   "cell_type": "markdown",
   "metadata": {},
   "source": [
    "#### Категории целей кредита"
   ]
  },
  {
   "cell_type": "markdown",
   "metadata": {},
   "source": [
    "Для выделения категорий целей кредита удобнее всего провести лемматизацию значений этого столбца. \n",
    "\n",
    "Посмотрим сначала, какие уникальные значения в нём содержатся"
   ]
  },
  {
   "cell_type": "code",
   "execution_count": 18,
   "metadata": {},
   "outputs": [
    {
     "data": {
      "text/plain": [
       "array(['покупка жилья', 'приобретение автомобиля',\n",
       "       'дополнительное образование', 'сыграть свадьбу',\n",
       "       'операции с жильем', 'образование', 'на проведение свадьбы',\n",
       "       'покупка жилья для семьи', 'покупка недвижимости',\n",
       "       'покупка коммерческой недвижимости', 'покупка жилой недвижимости',\n",
       "       'строительство собственной недвижимости', 'недвижимость',\n",
       "       'строительство недвижимости', 'на покупку подержанного автомобиля',\n",
       "       'на покупку своего автомобиля',\n",
       "       'операции с коммерческой недвижимостью',\n",
       "       'строительство жилой недвижимости', 'жилье',\n",
       "       'операции со своей недвижимостью', 'автомобили',\n",
       "       'заняться образованием', 'сделка с подержанным автомобилем',\n",
       "       'получение образования', 'автомобиль', 'свадьба',\n",
       "       'получение дополнительного образования', 'покупка своего жилья',\n",
       "       'операции с недвижимостью', 'получение высшего образования',\n",
       "       'свой автомобиль', 'сделка с автомобилем',\n",
       "       'профильное образование', 'высшее образование',\n",
       "       'покупка жилья для сдачи', 'на покупку автомобиля', 'ремонт жилью',\n",
       "       'заняться высшим образованием'], dtype=object)"
      ]
     },
     "execution_count": 18,
     "metadata": {},
     "output_type": "execute_result"
    }
   ],
   "source": [
    "purposes = df['purpose'].unique()\n",
    "purposes"
   ]
  },
  {
   "cell_type": "markdown",
   "metadata": {},
   "source": [
    "Уже можно выделить общие категории: `недвижимость`, `образование`, `автомобиль` и `свадьба`. В разных случаях форма слов разная, поэтому и проводим лемматизацию. Будем использовать библиотеку `pymystem3`. Поскольку процесс лемматизации проходит долго, не будем применять метод `lemmatize()` к каждому элементу столбца `purpose`, сначала применим к списку уникальных занчений и составим словарь `purposes_dict`, на основе которого потом будем присваивать категорию по значению столбца.\n",
    "\n",
    "Затем с помощью `.map()` из pandas на основе этого словаря сразу присвоим значения в новый столбец."
   ]
  },
  {
   "cell_type": "code",
   "execution_count": 19,
   "metadata": {},
   "outputs": [
    {
     "data": {
      "text/plain": [
       "purpose_category\n",
       "автомобиль       4306\n",
       "недвижимость    10811\n",
       "образование      4013\n",
       "свадьба          2324\n",
       "Name: purpose, dtype: int64"
      ]
     },
     "execution_count": 19,
     "metadata": {},
     "output_type": "execute_result"
    }
   ],
   "source": [
    "m = Mystem()\n",
    "\n",
    "purposes_dict = {}\n",
    "for p in purposes:\n",
    "    p_lemmatized = m.lemmatize(p)\n",
    "    if 'недвижимость' in p_lemmatized or 'жилье' in p_lemmatized: \n",
    "        purposes_dict[p] = 'недвижимость'\n",
    "    elif 'автомобиль' in p_lemmatized:  purposes_dict[p] = 'автомобиль'\n",
    "    elif 'образование' in p_lemmatized: purposes_dict[p] = 'образование'\n",
    "    elif 'свадьба' in p_lemmatized:     purposes_dict[p] = 'свадьба'\n",
    "    else: purposes_dict[p] = 'другое'\n",
    "\n",
    "df['purpose_category'] = df['purpose'].map(purposes_dict)\n",
    "# выведем для проверки количество записей в каждой категории\n",
    "df.groupby('purpose_category')['purpose'].count()"
   ]
  },
  {
   "cell_type": "markdown",
   "metadata": {},
   "source": [
    "#### Категории уровней дохода"
   ]
  },
  {
   "cell_type": "markdown",
   "metadata": {},
   "source": [
    "Для ответа на воопрос о зависимости между уровнем дохода и возвратом кредита в срок сначала лучше провести категоризацию этого столбца.\n",
    "\n",
    "Для начала посмотрим на распределение доходов `total_income` по всему датафрейму. Построим гистограмму"
   ]
  },
  {
   "cell_type": "code",
   "execution_count": 20,
   "metadata": {},
   "outputs": [
    {
     "data": {
      "image/png": "[encoded data removed]",
      "text/plain": [
       "<Figure size 432x288 with 1 Axes>"
      ]
     },
     "metadata": {
      "needs_background": "light"
     },
     "output_type": "display_data"
    }
   ],
   "source": [
    "df['total_income'].hist(bins=100);"
   ]
  },
  {
   "cell_type": "markdown",
   "metadata": {},
   "source": [
    "Пока лишь видим, что максимум распределения сильно смещён влево, приходится примероно на значение в области 200k, посмотрим на распредление доходов с `total_income < 500k`"
   ]
  },
  {
   "cell_type": "code",
   "execution_count": 21,
   "metadata": {},
   "outputs": [
    {
     "data": {
      "image/png": "[encoded data removed]",
      "text/plain": [
       "<Figure size 432x288 with 1 Axes>"
      ]
     },
     "metadata": {
      "needs_background": "light"
     },
     "output_type": "display_data"
    }
   ],
   "source": [
    "df[df['total_income']<5e5]['total_income'].hist(bins=20), df[df['total_income']<5e5]['total_income'].hist(bins=60);"
   ]
  },
  {
   "cell_type": "markdown",
   "metadata": {},
   "source": [
    "На гистограмме, построенной со столбцами шириной в 50k и 5k уже получше видно, как распределяются доходы. Явно наличие выбросов, проверять мы их конечно же не будем. Также взглянем, на какие значения доходов приходятся группы, доходы которых выше 10%, 25%, 50% и 75% от выборки. Для этого применим метод `.describe()` к столбцу `total_income`.\n"
   ]
  },
  {
   "cell_type": "code",
   "execution_count": 22,
   "metadata": {},
   "outputs": [
    {
     "data": {
      "text/plain": [
       "count    2.145400e+04\n",
       "mean     1.653196e+05\n",
       "std      9.818730e+04\n",
       "min      2.066700e+04\n",
       "10%      7.872110e+04\n",
       "25%      1.076230e+05\n",
       "50%      1.425940e+05\n",
       "75%      1.958202e+05\n",
       "max      2.265604e+06\n",
       "Name: total_income, dtype: float64"
      ]
     },
     "execution_count": 22,
     "metadata": {},
     "output_type": "execute_result"
    }
   ],
   "source": [
    "df['total_income'].describe(percentiles=[.1,.25,.5,.75,])"
   ]
  },
  {
   "cell_type": "markdown",
   "metadata": {},
   "source": [
    "Напишем функцию для выделения категорий доходов `income_category`. При этом учтём, что возможно имеет смысл делит не на равные группы, поскольку, например для клиентов с маленькими доходами интуитивно понятно, что вероятность возврата кредита в срок скорее всего окажется ниже. В функции добавим возможность через аргументы передавать список значений для разбивки на категории и список названий категорий.\n",
    "\n",
    "Запишем категорию для каждой записи в датафрейм, для этого создадим новый столбец `income_category`, для его заполения применим функцию методом `.apply()`"
   ]
  },
  {
   "cell_type": "code",
   "execution_count": 23,
   "metadata": {},
   "outputs": [
    {
     "data": {
      "text/plain": [
       "income_level\n",
       "низкий            1865\n",
       "очень высокий     2813\n",
       "средний          16776\n",
       "Name: total_income, dtype: int64"
      ]
     },
     "execution_count": 23,
     "metadata": {},
     "output_type": "execute_result"
    }
   ],
   "source": [
    "def set_income_level(row, \n",
    "                     split_values=[75000, 150000, 250000], \n",
    "                     categories=['низкий','средний','средний','очень высокий']):\n",
    "    \"\"\"\n",
    "    Возвращает категорию уровня дохода по значению total_income строки row\n",
    "    - значения для разбивки передаются в split_values\n",
    "    - имена категорий в categories, по умолчанию:\n",
    "    - `низкий` - менее 75k, `средний` - от 75k до 150k, `средний` - от 150k до 250k, `очень высокий` - свыше 250k\n",
    "    \"\"\"\n",
    "    if len(split_values) != len(categories)-1:\n",
    "        print('Длина списка categories должна быть на 1 больше длины списка split_values')\n",
    "        return ''\n",
    "\n",
    "    income = row['total_income']\n",
    "    for i in range(len(split_values)):\n",
    "        if income < split_values[i]:\n",
    "            return categories[i]\n",
    "    return categories[-1]\n",
    "\n",
    "df['income_level'] = df.apply(set_income_level, axis=1)\n",
    "# выведем для проверки\n",
    "df.groupby('income_level')['total_income'].count()\n"
   ]
  },
  {
   "cell_type": "markdown",
   "metadata": {},
   "source": [
    "**Вывод**"
   ]
  },
  {
   "cell_type": "markdown",
   "metadata": {},
   "source": [
    "- По результатам лемматизации выделяется 4 категории целей кредита: `недвижимость`, `образование`, `автомобиль` и `свадьба`\n",
    "- На основе значений доходов тоже можно выделить категории с низким, высоким, средним заработком. Реализовали для этого функцию, с помощью которой при необходимости можно будет переопределить категории на этапе анализа\n",
    "- Для ответа на вопрос о зависомости наличия детей и возврата кредита в срок категории 'имеет детей' и 'не имеет детей' вводить не будем, так как факт наличия легко проверятеся одним условием.\n",
    "- Можно также ввести возрастные категории, однако в задании не стоит задача анализа зависимотси возраста и возврата кредита в срок "
   ]
  },
  {
   "cell_type": "markdown",
   "metadata": {},
   "source": [
    "## Шаг 3. Исследование зависимостей"
   ]
  },
  {
   "cell_type": "markdown",
   "metadata": {},
   "source": [
    "Ещё раз взглянем на данные"
   ]
  },
  {
   "cell_type": "code",
   "execution_count": 24,
   "metadata": {},
   "outputs": [
    {
     "data": {
      "text/html": [
       "<div>\n",
       "<style scoped>\n",
       "    .dataframe tbody tr th:only-of-type {\n",
       "        vertical-align: middle;\n",
       "    }\n",
       "\n",
       "    .dataframe tbody tr th {\n",
       "        vertical-align: top;\n",
       "    }\n",
       "\n",
       "    .dataframe thead th {\n",
       "        text-align: right;\n",
       "    }\n",
       "</style>\n",
       "<table border=\"1\" class=\"dataframe\">\n",
       "  <thead>\n",
       "    <tr style=\"text-align: right;\">\n",
       "      <th></th>\n",
       "      <th>children</th>\n",
       "      <th>days_employed</th>\n",
       "      <th>dob_years</th>\n",
       "      <th>education</th>\n",
       "      <th>education_id</th>\n",
       "      <th>family_status</th>\n",
       "      <th>family_status_id</th>\n",
       "      <th>gender</th>\n",
       "      <th>income_type</th>\n",
       "      <th>debt</th>\n",
       "      <th>total_income</th>\n",
       "      <th>purpose</th>\n",
       "      <th>purpose_category</th>\n",
       "      <th>income_level</th>\n",
       "    </tr>\n",
       "  </thead>\n",
       "  <tbody>\n",
       "    <tr>\n",
       "      <td>0</td>\n",
       "      <td>1</td>\n",
       "      <td>8437</td>\n",
       "      <td>42</td>\n",
       "      <td>высшее</td>\n",
       "      <td>0</td>\n",
       "      <td>женат / замужем</td>\n",
       "      <td>0</td>\n",
       "      <td>F</td>\n",
       "      <td>сотрудник</td>\n",
       "      <td>0</td>\n",
       "      <td>253875</td>\n",
       "      <td>покупка жилья</td>\n",
       "      <td>недвижимость</td>\n",
       "      <td>очень высокий</td>\n",
       "    </tr>\n",
       "    <tr>\n",
       "      <td>1</td>\n",
       "      <td>1</td>\n",
       "      <td>4024</td>\n",
       "      <td>36</td>\n",
       "      <td>среднее</td>\n",
       "      <td>1</td>\n",
       "      <td>женат / замужем</td>\n",
       "      <td>0</td>\n",
       "      <td>F</td>\n",
       "      <td>сотрудник</td>\n",
       "      <td>0</td>\n",
       "      <td>112080</td>\n",
       "      <td>приобретение автомобиля</td>\n",
       "      <td>автомобиль</td>\n",
       "      <td>средний</td>\n",
       "    </tr>\n",
       "    <tr>\n",
       "      <td>2</td>\n",
       "      <td>0</td>\n",
       "      <td>5623</td>\n",
       "      <td>33</td>\n",
       "      <td>среднее</td>\n",
       "      <td>1</td>\n",
       "      <td>женат / замужем</td>\n",
       "      <td>0</td>\n",
       "      <td>M</td>\n",
       "      <td>сотрудник</td>\n",
       "      <td>0</td>\n",
       "      <td>145885</td>\n",
       "      <td>покупка жилья</td>\n",
       "      <td>недвижимость</td>\n",
       "      <td>средний</td>\n",
       "    </tr>\n",
       "    <tr>\n",
       "      <td>3</td>\n",
       "      <td>3</td>\n",
       "      <td>4124</td>\n",
       "      <td>32</td>\n",
       "      <td>среднее</td>\n",
       "      <td>1</td>\n",
       "      <td>женат / замужем</td>\n",
       "      <td>0</td>\n",
       "      <td>M</td>\n",
       "      <td>сотрудник</td>\n",
       "      <td>0</td>\n",
       "      <td>267628</td>\n",
       "      <td>дополнительное образование</td>\n",
       "      <td>образование</td>\n",
       "      <td>очень высокий</td>\n",
       "    </tr>\n",
       "    <tr>\n",
       "      <td>4</td>\n",
       "      <td>0</td>\n",
       "      <td>0</td>\n",
       "      <td>53</td>\n",
       "      <td>среднее</td>\n",
       "      <td>1</td>\n",
       "      <td>гражданский брак</td>\n",
       "      <td>1</td>\n",
       "      <td>F</td>\n",
       "      <td>пенсионер</td>\n",
       "      <td>0</td>\n",
       "      <td>158616</td>\n",
       "      <td>сыграть свадьбу</td>\n",
       "      <td>свадьба</td>\n",
       "      <td>средний</td>\n",
       "    </tr>\n",
       "    <tr>\n",
       "      <td>5</td>\n",
       "      <td>0</td>\n",
       "      <td>926</td>\n",
       "      <td>27</td>\n",
       "      <td>высшее</td>\n",
       "      <td>0</td>\n",
       "      <td>гражданский брак</td>\n",
       "      <td>1</td>\n",
       "      <td>M</td>\n",
       "      <td>компаньон</td>\n",
       "      <td>0</td>\n",
       "      <td>255763</td>\n",
       "      <td>покупка жилья</td>\n",
       "      <td>недвижимость</td>\n",
       "      <td>очень высокий</td>\n",
       "    </tr>\n",
       "    <tr>\n",
       "      <td>6</td>\n",
       "      <td>0</td>\n",
       "      <td>2879</td>\n",
       "      <td>43</td>\n",
       "      <td>высшее</td>\n",
       "      <td>0</td>\n",
       "      <td>женат / замужем</td>\n",
       "      <td>0</td>\n",
       "      <td>F</td>\n",
       "      <td>компаньон</td>\n",
       "      <td>0</td>\n",
       "      <td>240525</td>\n",
       "      <td>операции с жильем</td>\n",
       "      <td>недвижимость</td>\n",
       "      <td>средний</td>\n",
       "    </tr>\n",
       "    <tr>\n",
       "      <td>7</td>\n",
       "      <td>0</td>\n",
       "      <td>152</td>\n",
       "      <td>50</td>\n",
       "      <td>среднее</td>\n",
       "      <td>1</td>\n",
       "      <td>женат / замужем</td>\n",
       "      <td>0</td>\n",
       "      <td>M</td>\n",
       "      <td>сотрудник</td>\n",
       "      <td>0</td>\n",
       "      <td>135823</td>\n",
       "      <td>образование</td>\n",
       "      <td>образование</td>\n",
       "      <td>средний</td>\n",
       "    </tr>\n",
       "    <tr>\n",
       "      <td>8</td>\n",
       "      <td>2</td>\n",
       "      <td>6929</td>\n",
       "      <td>35</td>\n",
       "      <td>высшее</td>\n",
       "      <td>0</td>\n",
       "      <td>гражданский брак</td>\n",
       "      <td>1</td>\n",
       "      <td>F</td>\n",
       "      <td>сотрудник</td>\n",
       "      <td>0</td>\n",
       "      <td>95856</td>\n",
       "      <td>на проведение свадьбы</td>\n",
       "      <td>свадьба</td>\n",
       "      <td>средний</td>\n",
       "    </tr>\n",
       "    <tr>\n",
       "      <td>9</td>\n",
       "      <td>0</td>\n",
       "      <td>2188</td>\n",
       "      <td>41</td>\n",
       "      <td>среднее</td>\n",
       "      <td>1</td>\n",
       "      <td>женат / замужем</td>\n",
       "      <td>0</td>\n",
       "      <td>M</td>\n",
       "      <td>сотрудник</td>\n",
       "      <td>0</td>\n",
       "      <td>144425</td>\n",
       "      <td>покупка жилья для семьи</td>\n",
       "      <td>недвижимость</td>\n",
       "      <td>средний</td>\n",
       "    </tr>\n",
       "  </tbody>\n",
       "</table>\n",
       "</div>"
      ],
      "text/plain": [
       "   children  days_employed  dob_years education  education_id  \\\n",
       "0         1           8437         42    высшее             0   \n",
       "1         1           4024         36   среднее             1   \n",
       "2         0           5623         33   среднее             1   \n",
       "3         3           4124         32   среднее             1   \n",
       "4         0              0         53   среднее             1   \n",
       "5         0            926         27    высшее             0   \n",
       "6         0           2879         43    высшее             0   \n",
       "7         0            152         50   среднее             1   \n",
       "8         2           6929         35    высшее             0   \n",
       "9         0           2188         41   среднее             1   \n",
       "\n",
       "      family_status  family_status_id gender income_type  debt  total_income  \\\n",
       "0   женат / замужем                 0      F   сотрудник     0        253875   \n",
       "1   женат / замужем                 0      F   сотрудник     0        112080   \n",
       "2   женат / замужем                 0      M   сотрудник     0        145885   \n",
       "3   женат / замужем                 0      M   сотрудник     0        267628   \n",
       "4  гражданский брак                 1      F   пенсионер     0        158616   \n",
       "5  гражданский брак                 1      M   компаньон     0        255763   \n",
       "6   женат / замужем                 0      F   компаньон     0        240525   \n",
       "7   женат / замужем                 0      M   сотрудник     0        135823   \n",
       "8  гражданский брак                 1      F   сотрудник     0         95856   \n",
       "9   женат / замужем                 0      M   сотрудник     0        144425   \n",
       "\n",
       "                      purpose purpose_category   income_level  \n",
       "0               покупка жилья     недвижимость  очень высокий  \n",
       "1     приобретение автомобиля       автомобиль        средний  \n",
       "2               покупка жилья     недвижимость        средний  \n",
       "3  дополнительное образование      образование  очень высокий  \n",
       "4             сыграть свадьбу          свадьба        средний  \n",
       "5               покупка жилья     недвижимость  очень высокий  \n",
       "6           операции с жильем     недвижимость        средний  \n",
       "7                 образование      образование        средний  \n",
       "8       на проведение свадьбы          свадьба        средний  \n",
       "9     покупка жилья для семьи     недвижимость        средний  "
      ]
     },
     "metadata": {},
     "output_type": "display_data"
    },
    {
     "name": "stdout",
     "output_type": "stream",
     "text": [
      "<class 'pandas.core.frame.DataFrame'>\n",
      "RangeIndex: 21454 entries, 0 to 21453\n",
      "Data columns (total 14 columns):\n",
      "children            21454 non-null int32\n",
      "days_employed       21454 non-null int32\n",
      "dob_years           21454 non-null int32\n",
      "education           21454 non-null object\n",
      "education_id        21454 non-null int16\n",
      "family_status       21454 non-null object\n",
      "family_status_id    21454 non-null int16\n",
      "gender              21454 non-null object\n",
      "income_type         21454 non-null object\n",
      "debt                21454 non-null int16\n",
      "total_income        21454 non-null int64\n",
      "purpose             21454 non-null object\n",
      "purpose_category    21454 non-null object\n",
      "income_level        21454 non-null object\n",
      "dtypes: int16(3), int32(3), int64(1), object(7)\n",
      "memory usage: 1.7+ MB\n"
     ]
    }
   ],
   "source": [
    "display(df.head(10)) \n",
    "df.info()"
   ]
  },
  {
   "cell_type": "markdown",
   "metadata": {},
   "source": [
    "Для того, чтобы оценить вероятность невозврата кредита в срок для какой-либо категории, можем взять среднее значение `debt` по этой категории, чем ближе значение среднего к нулю, тем меньше вероятность того, что клиент в такой категории буудет иметь задолженность."
   ]
  },
  {
   "cell_type": "markdown",
   "metadata": {},
   "source": [
    "#### Есть ли зависимость между наличием детей и возвратом кредита в срок?"
   ]
  },
  {
   "cell_type": "markdown",
   "metadata": {},
   "source": [
    "С помощью фмльтра по столбцу `children` посмотрим средние значения вероятности задолженности для клиентов с детьми и без детей\n",
    "\n",
    "Заодно посмотрим уникальные значения в столбца `children` немного, сгруппируем по ним и посмотрим на средние значения и на количество записей столбца `debt`. "
   ]
  },
  {
   "cell_type": "code",
   "execution_count": 25,
   "metadata": {},
   "outputs": [
    {
     "name": "stdout",
     "output_type": "stream",
     "text": [
      "Доля задолжников:\n",
      "        с детьми: 9.21%\n",
      "       без детей: 7.54%\n"
     ]
    },
    {
     "data": {
      "text/html": [
       "<div>\n",
       "<style scoped>\n",
       "    .dataframe tbody tr th:only-of-type {\n",
       "        vertical-align: middle;\n",
       "    }\n",
       "\n",
       "    .dataframe tbody tr th {\n",
       "        vertical-align: top;\n",
       "    }\n",
       "\n",
       "    .dataframe thead th {\n",
       "        text-align: right;\n",
       "    }\n",
       "</style>\n",
       "<table border=\"1\" class=\"dataframe\">\n",
       "  <thead>\n",
       "    <tr style=\"text-align: right;\">\n",
       "      <th></th>\n",
       "      <th>mean</th>\n",
       "      <th>count</th>\n",
       "    </tr>\n",
       "    <tr>\n",
       "      <th>children</th>\n",
       "      <th></th>\n",
       "      <th></th>\n",
       "    </tr>\n",
       "  </thead>\n",
       "  <tbody>\n",
       "    <tr>\n",
       "      <td>0</td>\n",
       "      <td>0.075438</td>\n",
       "      <td>14091</td>\n",
       "    </tr>\n",
       "    <tr>\n",
       "      <td>1</td>\n",
       "      <td>0.091658</td>\n",
       "      <td>4855</td>\n",
       "    </tr>\n",
       "    <tr>\n",
       "      <td>2</td>\n",
       "      <td>0.094925</td>\n",
       "      <td>2128</td>\n",
       "    </tr>\n",
       "    <tr>\n",
       "      <td>3</td>\n",
       "      <td>0.081818</td>\n",
       "      <td>330</td>\n",
       "    </tr>\n",
       "    <tr>\n",
       "      <td>4</td>\n",
       "      <td>0.097561</td>\n",
       "      <td>41</td>\n",
       "    </tr>\n",
       "    <tr>\n",
       "      <td>5</td>\n",
       "      <td>0.000000</td>\n",
       "      <td>9</td>\n",
       "    </tr>\n",
       "  </tbody>\n",
       "</table>\n",
       "</div>"
      ],
      "text/plain": [
       "              mean  count\n",
       "children                 \n",
       "0         0.075438  14091\n",
       "1         0.091658   4855\n",
       "2         0.094925   2128\n",
       "3         0.081818    330\n",
       "4         0.097561     41\n",
       "5         0.000000      9"
      ]
     },
     "execution_count": 25,
     "metadata": {},
     "output_type": "execute_result"
    }
   ],
   "source": [
    "print(f\"Доля задолжников:\")\n",
    "print(f\"        с детьми: {df[df['children']>0]['debt'].mean():.2%}\")\n",
    "print(f\"       без детей: {df[df['children']==0]['debt'].mean():.2%}\")\n",
    "df.groupby('children')['debt'].agg(['mean','count'])\n"
   ]
  },
  {
   "cell_type": "markdown",
   "metadata": {},
   "source": [
    "**Вывод**"
   ]
  },
  {
   "cell_type": "markdown",
   "metadata": {},
   "source": [
    "Действительно факт наличия детей влияет на вероятность возврата креддита в срок: доля задолжников у клиентов с детьми в среднем почти на 2% выше, чем у клиентов без детей.\n",
    "При этом есть некоторый разброс значений в зависимости от количества детей, но в целом у любой подгруппы вероятность задолженности выше, чем у клиентов без детей. \n",
    "\n",
    "Может показаться, что чем больше детей, тем вероятность задолженности должна быть больше. Однако на данной выборке это не так, но не стоит забывать, что группы с 3, 4, и 5 детьми самые малочисленные, эти выборки не такие репрезентативные. Поэтому есть смысл смотреть именно на факт наличия детей."
   ]
  },
  {
   "cell_type": "markdown",
   "metadata": {},
   "source": [
    "#### Есть ли зависимость между семейным положением и возвратом кредита в срок? "
   ]
  },
  {
   "cell_type": "markdown",
   "metadata": {},
   "source": [
    "Снова сгруппируем данные, теперь по столбцу `family_status` и посмотрим на средние значения и на количество записей столбца `debt`."
   ]
  },
  {
   "cell_type": "code",
   "execution_count": 26,
   "metadata": {},
   "outputs": [
    {
     "data": {
      "text/html": [
       "<div>\n",
       "<style scoped>\n",
       "    .dataframe tbody tr th:only-of-type {\n",
       "        vertical-align: middle;\n",
       "    }\n",
       "\n",
       "    .dataframe tbody tr th {\n",
       "        vertical-align: top;\n",
       "    }\n",
       "\n",
       "    .dataframe thead th {\n",
       "        text-align: right;\n",
       "    }\n",
       "</style>\n",
       "<table border=\"1\" class=\"dataframe\">\n",
       "  <thead>\n",
       "    <tr style=\"text-align: right;\">\n",
       "      <th></th>\n",
       "      <th>mean</th>\n",
       "      <th>count</th>\n",
       "    </tr>\n",
       "    <tr>\n",
       "      <th>family_status</th>\n",
       "      <th></th>\n",
       "      <th></th>\n",
       "    </tr>\n",
       "  </thead>\n",
       "  <tbody>\n",
       "    <tr>\n",
       "      <td>в разводе</td>\n",
       "      <td>0.071130</td>\n",
       "      <td>1195</td>\n",
       "    </tr>\n",
       "    <tr>\n",
       "      <td>вдовец / вдова</td>\n",
       "      <td>0.065693</td>\n",
       "      <td>959</td>\n",
       "    </tr>\n",
       "    <tr>\n",
       "      <td>гражданский брак</td>\n",
       "      <td>0.093471</td>\n",
       "      <td>4151</td>\n",
       "    </tr>\n",
       "    <tr>\n",
       "      <td>женат / замужем</td>\n",
       "      <td>0.075452</td>\n",
       "      <td>12339</td>\n",
       "    </tr>\n",
       "    <tr>\n",
       "      <td>не женат / не замужем</td>\n",
       "      <td>0.097509</td>\n",
       "      <td>2810</td>\n",
       "    </tr>\n",
       "  </tbody>\n",
       "</table>\n",
       "</div>"
      ],
      "text/plain": [
       "                           mean  count\n",
       "family_status                         \n",
       "в разводе              0.071130   1195\n",
       "вдовец / вдова         0.065693    959\n",
       "гражданский брак       0.093471   4151\n",
       "женат / замужем        0.075452  12339\n",
       "не женат / не замужем  0.097509   2810"
      ]
     },
     "execution_count": 26,
     "metadata": {},
     "output_type": "execute_result"
    }
   ],
   "source": [
    "df.groupby(['family_status'])['debt'].agg(['mean','count'])"
   ]
  },
  {
   "cell_type": "markdown",
   "metadata": {},
   "source": [
    "Больше всего кредит берут женатые, они, как и клиенты в разводе и вдовцы/вдовы чаще остальных в среднем возвращают кредиты в срок. Но эти данные следует изучать в зависимости от пола.  Сгруппируем теперь данные с подкатегорией `gender`. Заодно посмотрим на общие средние по принадлежности клиентов к полу"
   ]
  },
  {
   "cell_type": "code",
   "execution_count": 27,
   "metadata": {},
   "outputs": [
    {
     "data": {
      "text/html": [
       "<div>\n",
       "<style scoped>\n",
       "    .dataframe tbody tr th:only-of-type {\n",
       "        vertical-align: middle;\n",
       "    }\n",
       "\n",
       "    .dataframe tbody tr th {\n",
       "        vertical-align: top;\n",
       "    }\n",
       "\n",
       "    .dataframe thead th {\n",
       "        text-align: right;\n",
       "    }\n",
       "</style>\n",
       "<table border=\"1\" class=\"dataframe\">\n",
       "  <thead>\n",
       "    <tr style=\"text-align: right;\">\n",
       "      <th></th>\n",
       "      <th>mean</th>\n",
       "      <th>count</th>\n",
       "    </tr>\n",
       "    <tr>\n",
       "      <th>gender</th>\n",
       "      <th></th>\n",
       "      <th></th>\n",
       "    </tr>\n",
       "  </thead>\n",
       "  <tbody>\n",
       "    <tr>\n",
       "      <td>F</td>\n",
       "      <td>0.070123</td>\n",
       "      <td>14175</td>\n",
       "    </tr>\n",
       "    <tr>\n",
       "      <td>M</td>\n",
       "      <td>0.102624</td>\n",
       "      <td>7279</td>\n",
       "    </tr>\n",
       "  </tbody>\n",
       "</table>\n",
       "</div>"
      ],
      "text/plain": [
       "            mean  count\n",
       "gender                 \n",
       "F       0.070123  14175\n",
       "M       0.102624   7279"
      ]
     },
     "metadata": {},
     "output_type": "display_data"
    },
    {
     "data": {
      "text/html": [
       "<div>\n",
       "<style scoped>\n",
       "    .dataframe tbody tr th:only-of-type {\n",
       "        vertical-align: middle;\n",
       "    }\n",
       "\n",
       "    .dataframe tbody tr th {\n",
       "        vertical-align: top;\n",
       "    }\n",
       "\n",
       "    .dataframe thead th {\n",
       "        text-align: right;\n",
       "    }\n",
       "</style>\n",
       "<table border=\"1\" class=\"dataframe\">\n",
       "  <thead>\n",
       "    <tr style=\"text-align: right;\">\n",
       "      <th></th>\n",
       "      <th></th>\n",
       "      <th>mean</th>\n",
       "      <th>count</th>\n",
       "    </tr>\n",
       "    <tr>\n",
       "      <th>family_status</th>\n",
       "      <th>gender</th>\n",
       "      <th></th>\n",
       "      <th></th>\n",
       "    </tr>\n",
       "  </thead>\n",
       "  <tbody>\n",
       "    <tr>\n",
       "      <td rowspan=\"2\" valign=\"top\">в разводе</td>\n",
       "      <td>F</td>\n",
       "      <td>0.065171</td>\n",
       "      <td>936</td>\n",
       "    </tr>\n",
       "    <tr>\n",
       "      <td>M</td>\n",
       "      <td>0.092664</td>\n",
       "      <td>259</td>\n",
       "    </tr>\n",
       "    <tr>\n",
       "      <td rowspan=\"2\" valign=\"top\">вдовец / вдова</td>\n",
       "      <td>F</td>\n",
       "      <td>0.057522</td>\n",
       "      <td>904</td>\n",
       "    </tr>\n",
       "    <tr>\n",
       "      <td>M</td>\n",
       "      <td>0.200000</td>\n",
       "      <td>55</td>\n",
       "    </tr>\n",
       "    <tr>\n",
       "      <td rowspan=\"2\" valign=\"top\">гражданский брак</td>\n",
       "      <td>F</td>\n",
       "      <td>0.081869</td>\n",
       "      <td>2846</td>\n",
       "    </tr>\n",
       "    <tr>\n",
       "      <td>M</td>\n",
       "      <td>0.118774</td>\n",
       "      <td>1305</td>\n",
       "    </tr>\n",
       "    <tr>\n",
       "      <td rowspan=\"2\" valign=\"top\">женат / замужем</td>\n",
       "      <td>F</td>\n",
       "      <td>0.068299</td>\n",
       "      <td>7760</td>\n",
       "    </tr>\n",
       "    <tr>\n",
       "      <td>M</td>\n",
       "      <td>0.087574</td>\n",
       "      <td>4579</td>\n",
       "    </tr>\n",
       "    <tr>\n",
       "      <td rowspan=\"2\" valign=\"top\">не женат / не замужем</td>\n",
       "      <td>F</td>\n",
       "      <td>0.068248</td>\n",
       "      <td>1729</td>\n",
       "    </tr>\n",
       "    <tr>\n",
       "      <td>M</td>\n",
       "      <td>0.144311</td>\n",
       "      <td>1081</td>\n",
       "    </tr>\n",
       "  </tbody>\n",
       "</table>\n",
       "</div>"
      ],
      "text/plain": [
       "                                  mean  count\n",
       "family_status         gender                 \n",
       "в разводе             F       0.065171    936\n",
       "                      M       0.092664    259\n",
       "вдовец / вдова        F       0.057522    904\n",
       "                      M       0.200000     55\n",
       "гражданский брак      F       0.081869   2846\n",
       "                      M       0.118774   1305\n",
       "женат / замужем       F       0.068299   7760\n",
       "                      M       0.087574   4579\n",
       "не женат / не замужем F       0.068248   1729\n",
       "                      M       0.144311   1081"
      ]
     },
     "execution_count": 27,
     "metadata": {},
     "output_type": "execute_result"
    }
   ],
   "source": [
    "display(df.groupby(['gender'])['debt'].agg(['mean','count']))\n",
    "df.groupby(['family_status','gender'])['debt'].agg(['mean','count'])"
   ]
  },
  {
   "cell_type": "markdown",
   "metadata": {},
   "source": [
    "Мужчины в целом чаще имеют задолженности, чем женщины. Эта закономерность прослеживается для всех категорий семейного положения.\n",
    "Для большей наглядности посмотрим диаграмму"
   ]
  },
  {
   "cell_type": "code",
   "execution_count": 28,
   "metadata": {},
   "outputs": [
    {
     "data": {
      "text/plain": [
       "<matplotlib.axes._subplots.AxesSubplot at 0x26de6cac348>"
      ]
     },
     "execution_count": 28,
     "metadata": {},
     "output_type": "execute_result"
    },
    {
     "data": {
      "image/png": "[encoded data removed]",
      "text/plain": [
       "<Figure size 432x288 with 1 Axes>"
      ]
     },
     "metadata": {
      "needs_background": "light"
     },
     "output_type": "display_data"
    }
   ],
   "source": [
    "import seaborn as sns\n",
    "from matplotlib import pyplot as plt\n",
    "# диаграмма вне зависимости от пола, цвет столбцов - серый, разброс - красный\n",
    "sns.barplot(x='debt', y='family_status', data=df, color='grey', errcolor='red')\n",
    "# диаграмма в зависимости от пола клиентов\n",
    "sns.barplot(x='debt', y='family_status', data=df, hue='gender')"
   ]
  },
  {
   "cell_type": "markdown",
   "metadata": {},
   "source": [
    "**Вывод**"
   ]
  },
  {
   "cell_type": "markdown",
   "metadata": {},
   "source": [
    "Таким образом в среднем:\n",
    "- чаще остальных в срок возвращают кредит клиенты со статусом `в разводе`, `вдовец / вдова` и `женат / замужем`\n",
    "- доля невернувшив кредит вовремя для групп `гражданский брак` и `не женат / не замужем` на 2-3% больше, чем для обозначенных выше\n",
    "\n",
    "При этом мужчины показывают себя как менее надёжные клиенты в группах `вдовец` и `не женат` \n",
    "- доля вдовцев почти в 4 раза выше, чем вдов, однако разброс значений для этой категории самый высокий\n",
    "- доля не женатых мужчин примерно в 2 раза выше, чем  женщин не замужем"
   ]
  },
  {
   "cell_type": "markdown",
   "metadata": {},
   "source": [
    "<a id='income_analisys'></a>\n",
    "#### Есть ли зависимость между уровнем дохода и возвратом кредита в срок?"
   ]
  },
  {
   "cell_type": "markdown",
   "metadata": {},
   "source": [
    "Посмотрим на диаграмму рассеяния по доходам, выберем целевой показатель возраст, просто чтобы \"размазать\" точки по плоскости.\n",
    "Размером и цветом выделим вероятность возврата кредита в срок"
   ]
  },
  {
   "cell_type": "code",
   "execution_count": 29,
   "metadata": {},
   "outputs": [
    {
     "data": {
      "image/png": "[encoded data removed]",
      "text/plain": [
       "<Figure size 1080x576 with 1 Axes>"
      ]
     },
     "metadata": {
      "needs_background": "light"
     },
     "output_type": "display_data"
    }
   ],
   "source": [
    "plt.figure(figsize=(15,8))\n",
    "sns.scatterplot(data=df, x=\"total_income\", y=\"dob_years\", hue=\"debt\", size=\"debt\", sizes = (50,10));"
   ]
  },
  {
   "cell_type": "markdown",
   "metadata": {},
   "source": [
    "Так закономерности видны плохо, ясно лишь, что клиенты с большимы доходами, свыше 500k - редкость, мы это уже видели "
   ]
  },
  {
   "cell_type": "code",
   "execution_count": 30,
   "metadata": {},
   "outputs": [
    {
     "data": {
      "image/png": "[encoded data removed]",
      "text/plain": [
       "<Figure size 1080x576 with 1 Axes>"
      ]
     },
     "metadata": {
      "needs_background": "light"
     },
     "output_type": "display_data"
    }
   ],
   "source": [
    "plt.figure(figsize=(15,8))\n",
    "sns.scatterplot(data=df[df['total_income']<5e5], x=\"total_income\", y=\"dob_years\", hue=\"debt\", size=\"debt\", sizes = (50,10));"
   ]
  },
  {
   "cell_type": "markdown",
   "metadata": {},
   "source": [
    "Немного уточним категории, заданные изначально:\n",
    "\n",
    "К низким доходам отнесём значения до 100k, к средним - от 100k до 150k, выше среднего - от 150k до 200k, высоким - от 200k до 350k, к очень высоким - значения свыше 350k"
   ]
  },
  {
   "cell_type": "code",
   "execution_count": 31,
   "metadata": {},
   "outputs": [
    {
     "data": {
      "text/html": [
       "<div>\n",
       "<style scoped>\n",
       "    .dataframe tbody tr th:only-of-type {\n",
       "        vertical-align: middle;\n",
       "    }\n",
       "\n",
       "    .dataframe tbody tr th {\n",
       "        vertical-align: top;\n",
       "    }\n",
       "\n",
       "    .dataframe thead th {\n",
       "        text-align: right;\n",
       "    }\n",
       "</style>\n",
       "<table border=\"1\" class=\"dataframe\">\n",
       "  <thead>\n",
       "    <tr style=\"text-align: right;\">\n",
       "      <th></th>\n",
       "      <th>mean</th>\n",
       "      <th>count</th>\n",
       "    </tr>\n",
       "    <tr>\n",
       "      <th>income_level</th>\n",
       "      <th></th>\n",
       "      <th></th>\n",
       "    </tr>\n",
       "  </thead>\n",
       "  <tbody>\n",
       "    <tr>\n",
       "      <td>высокий</td>\n",
       "      <td>0.071136</td>\n",
       "      <td>1954</td>\n",
       "    </tr>\n",
       "    <tr>\n",
       "      <td>выше среднего</td>\n",
       "      <td>0.081077</td>\n",
       "      <td>7018</td>\n",
       "    </tr>\n",
       "    <tr>\n",
       "      <td>низкий</td>\n",
       "      <td>0.079319</td>\n",
       "      <td>4463</td>\n",
       "    </tr>\n",
       "    <tr>\n",
       "      <td>очень высокий</td>\n",
       "      <td>0.064028</td>\n",
       "      <td>859</td>\n",
       "    </tr>\n",
       "    <tr>\n",
       "      <td>средний</td>\n",
       "      <td>0.087151</td>\n",
       "      <td>7160</td>\n",
       "    </tr>\n",
       "  </tbody>\n",
       "</table>\n",
       "</div>"
      ],
      "text/plain": [
       "                   mean  count\n",
       "income_level                  \n",
       "высокий        0.071136   1954\n",
       "выше среднего  0.081077   7018\n",
       "низкий         0.079319   4463\n",
       "очень высокий  0.064028    859\n",
       "средний        0.087151   7160"
      ]
     },
     "metadata": {},
     "output_type": "display_data"
    },
    {
     "data": {
      "image/png": "[encoded data removed]",
      "text/plain": [
       "<Figure size 432x288 with 1 Axes>"
      ]
     },
     "metadata": {
      "needs_background": "light"
     },
     "output_type": "display_data"
    }
   ],
   "source": [
    "# отсортируем сначала данные в таблице по уровню дохода, чтобы в диаграмме столбики шли по порядку\n",
    "df = df.sort_values(['total_income'])\n",
    "# присваиваем категории\n",
    "df['income_level'] = df.apply(set_income_level, axis=1,\n",
    "                              split_values=[100000, 150000, 250000, 350000], \n",
    "                              categories=['низкий','средний','выше среднего','высокий','очень высокий'])\n",
    "# отображаем\n",
    "display(df.groupby('income_level')['debt'].agg(['mean','count']))\n",
    "sns.barplot(x='debt', y='income_level', data=df, color='grey', errcolor='red');\n",
    "sns.barplot(x='debt', y='income_level', data=df, hue='gender');"
   ]
  },
  {
   "cell_type": "markdown",
   "metadata": {},
   "source": [
    "В целом заметно, что для высокого и очень высокого уровней доходов (свыше 250k) вероятность возврта кредита в срок выше и меньше зависимость от пола клиента.\n",
    "\n",
    "Ниже этой отметки доля ненадёжных клиентов на 1-2 процента выше, ну и как обычно мужчины чаще имеют задолженности. Снова переопределим категории, чтобы внимательнее изучить клиентов с доходом менее 250k\n"
   ]
  },
  {
   "cell_type": "code",
   "execution_count": 32,
   "metadata": {},
   "outputs": [
    {
     "data": {
      "text/html": [
       "<div>\n",
       "<style scoped>\n",
       "    .dataframe tbody tr th:only-of-type {\n",
       "        vertical-align: middle;\n",
       "    }\n",
       "\n",
       "    .dataframe tbody tr th {\n",
       "        vertical-align: top;\n",
       "    }\n",
       "\n",
       "    .dataframe thead th {\n",
       "        text-align: right;\n",
       "    }\n",
       "</style>\n",
       "<table border=\"1\" class=\"dataframe\">\n",
       "  <thead>\n",
       "    <tr style=\"text-align: right;\">\n",
       "      <th></th>\n",
       "      <th>mean</th>\n",
       "      <th>count</th>\n",
       "    </tr>\n",
       "    <tr>\n",
       "      <th>income_level</th>\n",
       "      <th></th>\n",
       "      <th></th>\n",
       "    </tr>\n",
       "  </thead>\n",
       "  <tbody>\n",
       "    <tr>\n",
       "      <td>высокий</td>\n",
       "      <td>0.068966</td>\n",
       "      <td>2813</td>\n",
       "    </tr>\n",
       "    <tr>\n",
       "      <td>выше среднего</td>\n",
       "      <td>0.078670</td>\n",
       "      <td>3610</td>\n",
       "    </tr>\n",
       "    <tr>\n",
       "      <td>низкий</td>\n",
       "      <td>0.084245</td>\n",
       "      <td>5757</td>\n",
       "    </tr>\n",
       "    <tr>\n",
       "      <td>очень низкий</td>\n",
       "      <td>0.068521</td>\n",
       "      <td>1474</td>\n",
       "    </tr>\n",
       "    <tr>\n",
       "      <td>средний</td>\n",
       "      <td>0.086795</td>\n",
       "      <td>7800</td>\n",
       "    </tr>\n",
       "  </tbody>\n",
       "</table>\n",
       "</div>"
      ],
      "text/plain": [
       "                   mean  count\n",
       "income_level                  \n",
       "высокий        0.068966   2813\n",
       "выше среднего  0.078670   3610\n",
       "низкий         0.084245   5757\n",
       "очень низкий   0.068521   1474\n",
       "средний        0.086795   7800"
      ]
     },
     "metadata": {},
     "output_type": "display_data"
    },
    {
     "data": {
      "image/png": "[encoded data removed]",
      "text/plain": [
       "<Figure size 432x288 with 1 Axes>"
      ]
     },
     "metadata": {
      "needs_background": "light"
     },
     "output_type": "display_data"
    }
   ],
   "source": [
    "df['income_level'] = df.apply(set_income_level, axis=1,\n",
    "                              split_values=[70000, 120000, 180000, 250000], \n",
    "                              categories=['очень низкий','низкий','средний','выше среднего','высокий'])\n",
    "display(df.groupby('income_level')['debt'].agg(['mean','count']))\n",
    "sns.barplot(x='debt', y='income_level', data=df, color='grey', errcolor='red');\n",
    "sns.barplot(x='debt', y='income_level', data=df, hue='gender');\n"
   ]
  },
  {
   "cell_type": "markdown",
   "metadata": {},
   "source": [
    "В среднем самая ненадёжная категория - клиенты с уровнем дохода от 120k до 180k, примечательно, что клиенты с уровнем дохода ниже 70k также редко имеют задолженности, как и клиенты с доходами выше 250k."
   ]
  },
  {
   "cell_type": "markdown",
   "metadata": {},
   "source": [
    "**Вывод**"
   ]
  },
  {
   "cell_type": "markdown",
   "metadata": {},
   "source": [
    "- Для уровня доходов выше 250k вероятность возврата кредита в срок почти не зависит от пола клиента.\n",
    "- Для уровня доходов ниже 250k вероятность возврата кредита в срок для женщин выше, чем для мужчин примерно в полтора раза.\n",
    "- Наиболее надёжные клиенты - с заработком ниже 70k или выше 250k\n",
    "- Наиболее ненадёжные - со средним заработком, примерно от 100k до 180k "
   ]
  },
  {
   "cell_type": "markdown",
   "metadata": {},
   "source": [
    "#### Как разные цели кредита влияют на его возврат в срок?"
   ]
  },
  {
   "cell_type": "markdown",
   "metadata": {},
   "source": [
    "Сразу отобразим диаграмму, средние значения и количество значений `debt` для каждой категории"
   ]
  },
  {
   "cell_type": "code",
   "execution_count": 33,
   "metadata": {},
   "outputs": [
    {
     "data": {
      "text/html": [
       "<div>\n",
       "<style scoped>\n",
       "    .dataframe tbody tr th:only-of-type {\n",
       "        vertical-align: middle;\n",
       "    }\n",
       "\n",
       "    .dataframe tbody tr th {\n",
       "        vertical-align: top;\n",
       "    }\n",
       "\n",
       "    .dataframe thead th {\n",
       "        text-align: right;\n",
       "    }\n",
       "</style>\n",
       "<table border=\"1\" class=\"dataframe\">\n",
       "  <thead>\n",
       "    <tr style=\"text-align: right;\">\n",
       "      <th></th>\n",
       "      <th>mean</th>\n",
       "      <th>count</th>\n",
       "    </tr>\n",
       "    <tr>\n",
       "      <th>purpose_category</th>\n",
       "      <th></th>\n",
       "      <th></th>\n",
       "    </tr>\n",
       "  </thead>\n",
       "  <tbody>\n",
       "    <tr>\n",
       "      <td>автомобиль</td>\n",
       "      <td>0.093590</td>\n",
       "      <td>4306</td>\n",
       "    </tr>\n",
       "    <tr>\n",
       "      <td>недвижимость</td>\n",
       "      <td>0.072334</td>\n",
       "      <td>10811</td>\n",
       "    </tr>\n",
       "    <tr>\n",
       "      <td>образование</td>\n",
       "      <td>0.092200</td>\n",
       "      <td>4013</td>\n",
       "    </tr>\n",
       "    <tr>\n",
       "      <td>свадьба</td>\n",
       "      <td>0.080034</td>\n",
       "      <td>2324</td>\n",
       "    </tr>\n",
       "  </tbody>\n",
       "</table>\n",
       "</div>"
      ],
      "text/plain": [
       "                      mean  count\n",
       "purpose_category                 \n",
       "автомобиль        0.093590   4306\n",
       "недвижимость      0.072334  10811\n",
       "образование       0.092200   4013\n",
       "свадьба           0.080034   2324"
      ]
     },
     "metadata": {},
     "output_type": "display_data"
    },
    {
     "data": {
      "image/png": "[encoded data removed]",
      "text/plain": [
       "<Figure size 432x288 with 1 Axes>"
      ]
     },
     "metadata": {
      "needs_background": "light"
     },
     "output_type": "display_data"
    }
   ],
   "source": [
    "display(df.groupby('purpose_category')['debt'].agg(['mean','count']))\n",
    "sns.barplot(x='debt', y='purpose_category', data=df);"
   ]
  },
  {
   "cell_type": "markdown",
   "metadata": {},
   "source": [
    "**Вывод**"
   ]
  },
  {
   "cell_type": "markdown",
   "metadata": {},
   "source": [
    "- По кредитам, связанным со сделками с `недвижимостью` меньше всего задолжностей, немного больше по кредитам на `свадьбы`\n",
    "- Самые невозвращаемые кредиты - в категориях `автомобиль` и `образование`"
   ]
  },
  {
   "cell_type": "markdown",
   "metadata": {},
   "source": [
    "## Шаг 4. Общий вывод"
   ]
  },
  {
   "cell_type": "markdown",
   "metadata": {},
   "source": [
    "**Зависимость между наличием детей и возвратом кредита**\n",
    "- Доля задолжников у клиентов с детьми в среднем почти на 2% выше, чем у клиентов без детей. При этом ключевую роль играет именно факт наличия детей, нежели их количество.\n",
    "\n",
    "**Зависимость между семейным положением и возвратом кредита в срок**\n",
    "- Чаще остальных в срок возвращают кредит клиенты со статусом `в разводе`, `вдовец / вдова` и `женат / замужем`\n",
    "- Доля невернувшив кредит вовремя для групп `гражданский брак` и `не женат / не замужем` на 2-3% больше, чем для обозначенных выше\n",
    "- Доля мужчин не вернувших в срок кредит в категории `вдовец / вдова` почти в 4 раза выше, чем женщин\n",
    "- Доля не женатых мужчин не вернувших в срок кредит примерно в 2 раза выше, чем  женщин не замужем\n",
    "\n",
    "**Зависимость между уровнем дохода и возвратом кредита в срок**\n",
    "- Для уровня доходов выше 250k вероятность возврта кредита в срок почти не зависит от пола клиента.\n",
    "- Для уровня доходов ниже 250k вероятность возврта кредита в срок для женщин выше, чем для мужчин примерно в полтора раза.\n",
    "- Наиболее надёжные клиенты - с заработком ниже 70k или выше 250k\n",
    "- Наиболее ненадёжные - со средним заработком, примерно от 100k до 180k \n",
    "\n",
    "**Влияние целей кредита на его возврат в срок**\n",
    "- По кредитам, связанным со сделками с `недвижимостью` меньше всего задолжностей, немного больше по кредитам на `свадьбы`\n",
    "- Самые невозвращаемые кредиты - в категориях `автомобиль` и `образование`"
   ]
  }
 ],
 "metadata": {
  "ExecuteTimeLog": [
   {
    "duration": 1142,
    "start_time": "2021-12-20T03:45:48.139Z"
   },
   {
    "duration": 28,
    "start_time": "2021-12-20T03:45:49.283Z"
   },
   {
    "duration": 66,
    "start_time": "2021-12-20T03:45:49.313Z"
   },
   {
    "duration": 36,
    "start_time": "2021-12-20T03:45:49.382Z"
   },
   {
    "duration": 9,
    "start_time": "2021-12-20T03:45:49.420Z"
   },
   {
    "duration": 95,
    "start_time": "2021-12-20T03:45:49.431Z"
   },
   {
    "duration": 43,
    "start_time": "2021-12-20T03:45:49.528Z"
   },
   {
    "duration": 10,
    "start_time": "2021-12-20T03:45:49.573Z"
   },
   {
    "duration": 9,
    "start_time": "2021-12-20T03:45:49.587Z"
   },
   {
    "duration": 13,
    "start_time": "2021-12-20T03:45:49.599Z"
   },
   {
    "duration": 60,
    "start_time": "2021-12-20T03:45:49.615Z"
   },
   {
    "duration": 13,
    "start_time": "2021-12-20T03:45:49.677Z"
   },
   {
    "duration": 67,
    "start_time": "2021-12-20T03:45:49.692Z"
   },
   {
    "duration": 8,
    "start_time": "2021-12-20T03:45:49.761Z"
   },
   {
    "duration": 17,
    "start_time": "2021-12-20T03:45:49.771Z"
   },
   {
    "duration": 14,
    "start_time": "2021-12-20T03:45:49.790Z"
   },
   {
    "duration": 9,
    "start_time": "2021-12-20T03:45:49.806Z"
   },
   {
    "duration": 46,
    "start_time": "2021-12-20T03:45:49.817Z"
   },
   {
    "duration": 964,
    "start_time": "2021-12-20T03:45:49.865Z"
   },
   {
    "duration": 708,
    "start_time": "2021-12-20T03:45:50.832Z"
   },
   {
    "duration": 649,
    "start_time": "2021-12-20T03:45:51.543Z"
   },
   {
    "duration": 12,
    "start_time": "2021-12-20T03:45:52.194Z"
   },
   {
    "duration": 524,
    "start_time": "2021-12-20T03:45:52.209Z"
   },
   {
    "duration": 39,
    "start_time": "2021-12-20T03:45:52.735Z"
   },
   {
    "duration": 23,
    "start_time": "2021-12-20T03:45:52.777Z"
   },
   {
    "duration": 15,
    "start_time": "2021-12-20T03:45:52.803Z"
   },
   {
    "duration": 41,
    "start_time": "2021-12-20T03:45:52.823Z"
   },
   {
    "duration": 3444,
    "start_time": "2021-12-20T03:45:52.867Z"
   },
   {
    "duration": 1710,
    "start_time": "2021-12-20T03:45:56.313Z"
   },
   {
    "duration": 1835,
    "start_time": "2021-12-20T03:45:58.026Z"
   },
   {
    "duration": 2410,
    "start_time": "2021-12-20T03:45:59.864Z"
   },
   {
    "duration": 2390,
    "start_time": "2021-12-20T03:46:02.277Z"
   },
   {
    "duration": 943,
    "start_time": "2021-12-20T03:46:04.670Z"
   },
   {
    "duration": 437,
    "start_time": "2021-12-20T03:54:29.354Z"
   },
   {
    "duration": 28,
    "start_time": "2021-12-20T03:54:37.357Z"
   },
   {
    "duration": 100,
    "start_time": "2021-12-20T03:57:56.449Z"
   },
   {
    "duration": 280,
    "start_time": "2021-12-20T03:58:07.947Z"
   },
   {
    "duration": 19,
    "start_time": "2021-12-20T03:58:08.230Z"
   },
   {
    "duration": 51,
    "start_time": "2021-12-20T03:58:08.252Z"
   },
   {
    "duration": 60,
    "start_time": "2021-12-20T03:58:08.306Z"
   },
   {
    "duration": 10,
    "start_time": "2021-12-20T03:58:08.368Z"
   },
   {
    "duration": 100,
    "start_time": "2021-12-20T03:58:08.380Z"
   },
   {
    "duration": 25,
    "start_time": "2021-12-20T03:58:08.482Z"
   },
   {
    "duration": 10,
    "start_time": "2021-12-20T03:58:08.509Z"
   },
   {
    "duration": 151,
    "start_time": "2021-12-20T03:58:08.522Z"
   },
   {
    "duration": 33,
    "start_time": "2021-12-20T03:58:20.897Z"
   },
   {
    "duration": 16,
    "start_time": "2021-12-20T03:58:32.075Z"
   },
   {
    "duration": 24958,
    "start_time": "2021-12-20T03:58:40.189Z"
   },
   {
    "duration": 271,
    "start_time": "2021-12-20T03:59:13.609Z"
   },
   {
    "duration": 18,
    "start_time": "2021-12-20T03:59:13.883Z"
   },
   {
    "duration": 65,
    "start_time": "2021-12-20T03:59:13.904Z"
   },
   {
    "duration": 37,
    "start_time": "2021-12-20T03:59:13.972Z"
   },
   {
    "duration": 10,
    "start_time": "2021-12-20T03:59:14.011Z"
   },
   {
    "duration": 106,
    "start_time": "2021-12-20T03:59:14.023Z"
   },
   {
    "duration": 42,
    "start_time": "2021-12-20T03:59:14.132Z"
   },
   {
    "duration": 10,
    "start_time": "2021-12-20T03:59:14.177Z"
   },
   {
    "duration": 9,
    "start_time": "2021-12-20T03:59:14.190Z"
   },
   {
    "duration": 26529,
    "start_time": "2021-12-20T03:59:14.202Z"
   },
   {
    "duration": 25165,
    "start_time": "2021-12-20T03:59:56.096Z"
   },
   {
    "duration": 12,
    "start_time": "2021-12-20T04:01:07.436Z"
   },
   {
    "duration": 11,
    "start_time": "2021-12-20T04:01:51.990Z"
   },
   {
    "duration": 271,
    "start_time": "2021-12-20T04:02:04.659Z"
   },
   {
    "duration": 20,
    "start_time": "2021-12-20T04:02:04.933Z"
   },
   {
    "duration": 49,
    "start_time": "2021-12-20T04:02:04.957Z"
   },
   {
    "duration": 56,
    "start_time": "2021-12-20T04:02:05.008Z"
   },
   {
    "duration": 9,
    "start_time": "2021-12-20T04:02:05.066Z"
   },
   {
    "duration": 98,
    "start_time": "2021-12-20T04:02:05.077Z"
   },
   {
    "duration": 24,
    "start_time": "2021-12-20T04:02:05.177Z"
   },
   {
    "duration": 9,
    "start_time": "2021-12-20T04:02:05.203Z"
   },
   {
    "duration": 342,
    "start_time": "2021-12-20T04:02:05.216Z"
   },
   {
    "duration": 4,
    "start_time": "2021-12-20T04:02:37.547Z"
   },
   {
    "duration": 4,
    "start_time": "2021-12-20T04:03:52.332Z"
   },
   {
    "duration": 5,
    "start_time": "2021-12-20T04:04:00.939Z"
   },
   {
    "duration": 5,
    "start_time": "2021-12-20T04:04:09.650Z"
   },
   {
    "duration": 6,
    "start_time": "2021-12-20T04:04:14.424Z"
   },
   {
    "duration": 5,
    "start_time": "2021-12-20T04:06:14.838Z"
   },
   {
    "duration": 979,
    "start_time": "2021-12-20T04:07:10.786Z"
   },
   {
    "duration": 28,
    "start_time": "2021-12-20T04:07:11.768Z"
   },
   {
    "duration": 65,
    "start_time": "2021-12-20T04:07:11.799Z"
   },
   {
    "duration": 37,
    "start_time": "2021-12-20T04:07:11.867Z"
   },
   {
    "duration": 9,
    "start_time": "2021-12-20T04:07:11.907Z"
   },
   {
    "duration": 103,
    "start_time": "2021-12-20T04:07:11.919Z"
   },
   {
    "duration": 43,
    "start_time": "2021-12-20T04:07:12.025Z"
   },
   {
    "duration": 10,
    "start_time": "2021-12-20T04:07:12.072Z"
   },
   {
    "duration": 10,
    "start_time": "2021-12-20T04:07:12.085Z"
   },
   {
    "duration": 6,
    "start_time": "2021-12-20T04:07:12.098Z"
   },
   {
    "duration": 15,
    "start_time": "2021-12-20T04:07:12.107Z"
   },
   {
    "duration": 26,
    "start_time": "2021-12-20T04:07:12.160Z"
   },
   {
    "duration": 17,
    "start_time": "2021-12-20T04:07:12.188Z"
   },
   {
    "duration": 65,
    "start_time": "2021-12-20T04:07:12.208Z"
   },
   {
    "duration": 8,
    "start_time": "2021-12-20T04:07:12.275Z"
   },
   {
    "duration": 18,
    "start_time": "2021-12-20T04:07:12.285Z"
   },
   {
    "duration": 18,
    "start_time": "2021-12-20T04:07:12.305Z"
   },
   {
    "duration": 9,
    "start_time": "2021-12-20T04:07:12.360Z"
   },
   {
    "duration": 10,
    "start_time": "2021-12-20T04:07:12.372Z"
   },
   {
    "duration": 975,
    "start_time": "2021-12-20T04:07:12.384Z"
   },
   {
    "duration": 641,
    "start_time": "2021-12-20T04:07:13.362Z"
   },
   {
    "duration": 659,
    "start_time": "2021-12-20T04:07:14.006Z"
   },
   {
    "duration": 12,
    "start_time": "2021-12-20T04:07:14.671Z"
   },
   {
    "duration": 442,
    "start_time": "2021-12-20T04:07:14.686Z"
   },
   {
    "duration": 45,
    "start_time": "2021-12-20T04:07:15.131Z"
   },
   {
    "duration": 23,
    "start_time": "2021-12-20T04:07:15.178Z"
   },
   {
    "duration": 16,
    "start_time": "2021-12-20T04:07:15.203Z"
   },
   {
    "duration": 65,
    "start_time": "2021-12-20T04:07:15.221Z"
   },
   {
    "duration": 2502,
    "start_time": "2021-12-20T04:07:15.288Z"
   },
   {
    "duration": 1719,
    "start_time": "2021-12-20T04:07:17.793Z"
   },
   {
    "duration": 1810,
    "start_time": "2021-12-20T04:07:19.514Z"
   },
   {
    "duration": 2388,
    "start_time": "2021-12-20T04:07:21.327Z"
   },
   {
    "duration": 2494,
    "start_time": "2021-12-20T04:07:23.717Z"
   },
   {
    "duration": 941,
    "start_time": "2021-12-20T04:07:26.214Z"
   },
   {
    "duration": 580,
    "start_time": "2021-12-20T04:17:32.699Z"
   },
   {
    "duration": 4,
    "start_time": "2021-12-20T05:42:28.965Z"
   },
   {
    "duration": 1018,
    "start_time": "2021-12-20T05:47:46.254Z"
   },
   {
    "duration": 30,
    "start_time": "2021-12-20T05:47:48.622Z"
   },
   {
    "duration": 45,
    "start_time": "2021-12-20T05:47:50.213Z"
   },
   {
    "duration": 15,
    "start_time": "2021-12-20T05:47:59.341Z"
   },
   {
    "duration": 41,
    "start_time": "2021-12-20T05:48:07.588Z"
   },
   {
    "duration": 39,
    "start_time": "2021-12-20T05:48:09.074Z"
   },
   {
    "duration": 38,
    "start_time": "2021-12-20T05:48:18.021Z"
   },
   {
    "duration": 977,
    "start_time": "2021-12-20T05:48:48.799Z"
   },
   {
    "duration": 30,
    "start_time": "2021-12-20T05:48:49.779Z"
   },
   {
    "duration": 73,
    "start_time": "2021-12-20T05:48:49.813Z"
   },
   {
    "duration": 15,
    "start_time": "2021-12-20T05:48:49.889Z"
   },
   {
    "duration": 69,
    "start_time": "2021-12-20T05:48:49.907Z"
   },
   {
    "duration": 40,
    "start_time": "2021-12-20T05:48:49.979Z"
   },
   {
    "duration": 9,
    "start_time": "2021-12-20T05:48:50.022Z"
   },
   {
    "duration": 73,
    "start_time": "2021-12-20T05:48:50.064Z"
   },
   {
    "duration": 41,
    "start_time": "2021-12-20T05:48:50.140Z"
   },
   {
    "duration": 9,
    "start_time": "2021-12-20T05:48:50.183Z"
   },
   {
    "duration": 10,
    "start_time": "2021-12-20T05:48:50.195Z"
   },
   {
    "duration": 12,
    "start_time": "2021-12-20T05:48:50.207Z"
   },
   {
    "duration": 53,
    "start_time": "2021-12-20T05:48:50.222Z"
   },
   {
    "duration": 26,
    "start_time": "2021-12-20T05:48:50.278Z"
   },
   {
    "duration": 7,
    "start_time": "2021-12-20T05:48:50.306Z"
   },
   {
    "duration": 50,
    "start_time": "2021-12-20T05:48:50.316Z"
   },
   {
    "duration": 17,
    "start_time": "2021-12-20T05:48:50.369Z"
   },
   {
    "duration": 8,
    "start_time": "2021-12-20T05:48:50.389Z"
   },
   {
    "duration": 10,
    "start_time": "2021-12-20T05:48:50.400Z"
   },
   {
    "duration": 1003,
    "start_time": "2021-12-20T05:48:50.412Z"
   },
   {
    "duration": 716,
    "start_time": "2021-12-20T05:48:51.417Z"
   },
   {
    "duration": 671,
    "start_time": "2021-12-20T05:48:52.135Z"
   },
   {
    "duration": 11,
    "start_time": "2021-12-20T05:48:52.810Z"
   },
   {
    "duration": 446,
    "start_time": "2021-12-20T05:48:52.824Z"
   },
   {
    "duration": 33,
    "start_time": "2021-12-20T05:48:53.272Z"
   },
   {
    "duration": 23,
    "start_time": "2021-12-20T05:48:53.307Z"
   },
   {
    "duration": 42,
    "start_time": "2021-12-20T05:48:53.333Z"
   },
   {
    "duration": 30,
    "start_time": "2021-12-20T05:48:53.377Z"
   },
   {
    "duration": 2547,
    "start_time": "2021-12-20T05:48:53.409Z"
   },
   {
    "duration": 1707,
    "start_time": "2021-12-20T05:48:55.962Z"
   },
   {
    "duration": 1973,
    "start_time": "2021-12-20T05:48:57.672Z"
   },
   {
    "duration": 2473,
    "start_time": "2021-12-20T05:48:59.647Z"
   },
   {
    "duration": 2430,
    "start_time": "2021-12-20T05:49:02.123Z"
   },
   {
    "duration": 999,
    "start_time": "2021-12-20T05:49:04.564Z"
   },
   {
    "duration": 947,
    "start_time": "2021-12-20T05:49:15.891Z"
   },
   {
    "duration": 981,
    "start_time": "2021-12-20T05:49:42.994Z"
   },
   {
    "duration": 28,
    "start_time": "2021-12-20T05:49:43.978Z"
   },
   {
    "duration": 66,
    "start_time": "2021-12-20T05:49:44.009Z"
   },
   {
    "duration": 13,
    "start_time": "2021-12-20T05:49:44.077Z"
   },
   {
    "duration": 41,
    "start_time": "2021-12-20T05:49:44.092Z"
   },
   {
    "duration": 65,
    "start_time": "2021-12-20T05:49:44.135Z"
   },
   {
    "duration": 10,
    "start_time": "2021-12-20T05:49:44.202Z"
   },
   {
    "duration": 103,
    "start_time": "2021-12-20T05:49:44.216Z"
   },
   {
    "duration": 44,
    "start_time": "2021-12-20T05:49:44.322Z"
   },
   {
    "duration": 9,
    "start_time": "2021-12-20T05:49:44.368Z"
   },
   {
    "duration": 12,
    "start_time": "2021-12-20T05:49:44.380Z"
   },
   {
    "duration": 7,
    "start_time": "2021-12-20T05:49:44.394Z"
   },
   {
    "duration": 59,
    "start_time": "2021-12-20T05:49:44.404Z"
   },
   {
    "duration": 24,
    "start_time": "2021-12-20T05:49:44.466Z"
   },
   {
    "duration": 7,
    "start_time": "2021-12-20T05:49:44.492Z"
   },
   {
    "duration": 17,
    "start_time": "2021-12-20T05:49:44.502Z"
   },
   {
    "duration": 50,
    "start_time": "2021-12-20T05:49:44.521Z"
   },
   {
    "duration": 8,
    "start_time": "2021-12-20T05:49:44.573Z"
   },
   {
    "duration": 10,
    "start_time": "2021-12-20T05:49:44.583Z"
   },
   {
    "duration": 1006,
    "start_time": "2021-12-20T05:49:44.595Z"
   },
   {
    "duration": 641,
    "start_time": "2021-12-20T05:49:45.603Z"
   },
   {
    "duration": 657,
    "start_time": "2021-12-20T05:49:46.246Z"
   },
   {
    "duration": 11,
    "start_time": "2021-12-20T05:49:46.908Z"
   },
   {
    "duration": 434,
    "start_time": "2021-12-20T05:49:46.921Z"
   },
   {
    "duration": 34,
    "start_time": "2021-12-20T05:49:47.362Z"
   },
   {
    "duration": 23,
    "start_time": "2021-12-20T05:49:47.398Z"
   },
   {
    "duration": 44,
    "start_time": "2021-12-20T05:49:47.424Z"
   },
   {
    "duration": 31,
    "start_time": "2021-12-20T05:49:47.470Z"
   },
   {
    "duration": 2525,
    "start_time": "2021-12-20T05:49:47.503Z"
   },
   {
    "duration": 1753,
    "start_time": "2021-12-20T05:49:50.031Z"
   },
   {
    "duration": 1766,
    "start_time": "2021-12-20T05:49:51.787Z"
   },
   {
    "duration": 2632,
    "start_time": "2021-12-20T05:49:53.563Z"
   },
   {
    "duration": 2316,
    "start_time": "2021-12-20T05:49:56.198Z"
   },
   {
    "duration": 1053,
    "start_time": "2021-12-20T05:49:58.516Z"
   },
   {
    "duration": 1003,
    "start_time": "2021-12-20T06:01:45.472Z"
   },
   {
    "duration": 29,
    "start_time": "2021-12-20T06:01:47.385Z"
   },
   {
    "duration": 47,
    "start_time": "2021-12-20T06:01:48.684Z"
   },
   {
    "duration": 14,
    "start_time": "2021-12-20T06:01:53.672Z"
   },
   {
    "duration": 40,
    "start_time": "2021-12-20T06:01:55.505Z"
   },
   {
    "duration": 41,
    "start_time": "2021-12-20T06:01:56.339Z"
   },
   {
    "duration": 10,
    "start_time": "2021-12-20T06:02:00.210Z"
   },
   {
    "duration": 74,
    "start_time": "2021-12-20T06:02:04.730Z"
   },
   {
    "duration": 23,
    "start_time": "2021-12-20T06:02:16.664Z"
   },
   {
    "duration": 11,
    "start_time": "2021-12-20T06:02:18.300Z"
   },
   {
    "duration": 22,
    "start_time": "2021-12-20T06:02:22.504Z"
   },
   {
    "duration": 20,
    "start_time": "2021-12-20T06:03:58.424Z"
   },
   {
    "duration": 7,
    "start_time": "2021-12-20T06:04:04.008Z"
   },
   {
    "duration": 32,
    "start_time": "2021-12-20T06:04:10.489Z"
   },
   {
    "duration": 45,
    "start_time": "2021-12-20T06:04:21.432Z"
   },
   {
    "duration": 72,
    "start_time": "2021-12-20T06:04:50.618Z"
   },
   {
    "duration": 1141,
    "start_time": "2021-12-20T06:07:57.722Z"
   },
   {
    "duration": 30,
    "start_time": "2021-12-20T06:07:58.872Z"
   },
   {
    "duration": 46,
    "start_time": "2021-12-20T06:07:58.904Z"
   },
   {
    "duration": 13,
    "start_time": "2021-12-20T06:07:58.963Z"
   },
   {
    "duration": 37,
    "start_time": "2021-12-20T06:07:58.979Z"
   },
   {
    "duration": 70,
    "start_time": "2021-12-20T06:07:59.019Z"
   },
   {
    "duration": 10,
    "start_time": "2021-12-20T06:07:59.092Z"
   },
   {
    "duration": 93,
    "start_time": "2021-12-20T06:07:59.104Z"
   },
   {
    "duration": 23,
    "start_time": "2021-12-20T06:07:59.201Z"
   },
   {
    "duration": 10,
    "start_time": "2021-12-20T06:07:59.227Z"
   },
   {
    "duration": 20,
    "start_time": "2021-12-20T06:07:59.264Z"
   },
   {
    "duration": 7,
    "start_time": "2021-12-20T06:07:59.286Z"
   },
   {
    "duration": 30,
    "start_time": "2021-12-20T06:07:59.295Z"
   },
   {
    "duration": 45,
    "start_time": "2021-12-20T06:07:59.327Z"
   },
   {
    "duration": 7,
    "start_time": "2021-12-20T06:07:59.375Z"
   },
   {
    "duration": 23,
    "start_time": "2021-12-20T06:07:59.384Z"
   },
   {
    "duration": 31,
    "start_time": "2021-12-20T06:07:59.410Z"
   },
   {
    "duration": 18,
    "start_time": "2021-12-20T06:07:59.444Z"
   },
   {
    "duration": 22,
    "start_time": "2021-12-20T06:07:59.465Z"
   },
   {
    "duration": 953,
    "start_time": "2021-12-20T06:07:59.490Z"
   },
   {
    "duration": 642,
    "start_time": "2021-12-20T06:08:00.446Z"
   },
   {
    "duration": 661,
    "start_time": "2021-12-20T06:08:01.091Z"
   },
   {
    "duration": 16,
    "start_time": "2021-12-20T06:08:01.754Z"
   },
   {
    "duration": 433,
    "start_time": "2021-12-20T06:08:01.772Z"
   },
   {
    "duration": 32,
    "start_time": "2021-12-20T06:08:02.208Z"
   },
   {
    "duration": 40,
    "start_time": "2021-12-20T06:08:02.243Z"
   },
   {
    "duration": 15,
    "start_time": "2021-12-20T06:08:02.288Z"
   },
   {
    "duration": 65,
    "start_time": "2021-12-20T06:08:02.306Z"
   },
   {
    "duration": 2629,
    "start_time": "2021-12-20T06:08:02.373Z"
   },
   {
    "duration": 1864,
    "start_time": "2021-12-20T06:08:05.005Z"
   },
   {
    "duration": 1803,
    "start_time": "2021-12-20T06:08:06.872Z"
   },
   {
    "duration": 2388,
    "start_time": "2021-12-20T06:08:08.677Z"
   },
   {
    "duration": 2348,
    "start_time": "2021-12-20T06:08:11.068Z"
   },
   {
    "duration": 1044,
    "start_time": "2021-12-20T06:08:13.418Z"
   },
   {
    "duration": 1308,
    "start_time": "2022-01-14T09:25:29.405Z"
   },
   {
    "duration": 34,
    "start_time": "2022-01-14T09:25:30.717Z"
   },
   {
    "duration": 82,
    "start_time": "2022-01-14T09:25:30.754Z"
   },
   {
    "duration": 19,
    "start_time": "2022-01-14T09:25:30.840Z"
   },
   {
    "duration": 78,
    "start_time": "2022-01-14T09:25:30.862Z"
   },
   {
    "duration": 62,
    "start_time": "2022-01-14T09:25:30.943Z"
   },
   {
    "duration": 9,
    "start_time": "2022-01-14T09:25:31.009Z"
   },
   {
    "duration": 110,
    "start_time": "2022-01-14T09:25:31.022Z"
   },
   {
    "duration": 33,
    "start_time": "2022-01-14T09:25:31.136Z"
   },
   {
    "duration": 33,
    "start_time": "2022-01-14T09:25:31.172Z"
   },
   {
    "duration": 24,
    "start_time": "2022-01-14T09:25:31.207Z"
   },
   {
    "duration": 7,
    "start_time": "2022-01-14T09:25:31.234Z"
   },
   {
    "duration": 22,
    "start_time": "2022-01-14T09:25:31.244Z"
   },
   {
    "duration": 35,
    "start_time": "2022-01-14T09:25:31.301Z"
   },
   {
    "duration": 10,
    "start_time": "2022-01-14T09:25:31.339Z"
   },
   {
    "duration": 53,
    "start_time": "2022-01-14T09:25:31.352Z"
   },
   {
    "duration": 18,
    "start_time": "2022-01-14T09:25:31.408Z"
   },
   {
    "duration": 9,
    "start_time": "2022-01-14T09:25:31.429Z"
   },
   {
    "duration": 20,
    "start_time": "2022-01-14T09:25:31.442Z"
   },
   {
    "duration": 1242,
    "start_time": "2022-01-14T09:25:31.465Z"
   },
   {
    "duration": 794,
    "start_time": "2022-01-14T09:25:32.710Z"
   },
   {
    "duration": 697,
    "start_time": "2022-01-14T09:25:33.507Z"
   },
   {
    "duration": 14,
    "start_time": "2022-01-14T09:25:34.209Z"
   },
   {
    "duration": 489,
    "start_time": "2022-01-14T09:25:34.227Z"
   },
   {
    "duration": 46,
    "start_time": "2022-01-14T09:25:34.718Z"
   },
   {
    "duration": 56,
    "start_time": "2022-01-14T09:25:34.767Z"
   },
   {
    "duration": 19,
    "start_time": "2022-01-14T09:25:34.826Z"
   },
   {
    "duration": 71,
    "start_time": "2022-01-14T09:25:34.849Z"
   },
   {
    "duration": 2979,
    "start_time": "2022-01-14T09:25:34.923Z"
   },
   {
    "duration": 1984,
    "start_time": "2022-01-14T09:25:37.905Z"
   },
   {
    "duration": 2112,
    "start_time": "2022-01-14T09:25:39.891Z"
   },
   {
    "duration": 2662,
    "start_time": "2022-01-14T09:25:42.006Z"
   },
   {
    "duration": 2618,
    "start_time": "2022-01-14T09:25:44.671Z"
   },
   {
    "duration": 986,
    "start_time": "2022-01-14T09:25:47.291Z"
   },
   {
    "duration": 1889,
    "start_time": "2022-01-14T09:27:12.804Z"
   },
   {
    "duration": 589,
    "start_time": "2022-01-14T09:29:04.568Z"
   },
   {
    "duration": 4,
    "start_time": "2022-01-22T13:02:07.526Z"
   }
  ],
  "kernelspec": {
   "display_name": "Python 3 (ipykernel)",
   "language": "python",
   "name": "python3"
  },
  "language_info": {
   "codemirror_mode": {
    "name": "ipython",
    "version": 3
   },
   "file_extension": ".py",
   "mimetype": "text/x-python",
   "name": "python",
   "nbconvert_exporter": "python",
   "pygments_lexer": "ipython3",
   "version": "3.9.10"
  },
  "toc": {
   "base_numbering": 1,
   "nav_menu": {},
   "number_sections": true,
   "sideBar": true,
   "skip_h1_title": true,
   "title_cell": "Содержание",
   "title_sidebar": "Contents",
   "toc_cell": true,
   "toc_position": {},
   "toc_section_display": true,
   "toc_window_display": true
  }
 },
 "nbformat": 4,
 "nbformat_minor": 4
}
