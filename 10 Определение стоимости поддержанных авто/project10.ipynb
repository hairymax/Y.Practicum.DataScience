{
 "cells": [
  {
   "cell_type": "markdown",
   "metadata": {},
   "source": [
    "# Определение стоимости автомобилей"
   ]
  },
  {
   "cell_type": "markdown",
   "metadata": {},
   "source": [
    "Сервис по продаже автомобилей с пробегом «Не бит, не крашен» разрабатывает приложение для привлечения новых клиентов. В нём можно быстро узнать рыночную стоимость своего автомобиля. В вашем распоряжении исторические данные: технические характеристики, комплектации и цены автомобилей. Вам нужно построить модель для определения стоимости. \n",
    "\n",
    "Заказчику важны:\n",
    "\n",
    "- качество предсказания;\n",
    "- скорость предсказания;\n",
    "- время обучения."
   ]
  },
  {
   "cell_type": "markdown",
   "metadata": {
    "toc": true
   },
   "source": [
    "<h1>Содержание<span class=\"tocSkip\"></span></h1>\n",
    "<div class=\"toc\"><ul class=\"toc-item\"><li><span><a href=\"#Описание-данных\" data-toc-modified-id=\"Описание-данных-1\"><span class=\"toc-item-num\">1&nbsp;&nbsp;</span>Описание данных</a></span></li><li><span><a href=\"#Подготовка-данных\" data-toc-modified-id=\"Подготовка-данных-2\"><span class=\"toc-item-num\">2&nbsp;&nbsp;</span>Подготовка данных</a></span><ul class=\"toc-item\"><li><span><a href=\"#Выбросы\" data-toc-modified-id=\"Выбросы-2.1\"><span class=\"toc-item-num\">2.1&nbsp;&nbsp;</span>Выбросы</a></span><ul class=\"toc-item\"><li><span><a href=\"#Год-регистрации-RegistrationYear\" data-toc-modified-id=\"Год-регистрации-RegistrationYear-2.1.1\"><span class=\"toc-item-num\">2.1.1&nbsp;&nbsp;</span>Год регистрации <code>RegistrationYear</code></a></span></li><li><span><a href=\"#Мощность-Power\" data-toc-modified-id=\"Мощность-Power-2.1.2\"><span class=\"toc-item-num\">2.1.2&nbsp;&nbsp;</span>Мощность <code>Power</code></a></span></li><li><span><a href=\"#Цена-Price\" data-toc-modified-id=\"Цена-Price-2.1.3\"><span class=\"toc-item-num\">2.1.3&nbsp;&nbsp;</span>Цена <code>Price</code></a></span></li><li><span><a href=\"#Месяц-регистрации-RegistrationMonth\" data-toc-modified-id=\"Месяц-регистрации-RegistrationMonth-2.1.4\"><span class=\"toc-item-num\">2.1.4&nbsp;&nbsp;</span>Месяц регистрации <code>RegistrationMonth</code></a></span></li></ul></li><li><span><a href=\"#Пропуски\" data-toc-modified-id=\"Пропуски-2.2\"><span class=\"toc-item-num\">2.2&nbsp;&nbsp;</span>Пропуски</a></span></li><li><span><a href=\"#Приведение-типов-данных\" data-toc-modified-id=\"Приведение-типов-данных-2.3\"><span class=\"toc-item-num\">2.3&nbsp;&nbsp;</span>Приведение типов данных</a></span></li></ul></li><li><span><a href=\"#Обучение-моделей\" data-toc-modified-id=\"Обучение-моделей-3\"><span class=\"toc-item-num\">3&nbsp;&nbsp;</span>Обучение моделей</a></span><ul class=\"toc-item\"><li><span><a href=\"#Подготовка-признаков\" data-toc-modified-id=\"Подготовка-признаков-3.1\"><span class=\"toc-item-num\">3.1&nbsp;&nbsp;</span>Подготовка признаков</a></span></li><li><span><a href=\"#LinearRegression\" data-toc-modified-id=\"LinearRegression-3.2\"><span class=\"toc-item-num\">3.2&nbsp;&nbsp;</span>LinearRegression</a></span></li><li><span><a href=\"#DecisionTreeRegressor\" data-toc-modified-id=\"DecisionTreeRegressor-3.3\"><span class=\"toc-item-num\">3.3&nbsp;&nbsp;</span>DecisionTreeRegressor</a></span></li><li><span><a href=\"#CatBoostRegressor\" data-toc-modified-id=\"CatBoostRegressor-3.4\"><span class=\"toc-item-num\">3.4&nbsp;&nbsp;</span>CatBoostRegressor</a></span></li><li><span><a href=\"#LGBMRegressor\" data-toc-modified-id=\"LGBMRegressor-3.5\"><span class=\"toc-item-num\">3.5&nbsp;&nbsp;</span>LGBMRegressor</a></span></li></ul></li><li><span><a href=\"#Анализ-моделей\" data-toc-modified-id=\"Анализ-моделей-4\"><span class=\"toc-item-num\">4&nbsp;&nbsp;</span>Анализ моделей</a></span></li></ul></div>"
   ]
  },
  {
   "cell_type": "markdown",
   "metadata": {},
   "source": [
    "## Описание данных\n",
    "\n",
    "**Признаки**\n",
    "- `DateCrawled` — дата скачивания анкеты из базы\n",
    "- `VehicleType` — тип автомобильного кузова\n",
    "- `RegistrationYear` — год регистрации автомобиля\n",
    "- `Gearbox` — тип коробки передач\n",
    "- `Power` — мощность (л. с.)\n",
    "- `Model` — модель автомобиля\n",
    "- `Kilometer` — пробег (км)\n",
    "- `RegistrationMonth` — месяц регистрации автомобиля\n",
    "- `FuelType` — тип топлива\n",
    "- `Brand` — марка автомобиля\n",
    "- `NotRepaired` — была машина в ремонте или нет\n",
    "- `DateCreated` — дата создания анкеты\n",
    "- `NumberOfPictures` — количество фотографий автомобиля\n",
    "- `PostalCode` — почтовый индекс владельца анкеты (пользователя)\n",
    "- `LastSeen` — дата последней активности пользователя\n",
    "\n",
    "**Целевой признак**\n",
    "- `Price` — цена (евро)"
   ]
  },
  {
   "cell_type": "code",
   "execution_count": 1,
   "metadata": {},
   "outputs": [],
   "source": [
    "# Библиотеки\n",
    "# для вывода\n",
    "from IPython.display import Markdown, display\n",
    "from tqdm.notebook import tqdm_notebook as tqdm\n",
    "import warnings\n",
    "import time\n",
    "# для работы с данными\n",
    "import pandas as pd\n",
    "from pandas_profiling import ProfileReport\n",
    "from matplotlib import pyplot as plt\n",
    "import seaborn as sns\n",
    "# для обучения\n",
    "from sklearn.model_selection import train_test_split, cross_val_score, GridSearchCV\n",
    "from sklearn.metrics import mean_squared_error\n",
    "from sklearn.preprocessing import StandardScaler, MinMaxScaler, OrdinalEncoder\n",
    "from sklearn.linear_model import LinearRegression\n",
    "from sklearn.tree import DecisionTreeRegressor \n",
    "from lightgbm import LGBMRegressor\n",
    "from catboost import CatBoostRegressor\n",
    "# константы\n",
    "RANDOM_STATE = 123"
   ]
  },
  {
   "cell_type": "code",
   "execution_count": 2,
   "metadata": {},
   "outputs": [],
   "source": [
    "def dataframe_info(df):\n",
    "    ''' Вывод информации о датафрейме `df`. Функционал схож с методом `pd.DataFrame.info()`\n",
    "\n",
    "    Дополнительно: вывод процента заполненных (non-null) значений, количестве дублей\n",
    "    '''\n",
    "    info = (pd.DataFrame({\n",
    "                'notNA': df.count(), 'notNA, %': df.count()/df.shape[0]*100,\n",
    "                'dtype': df.dtypes})\n",
    "            .style.bar(subset='notNA, %', vmin=0, color='lightblue')\n",
    "            .format(\"{:.2f}\", subset=['notNA, %'])\n",
    "    )\n",
    "    print('DataFrame shape  : {} rows, {} columns'.format(df.shape[0], df.shape[1]))\n",
    "    print('Memory usage     : {:.2f} MB'.format(df.memory_usage().sum()/1024/1024))\n",
    "    print('Duplicates count :', df.duplicated().sum())\n",
    "    return info\n",
    "\n",
    "def show_hist(df, col, bins=100, xlim=None, ylim=None, figsize=None,\n",
    "              title='Распределение значений',\n",
    "              xlabel=None, ylabel='Количество значений'):\n",
    "    '''\n",
    "    Функция построения гистограмм и диаграмм размаха для столбца col датафрейма df\n",
    "    \n",
    "    Параметры \n",
    "    ---\n",
    "    `bins` : int - задаёт число корзин для гистограммы, по умолчанию 100\n",
    "    `title` : string - задаёт название графика\n",
    "    `xlabel, ylabel` : string - подписи к осям\n",
    "    `xlim, ylim, figsize` : параметры matplotlib \n",
    "    '''\n",
    "    # создаём 3 сабплота, указываем для них соотношение занимаемой высоты\n",
    "    _, (ax_box, ax_hist) = plt.subplots(2, sharex=True,\n",
    "        gridspec_kw={\"height_ratios\": (.15, .85)}, figsize=figsize)\n",
    "\n",
    "    if col in df.columns:\n",
    "        # диаграмма размаха, гистограмма с функцией распределения\n",
    "        sns.boxplot(x=df[col], ax=ax_box)\n",
    "        sns.histplot(df[col], ax=ax_hist, bins=bins, kde=True)\n",
    "        if xlabel is None: \n",
    "            xlabel = col\n",
    "        ax_box.set(xlabel='')  # чтобы не дублировалась\n",
    "        ax_hist.set(xlabel=xlabel, ylabel=ylabel, xlim=xlim, ylim=ylim)\n",
    "        ax_hist.grid(visible=True)\n",
    "        plt.suptitle(title, y=0.92, fontsize=14)\n",
    "    else:\n",
    "        print('Столбец', col, 'отсутсвует в датафрейме')\n",
    "\n",
    "def visualize_value_counts(df, column, n_values=25, fillna='NONE'):\n",
    "    ''' Визуализация количества встречающихся значений столбца датафрейма\n",
    "\n",
    "    `df` : pd.DataFrame - датафрейм\n",
    "    `column` : string - название столбца\n",
    "    `n_values` : int - максимальное количество значений для отображения на диаграмме\n",
    "    `fillna` : any - значение, которым необходимо заполнить пропуски\n",
    "    '''\n",
    "    val_counts = df[column].fillna(fillna).value_counts()\n",
    "    bar_values = val_counts.values[:n_values]\n",
    "    bar_labels = val_counts.index[:n_values]\n",
    "    plt.figure(figsize=(8, 0.35*min(len(val_counts), n_values)))\n",
    "    ax = sns.barplot(x=bar_values, y=bar_labels)\n",
    "    ax.set(title='\"{}\" value counts ({} / {})'\n",
    "           .format(column, len(bar_labels), val_counts.shape[0]),\n",
    "           xlim=[0, 1.1*bar_values.max()])\n",
    "    plt.bar_label(ax.containers[0])\n",
    "    for i in range(len(bar_labels)):\n",
    "        if bar_labels[i] == fillna:\n",
    "            ax.patches[i].set_color('black')\n",
    "    plt.show()"
   ]
  },
  {
   "cell_type": "markdown",
   "metadata": {},
   "source": [
    "## Подготовка данных"
   ]
  },
  {
   "cell_type": "markdown",
   "metadata": {},
   "source": [
    "Загрузим данные, изучим их"
   ]
  },
  {
   "cell_type": "code",
   "execution_count": 3,
   "metadata": {},
   "outputs": [
    {
     "data": {
      "text/html": [
       "<div>\n",
       "<style scoped>\n",
       "    .dataframe tbody tr th:only-of-type {\n",
       "        vertical-align: middle;\n",
       "    }\n",
       "\n",
       "    .dataframe tbody tr th {\n",
       "        vertical-align: top;\n",
       "    }\n",
       "\n",
       "    .dataframe thead th {\n",
       "        text-align: right;\n",
       "    }\n",
       "</style>\n",
       "<table border=\"1\" class=\"dataframe\">\n",
       "  <thead>\n",
       "    <tr style=\"text-align: right;\">\n",
       "      <th></th>\n",
       "      <th>DateCrawled</th>\n",
       "      <th>Price</th>\n",
       "      <th>VehicleType</th>\n",
       "      <th>RegistrationYear</th>\n",
       "      <th>Gearbox</th>\n",
       "      <th>Power</th>\n",
       "      <th>Model</th>\n",
       "      <th>Kilometer</th>\n",
       "      <th>RegistrationMonth</th>\n",
       "      <th>FuelType</th>\n",
       "      <th>Brand</th>\n",
       "      <th>NotRepaired</th>\n",
       "      <th>DateCreated</th>\n",
       "      <th>NumberOfPictures</th>\n",
       "      <th>PostalCode</th>\n",
       "      <th>LastSeen</th>\n",
       "    </tr>\n",
       "  </thead>\n",
       "  <tbody>\n",
       "    <tr>\n",
       "      <th>317567</th>\n",
       "      <td>2016-03-12 09:52:55</td>\n",
       "      <td>3590</td>\n",
       "      <td>sedan</td>\n",
       "      <td>1989</td>\n",
       "      <td>manual</td>\n",
       "      <td>26</td>\n",
       "      <td>601</td>\n",
       "      <td>30000</td>\n",
       "      <td>4</td>\n",
       "      <td>petrol</td>\n",
       "      <td>trabant</td>\n",
       "      <td>no</td>\n",
       "      <td>2016-03-12 00:00:00</td>\n",
       "      <td>0</td>\n",
       "      <td>14822</td>\n",
       "      <td>2016-03-20 06:47:18</td>\n",
       "    </tr>\n",
       "    <tr>\n",
       "      <th>73701</th>\n",
       "      <td>2016-03-05 14:55:09</td>\n",
       "      <td>1350</td>\n",
       "      <td>bus</td>\n",
       "      <td>1994</td>\n",
       "      <td>manual</td>\n",
       "      <td>70</td>\n",
       "      <td>ducato</td>\n",
       "      <td>150000</td>\n",
       "      <td>10</td>\n",
       "      <td>gasoline</td>\n",
       "      <td>fiat</td>\n",
       "      <td>no</td>\n",
       "      <td>2016-03-05 00:00:00</td>\n",
       "      <td>0</td>\n",
       "      <td>26723</td>\n",
       "      <td>2016-04-07 10:45:52</td>\n",
       "    </tr>\n",
       "    <tr>\n",
       "      <th>90738</th>\n",
       "      <td>2016-03-17 17:42:14</td>\n",
       "      <td>9850</td>\n",
       "      <td>sedan</td>\n",
       "      <td>2009</td>\n",
       "      <td>manual</td>\n",
       "      <td>122</td>\n",
       "      <td>1er</td>\n",
       "      <td>60000</td>\n",
       "      <td>11</td>\n",
       "      <td>petrol</td>\n",
       "      <td>bmw</td>\n",
       "      <td>no</td>\n",
       "      <td>2016-03-17 00:00:00</td>\n",
       "      <td>0</td>\n",
       "      <td>69226</td>\n",
       "      <td>2016-03-23 05:46:56</td>\n",
       "    </tr>\n",
       "    <tr>\n",
       "      <th>281930</th>\n",
       "      <td>2016-03-06 21:40:25</td>\n",
       "      <td>11700</td>\n",
       "      <td>sedan</td>\n",
       "      <td>2004</td>\n",
       "      <td>auto</td>\n",
       "      <td>231</td>\n",
       "      <td>5er</td>\n",
       "      <td>150000</td>\n",
       "      <td>6</td>\n",
       "      <td>petrol</td>\n",
       "      <td>bmw</td>\n",
       "      <td>no</td>\n",
       "      <td>2016-03-06 00:00:00</td>\n",
       "      <td>0</td>\n",
       "      <td>55129</td>\n",
       "      <td>2016-04-07 06:16:02</td>\n",
       "    </tr>\n",
       "    <tr>\n",
       "      <th>99011</th>\n",
       "      <td>2016-04-03 15:55:19</td>\n",
       "      <td>1600</td>\n",
       "      <td>NaN</td>\n",
       "      <td>2017</td>\n",
       "      <td>manual</td>\n",
       "      <td>111</td>\n",
       "      <td>almera</td>\n",
       "      <td>150000</td>\n",
       "      <td>8</td>\n",
       "      <td>NaN</td>\n",
       "      <td>nissan</td>\n",
       "      <td>no</td>\n",
       "      <td>2016-04-03 00:00:00</td>\n",
       "      <td>0</td>\n",
       "      <td>52222</td>\n",
       "      <td>2016-04-05 15:16:37</td>\n",
       "    </tr>\n",
       "  </tbody>\n",
       "</table>\n",
       "</div>"
      ],
      "text/plain": [
       "                DateCrawled  Price VehicleType  RegistrationYear Gearbox  \\\n",
       "317567  2016-03-12 09:52:55   3590       sedan              1989  manual   \n",
       "73701   2016-03-05 14:55:09   1350         bus              1994  manual   \n",
       "90738   2016-03-17 17:42:14   9850       sedan              2009  manual   \n",
       "281930  2016-03-06 21:40:25  11700       sedan              2004    auto   \n",
       "99011   2016-04-03 15:55:19   1600         NaN              2017  manual   \n",
       "\n",
       "        Power   Model  Kilometer  RegistrationMonth  FuelType    Brand  \\\n",
       "317567     26     601      30000                  4    petrol  trabant   \n",
       "73701      70  ducato     150000                 10  gasoline     fiat   \n",
       "90738     122     1er      60000                 11    petrol      bmw   \n",
       "281930    231     5er     150000                  6    petrol      bmw   \n",
       "99011     111  almera     150000                  8       NaN   nissan   \n",
       "\n",
       "       NotRepaired          DateCreated  NumberOfPictures  PostalCode  \\\n",
       "317567          no  2016-03-12 00:00:00                 0       14822   \n",
       "73701           no  2016-03-05 00:00:00                 0       26723   \n",
       "90738           no  2016-03-17 00:00:00                 0       69226   \n",
       "281930          no  2016-03-06 00:00:00                 0       55129   \n",
       "99011           no  2016-04-03 00:00:00                 0       52222   \n",
       "\n",
       "                   LastSeen  \n",
       "317567  2016-03-20 06:47:18  \n",
       "73701   2016-04-07 10:45:52  \n",
       "90738   2016-03-23 05:46:56  \n",
       "281930  2016-04-07 06:16:02  \n",
       "99011   2016-04-05 15:16:37  "
      ]
     },
     "metadata": {},
     "output_type": "display_data"
    },
    {
     "name": "stdout",
     "output_type": "stream",
     "text": [
      "DataFrame shape  : 354369 rows, 16 columns\n",
      "Memory usage     : 43.26 MB\n",
      "Duplicates count : 4\n"
     ]
    },
    {
     "data": {
      "text/html": [
       "<style  type=\"text/css\" >\n",
       "#T_6e2da_row0_col1,#T_6e2da_row1_col1,#T_6e2da_row3_col1,#T_6e2da_row5_col1,#T_6e2da_row7_col1,#T_6e2da_row8_col1,#T_6e2da_row10_col1,#T_6e2da_row12_col1,#T_6e2da_row13_col1,#T_6e2da_row14_col1,#T_6e2da_row15_col1{\n",
       "            width:  10em;\n",
       "             height:  80%;\n",
       "            background:  linear-gradient(90deg,lightblue 100.0%, transparent 100.0%);\n",
       "        }#T_6e2da_row2_col1{\n",
       "            width:  10em;\n",
       "             height:  80%;\n",
       "            background:  linear-gradient(90deg,lightblue 89.4%, transparent 89.4%);\n",
       "        }#T_6e2da_row4_col1,#T_6e2da_row6_col1{\n",
       "            width:  10em;\n",
       "             height:  80%;\n",
       "            background:  linear-gradient(90deg,lightblue 94.4%, transparent 94.4%);\n",
       "        }#T_6e2da_row9_col1{\n",
       "            width:  10em;\n",
       "             height:  80%;\n",
       "            background:  linear-gradient(90deg,lightblue 90.7%, transparent 90.7%);\n",
       "        }#T_6e2da_row11_col1{\n",
       "            width:  10em;\n",
       "             height:  80%;\n",
       "            background:  linear-gradient(90deg,lightblue 79.9%, transparent 79.9%);\n",
       "        }</style><table id=\"T_6e2da_\" ><thead>    <tr>        <th class=\"blank level0\" ></th>        <th class=\"col_heading level0 col0\" >notNA</th>        <th class=\"col_heading level0 col1\" >notNA, %</th>        <th class=\"col_heading level0 col2\" >dtype</th>    </tr></thead><tbody>\n",
       "                <tr>\n",
       "                        <th id=\"T_6e2da_level0_row0\" class=\"row_heading level0 row0\" >DateCrawled</th>\n",
       "                        <td id=\"T_6e2da_row0_col0\" class=\"data row0 col0\" >354369</td>\n",
       "                        <td id=\"T_6e2da_row0_col1\" class=\"data row0 col1\" >100.00</td>\n",
       "                        <td id=\"T_6e2da_row0_col2\" class=\"data row0 col2\" >object</td>\n",
       "            </tr>\n",
       "            <tr>\n",
       "                        <th id=\"T_6e2da_level0_row1\" class=\"row_heading level0 row1\" >Price</th>\n",
       "                        <td id=\"T_6e2da_row1_col0\" class=\"data row1 col0\" >354369</td>\n",
       "                        <td id=\"T_6e2da_row1_col1\" class=\"data row1 col1\" >100.00</td>\n",
       "                        <td id=\"T_6e2da_row1_col2\" class=\"data row1 col2\" >int64</td>\n",
       "            </tr>\n",
       "            <tr>\n",
       "                        <th id=\"T_6e2da_level0_row2\" class=\"row_heading level0 row2\" >VehicleType</th>\n",
       "                        <td id=\"T_6e2da_row2_col0\" class=\"data row2 col0\" >316879</td>\n",
       "                        <td id=\"T_6e2da_row2_col1\" class=\"data row2 col1\" >89.42</td>\n",
       "                        <td id=\"T_6e2da_row2_col2\" class=\"data row2 col2\" >object</td>\n",
       "            </tr>\n",
       "            <tr>\n",
       "                        <th id=\"T_6e2da_level0_row3\" class=\"row_heading level0 row3\" >RegistrationYear</th>\n",
       "                        <td id=\"T_6e2da_row3_col0\" class=\"data row3 col0\" >354369</td>\n",
       "                        <td id=\"T_6e2da_row3_col1\" class=\"data row3 col1\" >100.00</td>\n",
       "                        <td id=\"T_6e2da_row3_col2\" class=\"data row3 col2\" >int64</td>\n",
       "            </tr>\n",
       "            <tr>\n",
       "                        <th id=\"T_6e2da_level0_row4\" class=\"row_heading level0 row4\" >Gearbox</th>\n",
       "                        <td id=\"T_6e2da_row4_col0\" class=\"data row4 col0\" >334536</td>\n",
       "                        <td id=\"T_6e2da_row4_col1\" class=\"data row4 col1\" >94.40</td>\n",
       "                        <td id=\"T_6e2da_row4_col2\" class=\"data row4 col2\" >object</td>\n",
       "            </tr>\n",
       "            <tr>\n",
       "                        <th id=\"T_6e2da_level0_row5\" class=\"row_heading level0 row5\" >Power</th>\n",
       "                        <td id=\"T_6e2da_row5_col0\" class=\"data row5 col0\" >354369</td>\n",
       "                        <td id=\"T_6e2da_row5_col1\" class=\"data row5 col1\" >100.00</td>\n",
       "                        <td id=\"T_6e2da_row5_col2\" class=\"data row5 col2\" >int64</td>\n",
       "            </tr>\n",
       "            <tr>\n",
       "                        <th id=\"T_6e2da_level0_row6\" class=\"row_heading level0 row6\" >Model</th>\n",
       "                        <td id=\"T_6e2da_row6_col0\" class=\"data row6 col0\" >334664</td>\n",
       "                        <td id=\"T_6e2da_row6_col1\" class=\"data row6 col1\" >94.44</td>\n",
       "                        <td id=\"T_6e2da_row6_col2\" class=\"data row6 col2\" >object</td>\n",
       "            </tr>\n",
       "            <tr>\n",
       "                        <th id=\"T_6e2da_level0_row7\" class=\"row_heading level0 row7\" >Kilometer</th>\n",
       "                        <td id=\"T_6e2da_row7_col0\" class=\"data row7 col0\" >354369</td>\n",
       "                        <td id=\"T_6e2da_row7_col1\" class=\"data row7 col1\" >100.00</td>\n",
       "                        <td id=\"T_6e2da_row7_col2\" class=\"data row7 col2\" >int64</td>\n",
       "            </tr>\n",
       "            <tr>\n",
       "                        <th id=\"T_6e2da_level0_row8\" class=\"row_heading level0 row8\" >RegistrationMonth</th>\n",
       "                        <td id=\"T_6e2da_row8_col0\" class=\"data row8 col0\" >354369</td>\n",
       "                        <td id=\"T_6e2da_row8_col1\" class=\"data row8 col1\" >100.00</td>\n",
       "                        <td id=\"T_6e2da_row8_col2\" class=\"data row8 col2\" >int64</td>\n",
       "            </tr>\n",
       "            <tr>\n",
       "                        <th id=\"T_6e2da_level0_row9\" class=\"row_heading level0 row9\" >FuelType</th>\n",
       "                        <td id=\"T_6e2da_row9_col0\" class=\"data row9 col0\" >321474</td>\n",
       "                        <td id=\"T_6e2da_row9_col1\" class=\"data row9 col1\" >90.72</td>\n",
       "                        <td id=\"T_6e2da_row9_col2\" class=\"data row9 col2\" >object</td>\n",
       "            </tr>\n",
       "            <tr>\n",
       "                        <th id=\"T_6e2da_level0_row10\" class=\"row_heading level0 row10\" >Brand</th>\n",
       "                        <td id=\"T_6e2da_row10_col0\" class=\"data row10 col0\" >354369</td>\n",
       "                        <td id=\"T_6e2da_row10_col1\" class=\"data row10 col1\" >100.00</td>\n",
       "                        <td id=\"T_6e2da_row10_col2\" class=\"data row10 col2\" >object</td>\n",
       "            </tr>\n",
       "            <tr>\n",
       "                        <th id=\"T_6e2da_level0_row11\" class=\"row_heading level0 row11\" >NotRepaired</th>\n",
       "                        <td id=\"T_6e2da_row11_col0\" class=\"data row11 col0\" >283215</td>\n",
       "                        <td id=\"T_6e2da_row11_col1\" class=\"data row11 col1\" >79.92</td>\n",
       "                        <td id=\"T_6e2da_row11_col2\" class=\"data row11 col2\" >object</td>\n",
       "            </tr>\n",
       "            <tr>\n",
       "                        <th id=\"T_6e2da_level0_row12\" class=\"row_heading level0 row12\" >DateCreated</th>\n",
       "                        <td id=\"T_6e2da_row12_col0\" class=\"data row12 col0\" >354369</td>\n",
       "                        <td id=\"T_6e2da_row12_col1\" class=\"data row12 col1\" >100.00</td>\n",
       "                        <td id=\"T_6e2da_row12_col2\" class=\"data row12 col2\" >object</td>\n",
       "            </tr>\n",
       "            <tr>\n",
       "                        <th id=\"T_6e2da_level0_row13\" class=\"row_heading level0 row13\" >NumberOfPictures</th>\n",
       "                        <td id=\"T_6e2da_row13_col0\" class=\"data row13 col0\" >354369</td>\n",
       "                        <td id=\"T_6e2da_row13_col1\" class=\"data row13 col1\" >100.00</td>\n",
       "                        <td id=\"T_6e2da_row13_col2\" class=\"data row13 col2\" >int64</td>\n",
       "            </tr>\n",
       "            <tr>\n",
       "                        <th id=\"T_6e2da_level0_row14\" class=\"row_heading level0 row14\" >PostalCode</th>\n",
       "                        <td id=\"T_6e2da_row14_col0\" class=\"data row14 col0\" >354369</td>\n",
       "                        <td id=\"T_6e2da_row14_col1\" class=\"data row14 col1\" >100.00</td>\n",
       "                        <td id=\"T_6e2da_row14_col2\" class=\"data row14 col2\" >int64</td>\n",
       "            </tr>\n",
       "            <tr>\n",
       "                        <th id=\"T_6e2da_level0_row15\" class=\"row_heading level0 row15\" >LastSeen</th>\n",
       "                        <td id=\"T_6e2da_row15_col0\" class=\"data row15 col0\" >354369</td>\n",
       "                        <td id=\"T_6e2da_row15_col1\" class=\"data row15 col1\" >100.00</td>\n",
       "                        <td id=\"T_6e2da_row15_col2\" class=\"data row15 col2\" >object</td>\n",
       "            </tr>\n",
       "    </tbody></table>"
      ],
      "text/plain": [
       "<pandas.io.formats.style.Styler at 0x23aa92169d0>"
      ]
     },
     "metadata": {},
     "output_type": "display_data"
    },
    {
     "data": {
      "text/html": [
       "<div>\n",
       "<style scoped>\n",
       "    .dataframe tbody tr th:only-of-type {\n",
       "        vertical-align: middle;\n",
       "    }\n",
       "\n",
       "    .dataframe tbody tr th {\n",
       "        vertical-align: top;\n",
       "    }\n",
       "\n",
       "    .dataframe thead th {\n",
       "        text-align: right;\n",
       "    }\n",
       "</style>\n",
       "<table border=\"1\" class=\"dataframe\">\n",
       "  <thead>\n",
       "    <tr style=\"text-align: right;\">\n",
       "      <th></th>\n",
       "      <th>Price</th>\n",
       "      <th>RegistrationYear</th>\n",
       "      <th>Power</th>\n",
       "      <th>Kilometer</th>\n",
       "      <th>RegistrationMonth</th>\n",
       "      <th>NumberOfPictures</th>\n",
       "      <th>PostalCode</th>\n",
       "    </tr>\n",
       "  </thead>\n",
       "  <tbody>\n",
       "    <tr>\n",
       "      <th>count</th>\n",
       "      <td>354369.000000</td>\n",
       "      <td>354369.000000</td>\n",
       "      <td>354369.000000</td>\n",
       "      <td>354369.000000</td>\n",
       "      <td>354369.000000</td>\n",
       "      <td>354369.0</td>\n",
       "      <td>354369.000000</td>\n",
       "    </tr>\n",
       "    <tr>\n",
       "      <th>mean</th>\n",
       "      <td>4416.656776</td>\n",
       "      <td>2004.234448</td>\n",
       "      <td>110.094337</td>\n",
       "      <td>128211.172535</td>\n",
       "      <td>5.714645</td>\n",
       "      <td>0.0</td>\n",
       "      <td>50508.689087</td>\n",
       "    </tr>\n",
       "    <tr>\n",
       "      <th>std</th>\n",
       "      <td>4514.158514</td>\n",
       "      <td>90.227958</td>\n",
       "      <td>189.850405</td>\n",
       "      <td>37905.341530</td>\n",
       "      <td>3.726421</td>\n",
       "      <td>0.0</td>\n",
       "      <td>25783.096248</td>\n",
       "    </tr>\n",
       "    <tr>\n",
       "      <th>min</th>\n",
       "      <td>0.000000</td>\n",
       "      <td>1000.000000</td>\n",
       "      <td>0.000000</td>\n",
       "      <td>5000.000000</td>\n",
       "      <td>0.000000</td>\n",
       "      <td>0.0</td>\n",
       "      <td>1067.000000</td>\n",
       "    </tr>\n",
       "    <tr>\n",
       "      <th>25%</th>\n",
       "      <td>1050.000000</td>\n",
       "      <td>1999.000000</td>\n",
       "      <td>69.000000</td>\n",
       "      <td>125000.000000</td>\n",
       "      <td>3.000000</td>\n",
       "      <td>0.0</td>\n",
       "      <td>30165.000000</td>\n",
       "    </tr>\n",
       "    <tr>\n",
       "      <th>50%</th>\n",
       "      <td>2700.000000</td>\n",
       "      <td>2003.000000</td>\n",
       "      <td>105.000000</td>\n",
       "      <td>150000.000000</td>\n",
       "      <td>6.000000</td>\n",
       "      <td>0.0</td>\n",
       "      <td>49413.000000</td>\n",
       "    </tr>\n",
       "    <tr>\n",
       "      <th>75%</th>\n",
       "      <td>6400.000000</td>\n",
       "      <td>2008.000000</td>\n",
       "      <td>143.000000</td>\n",
       "      <td>150000.000000</td>\n",
       "      <td>9.000000</td>\n",
       "      <td>0.0</td>\n",
       "      <td>71083.000000</td>\n",
       "    </tr>\n",
       "    <tr>\n",
       "      <th>max</th>\n",
       "      <td>20000.000000</td>\n",
       "      <td>9999.000000</td>\n",
       "      <td>20000.000000</td>\n",
       "      <td>150000.000000</td>\n",
       "      <td>12.000000</td>\n",
       "      <td>0.0</td>\n",
       "      <td>99998.000000</td>\n",
       "    </tr>\n",
       "  </tbody>\n",
       "</table>\n",
       "</div>"
      ],
      "text/plain": [
       "               Price  RegistrationYear          Power      Kilometer  \\\n",
       "count  354369.000000     354369.000000  354369.000000  354369.000000   \n",
       "mean     4416.656776       2004.234448     110.094337  128211.172535   \n",
       "std      4514.158514         90.227958     189.850405   37905.341530   \n",
       "min         0.000000       1000.000000       0.000000    5000.000000   \n",
       "25%      1050.000000       1999.000000      69.000000  125000.000000   \n",
       "50%      2700.000000       2003.000000     105.000000  150000.000000   \n",
       "75%      6400.000000       2008.000000     143.000000  150000.000000   \n",
       "max     20000.000000       9999.000000   20000.000000  150000.000000   \n",
       "\n",
       "       RegistrationMonth  NumberOfPictures     PostalCode  \n",
       "count      354369.000000          354369.0  354369.000000  \n",
       "mean            5.714645               0.0   50508.689087  \n",
       "std             3.726421               0.0   25783.096248  \n",
       "min             0.000000               0.0    1067.000000  \n",
       "25%             3.000000               0.0   30165.000000  \n",
       "50%             6.000000               0.0   49413.000000  \n",
       "75%             9.000000               0.0   71083.000000  \n",
       "max            12.000000               0.0   99998.000000  "
      ]
     },
     "metadata": {},
     "output_type": "display_data"
    }
   ],
   "source": [
    "df = pd.read_csv('../datasets/autos.csv')\n",
    "\n",
    "display(df.sample(5))\n",
    "display(dataframe_info(df))\n",
    "display(df.describe())"
   ]
  },
  {
   "cell_type": "markdown",
   "metadata": {},
   "source": [
    "Есть 4 дубля. \n",
    "\n",
    "В строковых столбцах имеются пропуски. Это категориальные признаки. Особенно часто не заполняют информацию о том, ремонтировался ли автомобиль. \n",
    "\n",
    "В столбцах замечаем следующие проблемы:\n",
    "- `RegistrationYear` - слишком маленькие и слишком большие значения\n",
    "- `RegistrationMonth` - имеются значения от 0 до 12 включительно, вероятнее всего 0 быть не должно\n",
    "- `Power` - есть нулевые значения и слишком большие (тысячи л.с.)\n",
    "- `NumberOfPictures` - нет ничего, кроме нулей. Этот столбец можно удалить.\n",
    "- `PostalCode` - числовой целочисленный, однако индекс некорректно считать числовым признаком, он характеризует географическое положение\n",
    "- `Price` - нулевые значения\n",
    "\n",
    "Столбцы `DateCrawled`, `DateCreated` и `LastSeen` - даты активности пользователя и выгрузки анкеты. Для предсказания строимости автомобиля они бесполезны, поскольку не влияют на неё."
   ]
  },
  {
   "cell_type": "markdown",
   "metadata": {},
   "source": [
    "Определим крайнюю дату выгрузки объявлений из системы: позднее неё автомобили не могли быть зарегистрированы."
   ]
  },
  {
   "cell_type": "code",
   "execution_count": 4,
   "metadata": {},
   "outputs": [
    {
     "name": "stdout",
     "output_type": "stream",
     "text": [
      "Крайняя дата выгрузки: 2016-04-07 14:36:58\n"
     ]
    }
   ],
   "source": [
    "print('Крайняя дата выгрузки:', df['DateCrawled'].max())"
   ]
  },
  {
   "cell_type": "markdown",
   "metadata": {},
   "source": [
    "- Удалим столбцы, значения в которых бесполезны для обучения моделей - столбцы с датами. \n",
    "- Также избавимся почтового индекса и количества картинок "
   ]
  },
  {
   "cell_type": "code",
   "execution_count": 5,
   "metadata": {},
   "outputs": [
    {
     "name": "stdout",
     "output_type": "stream",
     "text": [
      "Количество дублей 21333\n"
     ]
    }
   ],
   "source": [
    "for f in ['NumberOfPictures', 'DateCrawled', 'DateCreated', 'LastSeen']:\n",
    "    if f in df.columns:\n",
    "        df.drop(f, axis=1, inplace=True)\n",
    "\n",
    "print('Количество дублей', df.duplicated().sum())"
   ]
  },
  {
   "cell_type": "markdown",
   "metadata": {},
   "source": [
    "Теперь количество дублей более 20000. Возможно это связано с тем, что некоторые объявления были выгружены из системы или опубликованы пользователями повторно. Вероятность совпадения сразу всех параметров мала - избавимся от них."
   ]
  },
  {
   "cell_type": "code",
   "execution_count": 6,
   "metadata": {},
   "outputs": [
    {
     "data": {
      "text/plain": [
       "(333036, 12)"
      ]
     },
     "execution_count": 6,
     "metadata": {},
     "output_type": "execute_result"
    }
   ],
   "source": [
    "df = df.drop_duplicates(ignore_index=True)\n",
    "df.shape"
   ]
  },
  {
   "cell_type": "markdown",
   "metadata": {},
   "source": [
    "Изучим распределения величин"
   ]
  },
  {
   "cell_type": "code",
   "execution_count": 7,
   "metadata": {},
   "outputs": [
    {
     "name": "stderr",
     "output_type": "stream",
     "text": [
      "Summarize dataset: 100%|██████████| 26/26 [00:16<00:00,  1.61it/s, Completed]                         \n",
      "Generate report structure: 100%|██████████| 1/1 [00:03<00:00,  3.06s/it]\n",
      "Render HTML: 100%|██████████| 1/1 [00:01<00:00,  1.52s/it]\n",
      "Export report to file: 100%|██████████| 1/1 [00:00<00:00, 111.16it/s]\n"
     ]
    }
   ],
   "source": [
    "with warnings.catch_warnings():\n",
    "    warnings.simplefilter('ignore')\n",
    "    profile = ProfileReport(df)\n",
    "    # profile.to_widgets()\n",
    "    profile.to_file(\"autos_profiling.html\")\n",
    "    del profile"
   ]
  },
  {
   "cell_type": "markdown",
   "metadata": {},
   "source": [
    "- Аномальные значения отсутсвуют только у пробега. Однако значения у него _дискретны_. \n",
    "- Очень большой разброс значений года регистрации\n",
    "- Присутсвуют возможно слишком высокие и слишком низкие значения цены\n",
    "- Очень часто встречается нулевое значение месяца регистрации - 10 % случаев.\n",
    "- Много нулей в столбце мощности - 11 %. Большой разброс значений.\n",
    "\n",
    "Можно избавиться от индексов, зависимость цены от него - очень слабая"
   ]
  },
  {
   "cell_type": "code",
   "execution_count": 8,
   "metadata": {},
   "outputs": [],
   "source": [
    "if 'PostalCode' in df.columns:\n",
    "    df.drop('PostalCode', axis=1, inplace=True)"
   ]
  },
  {
   "cell_type": "markdown",
   "metadata": {},
   "source": [
    "### Выбросы"
   ]
  },
  {
   "cell_type": "markdown",
   "metadata": {},
   "source": [
    "#### Год регистрации `RegistrationYear`\n",
    "\n",
    "Выведем значения года < 1950 и > 2016"
   ]
  },
  {
   "cell_type": "code",
   "execution_count": 9,
   "metadata": {},
   "outputs": [
    {
     "name": "stdout",
     "output_type": "stream",
     "text": [
      "Аномальные значения :\n",
      " [1000 1001 1039 1111 1200 1234 1253 1255 1300 1400 1500 1600 1602 1688\n",
      " 1800 1910 1915 1919 1920 1923 1925 1927 1928 1929 1930 1931 1932 1933\n",
      " 1934 1935 1936 1937 1938 1940 1941 1942 1943 1944 1945 1946 1947 1948\n",
      " 1949 2017 2018 2019 2066 2200 2222 2290 2500 2800 2900 3000 3200 3500\n",
      " 3700 3800 4000 4100 4500 4800 5000 5300 5555 5600 5900 5911 6000 6500\n",
      " 7000 7100 7500 7800 8000 8200 8455 8500 8888 9000 9229 9450 9996 9999]\n"
     ]
    }
   ],
   "source": [
    "print('Аномальные значения :\\n',\n",
    "      df.query('RegistrationYear > 2016 or RegistrationYear < 1950')['RegistrationYear']\n",
    "      .sort_values().unique())"
   ]
  },
  {
   "cell_type": "markdown",
   "metadata": {},
   "source": [
    "Посмотрим, как много объявлений с годом < 1970 и > 2016. Вряд ли ещё есть автомобили на ходу ранее этого года. Даже если такие и продаются, то это скорее коллекционные экземляры, для обучения моделей их примеров будет слишком мало."
   ]
  },
  {
   "cell_type": "code",
   "execution_count": 10,
   "metadata": {},
   "outputs": [
    {
     "name": "stdout",
     "output_type": "stream",
     "text": [
      "RegistrationYear < 1970 : 1309\n",
      "RegistrationYear > 2016 : 13912\n"
     ]
    },
    {
     "data": {
      "image/png": "[encoded data removed]",
      "text/plain": [
       "<Figure size 720x504 with 2 Axes>"
      ]
     },
     "metadata": {
      "needs_background": "light"
     },
     "output_type": "display_data"
    }
   ],
   "source": [
    "f = 'RegistrationYear'\n",
    "print(f+' < 1970 :', (df[f] < 1970).sum())\n",
    "print(f+' > 2016 :', (df[f] > 2016).sum())\n",
    "\n",
    "show_hist(df[(df[f] > df[f].quantile(.005)) & (df[f] < df[f].quantile(.995))],\n",
    "          f, bins=40,  figsize=(10, 7), title='Распределение '+f)"
   ]
  },
  {
   "cell_type": "markdown",
   "metadata": {},
   "source": [
    "Объявления с указанным годом и месяцем регистрации автомобиля позднее апреля 2016 отфильтруем. После фильтрации потеряем около 5 процентов объектов. "
   ]
  },
  {
   "cell_type": "code",
   "execution_count": 11,
   "metadata": {},
   "outputs": [
    {
     "data": {
      "text/plain": [
       "(313266, 11)"
      ]
     },
     "execution_count": 11,
     "metadata": {},
     "output_type": "execute_result"
    },
    {
     "data": {
      "image/png": "[encoded data removed]",
      "text/plain": [
       "<Figure size 720x504 with 2 Axes>"
      ]
     },
     "metadata": {
      "needs_background": "light"
     },
     "output_type": "display_data"
    }
   ],
   "source": [
    "df = df.query('1970 <= RegistrationYear <= 2016')\n",
    "df = df.query('not (RegistrationYear == 2016 and RegistrationMonth > 4)')\n",
    "show_hist(df, f, bins=45,  figsize=(10, 7), \n",
    "          title='Распределение '+f+' после фильтрации')\n",
    "df.shape "
   ]
  },
  {
   "cell_type": "markdown",
   "metadata": {},
   "source": [
    "#### Мощность `Power`"
   ]
  },
  {
   "cell_type": "code",
   "execution_count": 12,
   "metadata": {},
   "outputs": [
    {
     "data": {
      "image/png": "[encoded data removed]",
      "text/plain": [
       "<Figure size 720x504 with 2 Axes>"
      ]
     },
     "metadata": {
      "needs_background": "light"
     },
     "output_type": "display_data"
    }
   ],
   "source": [
    "f = 'Power'\n",
    "show_hist(df[df[f] < df[f].quantile(.99)],\n",
    "          f, bins=50,  figsize=(10, 7), title='Распределение '+f)"
   ]
  },
  {
   "cell_type": "code",
   "execution_count": 13,
   "metadata": {},
   "outputs": [
    {
     "name": "stdout",
     "output_type": "stream",
     "text": [
      "Power =   0 : 33396\n",
      "Power > 500 : 396\n"
     ]
    }
   ],
   "source": [
    "print(f+' =   0 :', (df[f] == 0).sum())\n",
    "print(f+' > 500 :', (df[f] > 500).sum())"
   ]
  },
  {
   "cell_type": "markdown",
   "metadata": {},
   "source": [
    "Слишком много нулевых значений мощности, однако их восстановить не получится, отфильтруем. Верхний предел установим равным 500, Автомобили с большей мощностью - редкость"
   ]
  },
  {
   "cell_type": "code",
   "execution_count": 14,
   "metadata": {},
   "outputs": [
    {
     "data": {
      "text/plain": [
       "count    279275.000000\n",
       "mean        120.505058\n",
       "std          53.355474\n",
       "min          10.000000\n",
       "25%          75.000000\n",
       "50%         111.000000\n",
       "75%         150.000000\n",
       "max         500.000000\n",
       "Name: Power, dtype: float64"
      ]
     },
     "execution_count": 14,
     "metadata": {},
     "output_type": "execute_result"
    },
    {
     "data": {
      "image/png": "[encoded data removed]",
      "text/plain": [
       "<Figure size 720x504 with 2 Axes>"
      ]
     },
     "metadata": {
      "needs_background": "light"
     },
     "output_type": "display_data"
    }
   ],
   "source": [
    "df = df.query('10 <= Power <= 500')\n",
    "show_hist(df, f, bins=65,  figsize=(10, 7), title='Распределение '+f+' после фильтрации')\n",
    "df[f].describe()"
   ]
  },
  {
   "cell_type": "markdown",
   "metadata": {},
   "source": [
    "#### Цена `Price`"
   ]
  },
  {
   "cell_type": "code",
   "execution_count": 15,
   "metadata": {},
   "outputs": [
    {
     "data": {
      "text/plain": [
       "14999.0"
      ]
     },
     "execution_count": 15,
     "metadata": {},
     "output_type": "execute_result"
    },
    {
     "data": {
      "image/png": "[encoded data removed]",
      "text/plain": [
       "<Figure size 720x504 with 2 Axes>"
      ]
     },
     "metadata": {
      "needs_background": "light"
     },
     "output_type": "display_data"
    }
   ],
   "source": [
    "f = 'Price'\n",
    "show_hist(df, f, bins=100,  figsize=(10, 7), title='Распределение '+f)\n",
    "df[f].quantile(0.95)"
   ]
  },
  {
   "cell_type": "code",
   "execution_count": 16,
   "metadata": {},
   "outputs": [
    {
     "name": "stdout",
     "output_type": "stream",
     "text": [
      "Price <    100 : 6744\n",
      "Price >= 15000 : 13619\n"
     ]
    }
   ],
   "source": [
    "print(f+' <    100 :', (df[f] < 100).sum())\n",
    "print(f+' >= 15000 :', (df[f] >= 15000).sum())"
   ]
  },
  {
   "cell_type": "markdown",
   "metadata": {},
   "source": [
    "Распределение похоже на реальное. Пики обусловлены округлением цен до 500 евро или до сотен евро. 20000 евро - вполне возможная цена, однако из-за слишком длинного хвоста в распределении мы имеем высокое стандартное отклонение, как следствие не сможем добиться хорошего качества предсказангия моделей. Цена ниже 100 евро подозрительна. Отбросим такие значения."
   ]
  },
  {
   "cell_type": "code",
   "execution_count": 17,
   "metadata": {},
   "outputs": [
    {
     "data": {
      "text/plain": [
       "count    258912.000000\n",
       "mean       4189.916771\n",
       "std        3674.863273\n",
       "min         100.000000\n",
       "25%        1290.000000\n",
       "50%        2950.000000\n",
       "75%        6200.000000\n",
       "max       14999.000000\n",
       "Name: Price, dtype: float64"
      ]
     },
     "execution_count": 17,
     "metadata": {},
     "output_type": "execute_result"
    },
    {
     "data": {
      "image/png": "[encoded data removed]",
      "text/plain": [
       "<Figure size 720x504 with 2 Axes>"
      ]
     },
     "metadata": {
      "needs_background": "light"
     },
     "output_type": "display_data"
    }
   ],
   "source": [
    "df = df.query('100 <= Price < 15000')\n",
    "show_hist(df, f, bins=100, figsize=(10, 7), title='Распределение '+f+' после фильтрации')\n",
    "df[f].describe()"
   ]
  },
  {
   "cell_type": "markdown",
   "metadata": {},
   "source": [
    "Разброс значений всё ещё большой"
   ]
  },
  {
   "cell_type": "markdown",
   "metadata": {},
   "source": [
    "#### Месяц регистрации `RegistrationMonth`\n",
    "\n",
    "Как уже было замечено, встречается нулевое значение месяца. Вероятнее всего в таких объявлениях он не был указан. \n",
    "\n",
    "Встречаемость разных значений месяца"
   ]
  },
  {
   "cell_type": "code",
   "execution_count": 18,
   "metadata": {},
   "outputs": [
    {
     "name": "stdout",
     "output_type": "stream",
     "text": [
      "Коэффициент корелляции с целевым признаком: 0.0772851044560003\n"
     ]
    },
    {
     "data": {
      "image/png": "[encoded data removed]",
      "text/plain": [
       "<Figure size 432x288 with 1 Axes>"
      ]
     },
     "metadata": {
      "needs_background": "light"
     },
     "output_type": "display_data"
    }
   ],
   "source": [
    "df_month_counts = df['RegistrationMonth'].value_counts().sort_index()\n",
    "ax = sns.barplot(y=df_month_counts.values, x=df_month_counts.index)\n",
    "ax.set(title='Количество значений RegistrationMonth',\n",
    "       xlabel='Месяц', ylabel='Количество значений')\n",
    "\n",
    "del df_month_counts\n",
    "print('Коэффициент корелляции с целевым признаком:', \n",
    "      df['RegistrationMonth'].corr(df['Price']))"
   ]
  },
  {
   "cell_type": "markdown",
   "metadata": {},
   "source": [
    "Заменим нули значениями, выбранными случайно из заполненных значений столбца."
   ]
  },
  {
   "cell_type": "code",
   "execution_count": 19,
   "metadata": {},
   "outputs": [
    {
     "name": "stdout",
     "output_type": "stream",
     "text": [
      "Коэффициент корелляции с целевым признаком: 0.01747394009708719\n"
     ]
    }
   ],
   "source": [
    "df.loc[df['RegistrationMonth'] == 0, 'RegistrationMonth'] = pd.Series(\n",
    "    index= df[df['RegistrationMonth']==0].index,\n",
    "    data=df[df['RegistrationMonth'] != 0]['RegistrationMonth'].sample(\n",
    "        (df['RegistrationMonth'] == 0).sum()).values\n",
    ")\n",
    "\n",
    "print('Коэффициент корелляции с целевым признаком:',\n",
    "      df['RegistrationMonth'].corr(df['Price']))"
   ]
  },
  {
   "cell_type": "markdown",
   "metadata": {},
   "source": [
    "Когда избавились от нулевых значений месяца, зависимость месяца регистрации от цены стала ещё слабже. По сравнению с остальными численными параметрами от месяца цена зависит значительно меньше.   \n",
    "Обычно при покупке поддержанного авто решающим является только год, поэтому избавимся от него  "
   ]
  },
  {
   "cell_type": "code",
   "execution_count": 20,
   "metadata": {},
   "outputs": [
    {
     "data": {
      "text/plain": [
       "(258912, 10)"
      ]
     },
     "execution_count": 20,
     "metadata": {},
     "output_type": "execute_result"
    }
   ],
   "source": [
    "if 'RegistrationMonth' in df.columns:\n",
    "    df.drop('RegistrationMonth', axis=1, inplace=True)"
   ]
  },
  {
   "cell_type": "code",
   "execution_count": 21,
   "metadata": {},
   "outputs": [
    {
     "data": {
      "image/png": "[encoded data removed]",
      "text/plain": [
       "<Figure size 432x288 with 2 Axes>"
      ]
     },
     "metadata": {
      "needs_background": "light"
     },
     "output_type": "display_data"
    },
    {
     "name": "stdout",
     "output_type": "stream",
     "text": [
      "DataFrame shape  : 258912 rows, 10 columns\n",
      "Memory usage     : 19.75 MB\n",
      "Duplicates count : 19930\n"
     ]
    },
    {
     "data": {
      "text/html": [
       "<style  type=\"text/css\" >\n",
       "#T_c0265_row0_col1,#T_c0265_row2_col1,#T_c0265_row4_col1,#T_c0265_row6_col1,#T_c0265_row8_col1{\n",
       "            width:  10em;\n",
       "             height:  80%;\n",
       "            background:  linear-gradient(90deg,lightblue 100.0%, transparent 100.0%);\n",
       "        }#T_c0265_row1_col1{\n",
       "            width:  10em;\n",
       "             height:  80%;\n",
       "            background:  linear-gradient(90deg,lightblue 97.2%, transparent 97.2%);\n",
       "        }#T_c0265_row3_col1{\n",
       "            width:  10em;\n",
       "             height:  80%;\n",
       "            background:  linear-gradient(90deg,lightblue 98.1%, transparent 98.1%);\n",
       "        }#T_c0265_row5_col1{\n",
       "            width:  10em;\n",
       "             height:  80%;\n",
       "            background:  linear-gradient(90deg,lightblue 96.3%, transparent 96.3%);\n",
       "        }#T_c0265_row7_col1{\n",
       "            width:  10em;\n",
       "             height:  80%;\n",
       "            background:  linear-gradient(90deg,lightblue 94.9%, transparent 94.9%);\n",
       "        }#T_c0265_row9_col1{\n",
       "            width:  10em;\n",
       "             height:  80%;\n",
       "            background:  linear-gradient(90deg,lightblue 85.1%, transparent 85.1%);\n",
       "        }</style><table id=\"T_c0265_\" ><thead>    <tr>        <th class=\"blank level0\" ></th>        <th class=\"col_heading level0 col0\" >notNA</th>        <th class=\"col_heading level0 col1\" >notNA, %</th>        <th class=\"col_heading level0 col2\" >dtype</th>    </tr></thead><tbody>\n",
       "                <tr>\n",
       "                        <th id=\"T_c0265_level0_row0\" class=\"row_heading level0 row0\" >Price</th>\n",
       "                        <td id=\"T_c0265_row0_col0\" class=\"data row0 col0\" >258912</td>\n",
       "                        <td id=\"T_c0265_row0_col1\" class=\"data row0 col1\" >100.00</td>\n",
       "                        <td id=\"T_c0265_row0_col2\" class=\"data row0 col2\" >int64</td>\n",
       "            </tr>\n",
       "            <tr>\n",
       "                        <th id=\"T_c0265_level0_row1\" class=\"row_heading level0 row1\" >VehicleType</th>\n",
       "                        <td id=\"T_c0265_row1_col0\" class=\"data row1 col0\" >251743</td>\n",
       "                        <td id=\"T_c0265_row1_col1\" class=\"data row1 col1\" >97.23</td>\n",
       "                        <td id=\"T_c0265_row1_col2\" class=\"data row1 col2\" >object</td>\n",
       "            </tr>\n",
       "            <tr>\n",
       "                        <th id=\"T_c0265_level0_row2\" class=\"row_heading level0 row2\" >RegistrationYear</th>\n",
       "                        <td id=\"T_c0265_row2_col0\" class=\"data row2 col0\" >258912</td>\n",
       "                        <td id=\"T_c0265_row2_col1\" class=\"data row2 col1\" >100.00</td>\n",
       "                        <td id=\"T_c0265_row2_col2\" class=\"data row2 col2\" >int64</td>\n",
       "            </tr>\n",
       "            <tr>\n",
       "                        <th id=\"T_c0265_level0_row3\" class=\"row_heading level0 row3\" >Gearbox</th>\n",
       "                        <td id=\"T_c0265_row3_col0\" class=\"data row3 col0\" >254047</td>\n",
       "                        <td id=\"T_c0265_row3_col1\" class=\"data row3 col1\" >98.12</td>\n",
       "                        <td id=\"T_c0265_row3_col2\" class=\"data row3 col2\" >object</td>\n",
       "            </tr>\n",
       "            <tr>\n",
       "                        <th id=\"T_c0265_level0_row4\" class=\"row_heading level0 row4\" >Power</th>\n",
       "                        <td id=\"T_c0265_row4_col0\" class=\"data row4 col0\" >258912</td>\n",
       "                        <td id=\"T_c0265_row4_col1\" class=\"data row4 col1\" >100.00</td>\n",
       "                        <td id=\"T_c0265_row4_col2\" class=\"data row4 col2\" >int64</td>\n",
       "            </tr>\n",
       "            <tr>\n",
       "                        <th id=\"T_c0265_level0_row5\" class=\"row_heading level0 row5\" >Model</th>\n",
       "                        <td id=\"T_c0265_row5_col0\" class=\"data row5 col0\" >249287</td>\n",
       "                        <td id=\"T_c0265_row5_col1\" class=\"data row5 col1\" >96.28</td>\n",
       "                        <td id=\"T_c0265_row5_col2\" class=\"data row5 col2\" >object</td>\n",
       "            </tr>\n",
       "            <tr>\n",
       "                        <th id=\"T_c0265_level0_row6\" class=\"row_heading level0 row6\" >Kilometer</th>\n",
       "                        <td id=\"T_c0265_row6_col0\" class=\"data row6 col0\" >258912</td>\n",
       "                        <td id=\"T_c0265_row6_col1\" class=\"data row6 col1\" >100.00</td>\n",
       "                        <td id=\"T_c0265_row6_col2\" class=\"data row6 col2\" >int64</td>\n",
       "            </tr>\n",
       "            <tr>\n",
       "                        <th id=\"T_c0265_level0_row7\" class=\"row_heading level0 row7\" >FuelType</th>\n",
       "                        <td id=\"T_c0265_row7_col0\" class=\"data row7 col0\" >245638</td>\n",
       "                        <td id=\"T_c0265_row7_col1\" class=\"data row7 col1\" >94.87</td>\n",
       "                        <td id=\"T_c0265_row7_col2\" class=\"data row7 col2\" >object</td>\n",
       "            </tr>\n",
       "            <tr>\n",
       "                        <th id=\"T_c0265_level0_row8\" class=\"row_heading level0 row8\" >Brand</th>\n",
       "                        <td id=\"T_c0265_row8_col0\" class=\"data row8 col0\" >258912</td>\n",
       "                        <td id=\"T_c0265_row8_col1\" class=\"data row8 col1\" >100.00</td>\n",
       "                        <td id=\"T_c0265_row8_col2\" class=\"data row8 col2\" >object</td>\n",
       "            </tr>\n",
       "            <tr>\n",
       "                        <th id=\"T_c0265_level0_row9\" class=\"row_heading level0 row9\" >NotRepaired</th>\n",
       "                        <td id=\"T_c0265_row9_col0\" class=\"data row9 col0\" >220312</td>\n",
       "                        <td id=\"T_c0265_row9_col1\" class=\"data row9 col1\" >85.09</td>\n",
       "                        <td id=\"T_c0265_row9_col2\" class=\"data row9 col2\" >object</td>\n",
       "            </tr>\n",
       "    </tbody></table>"
      ],
      "text/plain": [
       "<pandas.io.formats.style.Styler at 0x23aaafbe490>"
      ]
     },
     "execution_count": 21,
     "metadata": {},
     "output_type": "execute_result"
    }
   ],
   "source": [
    "df = df.reset_index(drop=True)\n",
    "sns.heatmap(df.corr(), annot=True, cmap='coolwarm', vmin=-1, vmax=1)\n",
    "plt.title('Correlation Matrix')\n",
    "plt.show()\n",
    "dataframe_info(df)"
   ]
  },
  {
   "cell_type": "markdown",
   "metadata": {},
   "source": [
    "Мультиколлинеарности численных признаков не наблюдаем\n",
    "\n",
    "Вновь возникли дубли из-за совпадения значений месяца.\n",
    "\n",
    "Потеряли около 28 % изначального объёма данных."
   ]
  },
  {
   "cell_type": "markdown",
   "metadata": {},
   "source": [
    "### Пропуски\n",
    "\n",
    "Выделим категориальные признаки в список. Посмотрим распределения значений. Далее заполним пропуски в них"
   ]
  },
  {
   "cell_type": "code",
   "execution_count": 22,
   "metadata": {
    "scrolled": false
   },
   "outputs": [
    {
     "name": "stdout",
     "output_type": "stream",
     "text": [
      "`VehicleType`, unique values: 8\n",
      "['bus', 'convertible', 'coupe', 'other', 'sedan', 'small', 'suv', 'wagon']\n",
      "\n"
     ]
    },
    {
     "data": {
      "image/png": "[encoded data removed]",
      "text/plain": [
       "<Figure size 576x226.8 with 1 Axes>"
      ]
     },
     "metadata": {
      "needs_background": "light"
     },
     "output_type": "display_data"
    },
    {
     "name": "stdout",
     "output_type": "stream",
     "text": [
      "`Gearbox`, unique values: 2\n",
      "['auto', 'manual']\n",
      "\n"
     ]
    },
    {
     "data": {
      "image/png": "[encoded data removed]",
      "text/plain": [
       "<Figure size 576x75.6 with 1 Axes>"
      ]
     },
     "metadata": {
      "needs_background": "light"
     },
     "output_type": "display_data"
    },
    {
     "name": "stdout",
     "output_type": "stream",
     "text": [
      "`Model`, unique values: 249\n",
      "['100', '145', '147', '156', '159', '1_reihe', '1er', '200', '2_reihe', '300c', '3_reihe', '3er', '4_reihe', '500', '5_reihe', '5er', '601', '6_reihe', '6er', '7er', '80', '850', '90', '900', '9000', '911', 'a1', 'a2', 'a3', 'a4', 'a5', 'a6', 'a8', 'a_klasse', 'accord', 'agila', 'alhambra', 'almera', 'altea', 'amarok', 'antara', 'arosa', 'astra', 'auris', 'avensis', 'aveo', 'aygo', 'b_klasse', 'b_max', 'beetle', 'berlingo', 'bora', 'boxster', 'bravo', 'c1', 'c2', 'c3', 'c4', 'c5', 'c_klasse', 'c_max', 'c_reihe', 'caddy', 'calibra', 'captiva', 'carisma', 'carnival', 'cayenne', 'cc', 'ceed', 'charade', 'cherokee', 'citigo', 'civic', 'cl', 'clio', 'clk', 'clubman', 'colt', 'combo', 'cooper', 'cordoba', 'corolla', 'corsa', 'cr_reihe', 'croma', 'crossfire', 'cuore', 'cx_reihe', 'defender', 'delta', 'discovery', 'doblo', 'ducato', 'duster', 'e_klasse', 'elefantino', 'eos', 'escort', 'espace', 'exeo', 'fabia', 'fiesta', 'focus', 'forester', 'forfour', 'fortwo', 'fox', 'freelander', 'fusion', 'g_klasse', 'galant', 'galaxy', 'getz', 'gl', 'glk', 'golf', 'grand', 'i3', 'i_reihe', 'ibiza', 'impreza', 'insignia', 'jazz', 'jetta', 'jimny', 'juke', 'justy', 'ka', 'kadett', 'kaefer', 'kalina', 'kalos', 'kangoo', 'kappa', 'kuga', 'laguna', 'lancer', 'lanos', 'legacy', 'leon', 'lodgy', 'logan', 'lupo', 'lybra', 'm_klasse', 'm_reihe', 'materia', 'matiz', 'megane', 'meriva', 'micra', 'mii', 'modus', 'mondeo', 'move', 'musa', 'mustang', 'mx_reihe', 'navara', 'niva', 'note', 'nubira', 'octavia', 'omega', 'one', 'other', 'outlander', 'pajero', 'panda', 'passat', 'phaeton', 'picanto', 'polo', 'primera', 'ptcruiser', 'punto', 'q3', 'q5', 'q7', 'qashqai', 'r19', 'range_rover', 'range_rover_evoque', 'range_rover_sport', 'rangerover', 'rav', 'rio', 'roadster', 'roomster', 'rx_reihe', 's60', 's_klasse', 's_max', 's_type', 'samara', 'sandero', 'santa', 'scenic', 'scirocco', 'seicento', 'serie_2', 'serie_3', 'sharan', 'signum', 'sirion', 'sl', 'slk', 'sorento', 'spark', 'spider', 'sportage', 'sprinter', 'stilo', 'superb', 'swift', 'terios', 'tigra', 'tiguan', 'toledo', 'touareg', 'touran', 'transit', 'transporter', 'tt', 'tucson', 'twingo', 'up', 'v40', 'v50', 'v60', 'v70', 'v_klasse', 'vectra', 'verso', 'viano', 'vito', 'vivaro', 'voyager', 'wrangler', 'x_reihe', 'x_trail', 'x_type', 'xc_reihe', 'yaris', 'yeti', 'ypsilon', 'z_reihe', 'zafira']\n",
      "\n"
     ]
    },
    {
     "data": {
      "image/png": "[encoded data removed]",
      "text/plain": [
       "<Figure size 576x630 with 1 Axes>"
      ]
     },
     "metadata": {
      "needs_background": "light"
     },
     "output_type": "display_data"
    },
    {
     "name": "stdout",
     "output_type": "stream",
     "text": [
      "`FuelType`, unique values: 7\n",
      "['cng', 'electric', 'gasoline', 'hybrid', 'lpg', 'other', 'petrol']\n",
      "\n"
     ]
    },
    {
     "data": {
      "image/png": "[encoded data removed]",
      "text/plain": [
       "<Figure size 576x201.6 with 1 Axes>"
      ]
     },
     "metadata": {
      "needs_background": "light"
     },
     "output_type": "display_data"
    },
    {
     "name": "stdout",
     "output_type": "stream",
     "text": [
      "`Brand`, unique values: 40\n",
      "['alfa_romeo', 'audi', 'bmw', 'chevrolet', 'chrysler', 'citroen', 'dacia', 'daewoo', 'daihatsu', 'fiat', 'ford', 'honda', 'hyundai', 'jaguar', 'jeep', 'kia', 'lada', 'lancia', 'land_rover', 'mazda', 'mercedes_benz', 'mini', 'mitsubishi', 'nissan', 'opel', 'peugeot', 'porsche', 'renault', 'rover', 'saab', 'seat', 'skoda', 'smart', 'sonstige_autos', 'subaru', 'suzuki', 'toyota', 'trabant', 'volkswagen', 'volvo']\n",
      "\n"
     ]
    },
    {
     "data": {
      "image/png": "[encoded data removed]",
      "text/plain": [
       "<Figure size 576x630 with 1 Axes>"
      ]
     },
     "metadata": {
      "needs_background": "light"
     },
     "output_type": "display_data"
    },
    {
     "name": "stdout",
     "output_type": "stream",
     "text": [
      "`NotRepaired`, unique values: 2\n",
      "['no', 'yes']\n",
      "\n"
     ]
    },
    {
     "data": {
      "image/png": "[encoded data removed]",
      "text/plain": [
       "<Figure size 576x75.6 with 1 Axes>"
      ]
     },
     "metadata": {
      "needs_background": "light"
     },
     "output_type": "display_data"
    }
   ],
   "source": [
    "int_features = list(df.select_dtypes('integer').columns)\n",
    "cat_features = list(df.select_dtypes('object').columns)\n",
    "for f in cat_features:\n",
    "    _ = df[f].dropna().unique()\n",
    "    print('`{}`, unique values: {}\\n{}\\n'\n",
    "          .format(f, len(_), sorted(_)))\n",
    "    visualize_value_counts(df, f)"
   ]
  },
  {
   "cell_type": "markdown",
   "metadata": {},
   "source": [
    "1. Заполним пропуски в столбце типа авто значениями из указанного типа в таких же моделях, поскольку от поколения к поколению у одной и той же модели тип кузова может меняться, то возьмём чаще всего встречающийся тип у одной и той же модели.\n",
    "Поскольку в моделях пока тоже есть пропуски, то оставшиеся пропущенные значения заполним аналогичным образом, но группируя уже по бренду.\n",
    "2. Точно также поступим с типом коробки передач и топлива.\n",
    "3. Пропуски в моделях авто и в информации о том, был ли автомобиль в ремонте, заполним значением `'unknown'`\n"
   ]
  },
  {
   "cell_type": "code",
   "execution_count": 23,
   "metadata": {},
   "outputs": [],
   "source": [
    "def fillna_with_mode(df, target_col, group_col):\n",
    "    before = df[target_col].isna().sum()\n",
    "    df.loc[df[target_col].isna(), target_col] = (\n",
    "        df.loc[df[target_col].isna(), group_col].map(\n",
    "            df.groupby(group_col)[target_col].agg(lambda x: pd.Series.mode(x)[0]))\n",
    "    )\n",
    "    print('{} out of {} values are filled with the most occurring \"{}\" among \"{}\"'\n",
    "        .format(before-df[target_col].isna().sum(), before, target_col, group_col))"
   ]
  },
  {
   "cell_type": "code",
   "execution_count": 24,
   "metadata": {},
   "outputs": [
    {
     "name": "stdout",
     "output_type": "stream",
     "text": [
      "\"VehicleType\" :\n",
      "6065 out of 7169 values are filled with the most occurring \"VehicleType\" among \"Model\"\n",
      "1104 out of 1104 values are filled with the most occurring \"VehicleType\" among \"Brand\"\n",
      "\n",
      "\"Gearbox\" :\n",
      "4259 out of 4865 values are filled with the most occurring \"Gearbox\" among \"Model\"\n",
      "606 out of 606 values are filled with the most occurring \"Gearbox\" among \"Brand\"\n",
      "\n",
      "\"FuelType\" :\n",
      "11012 out of 13274 values are filled with the most occurring \"FuelType\" among \"Model\"\n",
      "2262 out of 2262 values are filled with the most occurring \"FuelType\" among \"Brand\"\n",
      "\n",
      "DataFrame shape  : 258912 rows, 10 columns\n",
      "Memory usage     : 19.75 MB\n",
      "Duplicates count : 22136\n"
     ]
    },
    {
     "data": {
      "text/html": [
       "<style  type=\"text/css\" >\n",
       "#T_ebcd7_row0_col1,#T_ebcd7_row1_col1,#T_ebcd7_row2_col1,#T_ebcd7_row3_col1,#T_ebcd7_row4_col1,#T_ebcd7_row5_col1,#T_ebcd7_row6_col1,#T_ebcd7_row7_col1,#T_ebcd7_row8_col1,#T_ebcd7_row9_col1{\n",
       "            width:  10em;\n",
       "             height:  80%;\n",
       "            background:  linear-gradient(90deg,lightblue 100.0%, transparent 100.0%);\n",
       "        }</style><table id=\"T_ebcd7_\" ><thead>    <tr>        <th class=\"blank level0\" ></th>        <th class=\"col_heading level0 col0\" >notNA</th>        <th class=\"col_heading level0 col1\" >notNA, %</th>        <th class=\"col_heading level0 col2\" >dtype</th>    </tr></thead><tbody>\n",
       "                <tr>\n",
       "                        <th id=\"T_ebcd7_level0_row0\" class=\"row_heading level0 row0\" >Price</th>\n",
       "                        <td id=\"T_ebcd7_row0_col0\" class=\"data row0 col0\" >258912</td>\n",
       "                        <td id=\"T_ebcd7_row0_col1\" class=\"data row0 col1\" >100.00</td>\n",
       "                        <td id=\"T_ebcd7_row0_col2\" class=\"data row0 col2\" >int64</td>\n",
       "            </tr>\n",
       "            <tr>\n",
       "                        <th id=\"T_ebcd7_level0_row1\" class=\"row_heading level0 row1\" >VehicleType</th>\n",
       "                        <td id=\"T_ebcd7_row1_col0\" class=\"data row1 col0\" >258912</td>\n",
       "                        <td id=\"T_ebcd7_row1_col1\" class=\"data row1 col1\" >100.00</td>\n",
       "                        <td id=\"T_ebcd7_row1_col2\" class=\"data row1 col2\" >object</td>\n",
       "            </tr>\n",
       "            <tr>\n",
       "                        <th id=\"T_ebcd7_level0_row2\" class=\"row_heading level0 row2\" >RegistrationYear</th>\n",
       "                        <td id=\"T_ebcd7_row2_col0\" class=\"data row2 col0\" >258912</td>\n",
       "                        <td id=\"T_ebcd7_row2_col1\" class=\"data row2 col1\" >100.00</td>\n",
       "                        <td id=\"T_ebcd7_row2_col2\" class=\"data row2 col2\" >int64</td>\n",
       "            </tr>\n",
       "            <tr>\n",
       "                        <th id=\"T_ebcd7_level0_row3\" class=\"row_heading level0 row3\" >Gearbox</th>\n",
       "                        <td id=\"T_ebcd7_row3_col0\" class=\"data row3 col0\" >258912</td>\n",
       "                        <td id=\"T_ebcd7_row3_col1\" class=\"data row3 col1\" >100.00</td>\n",
       "                        <td id=\"T_ebcd7_row3_col2\" class=\"data row3 col2\" >object</td>\n",
       "            </tr>\n",
       "            <tr>\n",
       "                        <th id=\"T_ebcd7_level0_row4\" class=\"row_heading level0 row4\" >Power</th>\n",
       "                        <td id=\"T_ebcd7_row4_col0\" class=\"data row4 col0\" >258912</td>\n",
       "                        <td id=\"T_ebcd7_row4_col1\" class=\"data row4 col1\" >100.00</td>\n",
       "                        <td id=\"T_ebcd7_row4_col2\" class=\"data row4 col2\" >int64</td>\n",
       "            </tr>\n",
       "            <tr>\n",
       "                        <th id=\"T_ebcd7_level0_row5\" class=\"row_heading level0 row5\" >Model</th>\n",
       "                        <td id=\"T_ebcd7_row5_col0\" class=\"data row5 col0\" >258912</td>\n",
       "                        <td id=\"T_ebcd7_row5_col1\" class=\"data row5 col1\" >100.00</td>\n",
       "                        <td id=\"T_ebcd7_row5_col2\" class=\"data row5 col2\" >object</td>\n",
       "            </tr>\n",
       "            <tr>\n",
       "                        <th id=\"T_ebcd7_level0_row6\" class=\"row_heading level0 row6\" >Kilometer</th>\n",
       "                        <td id=\"T_ebcd7_row6_col0\" class=\"data row6 col0\" >258912</td>\n",
       "                        <td id=\"T_ebcd7_row6_col1\" class=\"data row6 col1\" >100.00</td>\n",
       "                        <td id=\"T_ebcd7_row6_col2\" class=\"data row6 col2\" >int64</td>\n",
       "            </tr>\n",
       "            <tr>\n",
       "                        <th id=\"T_ebcd7_level0_row7\" class=\"row_heading level0 row7\" >FuelType</th>\n",
       "                        <td id=\"T_ebcd7_row7_col0\" class=\"data row7 col0\" >258912</td>\n",
       "                        <td id=\"T_ebcd7_row7_col1\" class=\"data row7 col1\" >100.00</td>\n",
       "                        <td id=\"T_ebcd7_row7_col2\" class=\"data row7 col2\" >object</td>\n",
       "            </tr>\n",
       "            <tr>\n",
       "                        <th id=\"T_ebcd7_level0_row8\" class=\"row_heading level0 row8\" >Brand</th>\n",
       "                        <td id=\"T_ebcd7_row8_col0\" class=\"data row8 col0\" >258912</td>\n",
       "                        <td id=\"T_ebcd7_row8_col1\" class=\"data row8 col1\" >100.00</td>\n",
       "                        <td id=\"T_ebcd7_row8_col2\" class=\"data row8 col2\" >object</td>\n",
       "            </tr>\n",
       "            <tr>\n",
       "                        <th id=\"T_ebcd7_level0_row9\" class=\"row_heading level0 row9\" >NotRepaired</th>\n",
       "                        <td id=\"T_ebcd7_row9_col0\" class=\"data row9 col0\" >258912</td>\n",
       "                        <td id=\"T_ebcd7_row9_col1\" class=\"data row9 col1\" >100.00</td>\n",
       "                        <td id=\"T_ebcd7_row9_col2\" class=\"data row9 col2\" >object</td>\n",
       "            </tr>\n",
       "    </tbody></table>"
      ],
      "text/plain": [
       "<pandas.io.formats.style.Styler at 0x23aaade3700>"
      ]
     },
     "execution_count": 24,
     "metadata": {},
     "output_type": "execute_result"
    }
   ],
   "source": [
    "for f in ['VehicleType', 'Gearbox', 'FuelType']:\n",
    "    print('\"{}\" :'.format(f))\n",
    "    fillna_with_mode(df, f, 'Model')\n",
    "    fillna_with_mode(df, f, 'Brand')\n",
    "    print()\n",
    "df['Model'].fillna('_unknown', inplace=True)\n",
    "df['NotRepaired'].fillna('_unknown', inplace=True)\n",
    "dataframe_info(df)"
   ]
  },
  {
   "cell_type": "markdown",
   "metadata": {},
   "source": [
    "### Приведение типов данных"
   ]
  },
  {
   "cell_type": "markdown",
   "metadata": {},
   "source": [
    "Произведём приведение типов данных. Для численных произведём понижение типа к диапазону, в который вмещаются все возможные значения в столбце. Для строковых произведём преобразование к категориальному типу. Это позволит уменьшить количество памяти, занимаемой данными. Кроме того LGBM работает с категориальными признаками pandas"
   ]
  },
  {
   "cell_type": "code",
   "execution_count": 25,
   "metadata": {},
   "outputs": [
    {
     "name": "stdout",
     "output_type": "stream",
     "text": [
      "DataFrame shape  : 258912 rows, 10 columns\n",
      "Memory usage     : 4.21 MB\n",
      "Duplicates count : 22136\n"
     ]
    },
    {
     "data": {
      "text/html": [
       "<style  type=\"text/css\" >\n",
       "#T_1d7e4_row0_col1,#T_1d7e4_row1_col1,#T_1d7e4_row2_col1,#T_1d7e4_row3_col1,#T_1d7e4_row4_col1,#T_1d7e4_row5_col1,#T_1d7e4_row6_col1,#T_1d7e4_row7_col1,#T_1d7e4_row8_col1,#T_1d7e4_row9_col1{\n",
       "            width:  10em;\n",
       "             height:  80%;\n",
       "            background:  linear-gradient(90deg,lightblue 100.0%, transparent 100.0%);\n",
       "        }</style><table id=\"T_1d7e4_\" ><thead>    <tr>        <th class=\"blank level0\" ></th>        <th class=\"col_heading level0 col0\" >notNA</th>        <th class=\"col_heading level0 col1\" >notNA, %</th>        <th class=\"col_heading level0 col2\" >dtype</th>    </tr></thead><tbody>\n",
       "                <tr>\n",
       "                        <th id=\"T_1d7e4_level0_row0\" class=\"row_heading level0 row0\" >Price</th>\n",
       "                        <td id=\"T_1d7e4_row0_col0\" class=\"data row0 col0\" >258912</td>\n",
       "                        <td id=\"T_1d7e4_row0_col1\" class=\"data row0 col1\" >100.00</td>\n",
       "                        <td id=\"T_1d7e4_row0_col2\" class=\"data row0 col2\" >int16</td>\n",
       "            </tr>\n",
       "            <tr>\n",
       "                        <th id=\"T_1d7e4_level0_row1\" class=\"row_heading level0 row1\" >VehicleType</th>\n",
       "                        <td id=\"T_1d7e4_row1_col0\" class=\"data row1 col0\" >258912</td>\n",
       "                        <td id=\"T_1d7e4_row1_col1\" class=\"data row1 col1\" >100.00</td>\n",
       "                        <td id=\"T_1d7e4_row1_col2\" class=\"data row1 col2\" >category</td>\n",
       "            </tr>\n",
       "            <tr>\n",
       "                        <th id=\"T_1d7e4_level0_row2\" class=\"row_heading level0 row2\" >RegistrationYear</th>\n",
       "                        <td id=\"T_1d7e4_row2_col0\" class=\"data row2 col0\" >258912</td>\n",
       "                        <td id=\"T_1d7e4_row2_col1\" class=\"data row2 col1\" >100.00</td>\n",
       "                        <td id=\"T_1d7e4_row2_col2\" class=\"data row2 col2\" >int16</td>\n",
       "            </tr>\n",
       "            <tr>\n",
       "                        <th id=\"T_1d7e4_level0_row3\" class=\"row_heading level0 row3\" >Gearbox</th>\n",
       "                        <td id=\"T_1d7e4_row3_col0\" class=\"data row3 col0\" >258912</td>\n",
       "                        <td id=\"T_1d7e4_row3_col1\" class=\"data row3 col1\" >100.00</td>\n",
       "                        <td id=\"T_1d7e4_row3_col2\" class=\"data row3 col2\" >category</td>\n",
       "            </tr>\n",
       "            <tr>\n",
       "                        <th id=\"T_1d7e4_level0_row4\" class=\"row_heading level0 row4\" >Power</th>\n",
       "                        <td id=\"T_1d7e4_row4_col0\" class=\"data row4 col0\" >258912</td>\n",
       "                        <td id=\"T_1d7e4_row4_col1\" class=\"data row4 col1\" >100.00</td>\n",
       "                        <td id=\"T_1d7e4_row4_col2\" class=\"data row4 col2\" >int16</td>\n",
       "            </tr>\n",
       "            <tr>\n",
       "                        <th id=\"T_1d7e4_level0_row5\" class=\"row_heading level0 row5\" >Model</th>\n",
       "                        <td id=\"T_1d7e4_row5_col0\" class=\"data row5 col0\" >258912</td>\n",
       "                        <td id=\"T_1d7e4_row5_col1\" class=\"data row5 col1\" >100.00</td>\n",
       "                        <td id=\"T_1d7e4_row5_col2\" class=\"data row5 col2\" >category</td>\n",
       "            </tr>\n",
       "            <tr>\n",
       "                        <th id=\"T_1d7e4_level0_row6\" class=\"row_heading level0 row6\" >Kilometer</th>\n",
       "                        <td id=\"T_1d7e4_row6_col0\" class=\"data row6 col0\" >258912</td>\n",
       "                        <td id=\"T_1d7e4_row6_col1\" class=\"data row6 col1\" >100.00</td>\n",
       "                        <td id=\"T_1d7e4_row6_col2\" class=\"data row6 col2\" >int32</td>\n",
       "            </tr>\n",
       "            <tr>\n",
       "                        <th id=\"T_1d7e4_level0_row7\" class=\"row_heading level0 row7\" >FuelType</th>\n",
       "                        <td id=\"T_1d7e4_row7_col0\" class=\"data row7 col0\" >258912</td>\n",
       "                        <td id=\"T_1d7e4_row7_col1\" class=\"data row7 col1\" >100.00</td>\n",
       "                        <td id=\"T_1d7e4_row7_col2\" class=\"data row7 col2\" >category</td>\n",
       "            </tr>\n",
       "            <tr>\n",
       "                        <th id=\"T_1d7e4_level0_row8\" class=\"row_heading level0 row8\" >Brand</th>\n",
       "                        <td id=\"T_1d7e4_row8_col0\" class=\"data row8 col0\" >258912</td>\n",
       "                        <td id=\"T_1d7e4_row8_col1\" class=\"data row8 col1\" >100.00</td>\n",
       "                        <td id=\"T_1d7e4_row8_col2\" class=\"data row8 col2\" >category</td>\n",
       "            </tr>\n",
       "            <tr>\n",
       "                        <th id=\"T_1d7e4_level0_row9\" class=\"row_heading level0 row9\" >NotRepaired</th>\n",
       "                        <td id=\"T_1d7e4_row9_col0\" class=\"data row9 col0\" >258912</td>\n",
       "                        <td id=\"T_1d7e4_row9_col1\" class=\"data row9 col1\" >100.00</td>\n",
       "                        <td id=\"T_1d7e4_row9_col2\" class=\"data row9 col2\" >category</td>\n",
       "            </tr>\n",
       "    </tbody></table>"
      ],
      "text/plain": [
       "<pandas.io.formats.style.Styler at 0x23aab9ef580>"
      ]
     },
     "execution_count": 25,
     "metadata": {},
     "output_type": "execute_result"
    }
   ],
   "source": [
    "df[int_features] = df[int_features].apply(pd.to_numeric, downcast='integer')\n",
    "df[cat_features] = df[cat_features].astype('category')\n",
    "\n",
    "dataframe_info(df)"
   ]
  },
  {
   "cell_type": "markdown",
   "metadata": {},
   "source": [
    "## Обучение моделей"
   ]
  },
  {
   "cell_type": "markdown",
   "metadata": {},
   "source": [
    "### Подготовка признаков\n",
    "\n",
    "1. Отделим целевой признак\n",
    "2. Отмасштабируем численные признаки с помощью StandardScaler() потому что они распредлены в основном нормально, а категориальные после прямого кодирования - с помощью MinMaxScaler() \n",
    "3. Помимо исходного набора признаков подготовим признаки, закодированные методами \n",
    "    - One-Hot Encoding\n",
    "    - Ordinal Encoding"
   ]
  },
  {
   "cell_type": "code",
   "execution_count": 26,
   "metadata": {},
   "outputs": [
    {
     "name": "stdout",
     "output_type": "stream",
     "text": [
      "Train/test features shape  = [(207129, 9), (51783, 9)]\n",
      "Ordinal encoded features shape = [(207129, 9), (51783, 9)]\n",
      "OHE encoded features shape = [(207129, 307), (51783, 307)]\n"
     ]
    }
   ],
   "source": [
    "# масштабируем численные признаки\n",
    "X_scaled = df.drop('Price', axis=1)\n",
    "X_scaled[int_features[1:]] = pd.DataFrame(\n",
    "    StandardScaler().fit_transform(X_scaled[int_features[1:]]),\n",
    "    columns=int_features[1:]\n",
    ").apply(pd.to_numeric, downcast='integer')\n",
    "\n",
    "# получаем выборки для трэйна и теста\n",
    "X_train, X_test, y_train, y_test = train_test_split(\n",
    "    X_scaled, df['Price'], test_size=0.2, random_state=RANDOM_STATE\n",
    ")\n",
    "print('Train/test features shape  =', [X_train.shape, X_test.shape])\n",
    "\n",
    "# прямое кодирование\n",
    "X_oe = X_scaled.copy()\n",
    "X_oe[cat_features] = pd.DataFrame(\n",
    "    MinMaxScaler(feature_range=[-1,1]).fit_transform(\n",
    "        OrdinalEncoder().fit_transform(X_oe[cat_features])),\n",
    "    columns=cat_features\n",
    ").apply(pd.to_numeric, downcast='integer')\n",
    "X_oe_train, X_oe_test = X_oe.loc[X_train.index], X_oe.loc[X_test.index]\n",
    "print(\"Ordinal encoded features shape =\", [X_oe_train.shape, X_oe_test.shape])\n",
    "\n",
    "# OHE кодирование\n",
    "X_ohe = pd.get_dummies(X_scaled, columns=cat_features, drop_first=True)\n",
    "X_ohe_train, X_ohe_test = X_ohe.loc[X_train.index], X_ohe.loc[X_test.index]\n",
    "print(\"OHE encoded features shape =\", [X_ohe_train.shape, X_ohe_test.shape])\n",
    "\n",
    "del X_scaled, X_oe, X_ohe"
   ]
  },
  {
   "cell_type": "markdown",
   "metadata": {},
   "source": [
    "Создадим словари для разных наборов признаков и для моделей, чтобы иметь возможность обращаться к ним по ключу.   \n",
    "Словарь с признаками `X` не займёт дополнительного места в оперативной памяти.  \n",
    "В словарь `models` будем сохранять модели, показывающие наилучшию метрику качества на кроссвалидации"
   ]
  },
  {
   "cell_type": "code",
   "execution_count": 27,
   "metadata": {},
   "outputs": [],
   "source": [
    "X = {}\n",
    "X['raw'] = (X_train, X_test)\n",
    "X['OE']  = (X_oe_train, X_oe_test)\n",
    "X['OHE'] = (X_ohe_train, X_ohe_test)\n",
    "models = {}"
   ]
  },
  {
   "cell_type": "markdown",
   "metadata": {},
   "source": [
    "Реализуем функцию для компактного вывода параметров топ моделей регрессора по результатам кросс-валидации  \n",
    "Зададим словарь параметров `common_cv_params`, которые будут использоваться на каждой кросс-валидации"
   ]
  },
  {
   "cell_type": "code",
   "execution_count": 28,
   "metadata": {},
   "outputs": [],
   "source": [
    "def best_cv_models(grid, count):\n",
    "    ''' Выводит таблицу с показателями моделей, показавших наилучшие значения RMSE на кроссвалидации.\n",
    "\n",
    "    Принимает  \n",
    "        : `grid` - результат GridSearchCV после fit(), \n",
    "        : `count` - количество лучших моделей для вывода\n",
    "    Возвращает : pd.DataFrame c параметрами моделей\n",
    "    '''\n",
    "\n",
    "    print('Estimator: {}'.format(grid.estimator))\n",
    "    print('Tested {} models on {} folds'.format(len(grid.cv_results_['params']), grid.cv))\n",
    "    print('Best RMSE = {}\\n'.format((-grid.best_score_) ** 0.5))\n",
    "    best_idx = grid.cv_results_['rank_test_score'].argsort()[:count]\n",
    "    return pd.DataFrame({\n",
    "            'RMSE test, €': (-grid.cv_results_['mean_test_score'][best_idx])**0.5,\n",
    "            'RMSE train, €': (-grid.cv_results_['mean_train_score'][best_idx])**0.5,\n",
    "            'fit time, s': grid.cv_results_['mean_fit_time'][best_idx],\n",
    "            'score time, s': grid.cv_results_['mean_score_time'][best_idx]}\n",
    "        ).join(pd.DataFrame([grid.cv_results_['params'][i] for i in best_idx]))\n",
    "\n",
    "\n",
    "common_cv_params = {'scoring': 'neg_mean_squared_error',\n",
    "                    'return_train_score': True,\n",
    "                    'cv': 4}"
   ]
  },
  {
   "cell_type": "markdown",
   "metadata": {},
   "source": [
    "Обучим модели LinearRegression, DecisionTreeRegreessor, CatBoostRegressor, LGBMRegressor на разных наборах данных (исходных и закодированных)"
   ]
  },
  {
   "cell_type": "markdown",
   "metadata": {},
   "source": [
    "### LinearRegression"
   ]
  },
  {
   "cell_type": "code",
   "execution_count": 29,
   "metadata": {},
   "outputs": [
    {
     "name": "stdout",
     "output_type": "stream",
     "text": [
      "LinearRegression for Ordinal Encoded features\n",
      "RMSE = 2430.3935394865716\n",
      "\n",
      "CPU times: total: 1.25 s\n",
      "Wall time: 181 ms\n"
     ]
    }
   ],
   "source": [
    "%%time\n",
    "rmse = (-cross_val_score(\n",
    "    LinearRegression(), X_oe_train, y_train, scoring='neg_mean_squared_error')\n",
    ") ** 0.5 \n",
    "print('LinearRegression for Ordinal Encoded features\\nRMSE = {}\\n'\n",
    "      .format(rmse.mean()))"
   ]
  },
  {
   "cell_type": "code",
   "execution_count": 30,
   "metadata": {},
   "outputs": [
    {
     "name": "stdout",
     "output_type": "stream",
     "text": [
      "LinearRegression for OHE encoded features\n",
      "RMSE = 2105.609744293746\n",
      "\n",
      "CPU times: total: 39.9 s\n",
      "Wall time: 7.18 s\n"
     ]
    }
   ],
   "source": [
    "%%time\n",
    "rmse = (-cross_val_score(\n",
    "    LinearRegression(), X_ohe_train, y_train, scoring='neg_mean_squared_error')\n",
    ") ** 0.5\n",
    "print('LinearRegression for OHE encoded features\\nRMSE = {}\\n'\n",
    "      .format(rmse.mean()))"
   ]
  },
  {
   "cell_type": "markdown",
   "metadata": {},
   "source": [
    "- Линейная регрессия на признаках с прямым кодирование обучается в несколько раз быстрее, но даёт результат хуже чем на признаках с ohe кодированием.\n",
    "- Масштабирование в случае прямого кодирования не изменило качество предсказания, в случае ohe - только ухудшило."
   ]
  },
  {
   "cell_type": "code",
   "execution_count": 33,
   "metadata": {},
   "outputs": [],
   "source": [
    "models['Linear'] = {'OE': LinearRegression(),\n",
    "                    'OHE': LinearRegression()}"
   ]
  },
  {
   "cell_type": "markdown",
   "metadata": {},
   "source": [
    "### DecisionTreeRegressor\n",
    "\n",
    "Для решающих деревьев протестируем качество при разных значениях `max_depth`, `min_samples_split`, `min_samples_leaf`"
   ]
  },
  {
   "cell_type": "code",
   "execution_count": 34,
   "metadata": {},
   "outputs": [
    {
     "name": "stdout",
     "output_type": "stream",
     "text": [
      "DecisionTreeRegressor for ordinal encoded features\n",
      "Estimator: DecisionTreeRegressor(random_state=123)\n",
      "Tested 1000 models on 4 folds\n",
      "Best RMSE = 1489.069929845834\n",
      "\n",
      "CPU times: total: 37.2 s\n",
      "Wall time: 3min 9s\n"
     ]
    },
    {
     "data": {
      "text/html": [
       "<div>\n",
       "<style scoped>\n",
       "    .dataframe tbody tr th:only-of-type {\n",
       "        vertical-align: middle;\n",
       "    }\n",
       "\n",
       "    .dataframe tbody tr th {\n",
       "        vertical-align: top;\n",
       "    }\n",
       "\n",
       "    .dataframe thead th {\n",
       "        text-align: right;\n",
       "    }\n",
       "</style>\n",
       "<table border=\"1\" class=\"dataframe\">\n",
       "  <thead>\n",
       "    <tr style=\"text-align: right;\">\n",
       "      <th></th>\n",
       "      <th>RMSE test, €</th>\n",
       "      <th>RMSE train, €</th>\n",
       "      <th>fit time, s</th>\n",
       "      <th>score time, s</th>\n",
       "      <th>max_depth</th>\n",
       "      <th>min_samples_leaf</th>\n",
       "      <th>min_samples_split</th>\n",
       "    </tr>\n",
       "  </thead>\n",
       "  <tbody>\n",
       "    <tr>\n",
       "      <th>0</th>\n",
       "      <td>1489.069930</td>\n",
       "      <td>1308.200993</td>\n",
       "      <td>0.724249</td>\n",
       "      <td>0.019002</td>\n",
       "      <td>20</td>\n",
       "      <td>10</td>\n",
       "      <td>30</td>\n",
       "    </tr>\n",
       "    <tr>\n",
       "      <th>1</th>\n",
       "      <td>1489.093558</td>\n",
       "      <td>1304.535003</td>\n",
       "      <td>0.717500</td>\n",
       "      <td>0.015747</td>\n",
       "      <td>25</td>\n",
       "      <td>10</td>\n",
       "      <td>30</td>\n",
       "    </tr>\n",
       "    <tr>\n",
       "      <th>2</th>\n",
       "      <td>1489.114905</td>\n",
       "      <td>1266.455163</td>\n",
       "      <td>0.721498</td>\n",
       "      <td>0.018753</td>\n",
       "      <td>20</td>\n",
       "      <td>5</td>\n",
       "      <td>30</td>\n",
       "    </tr>\n",
       "    <tr>\n",
       "      <th>3</th>\n",
       "      <td>1489.133282</td>\n",
       "      <td>1304.406071</td>\n",
       "      <td>0.722253</td>\n",
       "      <td>0.017251</td>\n",
       "      <td>30</td>\n",
       "      <td>10</td>\n",
       "      <td>30</td>\n",
       "    </tr>\n",
       "    <tr>\n",
       "      <th>4</th>\n",
       "      <td>1489.200580</td>\n",
       "      <td>1259.739094</td>\n",
       "      <td>0.755499</td>\n",
       "      <td>0.018251</td>\n",
       "      <td>40</td>\n",
       "      <td>5</td>\n",
       "      <td>30</td>\n",
       "    </tr>\n",
       "    <tr>\n",
       "      <th>5</th>\n",
       "      <td>1489.200580</td>\n",
       "      <td>1259.739094</td>\n",
       "      <td>0.731250</td>\n",
       "      <td>0.018251</td>\n",
       "      <td>35</td>\n",
       "      <td>5</td>\n",
       "      <td>30</td>\n",
       "    </tr>\n",
       "    <tr>\n",
       "      <th>6</th>\n",
       "      <td>1489.200580</td>\n",
       "      <td>1259.739094</td>\n",
       "      <td>0.715751</td>\n",
       "      <td>0.020000</td>\n",
       "      <td>50</td>\n",
       "      <td>5</td>\n",
       "      <td>30</td>\n",
       "    </tr>\n",
       "    <tr>\n",
       "      <th>7</th>\n",
       "      <td>1489.200580</td>\n",
       "      <td>1259.739094</td>\n",
       "      <td>0.716501</td>\n",
       "      <td>0.018749</td>\n",
       "      <td>45</td>\n",
       "      <td>5</td>\n",
       "      <td>30</td>\n",
       "    </tr>\n",
       "    <tr>\n",
       "      <th>8</th>\n",
       "      <td>1489.215284</td>\n",
       "      <td>1304.405019</td>\n",
       "      <td>0.723752</td>\n",
       "      <td>0.017498</td>\n",
       "      <td>40</td>\n",
       "      <td>10</td>\n",
       "      <td>30</td>\n",
       "    </tr>\n",
       "    <tr>\n",
       "      <th>9</th>\n",
       "      <td>1489.215284</td>\n",
       "      <td>1304.405019</td>\n",
       "      <td>0.686173</td>\n",
       "      <td>0.017751</td>\n",
       "      <td>45</td>\n",
       "      <td>10</td>\n",
       "      <td>30</td>\n",
       "    </tr>\n",
       "  </tbody>\n",
       "</table>\n",
       "</div>"
      ],
      "text/plain": [
       "   RMSE test, €  RMSE train, €  fit time, s  score time, s  max_depth  \\\n",
       "0   1489.069930    1308.200993     0.724249       0.019002         20   \n",
       "1   1489.093558    1304.535003     0.717500       0.015747         25   \n",
       "2   1489.114905    1266.455163     0.721498       0.018753         20   \n",
       "3   1489.133282    1304.406071     0.722253       0.017251         30   \n",
       "4   1489.200580    1259.739094     0.755499       0.018251         40   \n",
       "5   1489.200580    1259.739094     0.731250       0.018251         35   \n",
       "6   1489.200580    1259.739094     0.715751       0.020000         50   \n",
       "7   1489.200580    1259.739094     0.716501       0.018749         45   \n",
       "8   1489.215284    1304.405019     0.723752       0.017498         40   \n",
       "9   1489.215284    1304.405019     0.686173       0.017751         45   \n",
       "\n",
       "   min_samples_leaf  min_samples_split  \n",
       "0                10                 30  \n",
       "1                10                 30  \n",
       "2                 5                 30  \n",
       "3                10                 30  \n",
       "4                 5                 30  \n",
       "5                 5                 30  \n",
       "6                 5                 30  \n",
       "7                 5                 30  \n",
       "8                10                 30  \n",
       "9                10                 30  "
      ]
     },
     "execution_count": 34,
     "metadata": {},
     "output_type": "execute_result"
    }
   ],
   "source": [
    "%%time\n",
    "params = {'max_depth': range(5, 51, 5),\n",
    "          'min_samples_split': range(10, 101, 10),\n",
    "          'min_samples_leaf': range(5, 51, 5)}\n",
    "grid_dt_oe = GridSearchCV(DecisionTreeRegressor(random_state=RANDOM_STATE),\n",
    "                          param_grid=params, n_jobs=-1,\n",
    "                          **common_cv_params)\n",
    "grid_dt_oe.fit(X_oe_train, y_train)\n",
    "\n",
    "print('DecisionTreeRegressor for ordinal encoded features')\n",
    "best_cv_models(grid_dt_oe, 10)"
   ]
  },
  {
   "cell_type": "code",
   "execution_count": 35,
   "metadata": {},
   "outputs": [
    {
     "name": "stdout",
     "output_type": "stream",
     "text": [
      "DecisionTreeRegressor for OHE encoded features\n",
      "Estimator: DecisionTreeRegressor(random_state=123)\n",
      "Tested 100 models on 4 folds\n",
      "Best RMSE = 1467.2939973511918\n",
      "\n",
      "CPU times: total: 8.47 s\n",
      "Wall time: 4min 21s\n"
     ]
    },
    {
     "data": {
      "text/html": [
       "<div>\n",
       "<style scoped>\n",
       "    .dataframe tbody tr th:only-of-type {\n",
       "        vertical-align: middle;\n",
       "    }\n",
       "\n",
       "    .dataframe tbody tr th {\n",
       "        vertical-align: top;\n",
       "    }\n",
       "\n",
       "    .dataframe thead th {\n",
       "        text-align: right;\n",
       "    }\n",
       "</style>\n",
       "<table border=\"1\" class=\"dataframe\">\n",
       "  <thead>\n",
       "    <tr style=\"text-align: right;\">\n",
       "      <th></th>\n",
       "      <th>RMSE test, €</th>\n",
       "      <th>RMSE train, €</th>\n",
       "      <th>fit time, s</th>\n",
       "      <th>score time, s</th>\n",
       "      <th>max_depth</th>\n",
       "      <th>min_samples_leaf</th>\n",
       "      <th>min_samples_split</th>\n",
       "    </tr>\n",
       "  </thead>\n",
       "  <tbody>\n",
       "    <tr>\n",
       "      <th>0</th>\n",
       "      <td>1467.293997</td>\n",
       "      <td>1274.946079</td>\n",
       "      <td>10.107248</td>\n",
       "      <td>0.159253</td>\n",
       "      <td>50</td>\n",
       "      <td>5</td>\n",
       "      <td>40</td>\n",
       "    </tr>\n",
       "    <tr>\n",
       "      <th>1</th>\n",
       "      <td>1467.558179</td>\n",
       "      <td>1275.019425</td>\n",
       "      <td>10.270501</td>\n",
       "      <td>0.173752</td>\n",
       "      <td>40</td>\n",
       "      <td>5</td>\n",
       "      <td>40</td>\n",
       "    </tr>\n",
       "    <tr>\n",
       "      <th>2</th>\n",
       "      <td>1467.755386</td>\n",
       "      <td>1276.475852</td>\n",
       "      <td>9.907525</td>\n",
       "      <td>0.181003</td>\n",
       "      <td>30</td>\n",
       "      <td>5</td>\n",
       "      <td>40</td>\n",
       "    </tr>\n",
       "    <tr>\n",
       "      <th>3</th>\n",
       "      <td>1471.315878</td>\n",
       "      <td>1209.294733</td>\n",
       "      <td>10.257000</td>\n",
       "      <td>0.138999</td>\n",
       "      <td>40</td>\n",
       "      <td>5</td>\n",
       "      <td>20</td>\n",
       "    </tr>\n",
       "    <tr>\n",
       "      <th>4</th>\n",
       "      <td>1471.504005</td>\n",
       "      <td>1211.688287</td>\n",
       "      <td>10.005637</td>\n",
       "      <td>0.167259</td>\n",
       "      <td>30</td>\n",
       "      <td>5</td>\n",
       "      <td>20</td>\n",
       "    </tr>\n",
       "    <tr>\n",
       "      <th>5</th>\n",
       "      <td>1471.594507</td>\n",
       "      <td>1209.189617</td>\n",
       "      <td>10.251002</td>\n",
       "      <td>0.150746</td>\n",
       "      <td>50</td>\n",
       "      <td>5</td>\n",
       "      <td>20</td>\n",
       "    </tr>\n",
       "    <tr>\n",
       "      <th>6</th>\n",
       "      <td>1472.030859</td>\n",
       "      <td>1316.649544</td>\n",
       "      <td>10.182750</td>\n",
       "      <td>0.176003</td>\n",
       "      <td>50</td>\n",
       "      <td>5</td>\n",
       "      <td>60</td>\n",
       "    </tr>\n",
       "    <tr>\n",
       "      <th>7</th>\n",
       "      <td>1472.089755</td>\n",
       "      <td>1316.699288</td>\n",
       "      <td>10.243248</td>\n",
       "      <td>0.179753</td>\n",
       "      <td>40</td>\n",
       "      <td>5</td>\n",
       "      <td>60</td>\n",
       "    </tr>\n",
       "    <tr>\n",
       "      <th>8</th>\n",
       "      <td>1472.143172</td>\n",
       "      <td>1317.721438</td>\n",
       "      <td>10.042277</td>\n",
       "      <td>0.175001</td>\n",
       "      <td>30</td>\n",
       "      <td>5</td>\n",
       "      <td>60</td>\n",
       "    </tr>\n",
       "    <tr>\n",
       "      <th>9</th>\n",
       "      <td>1474.489910</td>\n",
       "      <td>1303.699700</td>\n",
       "      <td>9.836779</td>\n",
       "      <td>0.169497</td>\n",
       "      <td>20</td>\n",
       "      <td>5</td>\n",
       "      <td>40</td>\n",
       "    </tr>\n",
       "  </tbody>\n",
       "</table>\n",
       "</div>"
      ],
      "text/plain": [
       "   RMSE test, €  RMSE train, €  fit time, s  score time, s  max_depth  \\\n",
       "0   1467.293997    1274.946079    10.107248       0.159253         50   \n",
       "1   1467.558179    1275.019425    10.270501       0.173752         40   \n",
       "2   1467.755386    1276.475852     9.907525       0.181003         30   \n",
       "3   1471.315878    1209.294733    10.257000       0.138999         40   \n",
       "4   1471.504005    1211.688287    10.005637       0.167259         30   \n",
       "5   1471.594507    1209.189617    10.251002       0.150746         50   \n",
       "6   1472.030859    1316.649544    10.182750       0.176003         50   \n",
       "7   1472.089755    1316.699288    10.243248       0.179753         40   \n",
       "8   1472.143172    1317.721438    10.042277       0.175001         30   \n",
       "9   1474.489910    1303.699700     9.836779       0.169497         20   \n",
       "\n",
       "   min_samples_leaf  min_samples_split  \n",
       "0                 5                 40  \n",
       "1                 5                 40  \n",
       "2                 5                 40  \n",
       "3                 5                 20  \n",
       "4                 5                 20  \n",
       "5                 5                 20  \n",
       "6                 5                 60  \n",
       "7                 5                 60  \n",
       "8                 5                 60  \n",
       "9                 5                 40  "
      ]
     },
     "execution_count": 35,
     "metadata": {},
     "output_type": "execute_result"
    }
   ],
   "source": [
    "%%time\n",
    "params = {'max_depth': range(10, 51, 10),\n",
    "          'min_samples_split': range(20, 101, 20),\n",
    "          'min_samples_leaf': range(5, 21, 5)}\n",
    "grid_dt_ohe = GridSearchCV(DecisionTreeRegressor(random_state=RANDOM_STATE),\n",
    "                           param_grid=params, n_jobs=-1,\n",
    "                           **common_cv_params)\n",
    "grid_dt_ohe.fit(X_ohe_train, y_train)\n",
    "\n",
    "print('DecisionTreeRegressor for OHE encoded features')\n",
    "best_cv_models(grid_dt_ohe, 10)"
   ]
  },
  {
   "cell_type": "markdown",
   "metadata": {},
   "source": [
    "- У моделей из топа есть признаки переобучения: RMSE на тренировачных выборках меньше, чем на тестовых\n",
    "- Модели DecisionTreeRegressor на датасете, закодированном методом OHE обучаются более чем в 10 раз дольше. Но RMSE при этом лишь немного лучше\n",
    "\n",
    "Сохраним модели с лучшими параметрами для дальнейшего анализа"
   ]
  },
  {
   "cell_type": "code",
   "execution_count": 36,
   "metadata": {},
   "outputs": [],
   "source": [
    "models['DecisionTree'] = {\n",
    "    'OE':  DecisionTreeRegressor(random_state=RANDOM_STATE, **grid_dt_oe.best_params_),\n",
    "    'OHE': DecisionTreeRegressor(random_state=RANDOM_STATE, **grid_dt_ohe.best_params_)\n",
    "}"
   ]
  },
  {
   "cell_type": "markdown",
   "metadata": {},
   "source": [
    "### CatBoostRegressor"
   ]
  },
  {
   "cell_type": "markdown",
   "metadata": {},
   "source": [
    "Для кросс-валилации в библиотеке `CatBoost` имеется встроенный метод `grid_search`. Однако можно использовать `GridSearchCV` из `sklearn`\n",
    "\n",
    "Максимальная глубина деревьев для `CatBoost` ограничена 16. Однако на ней модель будеть обучаться значительно дольше, поскольку сложность алгоритма зависит от глубины непропорционально.\n",
    "\n",
    "Значение `iterations` (оно же `n_estimators`) изменим с равного по умолчанию 1000 на 500. Запишем в словарь `common_cbr_params` параметры обучения общие для всех вызовов"
   ]
  },
  {
   "cell_type": "code",
   "execution_count": 37,
   "metadata": {},
   "outputs": [],
   "source": [
    "common_cbr_params = {'loss_function': 'RMSE',\n",
    "                     'random_state': RANDOM_STATE, \n",
    "                     'verbose': False,\n",
    "                     'n_estimators': 500}"
   ]
  },
  {
   "cell_type": "markdown",
   "metadata": {},
   "source": [
    "Переберём разные значения параметров `max_depth` и `learning_rate`. Обучим сначала на исходных признаках, указав список категориальных признаков `cat_features`"
   ]
  },
  {
   "cell_type": "code",
   "execution_count": 38,
   "metadata": {},
   "outputs": [
    {
     "name": "stdout",
     "output_type": "stream",
     "text": [
      "CatBoostRegressor with catgorical features (CPU)\n",
      "Estimator: <catboost.core.CatBoostRegressor object at 0x0000023AAA341D60>\n",
      "Tested 4 models on 4 folds\n",
      "Best RMSE = 1325.6942099502432\n",
      "\n",
      "CPU times: total: 1h 1min 28s\n",
      "Wall time: 13min 9s\n"
     ]
    },
    {
     "data": {
      "text/html": [
       "<div>\n",
       "<style scoped>\n",
       "    .dataframe tbody tr th:only-of-type {\n",
       "        vertical-align: middle;\n",
       "    }\n",
       "\n",
       "    .dataframe tbody tr th {\n",
       "        vertical-align: top;\n",
       "    }\n",
       "\n",
       "    .dataframe thead th {\n",
       "        text-align: right;\n",
       "    }\n",
       "</style>\n",
       "<table border=\"1\" class=\"dataframe\">\n",
       "  <thead>\n",
       "    <tr style=\"text-align: right;\">\n",
       "      <th></th>\n",
       "      <th>RMSE test, €</th>\n",
       "      <th>RMSE train, €</th>\n",
       "      <th>fit time, s</th>\n",
       "      <th>score time, s</th>\n",
       "      <th>learning_rate</th>\n",
       "      <th>max_depth</th>\n",
       "    </tr>\n",
       "  </thead>\n",
       "  <tbody>\n",
       "    <tr>\n",
       "      <th>0</th>\n",
       "      <td>1325.694210</td>\n",
       "      <td>1231.241360</td>\n",
       "      <td>62.570101</td>\n",
       "      <td>0.062249</td>\n",
       "      <td>0.2</td>\n",
       "      <td>8</td>\n",
       "    </tr>\n",
       "    <tr>\n",
       "      <th>1</th>\n",
       "      <td>1338.750597</td>\n",
       "      <td>1273.067222</td>\n",
       "      <td>60.487887</td>\n",
       "      <td>0.049751</td>\n",
       "      <td>0.1</td>\n",
       "      <td>8</td>\n",
       "    </tr>\n",
       "    <tr>\n",
       "      <th>2</th>\n",
       "      <td>1384.378937</td>\n",
       "      <td>1355.430995</td>\n",
       "      <td>29.111460</td>\n",
       "      <td>0.040249</td>\n",
       "      <td>0.2</td>\n",
       "      <td>4</td>\n",
       "    </tr>\n",
       "    <tr>\n",
       "      <th>3</th>\n",
       "      <td>1407.669111</td>\n",
       "      <td>1389.600208</td>\n",
       "      <td>27.124636</td>\n",
       "      <td>0.038000</td>\n",
       "      <td>0.1</td>\n",
       "      <td>4</td>\n",
       "    </tr>\n",
       "  </tbody>\n",
       "</table>\n",
       "</div>"
      ],
      "text/plain": [
       "   RMSE test, €  RMSE train, €  fit time, s  score time, s  learning_rate  \\\n",
       "0   1325.694210    1231.241360    62.570101       0.062249            0.2   \n",
       "1   1338.750597    1273.067222    60.487887       0.049751            0.1   \n",
       "2   1384.378937    1355.430995    29.111460       0.040249            0.2   \n",
       "3   1407.669111    1389.600208    27.124636       0.038000            0.1   \n",
       "\n",
       "   max_depth  \n",
       "0          8  \n",
       "1          8  \n",
       "2          4  \n",
       "3          4  "
      ]
     },
     "execution_count": 38,
     "metadata": {},
     "output_type": "execute_result"
    }
   ],
   "source": [
    "%%time\n",
    "params = {'max_depth': [4, 8],\n",
    "          'learning_rate': [0.1, 0.2]}\n",
    "grid_ctb = GridSearchCV(\n",
    "    CatBoostRegressor(**common_cbr_params, cat_features=cat_features),\n",
    "    param_grid=params, **common_cv_params)\n",
    "grid_ctb.fit(X_train, y_train)\n",
    "\n",
    "print('CatBoostRegressor with catgorical features (CPU)')\n",
    "best_cv_models(grid_ctb, 10)"
   ]
  },
  {
   "cell_type": "markdown",
   "metadata": {},
   "source": [
    "Очень долгое время обучения, в библиотеке `CatBoost` есть возможность производить расчёт на графической карте. Повторим такой-же расчёт с параметром `task_type=\"GPU\"`"
   ]
  },
  {
   "cell_type": "code",
   "execution_count": 39,
   "metadata": {},
   "outputs": [
    {
     "name": "stdout",
     "output_type": "stream",
     "text": [
      "CatBoostRegressor with catgorical features (GPU)\n",
      "Estimator: <catboost.core.CatBoostRegressor object at 0x0000023AB00ED5E0>\n",
      "Tested 4 models on 4 folds\n",
      "Best RMSE = 1325.5871755081566\n",
      "\n",
      "CPU times: total: 5min 43s\n",
      "Wall time: 3min 40s\n"
     ]
    },
    {
     "data": {
      "text/html": [
       "<div>\n",
       "<style scoped>\n",
       "    .dataframe tbody tr th:only-of-type {\n",
       "        vertical-align: middle;\n",
       "    }\n",
       "\n",
       "    .dataframe tbody tr th {\n",
       "        vertical-align: top;\n",
       "    }\n",
       "\n",
       "    .dataframe thead th {\n",
       "        text-align: right;\n",
       "    }\n",
       "</style>\n",
       "<table border=\"1\" class=\"dataframe\">\n",
       "  <thead>\n",
       "    <tr style=\"text-align: right;\">\n",
       "      <th></th>\n",
       "      <th>RMSE test, €</th>\n",
       "      <th>RMSE train, €</th>\n",
       "      <th>fit time, s</th>\n",
       "      <th>score time, s</th>\n",
       "      <th>learning_rate</th>\n",
       "      <th>max_depth</th>\n",
       "    </tr>\n",
       "  </thead>\n",
       "  <tbody>\n",
       "    <tr>\n",
       "      <th>0</th>\n",
       "      <td>1325.587176</td>\n",
       "      <td>1229.662506</td>\n",
       "      <td>16.653148</td>\n",
       "      <td>0.107498</td>\n",
       "      <td>0.2</td>\n",
       "      <td>8</td>\n",
       "    </tr>\n",
       "    <tr>\n",
       "      <th>1</th>\n",
       "      <td>1335.024376</td>\n",
       "      <td>1269.624589</td>\n",
       "      <td>16.458793</td>\n",
       "      <td>0.092749</td>\n",
       "      <td>0.1</td>\n",
       "      <td>8</td>\n",
       "    </tr>\n",
       "    <tr>\n",
       "      <th>2</th>\n",
       "      <td>1383.799370</td>\n",
       "      <td>1353.620255</td>\n",
       "      <td>8.281185</td>\n",
       "      <td>0.057499</td>\n",
       "      <td>0.2</td>\n",
       "      <td>4</td>\n",
       "    </tr>\n",
       "    <tr>\n",
       "      <th>3</th>\n",
       "      <td>1404.885555</td>\n",
       "      <td>1385.639549</td>\n",
       "      <td>8.177406</td>\n",
       "      <td>0.050285</td>\n",
       "      <td>0.1</td>\n",
       "      <td>4</td>\n",
       "    </tr>\n",
       "  </tbody>\n",
       "</table>\n",
       "</div>"
      ],
      "text/plain": [
       "   RMSE test, €  RMSE train, €  fit time, s  score time, s  learning_rate  \\\n",
       "0   1325.587176    1229.662506    16.653148       0.107498            0.2   \n",
       "1   1335.024376    1269.624589    16.458793       0.092749            0.1   \n",
       "2   1383.799370    1353.620255     8.281185       0.057499            0.2   \n",
       "3   1404.885555    1385.639549     8.177406       0.050285            0.1   \n",
       "\n",
       "   max_depth  \n",
       "0          8  \n",
       "1          8  \n",
       "2          4  \n",
       "3          4  "
      ]
     },
     "execution_count": 39,
     "metadata": {},
     "output_type": "execute_result"
    }
   ],
   "source": [
    "%%time\n",
    "params = {'max_depth': [4, 8],\n",
    "          'learning_rate': [0.1, 0.2]}\n",
    "grid_ctb_gpu = GridSearchCV(\n",
    "    CatBoostRegressor(**common_cbr_params, cat_features=cat_features,\n",
    "                      task_type=\"GPU\"),\n",
    "    param_grid=params, **common_cv_params)\n",
    "grid_ctb_gpu.fit(X_train, y_train)\n",
    "\n",
    "print('CatBoostRegressor with catgorical features (GPU)')\n",
    "best_cv_models(grid_ctb_gpu, 10)"
   ]
  },
  {
   "cell_type": "markdown",
   "metadata": {},
   "source": [
    "Значения `RMSE` почти такие же как для расчёта на CPU. Время обучения значительно лучше.\n",
    "\n",
    "Произведём кросс-валидацию на закодированных признаках"
   ]
  },
  {
   "cell_type": "code",
   "execution_count": 40,
   "metadata": {},
   "outputs": [
    {
     "name": "stdout",
     "output_type": "stream",
     "text": [
      "CatBoostRegressor for ordinal encoded features\n",
      "Estimator: <catboost.core.CatBoostRegressor object at 0x0000023AAE2A22B0>\n",
      "Tested 9 models on 4 folds\n",
      "Best RMSE = 1317.5772829495534\n",
      "\n",
      "CPU times: total: 41min 54s\n",
      "Wall time: 6min 50s\n"
     ]
    },
    {
     "data": {
      "text/html": [
       "<div>\n",
       "<style scoped>\n",
       "    .dataframe tbody tr th:only-of-type {\n",
       "        vertical-align: middle;\n",
       "    }\n",
       "\n",
       "    .dataframe tbody tr th {\n",
       "        vertical-align: top;\n",
       "    }\n",
       "\n",
       "    .dataframe thead th {\n",
       "        text-align: right;\n",
       "    }\n",
       "</style>\n",
       "<table border=\"1\" class=\"dataframe\">\n",
       "  <thead>\n",
       "    <tr style=\"text-align: right;\">\n",
       "      <th></th>\n",
       "      <th>RMSE test, €</th>\n",
       "      <th>RMSE train, €</th>\n",
       "      <th>fit time, s</th>\n",
       "      <th>score time, s</th>\n",
       "      <th>learning_rate</th>\n",
       "      <th>max_depth</th>\n",
       "    </tr>\n",
       "  </thead>\n",
       "  <tbody>\n",
       "    <tr>\n",
       "      <th>0</th>\n",
       "      <td>1317.577283</td>\n",
       "      <td>1051.954574</td>\n",
       "      <td>22.780933</td>\n",
       "      <td>0.031001</td>\n",
       "      <td>0.20</td>\n",
       "      <td>12</td>\n",
       "    </tr>\n",
       "    <tr>\n",
       "      <th>1</th>\n",
       "      <td>1318.187939</td>\n",
       "      <td>1135.333345</td>\n",
       "      <td>22.813504</td>\n",
       "      <td>0.029380</td>\n",
       "      <td>0.10</td>\n",
       "      <td>12</td>\n",
       "    </tr>\n",
       "    <tr>\n",
       "      <th>2</th>\n",
       "      <td>1326.854339</td>\n",
       "      <td>1208.447731</td>\n",
       "      <td>5.772315</td>\n",
       "      <td>0.009621</td>\n",
       "      <td>0.20</td>\n",
       "      <td>8</td>\n",
       "    </tr>\n",
       "    <tr>\n",
       "      <th>3</th>\n",
       "      <td>1333.133029</td>\n",
       "      <td>1217.578085</td>\n",
       "      <td>22.693526</td>\n",
       "      <td>0.031750</td>\n",
       "      <td>0.05</td>\n",
       "      <td>12</td>\n",
       "    </tr>\n",
       "    <tr>\n",
       "      <th>4</th>\n",
       "      <td>1344.891169</td>\n",
       "      <td>1273.351960</td>\n",
       "      <td>5.747374</td>\n",
       "      <td>0.009000</td>\n",
       "      <td>0.10</td>\n",
       "      <td>8</td>\n",
       "    </tr>\n",
       "    <tr>\n",
       "      <th>5</th>\n",
       "      <td>1378.104625</td>\n",
       "      <td>1337.388800</td>\n",
       "      <td>5.677382</td>\n",
       "      <td>0.009112</td>\n",
       "      <td>0.05</td>\n",
       "      <td>8</td>\n",
       "    </tr>\n",
       "    <tr>\n",
       "      <th>6</th>\n",
       "      <td>1393.713202</td>\n",
       "      <td>1362.698484</td>\n",
       "      <td>3.482613</td>\n",
       "      <td>0.008206</td>\n",
       "      <td>0.20</td>\n",
       "      <td>4</td>\n",
       "    </tr>\n",
       "    <tr>\n",
       "      <th>7</th>\n",
       "      <td>1429.667808</td>\n",
       "      <td>1412.836873</td>\n",
       "      <td>3.491126</td>\n",
       "      <td>0.008000</td>\n",
       "      <td>0.10</td>\n",
       "      <td>4</td>\n",
       "    </tr>\n",
       "    <tr>\n",
       "      <th>8</th>\n",
       "      <td>1479.124127</td>\n",
       "      <td>1470.508056</td>\n",
       "      <td>3.432695</td>\n",
       "      <td>0.007441</td>\n",
       "      <td>0.05</td>\n",
       "      <td>4</td>\n",
       "    </tr>\n",
       "  </tbody>\n",
       "</table>\n",
       "</div>"
      ],
      "text/plain": [
       "   RMSE test, €  RMSE train, €  fit time, s  score time, s  learning_rate  \\\n",
       "0   1317.577283    1051.954574    22.780933       0.031001           0.20   \n",
       "1   1318.187939    1135.333345    22.813504       0.029380           0.10   \n",
       "2   1326.854339    1208.447731     5.772315       0.009621           0.20   \n",
       "3   1333.133029    1217.578085    22.693526       0.031750           0.05   \n",
       "4   1344.891169    1273.351960     5.747374       0.009000           0.10   \n",
       "5   1378.104625    1337.388800     5.677382       0.009112           0.05   \n",
       "6   1393.713202    1362.698484     3.482613       0.008206           0.20   \n",
       "7   1429.667808    1412.836873     3.491126       0.008000           0.10   \n",
       "8   1479.124127    1470.508056     3.432695       0.007441           0.05   \n",
       "\n",
       "   max_depth  \n",
       "0         12  \n",
       "1         12  \n",
       "2          8  \n",
       "3         12  \n",
       "4          8  \n",
       "5          8  \n",
       "6          4  \n",
       "7          4  \n",
       "8          4  "
      ]
     },
     "execution_count": 40,
     "metadata": {},
     "output_type": "execute_result"
    }
   ],
   "source": [
    "%%time\n",
    "params = {'max_depth': [4, 8, 12],\n",
    "          'learning_rate': [0.05, 0.1, 0.2]}\n",
    "grid_ctb_oe = GridSearchCV(CatBoostRegressor(**common_cbr_params),\n",
    "                           param_grid=params, **common_cv_params)\n",
    "grid_ctb_oe.fit(X_oe_train, y_train)\n",
    "\n",
    "print('CatBoostRegressor for ordinal encoded features')\n",
    "best_cv_models(grid_ctb_oe, 10)"
   ]
  },
  {
   "cell_type": "code",
   "execution_count": 41,
   "metadata": {},
   "outputs": [
    {
     "name": "stdout",
     "output_type": "stream",
     "text": [
      "CatBoostRegressor for OHE encoded features\n",
      "Estimator: <catboost.core.CatBoostRegressor object at 0x0000023AACD15C10>\n",
      "Tested 9 models on 4 folds\n",
      "Best RMSE = 1304.9282068649638\n",
      "\n",
      "CPU times: total: 45min 13s\n",
      "Wall time: 7min 48s\n"
     ]
    },
    {
     "data": {
      "text/html": [
       "<div>\n",
       "<style scoped>\n",
       "    .dataframe tbody tr th:only-of-type {\n",
       "        vertical-align: middle;\n",
       "    }\n",
       "\n",
       "    .dataframe tbody tr th {\n",
       "        vertical-align: top;\n",
       "    }\n",
       "\n",
       "    .dataframe thead th {\n",
       "        text-align: right;\n",
       "    }\n",
       "</style>\n",
       "<table border=\"1\" class=\"dataframe\">\n",
       "  <thead>\n",
       "    <tr style=\"text-align: right;\">\n",
       "      <th></th>\n",
       "      <th>RMSE test, €</th>\n",
       "      <th>RMSE train, €</th>\n",
       "      <th>fit time, s</th>\n",
       "      <th>score time, s</th>\n",
       "      <th>learning_rate</th>\n",
       "      <th>max_depth</th>\n",
       "    </tr>\n",
       "  </thead>\n",
       "  <tbody>\n",
       "    <tr>\n",
       "      <th>0</th>\n",
       "      <td>1304.928207</td>\n",
       "      <td>1116.254884</td>\n",
       "      <td>25.791984</td>\n",
       "      <td>0.057752</td>\n",
       "      <td>0.20</td>\n",
       "      <td>12</td>\n",
       "    </tr>\n",
       "    <tr>\n",
       "      <th>1</th>\n",
       "      <td>1313.987863</td>\n",
       "      <td>1195.235217</td>\n",
       "      <td>25.696955</td>\n",
       "      <td>0.054000</td>\n",
       "      <td>0.10</td>\n",
       "      <td>12</td>\n",
       "    </tr>\n",
       "    <tr>\n",
       "      <th>2</th>\n",
       "      <td>1322.707611</td>\n",
       "      <td>1230.735621</td>\n",
       "      <td>6.543743</td>\n",
       "      <td>0.035740</td>\n",
       "      <td>0.20</td>\n",
       "      <td>8</td>\n",
       "    </tr>\n",
       "    <tr>\n",
       "      <th>3</th>\n",
       "      <td>1337.976557</td>\n",
       "      <td>1268.486499</td>\n",
       "      <td>25.641319</td>\n",
       "      <td>0.050748</td>\n",
       "      <td>0.05</td>\n",
       "      <td>12</td>\n",
       "    </tr>\n",
       "    <tr>\n",
       "      <th>4</th>\n",
       "      <td>1342.940818</td>\n",
       "      <td>1290.538473</td>\n",
       "      <td>6.419660</td>\n",
       "      <td>0.031499</td>\n",
       "      <td>0.10</td>\n",
       "      <td>8</td>\n",
       "    </tr>\n",
       "    <tr>\n",
       "      <th>5</th>\n",
       "      <td>1381.072541</td>\n",
       "      <td>1351.709636</td>\n",
       "      <td>6.394344</td>\n",
       "      <td>0.028365</td>\n",
       "      <td>0.05</td>\n",
       "      <td>8</td>\n",
       "    </tr>\n",
       "    <tr>\n",
       "      <th>6</th>\n",
       "      <td>1381.477137</td>\n",
       "      <td>1351.938539</td>\n",
       "      <td>4.006396</td>\n",
       "      <td>0.030999</td>\n",
       "      <td>0.20</td>\n",
       "      <td>4</td>\n",
       "    </tr>\n",
       "    <tr>\n",
       "      <th>7</th>\n",
       "      <td>1419.252928</td>\n",
       "      <td>1402.936515</td>\n",
       "      <td>4.016015</td>\n",
       "      <td>0.027469</td>\n",
       "      <td>0.10</td>\n",
       "      <td>4</td>\n",
       "    </tr>\n",
       "    <tr>\n",
       "      <th>8</th>\n",
       "      <td>1474.622259</td>\n",
       "      <td>1465.642841</td>\n",
       "      <td>4.059335</td>\n",
       "      <td>0.025499</td>\n",
       "      <td>0.05</td>\n",
       "      <td>4</td>\n",
       "    </tr>\n",
       "  </tbody>\n",
       "</table>\n",
       "</div>"
      ],
      "text/plain": [
       "   RMSE test, €  RMSE train, €  fit time, s  score time, s  learning_rate  \\\n",
       "0   1304.928207    1116.254884    25.791984       0.057752           0.20   \n",
       "1   1313.987863    1195.235217    25.696955       0.054000           0.10   \n",
       "2   1322.707611    1230.735621     6.543743       0.035740           0.20   \n",
       "3   1337.976557    1268.486499    25.641319       0.050748           0.05   \n",
       "4   1342.940818    1290.538473     6.419660       0.031499           0.10   \n",
       "5   1381.072541    1351.709636     6.394344       0.028365           0.05   \n",
       "6   1381.477137    1351.938539     4.006396       0.030999           0.20   \n",
       "7   1419.252928    1402.936515     4.016015       0.027469           0.10   \n",
       "8   1474.622259    1465.642841     4.059335       0.025499           0.05   \n",
       "\n",
       "   max_depth  \n",
       "0         12  \n",
       "1         12  \n",
       "2          8  \n",
       "3         12  \n",
       "4          8  \n",
       "5          8  \n",
       "6          4  \n",
       "7          4  \n",
       "8          4  "
      ]
     },
     "execution_count": 41,
     "metadata": {},
     "output_type": "execute_result"
    }
   ],
   "source": [
    "%%time\n",
    "params = {'max_depth': [4, 8, 12],\n",
    "          'learning_rate': [0.05, 0.1, 0.2]}\n",
    "grid_ctb_ohe = GridSearchCV(CatBoostRegressor(**common_cbr_params),\n",
    "                            param_grid=params, **common_cv_params)\n",
    "grid_ctb_ohe.fit(X_ohe_train, y_train)\n",
    "\n",
    "print('CatBoostRegressor for OHE encoded features')\n",
    "best_cv_models(grid_ctb_ohe, 10)"
   ]
  },
  {
   "cell_type": "markdown",
   "metadata": {},
   "source": [
    "- Также есть признаки переобучения\n",
    "- Время обучения на признаках с OHE кодированием немного больше, но в то же время RMSE меньше, чем на признаках с прямым кодированием\n",
    "\n",
    "Для дальнейшего анализа отдадим предпочтение моделям с наименьшим временем обучения и с RMSE наиболее близким к лучшей модели: метроики отличаются не сильно"
   ]
  },
  {
   "cell_type": "code",
   "execution_count": 42,
   "metadata": {},
   "outputs": [],
   "source": [
    "models['CatBoost'] = {\n",
    "    'raw': CatBoostRegressor(**common_cbr_params, learning_rate=0.2, max_depth=4,\n",
    "                             cat_features=cat_features),\n",
    "    'OE' : CatBoostRegressor(**common_cbr_params, learning_rate=0.2, max_depth=8),\n",
    "    'OHE': CatBoostRegressor(**common_cbr_params, learning_rate=0.2, max_depth=8)\n",
    "}"
   ]
  },
  {
   "cell_type": "markdown",
   "metadata": {},
   "source": [
    "### LGBMRegressor"
   ]
  },
  {
   "cell_type": "markdown",
   "metadata": {},
   "source": [
    "В `LightGBM` также есть встроенный метод `cv` для кросс-валилации. Будем использовать `GridSearchCV` для унификации\n",
    "\n",
    "Запишем общие для всех вызовов параметры в словарь `common_lgb_params`"
   ]
  },
  {
   "cell_type": "code",
   "execution_count": 43,
   "metadata": {},
   "outputs": [],
   "source": [
    "common_lgb_params = {'metric': 'rmse',\n",
    "                     'random_state': RANDOM_STATE,\n",
    "                     'n_estimators': 500 }"
   ]
  },
  {
   "cell_type": "markdown",
   "metadata": {},
   "source": [
    "Кросс-валидация на исходном наборе признаков"
   ]
  },
  {
   "cell_type": "code",
   "execution_count": 44,
   "metadata": {},
   "outputs": [
    {
     "name": "stdout",
     "output_type": "stream",
     "text": [
      "LGBMRegressor with categorical features\n",
      "Estimator: LGBMRegressor(metric='rmse', n_estimators=500, random_state=123)\n",
      "Tested 45 models on 4 folds\n",
      "Best RMSE = 1293.1482729118427\n",
      "\n",
      "CPU times: total: 2h 45min 50s\n",
      "Wall time: 11min 2s\n"
     ]
    },
    {
     "data": {
      "text/html": [
       "<div>\n",
       "<style scoped>\n",
       "    .dataframe tbody tr th:only-of-type {\n",
       "        vertical-align: middle;\n",
       "    }\n",
       "\n",
       "    .dataframe tbody tr th {\n",
       "        vertical-align: top;\n",
       "    }\n",
       "\n",
       "    .dataframe thead th {\n",
       "        text-align: right;\n",
       "    }\n",
       "</style>\n",
       "<table border=\"1\" class=\"dataframe\">\n",
       "  <thead>\n",
       "    <tr style=\"text-align: right;\">\n",
       "      <th></th>\n",
       "      <th>RMSE test, €</th>\n",
       "      <th>RMSE train, €</th>\n",
       "      <th>fit time, s</th>\n",
       "      <th>score time, s</th>\n",
       "      <th>learning_rate</th>\n",
       "      <th>max_depth</th>\n",
       "      <th>num_leaves</th>\n",
       "    </tr>\n",
       "  </thead>\n",
       "  <tbody>\n",
       "    <tr>\n",
       "      <th>0</th>\n",
       "      <td>1293.148273</td>\n",
       "      <td>1063.631369</td>\n",
       "      <td>4.526750</td>\n",
       "      <td>0.374000</td>\n",
       "      <td>0.05</td>\n",
       "      <td>50</td>\n",
       "      <td>250</td>\n",
       "    </tr>\n",
       "    <tr>\n",
       "      <th>1</th>\n",
       "      <td>1293.590483</td>\n",
       "      <td>1063.001535</td>\n",
       "      <td>4.693748</td>\n",
       "      <td>0.379501</td>\n",
       "      <td>0.05</td>\n",
       "      <td>30</td>\n",
       "      <td>250</td>\n",
       "    </tr>\n",
       "    <tr>\n",
       "      <th>2</th>\n",
       "      <td>1293.643457</td>\n",
       "      <td>1064.023767</td>\n",
       "      <td>4.463002</td>\n",
       "      <td>0.370250</td>\n",
       "      <td>0.05</td>\n",
       "      <td>40</td>\n",
       "      <td>250</td>\n",
       "    </tr>\n",
       "    <tr>\n",
       "      <th>3</th>\n",
       "      <td>1295.159669</td>\n",
       "      <td>1067.176966</td>\n",
       "      <td>4.747001</td>\n",
       "      <td>0.430752</td>\n",
       "      <td>0.05</td>\n",
       "      <td>20</td>\n",
       "      <td>250</td>\n",
       "    </tr>\n",
       "    <tr>\n",
       "      <th>4</th>\n",
       "      <td>1299.364744</td>\n",
       "      <td>1125.734136</td>\n",
       "      <td>3.302001</td>\n",
       "      <td>0.396999</td>\n",
       "      <td>0.05</td>\n",
       "      <td>10</td>\n",
       "      <td>250</td>\n",
       "    </tr>\n",
       "    <tr>\n",
       "      <th>5</th>\n",
       "      <td>1300.898130</td>\n",
       "      <td>1098.204134</td>\n",
       "      <td>2.232749</td>\n",
       "      <td>0.237501</td>\n",
       "      <td>0.10</td>\n",
       "      <td>40</td>\n",
       "      <td>100</td>\n",
       "    </tr>\n",
       "    <tr>\n",
       "      <th>6</th>\n",
       "      <td>1300.898130</td>\n",
       "      <td>1098.204134</td>\n",
       "      <td>2.168250</td>\n",
       "      <td>0.232751</td>\n",
       "      <td>0.10</td>\n",
       "      <td>50</td>\n",
       "      <td>100</td>\n",
       "    </tr>\n",
       "    <tr>\n",
       "      <th>7</th>\n",
       "      <td>1300.912281</td>\n",
       "      <td>1098.163038</td>\n",
       "      <td>2.287499</td>\n",
       "      <td>0.250000</td>\n",
       "      <td>0.10</td>\n",
       "      <td>30</td>\n",
       "      <td>100</td>\n",
       "    </tr>\n",
       "    <tr>\n",
       "      <th>8</th>\n",
       "      <td>1301.651338</td>\n",
       "      <td>1151.077118</td>\n",
       "      <td>2.344501</td>\n",
       "      <td>0.260500</td>\n",
       "      <td>0.05</td>\n",
       "      <td>40</td>\n",
       "      <td>100</td>\n",
       "    </tr>\n",
       "    <tr>\n",
       "      <th>9</th>\n",
       "      <td>1301.651338</td>\n",
       "      <td>1151.077118</td>\n",
       "      <td>2.393500</td>\n",
       "      <td>0.261250</td>\n",
       "      <td>0.05</td>\n",
       "      <td>50</td>\n",
       "      <td>100</td>\n",
       "    </tr>\n",
       "  </tbody>\n",
       "</table>\n",
       "</div>"
      ],
      "text/plain": [
       "   RMSE test, €  RMSE train, €  fit time, s  score time, s  learning_rate  \\\n",
       "0   1293.148273    1063.631369     4.526750       0.374000           0.05   \n",
       "1   1293.590483    1063.001535     4.693748       0.379501           0.05   \n",
       "2   1293.643457    1064.023767     4.463002       0.370250           0.05   \n",
       "3   1295.159669    1067.176966     4.747001       0.430752           0.05   \n",
       "4   1299.364744    1125.734136     3.302001       0.396999           0.05   \n",
       "5   1300.898130    1098.204134     2.232749       0.237501           0.10   \n",
       "6   1300.898130    1098.204134     2.168250       0.232751           0.10   \n",
       "7   1300.912281    1098.163038     2.287499       0.250000           0.10   \n",
       "8   1301.651338    1151.077118     2.344501       0.260500           0.05   \n",
       "9   1301.651338    1151.077118     2.393500       0.261250           0.05   \n",
       "\n",
       "   max_depth  num_leaves  \n",
       "0         50         250  \n",
       "1         30         250  \n",
       "2         40         250  \n",
       "3         20         250  \n",
       "4         10         250  \n",
       "5         40         100  \n",
       "6         50         100  \n",
       "7         30         100  \n",
       "8         40         100  \n",
       "9         50         100  "
      ]
     },
     "execution_count": 44,
     "metadata": {},
     "output_type": "execute_result"
    }
   ],
   "source": [
    "%%time\n",
    "params = {'max_depth': [10, 20, 30, 40, 50],\n",
    "          'learning_rate': [0.05, 0.1, 0.2],\n",
    "          'num_leaves': [50, 100, 250]}\n",
    "grid_lgb = GridSearchCV(LGBMRegressor(**common_lgb_params),\n",
    "                        param_grid=params, **common_cv_params)\n",
    "grid_lgb.fit(X_train, y_train)\n",
    "\n",
    "print('LGBMRegressor with categorical features')\n",
    "best_cv_models(grid_lgb, 10)"
   ]
  },
  {
   "cell_type": "markdown",
   "metadata": {},
   "source": [
    "Кросс-валидация на закодированных признаках"
   ]
  },
  {
   "cell_type": "code",
   "execution_count": 45,
   "metadata": {},
   "outputs": [
    {
     "name": "stdout",
     "output_type": "stream",
     "text": [
      "LGBMRegressor for ordinal encoded features\n",
      "Estimator: LGBMRegressor(metric='rmse', n_estimators=500, random_state=123)\n",
      "Tested 45 models on 4 folds\n",
      "Best RMSE = 1303.4696212347565\n",
      "\n",
      "CPU times: total: 2h 19min 28s\n",
      "Wall time: 9min 12s\n"
     ]
    },
    {
     "data": {
      "text/html": [
       "<div>\n",
       "<style scoped>\n",
       "    .dataframe tbody tr th:only-of-type {\n",
       "        vertical-align: middle;\n",
       "    }\n",
       "\n",
       "    .dataframe tbody tr th {\n",
       "        vertical-align: top;\n",
       "    }\n",
       "\n",
       "    .dataframe thead th {\n",
       "        text-align: right;\n",
       "    }\n",
       "</style>\n",
       "<table border=\"1\" class=\"dataframe\">\n",
       "  <thead>\n",
       "    <tr style=\"text-align: right;\">\n",
       "      <th></th>\n",
       "      <th>RMSE test, €</th>\n",
       "      <th>RMSE train, €</th>\n",
       "      <th>fit time, s</th>\n",
       "      <th>score time, s</th>\n",
       "      <th>learning_rate</th>\n",
       "      <th>max_depth</th>\n",
       "      <th>num_leaves</th>\n",
       "    </tr>\n",
       "  </thead>\n",
       "  <tbody>\n",
       "    <tr>\n",
       "      <th>0</th>\n",
       "      <td>1303.469621</td>\n",
       "      <td>1092.643536</td>\n",
       "      <td>3.883001</td>\n",
       "      <td>0.242500</td>\n",
       "      <td>0.05</td>\n",
       "      <td>30</td>\n",
       "      <td>250</td>\n",
       "    </tr>\n",
       "    <tr>\n",
       "      <th>1</th>\n",
       "      <td>1303.916829</td>\n",
       "      <td>1092.287598</td>\n",
       "      <td>4.328499</td>\n",
       "      <td>0.260999</td>\n",
       "      <td>0.05</td>\n",
       "      <td>40</td>\n",
       "      <td>250</td>\n",
       "    </tr>\n",
       "    <tr>\n",
       "      <th>2</th>\n",
       "      <td>1303.926436</td>\n",
       "      <td>1092.300012</td>\n",
       "      <td>4.166000</td>\n",
       "      <td>0.243000</td>\n",
       "      <td>0.05</td>\n",
       "      <td>50</td>\n",
       "      <td>250</td>\n",
       "    </tr>\n",
       "    <tr>\n",
       "      <th>3</th>\n",
       "      <td>1304.375261</td>\n",
       "      <td>1097.353393</td>\n",
       "      <td>3.859500</td>\n",
       "      <td>0.273250</td>\n",
       "      <td>0.05</td>\n",
       "      <td>20</td>\n",
       "      <td>250</td>\n",
       "    </tr>\n",
       "    <tr>\n",
       "      <th>4</th>\n",
       "      <td>1308.028313</td>\n",
       "      <td>1119.364081</td>\n",
       "      <td>1.878499</td>\n",
       "      <td>0.166251</td>\n",
       "      <td>0.10</td>\n",
       "      <td>20</td>\n",
       "      <td>100</td>\n",
       "    </tr>\n",
       "    <tr>\n",
       "      <th>5</th>\n",
       "      <td>1308.303432</td>\n",
       "      <td>1012.388732</td>\n",
       "      <td>4.494250</td>\n",
       "      <td>0.289750</td>\n",
       "      <td>0.10</td>\n",
       "      <td>40</td>\n",
       "      <td>250</td>\n",
       "    </tr>\n",
       "    <tr>\n",
       "      <th>6</th>\n",
       "      <td>1308.404338</td>\n",
       "      <td>1119.192594</td>\n",
       "      <td>1.863000</td>\n",
       "      <td>0.162500</td>\n",
       "      <td>0.10</td>\n",
       "      <td>30</td>\n",
       "      <td>100</td>\n",
       "    </tr>\n",
       "    <tr>\n",
       "      <th>7</th>\n",
       "      <td>1308.972134</td>\n",
       "      <td>1012.469246</td>\n",
       "      <td>4.239750</td>\n",
       "      <td>0.239751</td>\n",
       "      <td>0.10</td>\n",
       "      <td>50</td>\n",
       "      <td>250</td>\n",
       "    </tr>\n",
       "    <tr>\n",
       "      <th>8</th>\n",
       "      <td>1309.129814</td>\n",
       "      <td>1119.653207</td>\n",
       "      <td>1.878499</td>\n",
       "      <td>0.160751</td>\n",
       "      <td>0.10</td>\n",
       "      <td>40</td>\n",
       "      <td>100</td>\n",
       "    </tr>\n",
       "    <tr>\n",
       "      <th>9</th>\n",
       "      <td>1309.129814</td>\n",
       "      <td>1119.653207</td>\n",
       "      <td>2.075500</td>\n",
       "      <td>0.179751</td>\n",
       "      <td>0.10</td>\n",
       "      <td>50</td>\n",
       "      <td>100</td>\n",
       "    </tr>\n",
       "  </tbody>\n",
       "</table>\n",
       "</div>"
      ],
      "text/plain": [
       "   RMSE test, €  RMSE train, €  fit time, s  score time, s  learning_rate  \\\n",
       "0   1303.469621    1092.643536     3.883001       0.242500           0.05   \n",
       "1   1303.916829    1092.287598     4.328499       0.260999           0.05   \n",
       "2   1303.926436    1092.300012     4.166000       0.243000           0.05   \n",
       "3   1304.375261    1097.353393     3.859500       0.273250           0.05   \n",
       "4   1308.028313    1119.364081     1.878499       0.166251           0.10   \n",
       "5   1308.303432    1012.388732     4.494250       0.289750           0.10   \n",
       "6   1308.404338    1119.192594     1.863000       0.162500           0.10   \n",
       "7   1308.972134    1012.469246     4.239750       0.239751           0.10   \n",
       "8   1309.129814    1119.653207     1.878499       0.160751           0.10   \n",
       "9   1309.129814    1119.653207     2.075500       0.179751           0.10   \n",
       "\n",
       "   max_depth  num_leaves  \n",
       "0         30         250  \n",
       "1         40         250  \n",
       "2         50         250  \n",
       "3         20         250  \n",
       "4         20         100  \n",
       "5         40         250  \n",
       "6         30         100  \n",
       "7         50         250  \n",
       "8         40         100  \n",
       "9         50         100  "
      ]
     },
     "execution_count": 45,
     "metadata": {},
     "output_type": "execute_result"
    }
   ],
   "source": [
    "%%time\n",
    "params = {'max_depth': [10, 20, 30, 40, 50],\n",
    "          'learning_rate': [0.05, 0.1, 0.2],\n",
    "          'num_leaves': [50, 100, 250]}\n",
    "grid_lgb_oe = GridSearchCV(LGBMRegressor(**common_lgb_params),\n",
    "                           param_grid=params, **common_cv_params)\n",
    "grid_lgb_oe.fit(X_oe_train, y_train)\n",
    "\n",
    "print('LGBMRegressor for ordinal encoded features')\n",
    "best_cv_models(grid_lgb_oe, 10)"
   ]
  },
  {
   "cell_type": "code",
   "execution_count": 46,
   "metadata": {},
   "outputs": [
    {
     "name": "stdout",
     "output_type": "stream",
     "text": [
      "LGBMRegressor for OHE encoded features\n",
      "Estimator: LGBMRegressor(metric='rmse', n_estimators=500, random_state=123)\n",
      "Tested 45 models on 4 folds\n",
      "Best RMSE = 1301.6838975154194\n",
      "\n",
      "CPU times: total: 2h 48min 46s\n",
      "Wall time: 14min 35s\n"
     ]
    },
    {
     "data": {
      "text/html": [
       "<div>\n",
       "<style scoped>\n",
       "    .dataframe tbody tr th:only-of-type {\n",
       "        vertical-align: middle;\n",
       "    }\n",
       "\n",
       "    .dataframe tbody tr th {\n",
       "        vertical-align: top;\n",
       "    }\n",
       "\n",
       "    .dataframe thead th {\n",
       "        text-align: right;\n",
       "    }\n",
       "</style>\n",
       "<table border=\"1\" class=\"dataframe\">\n",
       "  <thead>\n",
       "    <tr style=\"text-align: right;\">\n",
       "      <th></th>\n",
       "      <th>RMSE test, €</th>\n",
       "      <th>RMSE train, €</th>\n",
       "      <th>fit time, s</th>\n",
       "      <th>score time, s</th>\n",
       "      <th>learning_rate</th>\n",
       "      <th>max_depth</th>\n",
       "      <th>num_leaves</th>\n",
       "    </tr>\n",
       "  </thead>\n",
       "  <tbody>\n",
       "    <tr>\n",
       "      <th>0</th>\n",
       "      <td>1301.683898</td>\n",
       "      <td>1105.680208</td>\n",
       "      <td>5.517088</td>\n",
       "      <td>0.416499</td>\n",
       "      <td>0.05</td>\n",
       "      <td>50</td>\n",
       "      <td>250</td>\n",
       "    </tr>\n",
       "    <tr>\n",
       "      <th>1</th>\n",
       "      <td>1301.922346</td>\n",
       "      <td>1107.067922</td>\n",
       "      <td>5.675999</td>\n",
       "      <td>0.400500</td>\n",
       "      <td>0.05</td>\n",
       "      <td>40</td>\n",
       "      <td>250</td>\n",
       "    </tr>\n",
       "    <tr>\n",
       "      <th>2</th>\n",
       "      <td>1302.765558</td>\n",
       "      <td>1113.977309</td>\n",
       "      <td>5.287930</td>\n",
       "      <td>0.413749</td>\n",
       "      <td>0.05</td>\n",
       "      <td>30</td>\n",
       "      <td>250</td>\n",
       "    </tr>\n",
       "    <tr>\n",
       "      <th>3</th>\n",
       "      <td>1305.719480</td>\n",
       "      <td>1141.019531</td>\n",
       "      <td>4.896500</td>\n",
       "      <td>0.418500</td>\n",
       "      <td>0.05</td>\n",
       "      <td>20</td>\n",
       "      <td>250</td>\n",
       "    </tr>\n",
       "    <tr>\n",
       "      <th>4</th>\n",
       "      <td>1305.748311</td>\n",
       "      <td>1077.635072</td>\n",
       "      <td>4.718250</td>\n",
       "      <td>0.441501</td>\n",
       "      <td>0.10</td>\n",
       "      <td>20</td>\n",
       "      <td>250</td>\n",
       "    </tr>\n",
       "    <tr>\n",
       "      <th>5</th>\n",
       "      <td>1306.430869</td>\n",
       "      <td>1042.298954</td>\n",
       "      <td>5.197893</td>\n",
       "      <td>0.422002</td>\n",
       "      <td>0.10</td>\n",
       "      <td>30</td>\n",
       "      <td>250</td>\n",
       "    </tr>\n",
       "    <tr>\n",
       "      <th>6</th>\n",
       "      <td>1306.716847</td>\n",
       "      <td>1032.849884</td>\n",
       "      <td>5.768500</td>\n",
       "      <td>0.413999</td>\n",
       "      <td>0.10</td>\n",
       "      <td>50</td>\n",
       "      <td>250</td>\n",
       "    </tr>\n",
       "    <tr>\n",
       "      <th>7</th>\n",
       "      <td>1306.767360</td>\n",
       "      <td>1142.462409</td>\n",
       "      <td>3.063433</td>\n",
       "      <td>0.275500</td>\n",
       "      <td>0.10</td>\n",
       "      <td>50</td>\n",
       "      <td>100</td>\n",
       "    </tr>\n",
       "    <tr>\n",
       "      <th>8</th>\n",
       "      <td>1306.968118</td>\n",
       "      <td>1142.017008</td>\n",
       "      <td>3.157908</td>\n",
       "      <td>0.284501</td>\n",
       "      <td>0.10</td>\n",
       "      <td>30</td>\n",
       "      <td>100</td>\n",
       "    </tr>\n",
       "    <tr>\n",
       "      <th>9</th>\n",
       "      <td>1307.101454</td>\n",
       "      <td>1034.014286</td>\n",
       "      <td>5.497483</td>\n",
       "      <td>0.414499</td>\n",
       "      <td>0.10</td>\n",
       "      <td>40</td>\n",
       "      <td>250</td>\n",
       "    </tr>\n",
       "  </tbody>\n",
       "</table>\n",
       "</div>"
      ],
      "text/plain": [
       "   RMSE test, €  RMSE train, €  fit time, s  score time, s  learning_rate  \\\n",
       "0   1301.683898    1105.680208     5.517088       0.416499           0.05   \n",
       "1   1301.922346    1107.067922     5.675999       0.400500           0.05   \n",
       "2   1302.765558    1113.977309     5.287930       0.413749           0.05   \n",
       "3   1305.719480    1141.019531     4.896500       0.418500           0.05   \n",
       "4   1305.748311    1077.635072     4.718250       0.441501           0.10   \n",
       "5   1306.430869    1042.298954     5.197893       0.422002           0.10   \n",
       "6   1306.716847    1032.849884     5.768500       0.413999           0.10   \n",
       "7   1306.767360    1142.462409     3.063433       0.275500           0.10   \n",
       "8   1306.968118    1142.017008     3.157908       0.284501           0.10   \n",
       "9   1307.101454    1034.014286     5.497483       0.414499           0.10   \n",
       "\n",
       "   max_depth  num_leaves  \n",
       "0         50         250  \n",
       "1         40         250  \n",
       "2         30         250  \n",
       "3         20         250  \n",
       "4         20         250  \n",
       "5         30         250  \n",
       "6         50         250  \n",
       "7         50         100  \n",
       "8         30         100  \n",
       "9         40         250  "
      ]
     },
     "execution_count": 46,
     "metadata": {},
     "output_type": "execute_result"
    }
   ],
   "source": [
    "%%time\n",
    "params = {'max_depth': [10, 20, 30, 40, 50],\n",
    "          'learning_rate': [0.05, 0.1, 0.2],\n",
    "          'num_leaves': [50, 100, 250]}\n",
    "grid_lgb_ohe = GridSearchCV(LGBMRegressor(**common_lgb_params),\n",
    "                           param_grid=params, **common_cv_params)\n",
    "grid_lgb_ohe.fit(X_ohe_train, y_train)\n",
    "\n",
    "print('LGBMRegressor for OHE encoded features')\n",
    "best_cv_models(grid_lgb_ohe, 10)"
   ]
  },
  {
   "cell_type": "markdown",
   "metadata": {},
   "source": [
    "- Наилучшие результаты показали модели регрессора, обученные на наборе данных с категориальными признаками.\n",
    "- В отличие от `CatBoostRegressor` нет такой сильной зависимости времени обучения от глубины деревьев \n",
    "- Судя по значениям процессорного времени рассчётов `LGBM` использует вычислительные мощности ядер более эффективно, чем `CatBoost` "
   ]
  },
  {
   "cell_type": "code",
   "execution_count": 47,
   "metadata": {},
   "outputs": [],
   "source": [
    "models['LGBM'] = {\n",
    "    'raw': LGBMRegressor(**common_lgb_params, **grid_lgb.best_params_),\n",
    "    'OE' : LGBMRegressor(**common_lgb_params, **grid_lgb_oe.best_params_),\n",
    "    'OHE': LGBMRegressor(**common_lgb_params, **grid_lgb_ohe.best_params_)\n",
    "}"
   ]
  },
  {
   "cell_type": "markdown",
   "metadata": {},
   "source": [
    "## Анализ моделей"
   ]
  },
  {
   "cell_type": "markdown",
   "metadata": {},
   "source": [
    "Вычислим метрику, время обучения и предсказания на тестовой выборке для лучших из протестированных моделей. Запишем значения в таблицу\n",
    "\n",
    "Для этого подготовим функцию для обучения модели, создания предсказаний и вычисления RMSE"
   ]
  },
  {
   "cell_type": "code",
   "execution_count": 48,
   "metadata": {},
   "outputs": [],
   "source": [
    "def test_model(model, X_train, y_train, X_test, y_test):\n",
    "    ''' \n",
    "    - Обучение модели `model` на выборках `X_train`, `y_train`\n",
    "    - Предсказание обученной модели на наборе `X_test`\n",
    "    - Вычисление RMSE на полученных предсказаниях и наборе `y_test`\n",
    "    \n",
    "    Возвращает RMSE, время обучения, время пердсказаний в виде словаря\n",
    "    '''\n",
    "    # обучение\n",
    "    t_beg = time.time()\n",
    "    model.fit(X_train, y_train)\n",
    "    time_fit = time.time() - t_beg\n",
    "    # предсказания\n",
    "    t_beg = time.time()\n",
    "    y_pred = model.predict(X_test)\n",
    "    time_predict = time.time() - t_beg\n",
    "    # метрика\n",
    "    rmse = mean_squared_error(y_test, y_pred, squared=False)\n",
    "\n",
    "    return {'RMSE, €': rmse,\n",
    "            'fit time, s': time_fit,\n",
    "            'predict time, s':time_predict}"
   ]
  },
  {
   "cell_type": "markdown",
   "metadata": {},
   "source": [
    "В цикле по всем моделям, записанным в список `models`, вычислим показатели этих моделей для предсказания значений _Price_ на тестовой выборке"
   ]
  },
  {
   "cell_type": "code",
   "execution_count": 49,
   "metadata": {},
   "outputs": [
    {
     "data": {
      "application/vnd.jupyter.widget-view+json": {
       "model_id": "39cb60301e804ad3a40a0def3fb56a6f",
       "version_major": 2,
       "version_minor": 0
      },
      "text/plain": [
       "  0%|          | 0/4 [00:00<?, ?it/s]"
      ]
     },
     "metadata": {},
     "output_type": "display_data"
    },
    {
     "data": {
      "text/html": [
       "<div>\n",
       "<style scoped>\n",
       "    .dataframe tbody tr th:only-of-type {\n",
       "        vertical-align: middle;\n",
       "    }\n",
       "\n",
       "    .dataframe tbody tr th {\n",
       "        vertical-align: top;\n",
       "    }\n",
       "\n",
       "    .dataframe thead th {\n",
       "        text-align: right;\n",
       "    }\n",
       "</style>\n",
       "<table border=\"1\" class=\"dataframe\">\n",
       "  <thead>\n",
       "    <tr style=\"text-align: right;\">\n",
       "      <th></th>\n",
       "      <th></th>\n",
       "      <th>RMSE, €</th>\n",
       "      <th>fit time, s</th>\n",
       "      <th>predict time, s</th>\n",
       "    </tr>\n",
       "  </thead>\n",
       "  <tbody>\n",
       "    <tr>\n",
       "      <th rowspan=\"2\" valign=\"top\">Linear</th>\n",
       "      <th>OE</th>\n",
       "      <td>2413.802155</td>\n",
       "      <td>0.025003</td>\n",
       "      <td>0.002002</td>\n",
       "    </tr>\n",
       "    <tr>\n",
       "      <th>OHE</th>\n",
       "      <td>2086.093965</td>\n",
       "      <td>1.502996</td>\n",
       "      <td>0.055002</td>\n",
       "    </tr>\n",
       "    <tr>\n",
       "      <th rowspan=\"2\" valign=\"top\">DecisionTree</th>\n",
       "      <th>OE</th>\n",
       "      <td>1460.061747</td>\n",
       "      <td>0.417000</td>\n",
       "      <td>0.010000</td>\n",
       "    </tr>\n",
       "    <tr>\n",
       "      <th>OHE</th>\n",
       "      <td>1446.725959</td>\n",
       "      <td>3.967000</td>\n",
       "      <td>0.057000</td>\n",
       "    </tr>\n",
       "    <tr>\n",
       "      <th rowspan=\"3\" valign=\"top\">CatBoost</th>\n",
       "      <th>raw</th>\n",
       "      <td>1363.544482</td>\n",
       "      <td>38.058457</td>\n",
       "      <td>0.039999</td>\n",
       "    </tr>\n",
       "    <tr>\n",
       "      <th>OE</th>\n",
       "      <td>1311.909811</td>\n",
       "      <td>6.760127</td>\n",
       "      <td>0.008997</td>\n",
       "    </tr>\n",
       "    <tr>\n",
       "      <th>OHE</th>\n",
       "      <td>1308.216843</td>\n",
       "      <td>7.165243</td>\n",
       "      <td>0.035997</td>\n",
       "    </tr>\n",
       "    <tr>\n",
       "      <th rowspan=\"3\" valign=\"top\">LGBM</th>\n",
       "      <th>raw</th>\n",
       "      <td>1274.278724</td>\n",
       "      <td>5.523000</td>\n",
       "      <td>0.355999</td>\n",
       "    </tr>\n",
       "    <tr>\n",
       "      <th>OE</th>\n",
       "      <td>1284.653189</td>\n",
       "      <td>4.252999</td>\n",
       "      <td>0.227000</td>\n",
       "    </tr>\n",
       "    <tr>\n",
       "      <th>OHE</th>\n",
       "      <td>1282.267114</td>\n",
       "      <td>5.396999</td>\n",
       "      <td>0.370002</td>\n",
       "    </tr>\n",
       "  </tbody>\n",
       "</table>\n",
       "</div>"
      ],
      "text/plain": [
       "                      RMSE, €  fit time, s  predict time, s\n",
       "Linear       OE   2413.802155     0.025003         0.002002\n",
       "             OHE  2086.093965     1.502996         0.055002\n",
       "DecisionTree OE   1460.061747     0.417000         0.010000\n",
       "             OHE  1446.725959     3.967000         0.057000\n",
       "CatBoost     raw  1363.544482    38.058457         0.039999\n",
       "             OE   1311.909811     6.760127         0.008997\n",
       "             OHE  1308.216843     7.165243         0.035997\n",
       "LGBM         raw  1274.278724     5.523000         0.355999\n",
       "             OE   1284.653189     4.252999         0.227000\n",
       "             OHE  1282.267114     5.396999         0.370002"
      ]
     },
     "execution_count": 49,
     "metadata": {},
     "output_type": "execute_result"
    }
   ],
   "source": [
    "scores_table = {}\n",
    "\n",
    "for name, regressor in tqdm(models.items()):\n",
    "    for f, model in regressor.items():\n",
    "        scores_table[name, f] = test_model(model, X[f][0], y_train, X[f][1], y_test) \n",
    "\n",
    "scores_table = pd.DataFrame(scores_table).T\n",
    "scores_table"
   ]
  },
  {
   "cell_type": "markdown",
   "metadata": {},
   "source": [
    "По условию при выборе модели важны: качество предсказания, скорость предсказания, время обучения.\n",
    "\n",
    "1. Несмотря на небольшее время обучения моделей `LinearRegression` и `DecisionTreeRegressor` качество предсказаний у них самое низкое. Не стоит их рассматривать\n",
    "2. `LightGBM` показал самое лучшее качество предсказаний и меньшее по сравнению с `CatBoost` время обучения\n",
    "3. `CatBoost` превосходит `LightGBM` тиолько по скорости предсказаний.\n",
    "\n",
    "По этим причинам лучше отдать предмочтение модели `LightGBM`"
   ]
  }
 ],
 "metadata": {
  "kernelspec": {
   "display_name": "Python 3.9.10 ('main')",
   "language": "python",
   "name": "python3"
  },
  "language_info": {
   "codemirror_mode": {
    "name": "ipython",
    "version": 3
   },
   "file_extension": ".py",
   "mimetype": "text/x-python",
   "name": "python",
   "nbconvert_exporter": "python",
   "pygments_lexer": "ipython3",
   "version": "3.9.10"
  },
  "toc": {
   "base_numbering": 1,
   "nav_menu": {},
   "number_sections": true,
   "sideBar": true,
   "skip_h1_title": true,
   "title_cell": "Содержание",
   "title_sidebar": "Contents",
   "toc_cell": true,
   "toc_position": {},
   "toc_section_display": true,
   "toc_window_display": true
  },
  "vscode": {
   "interpreter": {
    "hash": "58656f4d27507c1cf066d160953941131aeedc5e8ddd25f7cf3d9165a5f5fe3d"
   }
  }
 },
 "nbformat": 4,
 "nbformat_minor": 2
}
